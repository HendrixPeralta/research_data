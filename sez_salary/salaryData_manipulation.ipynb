{
 "cells": [
  {
   "cell_type": "code",
   "execution_count": 2,
   "id": "751513d5-5af4-4e1e-a80b-4cafd650345f",
   "metadata": {},
   "outputs": [],
   "source": [
    "import pandas as pd"
   ]
  },
  {
   "cell_type": "code",
   "execution_count": 3,
   "id": "f8ea19a0-7073-4029-b442-423f8691ff7f",
   "metadata": {},
   "outputs": [],
   "source": [
    "sal00 = pd.read_csv(\"sal_op00.csv\")"
   ]
  },
  {
   "cell_type": "code",
   "execution_count": 4,
   "id": "3b8248a3-6fc7-4369-a175-b08707d3fbad",
   "metadata": {},
   "outputs": [],
   "source": [
    "sal01 = pd.read_csv(\"sal_op01.csv\")"
   ]
  },
  {
   "cell_type": "code",
   "execution_count": 5,
   "id": "803c9782-67c7-4953-a41a-2bd0a9901fcf",
   "metadata": {},
   "outputs": [],
   "source": [
    "sal02 = pd.read_csv(\"sal_op02.csv\")"
   ]
  },
  {
   "cell_type": "code",
   "execution_count": 6,
   "id": "9dfa671b-6086-4799-aa1f-5a54a1e8c75c",
   "metadata": {},
   "outputs": [],
   "source": [
    "sal03_04 = pd.read_csv(\"sal_op03-04.csv\", encoding = \"cp1252\")"
   ]
  },
  {
   "cell_type": "code",
   "execution_count": 7,
   "id": "9102a86d-1ed1-4361-bf66-2f5ea19c0af0",
   "metadata": {},
   "outputs": [],
   "source": [
    "sal05_06 = pd.read_csv(\"sal_op05-06.csv\", encoding = \"utf-8-sig\")"
   ]
  },
  {
   "cell_type": "code",
   "execution_count": 8,
   "id": "4cb9726f-2f93-4f7f-8fc0-ff4fa4fc1ed0",
   "metadata": {},
   "outputs": [],
   "source": [
    "sal07_08 = pd.read_csv(\"sal_op07-08.csv\", encoding = \"utf-8-sig\")"
   ]
  },
  {
   "cell_type": "code",
   "execution_count": 9,
   "id": "0d8d3af6-5dcd-453a-9b39-df568bc744f5",
   "metadata": {},
   "outputs": [],
   "source": [
    "sal09_10 = pd.read_csv(\"sal_op09-10.csv\", encoding = \"utf-8-sig\")"
   ]
  },
  {
   "cell_type": "code",
   "execution_count": 10,
   "id": "0aac2647-14e4-49e2-8521-137ee0db8561",
   "metadata": {},
   "outputs": [],
   "source": [
    "sal11_12 = pd.read_csv(\"sal_op11-12.csv\", encoding = \"cp1252\")"
   ]
  },
  {
   "cell_type": "code",
   "execution_count": 11,
   "id": "ec9952c0-baad-4a6b-ad5d-e95ba3769c20",
   "metadata": {},
   "outputs": [],
   "source": [
    "sal13_14 = pd.read_csv(\"sal_op13-14.csv\", encoding = \"cp1252\")"
   ]
  },
  {
   "cell_type": "code",
   "execution_count": 12,
   "id": "a9adc3d9-112a-46ba-9ba6-902b9f28748d",
   "metadata": {},
   "outputs": [],
   "source": [
    "sal15_16 = pd.read_csv(\"sal_op15-16.csv\", encoding = \"cp1252\")"
   ]
  },
  {
   "cell_type": "code",
   "execution_count": 13,
   "id": "7a4bb72e-a372-4433-b756-c517627e8fba",
   "metadata": {},
   "outputs": [],
   "source": [
    "def f(df):\n",
    "    m = ~df.columns.str.contains(\"par\", case=False)\n",
    "    return df.loc[:, m]"
   ]
  },
  {
   "cell_type": "code",
   "execution_count": null,
   "id": "33513f06-f09f-41be-b48d-225a138cedae",
   "metadata": {},
   "outputs": [],
   "source": []
  },
  {
   "cell_type": "code",
   "execution_count": 14,
   "id": "3c1689a4-93c3-421e-946d-3334451db855",
   "metadata": {},
   "outputs": [],
   "source": [
    "databases = [sal02, sal03_04, sal05_06, sal07_08, sal09_10, sal11_12, sal13_14, sal15_16]"
   ]
  },
  {
   "cell_type": "code",
   "execution_count": 15,
   "id": "dd243629-9bb4-4298-b0d1-fc1a3252876f",
   "metadata": {},
   "outputs": [],
   "source": [
    "def f(df):\n",
    "    return df.drop(columns=df.columns[df.columns.str.contains(\"par\")])"
   ]
  },
  {
   "cell_type": "code",
   "execution_count": 16,
   "id": "120acaa9-f70a-47aa-b86a-3dbe3eb8533f",
   "metadata": {},
   "outputs": [],
   "source": [
    "sal_agg_00_16 = pd.merge(sal00, f(sal01), on=\"code\", how=\"outer\")"
   ]
  },
  {
   "cell_type": "code",
   "execution_count": 17,
   "id": "fe8c2557-1b2c-4893-8f34-b220d91d3d2c",
   "metadata": {},
   "outputs": [],
   "source": [
    "for database in databases: \n",
    "    sal_agg_00_16 = pd.merge(sal_agg_00_16, f(database), on=\"code\", how=\"outer\")"
   ]
  },
  {
   "cell_type": "code",
   "execution_count": null,
   "id": "c381978a-710c-425b-a913-74a109daa1c1",
   "metadata": {},
   "outputs": [],
   "source": []
  },
  {
   "cell_type": "code",
   "execution_count": 18,
   "id": "2b23d078-7ee9-4c68-8b82-4d07ed2d0f82",
   "metadata": {},
   "outputs": [],
   "source": [
    "sal_agg_00_16.replace(\"N/D\", 0, inplace=True)"
   ]
  },
  {
   "cell_type": "code",
   "execution_count": 19,
   "id": "5bd208a6-3d05-4620-9e6d-b1f3cc97255e",
   "metadata": {},
   "outputs": [],
   "source": [
    "sal_agg_00_16.fillna(0, inplace=True)"
   ]
  },
  {
   "cell_type": "code",
   "execution_count": 20,
   "id": "6c98b00f-d1ff-43ca-b2ed-7ee41e811d34",
   "metadata": {},
   "outputs": [],
   "source": [
    "sal_agg_00_16 = sal_agg_00_16.add_prefix(\"sal_\")"
   ]
  },
  {
   "cell_type": "code",
   "execution_count": 21,
   "id": "6643d377-f88f-46d8-8412-8752bdb5a074",
   "metadata": {},
   "outputs": [],
   "source": [
    "sal_agg_00_16.rename(columns = {\"sal_code\": \"code\"}, inplace = True)"
   ]
  },
  {
   "cell_type": "code",
   "execution_count": 22,
   "id": "759969f7-4825-44bb-8156-7cc4acf2b674",
   "metadata": {},
   "outputs": [
    {
     "data": {
      "text/plain": [
       "Index(['code', 'sal_Parques_x', 'sal_op00', 'sal_tec00', 'sal_op01',\n",
       "       'sal_tec01', 'sal_Parques_y', 'sal_op02', 'sal_tec02', 'sal_op03',\n",
       "       'sal_op04', 'sal_tec03', 'sal_tec04', 'sal_Location', 'sal_op05',\n",
       "       'sal_op06', 'sal_tec05', 'sal_tec06', 'sal_op07', 'sal_op08',\n",
       "       'sal_tec07', 'sal_tec08', 'sal_op09', 'sal_op10', 'sal_tec09',\n",
       "       'sal_tec10', 'sal_op11', 'sal_op12', 'sal_tec11', 'sal_tec12',\n",
       "       'sal_op13', 'sal_op14', 'sal_tec13', 'sal_tec14', 'sal_op15',\n",
       "       'sal_op16', 'sal_tec15', 'sal_tec16'],\n",
       "      dtype='object')"
      ]
     },
     "execution_count": 22,
     "metadata": {},
     "output_type": "execute_result"
    }
   ],
   "source": [
    "sal_agg_00_16.columns"
   ]
  },
  {
   "cell_type": "code",
   "execution_count": 23,
   "id": "2f940046-13db-4e67-8c1c-0840e773784f",
   "metadata": {},
   "outputs": [],
   "source": [
    "op = sal_agg_00_16.columns.str.contains(\"op\")|(sal_agg_00_16.columns==\"code\")\n",
    "sal_op_00_16 = sal_agg_00_16[sal_agg_00_16.columns[op]]"
   ]
  },
  {
   "cell_type": "code",
   "execution_count": 24,
   "id": "5a0c3733-4bfd-421d-8f84-07462cdf877d",
   "metadata": {},
   "outputs": [],
   "source": [
    "tec = sal_agg_00_16.columns.str.contains(\"tec\")|(sal_agg_00_16.columns==\"code\")\n",
    "sal_tec_00_16 = sal_agg_00_16[sal_agg_00_16.columns[tec]]"
   ]
  },
  {
   "cell_type": "code",
   "execution_count": 25,
   "id": "a5dca92e-ba25-4db0-a438-6bd9ebee7e86",
   "metadata": {},
   "outputs": [
    {
     "data": {
      "text/html": [
       "<div>\n",
       "<style scoped>\n",
       "    .dataframe tbody tr th:only-of-type {\n",
       "        vertical-align: middle;\n",
       "    }\n",
       "\n",
       "    .dataframe tbody tr th {\n",
       "        vertical-align: top;\n",
       "    }\n",
       "\n",
       "    .dataframe thead th {\n",
       "        text-align: right;\n",
       "    }\n",
       "</style>\n",
       "<table border=\"1\" class=\"dataframe\">\n",
       "  <thead>\n",
       "    <tr style=\"text-align: right;\">\n",
       "      <th></th>\n",
       "      <th>code</th>\n",
       "      <th>sal_op00</th>\n",
       "      <th>sal_op01</th>\n",
       "      <th>sal_op02</th>\n",
       "      <th>sal_op03</th>\n",
       "      <th>sal_op04</th>\n",
       "      <th>sal_op05</th>\n",
       "      <th>sal_op06</th>\n",
       "      <th>sal_op07</th>\n",
       "      <th>sal_op08</th>\n",
       "      <th>sal_op09</th>\n",
       "      <th>sal_op10</th>\n",
       "      <th>sal_op11</th>\n",
       "      <th>sal_op12</th>\n",
       "      <th>sal_op13</th>\n",
       "      <th>sal_op14</th>\n",
       "      <th>sal_op15</th>\n",
       "      <th>sal_op16</th>\n",
       "    </tr>\n",
       "  </thead>\n",
       "  <tbody>\n",
       "    <tr>\n",
       "      <th>0</th>\n",
       "      <td>DOM-6NO</td>\n",
       "      <td>0.00</td>\n",
       "      <td>0</td>\n",
       "      <td>0.00</td>\n",
       "      <td>0.00</td>\n",
       "      <td>0.00</td>\n",
       "      <td>0.00</td>\n",
       "      <td>0.00</td>\n",
       "      <td>0.00</td>\n",
       "      <td>0.00</td>\n",
       "      <td>0.00</td>\n",
       "      <td>0.00</td>\n",
       "      <td>0.00</td>\n",
       "      <td>0.00</td>\n",
       "      <td>0.00</td>\n",
       "      <td>0.00</td>\n",
       "      <td>0.00</td>\n",
       "      <td>2200.00</td>\n",
       "    </tr>\n",
       "    <tr>\n",
       "      <th>1</th>\n",
       "      <td>DOM-ALC</td>\n",
       "      <td>620.42</td>\n",
       "      <td>680.92</td>\n",
       "      <td>653.39</td>\n",
       "      <td>810.29</td>\n",
       "      <td>954.82</td>\n",
       "      <td>1177.06</td>\n",
       "      <td>1510.24</td>\n",
       "      <td>1781.92</td>\n",
       "      <td>1479.66</td>\n",
       "      <td>1779.23</td>\n",
       "      <td>1741.88</td>\n",
       "      <td>1986.42</td>\n",
       "      <td>1801.43</td>\n",
       "      <td>1790.85</td>\n",
       "      <td>2095.67</td>\n",
       "      <td>2491.69</td>\n",
       "      <td>2746.32</td>\n",
       "    </tr>\n",
       "    <tr>\n",
       "      <th>2</th>\n",
       "      <td>DOM-ALT</td>\n",
       "      <td>702.00</td>\n",
       "      <td>743.43</td>\n",
       "      <td>629.28</td>\n",
       "      <td>815.62</td>\n",
       "      <td>957.67</td>\n",
       "      <td>1324.23</td>\n",
       "      <td>1289.14</td>\n",
       "      <td>1485.51</td>\n",
       "      <td>1524.72</td>\n",
       "      <td>1379.75</td>\n",
       "      <td>1506.13</td>\n",
       "      <td>2140.53</td>\n",
       "      <td>2308.81</td>\n",
       "      <td>2322.83</td>\n",
       "      <td>3041.68</td>\n",
       "      <td>2906.62</td>\n",
       "      <td>3321.40</td>\n",
       "    </tr>\n",
       "    <tr>\n",
       "      <th>3</th>\n",
       "      <td>DOM-AND</td>\n",
       "      <td>0.00</td>\n",
       "      <td>0</td>\n",
       "      <td>0.00</td>\n",
       "      <td>0.00</td>\n",
       "      <td>0.00</td>\n",
       "      <td>0.00</td>\n",
       "      <td>0.00</td>\n",
       "      <td>0.00</td>\n",
       "      <td>0.00</td>\n",
       "      <td>1945.00</td>\n",
       "      <td>0.00</td>\n",
       "      <td>0.00</td>\n",
       "      <td>4281.25</td>\n",
       "      <td>2664.46</td>\n",
       "      <td>2168.65</td>\n",
       "      <td>3838.76</td>\n",
       "      <td>4000.00</td>\n",
       "    </tr>\n",
       "    <tr>\n",
       "      <th>4</th>\n",
       "      <td>DOM-ARM</td>\n",
       "      <td>898.90</td>\n",
       "      <td>660.51</td>\n",
       "      <td>621.69</td>\n",
       "      <td>770.94</td>\n",
       "      <td>897.30</td>\n",
       "      <td>1096.79</td>\n",
       "      <td>1249.54</td>\n",
       "      <td>1600.00</td>\n",
       "      <td>1700.00</td>\n",
       "      <td>2272.30</td>\n",
       "      <td>1833.90</td>\n",
       "      <td>2094.60</td>\n",
       "      <td>2008.12</td>\n",
       "      <td>2015.80</td>\n",
       "      <td>2125.79</td>\n",
       "      <td>2354.15</td>\n",
       "      <td>2076.28</td>\n",
       "    </tr>\n",
       "    <tr>\n",
       "      <th>...</th>\n",
       "      <td>...</td>\n",
       "      <td>...</td>\n",
       "      <td>...</td>\n",
       "      <td>...</td>\n",
       "      <td>...</td>\n",
       "      <td>...</td>\n",
       "      <td>...</td>\n",
       "      <td>...</td>\n",
       "      <td>...</td>\n",
       "      <td>...</td>\n",
       "      <td>...</td>\n",
       "      <td>...</td>\n",
       "      <td>...</td>\n",
       "      <td>...</td>\n",
       "      <td>...</td>\n",
       "      <td>...</td>\n",
       "      <td>...</td>\n",
       "      <td>...</td>\n",
       "    </tr>\n",
       "    <tr>\n",
       "      <th>82</th>\n",
       "      <td>DOM-TAM</td>\n",
       "      <td>650.00</td>\n",
       "      <td>700</td>\n",
       "      <td>725.00</td>\n",
       "      <td>1288.25</td>\n",
       "      <td>883.75</td>\n",
       "      <td>1362.83</td>\n",
       "      <td>1499.25</td>\n",
       "      <td>1130.78</td>\n",
       "      <td>1420.51</td>\n",
       "      <td>2533.26</td>\n",
       "      <td>1986.50</td>\n",
       "      <td>1671.20</td>\n",
       "      <td>2065.50</td>\n",
       "      <td>2221.74</td>\n",
       "      <td>2189.50</td>\n",
       "      <td>2305.13</td>\n",
       "      <td>2393.55</td>\n",
       "    </tr>\n",
       "    <tr>\n",
       "      <th>83</th>\n",
       "      <td>DOM-VEG</td>\n",
       "      <td>716.77</td>\n",
       "      <td>720.88</td>\n",
       "      <td>779.86</td>\n",
       "      <td>846.96</td>\n",
       "      <td>1024.40</td>\n",
       "      <td>1170.43</td>\n",
       "      <td>1233.65</td>\n",
       "      <td>1281.53</td>\n",
       "      <td>1358.65</td>\n",
       "      <td>1329.78</td>\n",
       "      <td>1466.29</td>\n",
       "      <td>1584.76</td>\n",
       "      <td>1727.62</td>\n",
       "      <td>1894.85</td>\n",
       "      <td>1942.00</td>\n",
       "      <td>2176.73</td>\n",
       "      <td>2221.09</td>\n",
       "    </tr>\n",
       "    <tr>\n",
       "      <th>84</th>\n",
       "      <td>DOM-VIS</td>\n",
       "      <td>0.00</td>\n",
       "      <td>0</td>\n",
       "      <td>0.00</td>\n",
       "      <td>0.00</td>\n",
       "      <td>1350.00</td>\n",
       "      <td>1313.00</td>\n",
       "      <td>1900.00</td>\n",
       "      <td>0.00</td>\n",
       "      <td>1130.00</td>\n",
       "      <td>3121.00</td>\n",
       "      <td>3000.00</td>\n",
       "      <td>2561.00</td>\n",
       "      <td>3561.36</td>\n",
       "      <td>2423.70</td>\n",
       "      <td>2617.60</td>\n",
       "      <td>2750.00</td>\n",
       "      <td>2800.00</td>\n",
       "    </tr>\n",
       "    <tr>\n",
       "      <th>85</th>\n",
       "      <td>DOM-YAQ</td>\n",
       "      <td>0.00</td>\n",
       "      <td>0</td>\n",
       "      <td>0.00</td>\n",
       "      <td>0.00</td>\n",
       "      <td>0.00</td>\n",
       "      <td>0.00</td>\n",
       "      <td>0.00</td>\n",
       "      <td>0.00</td>\n",
       "      <td>0.00</td>\n",
       "      <td>0.00</td>\n",
       "      <td>1448.41</td>\n",
       "      <td>1475.00</td>\n",
       "      <td>1924.56</td>\n",
       "      <td>2270.86</td>\n",
       "      <td>2059.76</td>\n",
       "      <td>2019.23</td>\n",
       "      <td>2479.82</td>\n",
       "    </tr>\n",
       "    <tr>\n",
       "      <th>86</th>\n",
       "      <td>DOM-ZOF</td>\n",
       "      <td>765.00</td>\n",
       "      <td>802</td>\n",
       "      <td>802.00</td>\n",
       "      <td>1050.00</td>\n",
       "      <td>1319.00</td>\n",
       "      <td>1450.00</td>\n",
       "      <td>1250.00</td>\n",
       "      <td>0.00</td>\n",
       "      <td>0.00</td>\n",
       "      <td>0.00</td>\n",
       "      <td>0.00</td>\n",
       "      <td>0.00</td>\n",
       "      <td>0.00</td>\n",
       "      <td>0.00</td>\n",
       "      <td>0.00</td>\n",
       "      <td>0.00</td>\n",
       "      <td>0.00</td>\n",
       "    </tr>\n",
       "  </tbody>\n",
       "</table>\n",
       "<p>87 rows × 18 columns</p>\n",
       "</div>"
      ],
      "text/plain": [
       "       code  sal_op00 sal_op01  sal_op02  sal_op03  sal_op04  sal_op05  \\\n",
       "0   DOM-6NO      0.00        0      0.00      0.00      0.00      0.00   \n",
       "1   DOM-ALC    620.42   680.92    653.39    810.29    954.82   1177.06   \n",
       "2   DOM-ALT    702.00   743.43    629.28    815.62    957.67   1324.23   \n",
       "3   DOM-AND      0.00        0      0.00      0.00      0.00      0.00   \n",
       "4   DOM-ARM    898.90   660.51    621.69    770.94    897.30   1096.79   \n",
       "..      ...       ...      ...       ...       ...       ...       ...   \n",
       "82  DOM-TAM    650.00      700    725.00   1288.25    883.75   1362.83   \n",
       "83  DOM-VEG    716.77   720.88    779.86    846.96   1024.40   1170.43   \n",
       "84  DOM-VIS      0.00        0      0.00      0.00   1350.00   1313.00   \n",
       "85  DOM-YAQ      0.00        0      0.00      0.00      0.00      0.00   \n",
       "86  DOM-ZOF    765.00      802    802.00   1050.00   1319.00   1450.00   \n",
       "\n",
       "    sal_op06  sal_op07  sal_op08  sal_op09  sal_op10  sal_op11  sal_op12  \\\n",
       "0       0.00      0.00      0.00      0.00      0.00      0.00      0.00   \n",
       "1    1510.24   1781.92   1479.66   1779.23   1741.88   1986.42   1801.43   \n",
       "2    1289.14   1485.51   1524.72   1379.75   1506.13   2140.53   2308.81   \n",
       "3       0.00      0.00      0.00   1945.00      0.00      0.00   4281.25   \n",
       "4    1249.54   1600.00   1700.00   2272.30   1833.90   2094.60   2008.12   \n",
       "..       ...       ...       ...       ...       ...       ...       ...   \n",
       "82   1499.25   1130.78   1420.51   2533.26   1986.50   1671.20   2065.50   \n",
       "83   1233.65   1281.53   1358.65   1329.78   1466.29   1584.76   1727.62   \n",
       "84   1900.00      0.00   1130.00   3121.00   3000.00   2561.00   3561.36   \n",
       "85      0.00      0.00      0.00      0.00   1448.41   1475.00   1924.56   \n",
       "86   1250.00      0.00      0.00      0.00      0.00      0.00      0.00   \n",
       "\n",
       "    sal_op13  sal_op14  sal_op15  sal_op16  \n",
       "0       0.00      0.00      0.00   2200.00  \n",
       "1    1790.85   2095.67   2491.69   2746.32  \n",
       "2    2322.83   3041.68   2906.62   3321.40  \n",
       "3    2664.46   2168.65   3838.76   4000.00  \n",
       "4    2015.80   2125.79   2354.15   2076.28  \n",
       "..       ...       ...       ...       ...  \n",
       "82   2221.74   2189.50   2305.13   2393.55  \n",
       "83   1894.85   1942.00   2176.73   2221.09  \n",
       "84   2423.70   2617.60   2750.00   2800.00  \n",
       "85   2270.86   2059.76   2019.23   2479.82  \n",
       "86      0.00      0.00      0.00      0.00  \n",
       "\n",
       "[87 rows x 18 columns]"
      ]
     },
     "execution_count": 25,
     "metadata": {},
     "output_type": "execute_result"
    }
   ],
   "source": [
    "sal_op_00_16"
   ]
  },
  {
   "cell_type": "code",
   "execution_count": 26,
   "id": "35487913-2740-4c75-b554-50dd0c7b3560",
   "metadata": {},
   "outputs": [],
   "source": [
    "sal_tec_00_16.to_csv(\"sal_tec_00_16.csv\", index=False)\n",
    "sal_op_00_16.to_csv(\"sal_op_00_16.csv\",index=False)"
   ]
  },
  {
   "cell_type": "code",
   "execution_count": null,
   "id": "c8cd9170-43e9-4ab8-b5bd-19b0fbb33674",
   "metadata": {},
   "outputs": [],
   "source": []
  }
 ],
 "metadata": {
  "kernelspec": {
   "display_name": "Python 3 (ipykernel)",
   "language": "python",
   "name": "python3"
  },
  "language_info": {
   "codemirror_mode": {
    "name": "ipython",
    "version": 3
   },
   "file_extension": ".py",
   "mimetype": "text/x-python",
   "name": "python",
   "nbconvert_exporter": "python",
   "pygments_lexer": "ipython3",
   "version": "3.12.0"
  }
 },
 "nbformat": 4,
 "nbformat_minor": 5
}
