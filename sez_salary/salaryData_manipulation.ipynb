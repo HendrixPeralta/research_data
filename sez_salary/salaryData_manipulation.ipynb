{
 "cells": [
  {
   "cell_type": "code",
   "execution_count": 1,
   "id": "751513d5-5af4-4e1e-a80b-4cafd650345f",
   "metadata": {},
   "outputs": [],
   "source": [
    "import pandas as pd"
   ]
  },
  {
   "cell_type": "code",
   "execution_count": 2,
   "id": "f8ea19a0-7073-4029-b442-423f8691ff7f",
   "metadata": {},
   "outputs": [],
   "source": [
    "sal00 = pd.read_csv(\"sal_op00.csv\")"
   ]
  },
  {
   "cell_type": "code",
   "execution_count": 3,
   "id": "3b8248a3-6fc7-4369-a175-b08707d3fbad",
   "metadata": {},
   "outputs": [],
   "source": [
    "sal01 = pd.read_csv(\"sal_op01.csv\")"
   ]
  },
  {
   "cell_type": "code",
   "execution_count": 4,
   "id": "803c9782-67c7-4953-a41a-2bd0a9901fcf",
   "metadata": {},
   "outputs": [],
   "source": [
    "sal02 = pd.read_csv(\"sal_op02.csv\")"
   ]
  },
  {
   "cell_type": "code",
   "execution_count": 5,
   "id": "9dfa671b-6086-4799-aa1f-5a54a1e8c75c",
   "metadata": {},
   "outputs": [],
   "source": [
    "sal03_04 = pd.read_csv(\"sal_op03-04.csv\", encoding = \"cp1252\")"
   ]
  },
  {
   "cell_type": "code",
   "execution_count": 6,
   "id": "9102a86d-1ed1-4361-bf66-2f5ea19c0af0",
   "metadata": {},
   "outputs": [],
   "source": [
    "sal05_06 = pd.read_csv(\"sal_op05-06.csv\", encoding = \"utf-8-sig\")"
   ]
  },
  {
   "cell_type": "code",
   "execution_count": 7,
   "id": "4cb9726f-2f93-4f7f-8fc0-ff4fa4fc1ed0",
   "metadata": {},
   "outputs": [],
   "source": [
    "sal07_08 = pd.read_csv(\"sal_op07-08.csv\", encoding = \"utf-8-sig\")"
   ]
  },
  {
   "cell_type": "code",
   "execution_count": 8,
   "id": "0d8d3af6-5dcd-453a-9b39-df568bc744f5",
   "metadata": {},
   "outputs": [],
   "source": [
    "sal09_10 = pd.read_csv(\"sal_op09-10.csv\", encoding = \"utf-8-sig\")"
   ]
  },
  {
   "cell_type": "code",
   "execution_count": 9,
   "id": "0aac2647-14e4-49e2-8521-137ee0db8561",
   "metadata": {},
   "outputs": [],
   "source": [
    "sal11_12 = pd.read_csv(\"sal_op11-12.csv\", encoding = \"cp1252\")"
   ]
  },
  {
   "cell_type": "code",
   "execution_count": 10,
   "id": "ec9952c0-baad-4a6b-ad5d-e95ba3769c20",
   "metadata": {},
   "outputs": [],
   "source": [
    "sal13_14 = pd.read_csv(\"sal_op13-14.csv\", encoding = \"cp1252\")"
   ]
  },
  {
   "cell_type": "code",
   "execution_count": 11,
   "id": "a9adc3d9-112a-46ba-9ba6-902b9f28748d",
   "metadata": {},
   "outputs": [],
   "source": [
    "sal15_16 = pd.read_csv(\"sal_op15-16.csv\", encoding = \"cp1252\")"
   ]
  },
  {
   "cell_type": "code",
   "execution_count": 24,
   "id": "7a4bb72e-a372-4433-b756-c517627e8fba",
   "metadata": {},
   "outputs": [],
   "source": [
    "def f(df):\n",
    "    m = df.columns.str.contains(\"par\")|df.columns.str.contains(\"Par\")\n",
    "    return df.loc[:, m]"
   ]
  },
  {
   "cell_type": "code",
   "execution_count": 25,
   "id": "33513f06-f09f-41be-b48d-225a138cedae",
   "metadata": {},
   "outputs": [
    {
     "data": {
      "text/plain": [
       "Index(['code', 'Parques', 'op02', 'tec02'], dtype='object')"
      ]
     },
     "execution_count": 25,
     "metadata": {},
     "output_type": "execute_result"
    }
   ],
   "source": [
    "sal02.columns"
   ]
  },
  {
   "cell_type": "code",
   "execution_count": 29,
   "id": "db8b8a8d-8862-4cab-af80-02486c807c70",
   "metadata": {},
   "outputs": [],
   "source": [
    "sal_agg_00_16 = pd.merge(sal00, sal01.drop(columns = f(sal01)))"
   ]
  },
  {
   "cell_type": "code",
   "execution_count": 30,
   "id": "d426d5cf-086e-43c8-b914-3992a41fd33b",
   "metadata": {},
   "outputs": [],
   "source": [
    "sal_agg_00_16 = pd.merge(sal_agg_00_16, sal02.drop(columns = f(sal02)))"
   ]
  },
  {
   "cell_type": "code",
   "execution_count": 31,
   "id": "3bbeabc7-eb24-4962-be8c-f40e5e628b1f",
   "metadata": {},
   "outputs": [],
   "source": [
    "sal_agg_00_16 = pd.merge(sal_agg_00_16, sal03_04.drop(columns = f(sal03_04)))"
   ]
  },
  {
   "cell_type": "code",
   "execution_count": 33,
   "id": "1ba19e10-3ad7-4e37-a62d-ff1c208405b6",
   "metadata": {},
   "outputs": [],
   "source": [
    "sal_agg_00_16 = pd.merge(sal_agg_00_16, sal05_06.drop(columns = f(sal05_06)))"
   ]
  },
  {
   "cell_type": "code",
   "execution_count": 34,
   "id": "dd4dfa18-6dab-4620-8c45-d9f7d4ae7138",
   "metadata": {},
   "outputs": [],
   "source": [
    "sal_agg_00_16 = pd.merge(sal_agg_00_16, sal07_08.drop(columns = f(sal07_08)))"
   ]
  },
  {
   "cell_type": "code",
   "execution_count": 36,
   "id": "fec019ab-cbfa-45fd-b5a4-227e7e037904",
   "metadata": {},
   "outputs": [],
   "source": [
    "sal_agg_00_16 = pd.merge(sal_agg_00_16, sal09_10.drop(columns = f(sal09_10)))"
   ]
  },
  {
   "cell_type": "code",
   "execution_count": 37,
   "id": "0e297472-fdc3-4c06-b7f7-e19ef5a053c1",
   "metadata": {},
   "outputs": [],
   "source": [
    "sal_agg_00_16 = pd.merge(sal_agg_00_16, sal11_12.drop(columns = f(sal11_12)))"
   ]
  },
  {
   "cell_type": "code",
   "execution_count": 38,
   "id": "2833ce3f-3b5f-45b8-b127-3f673e87c7e3",
   "metadata": {},
   "outputs": [],
   "source": [
    "sal_agg_00_16 = pd.merge(sal_agg_00_16, sal13_14.drop(columns = f(sal13_14)))"
   ]
  },
  {
   "cell_type": "code",
   "execution_count": 39,
   "id": "be82617e-469b-4e65-ac50-4471eb320c36",
   "metadata": {},
   "outputs": [],
   "source": [
    "sal_agg_00_16 = pd.merge(sal_agg_00_16, sal15_16.drop(columns = f(sal15_16)))"
   ]
  },
  {
   "cell_type": "code",
   "execution_count": null,
   "id": "9fc7357c-a5d9-4cab-bb7f-edc8bee3afba",
   "metadata": {},
   "outputs": [],
   "source": []
  },
  {
   "cell_type": "code",
   "execution_count": 57,
   "id": "2b23d078-7ee9-4c68-8b82-4d07ed2d0f82",
   "metadata": {},
   "outputs": [],
   "source": [
    "sal_agg_00_16.replace(\"N/D\", 0, inplace=True)"
   ]
  },
  {
   "cell_type": "code",
   "execution_count": 58,
   "id": "5bd208a6-3d05-4620-9e6d-b1f3cc97255e",
   "metadata": {},
   "outputs": [],
   "source": [
    "sal_agg_00_16.fillna(0, inplace=True)"
   ]
  },
  {
   "cell_type": "code",
   "execution_count": null,
   "id": "6643d377-f88f-46d8-8412-8752bdb5a074",
   "metadata": {},
   "outputs": [],
   "source": []
  },
  {
   "cell_type": "code",
   "execution_count": 61,
   "id": "2f940046-13db-4e67-8c1c-0840e773784f",
   "metadata": {},
   "outputs": [],
   "source": [
    "op = sal_agg_00_16.columns.str.contains(\"op\")|(sal_agg_00_16.columns==\"code\")\n",
    "sal_op_00_16 = sal_agg_00_16[sal_agg_00_16.columns[op]]"
   ]
  },
  {
   "cell_type": "code",
   "execution_count": 62,
   "id": "5a0c3733-4bfd-421d-8f84-07462cdf877d",
   "metadata": {},
   "outputs": [],
   "source": [
    "tec = sal_agg_00_16.columns.str.contains(\"tec\")|(sal_agg_00_16.columns==\"code\")\n",
    "sal_tec_00_16 = sal_agg_00_16[sal_agg_00_16.columns[tec]]"
   ]
  },
  {
   "cell_type": "code",
   "execution_count": null,
   "id": "a5dca92e-ba25-4db0-a438-6bd9ebee7e86",
   "metadata": {},
   "outputs": [],
   "source": []
  },
  {
   "cell_type": "code",
   "execution_count": 66,
   "id": "35487913-2740-4c75-b554-50dd0c7b3560",
   "metadata": {},
   "outputs": [],
   "source": [
    "sal_tec_00_16.to_csv(\"sal_tec_00_16.csv\", index=False)\n",
    "sal_op_00_16.to_csv(\"sal_op_00_16.csv\",index=False)"
   ]
  },
  {
   "cell_type": "code",
   "execution_count": null,
   "id": "c8cd9170-43e9-4ab8-b5bd-19b0fbb33674",
   "metadata": {},
   "outputs": [],
   "source": []
  }
 ],
 "metadata": {
  "kernelspec": {
   "display_name": "Python 3 (ipykernel)",
   "language": "python",
   "name": "python3"
  },
  "language_info": {
   "codemirror_mode": {
    "name": "ipython",
    "version": 3
   },
   "file_extension": ".py",
   "mimetype": "text/x-python",
   "name": "python",
   "nbconvert_exporter": "python",
   "pygments_lexer": "ipython3",
   "version": "3.12.0"
  }
 },
 "nbformat": 4,
 "nbformat_minor": 5
}
