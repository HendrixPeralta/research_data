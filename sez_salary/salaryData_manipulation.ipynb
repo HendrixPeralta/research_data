{
 "cells": [
  {
   "cell_type": "code",
   "execution_count": 1,
   "id": "751513d5-5af4-4e1e-a80b-4cafd650345f",
   "metadata": {},
   "outputs": [],
   "source": [
    "import pandas as pd"
   ]
  },
  {
   "cell_type": "code",
   "execution_count": 2,
   "id": "f8ea19a0-7073-4029-b442-423f8691ff7f",
   "metadata": {},
   "outputs": [],
   "source": [
    "sal00 = pd.read_csv(\"sal_op00.csv\")"
   ]
  },
  {
   "cell_type": "code",
   "execution_count": 3,
   "id": "3b8248a3-6fc7-4369-a175-b08707d3fbad",
   "metadata": {},
   "outputs": [],
   "source": [
    "sal01 = pd.read_csv(\"sal_op01.csv\")"
   ]
  },
  {
   "cell_type": "code",
   "execution_count": 4,
   "id": "803c9782-67c7-4953-a41a-2bd0a9901fcf",
   "metadata": {},
   "outputs": [],
   "source": [
    "sal02 = pd.read_csv(\"sal_op02.csv\")"
   ]
  },
  {
   "cell_type": "code",
   "execution_count": 5,
   "id": "9dfa671b-6086-4799-aa1f-5a54a1e8c75c",
   "metadata": {},
   "outputs": [],
   "source": [
    "sal03_04 = pd.read_csv(\"sal_op03-04.csv\", encoding = \"cp1252\")"
   ]
  },
  {
   "cell_type": "code",
   "execution_count": 6,
   "id": "9102a86d-1ed1-4361-bf66-2f5ea19c0af0",
   "metadata": {},
   "outputs": [],
   "source": [
    "sal05_06 = pd.read_csv(\"sal_op05-06.csv\", encoding = \"utf-8-sig\")"
   ]
  },
  {
   "cell_type": "code",
   "execution_count": 7,
   "id": "4cb9726f-2f93-4f7f-8fc0-ff4fa4fc1ed0",
   "metadata": {},
   "outputs": [],
   "source": [
    "sal07_08 = pd.read_csv(\"sal_op07-08.csv\", encoding = \"utf-8-sig\")"
   ]
  },
  {
   "cell_type": "code",
   "execution_count": 8,
   "id": "0d8d3af6-5dcd-453a-9b39-df568bc744f5",
   "metadata": {},
   "outputs": [],
   "source": [
    "sal09_10 = pd.read_csv(\"sal_op09-10.csv\", encoding = \"utf-8-sig\")"
   ]
  },
  {
   "cell_type": "code",
   "execution_count": 9,
   "id": "0aac2647-14e4-49e2-8521-137ee0db8561",
   "metadata": {},
   "outputs": [],
   "source": [
    "sal11_12 = pd.read_csv(\"sal_op11-12.csv\", encoding = \"cp1252\")"
   ]
  },
  {
   "cell_type": "code",
   "execution_count": 10,
   "id": "ec9952c0-baad-4a6b-ad5d-e95ba3769c20",
   "metadata": {},
   "outputs": [],
   "source": [
    "sal13_14 = pd.read_csv(\"sal_op13-14.csv\", encoding = \"cp1252\")"
   ]
  },
  {
   "cell_type": "code",
   "execution_count": 11,
   "id": "a9adc3d9-112a-46ba-9ba6-902b9f28748d",
   "metadata": {},
   "outputs": [],
   "source": [
    "sal15_16 = pd.read_csv(\"sal_op15-16.csv\", encoding = \"cp1252\")"
   ]
  },
  {
   "cell_type": "code",
   "execution_count": 31,
   "id": "7a4bb72e-a372-4433-b756-c517627e8fba",
   "metadata": {},
   "outputs": [],
   "source": [
    "def f(df):\n",
    "    m = ~df.columns.str.contains(\"par\", case=False)\n",
    "    return df.loc[:, m]"
   ]
  },
  {
   "cell_type": "code",
   "execution_count": null,
   "id": "33513f06-f09f-41be-b48d-225a138cedae",
   "metadata": {},
   "outputs": [],
   "source": []
  },
  {
   "cell_type": "code",
   "execution_count": 33,
   "id": "3c1689a4-93c3-421e-946d-3334451db855",
   "metadata": {},
   "outputs": [],
   "source": [
    "databases = [sal02, sal03_04, sal05_06, sal07_08, sal09_10, sal11_12, sal13_14, sal15_16]"
   ]
  },
  {
   "cell_type": "code",
   "execution_count": 39,
   "id": "dd243629-9bb4-4298-b0d1-fc1a3252876f",
   "metadata": {},
   "outputs": [],
   "source": [
    "def f(df):\n",
    "    return df.drop(columns=df.columns[df.columns.str.contains(\"par\")])"
   ]
  },
  {
   "cell_type": "code",
   "execution_count": 38,
   "id": "120acaa9-f70a-47aa-b86a-3dbe3eb8533f",
   "metadata": {},
   "outputs": [],
   "source": [
    "sal_agg_00_16 = pd.merge(sal00, f(sal01), on=\"code\", how=\"outer\")"
   ]
  },
  {
   "cell_type": "code",
   "execution_count": 40,
   "id": "fe8c2557-1b2c-4893-8f34-b220d91d3d2c",
   "metadata": {},
   "outputs": [],
   "source": [
    "for database in databases: \n",
    "    sal_agg_00_16 = pd.merge(sal_agg_00_16, f(database), on=\"code\", how=\"outer\")"
   ]
  },
  {
   "cell_type": "code",
   "execution_count": null,
   "id": "c381978a-710c-425b-a913-74a109daa1c1",
   "metadata": {},
   "outputs": [],
   "source": []
  },
  {
   "cell_type": "code",
   "execution_count": 42,
   "id": "2b23d078-7ee9-4c68-8b82-4d07ed2d0f82",
   "metadata": {},
   "outputs": [],
   "source": [
    "sal_agg_00_16.replace(\"N/D\", 0, inplace=True)"
   ]
  },
  {
   "cell_type": "code",
   "execution_count": 43,
   "id": "5bd208a6-3d05-4620-9e6d-b1f3cc97255e",
   "metadata": {},
   "outputs": [],
   "source": [
    "sal_agg_00_16.fillna(0, inplace=True)"
   ]
  },
  {
   "cell_type": "code",
   "execution_count": 49,
   "id": "6643d377-f88f-46d8-8412-8752bdb5a074",
   "metadata": {},
   "outputs": [
    {
     "ename": "TypeError",
     "evalue": "NDFrame.add_prefix() got an unexpected keyword argument 'inplace'",
     "output_type": "error",
     "traceback": [
      "\u001b[0;31m---------------------------------------------------------------------------\u001b[0m",
      "\u001b[0;31mTypeError\u001b[0m                                 Traceback (most recent call last)",
      "Cell \u001b[0;32mIn[49], line 1\u001b[0m\n\u001b[0;32m----> 1\u001b[0m \u001b[43msal_agg_00_16\u001b[49m\u001b[38;5;241;43m.\u001b[39;49m\u001b[43madd_prefix\u001b[49m\u001b[43m(\u001b[49m\u001b[38;5;124;43m\"\u001b[39;49m\u001b[38;5;124;43msal_\u001b[39;49m\u001b[38;5;124;43m\"\u001b[39;49m\u001b[43m,\u001b[49m\u001b[43m \u001b[49m\u001b[43minplace\u001b[49m\u001b[43m \u001b[49m\u001b[38;5;241;43m=\u001b[39;49m\u001b[43m \u001b[49m\u001b[38;5;28;43;01mTrue\u001b[39;49;00m\u001b[43m)\u001b[49m\n",
      "\u001b[0;31mTypeError\u001b[0m: NDFrame.add_prefix() got an unexpected keyword argument 'inplace'"
     ]
    }
   ],
   "source": [
    "sal_agg_00_16.add_prefix(\"sal_\")"
   ]
  },
  {
   "cell_type": "code",
   "execution_count": 45,
   "id": "2f940046-13db-4e67-8c1c-0840e773784f",
   "metadata": {},
   "outputs": [],
   "source": [
    "op = sal_agg_00_16.columns.str.contains(\"op\")|(sal_agg_00_16.columns==\"code\")\n",
    "sal_op_00_16 = sal_agg_00_16[sal_agg_00_16.columns[op]]"
   ]
  },
  {
   "cell_type": "code",
   "execution_count": 46,
   "id": "5a0c3733-4bfd-421d-8f84-07462cdf877d",
   "metadata": {},
   "outputs": [],
   "source": [
    "tec = sal_agg_00_16.columns.str.contains(\"tec\")|(sal_agg_00_16.columns==\"code\")\n",
    "sal_tec_00_16 = sal_agg_00_16[sal_agg_00_16.columns[tec]]"
   ]
  },
  {
   "cell_type": "code",
   "execution_count": null,
   "id": "a5dca92e-ba25-4db0-a438-6bd9ebee7e86",
   "metadata": {},
   "outputs": [],
   "source": []
  },
  {
   "cell_type": "code",
   "execution_count": 47,
   "id": "35487913-2740-4c75-b554-50dd0c7b3560",
   "metadata": {},
   "outputs": [],
   "source": [
    "sal_tec_00_16.to_csv(\"sal_tec_00_16.csv\", index=False)\n",
    "sal_op_00_16.to_csv(\"sal_op_00_16.csv\",index=False)"
   ]
  },
  {
   "cell_type": "code",
   "execution_count": null,
   "id": "c8cd9170-43e9-4ab8-b5bd-19b0fbb33674",
   "metadata": {},
   "outputs": [],
   "source": []
  }
 ],
 "metadata": {
  "kernelspec": {
   "display_name": "Python 3 (ipykernel)",
   "language": "python",
   "name": "python3"
  },
  "language_info": {
   "codemirror_mode": {
    "name": "ipython",
    "version": 3
   },
   "file_extension": ".py",
   "mimetype": "text/x-python",
   "name": "python",
   "nbconvert_exporter": "python",
   "pygments_lexer": "ipython3",
   "version": "3.12.0"
  }
 },
 "nbformat": 4,
 "nbformat_minor": 5
}
