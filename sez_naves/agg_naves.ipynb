{
 "cells": [
  {
   "cell_type": "code",
   "execution_count": 1,
   "id": "3978936e-0ecb-455b-8416-3b504924255a",
   "metadata": {},
   "outputs": [],
   "source": [
    "import pandas as pd"
   ]
  },
  {
   "cell_type": "code",
   "execution_count": 2,
   "id": "2e12b0ac-d5e3-4050-8e81-2bb58d677282",
   "metadata": {},
   "outputs": [],
   "source": [
    "nav00 = pd.read_csv(\"naves_00.csv\", encoding='utf-8-sig')"
   ]
  },
  {
   "cell_type": "code",
   "execution_count": 3,
   "id": "4540852d-04c1-484f-ad80-c3eb614d27e7",
   "metadata": {},
   "outputs": [],
   "source": [
    "nav01 = pd.read_csv(\"naves_01.csv\", encoding='utf-8-sig')"
   ]
  },
  {
   "cell_type": "code",
   "execution_count": 4,
   "id": "f48b9c91-d33c-4307-8730-ee3ad7378dc8",
   "metadata": {},
   "outputs": [],
   "source": [
    "nav02 = pd.read_csv(\"naves_02.csv\", encoding='utf-8-sig')"
   ]
  },
  {
   "cell_type": "code",
   "execution_count": 5,
   "id": "a0a78106-2bfd-43ab-b060-bd4bc780a30f",
   "metadata": {},
   "outputs": [],
   "source": [
    "nav03 = pd.read_csv(\"naves_03.csv\", encoding='utf-8-sig')"
   ]
  },
  {
   "cell_type": "code",
   "execution_count": 6,
   "id": "37180f5e-9296-410e-8c52-a40a10fa90da",
   "metadata": {},
   "outputs": [],
   "source": [
    "nav04 = pd.read_csv(\"naves_04.csv\", encoding='utf-8-sig')"
   ]
  },
  {
   "cell_type": "code",
   "execution_count": 7,
   "id": "0277aa1a-fb5a-45da-bb48-df61b97310fd",
   "metadata": {},
   "outputs": [],
   "source": [
    "nav05 = pd.read_csv(\"naves_05.csv\", encoding='utf-8-sig')"
   ]
  },
  {
   "cell_type": "code",
   "execution_count": 8,
   "id": "8104b7ac-2aa8-4b5f-a3fb-232b92b75fa2",
   "metadata": {},
   "outputs": [],
   "source": [
    "nav06 = pd.read_csv(\"naves_06.csv\", encoding='utf-8-sig')"
   ]
  },
  {
   "cell_type": "code",
   "execution_count": 9,
   "id": "ba84fbd5-453a-4bfb-8d47-a04f3c535a1f",
   "metadata": {},
   "outputs": [],
   "source": [
    "nav07 = pd.read_csv(\"naves_07.csv\", encoding='utf-8-sig')"
   ]
  },
  {
   "cell_type": "code",
   "execution_count": 10,
   "id": "6f8f774c-5868-4593-8c24-a79d5b2d66b7",
   "metadata": {},
   "outputs": [],
   "source": [
    "nav08 = pd.read_csv(\"naves_08.csv\", encoding='utf-8-sig')"
   ]
  },
  {
   "cell_type": "code",
   "execution_count": 11,
   "id": "b2e2e615-b917-4849-bf45-652deb394a00",
   "metadata": {},
   "outputs": [],
   "source": [
    "nav09 = pd.read_csv(\"naves_09.csv\", encoding='utf-8-sig')"
   ]
  },
  {
   "cell_type": "code",
   "execution_count": 12,
   "id": "81709ad3-f5a5-4e1e-a670-8add059c7b2a",
   "metadata": {},
   "outputs": [],
   "source": [
    "nav10 = pd.read_csv(\"naves_10.csv\", encoding='utf-8-sig')"
   ]
  },
  {
   "cell_type": "code",
   "execution_count": 13,
   "id": "1e9f070b-0ea5-43a0-9a8d-e7dbb11bbc74",
   "metadata": {},
   "outputs": [],
   "source": [
    "nav11 = pd.read_csv(\"naves_11.csv\", encoding='utf-8-sig')"
   ]
  },
  {
   "cell_type": "code",
   "execution_count": 14,
   "id": "16d0d7fa-a39c-4348-8709-c49640269ae1",
   "metadata": {},
   "outputs": [],
   "source": [
    "nav12 = pd.read_csv(\"naves_12.csv\", encoding='utf-8-sig')"
   ]
  },
  {
   "cell_type": "code",
   "execution_count": 15,
   "id": "ce267c67-8a1a-4270-8a16-dab53476cb77",
   "metadata": {},
   "outputs": [],
   "source": [
    "nav13 = pd.read_csv(\"naves_13.csv\", encoding='utf-8-sig')"
   ]
  },
  {
   "cell_type": "code",
   "execution_count": 16,
   "id": "a35b461a-88f7-4229-b016-30e24d8a51f3",
   "metadata": {},
   "outputs": [],
   "source": [
    "nav14 = pd.read_csv(\"naves_14.csv\", encoding='utf-8-sig')"
   ]
  },
  {
   "cell_type": "code",
   "execution_count": 17,
   "id": "768ddeee-e1a3-41d0-a9be-75201b16087b",
   "metadata": {},
   "outputs": [],
   "source": [
    "nav15 = pd.read_csv(\"naves_15.csv\", encoding='utf-8-sig')"
   ]
  },
  {
   "cell_type": "code",
   "execution_count": 18,
   "id": "22f3a0b4-fc92-4f04-8ef7-7eae51a493d1",
   "metadata": {},
   "outputs": [],
   "source": [
    "nav16 = pd.read_csv(\"naves_16.csv\", encoding='utf-8-sig')"
   ]
  },
  {
   "cell_type": "code",
   "execution_count": 32,
   "id": "53c3068e-83be-4489-bb64-4c0727d4b230",
   "metadata": {},
   "outputs": [
    {
     "data": {
      "text/plain": [
       "Index(['code', 'park', ' area00', ' buiilt00', ' ocu00', ' availa00'], dtype='object')"
      ]
     },
     "execution_count": 32,
     "metadata": {},
     "output_type": "execute_result"
    }
   ],
   "source": [
    "nav00.columns"
   ]
  },
  {
   "cell_type": "code",
   "execution_count": 34,
   "id": "ed25da77-45c2-4c25-95a1-322d8c0597cb",
   "metadata": {},
   "outputs": [],
   "source": [
    "def f(df):\n",
    "    m = df.columns.str.contains(\"buiilt\")|df.columns.str.contains(\"ocu\")|(df.columns == \"code\")\n",
    "    return df.loc[:,m]"
   ]
  },
  {
   "cell_type": "code",
   "execution_count": 42,
   "id": "60f4bab4-b862-4379-9ccb-30a3c91f78c0",
   "metadata": {},
   "outputs": [],
   "source": [
    "nav_agg_00_16 = pd.merge(f(nav00), f(nav01), on=\"code\", how=\"outer\")"
   ]
  },
  {
   "cell_type": "code",
   "execution_count": 43,
   "id": "af327a79-7b89-4359-9beb-0f9368b16a4d",
   "metadata": {},
   "outputs": [],
   "source": [
    "nav_agg_00_16 = pd.merge(nav_agg_00_16, f(nav02), on=\"code\", how=\"outer\")"
   ]
  },
  {
   "cell_type": "code",
   "execution_count": 45,
   "id": "fd098f16-7724-4418-8964-d0e3a0ebb0b9",
   "metadata": {},
   "outputs": [],
   "source": [
    "nav_agg_00_16 = pd.merge(nav_agg_00_16, f(nav03), on=\"code\", how=\"outer\")"
   ]
  },
  {
   "cell_type": "code",
   "execution_count": 46,
   "id": "334b4f5b-d688-434a-bbc2-873cafd81aec",
   "metadata": {},
   "outputs": [],
   "source": [
    "nav_agg_00_16 = pd.merge(nav_agg_00_16, f(nav04), on=\"code\", how=\"outer\")"
   ]
  },
  {
   "cell_type": "code",
   "execution_count": 47,
   "id": "163d79c3-8c56-4f3b-ac72-6e9d333a1fad",
   "metadata": {},
   "outputs": [],
   "source": [
    "nav_agg_00_16 = pd.merge(nav_agg_00_16, f(nav05), on=\"code\", how=\"outer\")"
   ]
  },
  {
   "cell_type": "code",
   "execution_count": 48,
   "id": "27f8d09d-e6f0-4e13-8908-2ccae53af298",
   "metadata": {},
   "outputs": [],
   "source": [
    "nav_agg_00_16 = pd.merge(nav_agg_00_16, f(nav06), on=\"code\", how=\"outer\")"
   ]
  },
  {
   "cell_type": "code",
   "execution_count": 49,
   "id": "2d98da20-8ed7-4465-87ec-3de82c37ff59",
   "metadata": {},
   "outputs": [],
   "source": [
    "nav_agg_00_16 = pd.merge(nav_agg_00_16, f(nav07), on=\"code\", how=\"outer\")"
   ]
  },
  {
   "cell_type": "code",
   "execution_count": 50,
   "id": "99983d09-cd91-4d9f-aa0e-dffd7792a314",
   "metadata": {},
   "outputs": [],
   "source": [
    "nav_agg_00_16 = pd.merge(nav_agg_00_16, f(nav08), on=\"code\", how=\"outer\")"
   ]
  },
  {
   "cell_type": "code",
   "execution_count": 51,
   "id": "0dd256dd-1127-4174-a845-f1c11173156d",
   "metadata": {},
   "outputs": [],
   "source": [
    "nav_agg_00_16 = pd.merge(nav_agg_00_16, f(nav09), on=\"code\", how=\"outer\")"
   ]
  },
  {
   "cell_type": "code",
   "execution_count": 52,
   "id": "9b509af3-2196-4010-8780-90db002d5cad",
   "metadata": {},
   "outputs": [],
   "source": [
    "nav_agg_00_16 = pd.merge(nav_agg_00_16, f(nav10), on=\"code\", how=\"outer\")"
   ]
  },
  {
   "cell_type": "code",
   "execution_count": 53,
   "id": "94f2e2d4-1e26-4a5b-b5bb-31b11a3c1b09",
   "metadata": {},
   "outputs": [],
   "source": [
    "nav_agg_00_16 = pd.merge(nav_agg_00_16, f(nav11), on=\"code\", how=\"outer\")"
   ]
  },
  {
   "cell_type": "code",
   "execution_count": 54,
   "id": "a1a49839-4591-49cc-bf52-b8cb63b4daa5",
   "metadata": {},
   "outputs": [],
   "source": [
    "nav_agg_00_16 = pd.merge(nav_agg_00_16, f(nav12), on=\"code\", how=\"outer\")"
   ]
  },
  {
   "cell_type": "code",
   "execution_count": 55,
   "id": "c2598f38-df30-4d84-bbba-db2327746730",
   "metadata": {},
   "outputs": [],
   "source": [
    "nav_agg_00_16 = pd.merge(nav_agg_00_16, f(nav13), on=\"code\", how=\"outer\")"
   ]
  },
  {
   "cell_type": "code",
   "execution_count": 56,
   "id": "e42babc6-dfcf-4d5b-be99-86cad1564a6f",
   "metadata": {},
   "outputs": [],
   "source": [
    "nav_agg_00_16 = pd.merge(nav_agg_00_16, f(nav14), on=\"code\", how=\"outer\")"
   ]
  },
  {
   "cell_type": "code",
   "execution_count": 57,
   "id": "8ed1a7ae-258f-45ea-902d-0717dca22d86",
   "metadata": {},
   "outputs": [],
   "source": [
    "nav_agg_00_16 = pd.merge(nav_agg_00_16, f(nav15), on=\"code\", how=\"outer\")"
   ]
  },
  {
   "cell_type": "code",
   "execution_count": 58,
   "id": "8c6e94ed-2f9d-403e-84b8-ad38b5010c07",
   "metadata": {},
   "outputs": [],
   "source": [
    "nav_agg_00_16 = pd.merge(nav_agg_00_16, f(nav16), on=\"code\", how=\"outer\")"
   ]
  },
  {
   "cell_type": "code",
   "execution_count": 61,
   "id": "cdfcca66-5776-4ac5-965a-1632b94988b3",
   "metadata": {},
   "outputs": [
    {
     "data": {
      "text/html": [
       "<div>\n",
       "<style scoped>\n",
       "    .dataframe tbody tr th:only-of-type {\n",
       "        vertical-align: middle;\n",
       "    }\n",
       "\n",
       "    .dataframe tbody tr th {\n",
       "        vertical-align: top;\n",
       "    }\n",
       "\n",
       "    .dataframe thead th {\n",
       "        text-align: right;\n",
       "    }\n",
       "</style>\n",
       "<table border=\"1\" class=\"dataframe\">\n",
       "  <thead>\n",
       "    <tr style=\"text-align: right;\">\n",
       "      <th></th>\n",
       "      <th>code</th>\n",
       "      <th>buiilt00</th>\n",
       "      <th>ocu00</th>\n",
       "      <th>buiilt01</th>\n",
       "      <th>ocu01</th>\n",
       "      <th>buiilt02</th>\n",
       "      <th>ocu02</th>\n",
       "      <th>buiilt03</th>\n",
       "      <th>ocu03</th>\n",
       "      <th>buiilt04</th>\n",
       "      <th>...</th>\n",
       "      <th>buiilt12</th>\n",
       "      <th>ocu12</th>\n",
       "      <th>buiilt13</th>\n",
       "      <th>ocu13</th>\n",
       "      <th>buiilt14</th>\n",
       "      <th>ocu14</th>\n",
       "      <th>buiilt15</th>\n",
       "      <th>ocu15</th>\n",
       "      <th>buiilt16</th>\n",
       "      <th>ocu16</th>\n",
       "    </tr>\n",
       "  </thead>\n",
       "  <tbody>\n",
       "    <tr>\n",
       "      <th>0</th>\n",
       "      <td>DOM-6NO</td>\n",
       "      <td>0.00</td>\n",
       "      <td>0.00</td>\n",
       "      <td>0.0</td>\n",
       "      <td>0.0</td>\n",
       "      <td>0.0</td>\n",
       "      <td>0.0</td>\n",
       "      <td>0.0</td>\n",
       "      <td>0.0</td>\n",
       "      <td>0.0</td>\n",
       "      <td>...</td>\n",
       "      <td>0.00</td>\n",
       "      <td>0.00</td>\n",
       "      <td>0</td>\n",
       "      <td>0.00</td>\n",
       "      <td>0.00</td>\n",
       "      <td>0.00</td>\n",
       "      <td>0.00</td>\n",
       "      <td>0.00</td>\n",
       "      <td>33356.00</td>\n",
       "      <td>33356.00</td>\n",
       "    </tr>\n",
       "    <tr>\n",
       "      <th>1</th>\n",
       "      <td>DOM-ALC</td>\n",
       "      <td>482462.00</td>\n",
       "      <td>482462.00</td>\n",
       "      <td>563307.0</td>\n",
       "      <td>531735.0</td>\n",
       "      <td>563307.6</td>\n",
       "      <td>531735.0</td>\n",
       "      <td>563307.0</td>\n",
       "      <td>523307.0</td>\n",
       "      <td>563307.0</td>\n",
       "      <td>...</td>\n",
       "      <td>583516.00</td>\n",
       "      <td>386345.12</td>\n",
       "      <td>619079.63</td>\n",
       "      <td>439920.97</td>\n",
       "      <td>619079.63</td>\n",
       "      <td>485938.61</td>\n",
       "      <td>619079.63</td>\n",
       "      <td>428063.29</td>\n",
       "      <td>563991.87</td>\n",
       "      <td>456251.54</td>\n",
       "    </tr>\n",
       "    <tr>\n",
       "      <th>2</th>\n",
       "      <td>DOM-ALT</td>\n",
       "      <td>202317.26</td>\n",
       "      <td>191273.93</td>\n",
       "      <td>202317.0</td>\n",
       "      <td>184043.0</td>\n",
       "      <td>211515.6</td>\n",
       "      <td>200515.6</td>\n",
       "      <td>239072.0</td>\n",
       "      <td>194592.0</td>\n",
       "      <td>239072.0</td>\n",
       "      <td>...</td>\n",
       "      <td>240312.07</td>\n",
       "      <td>138017.57</td>\n",
       "      <td>240312.07</td>\n",
       "      <td>138017.57</td>\n",
       "      <td>240312.07</td>\n",
       "      <td>172672.00</td>\n",
       "      <td>240312.07</td>\n",
       "      <td>172672.00</td>\n",
       "      <td>240312.07</td>\n",
       "      <td>172734.00</td>\n",
       "    </tr>\n",
       "    <tr>\n",
       "      <th>3</th>\n",
       "      <td>DOM-AND</td>\n",
       "      <td>0.00</td>\n",
       "      <td>0.00</td>\n",
       "      <td>0.0</td>\n",
       "      <td>0.0</td>\n",
       "      <td>0.0</td>\n",
       "      <td>0.0</td>\n",
       "      <td>0.0</td>\n",
       "      <td>0.0</td>\n",
       "      <td>0.0</td>\n",
       "      <td>...</td>\n",
       "      <td>270488.00</td>\n",
       "      <td>64500.00</td>\n",
       "      <td>270488</td>\n",
       "      <td>64500.00</td>\n",
       "      <td>64500.00</td>\n",
       "      <td>64500.00</td>\n",
       "      <td>64500.00</td>\n",
       "      <td>64500.00</td>\n",
       "      <td>64500.00</td>\n",
       "      <td>64500.00</td>\n",
       "    </tr>\n",
       "    <tr>\n",
       "      <th>4</th>\n",
       "      <td>DOM-ARM</td>\n",
       "      <td>254469.00</td>\n",
       "      <td>229066.00</td>\n",
       "      <td>275783.0</td>\n",
       "      <td>275783.0</td>\n",
       "      <td>275783.0</td>\n",
       "      <td>275783.0</td>\n",
       "      <td>275783.0</td>\n",
       "      <td>275783.0</td>\n",
       "      <td>337529.0</td>\n",
       "      <td>...</td>\n",
       "      <td>337529.00</td>\n",
       "      <td>235255.15</td>\n",
       "      <td>310078.93</td>\n",
       "      <td>283104.28</td>\n",
       "      <td>310078.93</td>\n",
       "      <td>279648.41</td>\n",
       "      <td>310078.93</td>\n",
       "      <td>279648.41</td>\n",
       "      <td>337333.20</td>\n",
       "      <td>314720.51</td>\n",
       "    </tr>\n",
       "    <tr>\n",
       "      <th>...</th>\n",
       "      <td>...</td>\n",
       "      <td>...</td>\n",
       "      <td>...</td>\n",
       "      <td>...</td>\n",
       "      <td>...</td>\n",
       "      <td>...</td>\n",
       "      <td>...</td>\n",
       "      <td>...</td>\n",
       "      <td>...</td>\n",
       "      <td>...</td>\n",
       "      <td>...</td>\n",
       "      <td>...</td>\n",
       "      <td>...</td>\n",
       "      <td>...</td>\n",
       "      <td>...</td>\n",
       "      <td>...</td>\n",
       "      <td>...</td>\n",
       "      <td>...</td>\n",
       "      <td>...</td>\n",
       "      <td>...</td>\n",
       "      <td>...</td>\n",
       "    </tr>\n",
       "    <tr>\n",
       "      <th>82</th>\n",
       "      <td>DOM-TAM</td>\n",
       "      <td>80000.00</td>\n",
       "      <td>20000.00</td>\n",
       "      <td>191724.0</td>\n",
       "      <td>191724.0</td>\n",
       "      <td>184879.0</td>\n",
       "      <td>165374.0</td>\n",
       "      <td>184879.0</td>\n",
       "      <td>184879.0</td>\n",
       "      <td>184879.0</td>\n",
       "      <td>...</td>\n",
       "      <td>388000.00</td>\n",
       "      <td>388000.00</td>\n",
       "      <td>688640</td>\n",
       "      <td>688640.00</td>\n",
       "      <td>688640.00</td>\n",
       "      <td>688640.00</td>\n",
       "      <td>656119.00</td>\n",
       "      <td>656119.00</td>\n",
       "      <td>824250.00</td>\n",
       "      <td>620403.00</td>\n",
       "    </tr>\n",
       "    <tr>\n",
       "      <th>83</th>\n",
       "      <td>DOM-VEG</td>\n",
       "      <td>1283873.00</td>\n",
       "      <td>1283873.00</td>\n",
       "      <td>1116683.0</td>\n",
       "      <td>1116683.0</td>\n",
       "      <td>1116683.0</td>\n",
       "      <td>1116683.0</td>\n",
       "      <td>1116683.0</td>\n",
       "      <td>1116683.0</td>\n",
       "      <td>1228505.0</td>\n",
       "      <td>...</td>\n",
       "      <td>1173226.00</td>\n",
       "      <td>920888.74</td>\n",
       "      <td>1122197.2</td>\n",
       "      <td>994814.98</td>\n",
       "      <td>1122197.20</td>\n",
       "      <td>1067969.53</td>\n",
       "      <td>1122197.00</td>\n",
       "      <td>1122197.00</td>\n",
       "      <td>1261076.26</td>\n",
       "      <td>1157306.67</td>\n",
       "    </tr>\n",
       "    <tr>\n",
       "      <th>84</th>\n",
       "      <td>DOM-VIS</td>\n",
       "      <td>0.00</td>\n",
       "      <td>0.00</td>\n",
       "      <td>0.0</td>\n",
       "      <td>0.0</td>\n",
       "      <td>0.0</td>\n",
       "      <td>0.0</td>\n",
       "      <td>0.0</td>\n",
       "      <td>0.0</td>\n",
       "      <td>506796.0</td>\n",
       "      <td>...</td>\n",
       "      <td>421816.00</td>\n",
       "      <td>421816.00</td>\n",
       "      <td>421816</td>\n",
       "      <td>421816.00</td>\n",
       "      <td>421834.00</td>\n",
       "      <td>421834.00</td>\n",
       "      <td>421834.00</td>\n",
       "      <td>421834.00</td>\n",
       "      <td>421834.00</td>\n",
       "      <td>421834.00</td>\n",
       "    </tr>\n",
       "    <tr>\n",
       "      <th>85</th>\n",
       "      <td>DOM-YAQ</td>\n",
       "      <td>0.00</td>\n",
       "      <td>0.00</td>\n",
       "      <td>0.0</td>\n",
       "      <td>0.0</td>\n",
       "      <td>0.0</td>\n",
       "      <td>0.0</td>\n",
       "      <td>0.0</td>\n",
       "      <td>0.0</td>\n",
       "      <td>0.0</td>\n",
       "      <td>...</td>\n",
       "      <td>200738.56</td>\n",
       "      <td>200738.56</td>\n",
       "      <td>200738.56</td>\n",
       "      <td>200738.56</td>\n",
       "      <td>200738.56</td>\n",
       "      <td>200738.56</td>\n",
       "      <td>200738.56</td>\n",
       "      <td>200738.56</td>\n",
       "      <td>200738.56</td>\n",
       "      <td>200738.56</td>\n",
       "    </tr>\n",
       "    <tr>\n",
       "      <th>86</th>\n",
       "      <td>DOM-ZOF</td>\n",
       "      <td>38000.00</td>\n",
       "      <td>38000.00</td>\n",
       "      <td>38000.0</td>\n",
       "      <td>38000.0</td>\n",
       "      <td>38000.0</td>\n",
       "      <td>38000.0</td>\n",
       "      <td>38000.0</td>\n",
       "      <td>22000.0</td>\n",
       "      <td>38000.0</td>\n",
       "      <td>...</td>\n",
       "      <td>0.00</td>\n",
       "      <td>0.00</td>\n",
       "      <td>0</td>\n",
       "      <td>0.00</td>\n",
       "      <td>0.00</td>\n",
       "      <td>0.00</td>\n",
       "      <td>0.00</td>\n",
       "      <td>0.00</td>\n",
       "      <td>0.00</td>\n",
       "      <td>0.00</td>\n",
       "    </tr>\n",
       "  </tbody>\n",
       "</table>\n",
       "<p>87 rows × 35 columns</p>\n",
       "</div>"
      ],
      "text/plain": [
       "       code    buiilt00       ocu00   buiilt01      ocu01   buiilt02  \\\n",
       "0   DOM-6NO        0.00        0.00        0.0        0.0        0.0   \n",
       "1   DOM-ALC   482462.00   482462.00   563307.0   531735.0   563307.6   \n",
       "2   DOM-ALT   202317.26   191273.93   202317.0   184043.0   211515.6   \n",
       "3   DOM-AND        0.00        0.00        0.0        0.0        0.0   \n",
       "4   DOM-ARM   254469.00   229066.00   275783.0   275783.0   275783.0   \n",
       "..      ...         ...         ...        ...        ...        ...   \n",
       "82  DOM-TAM    80000.00    20000.00   191724.0   191724.0   184879.0   \n",
       "83  DOM-VEG  1283873.00  1283873.00  1116683.0  1116683.0  1116683.0   \n",
       "84  DOM-VIS        0.00        0.00        0.0        0.0        0.0   \n",
       "85  DOM-YAQ        0.00        0.00        0.0        0.0        0.0   \n",
       "86  DOM-ZOF    38000.00    38000.00    38000.0    38000.0    38000.0   \n",
       "\n",
       "        ocu02   buiilt03      ocu03   buiilt04  ...    buiilt12      ocu12  \\\n",
       "0         0.0        0.0        0.0        0.0  ...        0.00       0.00   \n",
       "1    531735.0   563307.0   523307.0   563307.0  ...   583516.00  386345.12   \n",
       "2    200515.6   239072.0   194592.0   239072.0  ...   240312.07  138017.57   \n",
       "3         0.0        0.0        0.0        0.0  ...   270488.00   64500.00   \n",
       "4    275783.0   275783.0   275783.0   337529.0  ...   337529.00  235255.15   \n",
       "..        ...        ...        ...        ...  ...         ...        ...   \n",
       "82   165374.0   184879.0   184879.0   184879.0  ...   388000.00  388000.00   \n",
       "83  1116683.0  1116683.0  1116683.0  1228505.0  ...  1173226.00  920888.74   \n",
       "84        0.0        0.0        0.0   506796.0  ...   421816.00  421816.00   \n",
       "85        0.0        0.0        0.0        0.0  ...   200738.56  200738.56   \n",
       "86    38000.0    38000.0    22000.0    38000.0  ...        0.00       0.00   \n",
       "\n",
       "     buiilt13      ocu13    buiilt14       ocu14    buiilt15       ocu15  \\\n",
       "0           0       0.00        0.00        0.00        0.00        0.00   \n",
       "1   619079.63  439920.97   619079.63   485938.61   619079.63   428063.29   \n",
       "2   240312.07  138017.57   240312.07   172672.00   240312.07   172672.00   \n",
       "3      270488   64500.00    64500.00    64500.00    64500.00    64500.00   \n",
       "4   310078.93  283104.28   310078.93   279648.41   310078.93   279648.41   \n",
       "..        ...        ...         ...         ...         ...         ...   \n",
       "82     688640  688640.00   688640.00   688640.00   656119.00   656119.00   \n",
       "83  1122197.2  994814.98  1122197.20  1067969.53  1122197.00  1122197.00   \n",
       "84     421816  421816.00   421834.00   421834.00   421834.00   421834.00   \n",
       "85  200738.56  200738.56   200738.56   200738.56   200738.56   200738.56   \n",
       "86          0       0.00        0.00        0.00        0.00        0.00   \n",
       "\n",
       "      buiilt16       ocu16  \n",
       "0     33356.00    33356.00  \n",
       "1    563991.87   456251.54  \n",
       "2    240312.07   172734.00  \n",
       "3     64500.00    64500.00  \n",
       "4    337333.20   314720.51  \n",
       "..         ...         ...  \n",
       "82   824250.00   620403.00  \n",
       "83  1261076.26  1157306.67  \n",
       "84   421834.00   421834.00  \n",
       "85   200738.56   200738.56  \n",
       "86        0.00        0.00  \n",
       "\n",
       "[87 rows x 35 columns]"
      ]
     },
     "execution_count": 61,
     "metadata": {},
     "output_type": "execute_result"
    }
   ],
   "source": [
    "nav_agg_00_16.fillna(0, inplace = True)"
   ]
  },
  {
   "cell_type": "code",
   "execution_count": 62,
   "id": "b491e7d9-76d9-45a0-8238-3cb24e078c4a",
   "metadata": {},
   "outputs": [],
   "source": [
    "nav_agg_00_16.to_csv(\"nav_agg_00_16.csv\")"
   ]
  },
  {
   "cell_type": "code",
   "execution_count": null,
   "id": "d323ee59-fc65-41f4-b33b-5c99216c6e0f",
   "metadata": {},
   "outputs": [],
   "source": []
  },
  {
   "cell_type": "code",
   "execution_count": null,
   "id": "06945079-ea65-4ba0-ac5c-877932b61a8d",
   "metadata": {},
   "outputs": [],
   "source": []
  }
 ],
 "metadata": {
  "kernelspec": {
   "display_name": "Python 3 (ipykernel)",
   "language": "python",
   "name": "python3"
  },
  "language_info": {
   "codemirror_mode": {
    "name": "ipython",
    "version": 3
   },
   "file_extension": ".py",
   "mimetype": "text/x-python",
   "name": "python",
   "nbconvert_exporter": "python",
   "pygments_lexer": "ipython3",
   "version": "3.12.0"
  }
 },
 "nbformat": 4,
 "nbformat_minor": 5
}
