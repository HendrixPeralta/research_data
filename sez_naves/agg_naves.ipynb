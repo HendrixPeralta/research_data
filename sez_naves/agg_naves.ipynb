{
 "cells": [
  {
   "cell_type": "code",
   "execution_count": 1,
   "id": "3978936e-0ecb-455b-8416-3b504924255a",
   "metadata": {},
   "outputs": [],
   "source": [
    "import pandas as pd"
   ]
  },
  {
   "cell_type": "code",
   "execution_count": 43,
   "id": "2e12b0ac-d5e3-4050-8e81-2bb58d677282",
   "metadata": {},
   "outputs": [],
   "source": [
    "nav00 = pd.read_csv(\"naves_00.csv\", encoding='utf-8-sig')"
   ]
  },
  {
   "cell_type": "code",
   "execution_count": 44,
   "id": "4540852d-04c1-484f-ad80-c3eb614d27e7",
   "metadata": {},
   "outputs": [],
   "source": [
    "nav01 = pd.read_csv(\"naves_01.csv\", encoding='utf-8-sig')"
   ]
  },
  {
   "cell_type": "code",
   "execution_count": 45,
   "id": "f48b9c91-d33c-4307-8730-ee3ad7378dc8",
   "metadata": {},
   "outputs": [],
   "source": [
    "nav02 = pd.read_csv(\"naves_02.csv\", encoding='utf-8-sig')"
   ]
  },
  {
   "cell_type": "code",
   "execution_count": 46,
   "id": "a0a78106-2bfd-43ab-b060-bd4bc780a30f",
   "metadata": {},
   "outputs": [],
   "source": [
    "nav03 = pd.read_csv(\"naves_03.csv\", encoding='utf-8-sig')"
   ]
  },
  {
   "cell_type": "code",
   "execution_count": 47,
   "id": "37180f5e-9296-410e-8c52-a40a10fa90da",
   "metadata": {},
   "outputs": [],
   "source": [
    "nav04 = pd.read_csv(\"naves_04.csv\", encoding='utf-8-sig')"
   ]
  },
  {
   "cell_type": "code",
   "execution_count": 48,
   "id": "0277aa1a-fb5a-45da-bb48-df61b97310fd",
   "metadata": {},
   "outputs": [],
   "source": [
    "nav05 = pd.read_csv(\"naves_05.csv\", encoding='utf-8-sig')"
   ]
  },
  {
   "cell_type": "code",
   "execution_count": 49,
   "id": "8104b7ac-2aa8-4b5f-a3fb-232b92b75fa2",
   "metadata": {},
   "outputs": [],
   "source": [
    "nav06 = pd.read_csv(\"naves_06.csv\", encoding='utf-8-sig')"
   ]
  },
  {
   "cell_type": "code",
   "execution_count": 50,
   "id": "ba84fbd5-453a-4bfb-8d47-a04f3c535a1f",
   "metadata": {},
   "outputs": [],
   "source": [
    "nav07 = pd.read_csv(\"naves_07.csv\", encoding='utf-8-sig')"
   ]
  },
  {
   "cell_type": "code",
   "execution_count": 51,
   "id": "6f8f774c-5868-4593-8c24-a79d5b2d66b7",
   "metadata": {},
   "outputs": [],
   "source": [
    "nav08 = pd.read_csv(\"naves_08.csv\", encoding='utf-8-sig')"
   ]
  },
  {
   "cell_type": "code",
   "execution_count": 52,
   "id": "b2e2e615-b917-4849-bf45-652deb394a00",
   "metadata": {},
   "outputs": [],
   "source": [
    "nav09 = pd.read_csv(\"naves_09.csv\", encoding='utf-8-sig')"
   ]
  },
  {
   "cell_type": "code",
   "execution_count": 53,
   "id": "81709ad3-f5a5-4e1e-a670-8add059c7b2a",
   "metadata": {},
   "outputs": [],
   "source": [
    "nav10 = pd.read_csv(\"naves_10.csv\", encoding='utf-8-sig')"
   ]
  },
  {
   "cell_type": "code",
   "execution_count": 54,
   "id": "1e9f070b-0ea5-43a0-9a8d-e7dbb11bbc74",
   "metadata": {},
   "outputs": [],
   "source": [
    "nav11 = pd.read_csv(\"naves_11.csv\", encoding='utf-8-sig')"
   ]
  },
  {
   "cell_type": "code",
   "execution_count": 55,
   "id": "16d0d7fa-a39c-4348-8709-c49640269ae1",
   "metadata": {},
   "outputs": [],
   "source": [
    "nav12 = pd.read_csv(\"naves_12.csv\", encoding='utf-8-sig')"
   ]
  },
  {
   "cell_type": "code",
   "execution_count": 56,
   "id": "ce267c67-8a1a-4270-8a16-dab53476cb77",
   "metadata": {},
   "outputs": [],
   "source": [
    "nav13 = pd.read_csv(\"naves_13.csv\", encoding='utf-8-sig')"
   ]
  },
  {
   "cell_type": "code",
   "execution_count": 57,
   "id": "a35b461a-88f7-4229-b016-30e24d8a51f3",
   "metadata": {},
   "outputs": [],
   "source": [
    "nav14 = pd.read_csv(\"naves_14.csv\", encoding='utf-8-sig')"
   ]
  },
  {
   "cell_type": "code",
   "execution_count": 58,
   "id": "768ddeee-e1a3-41d0-a9be-75201b16087b",
   "metadata": {},
   "outputs": [],
   "source": [
    "nav15 = pd.read_csv(\"naves_15.csv\", encoding='utf-8-sig')"
   ]
  },
  {
   "cell_type": "code",
   "execution_count": 59,
   "id": "22f3a0b4-fc92-4f04-8ef7-7eae51a493d1",
   "metadata": {},
   "outputs": [],
   "source": [
    "nav16 = pd.read_csv(\"naves_16.csv\", encoding='utf-8-sig')"
   ]
  },
  {
   "cell_type": "code",
   "execution_count": 60,
   "id": "53c3068e-83be-4489-bb64-4c0727d4b230",
   "metadata": {},
   "outputs": [
    {
     "data": {
      "text/plain": [
       "Index(['code', 'park', ' area00', ' buiilt00', ' ocu00', ' availa00'], dtype='object')"
      ]
     },
     "execution_count": 60,
     "metadata": {},
     "output_type": "execute_result"
    }
   ],
   "source": [
    "nav00.columns"
   ]
  },
  {
   "cell_type": "code",
   "execution_count": 61,
   "id": "ed25da77-45c2-4c25-95a1-322d8c0597cb",
   "metadata": {},
   "outputs": [],
   "source": [
    "def f(df):\n",
    "    m = df.columns.str.contains(\"buiilt\")|df.columns.str.contains(\"ocu\")|(df.columns == \"code\")\n",
    "    return df.loc[:,m]"
   ]
  },
  {
   "cell_type": "code",
   "execution_count": null,
   "id": "319e3150-6400-4e15-a684-671c04094514",
   "metadata": {},
   "outputs": [],
   "source": [
    " "
   ]
  },
  {
   "cell_type": "code",
   "execution_count": 62,
   "id": "60f4bab4-b862-4379-9ccb-30a3c91f78c0",
   "metadata": {},
   "outputs": [],
   "source": [
    "nav_agg_00_16 = pd.merge(f(nav00), f(nav01), on=\"code\", how=\"outer\")"
   ]
  },
  {
   "cell_type": "code",
   "execution_count": 63,
   "id": "af327a79-7b89-4359-9beb-0f9368b16a4d",
   "metadata": {},
   "outputs": [],
   "source": [
    "nav_agg_00_16 = pd.merge(nav_agg_00_16, f(nav02), on=\"code\", how=\"outer\")"
   ]
  },
  {
   "cell_type": "code",
   "execution_count": 64,
   "id": "fd098f16-7724-4418-8964-d0e3a0ebb0b9",
   "metadata": {},
   "outputs": [],
   "source": [
    "nav_agg_00_16 = pd.merge(nav_agg_00_16, f(nav03), on=\"code\", how=\"outer\")"
   ]
  },
  {
   "cell_type": "code",
   "execution_count": 65,
   "id": "334b4f5b-d688-434a-bbc2-873cafd81aec",
   "metadata": {},
   "outputs": [],
   "source": [
    "nav_agg_00_16 = pd.merge(nav_agg_00_16, f(nav04), on=\"code\", how=\"outer\")"
   ]
  },
  {
   "cell_type": "code",
   "execution_count": 66,
   "id": "163d79c3-8c56-4f3b-ac72-6e9d333a1fad",
   "metadata": {},
   "outputs": [],
   "source": [
    "nav_agg_00_16 = pd.merge(nav_agg_00_16, f(nav05), on=\"code\", how=\"outer\")"
   ]
  },
  {
   "cell_type": "code",
   "execution_count": 67,
   "id": "27f8d09d-e6f0-4e13-8908-2ccae53af298",
   "metadata": {},
   "outputs": [],
   "source": [
    "nav_agg_00_16 = pd.merge(nav_agg_00_16, f(nav06), on=\"code\", how=\"outer\")"
   ]
  },
  {
   "cell_type": "code",
   "execution_count": 68,
   "id": "2d98da20-8ed7-4465-87ec-3de82c37ff59",
   "metadata": {},
   "outputs": [],
   "source": [
    "nav_agg_00_16 = pd.merge(nav_agg_00_16, f(nav07), on=\"code\", how=\"outer\")"
   ]
  },
  {
   "cell_type": "code",
   "execution_count": 69,
   "id": "99983d09-cd91-4d9f-aa0e-dffd7792a314",
   "metadata": {},
   "outputs": [],
   "source": [
    "nav_agg_00_16 = pd.merge(nav_agg_00_16, f(nav08), on=\"code\", how=\"outer\")"
   ]
  },
  {
   "cell_type": "code",
   "execution_count": 70,
   "id": "0dd256dd-1127-4174-a845-f1c11173156d",
   "metadata": {},
   "outputs": [],
   "source": [
    "nav_agg_00_16 = pd.merge(nav_agg_00_16, f(nav09), on=\"code\", how=\"outer\")"
   ]
  },
  {
   "cell_type": "code",
   "execution_count": 71,
   "id": "9b509af3-2196-4010-8780-90db002d5cad",
   "metadata": {},
   "outputs": [],
   "source": [
    "nav_agg_00_16 = pd.merge(nav_agg_00_16, f(nav10), on=\"code\", how=\"outer\")"
   ]
  },
  {
   "cell_type": "code",
   "execution_count": 72,
   "id": "94f2e2d4-1e26-4a5b-b5bb-31b11a3c1b09",
   "metadata": {},
   "outputs": [],
   "source": [
    "nav_agg_00_16 = pd.merge(nav_agg_00_16, f(nav11), on=\"code\", how=\"outer\")"
   ]
  },
  {
   "cell_type": "code",
   "execution_count": 73,
   "id": "a1a49839-4591-49cc-bf52-b8cb63b4daa5",
   "metadata": {},
   "outputs": [],
   "source": [
    "nav_agg_00_16 = pd.merge(nav_agg_00_16, f(nav12), on=\"code\", how=\"outer\")"
   ]
  },
  {
   "cell_type": "code",
   "execution_count": 74,
   "id": "c2598f38-df30-4d84-bbba-db2327746730",
   "metadata": {},
   "outputs": [],
   "source": [
    "nav_agg_00_16 = pd.merge(nav_agg_00_16, f(nav13), on=\"code\", how=\"outer\")"
   ]
  },
  {
   "cell_type": "code",
   "execution_count": 75,
   "id": "e42babc6-dfcf-4d5b-be99-86cad1564a6f",
   "metadata": {},
   "outputs": [],
   "source": [
    "nav_agg_00_16 = pd.merge(nav_agg_00_16, f(nav14), on=\"code\", how=\"outer\")"
   ]
  },
  {
   "cell_type": "code",
   "execution_count": 76,
   "id": "8ed1a7ae-258f-45ea-902d-0717dca22d86",
   "metadata": {},
   "outputs": [],
   "source": [
    "nav_agg_00_16 = pd.merge(nav_agg_00_16, f(nav15), on=\"code\", how=\"outer\")"
   ]
  },
  {
   "cell_type": "code",
   "execution_count": 77,
   "id": "8c6e94ed-2f9d-403e-84b8-ad38b5010c07",
   "metadata": {},
   "outputs": [],
   "source": [
    "nav_agg_00_16 = pd.merge(nav_agg_00_16, f(nav16), on=\"code\", how=\"outer\")"
   ]
  },
  {
   "cell_type": "code",
   "execution_count": 78,
   "id": "cdfcca66-5776-4ac5-965a-1632b94988b3",
   "metadata": {},
   "outputs": [],
   "source": [
    "nav_agg_00_16.fillna(0, inplace = True)"
   ]
  },
  {
   "cell_type": "code",
   "execution_count": null,
   "id": "35c9ab81-fa3d-4f12-a343-799922e20aae",
   "metadata": {},
   "outputs": [],
   "source": []
  },
  {
   "cell_type": "code",
   "execution_count": null,
   "id": "e74b640b-6b19-4377-ab80-bfeace967971",
   "metadata": {},
   "outputs": [],
   "source": []
  },
  {
   "cell_type": "code",
   "execution_count": 79,
   "id": "d323ee59-fc65-41f4-b33b-5c99216c6e0f",
   "metadata": {},
   "outputs": [],
   "source": [
    "built_sez = nav_agg_00_16[nav_agg_00_16.columns[nav_agg_00_16.columns.str.contains(\"bui|code\")]]"
   ]
  },
  {
   "cell_type": "code",
   "execution_count": 81,
   "id": "eb5d5747-af6f-4bb2-86dc-2a9d49f54f37",
   "metadata": {},
   "outputs": [
    {
     "data": {
      "text/plain": [
       "code          object\n",
       " buiilt00    float64\n",
       " buiilt01    float64\n",
       " buiilt02    float64\n",
       " buiilt03    float64\n",
       " buiilt04    float64\n",
       " buiilt05    float64\n",
       " buiilt06    float64\n",
       " buiilt07    float64\n",
       " buiilt08    float64\n",
       " buiilt09    float64\n",
       " buiilt10    float64\n",
       " buiilt11    float64\n",
       " buiilt12    float64\n",
       " buiilt13     object\n",
       " buiilt14    float64\n",
       " buiilt15    float64\n",
       " buiilt16    float64\n",
       "dtype: object"
      ]
     },
     "execution_count": 81,
     "metadata": {},
     "output_type": "execute_result"
    }
   ],
   "source": [
    "built_sez.dtypes"
   ]
  },
  {
   "cell_type": "code",
   "execution_count": 80,
   "id": "06945079-ea65-4ba0-ac5c-877932b61a8d",
   "metadata": {},
   "outputs": [],
   "source": [
    "ocu_sez = nav_agg_00_16[nav_agg_00_16.columns[nav_agg_00_16.columns.str.contains(\"ocu|code\")]]"
   ]
  },
  {
   "cell_type": "code",
   "execution_count": 40,
   "id": "ee59c341-a814-4ccd-9461-f8dccfb03674",
   "metadata": {},
   "outputs": [],
   "source": [
    "nav_agg_00_16 = pd.merge(built_sez, ocu_sez, on=\"code\", how=\"outer\")"
   ]
  },
  {
   "cell_type": "code",
   "execution_count": 41,
   "id": "c637f51b-7be2-4dec-a47b-9d3fddec6b22",
   "metadata": {},
   "outputs": [],
   "source": [
    "nav_agg_00_16.columns = nav_agg_00_16.columns.str.strip()"
   ]
  },
  {
   "cell_type": "code",
   "execution_count": null,
   "id": "ee9effea-9290-4fac-9717-b35a8112582a",
   "metadata": {},
   "outputs": [],
   "source": []
  },
  {
   "cell_type": "code",
   "execution_count": 42,
   "id": "03487d0b-ec54-4f49-8cad-8dc934c47292",
   "metadata": {},
   "outputs": [],
   "source": [
    "nav_agg_00_16.to_csv(\"nav_agg_00_16.csv\", index = False)"
   ]
  },
  {
   "cell_type": "code",
   "execution_count": null,
   "id": "16495fad-3837-4184-86ad-a7e3a7326255",
   "metadata": {},
   "outputs": [],
   "source": []
  },
  {
   "cell_type": "code",
   "execution_count": null,
   "id": "55eb96ad-4d18-4331-bcae-f2e1dc6ee1ca",
   "metadata": {},
   "outputs": [],
   "source": []
  }
 ],
 "metadata": {
  "kernelspec": {
   "display_name": "Python 3 (ipykernel)",
   "language": "python",
   "name": "python3"
  },
  "language_info": {
   "codemirror_mode": {
    "name": "ipython",
    "version": 3
   },
   "file_extension": ".py",
   "mimetype": "text/x-python",
   "name": "python",
   "nbconvert_exporter": "python",
   "pygments_lexer": "ipython3",
   "version": "3.12.0"
  }
 },
 "nbformat": 4,
 "nbformat_minor": 5
}
