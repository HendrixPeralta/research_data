{
 "cells": [
  {
   "cell_type": "code",
   "execution_count": 1,
   "id": "3978936e-0ecb-455b-8416-3b504924255a",
   "metadata": {},
   "outputs": [],
   "source": [
    "import pandas as pd"
   ]
  },
  {
   "cell_type": "code",
   "execution_count": 2,
   "id": "2e12b0ac-d5e3-4050-8e81-2bb58d677282",
   "metadata": {},
   "outputs": [],
   "source": [
    "nav00 = pd.read_csv(\"naves_00.csv\", encoding='utf-8-sig')"
   ]
  },
  {
   "cell_type": "code",
   "execution_count": 3,
   "id": "4540852d-04c1-484f-ad80-c3eb614d27e7",
   "metadata": {},
   "outputs": [],
   "source": [
    "nav01 = pd.read_csv(\"naves_01.csv\", encoding='utf-8-sig')"
   ]
  },
  {
   "cell_type": "code",
   "execution_count": 4,
   "id": "f48b9c91-d33c-4307-8730-ee3ad7378dc8",
   "metadata": {},
   "outputs": [],
   "source": [
    "nav02 = pd.read_csv(\"naves_02.csv\", encoding='utf-8-sig')"
   ]
  },
  {
   "cell_type": "code",
   "execution_count": 5,
   "id": "a0a78106-2bfd-43ab-b060-bd4bc780a30f",
   "metadata": {},
   "outputs": [],
   "source": [
    "nav03 = pd.read_csv(\"naves_03.csv\", encoding='utf-8-sig')"
   ]
  },
  {
   "cell_type": "code",
   "execution_count": 6,
   "id": "37180f5e-9296-410e-8c52-a40a10fa90da",
   "metadata": {},
   "outputs": [],
   "source": [
    "nav04 = pd.read_csv(\"naves_04.csv\", encoding='utf-8-sig')"
   ]
  },
  {
   "cell_type": "code",
   "execution_count": 7,
   "id": "0277aa1a-fb5a-45da-bb48-df61b97310fd",
   "metadata": {},
   "outputs": [],
   "source": [
    "nav05 = pd.read_csv(\"naves_05.csv\", encoding='utf-8-sig')"
   ]
  },
  {
   "cell_type": "code",
   "execution_count": 8,
   "id": "8104b7ac-2aa8-4b5f-a3fb-232b92b75fa2",
   "metadata": {},
   "outputs": [],
   "source": [
    "nav06 = pd.read_csv(\"naves_06.csv\", encoding='utf-8-sig')"
   ]
  },
  {
   "cell_type": "code",
   "execution_count": 9,
   "id": "ba84fbd5-453a-4bfb-8d47-a04f3c535a1f",
   "metadata": {},
   "outputs": [],
   "source": [
    "nav07 = pd.read_csv(\"naves_07.csv\", encoding='utf-8-sig')"
   ]
  },
  {
   "cell_type": "code",
   "execution_count": 10,
   "id": "6f8f774c-5868-4593-8c24-a79d5b2d66b7",
   "metadata": {},
   "outputs": [],
   "source": [
    "nav08 = pd.read_csv(\"naves_08.csv\", encoding='utf-8-sig')"
   ]
  },
  {
   "cell_type": "code",
   "execution_count": 11,
   "id": "b2e2e615-b917-4849-bf45-652deb394a00",
   "metadata": {},
   "outputs": [],
   "source": [
    "nav09 = pd.read_csv(\"naves_09.csv\", encoding='utf-8-sig')"
   ]
  },
  {
   "cell_type": "code",
   "execution_count": 12,
   "id": "81709ad3-f5a5-4e1e-a670-8add059c7b2a",
   "metadata": {},
   "outputs": [],
   "source": [
    "nav10 = pd.read_csv(\"naves_10.csv\", encoding='utf-8-sig')"
   ]
  },
  {
   "cell_type": "code",
   "execution_count": 13,
   "id": "1e9f070b-0ea5-43a0-9a8d-e7dbb11bbc74",
   "metadata": {},
   "outputs": [],
   "source": [
    "nav11 = pd.read_csv(\"naves_11.csv\", encoding='utf-8-sig')"
   ]
  },
  {
   "cell_type": "code",
   "execution_count": 14,
   "id": "16d0d7fa-a39c-4348-8709-c49640269ae1",
   "metadata": {},
   "outputs": [],
   "source": [
    "nav12 = pd.read_csv(\"naves_12.csv\", encoding='utf-8-sig')"
   ]
  },
  {
   "cell_type": "code",
   "execution_count": 15,
   "id": "ce267c67-8a1a-4270-8a16-dab53476cb77",
   "metadata": {},
   "outputs": [],
   "source": [
    "nav13 = pd.read_csv(\"naves_13.csv\", encoding='utf-8-sig')"
   ]
  },
  {
   "cell_type": "code",
   "execution_count": 16,
   "id": "a35b461a-88f7-4229-b016-30e24d8a51f3",
   "metadata": {},
   "outputs": [],
   "source": [
    "nav14 = pd.read_csv(\"naves_14.csv\", encoding='utf-8-sig')"
   ]
  },
  {
   "cell_type": "code",
   "execution_count": 17,
   "id": "768ddeee-e1a3-41d0-a9be-75201b16087b",
   "metadata": {},
   "outputs": [],
   "source": [
    "nav15 = pd.read_csv(\"naves_15.csv\", encoding='utf-8-sig')"
   ]
  },
  {
   "cell_type": "code",
   "execution_count": 18,
   "id": "22f3a0b4-fc92-4f04-8ef7-7eae51a493d1",
   "metadata": {},
   "outputs": [],
   "source": [
    "nav16 = pd.read_csv(\"naves_16.csv\", encoding='utf-8-sig')"
   ]
  },
  {
   "cell_type": "code",
   "execution_count": 19,
   "id": "53c3068e-83be-4489-bb64-4c0727d4b230",
   "metadata": {},
   "outputs": [
    {
     "data": {
      "text/plain": [
       "Index(['code', 'park16', ' buiilt16', ' ocu16', ' availa16'], dtype='object')"
      ]
     },
     "execution_count": 19,
     "metadata": {},
     "output_type": "execute_result"
    }
   ],
   "source": [
    "nav16.columns"
   ]
  },
  {
   "cell_type": "code",
   "execution_count": 24,
   "id": "ed25da77-45c2-4c25-95a1-322d8c0597cb",
   "metadata": {},
   "outputs": [],
   "source": [
    "def f(df):\n",
    "    m = df.columns.str.contains(\"park\")\n",
    "    return df.loc[:,m]"
   ]
  },
  {
   "cell_type": "code",
   "execution_count": 28,
   "id": "60f4bab4-b862-4379-9ccb-30a3c91f78c0",
   "metadata": {},
   "outputs": [
    {
     "data": {
      "text/html": [
       "<div>\n",
       "<style scoped>\n",
       "    .dataframe tbody tr th:only-of-type {\n",
       "        vertical-align: middle;\n",
       "    }\n",
       "\n",
       "    .dataframe tbody tr th {\n",
       "        vertical-align: top;\n",
       "    }\n",
       "\n",
       "    .dataframe thead th {\n",
       "        text-align: right;\n",
       "    }\n",
       "</style>\n",
       "<table border=\"1\" class=\"dataframe\">\n",
       "  <thead>\n",
       "    <tr style=\"text-align: right;\">\n",
       "      <th></th>\n",
       "      <th>code</th>\n",
       "      <th>buiilt16</th>\n",
       "      <th>ocu16</th>\n",
       "      <th>availa16</th>\n",
       "    </tr>\n",
       "  </thead>\n",
       "  <tbody>\n",
       "    <tr>\n",
       "      <th>0</th>\n",
       "      <td>DOM-AND</td>\n",
       "      <td>64500.00</td>\n",
       "      <td>64500.00</td>\n",
       "      <td>0.00</td>\n",
       "    </tr>\n",
       "    <tr>\n",
       "      <th>1</th>\n",
       "      <td>DOM-BAN</td>\n",
       "      <td>430138.00</td>\n",
       "      <td>325286.00</td>\n",
       "      <td>104852.00</td>\n",
       "    </tr>\n",
       "    <tr>\n",
       "      <th>2</th>\n",
       "      <td>DOM-BAR</td>\n",
       "      <td>299420.14</td>\n",
       "      <td>299420.14</td>\n",
       "      <td>0.00</td>\n",
       "    </tr>\n",
       "    <tr>\n",
       "      <th>3</th>\n",
       "      <td>DOM-VIS</td>\n",
       "      <td>421834.00</td>\n",
       "      <td>421834.00</td>\n",
       "      <td>0.00</td>\n",
       "    </tr>\n",
       "    <tr>\n",
       "      <th>4</th>\n",
       "      <td>DOM-BON</td>\n",
       "      <td>411800.22</td>\n",
       "      <td>253706.18</td>\n",
       "      <td>158094.04</td>\n",
       "    </tr>\n",
       "    <tr>\n",
       "      <th>...</th>\n",
       "      <td>...</td>\n",
       "      <td>...</td>\n",
       "      <td>...</td>\n",
       "      <td>...</td>\n",
       "    </tr>\n",
       "    <tr>\n",
       "      <th>63</th>\n",
       "      <td>DOM-SAG</td>\n",
       "      <td>66635.70</td>\n",
       "      <td>66635.70</td>\n",
       "      <td>0.00</td>\n",
       "    </tr>\n",
       "    <tr>\n",
       "      <th>64</th>\n",
       "      <td>DOM-6NO</td>\n",
       "      <td>33356.00</td>\n",
       "      <td>33356.00</td>\n",
       "      <td>0.00</td>\n",
       "    </tr>\n",
       "    <tr>\n",
       "      <th>65</th>\n",
       "      <td>DOM-NOR</td>\n",
       "      <td>6797.00</td>\n",
       "      <td>6797.00</td>\n",
       "      <td>0.00</td>\n",
       "    </tr>\n",
       "    <tr>\n",
       "      <th>66</th>\n",
       "      <td>DOM-SUR</td>\n",
       "      <td>14648.00</td>\n",
       "      <td>14648.00</td>\n",
       "      <td>0.00</td>\n",
       "    </tr>\n",
       "    <tr>\n",
       "      <th>67</th>\n",
       "      <td>DOM-JOB</td>\n",
       "      <td>110000.00</td>\n",
       "      <td>110000.00</td>\n",
       "      <td>0.00</td>\n",
       "    </tr>\n",
       "  </tbody>\n",
       "</table>\n",
       "<p>68 rows × 4 columns</p>\n",
       "</div>"
      ],
      "text/plain": [
       "       code   buiilt16      ocu16   availa16\n",
       "0   DOM-AND   64500.00   64500.00       0.00\n",
       "1   DOM-BAN  430138.00  325286.00  104852.00\n",
       "2   DOM-BAR  299420.14  299420.14       0.00\n",
       "3   DOM-VIS  421834.00  421834.00       0.00\n",
       "4   DOM-BON  411800.22  253706.18  158094.04\n",
       "..      ...        ...        ...        ...\n",
       "63  DOM-SAG   66635.70   66635.70       0.00\n",
       "64  DOM-6NO   33356.00   33356.00       0.00\n",
       "65  DOM-NOR    6797.00    6797.00       0.00\n",
       "66  DOM-SUR   14648.00   14648.00       0.00\n",
       "67  DOM-JOB  110000.00  110000.00       0.00\n",
       "\n",
       "[68 rows x 4 columns]"
      ]
     },
     "execution_count": 28,
     "metadata": {},
     "output_type": "execute_result"
    }
   ],
   "source": [
    "nav16.drop(columns=f(nav16))"
   ]
  },
  {
   "cell_type": "code",
   "execution_count": 23,
   "id": "f0612e2f-5715-445b-bdfc-b7e474e0148e",
   "metadata": {},
   "outputs": [
    {
     "data": {
      "text/html": [
       "<div>\n",
       "<style scoped>\n",
       "    .dataframe tbody tr th:only-of-type {\n",
       "        vertical-align: middle;\n",
       "    }\n",
       "\n",
       "    .dataframe tbody tr th {\n",
       "        vertical-align: top;\n",
       "    }\n",
       "\n",
       "    .dataframe thead th {\n",
       "        text-align: right;\n",
       "    }\n",
       "</style>\n",
       "<table border=\"1\" class=\"dataframe\">\n",
       "  <thead>\n",
       "    <tr style=\"text-align: right;\">\n",
       "      <th></th>\n",
       "      <th>code</th>\n",
       "      <th>park16</th>\n",
       "      <th>buiilt16</th>\n",
       "      <th>ocu16</th>\n",
       "      <th>availa16</th>\n",
       "    </tr>\n",
       "  </thead>\n",
       "  <tbody>\n",
       "    <tr>\n",
       "      <th>0</th>\n",
       "      <td>DOM-AND</td>\n",
       "      <td>Andrés</td>\n",
       "      <td>64500.00</td>\n",
       "      <td>64500.00</td>\n",
       "      <td>0.00</td>\n",
       "    </tr>\n",
       "    <tr>\n",
       "      <th>1</th>\n",
       "      <td>DOM-BAN</td>\n",
       "      <td>Baní</td>\n",
       "      <td>430138.00</td>\n",
       "      <td>325286.00</td>\n",
       "      <td>104852.00</td>\n",
       "    </tr>\n",
       "    <tr>\n",
       "      <th>2</th>\n",
       "      <td>DOM-BAR</td>\n",
       "      <td>Barahona</td>\n",
       "      <td>299420.14</td>\n",
       "      <td>299420.14</td>\n",
       "      <td>0.00</td>\n",
       "    </tr>\n",
       "    <tr>\n",
       "      <th>3</th>\n",
       "      <td>DOM-VIS</td>\n",
       "      <td>Bella Vista</td>\n",
       "      <td>421834.00</td>\n",
       "      <td>421834.00</td>\n",
       "      <td>0.00</td>\n",
       "    </tr>\n",
       "    <tr>\n",
       "      <th>4</th>\n",
       "      <td>DOM-BON</td>\n",
       "      <td>Bonao</td>\n",
       "      <td>411800.22</td>\n",
       "      <td>253706.18</td>\n",
       "      <td>158094.04</td>\n",
       "    </tr>\n",
       "    <tr>\n",
       "      <th>...</th>\n",
       "      <td>...</td>\n",
       "      <td>...</td>\n",
       "      <td>...</td>\n",
       "      <td>...</td>\n",
       "      <td>...</td>\n",
       "    </tr>\n",
       "    <tr>\n",
       "      <th>63</th>\n",
       "      <td>DOM-SAG</td>\n",
       "      <td>Zona Franca Ind. SAG</td>\n",
       "      <td>66635.70</td>\n",
       "      <td>66635.70</td>\n",
       "      <td>0.00</td>\n",
       "    </tr>\n",
       "    <tr>\n",
       "      <th>64</th>\n",
       "      <td>DOM-6NO</td>\n",
       "      <td>Zona Franca Industrial 6 de Noviembre</td>\n",
       "      <td>33356.00</td>\n",
       "      <td>33356.00</td>\n",
       "      <td>0.00</td>\n",
       "    </tr>\n",
       "    <tr>\n",
       "      <th>65</th>\n",
       "      <td>DOM-NOR</td>\n",
       "      <td>Zona Franca Industrial del Norte</td>\n",
       "      <td>6797.00</td>\n",
       "      <td>6797.00</td>\n",
       "      <td>0.00</td>\n",
       "    </tr>\n",
       "    <tr>\n",
       "      <th>66</th>\n",
       "      <td>DOM-SUR</td>\n",
       "      <td>Zona Franca Industrial del Sur</td>\n",
       "      <td>14648.00</td>\n",
       "      <td>14648.00</td>\n",
       "      <td>0.00</td>\n",
       "    </tr>\n",
       "    <tr>\n",
       "      <th>67</th>\n",
       "      <td>DOM-JOB</td>\n",
       "      <td>Zona Franca Jobo Industrial</td>\n",
       "      <td>110000.00</td>\n",
       "      <td>110000.00</td>\n",
       "      <td>0.00</td>\n",
       "    </tr>\n",
       "  </tbody>\n",
       "</table>\n",
       "<p>68 rows × 5 columns</p>\n",
       "</div>"
      ],
      "text/plain": [
       "       code                                 park16   buiilt16      ocu16  \\\n",
       "0   DOM-AND                                 Andrés   64500.00   64500.00   \n",
       "1   DOM-BAN                                   Baní  430138.00  325286.00   \n",
       "2   DOM-BAR                               Barahona  299420.14  299420.14   \n",
       "3   DOM-VIS                            Bella Vista  421834.00  421834.00   \n",
       "4   DOM-BON                                  Bonao  411800.22  253706.18   \n",
       "..      ...                                    ...        ...        ...   \n",
       "63  DOM-SAG                   Zona Franca Ind. SAG   66635.70   66635.70   \n",
       "64  DOM-6NO  Zona Franca Industrial 6 de Noviembre   33356.00   33356.00   \n",
       "65  DOM-NOR       Zona Franca Industrial del Norte    6797.00    6797.00   \n",
       "66  DOM-SUR         Zona Franca Industrial del Sur   14648.00   14648.00   \n",
       "67  DOM-JOB            Zona Franca Jobo Industrial  110000.00  110000.00   \n",
       "\n",
       "     availa16  \n",
       "0        0.00  \n",
       "1   104852.00  \n",
       "2        0.00  \n",
       "3        0.00  \n",
       "4   158094.04  \n",
       "..        ...  \n",
       "63       0.00  \n",
       "64       0.00  \n",
       "65       0.00  \n",
       "66       0.00  \n",
       "67       0.00  \n",
       "\n",
       "[68 rows x 5 columns]"
      ]
     },
     "execution_count": 23,
     "metadata": {},
     "output_type": "execute_result"
    }
   ],
   "source": [
    "nav16\n"
   ]
  },
  {
   "cell_type": "code",
   "execution_count": null,
   "id": "b491e7d9-76d9-45a0-8238-3cb24e078c4a",
   "metadata": {},
   "outputs": [],
   "source": []
  },
  {
   "cell_type": "code",
   "execution_count": null,
   "id": "d323ee59-fc65-41f4-b33b-5c99216c6e0f",
   "metadata": {},
   "outputs": [],
   "source": []
  }
 ],
 "metadata": {
  "kernelspec": {
   "display_name": "Python 3 (ipykernel)",
   "language": "python",
   "name": "python3"
  },
  "language_info": {
   "codemirror_mode": {
    "name": "ipython",
    "version": 3
   },
   "file_extension": ".py",
   "mimetype": "text/x-python",
   "name": "python",
   "nbconvert_exporter": "python",
   "pygments_lexer": "ipython3",
   "version": "3.12.0"
  }
 },
 "nbformat": 4,
 "nbformat_minor": 5
}
