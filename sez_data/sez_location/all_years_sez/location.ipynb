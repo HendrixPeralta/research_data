{
 "cells": [
  {
   "cell_type": "code",
   "execution_count": 1,
   "id": "52a7369a-d4f4-41f6-8ba6-65c64013d082",
   "metadata": {},
   "outputs": [],
   "source": [
    "import pandas as pd "
   ]
  },
  {
   "cell_type": "code",
   "execution_count": 5,
   "id": "bb3d5f6c-5699-4952-8579-1387f50b0658",
   "metadata": {},
   "outputs": [],
   "source": [
    "sez = pd.read_csv(\"clean_id_loc_year_type.csv\", encoding='cp1252')"
   ]
  },
  {
   "cell_type": "code",
   "execution_count": 11,
   "id": "b3526d2e-3568-4394-b396-0026159da4af",
   "metadata": {},
   "outputs": [],
   "source": [
    "sez_1999 = sez[sez[\"start\"]<2000]"
   ]
  },
  {
   "cell_type": "code",
   "execution_count": 22,
   "id": "3827a203-7839-4c5e-b342-1aff61a6a996",
   "metadata": {},
   "outputs": [],
   "source": [
    "sez_2000 = sez[sez[\"start\"]<2000]"
   ]
  },
  {
   "cell_type": "code",
   "execution_count": 18,
   "id": "a50d31c4-43b4-4eac-a6a4-875e2914bceb",
   "metadata": {},
   "outputs": [],
   "source": [
    "sez_2005 = sez[(sez[\"start\"]>2000) & (sez[\"start\"]<2006)]"
   ]
  },
  {
   "cell_type": "code",
   "execution_count": 19,
   "id": "7d384536-e2e4-4402-a557-6bb9c20deaf5",
   "metadata": {},
   "outputs": [],
   "source": [
    "sez_2010 = sez[(sez[\"start\"]>2005) & (sez[\"start\"]<2010)]"
   ]
  },
  {
   "cell_type": "code",
   "execution_count": 20,
   "id": "17bfd398-6c25-42d9-af9d-fb8a33c489a5",
   "metadata": {},
   "outputs": [],
   "source": [
    "sez_2015 = sez[(sez[\"start\"]>2009) & (sez[\"start\"]<2016)]"
   ]
  },
  {
   "cell_type": "code",
   "execution_count": 21,
   "id": "810cd807-fe10-4895-b847-a9586453f0eb",
   "metadata": {},
   "outputs": [],
   "source": [
    "sez_2020 = sez[(sez[\"start\"]>2015)& (sez[\"start\"]<2021)]"
   ]
  },
  {
   "cell_type": "code",
   "execution_count": 27,
   "id": "432fc6b5-b82d-42e2-b635-7d089947becd",
   "metadata": {},
   "outputs": [],
   "source": [
    "sez_periods = [sez_1999, sez_2000, sez_2005, sez_2010, sez_2015, sez_2020]\n",
    "periods_names = [\"sez_1999\", \"sez_2000\", \"sez_2005\", \"sez_2010\", \"sez_2015\", \"sez_2020\"]"
   ]
  },
  {
   "cell_type": "code",
   "execution_count": 29,
   "id": "81073e80-e142-4922-a461-e127fb8c7a6c",
   "metadata": {},
   "outputs": [],
   "source": [
    "for period, name in zip(sez_periods, periods_names):\n",
    "    period.to_csv(f\"{name}/{name}.csv\", index=False)"
   ]
  },
  {
   "cell_type": "code",
   "execution_count": null,
   "id": "70fc2987-1a50-42be-97bb-378ef80646f9",
   "metadata": {},
   "outputs": [],
   "source": []
  }
 ],
 "metadata": {
  "kernelspec": {
   "display_name": "Python 3 (ipykernel)",
   "language": "python",
   "name": "python3"
  },
  "language_info": {
   "codemirror_mode": {
    "name": "ipython",
    "version": 3
   },
   "file_extension": ".py",
   "mimetype": "text/x-python",
   "name": "python",
   "nbconvert_exporter": "python",
   "pygments_lexer": "ipython3",
   "version": "3.12.0"
  }
 },
 "nbformat": 4,
 "nbformat_minor": 5
}
