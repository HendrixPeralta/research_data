{
 "cells": [
  {
   "cell_type": "code",
   "execution_count": 48,
   "id": "6f681634-8402-4aae-9f05-e183a1845310",
   "metadata": {},
   "outputs": [],
   "source": [
    "import pandas as pd "
   ]
  },
  {
   "cell_type": "code",
   "execution_count": 49,
   "id": "5bf6f0ad-eadd-485d-a6ad-963f653bf936",
   "metadata": {},
   "outputs": [],
   "source": [
    "ent2000 = pd.read_csv(\"ent2000.csv\", encoding='cp1252')"
   ]
  },
  {
   "cell_type": "code",
   "execution_count": 50,
   "id": "89bc8a7d-a8bb-42da-b2a6-ee937ea7b26f",
   "metadata": {},
   "outputs": [],
   "source": [
    "ent2001 = pd.read_csv(\"ent2001.csv\", encoding='cp1252')"
   ]
  },
  {
   "cell_type": "code",
   "execution_count": 51,
   "id": "e95eaadf-785c-4c22-9633-efa367d48282",
   "metadata": {},
   "outputs": [],
   "source": [
    "ent2002 = pd.read_csv(\"ent2002.csv\", encoding='cp1252')"
   ]
  },
  {
   "cell_type": "code",
   "execution_count": 52,
   "id": "8d95c492-aa87-4893-8905-3d952e143754",
   "metadata": {},
   "outputs": [],
   "source": [
    "ent2003 = pd.read_csv(\"ent2003.csv\", encoding='cp1252')"
   ]
  },
  {
   "cell_type": "code",
   "execution_count": 53,
   "id": "4cac8773-bfbb-4c08-b9f7-d884e2770b07",
   "metadata": {},
   "outputs": [],
   "source": [
    "ent2004 = pd.read_csv(\"ent2004.csv\", encoding='cp1252')"
   ]
  },
  {
   "cell_type": "code",
   "execution_count": 54,
   "id": "f32898d0-4525-40e5-98c2-d176388c372f",
   "metadata": {},
   "outputs": [],
   "source": [
    "ent2005 = pd.read_csv(\"ent2005.csv\", encoding='cp1252')"
   ]
  },
  {
   "cell_type": "code",
   "execution_count": 55,
   "id": "59e87c8e-016f-404d-b6ea-a9bdd4ab4a17",
   "metadata": {},
   "outputs": [],
   "source": [
    "ent2006 = pd.read_csv(\"ent2006.csv\", encoding='cp1252')"
   ]
  },
  {
   "cell_type": "code",
   "execution_count": 56,
   "id": "eace4624-703c-424e-a3c4-c9aa76c2bf9c",
   "metadata": {},
   "outputs": [],
   "source": [
    "ent2007 = pd.read_csv(\"ent2007.csv\", encoding='cp1252')"
   ]
  },
  {
   "cell_type": "code",
   "execution_count": 57,
   "id": "5b91cf29-f057-42d9-8970-a23d20355197",
   "metadata": {},
   "outputs": [],
   "source": [
    "ent2008 = pd.read_csv(\"ent2008.csv\", encoding='cp1252')"
   ]
  },
  {
   "cell_type": "code",
   "execution_count": 58,
   "id": "c206c7ac-5864-4f52-8f0a-a1b6caa32f74",
   "metadata": {},
   "outputs": [],
   "source": [
    "ent2009 = pd.read_csv(\"ent2009.csv\", encoding='cp1252')"
   ]
  },
  {
   "cell_type": "code",
   "execution_count": 59,
   "id": "421039f1-ded7-44ed-802b-e5f9c1f5cabe",
   "metadata": {},
   "outputs": [],
   "source": [
    "ent2010 = pd.read_csv(\"ent2010.csv\", encoding='cp1252')"
   ]
  },
  {
   "cell_type": "code",
   "execution_count": 60,
   "id": "e084c57c-f349-4000-bc35-7ee11d3d1843",
   "metadata": {},
   "outputs": [],
   "source": [
    "ent2011 = pd.read_csv(\"ent2011.csv\", encoding='cp1252')"
   ]
  },
  {
   "cell_type": "code",
   "execution_count": 61,
   "id": "1889057a-e9ba-42d5-a207-792b05e4d828",
   "metadata": {},
   "outputs": [],
   "source": [
    "ent2012= pd.read_csv(\"ent2012.csv\", encoding='cp1252')"
   ]
  },
  {
   "cell_type": "code",
   "execution_count": 62,
   "id": "5a75940a-5820-43db-941a-3dab10df5189",
   "metadata": {},
   "outputs": [],
   "source": [
    "ent2014 = pd.read_csv(\"ent2013_2014.csv\", encoding='cp1252')"
   ]
  },
  {
   "cell_type": "code",
   "execution_count": 63,
   "id": "97519940-7524-40c3-b364-ea5d2e523003",
   "metadata": {},
   "outputs": [],
   "source": [
    "ent2015 = pd.read_csv(\"ent2015.csv\", encoding='cp1252')"
   ]
  },
  {
   "cell_type": "code",
   "execution_count": 64,
   "id": "534a5d99-437b-4b50-b032-c85d2483e236",
   "metadata": {},
   "outputs": [],
   "source": [
    "ent2016 = pd.read_csv(\"ent2016.csv\", encoding='cp1252')"
   ]
  },
  {
   "cell_type": "code",
   "execution_count": 65,
   "id": "73777e1e-62fb-4465-8368-a7aa6f9e5bde",
   "metadata": {},
   "outputs": [],
   "source": [
    "ent2017 = pd.read_csv(\"ent2017.csv\", encoding='cp1252')"
   ]
  },
  {
   "cell_type": "code",
   "execution_count": 66,
   "id": "3d0db1a0-535e-42f3-bd1d-c0a7aea7e33a",
   "metadata": {},
   "outputs": [],
   "source": [
    "ent2018 = pd.read_csv(\"ent2018.csv\", encoding='cp1252')"
   ]
  },
  {
   "cell_type": "code",
   "execution_count": 67,
   "id": "574e304d-ee62-4f02-bbe9-3f1bebbdc373",
   "metadata": {},
   "outputs": [],
   "source": [
    "ent2019 = pd.read_csv(\"ent2019.csv\", encoding='cp1252')\n",
    "ent2019.rename(columns={\"enter_2019\":\"ent19\"}, inplace=True) "
   ]
  },
  {
   "cell_type": "code",
   "execution_count": 68,
   "id": "953dccfb-bef7-49de-8e78-74558cafda30",
   "metadata": {},
   "outputs": [
    {
     "data": {
      "text/plain": [
       "Index(['code', 'park', 'ent19'], dtype='object')"
      ]
     },
     "execution_count": 68,
     "metadata": {},
     "output_type": "execute_result"
    }
   ],
   "source": [
    "ent2019.columns"
   ]
  },
  {
   "cell_type": "code",
   "execution_count": 69,
   "id": "f9a7d442-ede6-42cb-b1fa-6ff83bc29532",
   "metadata": {},
   "outputs": [],
   "source": [
    "ent99_19 = pd.merge(ent2000[[\"code\",\"park\", \"ent99\", \"ent00\"]], ent2001[[\"code\", \"ent01\"]], on='code',how='outer')"
   ]
  },
  {
   "cell_type": "code",
   "execution_count": 70,
   "id": "edf523be-8347-4250-a09f-c812d3e9fc59",
   "metadata": {},
   "outputs": [],
   "source": [
    "ent99_19 = pd.merge(ent99_19, ent2002[[\"code\", \"ent02\"]], on='code',how='outer')"
   ]
  },
  {
   "cell_type": "code",
   "execution_count": 71,
   "id": "3dab8552-e8e6-4417-a7c6-0a43660a0970",
   "metadata": {},
   "outputs": [],
   "source": [
    "ent99_19 = pd.merge(ent99_19, ent2003[[\"code\", \"ent03\"]], on='code',how='outer')"
   ]
  },
  {
   "cell_type": "code",
   "execution_count": 72,
   "id": "2c4c0322-1b08-4878-8eda-19c9cdd44fa0",
   "metadata": {},
   "outputs": [],
   "source": [
    "ent99_19 = pd.merge(ent99_19, ent2004[[\"code\", \"ent04\"]], on='code',how='outer')"
   ]
  },
  {
   "cell_type": "code",
   "execution_count": 73,
   "id": "0cec4269-fe2e-4c02-86c8-132d15e55bbc",
   "metadata": {},
   "outputs": [],
   "source": [
    "ent99_19 = pd.merge(ent99_19, ent2005[[\"code\", \"ent05\"]], on='code',how='outer')"
   ]
  },
  {
   "cell_type": "code",
   "execution_count": 74,
   "id": "35781446-f559-4123-8669-9fc8504997f6",
   "metadata": {},
   "outputs": [],
   "source": [
    "ent99_19 = pd.merge(ent99_19, ent2006[[\"code\", \"ent06\"]], on='code',how='outer')"
   ]
  },
  {
   "cell_type": "code",
   "execution_count": 75,
   "id": "6b2678ae-94e7-45b7-acf2-b101759ebbd4",
   "metadata": {},
   "outputs": [],
   "source": [
    "ent99_19 = pd.merge(ent99_19, ent2007[[\"code\", \"ent07\"]], on='code',how='outer')"
   ]
  },
  {
   "cell_type": "code",
   "execution_count": 76,
   "id": "fb5fbc59-d3ad-46f8-9b52-bbe27a02c22e",
   "metadata": {},
   "outputs": [],
   "source": [
    "ent99_19 = pd.merge(ent99_19, ent2008[[\"code\", \"ent08\"]], on='code',how='outer')"
   ]
  },
  {
   "cell_type": "code",
   "execution_count": 77,
   "id": "465c7357-6c2c-45c5-bda5-cc9f538c16ab",
   "metadata": {},
   "outputs": [],
   "source": [
    "ent99_19 = pd.merge(ent99_19, ent2009[[\"code\", \"ent09\"]], on='code',how='outer')"
   ]
  },
  {
   "cell_type": "code",
   "execution_count": 78,
   "id": "03985dad-d374-41df-bcde-0d6ca8e5bb60",
   "metadata": {},
   "outputs": [],
   "source": [
    "ent99_19 = pd.merge(ent99_19, ent2010[[\"code\", \"ent10\"]], on='code',how='outer')"
   ]
  },
  {
   "cell_type": "code",
   "execution_count": 79,
   "id": "251e1016-b65c-40f2-a58c-a8bc1b648747",
   "metadata": {},
   "outputs": [],
   "source": [
    "ent99_19 = pd.merge(ent99_19, ent2011[[\"code\", \"ent11\"]], on='code',how='outer')"
   ]
  },
  {
   "cell_type": "code",
   "execution_count": 80,
   "id": "8a41b239-85d0-49a3-bd4e-d33dc7cdc583",
   "metadata": {},
   "outputs": [],
   "source": [
    "ent99_19 = pd.merge(ent99_19, ent2012[[\"code\", \"ent12\"]], on='code',how='outer')"
   ]
  },
  {
   "cell_type": "code",
   "execution_count": 81,
   "id": "c6530c88-28aa-4824-9245-f86f60c5e7eb",
   "metadata": {},
   "outputs": [],
   "source": [
    "ent99_19 = pd.merge(ent99_19, ent2014[[\"code\", \"ent13\", \"ent14\"]], on='code',how='outer')"
   ]
  },
  {
   "cell_type": "code",
   "execution_count": 82,
   "id": "6e6ff0fe-4ba6-4739-83fd-7f1741738651",
   "metadata": {},
   "outputs": [],
   "source": [
    "ent99_19 = pd.merge(ent99_19, ent2015[[\"code\", \"ent15\"]], on='code',how='outer')"
   ]
  },
  {
   "cell_type": "code",
   "execution_count": 83,
   "id": "4e3569a3-480a-467e-be98-faa52312ef9a",
   "metadata": {},
   "outputs": [],
   "source": [
    "ent99_19 = pd.merge(ent99_19, ent2016[[\"code\", \"ent16\"]], on='code',how='outer')"
   ]
  },
  {
   "cell_type": "code",
   "execution_count": 84,
   "id": "6d543ec5-0718-456c-a08c-5d96760ad077",
   "metadata": {},
   "outputs": [],
   "source": [
    "ent99_19 = pd.merge(ent99_19, ent2017[[\"code\", \"ent17\"]], on='code',how='outer')"
   ]
  },
  {
   "cell_type": "code",
   "execution_count": 85,
   "id": "7bb6373d-925e-4783-86f0-a5146742bef3",
   "metadata": {},
   "outputs": [],
   "source": [
    "ent99_19 = pd.merge(ent99_19, ent2018[[\"code\", \"ent18\"]], on='code',how='outer')"
   ]
  },
  {
   "cell_type": "code",
   "execution_count": 87,
   "id": "37184f95-89fc-45cc-b9ec-9720253ea8e7",
   "metadata": {},
   "outputs": [],
   "source": [
    "ent99_19 = pd.merge(ent99_19, ent2019[[\"code\", \"ent19\"]], on='code',how='outer')"
   ]
  },
  {
   "cell_type": "code",
   "execution_count": 88,
   "id": "40cefc05-93c7-485f-9d99-c9ad17e251dc",
   "metadata": {},
   "outputs": [],
   "source": [
    "ent99_19.fillna(0, inplace=True)"
   ]
  },
  {
   "cell_type": "code",
   "execution_count": 89,
   "id": "37d50989",
   "metadata": {},
   "outputs": [
    {
     "data": {
      "text/plain": [
       "code      object\n",
       "park      object\n",
       "ent99    float64\n",
       "ent00    float64\n",
       "ent01    float64\n",
       "ent02    float64\n",
       "ent03    float64\n",
       "ent04    float64\n",
       "ent05    float64\n",
       "ent06    float64\n",
       "ent07    float64\n",
       "ent08    float64\n",
       "ent09    float64\n",
       "ent10    float64\n",
       "ent11    float64\n",
       "ent12    float64\n",
       "ent13    float64\n",
       "ent14    float64\n",
       "ent15    float64\n",
       "ent16    float64\n",
       "ent17    float64\n",
       "ent18    float64\n",
       "ent19    float64\n",
       "dtype: object"
      ]
     },
     "execution_count": 89,
     "metadata": {},
     "output_type": "execute_result"
    }
   ],
   "source": [
    "ent99_19.dtypes"
   ]
  },
  {
   "cell_type": "code",
   "execution_count": 90,
   "id": "c3557b16-cda8-47b1-9441-620e8aa929db",
   "metadata": {},
   "outputs": [],
   "source": [
    "#ent99_19 = ent99_19[ent99_19[\"code\"] != \"DOM-MAD\"]"
   ]
  },
  {
   "cell_type": "code",
   "execution_count": 91,
   "id": "acf58d57-364d-48af-b8b1-2f387daf9edb",
   "metadata": {},
   "outputs": [],
   "source": [
    "ent99_19.to_csv(\"ent99_19.csv\", index = False)"
   ]
  },
  {
   "cell_type": "code",
   "execution_count": null,
   "id": "b4a966c7-037c-4d7a-b83c-6dfadbede9b3",
   "metadata": {},
   "outputs": [],
   "source": []
  }
 ],
 "metadata": {
  "kernelspec": {
   "display_name": "spatial-analysis",
   "language": "python",
   "name": "python3"
  },
  "language_info": {
   "codemirror_mode": {
    "name": "ipython",
    "version": 3
   },
   "file_extension": ".py",
   "mimetype": "text/x-python",
   "name": "python",
   "nbconvert_exporter": "python",
   "pygments_lexer": "ipython3",
   "version": "3.13.3"
  }
 },
 "nbformat": 4,
 "nbformat_minor": 5
}
