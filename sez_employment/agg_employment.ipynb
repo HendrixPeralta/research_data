{
 "cells": [
  {
   "cell_type": "code",
   "execution_count": 1,
   "id": "b98b69b2-87d0-455e-9daa-9785b45253d7",
   "metadata": {},
   "outputs": [],
   "source": [
    "import pandas as pd "
   ]
  },
  {
   "cell_type": "code",
   "execution_count": 2,
   "id": "643df608-0619-479e-ba99-976dba11e3b5",
   "metadata": {},
   "outputs": [],
   "source": [
    "emp00 = pd.read_csv(\"Emp_2000.csv\",  encoding='utf-8-sig')"
   ]
  },
  {
   "cell_type": "code",
   "execution_count": 3,
   "id": "e6193fb3-236f-419b-860b-0cac00bb71ce",
   "metadata": {},
   "outputs": [],
   "source": [
    "emp01 = pd.read_csv(\"Emp_2001.csv\",  encoding='utf-8-sig')"
   ]
  },
  {
   "cell_type": "code",
   "execution_count": 4,
   "id": "40607c56-3ba3-4c3f-baf4-83d2feedc5fb",
   "metadata": {},
   "outputs": [],
   "source": [
    "emp02 = pd.read_csv(\"Emp_2002.csv\",  encoding='utf-8-sig')"
   ]
  },
  {
   "cell_type": "code",
   "execution_count": 5,
   "id": "ed9a3792-5460-4d02-afb0-16935c4447a1",
   "metadata": {},
   "outputs": [],
   "source": [
    "emp03 = pd.read_csv(\"Emp_2003.csv\",  encoding='utf-8-sig')"
   ]
  },
  {
   "cell_type": "code",
   "execution_count": 6,
   "id": "eb30a941-9af1-4b77-9cda-4b84c5c4b06a",
   "metadata": {},
   "outputs": [],
   "source": [
    "emp04 = pd.read_csv(\"Emp_2004.csv\",  encoding='utf-8-sig')"
   ]
  },
  {
   "cell_type": "code",
   "execution_count": 7,
   "id": "c1b77402-339a-4598-9988-92e1cfeede98",
   "metadata": {},
   "outputs": [],
   "source": [
    "emp05 = pd.read_csv(\"Emp_2005.csv\",  encoding='utf-8-sig')"
   ]
  },
  {
   "cell_type": "code",
   "execution_count": 8,
   "id": "6e91623a-f9d0-4d0d-b3c9-0d4a9628f066",
   "metadata": {},
   "outputs": [],
   "source": [
    "emp06 = pd.read_csv(\"Emp_2006.csv\",  encoding='utf-8-sig')"
   ]
  },
  {
   "cell_type": "code",
   "execution_count": 9,
   "id": "145239b7-535d-4abc-9589-4c270af38eb0",
   "metadata": {},
   "outputs": [],
   "source": [
    "emp07 = pd.read_csv(\"Emp_2007.csv\",  encoding='utf-8-sig')"
   ]
  },
  {
   "cell_type": "code",
   "execution_count": 10,
   "id": "d457ca9b-a1d2-4c0d-ab71-07416fc66872",
   "metadata": {},
   "outputs": [],
   "source": [
    "emp08 = pd.read_csv(\"Emp_2008.csv\",  encoding='utf-8-sig')"
   ]
  },
  {
   "cell_type": "code",
   "execution_count": 11,
   "id": "8a995de7-3001-4645-a66d-28faab53eb5a",
   "metadata": {},
   "outputs": [],
   "source": [
    "emp09 = pd.read_csv(\"Emp_2009.csv\",  encoding='utf-8-sig')"
   ]
  },
  {
   "cell_type": "code",
   "execution_count": 12,
   "id": "ff4e265e-ee98-440e-9cf4-8af2d565ba90",
   "metadata": {},
   "outputs": [],
   "source": [
    "emp10 = pd.read_csv(\"Emp_2010.csv\",  encoding='utf-8-sig')"
   ]
  },
  {
   "cell_type": "code",
   "execution_count": 13,
   "id": "527b1a5a-5a01-48e1-84bd-18f65cef07a3",
   "metadata": {},
   "outputs": [],
   "source": [
    "emp11 = pd.read_csv(\"Emp_2011.csv\",  encoding='utf-8-sig')"
   ]
  },
  {
   "cell_type": "code",
   "execution_count": 14,
   "id": "9de8d6af-a44c-400b-b669-c8aaf71a4736",
   "metadata": {},
   "outputs": [],
   "source": [
    "emp12 = pd.read_csv(\"Emp_2012.csv\",  encoding='utf-8-sig')"
   ]
  },
  {
   "cell_type": "code",
   "execution_count": 15,
   "id": "e6409f17-ec2a-41cc-a61c-88b80def2420",
   "metadata": {},
   "outputs": [],
   "source": [
    "emp14 = pd.read_csv(\"Emp_2014.csv\",  encoding='utf-8-sig')"
   ]
  },
  {
   "cell_type": "code",
   "execution_count": 16,
   "id": "c9846e84-a074-4e75-abba-629e78f81dc1",
   "metadata": {},
   "outputs": [],
   "source": [
    "emp15 = pd.read_csv(\"Emp_2015.csv\",  encoding='utf-8-sig')"
   ]
  },
  {
   "cell_type": "code",
   "execution_count": 17,
   "id": "f20eed43-1afe-4102-8aa9-18358cffaf79",
   "metadata": {},
   "outputs": [],
   "source": [
    "emp16 = pd.read_csv(\"Emp_2016.csv\",  encoding='utf-8-sig')"
   ]
  },
  {
   "cell_type": "code",
   "execution_count": 18,
   "id": "300db63a-8a94-4613-8099-c01b6c8245e2",
   "metadata": {},
   "outputs": [],
   "source": [
    "def f(df):\n",
    "    mask = df.columns.str.contains(\"ob\")|df.columns.str.contains(\"tec\")|df.columns.str.contains(\"adm\")|df.columns.str.contains(\"total\")|(df.columns==\"code\")\n",
    "    return df.loc[:, mask]"
   ]
  },
  {
   "cell_type": "code",
   "execution_count": 19,
   "id": "3bcddcb7-f223-43ab-a257-4745bd6d045c",
   "metadata": {},
   "outputs": [],
   "source": [
    "variables = [emp03, emp04, emp05, emp06, emp07, emp08, emp09, emp10, emp11, emp12, emp14, emp15, emp16]"
   ]
  },
  {
   "cell_type": "code",
   "execution_count": 20,
   "id": "b7244905-6371-4176-bf5d-70f664f489ef",
   "metadata": {},
   "outputs": [],
   "source": [
    "emp_agg = pd.merge(emp00, f(emp01), on=\"code\", how=\"outer\")"
   ]
  },
  {
   "cell_type": "code",
   "execution_count": 21,
   "id": "a12dde16-2d09-49c1-bfb2-e0eaca7b5e03",
   "metadata": {},
   "outputs": [],
   "source": [
    "for var in variables: \n",
    "    emp_agg = pd.merge(emp_agg, f(var), on=\"code\", how=\"outer\")"
   ]
  },
  {
   "cell_type": "code",
   "execution_count": 22,
   "id": "bbd428c7-585e-4100-a5a5-bc9755b6ea9a",
   "metadata": {},
   "outputs": [
    {
     "data": {
      "text/plain": [
       "Index(['code', 'park', 'ob_m_00', 'tec_m_00', 'adm_m_00', 'total_m_00',\n",
       "       'ob_f_00', 'tec_f_00', 'adm_f_00', 'total_f_00',\n",
       "       ...\n",
       "       'total_mf_15', 'ob_m_16', 'tec_m_16', 'adm_m_16', 'total_m_16',\n",
       "       'ob_f_16', 'tec_f_16', 'adm_f_16', 'total_f_16', 'total_mf_16'],\n",
       "      dtype='object', length=137)"
      ]
     },
     "execution_count": 22,
     "metadata": {},
     "output_type": "execute_result"
    }
   ],
   "source": [
    "emp_agg.columns"
   ]
  },
  {
   "cell_type": "code",
   "execution_count": 23,
   "id": "66d459b8-2605-46c0-bf22-8b0955229715",
   "metadata": {
    "scrolled": true
   },
   "outputs": [],
   "source": [
    "emp_agg.fillna(0, inplace= True)"
   ]
  },
  {
   "cell_type": "code",
   "execution_count": 24,
   "id": "0e8d1998-cacb-4f30-afcb-f76d26fa235d",
   "metadata": {},
   "outputs": [],
   "source": [
    "emp_agg = emp_agg[emp_agg['code'] != 0]\n",
    "emp_agg = emp_agg[emp_agg['code'] != \"DOM-ZFE\"]"
   ]
  },
  {
   "cell_type": "code",
   "execution_count": 25,
   "id": "38dedc86-47e2-47c6-9805-4ab1f8bbdd0c",
   "metadata": {},
   "outputs": [
    {
     "data": {
      "text/html": [
       "<div>\n",
       "<style scoped>\n",
       "    .dataframe tbody tr th:only-of-type {\n",
       "        vertical-align: middle;\n",
       "    }\n",
       "\n",
       "    .dataframe tbody tr th {\n",
       "        vertical-align: top;\n",
       "    }\n",
       "\n",
       "    .dataframe thead th {\n",
       "        text-align: right;\n",
       "    }\n",
       "</style>\n",
       "<table border=\"1\" class=\"dataframe\">\n",
       "  <thead>\n",
       "    <tr style=\"text-align: right;\">\n",
       "      <th></th>\n",
       "      <th>code</th>\n",
       "      <th>park</th>\n",
       "      <th>ob_m_00</th>\n",
       "      <th>tec_m_00</th>\n",
       "      <th>adm_m_00</th>\n",
       "      <th>total_m_00</th>\n",
       "      <th>ob_f_00</th>\n",
       "      <th>tec_f_00</th>\n",
       "      <th>adm_f_00</th>\n",
       "      <th>total_f_00</th>\n",
       "      <th>...</th>\n",
       "      <th>total_mf_15</th>\n",
       "      <th>ob_m_16</th>\n",
       "      <th>tec_m_16</th>\n",
       "      <th>adm_m_16</th>\n",
       "      <th>total_m_16</th>\n",
       "      <th>ob_f_16</th>\n",
       "      <th>tec_f_16</th>\n",
       "      <th>adm_f_16</th>\n",
       "      <th>total_f_16</th>\n",
       "      <th>total_mf_16</th>\n",
       "    </tr>\n",
       "  </thead>\n",
       "  <tbody>\n",
       "    <tr>\n",
       "      <th>0</th>\n",
       "      <td>DOM-6NO</td>\n",
       "      <td>0</td>\n",
       "      <td>0.0</td>\n",
       "      <td>0.0</td>\n",
       "      <td>0.0</td>\n",
       "      <td>0.0</td>\n",
       "      <td>0.0</td>\n",
       "      <td>0.0</td>\n",
       "      <td>0.0</td>\n",
       "      <td>0.0</td>\n",
       "      <td>...</td>\n",
       "      <td>0.0</td>\n",
       "      <td>46.0</td>\n",
       "      <td>2.0</td>\n",
       "      <td>10.0</td>\n",
       "      <td>58.0</td>\n",
       "      <td>26.0</td>\n",
       "      <td>0.0</td>\n",
       "      <td>2.0</td>\n",
       "      <td>28.0</td>\n",
       "      <td>86.0</td>\n",
       "    </tr>\n",
       "    <tr>\n",
       "      <th>1</th>\n",
       "      <td>DOM-ALC</td>\n",
       "      <td>Los Alcarrizos</td>\n",
       "      <td>1068.0</td>\n",
       "      <td>157.0</td>\n",
       "      <td>81.0</td>\n",
       "      <td>1306.0</td>\n",
       "      <td>2105.0</td>\n",
       "      <td>59.0</td>\n",
       "      <td>62.0</td>\n",
       "      <td>2226.0</td>\n",
       "      <td>...</td>\n",
       "      <td>0.0</td>\n",
       "      <td>370.0</td>\n",
       "      <td>72.0</td>\n",
       "      <td>43.0</td>\n",
       "      <td>485.0</td>\n",
       "      <td>403.0</td>\n",
       "      <td>23.0</td>\n",
       "      <td>48.0</td>\n",
       "      <td>474.0</td>\n",
       "      <td>959.0</td>\n",
       "    </tr>\n",
       "    <tr>\n",
       "      <th>2</th>\n",
       "      <td>DOM-ALT</td>\n",
       "      <td>Villa Altagracia</td>\n",
       "      <td>362.0</td>\n",
       "      <td>41.0</td>\n",
       "      <td>106.0</td>\n",
       "      <td>509.0</td>\n",
       "      <td>2476.0</td>\n",
       "      <td>15.0</td>\n",
       "      <td>131.0</td>\n",
       "      <td>2622.0</td>\n",
       "      <td>...</td>\n",
       "      <td>0.0</td>\n",
       "      <td>134.0</td>\n",
       "      <td>14.0</td>\n",
       "      <td>10.0</td>\n",
       "      <td>158.0</td>\n",
       "      <td>90.0</td>\n",
       "      <td>3.0</td>\n",
       "      <td>14.0</td>\n",
       "      <td>107.0</td>\n",
       "      <td>265.0</td>\n",
       "    </tr>\n",
       "    <tr>\n",
       "      <th>3</th>\n",
       "      <td>DOM-AND</td>\n",
       "      <td>0</td>\n",
       "      <td>0.0</td>\n",
       "      <td>0.0</td>\n",
       "      <td>0.0</td>\n",
       "      <td>0.0</td>\n",
       "      <td>0.0</td>\n",
       "      <td>0.0</td>\n",
       "      <td>0.0</td>\n",
       "      <td>0.0</td>\n",
       "      <td>...</td>\n",
       "      <td>0.0</td>\n",
       "      <td>3.0</td>\n",
       "      <td>49.0</td>\n",
       "      <td>19.0</td>\n",
       "      <td>71.0</td>\n",
       "      <td>2.0</td>\n",
       "      <td>0.0</td>\n",
       "      <td>6.0</td>\n",
       "      <td>8.0</td>\n",
       "      <td>79.0</td>\n",
       "    </tr>\n",
       "    <tr>\n",
       "      <th>4</th>\n",
       "      <td>DOM-ARM</td>\n",
       "      <td>La Armería</td>\n",
       "      <td>808.0</td>\n",
       "      <td>80.0</td>\n",
       "      <td>34.0</td>\n",
       "      <td>922.0</td>\n",
       "      <td>1719.0</td>\n",
       "      <td>37.0</td>\n",
       "      <td>30.0</td>\n",
       "      <td>1786.0</td>\n",
       "      <td>...</td>\n",
       "      <td>0.0</td>\n",
       "      <td>218.0</td>\n",
       "      <td>27.0</td>\n",
       "      <td>38.0</td>\n",
       "      <td>283.0</td>\n",
       "      <td>407.0</td>\n",
       "      <td>7.0</td>\n",
       "      <td>28.0</td>\n",
       "      <td>442.0</td>\n",
       "      <td>725.0</td>\n",
       "    </tr>\n",
       "    <tr>\n",
       "      <th>...</th>\n",
       "      <td>...</td>\n",
       "      <td>...</td>\n",
       "      <td>...</td>\n",
       "      <td>...</td>\n",
       "      <td>...</td>\n",
       "      <td>...</td>\n",
       "      <td>...</td>\n",
       "      <td>...</td>\n",
       "      <td>...</td>\n",
       "      <td>...</td>\n",
       "      <td>...</td>\n",
       "      <td>...</td>\n",
       "      <td>...</td>\n",
       "      <td>...</td>\n",
       "      <td>...</td>\n",
       "      <td>...</td>\n",
       "      <td>...</td>\n",
       "      <td>...</td>\n",
       "      <td>...</td>\n",
       "      <td>...</td>\n",
       "      <td>...</td>\n",
       "    </tr>\n",
       "    <tr>\n",
       "      <th>82</th>\n",
       "      <td>DOM-TAM</td>\n",
       "      <td>Tamboril</td>\n",
       "      <td>5.0</td>\n",
       "      <td>0.0</td>\n",
       "      <td>5.0</td>\n",
       "      <td>10.0</td>\n",
       "      <td>14.0</td>\n",
       "      <td>0.0</td>\n",
       "      <td>1.0</td>\n",
       "      <td>15.0</td>\n",
       "      <td>...</td>\n",
       "      <td>0.0</td>\n",
       "      <td>2433.0</td>\n",
       "      <td>368.0</td>\n",
       "      <td>114.0</td>\n",
       "      <td>2915.0</td>\n",
       "      <td>2452.0</td>\n",
       "      <td>144.0</td>\n",
       "      <td>93.0</td>\n",
       "      <td>2689.0</td>\n",
       "      <td>5604.0</td>\n",
       "    </tr>\n",
       "    <tr>\n",
       "      <th>83</th>\n",
       "      <td>DOM-VEG</td>\n",
       "      <td>La Vega</td>\n",
       "      <td>6720.0</td>\n",
       "      <td>526.0</td>\n",
       "      <td>204.0</td>\n",
       "      <td>7450.0</td>\n",
       "      <td>5597.0</td>\n",
       "      <td>277.0</td>\n",
       "      <td>156.0</td>\n",
       "      <td>6030.0</td>\n",
       "      <td>...</td>\n",
       "      <td>0.0</td>\n",
       "      <td>2508.0</td>\n",
       "      <td>442.0</td>\n",
       "      <td>90.0</td>\n",
       "      <td>3040.0</td>\n",
       "      <td>2654.0</td>\n",
       "      <td>116.0</td>\n",
       "      <td>58.0</td>\n",
       "      <td>2828.0</td>\n",
       "      <td>5868.0</td>\n",
       "    </tr>\n",
       "    <tr>\n",
       "      <th>84</th>\n",
       "      <td>DOM-VIS</td>\n",
       "      <td>0</td>\n",
       "      <td>0.0</td>\n",
       "      <td>0.0</td>\n",
       "      <td>0.0</td>\n",
       "      <td>0.0</td>\n",
       "      <td>0.0</td>\n",
       "      <td>0.0</td>\n",
       "      <td>0.0</td>\n",
       "      <td>0.0</td>\n",
       "      <td>...</td>\n",
       "      <td>0.0</td>\n",
       "      <td>1076.0</td>\n",
       "      <td>151.0</td>\n",
       "      <td>84.0</td>\n",
       "      <td>1311.0</td>\n",
       "      <td>336.0</td>\n",
       "      <td>19.0</td>\n",
       "      <td>94.0</td>\n",
       "      <td>449.0</td>\n",
       "      <td>1760.0</td>\n",
       "    </tr>\n",
       "    <tr>\n",
       "      <th>85</th>\n",
       "      <td>DOM-YAQ</td>\n",
       "      <td>0</td>\n",
       "      <td>0.0</td>\n",
       "      <td>0.0</td>\n",
       "      <td>0.0</td>\n",
       "      <td>0.0</td>\n",
       "      <td>0.0</td>\n",
       "      <td>0.0</td>\n",
       "      <td>0.0</td>\n",
       "      <td>0.0</td>\n",
       "      <td>...</td>\n",
       "      <td>0.0</td>\n",
       "      <td>157.0</td>\n",
       "      <td>37.0</td>\n",
       "      <td>30.0</td>\n",
       "      <td>224.0</td>\n",
       "      <td>2.0</td>\n",
       "      <td>1.0</td>\n",
       "      <td>24.0</td>\n",
       "      <td>27.0</td>\n",
       "      <td>251.0</td>\n",
       "    </tr>\n",
       "    <tr>\n",
       "      <th>87</th>\n",
       "      <td>DOM-ZOF</td>\n",
       "      <td>Zofinma (Mao)</td>\n",
       "      <td>108.0</td>\n",
       "      <td>8.0</td>\n",
       "      <td>2.0</td>\n",
       "      <td>118.0</td>\n",
       "      <td>82.0</td>\n",
       "      <td>2.0</td>\n",
       "      <td>3.0</td>\n",
       "      <td>87.0</td>\n",
       "      <td>...</td>\n",
       "      <td>0.0</td>\n",
       "      <td>0.0</td>\n",
       "      <td>0.0</td>\n",
       "      <td>0.0</td>\n",
       "      <td>0.0</td>\n",
       "      <td>0.0</td>\n",
       "      <td>0.0</td>\n",
       "      <td>0.0</td>\n",
       "      <td>0.0</td>\n",
       "      <td>0.0</td>\n",
       "    </tr>\n",
       "  </tbody>\n",
       "</table>\n",
       "<p>87 rows × 137 columns</p>\n",
       "</div>"
      ],
      "text/plain": [
       "       code              park  ob_m_00  tec_m_00  adm_m_00  total_m_00  \\\n",
       "0   DOM-6NO                 0      0.0       0.0       0.0         0.0   \n",
       "1   DOM-ALC    Los Alcarrizos   1068.0     157.0      81.0      1306.0   \n",
       "2   DOM-ALT  Villa Altagracia    362.0      41.0     106.0       509.0   \n",
       "3   DOM-AND                 0      0.0       0.0       0.0         0.0   \n",
       "4   DOM-ARM        La Armería    808.0      80.0      34.0       922.0   \n",
       "..      ...               ...      ...       ...       ...         ...   \n",
       "82  DOM-TAM          Tamboril      5.0       0.0       5.0        10.0   \n",
       "83  DOM-VEG           La Vega   6720.0     526.0     204.0      7450.0   \n",
       "84  DOM-VIS                 0      0.0       0.0       0.0         0.0   \n",
       "85  DOM-YAQ                 0      0.0       0.0       0.0         0.0   \n",
       "87  DOM-ZOF     Zofinma (Mao)    108.0       8.0       2.0       118.0   \n",
       "\n",
       "    ob_f_00  tec_f_00  adm_f_00  total_f_00  ...  total_mf_15  ob_m_16  \\\n",
       "0       0.0       0.0       0.0         0.0  ...          0.0     46.0   \n",
       "1    2105.0      59.0      62.0      2226.0  ...          0.0    370.0   \n",
       "2    2476.0      15.0     131.0      2622.0  ...          0.0    134.0   \n",
       "3       0.0       0.0       0.0         0.0  ...          0.0      3.0   \n",
       "4    1719.0      37.0      30.0      1786.0  ...          0.0    218.0   \n",
       "..      ...       ...       ...         ...  ...          ...      ...   \n",
       "82     14.0       0.0       1.0        15.0  ...          0.0   2433.0   \n",
       "83   5597.0     277.0     156.0      6030.0  ...          0.0   2508.0   \n",
       "84      0.0       0.0       0.0         0.0  ...          0.0   1076.0   \n",
       "85      0.0       0.0       0.0         0.0  ...          0.0    157.0   \n",
       "87     82.0       2.0       3.0        87.0  ...          0.0      0.0   \n",
       "\n",
       "    tec_m_16  adm_m_16  total_m_16  ob_f_16  tec_f_16  adm_f_16  total_f_16  \\\n",
       "0        2.0      10.0        58.0     26.0       0.0       2.0        28.0   \n",
       "1       72.0      43.0       485.0    403.0      23.0      48.0       474.0   \n",
       "2       14.0      10.0       158.0     90.0       3.0      14.0       107.0   \n",
       "3       49.0      19.0        71.0      2.0       0.0       6.0         8.0   \n",
       "4       27.0      38.0       283.0    407.0       7.0      28.0       442.0   \n",
       "..       ...       ...         ...      ...       ...       ...         ...   \n",
       "82     368.0     114.0      2915.0   2452.0     144.0      93.0      2689.0   \n",
       "83     442.0      90.0      3040.0   2654.0     116.0      58.0      2828.0   \n",
       "84     151.0      84.0      1311.0    336.0      19.0      94.0       449.0   \n",
       "85      37.0      30.0       224.0      2.0       1.0      24.0        27.0   \n",
       "87       0.0       0.0         0.0      0.0       0.0       0.0         0.0   \n",
       "\n",
       "    total_mf_16  \n",
       "0          86.0  \n",
       "1         959.0  \n",
       "2         265.0  \n",
       "3          79.0  \n",
       "4         725.0  \n",
       "..          ...  \n",
       "82       5604.0  \n",
       "83       5868.0  \n",
       "84       1760.0  \n",
       "85        251.0  \n",
       "87          0.0  \n",
       "\n",
       "[87 rows x 137 columns]"
      ]
     },
     "execution_count": 25,
     "metadata": {},
     "output_type": "execute_result"
    }
   ],
   "source": [
    "emp_agg"
   ]
  },
  {
   "cell_type": "code",
   "execution_count": 26,
   "id": "74428198-3e87-46d7-8324-692a216e892d",
   "metadata": {},
   "outputs": [],
   "source": [
    "fem = emp_agg.columns.str.contains(\"ob_f|tec_f|adm_f\")|(emp_agg.columns==\"code\")\n",
    "emp_agg_f = emp_agg[emp_agg.columns[fem]]"
   ]
  },
  {
   "cell_type": "code",
   "execution_count": 27,
   "id": "84fd8d4d-343e-4357-8479-5ebd0be2369f",
   "metadata": {},
   "outputs": [],
   "source": [
    "mas = emp_agg.columns.str.contains(\"ob_m|tec_m|adm_m\")|(emp_agg.columns==\"code\")\n",
    "emp_agg_m = emp_agg[emp_agg.columns[mas]]"
   ]
  },
  {
   "cell_type": "code",
   "execution_count": 28,
   "id": "9af41f1c-26f8-43fc-a738-8de4aaa89584",
   "metadata": {},
   "outputs": [],
   "source": [
    "total = emp_agg.columns.str.contains(\"_mf_\")|(emp_agg.columns==\"code\")\n",
    "emp_agg_total = emp_agg[emp_agg.columns[total]]"
   ]
  },
  {
   "cell_type": "code",
   "execution_count": 29,
   "id": "5584efa5-912a-4480-8be3-fb861f358bf6",
   "metadata": {},
   "outputs": [],
   "source": [
    "emp_agg_f.to_csv('emp_agg_f.csv', index=False)"
   ]
  },
  {
   "cell_type": "code",
   "execution_count": 30,
   "id": "bb630f0b-88d8-4b90-8f2d-9acf41dfdf2c",
   "metadata": {},
   "outputs": [],
   "source": [
    "emp_agg_m.to_csv('emp_agg_m.csv', index=False)"
   ]
  },
  {
   "cell_type": "code",
   "execution_count": 31,
   "id": "fb7ae9b6-1116-4212-ac4d-19473721a318",
   "metadata": {},
   "outputs": [],
   "source": [
    "#emp_agg_total.to_csv('emp_agg_total.csv', index=False)"
   ]
  },
  {
   "cell_type": "code",
   "execution_count": 32,
   "id": "3bf6f855-845b-45e5-807b-a06e52bff243",
   "metadata": {},
   "outputs": [
    {
     "data": {
      "text/plain": [
       "Index(['code', 'ob_f_00', 'tec_f_00', 'adm_f_00', 'ob_f_01', 'tec_f_01',\n",
       "       'adm_f_01', 'ob_f_03', 'tec_f_03', 'adm_f_03', 'ob_f_04', 'tec_f_04',\n",
       "       'adm_f_04', 'ob_f_05', 'tec_f_05', 'adm_f_05', 'ob_f_06', 'tec_f_06',\n",
       "       'adm_f_06', 'ob_f_07', 'tec_f_07', 'adm_f_07', 'ob_f_08', 'tec_f_08',\n",
       "       'adm_f_08', 'ob_f_09', 'tec_f_09', 'adm_f_09', 'ob_f_10', 'tec_f_10',\n",
       "       'adm_f_10', 'ob_f_11', 'tec_f_11', 'adm_f_11', 'ob_f_12', 'tec_f_12',\n",
       "       'adm_f_12', 'ob_f_14', 'tec_f_14', 'adm_f_14', 'ob_f_15', 'tec_f_15',\n",
       "       'adm_f_15', 'ob_f_16', 'tec_f_16', 'adm_f_16'],\n",
       "      dtype='object')"
      ]
     },
     "execution_count": 32,
     "metadata": {},
     "output_type": "execute_result"
    }
   ],
   "source": [
    "emp_agg_f.columns"
   ]
  },
  {
   "cell_type": "code",
   "execution_count": null,
   "id": "2f5ebd26-5d40-4207-a2c4-cee66601f93d",
   "metadata": {},
   "outputs": [],
   "source": []
  },
  {
   "cell_type": "code",
   "execution_count": null,
   "id": "7820bde4-d349-44a7-80d5-8043db8c4a2f",
   "metadata": {},
   "outputs": [],
   "source": []
  },
  {
   "cell_type": "code",
   "execution_count": null,
   "id": "4af89d44-30ea-44bc-bb70-efaf7e50b747",
   "metadata": {},
   "outputs": [],
   "source": []
  }
 ],
 "metadata": {
  "kernelspec": {
   "display_name": "Python 3 (ipykernel)",
   "language": "python",
   "name": "python3"
  },
  "language_info": {
   "codemirror_mode": {
    "name": "ipython",
    "version": 3
   },
   "file_extension": ".py",
   "mimetype": "text/x-python",
   "name": "python",
   "nbconvert_exporter": "python",
   "pygments_lexer": "ipython3",
   "version": "3.12.0"
  }
 },
 "nbformat": 4,
 "nbformat_minor": 5
}
