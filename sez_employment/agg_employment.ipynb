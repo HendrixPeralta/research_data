{
 "cells": [
  {
   "cell_type": "code",
   "execution_count": 1,
   "id": "b98b69b2-87d0-455e-9daa-9785b45253d7",
   "metadata": {},
   "outputs": [],
   "source": [
    "import pandas as pd "
   ]
  },
  {
   "cell_type": "code",
   "execution_count": 2,
   "id": "643df608-0619-479e-ba99-976dba11e3b5",
   "metadata": {},
   "outputs": [],
   "source": [
    "emp00 = pd.read_csv(\"Emp_2000.csv\",  encoding='utf-8-sig')"
   ]
  },
  {
   "cell_type": "code",
   "execution_count": 3,
   "id": "e6193fb3-236f-419b-860b-0cac00bb71ce",
   "metadata": {},
   "outputs": [],
   "source": [
    "emp01 = pd.read_csv(\"Emp_2001.csv\",  encoding='utf-8-sig')"
   ]
  },
  {
   "cell_type": "code",
   "execution_count": 4,
   "id": "40607c56-3ba3-4c3f-baf4-83d2feedc5fb",
   "metadata": {},
   "outputs": [],
   "source": [
    "emp02 = pd.read_csv(\"Emp_2002.csv\",  encoding='utf-8-sig')"
   ]
  },
  {
   "cell_type": "code",
   "execution_count": 5,
   "id": "ed9a3792-5460-4d02-afb0-16935c4447a1",
   "metadata": {},
   "outputs": [],
   "source": [
    "emp03 = pd.read_csv(\"Emp_2003.csv\",  encoding='utf-8-sig')"
   ]
  },
  {
   "cell_type": "code",
   "execution_count": 6,
   "id": "eb30a941-9af1-4b77-9cda-4b84c5c4b06a",
   "metadata": {},
   "outputs": [],
   "source": [
    "emp04 = pd.read_csv(\"Emp_2004.csv\",  encoding='utf-8-sig')"
   ]
  },
  {
   "cell_type": "code",
   "execution_count": 7,
   "id": "c1b77402-339a-4598-9988-92e1cfeede98",
   "metadata": {},
   "outputs": [],
   "source": [
    "emp05 = pd.read_csv(\"Emp_2005.csv\",  encoding='utf-8-sig')"
   ]
  },
  {
   "cell_type": "code",
   "execution_count": 8,
   "id": "6e91623a-f9d0-4d0d-b3c9-0d4a9628f066",
   "metadata": {},
   "outputs": [],
   "source": [
    "emp06 = pd.read_csv(\"Emp_2006.csv\",  encoding='utf-8-sig')"
   ]
  },
  {
   "cell_type": "code",
   "execution_count": 9,
   "id": "145239b7-535d-4abc-9589-4c270af38eb0",
   "metadata": {},
   "outputs": [],
   "source": [
    "emp07 = pd.read_csv(\"Emp_2007.csv\",  encoding='utf-8-sig')"
   ]
  },
  {
   "cell_type": "code",
   "execution_count": 10,
   "id": "d457ca9b-a1d2-4c0d-ab71-07416fc66872",
   "metadata": {},
   "outputs": [],
   "source": [
    "emp08 = pd.read_csv(\"Emp_2008.csv\",  encoding='utf-8-sig')"
   ]
  },
  {
   "cell_type": "code",
   "execution_count": 11,
   "id": "8a995de7-3001-4645-a66d-28faab53eb5a",
   "metadata": {},
   "outputs": [],
   "source": [
    "emp09 = pd.read_csv(\"Emp_2009.csv\",  encoding='utf-8-sig')"
   ]
  },
  {
   "cell_type": "code",
   "execution_count": 12,
   "id": "ff4e265e-ee98-440e-9cf4-8af2d565ba90",
   "metadata": {},
   "outputs": [],
   "source": [
    "emp10 = pd.read_csv(\"Emp_2010.csv\",  encoding='utf-8-sig')"
   ]
  },
  {
   "cell_type": "code",
   "execution_count": 13,
   "id": "527b1a5a-5a01-48e1-84bd-18f65cef07a3",
   "metadata": {},
   "outputs": [],
   "source": [
    "emp11 = pd.read_csv(\"Emp_2011.csv\",  encoding='utf-8-sig')"
   ]
  },
  {
   "cell_type": "code",
   "execution_count": 14,
   "id": "9de8d6af-a44c-400b-b669-c8aaf71a4736",
   "metadata": {},
   "outputs": [],
   "source": [
    "emp12 = pd.read_csv(\"Emp_2012.csv\",  encoding='utf-8-sig')"
   ]
  },
  {
   "cell_type": "code",
   "execution_count": 15,
   "id": "e6409f17-ec2a-41cc-a61c-88b80def2420",
   "metadata": {},
   "outputs": [],
   "source": [
    "emp14 = pd.read_csv(\"Emp_2014.csv\",  encoding='utf-8-sig')"
   ]
  },
  {
   "cell_type": "code",
   "execution_count": 16,
   "id": "c9846e84-a074-4e75-abba-629e78f81dc1",
   "metadata": {},
   "outputs": [],
   "source": [
    "emp15 = pd.read_csv(\"Emp_2015.csv\",  encoding='utf-8-sig')"
   ]
  },
  {
   "cell_type": "code",
   "execution_count": 17,
   "id": "f20eed43-1afe-4102-8aa9-18358cffaf79",
   "metadata": {},
   "outputs": [],
   "source": [
    "emp16 = pd.read_csv(\"Emp_2016.csv\",  encoding='utf-8-sig')"
   ]
  },
  {
   "cell_type": "code",
   "execution_count": 18,
   "id": "300db63a-8a94-4613-8099-c01b6c8245e2",
   "metadata": {},
   "outputs": [],
   "source": [
    "def f(df):\n",
    "    mask = df.columns.str.contains(\"ob\")|df.columns.str.contains(\"tec\")|df.columns.str.contains(\"adm\")|df.columns.str.contains(\"total\")|(df.columns==\"code\")\n",
    "    return df.loc[:, mask]"
   ]
  },
  {
   "cell_type": "code",
   "execution_count": null,
   "id": "b7244905-6371-4176-bf5d-70f664f489ef",
   "metadata": {},
   "outputs": [],
   "source": [
    "\n"
   ]
  },
  {
   "cell_type": "code",
   "execution_count": null,
   "id": "a12dde16-2d09-49c1-bfb2-e0eaca7b5e03",
   "metadata": {},
   "outputs": [],
   "source": []
  },
  {
   "cell_type": "code",
   "execution_count": 19,
   "id": "b02017fb-654d-4496-a138-6abcfddc569b",
   "metadata": {},
   "outputs": [],
   "source": [
    "emp_agg = pd.merge(emp00, emp01[['code', 'ob_m_01', 'tec_m_01', 'adm_m_01', 'total_m_01',\n",
    "       'ob_f_01', 'tec_f_01', 'adm_f_01', 'total_f_01', 'total_mf_01']], on=\"code\", how=\"outer\")"
   ]
  },
  {
   "cell_type": "code",
   "execution_count": 20,
   "id": "290a0745-0636-4020-8e0d-21bf812d5d17",
   "metadata": {},
   "outputs": [],
   "source": [
    "emp_agg = pd.merge(emp_agg, emp02[['code', 'ob_m_02', 'tec_m_02', 'adm_m_02', 'total_m_02',\n",
    "       'ob_f_02', 'tec_f_02', 'adm_f_02', 'total_f_02', 'total_mf_02']], on=\"code\", how=\"outer\")"
   ]
  },
  {
   "cell_type": "code",
   "execution_count": 21,
   "id": "3750733b-cdbf-401d-aa77-be8c1c106891",
   "metadata": {},
   "outputs": [],
   "source": [
    "emp_agg = pd.merge(emp_agg, emp03[['code', 'ob_m_03', 'tec_m_03', 'adm_m_03', 'total_m_03',\n",
    "       'ob_f_03', 'tec_f_03', 'adm_f_03', 'total_f_03', 'total_mf_03']], on=\"code\", how=\"outer\")"
   ]
  },
  {
   "cell_type": "code",
   "execution_count": 22,
   "id": "1439d8db-468f-4508-a3ae-42378009a277",
   "metadata": {},
   "outputs": [],
   "source": [
    "emp_agg = pd.merge(emp_agg, emp04[['code', 'ob_m_04', 'tec_m_04', 'adm_m_04', 'total_m_04',\n",
    "       'ob_f_04', 'tec_f_04', 'adm_f_04', 'total_f_04', 'total_mf_04']], on=\"code\", how=\"outer\")"
   ]
  },
  {
   "cell_type": "code",
   "execution_count": 23,
   "id": "49577af9-4748-49d9-97b2-374d3a8c5b95",
   "metadata": {},
   "outputs": [],
   "source": [
    "emp_agg = pd.merge(emp_agg, emp05[['code', 'ob_m_05', 'tec_m_05', 'adm_m_05', 'total_m_05',\n",
    "       'ob_f_05', 'tec_f_05', 'adm_f_05', 'total_f_05', 'total_mf_05']], on=\"code\", how=\"outer\")"
   ]
  },
  {
   "cell_type": "code",
   "execution_count": 24,
   "id": "47c9e4bb-282a-4448-9b0c-5f99665030ab",
   "metadata": {},
   "outputs": [],
   "source": [
    "emp_agg = pd.merge(emp_agg, emp06[['code', 'ob_m_06', 'tec_m_06', 'adm_m_06', 'total_m_06',\n",
    "       'ob_f_06', 'tec_f_06', 'adm_f_06', 'total_f_06', 'total_mf_06']], on=\"code\", how=\"outer\")"
   ]
  },
  {
   "cell_type": "code",
   "execution_count": 25,
   "id": "d685bf76-9bde-470c-86e1-d1d4350bda82",
   "metadata": {},
   "outputs": [],
   "source": [
    "emp_agg = pd.merge(emp_agg, emp07[['code', 'ob_m_07', 'tec_m_07', 'adm_m_07', 'total_m_07',\n",
    "       'ob_f_07', 'tec_f_07', 'adm_f_07', 'total_f_07', 'total_mf_07']], on=\"code\", how=\"outer\")"
   ]
  },
  {
   "cell_type": "code",
   "execution_count": 26,
   "id": "54c71f1c-c03e-4f82-a55c-ce52ffc87f90",
   "metadata": {},
   "outputs": [],
   "source": [
    "emp_agg = pd.merge(emp_agg, emp08[['code', 'ob_m_08', 'tec_m_08', 'adm_m_08', 'total_m_08',\n",
    "       'ob_f_08', 'tec_f_08', 'adm_f_08', 'total_f_08', 'total_mf_08']], on=\"code\", how=\"outer\")"
   ]
  },
  {
   "cell_type": "code",
   "execution_count": 27,
   "id": "8a88279f-2b7e-4648-86ef-a3252a2b09c8",
   "metadata": {},
   "outputs": [],
   "source": [
    "emp_agg = pd.merge(emp_agg, emp09[['code', 'ob_m_09', 'tec_m_09', 'adm_m_09', 'total_m_09',\n",
    "       'ob_f_09', 'tec_f_09', 'adm_f_09', 'total_f_09', 'total_mf_09']], on=\"code\", how=\"outer\")"
   ]
  },
  {
   "cell_type": "code",
   "execution_count": 28,
   "id": "bf8c2ede-7c35-4a73-98d8-2d18d338ddb3",
   "metadata": {},
   "outputs": [],
   "source": [
    "emp_agg = pd.merge(emp_agg, emp10[['code', 'ob_m_10', 'tec_m_10', 'adm_m_10', 'total_m_10',\n",
    "       'ob_f_10', 'tec_f_10', 'adm_f_10', 'total_f_10', 'total_mf_10']], on=\"code\", how=\"outer\")"
   ]
  },
  {
   "cell_type": "code",
   "execution_count": 29,
   "id": "85be8ce3-a347-4e19-a62f-881cf8044aba",
   "metadata": {},
   "outputs": [],
   "source": [
    "emp_agg = pd.merge(emp_agg, emp11[['code', 'ob_m_11', 'tec_m_11', 'adm_m_11', 'total_m_11',\n",
    "       'ob_f_11', 'tec_f_11', 'adm_f_11', 'total_f_11', 'total_mf_11']], on=\"code\", how=\"outer\")"
   ]
  },
  {
   "cell_type": "code",
   "execution_count": 30,
   "id": "c7396959-b172-4821-b5d2-16c2b52711e7",
   "metadata": {},
   "outputs": [],
   "source": [
    "emp_agg = pd.merge(emp_agg, emp12[['code', 'ob_m_12', 'tec_m_12', 'adm_m_12', 'total_m_12',\n",
    "       'ob_f_12', 'tec_f_12', 'adm_f_12', 'total_f_12', 'total_mf_12']], on=\"code\", how=\"outer\")"
   ]
  },
  {
   "cell_type": "code",
   "execution_count": 31,
   "id": "2ab301fc-8f07-491e-b183-81096b2ae1e8",
   "metadata": {},
   "outputs": [],
   "source": [
    "#emp_agg = pd.merge(emp_agg, f(emp13), on=\"code\", how=\"outer\")"
   ]
  },
  {
   "cell_type": "code",
   "execution_count": 32,
   "id": "27c742b3-5c4e-4e58-ac47-8849b2b615da",
   "metadata": {},
   "outputs": [],
   "source": [
    "emp_agg = pd.merge(emp_agg, emp14[['code', 'ob_m_14', 'tec_m_14', 'adm_m_14', 'total_m_14',\n",
    "       'ob_f_14', 'tec_f_14', 'adm_f_14', 'total_f_14', 'total_mf_14']], on=\"code\", how=\"outer\")"
   ]
  },
  {
   "cell_type": "code",
   "execution_count": 33,
   "id": "5ed45128-1ae6-41d0-a26d-7dd967f6bed6",
   "metadata": {},
   "outputs": [],
   "source": [
    "#emp_agg = pd.merge(emp_agg, emp15[['code', 'ob_m_15', 'tec_m_15', 'adm_m_15', 'total_m_15',\n",
    "     #  'ob_f_15', 'tec_f_15', 'adm_f_15', 'total_f_15', 'total_mf_15']], on=\"code\", how=\"outer\")"
   ]
  },
  {
   "cell_type": "code",
   "execution_count": 34,
   "id": "06bb4308-15ae-4d2c-9d02-bb0a962efc57",
   "metadata": {},
   "outputs": [],
   "source": [
    "emp_agg = pd.merge(emp_agg, f(emp16), on=\"code\", how=\"outer\")"
   ]
  },
  {
   "cell_type": "code",
   "execution_count": null,
   "id": "0675c77a-a1b1-4ba6-b621-668812cbfae4",
   "metadata": {},
   "outputs": [],
   "source": []
  },
  {
   "cell_type": "code",
   "execution_count": 35,
   "id": "66d459b8-2605-46c0-bf22-8b0955229715",
   "metadata": {
    "scrolled": true
   },
   "outputs": [],
   "source": [
    "#emp_agg.fillna(0, inplace= True)"
   ]
  },
  {
   "cell_type": "code",
   "execution_count": 36,
   "id": "0e8d1998-cacb-4f30-afcb-f76d26fa235d",
   "metadata": {},
   "outputs": [],
   "source": [
    "emp_agg = emp_agg[emp_agg['code'] != 0]"
   ]
  },
  {
   "cell_type": "code",
   "execution_count": 37,
   "id": "38dedc86-47e2-47c6-9805-4ab1f8bbdd0c",
   "metadata": {},
   "outputs": [
    {
     "data": {
      "text/html": [
       "<div>\n",
       "<style scoped>\n",
       "    .dataframe tbody tr th:only-of-type {\n",
       "        vertical-align: middle;\n",
       "    }\n",
       "\n",
       "    .dataframe tbody tr th {\n",
       "        vertical-align: top;\n",
       "    }\n",
       "\n",
       "    .dataframe thead th {\n",
       "        text-align: right;\n",
       "    }\n",
       "</style>\n",
       "<table border=\"1\" class=\"dataframe\">\n",
       "  <thead>\n",
       "    <tr style=\"text-align: right;\">\n",
       "      <th></th>\n",
       "      <th>code</th>\n",
       "      <th>park</th>\n",
       "      <th>ob_m_00</th>\n",
       "      <th>tec_m_00</th>\n",
       "      <th>adm_m_00</th>\n",
       "      <th>total_m_00</th>\n",
       "      <th>ob_f_00</th>\n",
       "      <th>tec_f_00</th>\n",
       "      <th>adm_f_00</th>\n",
       "      <th>total_f_00</th>\n",
       "      <th>...</th>\n",
       "      <th>total_mf_14</th>\n",
       "      <th>ob_m_16</th>\n",
       "      <th>tec_m_16</th>\n",
       "      <th>adm_m_16</th>\n",
       "      <th>total_m_16</th>\n",
       "      <th>ob_f_16</th>\n",
       "      <th>tec_f_16</th>\n",
       "      <th>adm_f_16</th>\n",
       "      <th>total_f_16</th>\n",
       "      <th>total_mf_16</th>\n",
       "    </tr>\n",
       "  </thead>\n",
       "  <tbody>\n",
       "    <tr>\n",
       "      <th>0</th>\n",
       "      <td>DOM-6NO</td>\n",
       "      <td>NaN</td>\n",
       "      <td>NaN</td>\n",
       "      <td>NaN</td>\n",
       "      <td>NaN</td>\n",
       "      <td>NaN</td>\n",
       "      <td>NaN</td>\n",
       "      <td>NaN</td>\n",
       "      <td>NaN</td>\n",
       "      <td>NaN</td>\n",
       "      <td>...</td>\n",
       "      <td>NaN</td>\n",
       "      <td>46.0</td>\n",
       "      <td>2.0</td>\n",
       "      <td>10.0</td>\n",
       "      <td>58.0</td>\n",
       "      <td>26.0</td>\n",
       "      <td>0.0</td>\n",
       "      <td>2.0</td>\n",
       "      <td>28.0</td>\n",
       "      <td>86.0</td>\n",
       "    </tr>\n",
       "    <tr>\n",
       "      <th>1</th>\n",
       "      <td>DOM-ALC</td>\n",
       "      <td>Los Alcarrizos</td>\n",
       "      <td>1068.0</td>\n",
       "      <td>157.0</td>\n",
       "      <td>81.0</td>\n",
       "      <td>1306.0</td>\n",
       "      <td>2105.0</td>\n",
       "      <td>59.0</td>\n",
       "      <td>62.0</td>\n",
       "      <td>2226.0</td>\n",
       "      <td>...</td>\n",
       "      <td>927.0</td>\n",
       "      <td>370.0</td>\n",
       "      <td>72.0</td>\n",
       "      <td>43.0</td>\n",
       "      <td>485.0</td>\n",
       "      <td>403.0</td>\n",
       "      <td>23.0</td>\n",
       "      <td>48.0</td>\n",
       "      <td>474.0</td>\n",
       "      <td>959.0</td>\n",
       "    </tr>\n",
       "    <tr>\n",
       "      <th>2</th>\n",
       "      <td>DOM-ALT</td>\n",
       "      <td>Villa Altagracia</td>\n",
       "      <td>362.0</td>\n",
       "      <td>41.0</td>\n",
       "      <td>106.0</td>\n",
       "      <td>509.0</td>\n",
       "      <td>2476.0</td>\n",
       "      <td>15.0</td>\n",
       "      <td>131.0</td>\n",
       "      <td>2622.0</td>\n",
       "      <td>...</td>\n",
       "      <td>290.0</td>\n",
       "      <td>134.0</td>\n",
       "      <td>14.0</td>\n",
       "      <td>10.0</td>\n",
       "      <td>158.0</td>\n",
       "      <td>90.0</td>\n",
       "      <td>3.0</td>\n",
       "      <td>14.0</td>\n",
       "      <td>107.0</td>\n",
       "      <td>265.0</td>\n",
       "    </tr>\n",
       "    <tr>\n",
       "      <th>3</th>\n",
       "      <td>DOM-AND</td>\n",
       "      <td>NaN</td>\n",
       "      <td>NaN</td>\n",
       "      <td>NaN</td>\n",
       "      <td>NaN</td>\n",
       "      <td>NaN</td>\n",
       "      <td>NaN</td>\n",
       "      <td>NaN</td>\n",
       "      <td>NaN</td>\n",
       "      <td>NaN</td>\n",
       "      <td>...</td>\n",
       "      <td>67.0</td>\n",
       "      <td>3.0</td>\n",
       "      <td>49.0</td>\n",
       "      <td>19.0</td>\n",
       "      <td>71.0</td>\n",
       "      <td>2.0</td>\n",
       "      <td>0.0</td>\n",
       "      <td>6.0</td>\n",
       "      <td>8.0</td>\n",
       "      <td>79.0</td>\n",
       "    </tr>\n",
       "    <tr>\n",
       "      <th>4</th>\n",
       "      <td>DOM-ARM</td>\n",
       "      <td>La Armería</td>\n",
       "      <td>808.0</td>\n",
       "      <td>80.0</td>\n",
       "      <td>34.0</td>\n",
       "      <td>922.0</td>\n",
       "      <td>1719.0</td>\n",
       "      <td>37.0</td>\n",
       "      <td>30.0</td>\n",
       "      <td>1786.0</td>\n",
       "      <td>...</td>\n",
       "      <td>387.0</td>\n",
       "      <td>218.0</td>\n",
       "      <td>27.0</td>\n",
       "      <td>38.0</td>\n",
       "      <td>283.0</td>\n",
       "      <td>407.0</td>\n",
       "      <td>7.0</td>\n",
       "      <td>28.0</td>\n",
       "      <td>442.0</td>\n",
       "      <td>725.0</td>\n",
       "    </tr>\n",
       "    <tr>\n",
       "      <th>...</th>\n",
       "      <td>...</td>\n",
       "      <td>...</td>\n",
       "      <td>...</td>\n",
       "      <td>...</td>\n",
       "      <td>...</td>\n",
       "      <td>...</td>\n",
       "      <td>...</td>\n",
       "      <td>...</td>\n",
       "      <td>...</td>\n",
       "      <td>...</td>\n",
       "      <td>...</td>\n",
       "      <td>...</td>\n",
       "      <td>...</td>\n",
       "      <td>...</td>\n",
       "      <td>...</td>\n",
       "      <td>...</td>\n",
       "      <td>...</td>\n",
       "      <td>...</td>\n",
       "      <td>...</td>\n",
       "      <td>...</td>\n",
       "      <td>...</td>\n",
       "    </tr>\n",
       "    <tr>\n",
       "      <th>84</th>\n",
       "      <td>DOM-VIS</td>\n",
       "      <td>NaN</td>\n",
       "      <td>NaN</td>\n",
       "      <td>NaN</td>\n",
       "      <td>NaN</td>\n",
       "      <td>NaN</td>\n",
       "      <td>NaN</td>\n",
       "      <td>NaN</td>\n",
       "      <td>NaN</td>\n",
       "      <td>NaN</td>\n",
       "      <td>...</td>\n",
       "      <td>1184.0</td>\n",
       "      <td>1076.0</td>\n",
       "      <td>151.0</td>\n",
       "      <td>84.0</td>\n",
       "      <td>1311.0</td>\n",
       "      <td>336.0</td>\n",
       "      <td>19.0</td>\n",
       "      <td>94.0</td>\n",
       "      <td>449.0</td>\n",
       "      <td>1760.0</td>\n",
       "    </tr>\n",
       "    <tr>\n",
       "      <th>85</th>\n",
       "      <td>DOM-YAQ</td>\n",
       "      <td>NaN</td>\n",
       "      <td>NaN</td>\n",
       "      <td>NaN</td>\n",
       "      <td>NaN</td>\n",
       "      <td>NaN</td>\n",
       "      <td>NaN</td>\n",
       "      <td>NaN</td>\n",
       "      <td>NaN</td>\n",
       "      <td>NaN</td>\n",
       "      <td>...</td>\n",
       "      <td>280.0</td>\n",
       "      <td>157.0</td>\n",
       "      <td>37.0</td>\n",
       "      <td>30.0</td>\n",
       "      <td>224.0</td>\n",
       "      <td>2.0</td>\n",
       "      <td>1.0</td>\n",
       "      <td>24.0</td>\n",
       "      <td>27.0</td>\n",
       "      <td>251.0</td>\n",
       "    </tr>\n",
       "    <tr>\n",
       "      <th>86</th>\n",
       "      <td>DOM-ZFE</td>\n",
       "      <td>NaN</td>\n",
       "      <td>NaN</td>\n",
       "      <td>NaN</td>\n",
       "      <td>NaN</td>\n",
       "      <td>NaN</td>\n",
       "      <td>NaN</td>\n",
       "      <td>NaN</td>\n",
       "      <td>NaN</td>\n",
       "      <td>NaN</td>\n",
       "      <td>...</td>\n",
       "      <td>26194.0</td>\n",
       "      <td>6854.0</td>\n",
       "      <td>8229.0</td>\n",
       "      <td>1963.0</td>\n",
       "      <td>17046.0</td>\n",
       "      <td>3513.0</td>\n",
       "      <td>5007.0</td>\n",
       "      <td>1411.0</td>\n",
       "      <td>9931.0</td>\n",
       "      <td>26977.0</td>\n",
       "    </tr>\n",
       "    <tr>\n",
       "      <th>87</th>\n",
       "      <td>DOM-ZOF</td>\n",
       "      <td>Zofinma (Mao)</td>\n",
       "      <td>108.0</td>\n",
       "      <td>8.0</td>\n",
       "      <td>2.0</td>\n",
       "      <td>118.0</td>\n",
       "      <td>82.0</td>\n",
       "      <td>2.0</td>\n",
       "      <td>3.0</td>\n",
       "      <td>87.0</td>\n",
       "      <td>...</td>\n",
       "      <td>NaN</td>\n",
       "      <td>NaN</td>\n",
       "      <td>NaN</td>\n",
       "      <td>NaN</td>\n",
       "      <td>NaN</td>\n",
       "      <td>NaN</td>\n",
       "      <td>NaN</td>\n",
       "      <td>NaN</td>\n",
       "      <td>NaN</td>\n",
       "      <td>NaN</td>\n",
       "    </tr>\n",
       "    <tr>\n",
       "      <th>88</th>\n",
       "      <td>NaN</td>\n",
       "      <td>NaN</td>\n",
       "      <td>NaN</td>\n",
       "      <td>NaN</td>\n",
       "      <td>NaN</td>\n",
       "      <td>NaN</td>\n",
       "      <td>NaN</td>\n",
       "      <td>NaN</td>\n",
       "      <td>NaN</td>\n",
       "      <td>NaN</td>\n",
       "      <td>...</td>\n",
       "      <td>NaN</td>\n",
       "      <td>NaN</td>\n",
       "      <td>NaN</td>\n",
       "      <td>NaN</td>\n",
       "      <td>NaN</td>\n",
       "      <td>NaN</td>\n",
       "      <td>NaN</td>\n",
       "      <td>NaN</td>\n",
       "      <td>NaN</td>\n",
       "      <td>NaN</td>\n",
       "    </tr>\n",
       "  </tbody>\n",
       "</table>\n",
       "<p>89 rows × 137 columns</p>\n",
       "</div>"
      ],
      "text/plain": [
       "       code              park  ob_m_00  tec_m_00  adm_m_00  total_m_00  \\\n",
       "0   DOM-6NO               NaN      NaN       NaN       NaN         NaN   \n",
       "1   DOM-ALC    Los Alcarrizos   1068.0     157.0      81.0      1306.0   \n",
       "2   DOM-ALT  Villa Altagracia    362.0      41.0     106.0       509.0   \n",
       "3   DOM-AND               NaN      NaN       NaN       NaN         NaN   \n",
       "4   DOM-ARM        La Armería    808.0      80.0      34.0       922.0   \n",
       "..      ...               ...      ...       ...       ...         ...   \n",
       "84  DOM-VIS               NaN      NaN       NaN       NaN         NaN   \n",
       "85  DOM-YAQ               NaN      NaN       NaN       NaN         NaN   \n",
       "86  DOM-ZFE               NaN      NaN       NaN       NaN         NaN   \n",
       "87  DOM-ZOF     Zofinma (Mao)    108.0       8.0       2.0       118.0   \n",
       "88      NaN               NaN      NaN       NaN       NaN         NaN   \n",
       "\n",
       "    ob_f_00  tec_f_00  adm_f_00  total_f_00  ...  total_mf_14  ob_m_16  \\\n",
       "0       NaN       NaN       NaN         NaN  ...          NaN     46.0   \n",
       "1    2105.0      59.0      62.0      2226.0  ...        927.0    370.0   \n",
       "2    2476.0      15.0     131.0      2622.0  ...        290.0    134.0   \n",
       "3       NaN       NaN       NaN         NaN  ...         67.0      3.0   \n",
       "4    1719.0      37.0      30.0      1786.0  ...        387.0    218.0   \n",
       "..      ...       ...       ...         ...  ...          ...      ...   \n",
       "84      NaN       NaN       NaN         NaN  ...       1184.0   1076.0   \n",
       "85      NaN       NaN       NaN         NaN  ...        280.0    157.0   \n",
       "86      NaN       NaN       NaN         NaN  ...      26194.0   6854.0   \n",
       "87     82.0       2.0       3.0        87.0  ...          NaN      NaN   \n",
       "88      NaN       NaN       NaN         NaN  ...          NaN      NaN   \n",
       "\n",
       "    tec_m_16  adm_m_16  total_m_16  ob_f_16  tec_f_16  adm_f_16  total_f_16  \\\n",
       "0        2.0      10.0        58.0     26.0       0.0       2.0        28.0   \n",
       "1       72.0      43.0       485.0    403.0      23.0      48.0       474.0   \n",
       "2       14.0      10.0       158.0     90.0       3.0      14.0       107.0   \n",
       "3       49.0      19.0        71.0      2.0       0.0       6.0         8.0   \n",
       "4       27.0      38.0       283.0    407.0       7.0      28.0       442.0   \n",
       "..       ...       ...         ...      ...       ...       ...         ...   \n",
       "84     151.0      84.0      1311.0    336.0      19.0      94.0       449.0   \n",
       "85      37.0      30.0       224.0      2.0       1.0      24.0        27.0   \n",
       "86    8229.0    1963.0     17046.0   3513.0    5007.0    1411.0      9931.0   \n",
       "87       NaN       NaN         NaN      NaN       NaN       NaN         NaN   \n",
       "88       NaN       NaN         NaN      NaN       NaN       NaN         NaN   \n",
       "\n",
       "    total_mf_16  \n",
       "0          86.0  \n",
       "1         959.0  \n",
       "2         265.0  \n",
       "3          79.0  \n",
       "4         725.0  \n",
       "..          ...  \n",
       "84       1760.0  \n",
       "85        251.0  \n",
       "86      26977.0  \n",
       "87          NaN  \n",
       "88          NaN  \n",
       "\n",
       "[89 rows x 137 columns]"
      ]
     },
     "execution_count": 37,
     "metadata": {},
     "output_type": "execute_result"
    }
   ],
   "source": [
    "emp_agg"
   ]
  },
  {
   "cell_type": "code",
   "execution_count": 38,
   "id": "74428198-3e87-46d7-8324-692a216e892d",
   "metadata": {},
   "outputs": [],
   "source": [
    "fem = emp_agg.columns.str.contains(\"_f_\")|(emp_agg.columns==\"code\")\n",
    "emp_agg_f = emp_agg[emp_agg.columns[fem]]"
   ]
  },
  {
   "cell_type": "code",
   "execution_count": 39,
   "id": "84fd8d4d-343e-4357-8479-5ebd0be2369f",
   "metadata": {},
   "outputs": [],
   "source": [
    "mas = emp_agg.columns.str.contains(\"_m_\")|(emp_agg.columns==\"code\")\n",
    "emp_agg_m = emp_agg[emp_agg.columns[mas]]"
   ]
  },
  {
   "cell_type": "code",
   "execution_count": 40,
   "id": "9af41f1c-26f8-43fc-a738-8de4aaa89584",
   "metadata": {},
   "outputs": [],
   "source": [
    "total = emp_agg.columns.str.contains(\"_mf_\")|(emp_agg.columns==\"code\")\n",
    "emp_agg_total = emp_agg[emp_agg.columns[total]]"
   ]
  },
  {
   "cell_type": "code",
   "execution_count": 41,
   "id": "5584efa5-912a-4480-8be3-fb861f358bf6",
   "metadata": {},
   "outputs": [],
   "source": [
    "emp_agg_f.to_csv('emp_agg_f.csv', index=False)"
   ]
  },
  {
   "cell_type": "code",
   "execution_count": 42,
   "id": "bb630f0b-88d8-4b90-8f2d-9acf41dfdf2c",
   "metadata": {},
   "outputs": [],
   "source": [
    "emp_agg_m.to_csv('emp_agg_m.csv', index=False)"
   ]
  },
  {
   "cell_type": "code",
   "execution_count": 43,
   "id": "fb7ae9b6-1116-4212-ac4d-19473721a318",
   "metadata": {},
   "outputs": [],
   "source": [
    "emp_agg_total.to_csv('emp_agg_total.csv', index=False)"
   ]
  },
  {
   "cell_type": "code",
   "execution_count": null,
   "id": "3bf6f855-845b-45e5-807b-a06e52bff243",
   "metadata": {},
   "outputs": [],
   "source": []
  },
  {
   "cell_type": "code",
   "execution_count": null,
   "id": "2f5ebd26-5d40-4207-a2c4-cee66601f93d",
   "metadata": {},
   "outputs": [],
   "source": []
  },
  {
   "cell_type": "code",
   "execution_count": null,
   "id": "7820bde4-d349-44a7-80d5-8043db8c4a2f",
   "metadata": {},
   "outputs": [],
   "source": []
  },
  {
   "cell_type": "code",
   "execution_count": null,
   "id": "4af89d44-30ea-44bc-bb70-efaf7e50b747",
   "metadata": {},
   "outputs": [],
   "source": []
  }
 ],
 "metadata": {
  "kernelspec": {
   "display_name": "Python 3 (ipykernel)",
   "language": "python",
   "name": "python3"
  },
  "language_info": {
   "codemirror_mode": {
    "name": "ipython",
    "version": 3
   },
   "file_extension": ".py",
   "mimetype": "text/x-python",
   "name": "python",
   "nbconvert_exporter": "python",
   "pygments_lexer": "ipython3",
   "version": "3.12.0"
  }
 },
 "nbformat": 4,
 "nbformat_minor": 5
}
