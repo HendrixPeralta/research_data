{
 "cells": [
  {
   "cell_type": "code",
   "execution_count": 1,
   "id": "b98b69b2-87d0-455e-9daa-9785b45253d7",
   "metadata": {},
   "outputs": [],
   "source": [
    "import pandas as pd "
   ]
  },
  {
   "cell_type": "code",
   "execution_count": 2,
   "id": "643df608-0619-479e-ba99-976dba11e3b5",
   "metadata": {},
   "outputs": [],
   "source": [
    "emp00 = pd.read_csv(\"Emp_2000.csv\",  encoding='cp1252')"
   ]
  },
  {
   "cell_type": "code",
   "execution_count": 3,
   "id": "e6193fb3-236f-419b-860b-0cac00bb71ce",
   "metadata": {},
   "outputs": [],
   "source": [
    "emp01 = pd.read_csv(\"Emp_2001.csv\",  encoding='cp1252')"
   ]
  },
  {
   "cell_type": "code",
   "execution_count": 4,
   "id": "40607c56-3ba3-4c3f-baf4-83d2feedc5fb",
   "metadata": {},
   "outputs": [],
   "source": [
    "emp02 = pd.read_csv(\"Emp_2002.csv\",  encoding='cp1252')"
   ]
  },
  {
   "cell_type": "code",
   "execution_count": 5,
   "id": "ed9a3792-5460-4d02-afb0-16935c4447a1",
   "metadata": {},
   "outputs": [],
   "source": [
    "emp03 = pd.read_csv(\"Emp_2003.csv\",  encoding='cp1252')"
   ]
  },
  {
   "cell_type": "code",
   "execution_count": 6,
   "id": "eb30a941-9af1-4b77-9cda-4b84c5c4b06a",
   "metadata": {},
   "outputs": [],
   "source": [
    "emp04 = pd.read_csv(\"Emp_2004.csv\",  encoding='cp1252')"
   ]
  },
  {
   "cell_type": "code",
   "execution_count": 7,
   "id": "c1b77402-339a-4598-9988-92e1cfeede98",
   "metadata": {},
   "outputs": [],
   "source": [
    "emp05 = pd.read_csv(\"Emp_2005.csv\",  encoding='cp1252')"
   ]
  },
  {
   "cell_type": "code",
   "execution_count": 8,
   "id": "6e91623a-f9d0-4d0d-b3c9-0d4a9628f066",
   "metadata": {},
   "outputs": [],
   "source": [
    "emp06 = pd.read_csv(\"Emp_2006.csv\",  encoding='cp1252')"
   ]
  },
  {
   "cell_type": "code",
   "execution_count": 9,
   "id": "145239b7-535d-4abc-9589-4c270af38eb0",
   "metadata": {},
   "outputs": [],
   "source": [
    "emp07 = pd.read_csv(\"Emp_2007.csv\",  encoding='cp1252')"
   ]
  },
  {
   "cell_type": "code",
   "execution_count": 10,
   "id": "d457ca9b-a1d2-4c0d-ab71-07416fc66872",
   "metadata": {},
   "outputs": [],
   "source": [
    "emp08 = pd.read_csv(\"Emp_2008.csv\",  encoding='cp1252')"
   ]
  },
  {
   "cell_type": "code",
   "execution_count": 11,
   "id": "8a995de7-3001-4645-a66d-28faab53eb5a",
   "metadata": {},
   "outputs": [],
   "source": [
    "emp09 = pd.read_csv(\"Emp_2009.csv\",  encoding='cp1252')"
   ]
  },
  {
   "cell_type": "code",
   "execution_count": 12,
   "id": "ff4e265e-ee98-440e-9cf4-8af2d565ba90",
   "metadata": {},
   "outputs": [],
   "source": [
    "emp10 = pd.read_csv(\"Emp_2010.csv\",  encoding='cp1252')"
   ]
  },
  {
   "cell_type": "code",
   "execution_count": 13,
   "id": "527b1a5a-5a01-48e1-84bd-18f65cef07a3",
   "metadata": {},
   "outputs": [],
   "source": [
    "emp11 = pd.read_csv(\"Emp_2011.csv\",  encoding='cp1252')"
   ]
  },
  {
   "cell_type": "code",
   "execution_count": 14,
   "id": "9de8d6af-a44c-400b-b669-c8aaf71a4736",
   "metadata": {},
   "outputs": [],
   "source": [
    "emp12 = pd.read_csv(\"Emp_2012.csv\",  encoding='cp1252')"
   ]
  },
  {
   "cell_type": "code",
   "execution_count": 15,
   "id": "e6409f17-ec2a-41cc-a61c-88b80def2420",
   "metadata": {},
   "outputs": [],
   "source": [
    "emp14 = pd.read_csv(\"Emp_2014.csv\",  encoding='cp1252')"
   ]
  },
  {
   "cell_type": "code",
   "execution_count": 16,
   "id": "c9846e84-a074-4e75-abba-629e78f81dc1",
   "metadata": {},
   "outputs": [],
   "source": [
    "emp15 = pd.read_csv(\"Emp_2015.csv\",  encoding='cp1252')"
   ]
  },
  {
   "cell_type": "code",
   "execution_count": 17,
   "id": "f20eed43-1afe-4102-8aa9-18358cffaf79",
   "metadata": {},
   "outputs": [],
   "source": [
    "emp16 = pd.read_csv(\"Emp_2016.csv\",  encoding='cp1252')"
   ]
  },
  {
   "cell_type": "code",
   "execution_count": 18,
   "id": "300db63a-8a94-4613-8099-c01b6c8245e2",
   "metadata": {},
   "outputs": [
    {
     "data": {
      "text/html": [
       "<div>\n",
       "<style scoped>\n",
       "    .dataframe tbody tr th:only-of-type {\n",
       "        vertical-align: middle;\n",
       "    }\n",
       "\n",
       "    .dataframe tbody tr th {\n",
       "        vertical-align: top;\n",
       "    }\n",
       "\n",
       "    .dataframe thead th {\n",
       "        text-align: right;\n",
       "    }\n",
       "</style>\n",
       "<table border=\"1\" class=\"dataframe\">\n",
       "  <thead>\n",
       "    <tr style=\"text-align: right;\">\n",
       "      <th></th>\n",
       "      <th>ï»¿code</th>\n",
       "      <th>park</th>\n",
       "      <th>ob_m_16</th>\n",
       "      <th>tec_m_16</th>\n",
       "      <th>adm_m_16</th>\n",
       "      <th>total_m_16</th>\n",
       "      <th>ob_f_16</th>\n",
       "      <th>tec_f_16</th>\n",
       "      <th>adm_f_16</th>\n",
       "      <th>total_f_16</th>\n",
       "      <th>total_mf_16</th>\n",
       "    </tr>\n",
       "  </thead>\n",
       "  <tbody>\n",
       "    <tr>\n",
       "      <th>0</th>\n",
       "      <td>DOM-AND</td>\n",
       "      <td>AndrÃ©s</td>\n",
       "      <td>3</td>\n",
       "      <td>49</td>\n",
       "      <td>19</td>\n",
       "      <td>71</td>\n",
       "      <td>2</td>\n",
       "      <td>0</td>\n",
       "      <td>6</td>\n",
       "      <td>8</td>\n",
       "      <td>79</td>\n",
       "    </tr>\n",
       "    <tr>\n",
       "      <th>1</th>\n",
       "      <td>DOM-BAN</td>\n",
       "      <td>BanÃ­</td>\n",
       "      <td>132</td>\n",
       "      <td>54</td>\n",
       "      <td>18</td>\n",
       "      <td>204</td>\n",
       "      <td>235</td>\n",
       "      <td>38</td>\n",
       "      <td>19</td>\n",
       "      <td>292</td>\n",
       "      <td>496</td>\n",
       "    </tr>\n",
       "    <tr>\n",
       "      <th>2</th>\n",
       "      <td>DOM-BAR</td>\n",
       "      <td>Barahona</td>\n",
       "      <td>559</td>\n",
       "      <td>52</td>\n",
       "      <td>43</td>\n",
       "      <td>654</td>\n",
       "      <td>734</td>\n",
       "      <td>71</td>\n",
       "      <td>31</td>\n",
       "      <td>836</td>\n",
       "      <td>1490</td>\n",
       "    </tr>\n",
       "    <tr>\n",
       "      <th>3</th>\n",
       "      <td>DOM-VIS</td>\n",
       "      <td>Bella Vista</td>\n",
       "      <td>1076</td>\n",
       "      <td>151</td>\n",
       "      <td>84</td>\n",
       "      <td>1311</td>\n",
       "      <td>336</td>\n",
       "      <td>19</td>\n",
       "      <td>94</td>\n",
       "      <td>449</td>\n",
       "      <td>1760</td>\n",
       "    </tr>\n",
       "    <tr>\n",
       "      <th>4</th>\n",
       "      <td>DOM-BON</td>\n",
       "      <td>Bonao</td>\n",
       "      <td>94</td>\n",
       "      <td>13</td>\n",
       "      <td>4</td>\n",
       "      <td>111</td>\n",
       "      <td>194</td>\n",
       "      <td>4</td>\n",
       "      <td>9</td>\n",
       "      <td>207</td>\n",
       "      <td>318</td>\n",
       "    </tr>\n",
       "    <tr>\n",
       "      <th>...</th>\n",
       "      <td>...</td>\n",
       "      <td>...</td>\n",
       "      <td>...</td>\n",
       "      <td>...</td>\n",
       "      <td>...</td>\n",
       "      <td>...</td>\n",
       "      <td>...</td>\n",
       "      <td>...</td>\n",
       "      <td>...</td>\n",
       "      <td>...</td>\n",
       "      <td>...</td>\n",
       "    </tr>\n",
       "    <tr>\n",
       "      <th>64</th>\n",
       "      <td>DOM-SUR</td>\n",
       "      <td>Zona Franca Industrial del Sur</td>\n",
       "      <td>30</td>\n",
       "      <td>0</td>\n",
       "      <td>2</td>\n",
       "      <td>32</td>\n",
       "      <td>0</td>\n",
       "      <td>0</td>\n",
       "      <td>1</td>\n",
       "      <td>1</td>\n",
       "      <td>33</td>\n",
       "    </tr>\n",
       "    <tr>\n",
       "      <th>65</th>\n",
       "      <td>DOM-EMI</td>\n",
       "      <td>Zona Franca Industrial Emimar</td>\n",
       "      <td>532</td>\n",
       "      <td>82</td>\n",
       "      <td>17</td>\n",
       "      <td>631</td>\n",
       "      <td>1149</td>\n",
       "      <td>38</td>\n",
       "      <td>38</td>\n",
       "      <td>1225</td>\n",
       "      <td>1856</td>\n",
       "    </tr>\n",
       "    <tr>\n",
       "      <th>66</th>\n",
       "      <td>DOM-SAG</td>\n",
       "      <td>Zona Franca Industrial SAG</td>\n",
       "      <td>102</td>\n",
       "      <td>9</td>\n",
       "      <td>4</td>\n",
       "      <td>115</td>\n",
       "      <td>91</td>\n",
       "      <td>2</td>\n",
       "      <td>8</td>\n",
       "      <td>101</td>\n",
       "      <td>216</td>\n",
       "    </tr>\n",
       "    <tr>\n",
       "      <th>67</th>\n",
       "      <td>DOM-JOB</td>\n",
       "      <td>Zona Franca Jobo Industrial</td>\n",
       "      <td>17</td>\n",
       "      <td>6</td>\n",
       "      <td>2</td>\n",
       "      <td>25</td>\n",
       "      <td>6</td>\n",
       "      <td>0</td>\n",
       "      <td>5</td>\n",
       "      <td>11</td>\n",
       "      <td>36</td>\n",
       "    </tr>\n",
       "    <tr>\n",
       "      <th>68</th>\n",
       "      <td>DOM-ZFE</td>\n",
       "      <td>Zonas Francas Especiales</td>\n",
       "      <td>6854</td>\n",
       "      <td>8229</td>\n",
       "      <td>1963</td>\n",
       "      <td>17046</td>\n",
       "      <td>3513</td>\n",
       "      <td>5007</td>\n",
       "      <td>1411</td>\n",
       "      <td>9931</td>\n",
       "      <td>26977</td>\n",
       "    </tr>\n",
       "  </tbody>\n",
       "</table>\n",
       "<p>69 rows × 11 columns</p>\n",
       "</div>"
      ],
      "text/plain": [
       "    ï»¿code                            park  ob_m_16  tec_m_16  adm_m_16  \\\n",
       "0   DOM-AND                         AndrÃ©s        3        49        19   \n",
       "1   DOM-BAN                           BanÃ­      132        54        18   \n",
       "2   DOM-BAR                        Barahona      559        52        43   \n",
       "3   DOM-VIS                     Bella Vista     1076       151        84   \n",
       "4   DOM-BON                           Bonao       94        13         4   \n",
       "..      ...                             ...      ...       ...       ...   \n",
       "64  DOM-SUR  Zona Franca Industrial del Sur       30         0         2   \n",
       "65  DOM-EMI   Zona Franca Industrial Emimar      532        82        17   \n",
       "66  DOM-SAG      Zona Franca Industrial SAG      102         9         4   \n",
       "67  DOM-JOB     Zona Franca Jobo Industrial       17         6         2   \n",
       "68  DOM-ZFE        Zonas Francas Especiales     6854      8229      1963   \n",
       "\n",
       "    total_m_16  ob_f_16  tec_f_16  adm_f_16  total_f_16  total_mf_16  \n",
       "0           71        2         0         6           8           79  \n",
       "1          204      235        38        19         292          496  \n",
       "2          654      734        71        31         836         1490  \n",
       "3         1311      336        19        94         449         1760  \n",
       "4          111      194         4         9         207          318  \n",
       "..         ...      ...       ...       ...         ...          ...  \n",
       "64          32        0         0         1           1           33  \n",
       "65         631     1149        38        38        1225         1856  \n",
       "66         115       91         2         8         101          216  \n",
       "67          25        6         0         5          11           36  \n",
       "68       17046     3513      5007      1411        9931        26977  \n",
       "\n",
       "[69 rows x 11 columns]"
      ]
     },
     "execution_count": 18,
     "metadata": {},
     "output_type": "execute_result"
    }
   ],
   "source": [
    "emp16"
   ]
  },
  {
   "cell_type": "code",
   "execution_count": null,
   "id": "b02017fb-654d-4496-a138-6abcfddc569b",
   "metadata": {},
   "outputs": [],
   "source": [
    "inv00_19 = pd.merge(inv00, inv01[['code', 'inv01']], on=\"code\", how=\"outer\")"
   ]
  }
 ],
 "metadata": {
  "kernelspec": {
   "display_name": "Python 3 (ipykernel)",
   "language": "python",
   "name": "python3"
  },
  "language_info": {
   "codemirror_mode": {
    "name": "ipython",
    "version": 3
   },
   "file_extension": ".py",
   "mimetype": "text/x-python",
   "name": "python",
   "nbconvert_exporter": "python",
   "pygments_lexer": "ipython3",
   "version": "3.12.0"
  }
 },
 "nbformat": 4,
 "nbformat_minor": 5
}
