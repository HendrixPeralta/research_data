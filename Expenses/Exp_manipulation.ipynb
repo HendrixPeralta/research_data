{
 "cells": [
  {
   "cell_type": "code",
   "execution_count": 1,
   "id": "b12678ce-ff89-4aca-a404-40d566a4c11e",
   "metadata": {},
   "outputs": [],
   "source": [
    "import pandas as pd"
   ]
  },
  {
   "cell_type": "code",
   "execution_count": 2,
   "id": "3b5de5d2-1399-41e2-bfcd-525e5af3d13b",
   "metadata": {},
   "outputs": [],
   "source": [
    "exp00 = pd.read_csv(\"exp2000.csv\", encoding='cp1252')"
   ]
  },
  {
   "cell_type": "code",
   "execution_count": 3,
   "id": "68863579-b07e-47b6-98c0-7f60a309f461",
   "metadata": {},
   "outputs": [],
   "source": [
    "exp01 = pd.read_csv(\"exp2001.csv\", encoding = \"cp1252\")"
   ]
  },
  {
   "cell_type": "code",
   "execution_count": 4,
   "id": "09b1d9f7-8926-4f3b-9682-c7f4cb880764",
   "metadata": {},
   "outputs": [],
   "source": [
    "exp02 = pd.read_csv(\"exp2002.csv\", encoding = \"cp1252\")"
   ]
  },
  {
   "cell_type": "code",
   "execution_count": 5,
   "id": "2a630e29-9a5a-4136-aeff-e704cb9ec33a",
   "metadata": {},
   "outputs": [],
   "source": [
    "exp03 = pd.read_csv(\"exp2003.csv\", encoding = \"cp1252\")"
   ]
  },
  {
   "cell_type": "code",
   "execution_count": 6,
   "id": "f1b2fc5f-c68b-488c-8692-d94181e78507",
   "metadata": {},
   "outputs": [],
   "source": [
    "exp04 = pd.read_csv(\"exp2004.csv\", encoding = \"cp1252\")"
   ]
  },
  {
   "cell_type": "code",
   "execution_count": 7,
   "id": "239308f0-7f67-4f13-9664-fc5e41cce328",
   "metadata": {},
   "outputs": [],
   "source": [
    "exp05 = pd.read_csv(\"exp2005.csv\", encoding = \"cp1252\")"
   ]
  },
  {
   "cell_type": "code",
   "execution_count": 8,
   "id": "8478ff67-1392-435b-ab7f-f9c9f292bfc9",
   "metadata": {},
   "outputs": [],
   "source": [
    "exp06 = pd.read_csv(\"exp2006.csv\", encoding = \"cp1252\")"
   ]
  },
  {
   "cell_type": "code",
   "execution_count": 9,
   "id": "5ba1871c-b679-451e-98f9-6ba6ea6ff141",
   "metadata": {},
   "outputs": [],
   "source": [
    "exp07 = pd.read_csv(\"exp2007.csv\", encoding = \"cp1252\")"
   ]
  },
  {
   "cell_type": "code",
   "execution_count": 10,
   "id": "9442803f-2781-49d3-a113-c4c357252ade",
   "metadata": {},
   "outputs": [],
   "source": [
    "exp08 = pd.read_csv(\"exp2008.csv\", encoding = \"cp1252\")"
   ]
  },
  {
   "cell_type": "code",
   "execution_count": 11,
   "id": "528a8910-c3ad-445a-900b-3175e61af682",
   "metadata": {},
   "outputs": [],
   "source": [
    "exp09 = pd.read_csv(\"exp2009.csv\", encoding = \"cp1252\")"
   ]
  },
  {
   "cell_type": "code",
   "execution_count": 12,
   "id": "1bb0c221-8aac-4e26-bf08-8447ffa9802f",
   "metadata": {},
   "outputs": [],
   "source": [
    "exp10 = pd.read_csv(\"exp2010.csv\", encoding = \"cp1252\")"
   ]
  },
  {
   "cell_type": "code",
   "execution_count": 13,
   "id": "2ad3aa6c-eef0-4ac4-9540-c4e1f7f0141b",
   "metadata": {},
   "outputs": [],
   "source": [
    "exp11 = pd.read_csv(\"exp2011.csv\", encoding = \"cp1252\")"
   ]
  },
  {
   "cell_type": "code",
   "execution_count": 14,
   "id": "adbd1fc5-3c06-4d4a-8585-237c4de5f6db",
   "metadata": {},
   "outputs": [],
   "source": [
    "exp12 = pd.read_csv(\"exp2012.csv\", encoding = \"cp1252\")"
   ]
  },
  {
   "cell_type": "code",
   "execution_count": 15,
   "id": "00fe739e-e1b4-401f-8ac3-c98d846f48c3",
   "metadata": {},
   "outputs": [],
   "source": [
    "exp13 = pd.read_csv(\"exp2013.csv\", encoding = \"cp1252\")"
   ]
  },
  {
   "cell_type": "code",
   "execution_count": 16,
   "id": "8334c3d6-7d4c-4231-9db3-9e91d129b798",
   "metadata": {},
   "outputs": [],
   "source": [
    "exp14 = pd.read_csv(\"exp2014.csv\", encoding = \"cp1252\")"
   ]
  },
  {
   "cell_type": "code",
   "execution_count": 17,
   "id": "b60c8857-8c5e-41a4-9a07-750793d87105",
   "metadata": {},
   "outputs": [],
   "source": [
    "exp15 = pd.read_csv(\"exp2015.csv\", encoding = \"cp1252\")"
   ]
  },
  {
   "cell_type": "code",
   "execution_count": 18,
   "id": "94311a44-2035-46fa-9561-85522cb6f942",
   "metadata": {},
   "outputs": [],
   "source": [
    "exp16 = pd.read_csv(\"exp2016.csv\", encoding = \"cp1252\")"
   ]
  },
  {
   "cell_type": "code",
   "execution_count": 19,
   "id": "fa179ab2-4f79-4e3d-9507-5b32990a133c",
   "metadata": {},
   "outputs": [],
   "source": [
    "exp17 = pd.read_csv(\"exp2017.csv\", encoding = \"cp1252\")"
   ]
  },
  {
   "cell_type": "code",
   "execution_count": 20,
   "id": "70c3bdd1-89da-4fee-b496-ea053beac238",
   "metadata": {},
   "outputs": [
    {
     "ename": "FileNotFoundError",
     "evalue": "[Errno 2] No such file or directory: 'exp2018.csv'",
     "output_type": "error",
     "traceback": [
      "\u001b[0;31m---------------------------------------------------------------------------\u001b[0m",
      "\u001b[0;31mFileNotFoundError\u001b[0m                         Traceback (most recent call last)",
      "Cell \u001b[0;32mIn[20], line 1\u001b[0m\n\u001b[0;32m----> 1\u001b[0m exp18 \u001b[38;5;241m=\u001b[39m \u001b[43mpd\u001b[49m\u001b[38;5;241;43m.\u001b[39;49m\u001b[43mread_csv\u001b[49m\u001b[43m(\u001b[49m\u001b[38;5;124;43m\"\u001b[39;49m\u001b[38;5;124;43mexp2018.csv\u001b[39;49m\u001b[38;5;124;43m\"\u001b[39;49m\u001b[43m,\u001b[49m\u001b[43m \u001b[49m\u001b[43mencoding\u001b[49m\u001b[43m \u001b[49m\u001b[38;5;241;43m=\u001b[39;49m\u001b[43m \u001b[49m\u001b[38;5;124;43m\"\u001b[39;49m\u001b[38;5;124;43mcp1252\u001b[39;49m\u001b[38;5;124;43m\"\u001b[39;49m\u001b[43m)\u001b[49m\n",
      "File \u001b[0;32m/Library/Frameworks/Python.framework/Versions/3.12/lib/python3.12/site-packages/pandas/io/parsers/readers.py:1026\u001b[0m, in \u001b[0;36mread_csv\u001b[0;34m(filepath_or_buffer, sep, delimiter, header, names, index_col, usecols, dtype, engine, converters, true_values, false_values, skipinitialspace, skiprows, skipfooter, nrows, na_values, keep_default_na, na_filter, verbose, skip_blank_lines, parse_dates, infer_datetime_format, keep_date_col, date_parser, date_format, dayfirst, cache_dates, iterator, chunksize, compression, thousands, decimal, lineterminator, quotechar, quoting, doublequote, escapechar, comment, encoding, encoding_errors, dialect, on_bad_lines, delim_whitespace, low_memory, memory_map, float_precision, storage_options, dtype_backend)\u001b[0m\n\u001b[1;32m   1013\u001b[0m kwds_defaults \u001b[38;5;241m=\u001b[39m _refine_defaults_read(\n\u001b[1;32m   1014\u001b[0m     dialect,\n\u001b[1;32m   1015\u001b[0m     delimiter,\n\u001b[0;32m   (...)\u001b[0m\n\u001b[1;32m   1022\u001b[0m     dtype_backend\u001b[38;5;241m=\u001b[39mdtype_backend,\n\u001b[1;32m   1023\u001b[0m )\n\u001b[1;32m   1024\u001b[0m kwds\u001b[38;5;241m.\u001b[39mupdate(kwds_defaults)\n\u001b[0;32m-> 1026\u001b[0m \u001b[38;5;28;01mreturn\u001b[39;00m \u001b[43m_read\u001b[49m\u001b[43m(\u001b[49m\u001b[43mfilepath_or_buffer\u001b[49m\u001b[43m,\u001b[49m\u001b[43m \u001b[49m\u001b[43mkwds\u001b[49m\u001b[43m)\u001b[49m\n",
      "File \u001b[0;32m/Library/Frameworks/Python.framework/Versions/3.12/lib/python3.12/site-packages/pandas/io/parsers/readers.py:620\u001b[0m, in \u001b[0;36m_read\u001b[0;34m(filepath_or_buffer, kwds)\u001b[0m\n\u001b[1;32m    617\u001b[0m _validate_names(kwds\u001b[38;5;241m.\u001b[39mget(\u001b[38;5;124m\"\u001b[39m\u001b[38;5;124mnames\u001b[39m\u001b[38;5;124m\"\u001b[39m, \u001b[38;5;28;01mNone\u001b[39;00m))\n\u001b[1;32m    619\u001b[0m \u001b[38;5;66;03m# Create the parser.\u001b[39;00m\n\u001b[0;32m--> 620\u001b[0m parser \u001b[38;5;241m=\u001b[39m \u001b[43mTextFileReader\u001b[49m\u001b[43m(\u001b[49m\u001b[43mfilepath_or_buffer\u001b[49m\u001b[43m,\u001b[49m\u001b[43m \u001b[49m\u001b[38;5;241;43m*\u001b[39;49m\u001b[38;5;241;43m*\u001b[39;49m\u001b[43mkwds\u001b[49m\u001b[43m)\u001b[49m\n\u001b[1;32m    622\u001b[0m \u001b[38;5;28;01mif\u001b[39;00m chunksize \u001b[38;5;129;01mor\u001b[39;00m iterator:\n\u001b[1;32m    623\u001b[0m     \u001b[38;5;28;01mreturn\u001b[39;00m parser\n",
      "File \u001b[0;32m/Library/Frameworks/Python.framework/Versions/3.12/lib/python3.12/site-packages/pandas/io/parsers/readers.py:1620\u001b[0m, in \u001b[0;36mTextFileReader.__init__\u001b[0;34m(self, f, engine, **kwds)\u001b[0m\n\u001b[1;32m   1617\u001b[0m     \u001b[38;5;28mself\u001b[39m\u001b[38;5;241m.\u001b[39moptions[\u001b[38;5;124m\"\u001b[39m\u001b[38;5;124mhas_index_names\u001b[39m\u001b[38;5;124m\"\u001b[39m] \u001b[38;5;241m=\u001b[39m kwds[\u001b[38;5;124m\"\u001b[39m\u001b[38;5;124mhas_index_names\u001b[39m\u001b[38;5;124m\"\u001b[39m]\n\u001b[1;32m   1619\u001b[0m \u001b[38;5;28mself\u001b[39m\u001b[38;5;241m.\u001b[39mhandles: IOHandles \u001b[38;5;241m|\u001b[39m \u001b[38;5;28;01mNone\u001b[39;00m \u001b[38;5;241m=\u001b[39m \u001b[38;5;28;01mNone\u001b[39;00m\n\u001b[0;32m-> 1620\u001b[0m \u001b[38;5;28mself\u001b[39m\u001b[38;5;241m.\u001b[39m_engine \u001b[38;5;241m=\u001b[39m \u001b[38;5;28;43mself\u001b[39;49m\u001b[38;5;241;43m.\u001b[39;49m\u001b[43m_make_engine\u001b[49m\u001b[43m(\u001b[49m\u001b[43mf\u001b[49m\u001b[43m,\u001b[49m\u001b[43m \u001b[49m\u001b[38;5;28;43mself\u001b[39;49m\u001b[38;5;241;43m.\u001b[39;49m\u001b[43mengine\u001b[49m\u001b[43m)\u001b[49m\n",
      "File \u001b[0;32m/Library/Frameworks/Python.framework/Versions/3.12/lib/python3.12/site-packages/pandas/io/parsers/readers.py:1880\u001b[0m, in \u001b[0;36mTextFileReader._make_engine\u001b[0;34m(self, f, engine)\u001b[0m\n\u001b[1;32m   1878\u001b[0m     \u001b[38;5;28;01mif\u001b[39;00m \u001b[38;5;124m\"\u001b[39m\u001b[38;5;124mb\u001b[39m\u001b[38;5;124m\"\u001b[39m \u001b[38;5;129;01mnot\u001b[39;00m \u001b[38;5;129;01min\u001b[39;00m mode:\n\u001b[1;32m   1879\u001b[0m         mode \u001b[38;5;241m+\u001b[39m\u001b[38;5;241m=\u001b[39m \u001b[38;5;124m\"\u001b[39m\u001b[38;5;124mb\u001b[39m\u001b[38;5;124m\"\u001b[39m\n\u001b[0;32m-> 1880\u001b[0m \u001b[38;5;28mself\u001b[39m\u001b[38;5;241m.\u001b[39mhandles \u001b[38;5;241m=\u001b[39m \u001b[43mget_handle\u001b[49m\u001b[43m(\u001b[49m\n\u001b[1;32m   1881\u001b[0m \u001b[43m    \u001b[49m\u001b[43mf\u001b[49m\u001b[43m,\u001b[49m\n\u001b[1;32m   1882\u001b[0m \u001b[43m    \u001b[49m\u001b[43mmode\u001b[49m\u001b[43m,\u001b[49m\n\u001b[1;32m   1883\u001b[0m \u001b[43m    \u001b[49m\u001b[43mencoding\u001b[49m\u001b[38;5;241;43m=\u001b[39;49m\u001b[38;5;28;43mself\u001b[39;49m\u001b[38;5;241;43m.\u001b[39;49m\u001b[43moptions\u001b[49m\u001b[38;5;241;43m.\u001b[39;49m\u001b[43mget\u001b[49m\u001b[43m(\u001b[49m\u001b[38;5;124;43m\"\u001b[39;49m\u001b[38;5;124;43mencoding\u001b[39;49m\u001b[38;5;124;43m\"\u001b[39;49m\u001b[43m,\u001b[49m\u001b[43m \u001b[49m\u001b[38;5;28;43;01mNone\u001b[39;49;00m\u001b[43m)\u001b[49m\u001b[43m,\u001b[49m\n\u001b[1;32m   1884\u001b[0m \u001b[43m    \u001b[49m\u001b[43mcompression\u001b[49m\u001b[38;5;241;43m=\u001b[39;49m\u001b[38;5;28;43mself\u001b[39;49m\u001b[38;5;241;43m.\u001b[39;49m\u001b[43moptions\u001b[49m\u001b[38;5;241;43m.\u001b[39;49m\u001b[43mget\u001b[49m\u001b[43m(\u001b[49m\u001b[38;5;124;43m\"\u001b[39;49m\u001b[38;5;124;43mcompression\u001b[39;49m\u001b[38;5;124;43m\"\u001b[39;49m\u001b[43m,\u001b[49m\u001b[43m \u001b[49m\u001b[38;5;28;43;01mNone\u001b[39;49;00m\u001b[43m)\u001b[49m\u001b[43m,\u001b[49m\n\u001b[1;32m   1885\u001b[0m \u001b[43m    \u001b[49m\u001b[43mmemory_map\u001b[49m\u001b[38;5;241;43m=\u001b[39;49m\u001b[38;5;28;43mself\u001b[39;49m\u001b[38;5;241;43m.\u001b[39;49m\u001b[43moptions\u001b[49m\u001b[38;5;241;43m.\u001b[39;49m\u001b[43mget\u001b[49m\u001b[43m(\u001b[49m\u001b[38;5;124;43m\"\u001b[39;49m\u001b[38;5;124;43mmemory_map\u001b[39;49m\u001b[38;5;124;43m\"\u001b[39;49m\u001b[43m,\u001b[49m\u001b[43m \u001b[49m\u001b[38;5;28;43;01mFalse\u001b[39;49;00m\u001b[43m)\u001b[49m\u001b[43m,\u001b[49m\n\u001b[1;32m   1886\u001b[0m \u001b[43m    \u001b[49m\u001b[43mis_text\u001b[49m\u001b[38;5;241;43m=\u001b[39;49m\u001b[43mis_text\u001b[49m\u001b[43m,\u001b[49m\n\u001b[1;32m   1887\u001b[0m \u001b[43m    \u001b[49m\u001b[43merrors\u001b[49m\u001b[38;5;241;43m=\u001b[39;49m\u001b[38;5;28;43mself\u001b[39;49m\u001b[38;5;241;43m.\u001b[39;49m\u001b[43moptions\u001b[49m\u001b[38;5;241;43m.\u001b[39;49m\u001b[43mget\u001b[49m\u001b[43m(\u001b[49m\u001b[38;5;124;43m\"\u001b[39;49m\u001b[38;5;124;43mencoding_errors\u001b[39;49m\u001b[38;5;124;43m\"\u001b[39;49m\u001b[43m,\u001b[49m\u001b[43m \u001b[49m\u001b[38;5;124;43m\"\u001b[39;49m\u001b[38;5;124;43mstrict\u001b[39;49m\u001b[38;5;124;43m\"\u001b[39;49m\u001b[43m)\u001b[49m\u001b[43m,\u001b[49m\n\u001b[1;32m   1888\u001b[0m \u001b[43m    \u001b[49m\u001b[43mstorage_options\u001b[49m\u001b[38;5;241;43m=\u001b[39;49m\u001b[38;5;28;43mself\u001b[39;49m\u001b[38;5;241;43m.\u001b[39;49m\u001b[43moptions\u001b[49m\u001b[38;5;241;43m.\u001b[39;49m\u001b[43mget\u001b[49m\u001b[43m(\u001b[49m\u001b[38;5;124;43m\"\u001b[39;49m\u001b[38;5;124;43mstorage_options\u001b[39;49m\u001b[38;5;124;43m\"\u001b[39;49m\u001b[43m,\u001b[49m\u001b[43m \u001b[49m\u001b[38;5;28;43;01mNone\u001b[39;49;00m\u001b[43m)\u001b[49m\u001b[43m,\u001b[49m\n\u001b[1;32m   1889\u001b[0m \u001b[43m\u001b[49m\u001b[43m)\u001b[49m\n\u001b[1;32m   1890\u001b[0m \u001b[38;5;28;01massert\u001b[39;00m \u001b[38;5;28mself\u001b[39m\u001b[38;5;241m.\u001b[39mhandles \u001b[38;5;129;01mis\u001b[39;00m \u001b[38;5;129;01mnot\u001b[39;00m \u001b[38;5;28;01mNone\u001b[39;00m\n\u001b[1;32m   1891\u001b[0m f \u001b[38;5;241m=\u001b[39m \u001b[38;5;28mself\u001b[39m\u001b[38;5;241m.\u001b[39mhandles\u001b[38;5;241m.\u001b[39mhandle\n",
      "File \u001b[0;32m/Library/Frameworks/Python.framework/Versions/3.12/lib/python3.12/site-packages/pandas/io/common.py:873\u001b[0m, in \u001b[0;36mget_handle\u001b[0;34m(path_or_buf, mode, encoding, compression, memory_map, is_text, errors, storage_options)\u001b[0m\n\u001b[1;32m    868\u001b[0m \u001b[38;5;28;01melif\u001b[39;00m \u001b[38;5;28misinstance\u001b[39m(handle, \u001b[38;5;28mstr\u001b[39m):\n\u001b[1;32m    869\u001b[0m     \u001b[38;5;66;03m# Check whether the filename is to be opened in binary mode.\u001b[39;00m\n\u001b[1;32m    870\u001b[0m     \u001b[38;5;66;03m# Binary mode does not support 'encoding' and 'newline'.\u001b[39;00m\n\u001b[1;32m    871\u001b[0m     \u001b[38;5;28;01mif\u001b[39;00m ioargs\u001b[38;5;241m.\u001b[39mencoding \u001b[38;5;129;01mand\u001b[39;00m \u001b[38;5;124m\"\u001b[39m\u001b[38;5;124mb\u001b[39m\u001b[38;5;124m\"\u001b[39m \u001b[38;5;129;01mnot\u001b[39;00m \u001b[38;5;129;01min\u001b[39;00m ioargs\u001b[38;5;241m.\u001b[39mmode:\n\u001b[1;32m    872\u001b[0m         \u001b[38;5;66;03m# Encoding\u001b[39;00m\n\u001b[0;32m--> 873\u001b[0m         handle \u001b[38;5;241m=\u001b[39m \u001b[38;5;28;43mopen\u001b[39;49m\u001b[43m(\u001b[49m\n\u001b[1;32m    874\u001b[0m \u001b[43m            \u001b[49m\u001b[43mhandle\u001b[49m\u001b[43m,\u001b[49m\n\u001b[1;32m    875\u001b[0m \u001b[43m            \u001b[49m\u001b[43mioargs\u001b[49m\u001b[38;5;241;43m.\u001b[39;49m\u001b[43mmode\u001b[49m\u001b[43m,\u001b[49m\n\u001b[1;32m    876\u001b[0m \u001b[43m            \u001b[49m\u001b[43mencoding\u001b[49m\u001b[38;5;241;43m=\u001b[39;49m\u001b[43mioargs\u001b[49m\u001b[38;5;241;43m.\u001b[39;49m\u001b[43mencoding\u001b[49m\u001b[43m,\u001b[49m\n\u001b[1;32m    877\u001b[0m \u001b[43m            \u001b[49m\u001b[43merrors\u001b[49m\u001b[38;5;241;43m=\u001b[39;49m\u001b[43merrors\u001b[49m\u001b[43m,\u001b[49m\n\u001b[1;32m    878\u001b[0m \u001b[43m            \u001b[49m\u001b[43mnewline\u001b[49m\u001b[38;5;241;43m=\u001b[39;49m\u001b[38;5;124;43m\"\u001b[39;49m\u001b[38;5;124;43m\"\u001b[39;49m\u001b[43m,\u001b[49m\n\u001b[1;32m    879\u001b[0m \u001b[43m        \u001b[49m\u001b[43m)\u001b[49m\n\u001b[1;32m    880\u001b[0m     \u001b[38;5;28;01melse\u001b[39;00m:\n\u001b[1;32m    881\u001b[0m         \u001b[38;5;66;03m# Binary mode\u001b[39;00m\n\u001b[1;32m    882\u001b[0m         handle \u001b[38;5;241m=\u001b[39m \u001b[38;5;28mopen\u001b[39m(handle, ioargs\u001b[38;5;241m.\u001b[39mmode)\n",
      "\u001b[0;31mFileNotFoundError\u001b[0m: [Errno 2] No such file or directory: 'exp2018.csv'"
     ]
    }
   ],
   "source": [
    "exp18 = pd.read_csv(\"exp2018.csv\", encoding = \"cp1252\")"
   ]
  },
  {
   "cell_type": "code",
   "execution_count": 21,
   "id": "664ec2e4-e8f0-4677-9a5e-17594dc87c9a",
   "metadata": {},
   "outputs": [],
   "source": [
    "exp19 = pd.read_csv(\"exp2019.csv\", encoding = \"cp1252\")"
   ]
  },
  {
   "cell_type": "code",
   "execution_count": 22,
   "id": "cbe57262-3d02-4ca0-911d-f44aa2b59575",
   "metadata": {},
   "outputs": [
    {
     "data": {
      "text/plain": [
       "Index(['code', 'park19', 'tss19', 'ele19', 'inf19', 'wat19', 'com19'], dtype='object')"
      ]
     },
     "execution_count": 22,
     "metadata": {},
     "output_type": "execute_result"
    }
   ],
   "source": [
    "exp19.columns "
   ]
  },
  {
   "cell_type": "code",
   "execution_count": 23,
   "id": "be521f33-5a29-49be-8d61-20f4f23293f5",
   "metadata": {},
   "outputs": [],
   "source": [
    "exp00_19 = pd.merge(exp00, exp01[[\"code\",'ele01', 'tss01', 'inf01', 'wat01', 'com1']], on = \"code\", how=\"outer\")"
   ]
  },
  {
   "cell_type": "code",
   "execution_count": 24,
   "id": "fd56bb0b-e8ce-430d-bd1f-739b1444ecfd",
   "metadata": {},
   "outputs": [],
   "source": [
    "exp00_19 = pd.merge(exp00_19, exp02[[\"code\",'ele02', 'tss02', 'inf02', 'wat02', 'com2']], on = \"code\", how=\"outer\")"
   ]
  },
  {
   "cell_type": "code",
   "execution_count": 25,
   "id": "89392516-c43b-43b0-ae31-61d18ffa1413",
   "metadata": {},
   "outputs": [],
   "source": [
    "exp00_19 = pd.merge(exp00_19, exp03[[\"code\",'ele03', 'tss03', 'inf03', 'wat03', 'com03']], on = \"code\", how=\"outer\")"
   ]
  },
  {
   "cell_type": "code",
   "execution_count": 26,
   "id": "ece20fdc-915e-4447-bbf2-36577f077ccc",
   "metadata": {},
   "outputs": [],
   "source": [
    "exp00_19 = pd.merge(exp00_19, exp04[[\"code\",'ele04', 'tss04', 'inf04', 'wat04', 'com04']], on = \"code\", how=\"outer\")"
   ]
  },
  {
   "cell_type": "code",
   "execution_count": 27,
   "id": "a67dd6fa-8b19-4945-833b-3f9c63ea36a8",
   "metadata": {},
   "outputs": [],
   "source": [
    "exp00_19 = pd.merge(exp00_19, exp05[[\"code\",'ele05', 'tss05', 'inf05', 'wat05', 'com05']], on = \"code\", how=\"outer\")"
   ]
  },
  {
   "cell_type": "code",
   "execution_count": 28,
   "id": "56125985-8edf-489a-95fa-1f0253c45136",
   "metadata": {},
   "outputs": [],
   "source": [
    "exp00_19 = pd.merge(exp00_19, exp06[[\"code\",'ele06', 'tss06', 'inf06', 'wat06', 'com06']], on = \"code\", how=\"outer\")"
   ]
  },
  {
   "cell_type": "code",
   "execution_count": 29,
   "id": "9f6678e0-869c-4193-b8dd-df41eaddb369",
   "metadata": {},
   "outputs": [],
   "source": [
    "exp00_19 = pd.merge(exp00_19, exp07[[\"code\",'ele07', 'tss07', 'inf07', 'wat07', 'com07']], on = \"code\", how=\"outer\")"
   ]
  },
  {
   "cell_type": "code",
   "execution_count": 30,
   "id": "310915e5-493f-46d5-b524-2a60bc5403fd",
   "metadata": {},
   "outputs": [],
   "source": [
    "exp00_19 = pd.merge(exp00_19, exp08[[\"code\",'ele08', 'tss08', 'inf08', 'wat08', 'com08']], on = \"code\", how=\"outer\")"
   ]
  },
  {
   "cell_type": "code",
   "execution_count": 31,
   "id": "7ed7ce01-00c9-4faa-8c7b-410593e27862",
   "metadata": {},
   "outputs": [],
   "source": [
    "exp00_19 = pd.merge(exp00_19, exp09[[\"code\",'ele09', 'tss09', 'inf09', 'wat09', 'com09']], on = \"code\", how=\"outer\")"
   ]
  },
  {
   "cell_type": "code",
   "execution_count": 32,
   "id": "a39cee0f-1af6-43f6-ae22-fcb9f7c071e6",
   "metadata": {},
   "outputs": [],
   "source": [
    "exp00_19 = pd.merge(exp00_19, exp10[[\"code\",'ele10', 'tss10', 'inf10', 'wat10', 'com10']], on = \"code\", how=\"outer\")"
   ]
  },
  {
   "cell_type": "code",
   "execution_count": 33,
   "id": "8a30592a-0737-4d6e-82f8-92a295a4ee07",
   "metadata": {},
   "outputs": [],
   "source": [
    "exp00_19 = pd.merge(exp00_19, exp11[[\"code\",'ele11', 'tss11', 'inf11', 'wat11', 'com11']], on = \"code\", how=\"outer\")"
   ]
  },
  {
   "cell_type": "code",
   "execution_count": 34,
   "id": "43e1f0f1-a307-4103-bbb2-ac707a03c6b4",
   "metadata": {},
   "outputs": [],
   "source": [
    "exp00_19 = pd.merge(exp00_19, exp12[[\"code\",'ele12', 'tss12', 'inf12', 'wat12', 'com12']], on = \"code\", how=\"outer\")"
   ]
  },
  {
   "cell_type": "code",
   "execution_count": 35,
   "id": "34321d15-9d2a-41be-a85f-df70875327aa",
   "metadata": {},
   "outputs": [],
   "source": [
    "exp00_19 = pd.merge(exp00_19, exp13[[\"code\",'ele13', 'tss13', 'inf13', 'wat13', 'com13']], on = \"code\", how=\"outer\")"
   ]
  },
  {
   "cell_type": "code",
   "execution_count": 36,
   "id": "14710058-deb5-4c52-a527-07220d7bd738",
   "metadata": {},
   "outputs": [],
   "source": [
    "exp00_19 = pd.merge(exp00_19, exp14[[\"code\",'ele14', 'tss14', 'inf14', 'wat14', 'com14']], on = \"code\", how=\"outer\")"
   ]
  },
  {
   "cell_type": "code",
   "execution_count": 37,
   "id": "6c0703a7-008e-486c-8306-4b64f5367cd9",
   "metadata": {},
   "outputs": [],
   "source": [
    "exp00_19 = pd.merge(exp00_19, exp15[[\"code\",'ele15', 'tss15', 'inf15', 'wat15', 'com15']], on = \"code\", how=\"outer\")"
   ]
  },
  {
   "cell_type": "code",
   "execution_count": 38,
   "id": "3b56039a-197a-436e-9006-7fd2b633d2dd",
   "metadata": {},
   "outputs": [],
   "source": [
    "exp00_19 = pd.merge(exp00_19, exp16[[\"code\",'ele16', 'tss16', 'inf16', 'wat16', 'com16']], on = \"code\", how=\"outer\")"
   ]
  },
  {
   "cell_type": "code",
   "execution_count": 39,
   "id": "dd5380c6-97ce-43fd-b758-2aeeb615c3ec",
   "metadata": {},
   "outputs": [],
   "source": [
    "exp00_19 = pd.merge(exp00_19, exp17[[\"code\",'ele17', 'tss17', 'inf17', 'wat17', 'com17']], on = \"code\", how=\"outer\")"
   ]
  },
  {
   "cell_type": "code",
   "execution_count": null,
   "id": "73d1aafb-42cc-4aef-9a95-87bca8ca472b",
   "metadata": {},
   "outputs": [],
   "source": [
    "exp00_19 = pd.merge(exp00_19, exp18[[\"code\",'ele18', 'tss18', 'inf18', 'wat18', 'com18']], on = \"code\", how=\"outer\")"
   ]
  },
  {
   "cell_type": "code",
   "execution_count": 40,
   "id": "5a890f75-95ef-4340-950d-581ede6fe081",
   "metadata": {},
   "outputs": [],
   "source": [
    "exp00_19 = pd.merge(exp00_19, exp19[[\"code\",'ele19', 'tss19', 'inf19', 'wat19', 'com19']], on = \"code\", how=\"outer\")"
   ]
  },
  {
   "cell_type": "code",
   "execution_count": 41,
   "id": "9771037d-62b5-49c8-a294-f0b0005165aa",
   "metadata": {},
   "outputs": [
    {
     "data": {
      "text/html": [
       "<div>\n",
       "<style scoped>\n",
       "    .dataframe tbody tr th:only-of-type {\n",
       "        vertical-align: middle;\n",
       "    }\n",
       "\n",
       "    .dataframe tbody tr th {\n",
       "        vertical-align: top;\n",
       "    }\n",
       "\n",
       "    .dataframe thead th {\n",
       "        text-align: right;\n",
       "    }\n",
       "</style>\n",
       "<table border=\"1\" class=\"dataframe\">\n",
       "  <thead>\n",
       "    <tr style=\"text-align: right;\">\n",
       "      <th></th>\n",
       "      <th>code</th>\n",
       "      <th>park_2000</th>\n",
       "      <th>ele00</th>\n",
       "      <th>tss00</th>\n",
       "      <th>inf00</th>\n",
       "      <th>wat00</th>\n",
       "      <th>com0</th>\n",
       "      <th>ele01</th>\n",
       "      <th>tss01</th>\n",
       "      <th>inf01</th>\n",
       "      <th>...</th>\n",
       "      <th>ele17</th>\n",
       "      <th>tss17</th>\n",
       "      <th>inf17</th>\n",
       "      <th>wat17</th>\n",
       "      <th>com17</th>\n",
       "      <th>ele19</th>\n",
       "      <th>tss19</th>\n",
       "      <th>inf19</th>\n",
       "      <th>wat19</th>\n",
       "      <th>com19</th>\n",
       "    </tr>\n",
       "  </thead>\n",
       "  <tbody>\n",
       "    <tr>\n",
       "      <th>0</th>\n",
       "      <td>DOM-6NO</td>\n",
       "      <td>NaN</td>\n",
       "      <td>NaN</td>\n",
       "      <td>NaN</td>\n",
       "      <td>NaN</td>\n",
       "      <td>NaN</td>\n",
       "      <td>NaN</td>\n",
       "      <td>NaN</td>\n",
       "      <td>NaN</td>\n",
       "      <td>NaN</td>\n",
       "      <td>...</td>\n",
       "      <td>4540135.04</td>\n",
       "      <td>2323084.38</td>\n",
       "      <td>131204.54</td>\n",
       "      <td>20654.15</td>\n",
       "      <td>424386.85</td>\n",
       "      <td>1250000.00</td>\n",
       "      <td>1883168.95</td>\n",
       "      <td>11500.00</td>\n",
       "      <td>8500.00</td>\n",
       "      <td>19500.00</td>\n",
       "    </tr>\n",
       "    <tr>\n",
       "      <th>1</th>\n",
       "      <td>DOM-ALC</td>\n",
       "      <td>LosAlcarrizos</td>\n",
       "      <td>9812247.7</td>\n",
       "      <td>5638113.84</td>\n",
       "      <td>766893.43</td>\n",
       "      <td>464354.0</td>\n",
       "      <td>0.0</td>\n",
       "      <td>9991975.00</td>\n",
       "      <td>5522545.90</td>\n",
       "      <td>664740.87</td>\n",
       "      <td>...</td>\n",
       "      <td>14093068.47</td>\n",
       "      <td>25825199.68</td>\n",
       "      <td>1453292.93</td>\n",
       "      <td>847839.06</td>\n",
       "      <td>3993701.39</td>\n",
       "      <td>10493017.48</td>\n",
       "      <td>32927736.42</td>\n",
       "      <td>1303479.00</td>\n",
       "      <td>453229.00</td>\n",
       "      <td>1974809.47</td>\n",
       "    </tr>\n",
       "    <tr>\n",
       "      <th>2</th>\n",
       "      <td>DOM-ALT</td>\n",
       "      <td>VillaAltagracia</td>\n",
       "      <td>4272000.0</td>\n",
       "      <td>7560000.00</td>\n",
       "      <td>793343.19</td>\n",
       "      <td>72000.0</td>\n",
       "      <td>0.0</td>\n",
       "      <td>1175000.00</td>\n",
       "      <td>3806394.08</td>\n",
       "      <td>290000.00</td>\n",
       "      <td>...</td>\n",
       "      <td>2298832.03</td>\n",
       "      <td>13578419.60</td>\n",
       "      <td>615370.01</td>\n",
       "      <td>392173.15</td>\n",
       "      <td>1404116.58</td>\n",
       "      <td>7072325.55</td>\n",
       "      <td>14259957.83</td>\n",
       "      <td>667377.47</td>\n",
       "      <td>462740.86</td>\n",
       "      <td>1879744.03</td>\n",
       "    </tr>\n",
       "    <tr>\n",
       "      <th>3</th>\n",
       "      <td>DOM-AND</td>\n",
       "      <td>NaN</td>\n",
       "      <td>NaN</td>\n",
       "      <td>NaN</td>\n",
       "      <td>NaN</td>\n",
       "      <td>NaN</td>\n",
       "      <td>NaN</td>\n",
       "      <td>NaN</td>\n",
       "      <td>NaN</td>\n",
       "      <td>NaN</td>\n",
       "      <td>...</td>\n",
       "      <td>1484297.00</td>\n",
       "      <td>5061051.49</td>\n",
       "      <td>272479.00</td>\n",
       "      <td>161921.00</td>\n",
       "      <td>1186719</td>\n",
       "      <td>1966322.88</td>\n",
       "      <td>5657654.23</td>\n",
       "      <td>252129.69</td>\n",
       "      <td>154042.80</td>\n",
       "      <td>1734118.74</td>\n",
       "    </tr>\n",
       "    <tr>\n",
       "      <th>4</th>\n",
       "      <td>DOM-ARM</td>\n",
       "      <td>LaArmer’a</td>\n",
       "      <td>3561896.0</td>\n",
       "      <td>3980122.50</td>\n",
       "      <td>678543.21</td>\n",
       "      <td>86750.0</td>\n",
       "      <td>0.0</td>\n",
       "      <td>2419200.04</td>\n",
       "      <td>2921492.85</td>\n",
       "      <td>281005.92</td>\n",
       "      <td>...</td>\n",
       "      <td>3749228.35</td>\n",
       "      <td>14603635.91</td>\n",
       "      <td>649930.00</td>\n",
       "      <td>730737.32</td>\n",
       "      <td>2681815.41</td>\n",
       "      <td>5093636.47</td>\n",
       "      <td>16707260.03</td>\n",
       "      <td>665209.54</td>\n",
       "      <td>657895.00</td>\n",
       "      <td>1382951.54</td>\n",
       "    </tr>\n",
       "    <tr>\n",
       "      <th>...</th>\n",
       "      <td>...</td>\n",
       "      <td>...</td>\n",
       "      <td>...</td>\n",
       "      <td>...</td>\n",
       "      <td>...</td>\n",
       "      <td>...</td>\n",
       "      <td>...</td>\n",
       "      <td>...</td>\n",
       "      <td>...</td>\n",
       "      <td>...</td>\n",
       "      <td>...</td>\n",
       "      <td>...</td>\n",
       "      <td>...</td>\n",
       "      <td>...</td>\n",
       "      <td>...</td>\n",
       "      <td>...</td>\n",
       "      <td>...</td>\n",
       "      <td>...</td>\n",
       "      <td>...</td>\n",
       "      <td>...</td>\n",
       "      <td>...</td>\n",
       "    </tr>\n",
       "    <tr>\n",
       "      <th>104</th>\n",
       "      <td>SPE-SCR</td>\n",
       "      <td>ZFESanCrist—bal</td>\n",
       "      <td>257564.0</td>\n",
       "      <td>725814.00</td>\n",
       "      <td>0.00</td>\n",
       "      <td>20754.0</td>\n",
       "      <td>0.0</td>\n",
       "      <td>1352139.53</td>\n",
       "      <td>1172758.64</td>\n",
       "      <td>90652.87</td>\n",
       "      <td>...</td>\n",
       "      <td>NaN</td>\n",
       "      <td>NaN</td>\n",
       "      <td>NaN</td>\n",
       "      <td>NaN</td>\n",
       "      <td>NaN</td>\n",
       "      <td>NaN</td>\n",
       "      <td>NaN</td>\n",
       "      <td>NaN</td>\n",
       "      <td>NaN</td>\n",
       "      <td>NaN</td>\n",
       "    </tr>\n",
       "    <tr>\n",
       "      <th>105</th>\n",
       "      <td>SPE-SFM</td>\n",
       "      <td>NaN</td>\n",
       "      <td>NaN</td>\n",
       "      <td>NaN</td>\n",
       "      <td>NaN</td>\n",
       "      <td>NaN</td>\n",
       "      <td>NaN</td>\n",
       "      <td>NaN</td>\n",
       "      <td>NaN</td>\n",
       "      <td>NaN</td>\n",
       "      <td>...</td>\n",
       "      <td>NaN</td>\n",
       "      <td>NaN</td>\n",
       "      <td>NaN</td>\n",
       "      <td>NaN</td>\n",
       "      <td>NaN</td>\n",
       "      <td>NaN</td>\n",
       "      <td>NaN</td>\n",
       "      <td>NaN</td>\n",
       "      <td>NaN</td>\n",
       "      <td>NaN</td>\n",
       "    </tr>\n",
       "    <tr>\n",
       "      <th>106</th>\n",
       "      <td>SPE-TRI</td>\n",
       "      <td>ZFEMa.TrinidadS.</td>\n",
       "      <td>0.0</td>\n",
       "      <td>29530.00</td>\n",
       "      <td>0.00</td>\n",
       "      <td>0.0</td>\n",
       "      <td>0.0</td>\n",
       "      <td>0.00</td>\n",
       "      <td>44923.81</td>\n",
       "      <td>14053.00</td>\n",
       "      <td>...</td>\n",
       "      <td>NaN</td>\n",
       "      <td>NaN</td>\n",
       "      <td>NaN</td>\n",
       "      <td>NaN</td>\n",
       "      <td>NaN</td>\n",
       "      <td>NaN</td>\n",
       "      <td>NaN</td>\n",
       "      <td>NaN</td>\n",
       "      <td>NaN</td>\n",
       "      <td>NaN</td>\n",
       "    </tr>\n",
       "    <tr>\n",
       "      <th>107</th>\n",
       "      <td>SPE-VEG</td>\n",
       "      <td>ZFELaVega</td>\n",
       "      <td>24228.0</td>\n",
       "      <td>7548.02</td>\n",
       "      <td>0.00</td>\n",
       "      <td>1200.0</td>\n",
       "      <td>0.0</td>\n",
       "      <td>222720.00</td>\n",
       "      <td>81000.00</td>\n",
       "      <td>2495.00</td>\n",
       "      <td>...</td>\n",
       "      <td>NaN</td>\n",
       "      <td>NaN</td>\n",
       "      <td>NaN</td>\n",
       "      <td>NaN</td>\n",
       "      <td>NaN</td>\n",
       "      <td>NaN</td>\n",
       "      <td>NaN</td>\n",
       "      <td>NaN</td>\n",
       "      <td>NaN</td>\n",
       "      <td>NaN</td>\n",
       "    </tr>\n",
       "    <tr>\n",
       "      <th>108</th>\n",
       "      <td>NaN</td>\n",
       "      <td>NaN</td>\n",
       "      <td>NaN</td>\n",
       "      <td>NaN</td>\n",
       "      <td>NaN</td>\n",
       "      <td>NaN</td>\n",
       "      <td>NaN</td>\n",
       "      <td>NaN</td>\n",
       "      <td>NaN</td>\n",
       "      <td>NaN</td>\n",
       "      <td>...</td>\n",
       "      <td>NaN</td>\n",
       "      <td>NaN</td>\n",
       "      <td>NaN</td>\n",
       "      <td>NaN</td>\n",
       "      <td>NaN</td>\n",
       "      <td>NaN</td>\n",
       "      <td>NaN</td>\n",
       "      <td>NaN</td>\n",
       "      <td>NaN</td>\n",
       "      <td>NaN</td>\n",
       "    </tr>\n",
       "  </tbody>\n",
       "</table>\n",
       "<p>109 rows × 97 columns</p>\n",
       "</div>"
      ],
      "text/plain": [
       "        code         park_2000      ele00       tss00      inf00     wat00  \\\n",
       "0    DOM-6NO               NaN        NaN         NaN        NaN       NaN   \n",
       "1    DOM-ALC     LosAlcarrizos  9812247.7  5638113.84  766893.43  464354.0   \n",
       "2    DOM-ALT   VillaAltagracia  4272000.0  7560000.00  793343.19   72000.0   \n",
       "3    DOM-AND               NaN        NaN         NaN        NaN       NaN   \n",
       "4    DOM-ARM         LaArmer’a  3561896.0  3980122.50  678543.21   86750.0   \n",
       "..       ...               ...        ...         ...        ...       ...   \n",
       "104  SPE-SCR   ZFESanCrist—bal   257564.0   725814.00       0.00   20754.0   \n",
       "105  SPE-SFM               NaN        NaN         NaN        NaN       NaN   \n",
       "106  SPE-TRI  ZFEMa.TrinidadS.        0.0    29530.00       0.00       0.0   \n",
       "107  SPE-VEG         ZFELaVega    24228.0     7548.02       0.00    1200.0   \n",
       "108      NaN               NaN        NaN         NaN        NaN       NaN   \n",
       "\n",
       "     com0       ele01       tss01      inf01  ...        ele17        tss17  \\\n",
       "0     NaN         NaN         NaN        NaN  ...   4540135.04   2323084.38   \n",
       "1     0.0  9991975.00  5522545.90  664740.87  ...  14093068.47  25825199.68   \n",
       "2     0.0  1175000.00  3806394.08  290000.00  ...   2298832.03  13578419.60   \n",
       "3     NaN         NaN         NaN        NaN  ...   1484297.00   5061051.49   \n",
       "4     0.0  2419200.04  2921492.85  281005.92  ...   3749228.35  14603635.91   \n",
       "..    ...         ...         ...        ...  ...          ...          ...   \n",
       "104   0.0  1352139.53  1172758.64   90652.87  ...          NaN          NaN   \n",
       "105   NaN         NaN         NaN        NaN  ...          NaN          NaN   \n",
       "106   0.0        0.00    44923.81   14053.00  ...          NaN          NaN   \n",
       "107   0.0   222720.00    81000.00    2495.00  ...          NaN          NaN   \n",
       "108   NaN         NaN         NaN        NaN  ...          NaN          NaN   \n",
       "\n",
       "          inf17      wat17       com17        ele19        tss19       inf19  \\\n",
       "0     131204.54   20654.15   424386.85   1250000.00   1883168.95    11500.00   \n",
       "1    1453292.93  847839.06  3993701.39  10493017.48  32927736.42  1303479.00   \n",
       "2     615370.01  392173.15  1404116.58   7072325.55  14259957.83   667377.47   \n",
       "3     272479.00  161921.00     1186719   1966322.88   5657654.23   252129.69   \n",
       "4     649930.00  730737.32  2681815.41   5093636.47  16707260.03   665209.54   \n",
       "..          ...        ...         ...          ...          ...         ...   \n",
       "104         NaN        NaN         NaN          NaN          NaN         NaN   \n",
       "105         NaN        NaN         NaN          NaN          NaN         NaN   \n",
       "106         NaN        NaN         NaN          NaN          NaN         NaN   \n",
       "107         NaN        NaN         NaN          NaN          NaN         NaN   \n",
       "108         NaN        NaN         NaN          NaN          NaN         NaN   \n",
       "\n",
       "         wat19       com19  \n",
       "0      8500.00    19500.00  \n",
       "1    453229.00  1974809.47  \n",
       "2    462740.86  1879744.03  \n",
       "3    154042.80  1734118.74  \n",
       "4    657895.00  1382951.54  \n",
       "..         ...         ...  \n",
       "104        NaN         NaN  \n",
       "105        NaN         NaN  \n",
       "106        NaN         NaN  \n",
       "107        NaN         NaN  \n",
       "108        NaN         NaN  \n",
       "\n",
       "[109 rows x 97 columns]"
      ]
     },
     "execution_count": 41,
     "metadata": {},
     "output_type": "execute_result"
    }
   ],
   "source": [
    "exp00_19"
   ]
  },
  {
   "cell_type": "code",
   "execution_count": null,
   "id": "743d8ae6-f05e-4ff9-ba61-708eeab34606",
   "metadata": {},
   "outputs": [],
   "source": []
  }
 ],
 "metadata": {
  "kernelspec": {
   "display_name": "Python 3 (ipykernel)",
   "language": "python",
   "name": "python3"
  },
  "language_info": {
   "codemirror_mode": {
    "name": "ipython",
    "version": 3
   },
   "file_extension": ".py",
   "mimetype": "text/x-python",
   "name": "python",
   "nbconvert_exporter": "python",
   "pygments_lexer": "ipython3",
   "version": "3.12.0"
  }
 },
 "nbformat": 4,
 "nbformat_minor": 5
}
