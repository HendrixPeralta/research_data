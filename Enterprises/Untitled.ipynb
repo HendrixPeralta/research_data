{
 "cells": [
  {
   "cell_type": "code",
   "execution_count": 1,
   "id": "6f681634-8402-4aae-9f05-e183a1845310",
   "metadata": {},
   "outputs": [],
   "source": [
    "import pandas as pd "
   ]
  },
  {
   "cell_type": "code",
   "execution_count": 2,
   "id": "5bf6f0ad-eadd-485d-a6ad-963f653bf936",
   "metadata": {},
   "outputs": [],
   "source": [
    "ent2000 = pd.read_csv(\"ent2000.csv\", encoding='cp1252')"
   ]
  },
  {
   "cell_type": "code",
   "execution_count": 3,
   "id": "89bc8a7d-a8bb-42da-b2a6-ee937ea7b26f",
   "metadata": {},
   "outputs": [],
   "source": [
    "ent2001 = pd.read_csv(\"ent2001.csv\", encoding='cp1252')"
   ]
  },
  {
   "cell_type": "code",
   "execution_count": 4,
   "id": "e95eaadf-785c-4c22-9633-efa367d48282",
   "metadata": {},
   "outputs": [],
   "source": [
    "ent2002 = pd.read_csv(\"ent2002.csv\", encoding='cp1252')"
   ]
  },
  {
   "cell_type": "code",
   "execution_count": 5,
   "id": "8d95c492-aa87-4893-8905-3d952e143754",
   "metadata": {},
   "outputs": [],
   "source": [
    "ent2003 = pd.read_csv(\"ent2003.csv\", encoding='cp1252')"
   ]
  },
  {
   "cell_type": "code",
   "execution_count": 6,
   "id": "4cac8773-bfbb-4c08-b9f7-d884e2770b07",
   "metadata": {},
   "outputs": [],
   "source": [
    "ent2004 = pd.read_csv(\"ent2004.csv\", encoding='cp1252')"
   ]
  },
  {
   "cell_type": "code",
   "execution_count": 7,
   "id": "f32898d0-4525-40e5-98c2-d176388c372f",
   "metadata": {},
   "outputs": [],
   "source": [
    "ent2005 = pd.read_csv(\"ent2005.csv\", encoding='cp1252')"
   ]
  },
  {
   "cell_type": "code",
   "execution_count": 8,
   "id": "59e87c8e-016f-404d-b6ea-a9bdd4ab4a17",
   "metadata": {},
   "outputs": [],
   "source": [
    "ent2006 = pd.read_csv(\"ent2006.csv\", encoding='cp1252')"
   ]
  },
  {
   "cell_type": "code",
   "execution_count": 17,
   "id": "eace4624-703c-424e-a3c4-c9aa76c2bf9c",
   "metadata": {},
   "outputs": [],
   "source": [
    "ent2007 = pd.read_csv(\"ent2007.csv\", encoding='cp1252')"
   ]
  },
  {
   "cell_type": "code",
   "execution_count": 9,
   "id": "953dccfb-bef7-49de-8e78-74558cafda30",
   "metadata": {},
   "outputs": [
    {
     "data": {
      "text/plain": [
       "Index(['code', 'park', 'ent05', 'ent06', 'absolute variation'], dtype='object')"
      ]
     },
     "execution_count": 9,
     "metadata": {},
     "output_type": "execute_result"
    }
   ],
   "source": [
    "ent2006.columns"
   ]
  },
  {
   "cell_type": "code",
   "execution_count": 10,
   "id": "f9a7d442-ede6-42cb-b1fa-6ff83bc29532",
   "metadata": {},
   "outputs": [],
   "source": [
    "ent99_19 = pd.merge(ent2000[[\"code\",\"park\", \"ent99\", \"ent00\"]], ent2001[[\"code\", \"ent01\"]], on='code',how='outer')"
   ]
  },
  {
   "cell_type": "code",
   "execution_count": 11,
   "id": "edf523be-8347-4250-a09f-c812d3e9fc59",
   "metadata": {},
   "outputs": [],
   "source": [
    "ent99_19 = pd.merge(ent99_19, ent2002[[\"code\", \"ent02\"]], on='code',how='outer')"
   ]
  },
  {
   "cell_type": "code",
   "execution_count": 12,
   "id": "3dab8552-e8e6-4417-a7c6-0a43660a0970",
   "metadata": {},
   "outputs": [],
   "source": [
    "ent99_19 = pd.merge(ent99_19, ent2003[[\"code\", \"ent03\"]], on='code',how='outer')"
   ]
  },
  {
   "cell_type": "code",
   "execution_count": 13,
   "id": "2c4c0322-1b08-4878-8eda-19c9cdd44fa0",
   "metadata": {},
   "outputs": [],
   "source": [
    "ent99_19 = pd.merge(ent99_19, ent2004[[\"code\", \"ent04\"]], on='code',how='outer')"
   ]
  },
  {
   "cell_type": "code",
   "execution_count": 14,
   "id": "0cec4269-fe2e-4c02-86c8-132d15e55bbc",
   "metadata": {},
   "outputs": [],
   "source": [
    "ent99_19 = pd.merge(ent99_19, ent2005[[\"code\", \"ent05\"]], on='code',how='outer')"
   ]
  },
  {
   "cell_type": "code",
   "execution_count": 15,
   "id": "35781446-f559-4123-8669-9fc8504997f6",
   "metadata": {},
   "outputs": [],
   "source": [
    "ent99_19 = pd.merge(ent99_19, ent2006[[\"code\", \"ent06\"]], on='code',how='outer')"
   ]
  },
  {
   "cell_type": "code",
   "execution_count": 16,
   "id": "40cefc05-93c7-485f-9d99-c9ad17e251dc",
   "metadata": {},
   "outputs": [
    {
     "data": {
      "text/html": [
       "<div>\n",
       "<style scoped>\n",
       "    .dataframe tbody tr th:only-of-type {\n",
       "        vertical-align: middle;\n",
       "    }\n",
       "\n",
       "    .dataframe tbody tr th {\n",
       "        vertical-align: top;\n",
       "    }\n",
       "\n",
       "    .dataframe thead th {\n",
       "        text-align: right;\n",
       "    }\n",
       "</style>\n",
       "<table border=\"1\" class=\"dataframe\">\n",
       "  <thead>\n",
       "    <tr style=\"text-align: right;\">\n",
       "      <th></th>\n",
       "      <th>code</th>\n",
       "      <th>park</th>\n",
       "      <th>ent99</th>\n",
       "      <th>ent00</th>\n",
       "      <th>ent01</th>\n",
       "      <th>ent02</th>\n",
       "      <th>ent03</th>\n",
       "      <th>ent04</th>\n",
       "      <th>ent05</th>\n",
       "      <th>ent06</th>\n",
       "    </tr>\n",
       "  </thead>\n",
       "  <tbody>\n",
       "    <tr>\n",
       "      <th>0</th>\n",
       "      <td>DOM-ALC</td>\n",
       "      <td>Los Alcarrizos</td>\n",
       "      <td>16.0</td>\n",
       "      <td>19.0</td>\n",
       "      <td>17.0</td>\n",
       "      <td>14.0</td>\n",
       "      <td>18.0</td>\n",
       "      <td>17.0</td>\n",
       "      <td>14.0</td>\n",
       "      <td>14.0</td>\n",
       "    </tr>\n",
       "    <tr>\n",
       "      <th>1</th>\n",
       "      <td>DOM-ALT</td>\n",
       "      <td>Villa Altagracia</td>\n",
       "      <td>2.0</td>\n",
       "      <td>2.0</td>\n",
       "      <td>2.0</td>\n",
       "      <td>3.0</td>\n",
       "      <td>3.0</td>\n",
       "      <td>3.0</td>\n",
       "      <td>4.0</td>\n",
       "      <td>7.0</td>\n",
       "    </tr>\n",
       "    <tr>\n",
       "      <th>2</th>\n",
       "      <td>DOM-ARM</td>\n",
       "      <td>La Armer’a</td>\n",
       "      <td>11.0</td>\n",
       "      <td>10.0</td>\n",
       "      <td>9.0</td>\n",
       "      <td>11.0</td>\n",
       "      <td>10.0</td>\n",
       "      <td>10.0</td>\n",
       "      <td>10.0</td>\n",
       "      <td>9.0</td>\n",
       "    </tr>\n",
       "    <tr>\n",
       "      <th>3</th>\n",
       "      <td>DOM-AZU</td>\n",
       "      <td>NaN</td>\n",
       "      <td>NaN</td>\n",
       "      <td>NaN</td>\n",
       "      <td>1.0</td>\n",
       "      <td>1.0</td>\n",
       "      <td>1.0</td>\n",
       "      <td>1.0</td>\n",
       "      <td>0.0</td>\n",
       "      <td>NaN</td>\n",
       "    </tr>\n",
       "    <tr>\n",
       "      <th>4</th>\n",
       "      <td>DOM-BAN</td>\n",
       "      <td>Ban’</td>\n",
       "      <td>13.0</td>\n",
       "      <td>11.0</td>\n",
       "      <td>11.0</td>\n",
       "      <td>9.0</td>\n",
       "      <td>9.0</td>\n",
       "      <td>8.0</td>\n",
       "      <td>10.0</td>\n",
       "      <td>8.0</td>\n",
       "    </tr>\n",
       "    <tr>\n",
       "      <th>...</th>\n",
       "      <td>...</td>\n",
       "      <td>...</td>\n",
       "      <td>...</td>\n",
       "      <td>...</td>\n",
       "      <td>...</td>\n",
       "      <td>...</td>\n",
       "      <td>...</td>\n",
       "      <td>...</td>\n",
       "      <td>...</td>\n",
       "      <td>...</td>\n",
       "    </tr>\n",
       "    <tr>\n",
       "      <th>60</th>\n",
       "      <td>DOM-TAM</td>\n",
       "      <td>Tamboril</td>\n",
       "      <td>2.0</td>\n",
       "      <td>1.0</td>\n",
       "      <td>1.0</td>\n",
       "      <td>2.0</td>\n",
       "      <td>5.0</td>\n",
       "      <td>5.0</td>\n",
       "      <td>5.0</td>\n",
       "      <td>4.0</td>\n",
       "    </tr>\n",
       "    <tr>\n",
       "      <th>61</th>\n",
       "      <td>DOM-VEG</td>\n",
       "      <td>La Vega</td>\n",
       "      <td>29.0</td>\n",
       "      <td>30.0</td>\n",
       "      <td>28.0</td>\n",
       "      <td>32.0</td>\n",
       "      <td>32.0</td>\n",
       "      <td>30.0</td>\n",
       "      <td>21.0</td>\n",
       "      <td>27.0</td>\n",
       "    </tr>\n",
       "    <tr>\n",
       "      <th>62</th>\n",
       "      <td>DOM-VIS</td>\n",
       "      <td>NaN</td>\n",
       "      <td>NaN</td>\n",
       "      <td>NaN</td>\n",
       "      <td>NaN</td>\n",
       "      <td>NaN</td>\n",
       "      <td>NaN</td>\n",
       "      <td>1.0</td>\n",
       "      <td>2.0</td>\n",
       "      <td>2.0</td>\n",
       "    </tr>\n",
       "    <tr>\n",
       "      <th>63</th>\n",
       "      <td>DOM-ZFE</td>\n",
       "      <td>Z.F. Especiales</td>\n",
       "      <td>28.0</td>\n",
       "      <td>27.0</td>\n",
       "      <td>31.0</td>\n",
       "      <td>33.0</td>\n",
       "      <td>35.0</td>\n",
       "      <td>41.0</td>\n",
       "      <td>56.0</td>\n",
       "      <td>75.0</td>\n",
       "    </tr>\n",
       "    <tr>\n",
       "      <th>64</th>\n",
       "      <td>DOM-ZOF</td>\n",
       "      <td>Zofinma (Mao)</td>\n",
       "      <td>0.0</td>\n",
       "      <td>1.0</td>\n",
       "      <td>1.0</td>\n",
       "      <td>1.0</td>\n",
       "      <td>1.0</td>\n",
       "      <td>1.0</td>\n",
       "      <td>1.0</td>\n",
       "      <td>1.0</td>\n",
       "    </tr>\n",
       "  </tbody>\n",
       "</table>\n",
       "<p>65 rows × 10 columns</p>\n",
       "</div>"
      ],
      "text/plain": [
       "       code              park  ent99  ent00  ent01  ent02  ent03  ent04  \\\n",
       "0   DOM-ALC    Los Alcarrizos   16.0   19.0   17.0   14.0   18.0   17.0   \n",
       "1   DOM-ALT  Villa Altagracia    2.0    2.0    2.0    3.0    3.0    3.0   \n",
       "2   DOM-ARM        La Armer’a   11.0   10.0    9.0   11.0   10.0   10.0   \n",
       "3   DOM-AZU               NaN    NaN    NaN    1.0    1.0    1.0    1.0   \n",
       "4   DOM-BAN              Ban’   13.0   11.0   11.0    9.0    9.0    8.0   \n",
       "..      ...               ...    ...    ...    ...    ...    ...    ...   \n",
       "60  DOM-TAM          Tamboril    2.0    1.0    1.0    2.0    5.0    5.0   \n",
       "61  DOM-VEG           La Vega   29.0   30.0   28.0   32.0   32.0   30.0   \n",
       "62  DOM-VIS               NaN    NaN    NaN    NaN    NaN    NaN    1.0   \n",
       "63  DOM-ZFE   Z.F. Especiales   28.0   27.0   31.0   33.0   35.0   41.0   \n",
       "64  DOM-ZOF     Zofinma (Mao)    0.0    1.0    1.0    1.0    1.0    1.0   \n",
       "\n",
       "    ent05  ent06  \n",
       "0    14.0   14.0  \n",
       "1     4.0    7.0  \n",
       "2    10.0    9.0  \n",
       "3     0.0    NaN  \n",
       "4    10.0    8.0  \n",
       "..    ...    ...  \n",
       "60    5.0    4.0  \n",
       "61   21.0   27.0  \n",
       "62    2.0    2.0  \n",
       "63   56.0   75.0  \n",
       "64    1.0    1.0  \n",
       "\n",
       "[65 rows x 10 columns]"
      ]
     },
     "execution_count": 16,
     "metadata": {},
     "output_type": "execute_result"
    }
   ],
   "source": [
    "ent99_19\n"
   ]
  },
  {
   "cell_type": "code",
   "execution_count": null,
   "id": "c3557b16-cda8-47b1-9441-620e8aa929db",
   "metadata": {},
   "outputs": [],
   "source": []
  }
 ],
 "metadata": {
  "kernelspec": {
   "display_name": "Python 3 (ipykernel)",
   "language": "python",
   "name": "python3"
  },
  "language_info": {
   "codemirror_mode": {
    "name": "ipython",
    "version": 3
   },
   "file_extension": ".py",
   "mimetype": "text/x-python",
   "name": "python",
   "nbconvert_exporter": "python",
   "pygments_lexer": "ipython3",
   "version": "3.12.0"
  }
 },
 "nbformat": 4,
 "nbformat_minor": 5
}
