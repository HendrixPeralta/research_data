{
 "cells": [
  {
   "cell_type": "code",
   "execution_count": 1,
   "id": "cc3ef3c0-21c4-4d44-b6d8-34743c204675",
   "metadata": {},
   "outputs": [],
   "source": [
    "import pandas as pd"
   ]
  },
  {
   "cell_type": "code",
   "execution_count": 2,
   "id": "645d191f-4138-4fbe-8de8-c6d1c54b010b",
   "metadata": {},
   "outputs": [],
   "source": [
    "inv00 = pd.read_csv(\"inv2000.csv\", encoding='cp1252')"
   ]
  },
  {
   "cell_type": "code",
   "execution_count": 3,
   "id": "a2389de8-b7f0-4586-b718-533a47aa4715",
   "metadata": {},
   "outputs": [],
   "source": [
    "inv01 = pd.read_csv(\"inv2001.csv\", encoding='cp1252')"
   ]
  },
  {
   "cell_type": "code",
   "execution_count": 4,
   "id": "ddde3fc5-82fc-4db4-b344-ec5e618fc34f",
   "metadata": {},
   "outputs": [],
   "source": [
    "inv02 = pd.read_csv(\"inv2002.csv\", encoding='cp1252')"
   ]
  },
  {
   "cell_type": "code",
   "execution_count": 5,
   "id": "efb40d24-af21-4ba9-b8e6-741f163bdb43",
   "metadata": {},
   "outputs": [],
   "source": [
    "inv03 = pd.read_csv(\"inv2003.csv\", encoding='cp1252')"
   ]
  },
  {
   "cell_type": "code",
   "execution_count": 6,
   "id": "c82cb54b-7199-407f-a82a-dd4cb0691a5b",
   "metadata": {},
   "outputs": [],
   "source": [
    "inv04 = pd.read_csv(\"inv2004.csv\", encoding='cp1252')"
   ]
  },
  {
   "cell_type": "code",
   "execution_count": 7,
   "id": "b73cbab0-3164-4302-8804-6c510a76a660",
   "metadata": {},
   "outputs": [],
   "source": [
    "inv05 = pd.read_csv(\"inv2005.csv\", encoding='cp1252')"
   ]
  },
  {
   "cell_type": "code",
   "execution_count": 8,
   "id": "baf82401-acb0-47f6-8ecf-13714769b9e2",
   "metadata": {},
   "outputs": [],
   "source": [
    "inv06 = pd.read_csv(\"inv2006.csv\", encoding='cp1252')"
   ]
  },
  {
   "cell_type": "code",
   "execution_count": 9,
   "id": "0b034f55-064b-4bbc-aad9-2d9bc63a3f7c",
   "metadata": {},
   "outputs": [],
   "source": [
    "inv07 = pd.read_csv(\"inv2007.csv\", encoding='cp1252')"
   ]
  },
  {
   "cell_type": "code",
   "execution_count": 10,
   "id": "84110f87-5b99-4060-a3b4-535feeefd255",
   "metadata": {},
   "outputs": [],
   "source": [
    "inv08 = pd.read_csv(\"inv2008.csv\", encoding='cp1252')"
   ]
  },
  {
   "cell_type": "code",
   "execution_count": 11,
   "id": "62ab0b13-9899-486c-8957-3b0b9c0afc55",
   "metadata": {},
   "outputs": [],
   "source": [
    "inv09 = pd.read_csv(\"inv2009.csv\", encoding='cp1252')"
   ]
  },
  {
   "cell_type": "code",
   "execution_count": 12,
   "id": "1ed014d5-9154-4121-af27-3ecd84d98a45",
   "metadata": {},
   "outputs": [],
   "source": [
    "inv10 = pd.read_csv(\"inv2010.csv\", encoding='cp1252')"
   ]
  },
  {
   "cell_type": "code",
   "execution_count": 13,
   "id": "f4b71ceb-ee90-4090-8b2a-0d8a390519bb",
   "metadata": {},
   "outputs": [],
   "source": [
    "inv11 = pd.read_csv(\"inv2011.csv\", encoding='cp1252')"
   ]
  },
  {
   "cell_type": "code",
   "execution_count": 14,
   "id": "54fa8b95-7709-4a32-a9a1-77d0fac8a994",
   "metadata": {},
   "outputs": [],
   "source": [
    "inv12 = pd.read_csv(\"inv2012.csv\", encoding='cp1252')"
   ]
  },
  {
   "cell_type": "code",
   "execution_count": 15,
   "id": "f1f2892a-a6b2-4dd0-b766-b0449d5c0ab1",
   "metadata": {},
   "outputs": [],
   "source": [
    "inv13 = pd.read_csv(\"inv2013.csv\", encoding='cp1252')"
   ]
  },
  {
   "cell_type": "code",
   "execution_count": 16,
   "id": "bdef19f0-c032-4bc4-a71c-24e48b608b5d",
   "metadata": {},
   "outputs": [],
   "source": [
    "inv14 = pd.read_csv(\"inv2014.csv\", encoding='cp1252')"
   ]
  },
  {
   "cell_type": "code",
   "execution_count": 17,
   "id": "da9af4a9-e834-4403-b4ca-6402ab9a804b",
   "metadata": {},
   "outputs": [],
   "source": [
    "inv15 = pd.read_csv(\"inv2015.csv\", encoding='cp1252')"
   ]
  },
  {
   "cell_type": "code",
   "execution_count": 18,
   "id": "a18703f9-4626-46a9-a612-b7bdc8d531f5",
   "metadata": {},
   "outputs": [],
   "source": [
    "inv16 = pd.read_csv(\"inv2016.csv\", encoding='cp1252')"
   ]
  },
  {
   "cell_type": "code",
   "execution_count": 19,
   "id": "a3662e11-9139-4efc-a70c-fbd986a1adab",
   "metadata": {},
   "outputs": [],
   "source": [
    "#inv17 = pd.read_csv(\"inv2017.csv\", encoding='cp1252')"
   ]
  },
  {
   "cell_type": "code",
   "execution_count": 20,
   "id": "2ab79f9b-aadd-4772-963b-59102c63f7f0",
   "metadata": {},
   "outputs": [],
   "source": [
    "#inv18 = pd.read_csv(\"inv2018.csv\", encoding='cp1252')"
   ]
  },
  {
   "cell_type": "code",
   "execution_count": 21,
   "id": "b69129f2-ecaa-4312-b106-40769b8f97e2",
   "metadata": {},
   "outputs": [],
   "source": [
    "inv19 = pd.read_csv(\"inv2019.csv\", encoding='cp1252')"
   ]
  },
  {
   "cell_type": "code",
   "execution_count": 22,
   "id": "87cecfa7-17be-4937-a33d-9b2c5f33c044",
   "metadata": {},
   "outputs": [
    {
     "data": {
      "text/plain": [
       "Index(['code', 'park', 'inv00'], dtype='object')"
      ]
     },
     "execution_count": 22,
     "metadata": {},
     "output_type": "execute_result"
    }
   ],
   "source": [
    "inv00.columns"
   ]
  },
  {
   "cell_type": "code",
   "execution_count": 23,
   "id": "2892b9ee-d9bc-4b46-82a9-4500e852e716",
   "metadata": {},
   "outputs": [],
   "source": [
    "inv00_19 = pd.merge(inv00, inv01[['code', 'inv01']], on=\"code\", how=\"outer\")"
   ]
  },
  {
   "cell_type": "code",
   "execution_count": 24,
   "id": "2a94b552-c7a0-418e-8e5a-c6f600efcbe4",
   "metadata": {},
   "outputs": [],
   "source": [
    "inv00_19 = pd.merge(inv00_19, inv02[['code', 'inv02']], on=\"code\", how=\"outer\")"
   ]
  },
  {
   "cell_type": "code",
   "execution_count": 25,
   "id": "df064ecf-5188-43e5-a0ae-8f0278c59ebe",
   "metadata": {},
   "outputs": [],
   "source": [
    "inv00_19 = pd.merge(inv00_19, inv03[['code', 'inv03']], on=\"code\", how=\"outer\")"
   ]
  },
  {
   "cell_type": "code",
   "execution_count": 26,
   "id": "7c53f071-32a0-475f-acce-8af80cb00e58",
   "metadata": {},
   "outputs": [],
   "source": [
    "inv00_19 = pd.merge(inv00_19, inv04[['code', 'inv04']], on=\"code\", how=\"outer\")"
   ]
  },
  {
   "cell_type": "code",
   "execution_count": 27,
   "id": "3db7ce02-93b8-4da1-859a-fc230d6eeca2",
   "metadata": {},
   "outputs": [],
   "source": [
    "inv00_19 = pd.merge(inv00_19, inv05[['code', 'inv05']], on=\"code\", how=\"outer\")"
   ]
  },
  {
   "cell_type": "code",
   "execution_count": 28,
   "id": "d699a08c-0dea-4a06-9cd0-f98682503143",
   "metadata": {},
   "outputs": [],
   "source": [
    "inv00_19 = pd.merge(inv00_19, inv06[['code', 'inv06']], on=\"code\", how=\"outer\")"
   ]
  },
  {
   "cell_type": "code",
   "execution_count": 29,
   "id": "8b653504-71c9-4cbe-93d1-5b467bad1423",
   "metadata": {},
   "outputs": [],
   "source": [
    "inv00_19 = pd.merge(inv00_19, inv07[['code', 'inv07']], on=\"code\", how=\"outer\")"
   ]
  },
  {
   "cell_type": "code",
   "execution_count": 31,
   "id": "16cfa32f-c242-494f-bb79-33b19d96b991",
   "metadata": {},
   "outputs": [],
   "source": [
    "inv00_19 = pd.merge(inv00_19, inv08[['code', 'inv08']], on=\"code\", how=\"outer\")"
   ]
  },
  {
   "cell_type": "code",
   "execution_count": 32,
   "id": "2d4ff7af-9b3e-4f5b-9fef-785666901c55",
   "metadata": {},
   "outputs": [],
   "source": [
    "inv00_19 = pd.merge(inv00_19, inv09[['code', 'inv09']], on=\"code\", how=\"outer\")"
   ]
  },
  {
   "cell_type": "code",
   "execution_count": 33,
   "id": "974d438d-cbcd-4ca2-84a2-dd3f3c4430a5",
   "metadata": {},
   "outputs": [],
   "source": [
    "inv00_19 = pd.merge(inv00_19, inv10[['code', 'inv10']], on=\"code\", how=\"outer\")"
   ]
  },
  {
   "cell_type": "code",
   "execution_count": 34,
   "id": "3e7af1b7-50f4-469c-a62f-2756f308771c",
   "metadata": {},
   "outputs": [],
   "source": [
    "inv00_19 = pd.merge(inv00_19, inv11[['code', 'inv11']], on=\"code\", how=\"outer\")"
   ]
  },
  {
   "cell_type": "code",
   "execution_count": 35,
   "id": "5cc8c852-df26-4b04-8656-c8cda37229ef",
   "metadata": {},
   "outputs": [],
   "source": [
    "inv00_19 = pd.merge(inv00_19, inv12[['code', 'inv12']], on=\"code\", how=\"outer\")"
   ]
  },
  {
   "cell_type": "code",
   "execution_count": 36,
   "id": "e03a75d0-c268-4714-b23b-d096655c44c5",
   "metadata": {},
   "outputs": [],
   "source": [
    "inv00_19 = pd.merge(inv00_19, inv13[['code', 'inv13']], on=\"code\", how=\"outer\")"
   ]
  },
  {
   "cell_type": "code",
   "execution_count": 37,
   "id": "b79b367c-1539-4eed-b1a5-2c92f981ed14",
   "metadata": {},
   "outputs": [],
   "source": [
    "inv00_19 = pd.merge(inv00_19, inv14[['code', 'inv14']], on=\"code\", how=\"outer\")"
   ]
  },
  {
   "cell_type": "code",
   "execution_count": 38,
   "id": "e65f6c0e-f7ad-4d20-997b-2f19bf867f3b",
   "metadata": {},
   "outputs": [],
   "source": [
    "inv00_19 = pd.merge(inv00_19, inv15[['code', 'inv15']], on=\"code\", how=\"outer\")"
   ]
  },
  {
   "cell_type": "code",
   "execution_count": 39,
   "id": "0085ffce-baa1-4a15-be27-16074e1ec13b",
   "metadata": {},
   "outputs": [],
   "source": [
    "inv00_19 = pd.merge(inv00_19, inv16[['code', 'inv16']], on=\"code\", how=\"outer\")"
   ]
  },
  {
   "cell_type": "code",
   "execution_count": 41,
   "id": "49281257-e9a9-4481-b589-f9261498ca07",
   "metadata": {},
   "outputs": [],
   "source": [
    "#inv00_19 = pd.merge(inv00_19, inv17[['code', 'inv17']], on=\"code\", how=\"outer\")"
   ]
  },
  {
   "cell_type": "code",
   "execution_count": 42,
   "id": "d930181d-cd92-412c-b9fc-13f7fa6d3d98",
   "metadata": {},
   "outputs": [],
   "source": [
    "#inv00_19 = pd.merge(inv00_19, inv18[['code', 'inv18']], on=\"code\", how=\"outer\")"
   ]
  },
  {
   "cell_type": "code",
   "execution_count": 43,
   "id": "468c45ee-872b-4f8e-8052-e9447cca653e",
   "metadata": {},
   "outputs": [
    {
     "ename": "KeyError",
     "evalue": "\"['inv19'] not in index\"",
     "output_type": "error",
     "traceback": [
      "\u001b[0;31m---------------------------------------------------------------------------\u001b[0m",
      "\u001b[0;31mKeyError\u001b[0m                                  Traceback (most recent call last)",
      "Cell \u001b[0;32mIn[43], line 1\u001b[0m\n\u001b[0;32m----> 1\u001b[0m inv00_19 \u001b[38;5;241m=\u001b[39m pd\u001b[38;5;241m.\u001b[39mmerge(inv00_19, \u001b[43minv19\u001b[49m\u001b[43m[\u001b[49m\u001b[43m[\u001b[49m\u001b[38;5;124;43m'\u001b[39;49m\u001b[38;5;124;43mcode\u001b[39;49m\u001b[38;5;124;43m'\u001b[39;49m\u001b[43m,\u001b[49m\u001b[43m \u001b[49m\u001b[38;5;124;43m'\u001b[39;49m\u001b[38;5;124;43minv19\u001b[39;49m\u001b[38;5;124;43m'\u001b[39;49m\u001b[43m]\u001b[49m\u001b[43m]\u001b[49m, on\u001b[38;5;241m=\u001b[39m\u001b[38;5;124m\"\u001b[39m\u001b[38;5;124mcode\u001b[39m\u001b[38;5;124m\"\u001b[39m, how\u001b[38;5;241m=\u001b[39m\u001b[38;5;124m\"\u001b[39m\u001b[38;5;124mouter\u001b[39m\u001b[38;5;124m\"\u001b[39m)\n",
      "File \u001b[0;32m/Library/Frameworks/Python.framework/Versions/3.12/lib/python3.12/site-packages/pandas/core/frame.py:4108\u001b[0m, in \u001b[0;36mDataFrame.__getitem__\u001b[0;34m(self, key)\u001b[0m\n\u001b[1;32m   4106\u001b[0m     \u001b[38;5;28;01mif\u001b[39;00m is_iterator(key):\n\u001b[1;32m   4107\u001b[0m         key \u001b[38;5;241m=\u001b[39m \u001b[38;5;28mlist\u001b[39m(key)\n\u001b[0;32m-> 4108\u001b[0m     indexer \u001b[38;5;241m=\u001b[39m \u001b[38;5;28;43mself\u001b[39;49m\u001b[38;5;241;43m.\u001b[39;49m\u001b[43mcolumns\u001b[49m\u001b[38;5;241;43m.\u001b[39;49m\u001b[43m_get_indexer_strict\u001b[49m\u001b[43m(\u001b[49m\u001b[43mkey\u001b[49m\u001b[43m,\u001b[49m\u001b[43m \u001b[49m\u001b[38;5;124;43m\"\u001b[39;49m\u001b[38;5;124;43mcolumns\u001b[39;49m\u001b[38;5;124;43m\"\u001b[39;49m\u001b[43m)\u001b[49m[\u001b[38;5;241m1\u001b[39m]\n\u001b[1;32m   4110\u001b[0m \u001b[38;5;66;03m# take() does not accept boolean indexers\u001b[39;00m\n\u001b[1;32m   4111\u001b[0m \u001b[38;5;28;01mif\u001b[39;00m \u001b[38;5;28mgetattr\u001b[39m(indexer, \u001b[38;5;124m\"\u001b[39m\u001b[38;5;124mdtype\u001b[39m\u001b[38;5;124m\"\u001b[39m, \u001b[38;5;28;01mNone\u001b[39;00m) \u001b[38;5;241m==\u001b[39m \u001b[38;5;28mbool\u001b[39m:\n",
      "File \u001b[0;32m/Library/Frameworks/Python.framework/Versions/3.12/lib/python3.12/site-packages/pandas/core/indexes/base.py:6200\u001b[0m, in \u001b[0;36mIndex._get_indexer_strict\u001b[0;34m(self, key, axis_name)\u001b[0m\n\u001b[1;32m   6197\u001b[0m \u001b[38;5;28;01melse\u001b[39;00m:\n\u001b[1;32m   6198\u001b[0m     keyarr, indexer, new_indexer \u001b[38;5;241m=\u001b[39m \u001b[38;5;28mself\u001b[39m\u001b[38;5;241m.\u001b[39m_reindex_non_unique(keyarr)\n\u001b[0;32m-> 6200\u001b[0m \u001b[38;5;28;43mself\u001b[39;49m\u001b[38;5;241;43m.\u001b[39;49m\u001b[43m_raise_if_missing\u001b[49m\u001b[43m(\u001b[49m\u001b[43mkeyarr\u001b[49m\u001b[43m,\u001b[49m\u001b[43m \u001b[49m\u001b[43mindexer\u001b[49m\u001b[43m,\u001b[49m\u001b[43m \u001b[49m\u001b[43maxis_name\u001b[49m\u001b[43m)\u001b[49m\n\u001b[1;32m   6202\u001b[0m keyarr \u001b[38;5;241m=\u001b[39m \u001b[38;5;28mself\u001b[39m\u001b[38;5;241m.\u001b[39mtake(indexer)\n\u001b[1;32m   6203\u001b[0m \u001b[38;5;28;01mif\u001b[39;00m \u001b[38;5;28misinstance\u001b[39m(key, Index):\n\u001b[1;32m   6204\u001b[0m     \u001b[38;5;66;03m# GH 42790 - Preserve name from an Index\u001b[39;00m\n",
      "File \u001b[0;32m/Library/Frameworks/Python.framework/Versions/3.12/lib/python3.12/site-packages/pandas/core/indexes/base.py:6252\u001b[0m, in \u001b[0;36mIndex._raise_if_missing\u001b[0;34m(self, key, indexer, axis_name)\u001b[0m\n\u001b[1;32m   6249\u001b[0m     \u001b[38;5;28;01mraise\u001b[39;00m \u001b[38;5;167;01mKeyError\u001b[39;00m(\u001b[38;5;124mf\u001b[39m\u001b[38;5;124m\"\u001b[39m\u001b[38;5;124mNone of [\u001b[39m\u001b[38;5;132;01m{\u001b[39;00mkey\u001b[38;5;132;01m}\u001b[39;00m\u001b[38;5;124m] are in the [\u001b[39m\u001b[38;5;132;01m{\u001b[39;00maxis_name\u001b[38;5;132;01m}\u001b[39;00m\u001b[38;5;124m]\u001b[39m\u001b[38;5;124m\"\u001b[39m)\n\u001b[1;32m   6251\u001b[0m not_found \u001b[38;5;241m=\u001b[39m \u001b[38;5;28mlist\u001b[39m(ensure_index(key)[missing_mask\u001b[38;5;241m.\u001b[39mnonzero()[\u001b[38;5;241m0\u001b[39m]]\u001b[38;5;241m.\u001b[39munique())\n\u001b[0;32m-> 6252\u001b[0m \u001b[38;5;28;01mraise\u001b[39;00m \u001b[38;5;167;01mKeyError\u001b[39;00m(\u001b[38;5;124mf\u001b[39m\u001b[38;5;124m\"\u001b[39m\u001b[38;5;132;01m{\u001b[39;00mnot_found\u001b[38;5;132;01m}\u001b[39;00m\u001b[38;5;124m not in index\u001b[39m\u001b[38;5;124m\"\u001b[39m)\n",
      "\u001b[0;31mKeyError\u001b[0m: \"['inv19'] not in index\""
     ]
    }
   ],
   "source": [
    "inv00_19 = pd.merge(inv00_19, inv19[['code', 'inv19']], on=\"code\", how=\"outer\")"
   ]
  },
  {
   "cell_type": "code",
   "execution_count": null,
   "id": "356bc08a-2945-49f7-be92-487ed47ed8c9",
   "metadata": {},
   "outputs": [],
   "source": []
  },
  {
   "cell_type": "code",
   "execution_count": null,
   "id": "a797906b-6586-4d35-aca6-86b1057fc042",
   "metadata": {},
   "outputs": [],
   "source": []
  }
 ],
 "metadata": {
  "kernelspec": {
   "display_name": "Python 3 (ipykernel)",
   "language": "python",
   "name": "python3"
  },
  "language_info": {
   "codemirror_mode": {
    "name": "ipython",
    "version": 3
   },
   "file_extension": ".py",
   "mimetype": "text/x-python",
   "name": "python",
   "nbconvert_exporter": "python",
   "pygments_lexer": "ipython3",
   "version": "3.12.0"
  }
 },
 "nbformat": 4,
 "nbformat_minor": 5
}
