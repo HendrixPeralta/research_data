{
 "cells": [
  {
   "cell_type": "code",
   "execution_count": 1,
   "id": "cc3ef3c0-21c4-4d44-b6d8-34743c204675",
   "metadata": {},
   "outputs": [],
   "source": [
    "import pandas as pd"
   ]
  },
  {
   "cell_type": "code",
   "execution_count": 2,
   "id": "645d191f-4138-4fbe-8de8-c6d1c54b010b",
   "metadata": {},
   "outputs": [],
   "source": [
    "inv00 = pd.read_csv(\"inv2000.csv\", encoding='cp1252')"
   ]
  },
  {
   "cell_type": "code",
   "execution_count": 3,
   "id": "a2389de8-b7f0-4586-b718-533a47aa4715",
   "metadata": {},
   "outputs": [],
   "source": [
    "inv01 = pd.read_csv(\"inv2001.csv\", encoding='cp1252')"
   ]
  },
  {
   "cell_type": "code",
   "execution_count": 4,
   "id": "ddde3fc5-82fc-4db4-b344-ec5e618fc34f",
   "metadata": {},
   "outputs": [],
   "source": [
    "inv02 = pd.read_csv(\"inv2002.csv\", encoding='cp1252')"
   ]
  },
  {
   "cell_type": "code",
   "execution_count": 5,
   "id": "efb40d24-af21-4ba9-b8e6-741f163bdb43",
   "metadata": {},
   "outputs": [],
   "source": [
    "inv03 = pd.read_csv(\"inv2003.csv\", encoding='cp1252')"
   ]
  },
  {
   "cell_type": "code",
   "execution_count": 6,
   "id": "c82cb54b-7199-407f-a82a-dd4cb0691a5b",
   "metadata": {},
   "outputs": [],
   "source": [
    "inv04 = pd.read_csv(\"inv2004.csv\", encoding='cp1252')"
   ]
  },
  {
   "cell_type": "code",
   "execution_count": 7,
   "id": "b73cbab0-3164-4302-8804-6c510a76a660",
   "metadata": {},
   "outputs": [],
   "source": [
    "inv05 = pd.read_csv(\"inv2005.csv\", encoding='cp1252')"
   ]
  },
  {
   "cell_type": "code",
   "execution_count": 8,
   "id": "baf82401-acb0-47f6-8ecf-13714769b9e2",
   "metadata": {},
   "outputs": [],
   "source": [
    "inv06 = pd.read_csv(\"inv2006.csv\", encoding='cp1252')"
   ]
  },
  {
   "cell_type": "code",
   "execution_count": 9,
   "id": "0b034f55-064b-4bbc-aad9-2d9bc63a3f7c",
   "metadata": {},
   "outputs": [],
   "source": [
    "inv07 = pd.read_csv(\"inv2007.csv\", encoding='cp1252')"
   ]
  },
  {
   "cell_type": "code",
   "execution_count": 10,
   "id": "84110f87-5b99-4060-a3b4-535feeefd255",
   "metadata": {},
   "outputs": [],
   "source": [
    "inv08 = pd.read_csv(\"inv2008.csv\", encoding='cp1252')"
   ]
  },
  {
   "cell_type": "code",
   "execution_count": 11,
   "id": "62ab0b13-9899-486c-8957-3b0b9c0afc55",
   "metadata": {},
   "outputs": [],
   "source": [
    "inv09 = pd.read_csv(\"inv2009.csv\", encoding='cp1252')"
   ]
  },
  {
   "cell_type": "code",
   "execution_count": 12,
   "id": "1ed014d5-9154-4121-af27-3ecd84d98a45",
   "metadata": {},
   "outputs": [],
   "source": [
    "inv10 = pd.read_csv(\"inv2010.csv\", encoding='cp1252')"
   ]
  },
  {
   "cell_type": "code",
   "execution_count": 13,
   "id": "f4b71ceb-ee90-4090-8b2a-0d8a390519bb",
   "metadata": {},
   "outputs": [],
   "source": [
    "inv11 = pd.read_csv(\"inv2011.csv\", encoding='cp1252')"
   ]
  },
  {
   "cell_type": "code",
   "execution_count": 14,
   "id": "54fa8b95-7709-4a32-a9a1-77d0fac8a994",
   "metadata": {},
   "outputs": [],
   "source": [
    "inv12 = pd.read_csv(\"inv2012.csv\", encoding='cp1252')"
   ]
  },
  {
   "cell_type": "code",
   "execution_count": 15,
   "id": "f1f2892a-a6b2-4dd0-b766-b0449d5c0ab1",
   "metadata": {},
   "outputs": [],
   "source": [
    "inv13 = pd.read_csv(\"inv2013.csv\", encoding='cp1252')"
   ]
  },
  {
   "cell_type": "code",
   "execution_count": 16,
   "id": "bdef19f0-c032-4bc4-a71c-24e48b608b5d",
   "metadata": {},
   "outputs": [],
   "source": [
    "inv14 = pd.read_csv(\"inv2014.csv\", encoding='cp1252')"
   ]
  },
  {
   "cell_type": "code",
   "execution_count": 17,
   "id": "da9af4a9-e834-4403-b4ca-6402ab9a804b",
   "metadata": {},
   "outputs": [],
   "source": [
    "inv15 = pd.read_csv(\"inv2015.csv\", encoding='cp1252')"
   ]
  },
  {
   "cell_type": "code",
   "execution_count": 18,
   "id": "a18703f9-4626-46a9-a612-b7bdc8d531f5",
   "metadata": {},
   "outputs": [],
   "source": [
    "inv16 = pd.read_csv(\"inv2016.csv\", encoding='cp1252')"
   ]
  },
  {
   "cell_type": "code",
   "execution_count": 19,
   "id": "a3662e11-9139-4efc-a70c-fbd986a1adab",
   "metadata": {},
   "outputs": [],
   "source": [
    "#inv17 = pd.read_csv(\"inv2017.csv\", encoding='cp1252')"
   ]
  },
  {
   "cell_type": "code",
   "execution_count": 20,
   "id": "2ab79f9b-aadd-4772-963b-59102c63f7f0",
   "metadata": {},
   "outputs": [],
   "source": [
    "#inv18 = pd.read_csv(\"inv2018.csv\", encoding='cp1252')"
   ]
  },
  {
   "cell_type": "code",
   "execution_count": 21,
   "id": "b69129f2-ecaa-4312-b106-40769b8f97e2",
   "metadata": {},
   "outputs": [],
   "source": [
    "inv19 = pd.read_csv(\"inv2019.csv\", encoding='cp1252')"
   ]
  },
  {
   "cell_type": "code",
   "execution_count": 22,
   "id": "87cecfa7-17be-4937-a33d-9b2c5f33c044",
   "metadata": {},
   "outputs": [
    {
     "data": {
      "text/plain": [
       "Index(['code', 'park', 'inv00'], dtype='object')"
      ]
     },
     "execution_count": 22,
     "metadata": {},
     "output_type": "execute_result"
    }
   ],
   "source": [
    "inv00.columns"
   ]
  },
  {
   "cell_type": "code",
   "execution_count": 23,
   "id": "2892b9ee-d9bc-4b46-82a9-4500e852e716",
   "metadata": {},
   "outputs": [],
   "source": [
    "inv00_19 = pd.merge(inv00, inv01[['code', 'inv01']], on=\"code\", how=\"outer\")"
   ]
  },
  {
   "cell_type": "code",
   "execution_count": 24,
   "id": "2a94b552-c7a0-418e-8e5a-c6f600efcbe4",
   "metadata": {},
   "outputs": [],
   "source": [
    "inv00_19 = pd.merge(inv00_19, inv02[['code', 'inv02']], on=\"code\", how=\"outer\")"
   ]
  },
  {
   "cell_type": "code",
   "execution_count": 25,
   "id": "df064ecf-5188-43e5-a0ae-8f0278c59ebe",
   "metadata": {},
   "outputs": [],
   "source": [
    "inv00_19 = pd.merge(inv00_19, inv03[['code', 'inv03']], on=\"code\", how=\"outer\")"
   ]
  },
  {
   "cell_type": "code",
   "execution_count": 26,
   "id": "7c53f071-32a0-475f-acce-8af80cb00e58",
   "metadata": {},
   "outputs": [],
   "source": [
    "inv00_19 = pd.merge(inv00_19, inv04[['code', 'inv04']], on=\"code\", how=\"outer\")"
   ]
  },
  {
   "cell_type": "code",
   "execution_count": 27,
   "id": "3db7ce02-93b8-4da1-859a-fc230d6eeca2",
   "metadata": {},
   "outputs": [],
   "source": [
    "inv00_19 = pd.merge(inv00_19, inv05[['code', 'inv05']], on=\"code\", how=\"outer\")"
   ]
  },
  {
   "cell_type": "code",
   "execution_count": 28,
   "id": "d699a08c-0dea-4a06-9cd0-f98682503143",
   "metadata": {},
   "outputs": [],
   "source": [
    "inv00_19 = pd.merge(inv00_19, inv06[['code', 'inv06']], on=\"code\", how=\"outer\")"
   ]
  },
  {
   "cell_type": "code",
   "execution_count": 29,
   "id": "8b653504-71c9-4cbe-93d1-5b467bad1423",
   "metadata": {},
   "outputs": [],
   "source": [
    "inv00_19 = pd.merge(inv00_19, inv07[['code', 'inv07']], on=\"code\", how=\"outer\")"
   ]
  },
  {
   "cell_type": "code",
   "execution_count": 30,
   "id": "16cfa32f-c242-494f-bb79-33b19d96b991",
   "metadata": {},
   "outputs": [],
   "source": [
    "inv00_19 = pd.merge(inv00_19, inv08[['code', 'inv08']], on=\"code\", how=\"outer\")"
   ]
  },
  {
   "cell_type": "code",
   "execution_count": 31,
   "id": "2d4ff7af-9b3e-4f5b-9fef-785666901c55",
   "metadata": {},
   "outputs": [],
   "source": [
    "inv00_19 = pd.merge(inv00_19, inv09[['code', 'inv09']], on=\"code\", how=\"outer\")"
   ]
  },
  {
   "cell_type": "code",
   "execution_count": 32,
   "id": "974d438d-cbcd-4ca2-84a2-dd3f3c4430a5",
   "metadata": {},
   "outputs": [],
   "source": [
    "inv00_19 = pd.merge(inv00_19, inv10[['code', 'inv10']], on=\"code\", how=\"outer\")"
   ]
  },
  {
   "cell_type": "code",
   "execution_count": 33,
   "id": "3e7af1b7-50f4-469c-a62f-2756f308771c",
   "metadata": {},
   "outputs": [],
   "source": [
    "inv00_19 = pd.merge(inv00_19, inv11[['code', 'inv11']], on=\"code\", how=\"outer\")"
   ]
  },
  {
   "cell_type": "code",
   "execution_count": 34,
   "id": "5cc8c852-df26-4b04-8656-c8cda37229ef",
   "metadata": {},
   "outputs": [],
   "source": [
    "inv00_19 = pd.merge(inv00_19, inv12[['code', 'inv12']], on=\"code\", how=\"outer\")"
   ]
  },
  {
   "cell_type": "code",
   "execution_count": 35,
   "id": "e03a75d0-c268-4714-b23b-d096655c44c5",
   "metadata": {},
   "outputs": [],
   "source": [
    "inv00_19 = pd.merge(inv00_19, inv13[['code', 'inv13']], on=\"code\", how=\"outer\")"
   ]
  },
  {
   "cell_type": "code",
   "execution_count": 36,
   "id": "b79b367c-1539-4eed-b1a5-2c92f981ed14",
   "metadata": {},
   "outputs": [],
   "source": [
    "inv00_19 = pd.merge(inv00_19, inv14[['code', 'inv14']], on=\"code\", how=\"outer\")"
   ]
  },
  {
   "cell_type": "code",
   "execution_count": 37,
   "id": "e65f6c0e-f7ad-4d20-997b-2f19bf867f3b",
   "metadata": {},
   "outputs": [],
   "source": [
    "inv00_19 = pd.merge(inv00_19, inv15[['code', 'inv15']], on=\"code\", how=\"outer\")"
   ]
  },
  {
   "cell_type": "code",
   "execution_count": 38,
   "id": "0085ffce-baa1-4a15-be27-16074e1ec13b",
   "metadata": {},
   "outputs": [],
   "source": [
    "inv00_19 = pd.merge(inv00_19, inv16[['code', 'inv16']], on=\"code\", how=\"outer\")"
   ]
  },
  {
   "cell_type": "code",
   "execution_count": 39,
   "id": "49281257-e9a9-4481-b589-f9261498ca07",
   "metadata": {},
   "outputs": [],
   "source": [
    "#inv00_19 = pd.merge(inv00_19, inv17[['code', 'inv17']], on=\"code\", how=\"outer\")"
   ]
  },
  {
   "cell_type": "code",
   "execution_count": 40,
   "id": "d930181d-cd92-412c-b9fc-13f7fa6d3d98",
   "metadata": {},
   "outputs": [],
   "source": [
    "#inv00_19 = pd.merge(inv00_19, inv18[['code', 'inv18']], on=\"code\", how=\"outer\")"
   ]
  },
  {
   "cell_type": "code",
   "execution_count": 41,
   "id": "468c45ee-872b-4f8e-8052-e9447cca653e",
   "metadata": {},
   "outputs": [],
   "source": [
    "inv00_19 = pd.merge(inv00_19, inv19[['code', 'inv19']], on=\"code\", how=\"outer\")"
   ]
  },
  {
   "cell_type": "code",
   "execution_count": 42,
   "id": "356bc08a-2945-49f7-be92-487ed47ed8c9",
   "metadata": {},
   "outputs": [
    {
     "data": {
      "text/html": [
       "<div>\n",
       "<style scoped>\n",
       "    .dataframe tbody tr th:only-of-type {\n",
       "        vertical-align: middle;\n",
       "    }\n",
       "\n",
       "    .dataframe tbody tr th {\n",
       "        vertical-align: top;\n",
       "    }\n",
       "\n",
       "    .dataframe thead th {\n",
       "        text-align: right;\n",
       "    }\n",
       "</style>\n",
       "<table border=\"1\" class=\"dataframe\">\n",
       "  <thead>\n",
       "    <tr style=\"text-align: right;\">\n",
       "      <th></th>\n",
       "      <th>code</th>\n",
       "      <th>park</th>\n",
       "      <th>inv00</th>\n",
       "      <th>inv01</th>\n",
       "      <th>inv02</th>\n",
       "      <th>inv03</th>\n",
       "      <th>inv04</th>\n",
       "      <th>inv05</th>\n",
       "      <th>inv06</th>\n",
       "      <th>inv07</th>\n",
       "      <th>inv08</th>\n",
       "      <th>inv09</th>\n",
       "      <th>inv10</th>\n",
       "      <th>inv11</th>\n",
       "      <th>inv12</th>\n",
       "      <th>inv13</th>\n",
       "      <th>inv14</th>\n",
       "      <th>inv15</th>\n",
       "      <th>inv16</th>\n",
       "      <th>inv19</th>\n",
       "    </tr>\n",
       "  </thead>\n",
       "  <tbody>\n",
       "    <tr>\n",
       "      <th>0</th>\n",
       "      <td>DOM-6NO</td>\n",
       "      <td>NaN</td>\n",
       "      <td>NaN</td>\n",
       "      <td>NaN</td>\n",
       "      <td>NaN</td>\n",
       "      <td>NaN</td>\n",
       "      <td>NaN</td>\n",
       "      <td>NaN</td>\n",
       "      <td>NaN</td>\n",
       "      <td>NaN</td>\n",
       "      <td>NaN</td>\n",
       "      <td>NaN</td>\n",
       "      <td>NaN</td>\n",
       "      <td>NaN</td>\n",
       "      <td>NaN</td>\n",
       "      <td>NaN</td>\n",
       "      <td>NaN</td>\n",
       "      <td>NaN</td>\n",
       "      <td>1.890354e+06</td>\n",
       "      <td>1.250000e+06</td>\n",
       "    </tr>\n",
       "    <tr>\n",
       "      <th>1</th>\n",
       "      <td>DOM-ALC</td>\n",
       "      <td>Los Alcarrizos</td>\n",
       "      <td>19853638.95</td>\n",
       "      <td>1.952190e+07</td>\n",
       "      <td>14683246.0</td>\n",
       "      <td>1.611072e+07</td>\n",
       "      <td>23755065.7</td>\n",
       "      <td>2.041970e+07</td>\n",
       "      <td>2.270508e+07</td>\n",
       "      <td>4.019210e+07</td>\n",
       "      <td>3.772322e+07</td>\n",
       "      <td>28511505.5</td>\n",
       "      <td>2.177617e+07</td>\n",
       "      <td>22307044.2</td>\n",
       "      <td>2.314226e+07</td>\n",
       "      <td>2.901761e+07</td>\n",
       "      <td>28846815.7</td>\n",
       "      <td>27461136.4</td>\n",
       "      <td>2.551860e+07</td>\n",
       "      <td>8.580213e+06</td>\n",
       "    </tr>\n",
       "    <tr>\n",
       "      <th>2</th>\n",
       "      <td>DOM-ALT</td>\n",
       "      <td>Villa Artagracia</td>\n",
       "      <td>33900000.00</td>\n",
       "      <td>3.300000e+06</td>\n",
       "      <td>4400000.0</td>\n",
       "      <td>2.300000e+07</td>\n",
       "      <td>23100000.0</td>\n",
       "      <td>1.805463e+07</td>\n",
       "      <td>6.644269e+06</td>\n",
       "      <td>1.147340e+07</td>\n",
       "      <td>1.328887e+07</td>\n",
       "      <td>10076670.56</td>\n",
       "      <td>7.527225e+06</td>\n",
       "      <td>5827436</td>\n",
       "      <td>5.826800e+06</td>\n",
       "      <td>3.726034e+06</td>\n",
       "      <td>5407289.4</td>\n",
       "      <td>5949306.9</td>\n",
       "      <td>1.143553e+07</td>\n",
       "      <td>4.846067e+07</td>\n",
       "    </tr>\n",
       "    <tr>\n",
       "      <th>3</th>\n",
       "      <td>DOM-AND</td>\n",
       "      <td>NaN</td>\n",
       "      <td>NaN</td>\n",
       "      <td>NaN</td>\n",
       "      <td>NaN</td>\n",
       "      <td>NaN</td>\n",
       "      <td>NaN</td>\n",
       "      <td>NaN</td>\n",
       "      <td>NaN</td>\n",
       "      <td>NaN</td>\n",
       "      <td>NaN</td>\n",
       "      <td>148803</td>\n",
       "      <td>1.508030e+05</td>\n",
       "      <td>884314</td>\n",
       "      <td>7.466670e+05</td>\n",
       "      <td>7.333910e+05</td>\n",
       "      <td>789922</td>\n",
       "      <td>803290</td>\n",
       "      <td>9.356500e+05</td>\n",
       "      <td>2.450800e+06</td>\n",
       "    </tr>\n",
       "    <tr>\n",
       "      <th>4</th>\n",
       "      <td>DOM-ARM</td>\n",
       "      <td>La Armer’a</td>\n",
       "      <td>8620740.19</td>\n",
       "      <td>5.016030e+06</td>\n",
       "      <td>10355021.0</td>\n",
       "      <td>7.131271e+06</td>\n",
       "      <td>8576310.0</td>\n",
       "      <td>9.207504e+06</td>\n",
       "      <td>1.192135e+07</td>\n",
       "      <td>1.665848e+07</td>\n",
       "      <td>1.609760e+07</td>\n",
       "      <td>7922821.33</td>\n",
       "      <td>8.538776e+06</td>\n",
       "      <td>7005128.7</td>\n",
       "      <td>7.648325e+06</td>\n",
       "      <td>2.234207e+06</td>\n",
       "      <td>2728910.8</td>\n",
       "      <td>5452953.6</td>\n",
       "      <td>7.167910e+06</td>\n",
       "      <td>2.416092e+06</td>\n",
       "    </tr>\n",
       "    <tr>\n",
       "      <th>...</th>\n",
       "      <td>...</td>\n",
       "      <td>...</td>\n",
       "      <td>...</td>\n",
       "      <td>...</td>\n",
       "      <td>...</td>\n",
       "      <td>...</td>\n",
       "      <td>...</td>\n",
       "      <td>...</td>\n",
       "      <td>...</td>\n",
       "      <td>...</td>\n",
       "      <td>...</td>\n",
       "      <td>...</td>\n",
       "      <td>...</td>\n",
       "      <td>...</td>\n",
       "      <td>...</td>\n",
       "      <td>...</td>\n",
       "      <td>...</td>\n",
       "      <td>...</td>\n",
       "      <td>...</td>\n",
       "      <td>...</td>\n",
       "    </tr>\n",
       "    <tr>\n",
       "      <th>92</th>\n",
       "      <td>DOM-VER</td>\n",
       "      <td>NaN</td>\n",
       "      <td>NaN</td>\n",
       "      <td>NaN</td>\n",
       "      <td>NaN</td>\n",
       "      <td>NaN</td>\n",
       "      <td>NaN</td>\n",
       "      <td>NaN</td>\n",
       "      <td>NaN</td>\n",
       "      <td>NaN</td>\n",
       "      <td>NaN</td>\n",
       "      <td>NaN</td>\n",
       "      <td>NaN</td>\n",
       "      <td>NaN</td>\n",
       "      <td>NaN</td>\n",
       "      <td>NaN</td>\n",
       "      <td>NaN</td>\n",
       "      <td>NaN</td>\n",
       "      <td>NaN</td>\n",
       "      <td>1.085427e+06</td>\n",
       "    </tr>\n",
       "    <tr>\n",
       "      <th>93</th>\n",
       "      <td>DOM-VIS</td>\n",
       "      <td>NaN</td>\n",
       "      <td>NaN</td>\n",
       "      <td>NaN</td>\n",
       "      <td>NaN</td>\n",
       "      <td>NaN</td>\n",
       "      <td>268000.0</td>\n",
       "      <td>6.165900e+07</td>\n",
       "      <td>5.800000e+07</td>\n",
       "      <td>1.134817e+08</td>\n",
       "      <td>1.316028e+08</td>\n",
       "      <td>131602799.7</td>\n",
       "      <td>1.400000e+08</td>\n",
       "      <td>151000000</td>\n",
       "      <td>1.526926e+08</td>\n",
       "      <td>1.519000e+08</td>\n",
       "      <td>283200500</td>\n",
       "      <td>283200500</td>\n",
       "      <td>2.832005e+08</td>\n",
       "      <td>1.597795e+08</td>\n",
       "    </tr>\n",
       "    <tr>\n",
       "      <th>94</th>\n",
       "      <td>DOM-YAQ</td>\n",
       "      <td>NaN</td>\n",
       "      <td>NaN</td>\n",
       "      <td>NaN</td>\n",
       "      <td>NaN</td>\n",
       "      <td>NaN</td>\n",
       "      <td>NaN</td>\n",
       "      <td>NaN</td>\n",
       "      <td>NaN</td>\n",
       "      <td>NaN</td>\n",
       "      <td>NaN</td>\n",
       "      <td>NaN</td>\n",
       "      <td>7.861426e+06</td>\n",
       "      <td>7876503.3</td>\n",
       "      <td>7.478342e+06</td>\n",
       "      <td>1.087746e+07</td>\n",
       "      <td>14000000</td>\n",
       "      <td>14800000</td>\n",
       "      <td>1.505341e+07</td>\n",
       "      <td>1.378520e+07</td>\n",
       "    </tr>\n",
       "    <tr>\n",
       "      <th>95</th>\n",
       "      <td>DOM-ZFE</td>\n",
       "      <td>Zonas Francas Especiales</td>\n",
       "      <td>89407341.28</td>\n",
       "      <td>1.155552e+08</td>\n",
       "      <td>103819228.7</td>\n",
       "      <td>1.221293e+08</td>\n",
       "      <td>153468289.0</td>\n",
       "      <td>2.466484e+08</td>\n",
       "      <td>3.386339e+08</td>\n",
       "      <td>3.568387e+08</td>\n",
       "      <td>4.768329e+08</td>\n",
       "      <td>614755059.9</td>\n",
       "      <td>6.126652e+08</td>\n",
       "      <td>645592057</td>\n",
       "      <td>7.346650e+08</td>\n",
       "      <td>NaN</td>\n",
       "      <td>706226438.4</td>\n",
       "      <td>796046472.8</td>\n",
       "      <td>8.159126e+08</td>\n",
       "      <td>8.879129e+08</td>\n",
       "    </tr>\n",
       "    <tr>\n",
       "      <th>96</th>\n",
       "      <td>DOM-ZOF</td>\n",
       "      <td>Zofinma (Mao)</td>\n",
       "      <td>413004.00</td>\n",
       "      <td>5.933640e+05</td>\n",
       "      <td>593364.0</td>\n",
       "      <td>5.933640e+05</td>\n",
       "      <td>610000.0</td>\n",
       "      <td>6.100000e+05</td>\n",
       "      <td>5.490000e+05</td>\n",
       "      <td>NaN</td>\n",
       "      <td>NaN</td>\n",
       "      <td>NaN</td>\n",
       "      <td>NaN</td>\n",
       "      <td>NaN</td>\n",
       "      <td>NaN</td>\n",
       "      <td>NaN</td>\n",
       "      <td>NaN</td>\n",
       "      <td>NaN</td>\n",
       "      <td>NaN</td>\n",
       "      <td>NaN</td>\n",
       "    </tr>\n",
       "  </tbody>\n",
       "</table>\n",
       "<p>97 rows × 20 columns</p>\n",
       "</div>"
      ],
      "text/plain": [
       "       code                      park        inv00         inv01        inv02  \\\n",
       "0   DOM-6NO                       NaN          NaN           NaN          NaN   \n",
       "1   DOM-ALC            Los Alcarrizos  19853638.95  1.952190e+07   14683246.0   \n",
       "2   DOM-ALT          Villa Artagracia  33900000.00  3.300000e+06    4400000.0   \n",
       "3   DOM-AND                       NaN          NaN           NaN          NaN   \n",
       "4   DOM-ARM                La Armer’a   8620740.19  5.016030e+06   10355021.0   \n",
       "..      ...                       ...          ...           ...          ...   \n",
       "92  DOM-VER                       NaN          NaN           NaN          NaN   \n",
       "93  DOM-VIS                       NaN          NaN           NaN          NaN   \n",
       "94  DOM-YAQ                       NaN          NaN           NaN          NaN   \n",
       "95  DOM-ZFE  Zonas Francas Especiales  89407341.28  1.155552e+08  103819228.7   \n",
       "96  DOM-ZOF             Zofinma (Mao)    413004.00  5.933640e+05     593364.0   \n",
       "\n",
       "           inv03        inv04         inv05         inv06         inv07  \\\n",
       "0            NaN          NaN           NaN           NaN           NaN   \n",
       "1   1.611072e+07   23755065.7  2.041970e+07  2.270508e+07  4.019210e+07   \n",
       "2   2.300000e+07   23100000.0  1.805463e+07  6.644269e+06  1.147340e+07   \n",
       "3            NaN          NaN           NaN           NaN           NaN   \n",
       "4   7.131271e+06    8576310.0  9.207504e+06  1.192135e+07  1.665848e+07   \n",
       "..           ...          ...           ...           ...           ...   \n",
       "92           NaN          NaN           NaN           NaN           NaN   \n",
       "93           NaN     268000.0  6.165900e+07  5.800000e+07  1.134817e+08   \n",
       "94           NaN          NaN           NaN           NaN           NaN   \n",
       "95  1.221293e+08  153468289.0  2.466484e+08  3.386339e+08  3.568387e+08   \n",
       "96  5.933640e+05     610000.0  6.100000e+05  5.490000e+05           NaN   \n",
       "\n",
       "           inv08        inv09         inv10       inv11         inv12  \\\n",
       "0            NaN          NaN           NaN         NaN           NaN   \n",
       "1   3.772322e+07   28511505.5  2.177617e+07  22307044.2  2.314226e+07   \n",
       "2   1.328887e+07  10076670.56  7.527225e+06     5827436  5.826800e+06   \n",
       "3            NaN       148803  1.508030e+05      884314  7.466670e+05   \n",
       "4   1.609760e+07   7922821.33  8.538776e+06   7005128.7  7.648325e+06   \n",
       "..           ...          ...           ...         ...           ...   \n",
       "92           NaN          NaN           NaN         NaN           NaN   \n",
       "93  1.316028e+08  131602799.7  1.400000e+08   151000000  1.526926e+08   \n",
       "94           NaN          NaN  7.861426e+06   7876503.3  7.478342e+06   \n",
       "95  4.768329e+08  614755059.9  6.126652e+08   645592057  7.346650e+08   \n",
       "96           NaN          NaN           NaN         NaN           NaN   \n",
       "\n",
       "           inv13        inv14        inv15         inv16         inv19  \n",
       "0            NaN          NaN          NaN  1.890354e+06  1.250000e+06  \n",
       "1   2.901761e+07   28846815.7   27461136.4  2.551860e+07  8.580213e+06  \n",
       "2   3.726034e+06    5407289.4    5949306.9  1.143553e+07  4.846067e+07  \n",
       "3   7.333910e+05       789922       803290  9.356500e+05  2.450800e+06  \n",
       "4   2.234207e+06    2728910.8    5452953.6  7.167910e+06  2.416092e+06  \n",
       "..           ...          ...          ...           ...           ...  \n",
       "92           NaN          NaN          NaN           NaN  1.085427e+06  \n",
       "93  1.519000e+08    283200500    283200500  2.832005e+08  1.597795e+08  \n",
       "94  1.087746e+07     14000000     14800000  1.505341e+07  1.378520e+07  \n",
       "95           NaN  706226438.4  796046472.8  8.159126e+08  8.879129e+08  \n",
       "96           NaN          NaN          NaN           NaN           NaN  \n",
       "\n",
       "[97 rows x 20 columns]"
      ]
     },
     "execution_count": 42,
     "metadata": {},
     "output_type": "execute_result"
    }
   ],
   "source": [
    "inv00_19"
   ]
  },
  {
   "cell_type": "code",
   "execution_count": null,
   "id": "a797906b-6586-4d35-aca6-86b1057fc042",
   "metadata": {},
   "outputs": [],
   "source": []
  }
 ],
 "metadata": {
  "kernelspec": {
   "display_name": "Python 3 (ipykernel)",
   "language": "python",
   "name": "python3"
  },
  "language_info": {
   "codemirror_mode": {
    "name": "ipython",
    "version": 3
   },
   "file_extension": ".py",
   "mimetype": "text/x-python",
   "name": "python",
   "nbconvert_exporter": "python",
   "pygments_lexer": "ipython3",
   "version": "3.12.0"
  }
 },
 "nbformat": 4,
 "nbformat_minor": 5
}
