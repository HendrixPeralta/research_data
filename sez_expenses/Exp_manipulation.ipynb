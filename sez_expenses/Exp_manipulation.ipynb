{
 "cells": [
  {
   "cell_type": "code",
   "execution_count": 1,
   "id": "b12678ce-ff89-4aca-a404-40d566a4c11e",
   "metadata": {},
   "outputs": [],
   "source": [
    "import pandas as pd"
   ]
  },
  {
   "cell_type": "code",
   "execution_count": 2,
   "id": "3b5de5d2-1399-41e2-bfcd-525e5af3d13b",
   "metadata": {},
   "outputs": [],
   "source": [
    "exp00 = pd.read_csv(\"exp2000.csv\", encoding='cp1252')"
   ]
  },
  {
   "cell_type": "code",
   "execution_count": 3,
   "id": "68863579-b07e-47b6-98c0-7f60a309f461",
   "metadata": {},
   "outputs": [],
   "source": [
    "exp01 = pd.read_csv(\"exp2001.csv\", encoding = \"cp1252\")"
   ]
  },
  {
   "cell_type": "code",
   "execution_count": 4,
   "id": "09b1d9f7-8926-4f3b-9682-c7f4cb880764",
   "metadata": {},
   "outputs": [],
   "source": [
    "exp02 = pd.read_csv(\"exp2002.csv\", encoding = \"cp1252\")"
   ]
  },
  {
   "cell_type": "code",
   "execution_count": 5,
   "id": "2a630e29-9a5a-4136-aeff-e704cb9ec33a",
   "metadata": {},
   "outputs": [],
   "source": [
    "exp03 = pd.read_csv(\"exp2003.csv\", encoding = \"cp1252\")"
   ]
  },
  {
   "cell_type": "code",
   "execution_count": 6,
   "id": "f1b2fc5f-c68b-488c-8692-d94181e78507",
   "metadata": {},
   "outputs": [],
   "source": [
    "exp04 = pd.read_csv(\"exp2004.csv\", encoding = \"cp1252\")"
   ]
  },
  {
   "cell_type": "code",
   "execution_count": 7,
   "id": "239308f0-7f67-4f13-9664-fc5e41cce328",
   "metadata": {},
   "outputs": [],
   "source": [
    "exp05 = pd.read_csv(\"exp2005.csv\", encoding = \"cp1252\")"
   ]
  },
  {
   "cell_type": "code",
   "execution_count": 8,
   "id": "8478ff67-1392-435b-ab7f-f9c9f292bfc9",
   "metadata": {},
   "outputs": [],
   "source": [
    "exp06 = pd.read_csv(\"exp2006.csv\", encoding = \"cp1252\")"
   ]
  },
  {
   "cell_type": "code",
   "execution_count": 9,
   "id": "5ba1871c-b679-451e-98f9-6ba6ea6ff141",
   "metadata": {},
   "outputs": [],
   "source": [
    "exp07 = pd.read_csv(\"exp2007.csv\", encoding = \"cp1252\")"
   ]
  },
  {
   "cell_type": "code",
   "execution_count": 10,
   "id": "9442803f-2781-49d3-a113-c4c357252ade",
   "metadata": {},
   "outputs": [],
   "source": [
    "exp08 = pd.read_csv(\"exp2008.csv\", encoding = \"cp1252\")"
   ]
  },
  {
   "cell_type": "code",
   "execution_count": 11,
   "id": "528a8910-c3ad-445a-900b-3175e61af682",
   "metadata": {},
   "outputs": [],
   "source": [
    "exp09 = pd.read_csv(\"exp2009.csv\", encoding = \"cp1252\")"
   ]
  },
  {
   "cell_type": "code",
   "execution_count": 12,
   "id": "1bb0c221-8aac-4e26-bf08-8447ffa9802f",
   "metadata": {},
   "outputs": [],
   "source": [
    "exp10 = pd.read_csv(\"exp2010.csv\", encoding = \"cp1252\")"
   ]
  },
  {
   "cell_type": "code",
   "execution_count": 13,
   "id": "2ad3aa6c-eef0-4ac4-9540-c4e1f7f0141b",
   "metadata": {},
   "outputs": [],
   "source": [
    "exp11 = pd.read_csv(\"exp2011.csv\", encoding = \"cp1252\")"
   ]
  },
  {
   "cell_type": "code",
   "execution_count": 14,
   "id": "adbd1fc5-3c06-4d4a-8585-237c4de5f6db",
   "metadata": {},
   "outputs": [],
   "source": [
    "exp12 = pd.read_csv(\"exp2012.csv\", encoding = \"cp1252\")"
   ]
  },
  {
   "cell_type": "code",
   "execution_count": 15,
   "id": "00fe739e-e1b4-401f-8ac3-c98d846f48c3",
   "metadata": {},
   "outputs": [],
   "source": [
    "exp13 = pd.read_csv(\"exp2013.csv\", encoding = \"cp1252\")"
   ]
  },
  {
   "cell_type": "code",
   "execution_count": 16,
   "id": "8334c3d6-7d4c-4231-9db3-9e91d129b798",
   "metadata": {},
   "outputs": [],
   "source": [
    "exp14 = pd.read_csv(\"exp2014.csv\", encoding = \"cp1252\")"
   ]
  },
  {
   "cell_type": "code",
   "execution_count": 17,
   "id": "b60c8857-8c5e-41a4-9a07-750793d87105",
   "metadata": {},
   "outputs": [],
   "source": [
    "exp15 = pd.read_csv(\"exp2015.csv\", encoding = \"cp1252\")"
   ]
  },
  {
   "cell_type": "code",
   "execution_count": 18,
   "id": "94311a44-2035-46fa-9561-85522cb6f942",
   "metadata": {},
   "outputs": [],
   "source": [
    "exp16 = pd.read_csv(\"exp2016.csv\", encoding = \"cp1252\")"
   ]
  },
  {
   "cell_type": "code",
   "execution_count": 19,
   "id": "fa179ab2-4f79-4e3d-9507-5b32990a133c",
   "metadata": {},
   "outputs": [],
   "source": [
    "exp17 = pd.read_csv(\"exp2017.csv\", encoding = \"cp1252\")"
   ]
  },
  {
   "cell_type": "code",
   "execution_count": 20,
   "id": "70c3bdd1-89da-4fee-b496-ea053beac238",
   "metadata": {},
   "outputs": [],
   "source": [
    "exp18 = pd.read_csv(\"exp2018.csv\", encoding = \"cp1252\")"
   ]
  },
  {
   "cell_type": "code",
   "execution_count": 21,
   "id": "664ec2e4-e8f0-4677-9a5e-17594dc87c9a",
   "metadata": {},
   "outputs": [],
   "source": [
    "exp19 = pd.read_csv(\"exp2019.csv\", encoding = \"cp1252\")"
   ]
  },
  {
   "cell_type": "code",
   "execution_count": 22,
   "id": "cbe57262-3d02-4ca0-911d-f44aa2b59575",
   "metadata": {},
   "outputs": [
    {
     "data": {
      "text/plain": [
       "Index(['code', 'park19', 'tss19', 'ele19', 'inf19', 'wat19', 'com19'], dtype='object')"
      ]
     },
     "execution_count": 22,
     "metadata": {},
     "output_type": "execute_result"
    }
   ],
   "source": [
    "exp19.columns "
   ]
  },
  {
   "cell_type": "code",
   "execution_count": 23,
   "id": "be521f33-5a29-49be-8d61-20f4f23293f5",
   "metadata": {},
   "outputs": [],
   "source": [
    "exp00_19 = pd.merge(exp00, exp01[[\"code\",'ele01', 'tss01', 'inf01', 'wat01', 'com1']], on = \"code\", how=\"outer\")"
   ]
  },
  {
   "cell_type": "code",
   "execution_count": 24,
   "id": "fd56bb0b-e8ce-430d-bd1f-739b1444ecfd",
   "metadata": {},
   "outputs": [],
   "source": [
    "exp00_19 = pd.merge(exp00_19, exp02[[\"code\",'ele02', 'tss02', 'inf02', 'wat02', 'com2']], on = \"code\", how=\"outer\")"
   ]
  },
  {
   "cell_type": "code",
   "execution_count": 25,
   "id": "89392516-c43b-43b0-ae31-61d18ffa1413",
   "metadata": {},
   "outputs": [],
   "source": [
    "exp00_19 = pd.merge(exp00_19, exp03[[\"code\",'ele03', 'tss03', 'inf03', 'wat03', 'com03']], on = \"code\", how=\"outer\")"
   ]
  },
  {
   "cell_type": "code",
   "execution_count": 26,
   "id": "ece20fdc-915e-4447-bbf2-36577f077ccc",
   "metadata": {},
   "outputs": [],
   "source": [
    "exp00_19 = pd.merge(exp00_19, exp04[[\"code\",'ele04', 'tss04', 'inf04', 'wat04', 'com04']], on = \"code\", how=\"outer\")"
   ]
  },
  {
   "cell_type": "code",
   "execution_count": 27,
   "id": "a67dd6fa-8b19-4945-833b-3f9c63ea36a8",
   "metadata": {},
   "outputs": [],
   "source": [
    "exp00_19 = pd.merge(exp00_19, exp05[[\"code\",'ele05', 'tss05', 'inf05', 'wat05', 'com05']], on = \"code\", how=\"outer\")"
   ]
  },
  {
   "cell_type": "code",
   "execution_count": 28,
   "id": "56125985-8edf-489a-95fa-1f0253c45136",
   "metadata": {},
   "outputs": [],
   "source": [
    "exp00_19 = pd.merge(exp00_19, exp06[[\"code\",'ele06', 'tss06', 'inf06', 'wat06', 'com06']], on = \"code\", how=\"outer\")"
   ]
  },
  {
   "cell_type": "code",
   "execution_count": 29,
   "id": "9f6678e0-869c-4193-b8dd-df41eaddb369",
   "metadata": {},
   "outputs": [],
   "source": [
    "exp00_19 = pd.merge(exp00_19, exp07[[\"code\",'ele07', 'tss07', 'inf07', 'wat07', 'com07']], on = \"code\", how=\"outer\")"
   ]
  },
  {
   "cell_type": "code",
   "execution_count": 30,
   "id": "310915e5-493f-46d5-b524-2a60bc5403fd",
   "metadata": {},
   "outputs": [],
   "source": [
    "exp00_19 = pd.merge(exp00_19, exp08[[\"code\",'ele08', 'tss08', 'inf08', 'wat08', 'com08']], on = \"code\", how=\"outer\")"
   ]
  },
  {
   "cell_type": "code",
   "execution_count": 31,
   "id": "7ed7ce01-00c9-4faa-8c7b-410593e27862",
   "metadata": {},
   "outputs": [],
   "source": [
    "exp00_19 = pd.merge(exp00_19, exp09[[\"code\",'ele09', 'tss09', 'inf09', 'wat09', 'com09']], on = \"code\", how=\"outer\")"
   ]
  },
  {
   "cell_type": "code",
   "execution_count": 32,
   "id": "a39cee0f-1af6-43f6-ae22-fcb9f7c071e6",
   "metadata": {},
   "outputs": [],
   "source": [
    "exp00_19 = pd.merge(exp00_19, exp10[[\"code\",'ele10', 'tss10', 'inf10', 'wat10', 'com10']], on = \"code\", how=\"outer\")"
   ]
  },
  {
   "cell_type": "code",
   "execution_count": 33,
   "id": "8a30592a-0737-4d6e-82f8-92a295a4ee07",
   "metadata": {},
   "outputs": [],
   "source": [
    "exp00_19 = pd.merge(exp00_19, exp11[[\"code\",'ele11', 'tss11', 'inf11', 'wat11', 'com11']], on = \"code\", how=\"outer\")"
   ]
  },
  {
   "cell_type": "code",
   "execution_count": 34,
   "id": "43e1f0f1-a307-4103-bbb2-ac707a03c6b4",
   "metadata": {},
   "outputs": [],
   "source": [
    "exp00_19 = pd.merge(exp00_19, exp12[[\"code\",'ele12', 'tss12', 'inf12', 'wat12', 'com12']], on = \"code\", how=\"outer\")"
   ]
  },
  {
   "cell_type": "code",
   "execution_count": 35,
   "id": "34321d15-9d2a-41be-a85f-df70875327aa",
   "metadata": {},
   "outputs": [],
   "source": [
    "exp00_19 = pd.merge(exp00_19, exp13[[\"code\",'ele13', 'tss13', 'inf13', 'wat13', 'com13']], on = \"code\", how=\"outer\")"
   ]
  },
  {
   "cell_type": "code",
   "execution_count": 36,
   "id": "14710058-deb5-4c52-a527-07220d7bd738",
   "metadata": {},
   "outputs": [],
   "source": [
    "exp00_19 = pd.merge(exp00_19, exp14[[\"code\",'ele14', 'tss14', 'inf14', 'wat14', 'com14']], on = \"code\", how=\"outer\")"
   ]
  },
  {
   "cell_type": "code",
   "execution_count": 37,
   "id": "6c0703a7-008e-486c-8306-4b64f5367cd9",
   "metadata": {},
   "outputs": [],
   "source": [
    "exp00_19 = pd.merge(exp00_19, exp15[[\"code\",'ele15', 'tss15', 'inf15', 'wat15', 'com15']], on = \"code\", how=\"outer\")"
   ]
  },
  {
   "cell_type": "code",
   "execution_count": 38,
   "id": "3b56039a-197a-436e-9006-7fd2b633d2dd",
   "metadata": {},
   "outputs": [],
   "source": [
    "exp00_19 = pd.merge(exp00_19, exp16[[\"code\",'ele16', 'tss16', 'inf16', 'wat16', 'com16']], on = \"code\", how=\"outer\")"
   ]
  },
  {
   "cell_type": "code",
   "execution_count": 39,
   "id": "dd5380c6-97ce-43fd-b758-2aeeb615c3ec",
   "metadata": {},
   "outputs": [],
   "source": [
    "exp00_19 = pd.merge(exp00_19, exp17[[\"code\",'ele17', 'tss17', 'inf17', 'wat17', 'com17']], on = \"code\", how=\"outer\")"
   ]
  },
  {
   "cell_type": "code",
   "execution_count": 40,
   "id": "73d1aafb-42cc-4aef-9a95-87bca8ca472b",
   "metadata": {},
   "outputs": [],
   "source": [
    "exp00_19 = pd.merge(exp00_19, exp18[[\"code\",'ele18', 'tss18', 'inf18', 'wat18', 'com18']], on = \"code\", how=\"outer\")"
   ]
  },
  {
   "cell_type": "code",
   "execution_count": 41,
   "id": "5a890f75-95ef-4340-950d-581ede6fe081",
   "metadata": {},
   "outputs": [],
   "source": [
    "exp00_19 = pd.merge(exp00_19, exp19[[\"code\",'ele19', 'tss19', 'inf19', 'wat19', 'com19']], on = \"code\", how=\"outer\")"
   ]
  },
  {
   "cell_type": "code",
   "execution_count": 42,
   "id": "9771037d-62b5-49c8-a294-f0b0005165aa",
   "metadata": {},
   "outputs": [],
   "source": [
    "exp00_19.fillna(0, inplace = True)"
   ]
  },
  {
   "cell_type": "code",
   "execution_count": 43,
   "id": "743d8ae6-f05e-4ff9-ba61-708eeab34606",
   "metadata": {},
   "outputs": [
    {
     "data": {
      "text/html": [
       "<div>\n",
       "<style scoped>\n",
       "    .dataframe tbody tr th:only-of-type {\n",
       "        vertical-align: middle;\n",
       "    }\n",
       "\n",
       "    .dataframe tbody tr th {\n",
       "        vertical-align: top;\n",
       "    }\n",
       "\n",
       "    .dataframe thead th {\n",
       "        text-align: right;\n",
       "    }\n",
       "</style>\n",
       "<table border=\"1\" class=\"dataframe\">\n",
       "  <thead>\n",
       "    <tr style=\"text-align: right;\">\n",
       "      <th></th>\n",
       "      <th>code</th>\n",
       "      <th>park_2000</th>\n",
       "      <th>ele00</th>\n",
       "      <th>tss00</th>\n",
       "      <th>inf00</th>\n",
       "      <th>wat00</th>\n",
       "      <th>com0</th>\n",
       "      <th>ele01</th>\n",
       "      <th>tss01</th>\n",
       "      <th>inf01</th>\n",
       "      <th>...</th>\n",
       "      <th>ele18</th>\n",
       "      <th>tss18</th>\n",
       "      <th>inf18</th>\n",
       "      <th>wat18</th>\n",
       "      <th>com18</th>\n",
       "      <th>ele19</th>\n",
       "      <th>tss19</th>\n",
       "      <th>inf19</th>\n",
       "      <th>wat19</th>\n",
       "      <th>com19</th>\n",
       "    </tr>\n",
       "  </thead>\n",
       "  <tbody>\n",
       "    <tr>\n",
       "      <th>0</th>\n",
       "      <td>DOM-6NO</td>\n",
       "      <td>0</td>\n",
       "      <td>0.0</td>\n",
       "      <td>0.00</td>\n",
       "      <td>0.00</td>\n",
       "      <td>0.0</td>\n",
       "      <td>0.0</td>\n",
       "      <td>0.00</td>\n",
       "      <td>0.00</td>\n",
       "      <td>0.00</td>\n",
       "      <td>...</td>\n",
       "      <td>0.0</td>\n",
       "      <td>0.0</td>\n",
       "      <td>0.0</td>\n",
       "      <td>0.0</td>\n",
       "      <td>0.0</td>\n",
       "      <td>1250000.00</td>\n",
       "      <td>1883168.95</td>\n",
       "      <td>11500.00</td>\n",
       "      <td>8500.00</td>\n",
       "      <td>19500.00</td>\n",
       "    </tr>\n",
       "    <tr>\n",
       "      <th>1</th>\n",
       "      <td>DOM-ALC</td>\n",
       "      <td>LosAlcarrizos</td>\n",
       "      <td>9812247.7</td>\n",
       "      <td>5638113.84</td>\n",
       "      <td>766893.43</td>\n",
       "      <td>464354.0</td>\n",
       "      <td>0.0</td>\n",
       "      <td>9991975.00</td>\n",
       "      <td>5522545.90</td>\n",
       "      <td>664740.87</td>\n",
       "      <td>...</td>\n",
       "      <td>0.0</td>\n",
       "      <td>0.0</td>\n",
       "      <td>0.0</td>\n",
       "      <td>0.0</td>\n",
       "      <td>0.0</td>\n",
       "      <td>10493017.48</td>\n",
       "      <td>32927736.42</td>\n",
       "      <td>1303479.00</td>\n",
       "      <td>453229.00</td>\n",
       "      <td>1974809.47</td>\n",
       "    </tr>\n",
       "    <tr>\n",
       "      <th>2</th>\n",
       "      <td>DOM-ALT</td>\n",
       "      <td>VillaAltagracia</td>\n",
       "      <td>4272000.0</td>\n",
       "      <td>7560000.00</td>\n",
       "      <td>793343.19</td>\n",
       "      <td>72000.0</td>\n",
       "      <td>0.0</td>\n",
       "      <td>1175000.00</td>\n",
       "      <td>3806394.08</td>\n",
       "      <td>290000.00</td>\n",
       "      <td>...</td>\n",
       "      <td>0.0</td>\n",
       "      <td>0.0</td>\n",
       "      <td>0.0</td>\n",
       "      <td>0.0</td>\n",
       "      <td>0.0</td>\n",
       "      <td>7072325.55</td>\n",
       "      <td>14259957.83</td>\n",
       "      <td>667377.47</td>\n",
       "      <td>462740.86</td>\n",
       "      <td>1879744.03</td>\n",
       "    </tr>\n",
       "    <tr>\n",
       "      <th>3</th>\n",
       "      <td>DOM-AND</td>\n",
       "      <td>0</td>\n",
       "      <td>0.0</td>\n",
       "      <td>0.00</td>\n",
       "      <td>0.00</td>\n",
       "      <td>0.0</td>\n",
       "      <td>0.0</td>\n",
       "      <td>0.00</td>\n",
       "      <td>0.00</td>\n",
       "      <td>0.00</td>\n",
       "      <td>...</td>\n",
       "      <td>0.0</td>\n",
       "      <td>0.0</td>\n",
       "      <td>0.0</td>\n",
       "      <td>0.0</td>\n",
       "      <td>0.0</td>\n",
       "      <td>1966322.88</td>\n",
       "      <td>5657654.23</td>\n",
       "      <td>252129.69</td>\n",
       "      <td>154042.80</td>\n",
       "      <td>1734118.74</td>\n",
       "    </tr>\n",
       "    <tr>\n",
       "      <th>4</th>\n",
       "      <td>DOM-ARM</td>\n",
       "      <td>LaArmer’a</td>\n",
       "      <td>3561896.0</td>\n",
       "      <td>3980122.50</td>\n",
       "      <td>678543.21</td>\n",
       "      <td>86750.0</td>\n",
       "      <td>0.0</td>\n",
       "      <td>2419200.04</td>\n",
       "      <td>2921492.85</td>\n",
       "      <td>281005.92</td>\n",
       "      <td>...</td>\n",
       "      <td>0.0</td>\n",
       "      <td>0.0</td>\n",
       "      <td>0.0</td>\n",
       "      <td>0.0</td>\n",
       "      <td>0.0</td>\n",
       "      <td>5093636.47</td>\n",
       "      <td>16707260.03</td>\n",
       "      <td>665209.54</td>\n",
       "      <td>657895.00</td>\n",
       "      <td>1382951.54</td>\n",
       "    </tr>\n",
       "    <tr>\n",
       "      <th>...</th>\n",
       "      <td>...</td>\n",
       "      <td>...</td>\n",
       "      <td>...</td>\n",
       "      <td>...</td>\n",
       "      <td>...</td>\n",
       "      <td>...</td>\n",
       "      <td>...</td>\n",
       "      <td>...</td>\n",
       "      <td>...</td>\n",
       "      <td>...</td>\n",
       "      <td>...</td>\n",
       "      <td>...</td>\n",
       "      <td>...</td>\n",
       "      <td>...</td>\n",
       "      <td>...</td>\n",
       "      <td>...</td>\n",
       "      <td>...</td>\n",
       "      <td>...</td>\n",
       "      <td>...</td>\n",
       "      <td>...</td>\n",
       "      <td>...</td>\n",
       "    </tr>\n",
       "    <tr>\n",
       "      <th>104</th>\n",
       "      <td>SPE-SCR</td>\n",
       "      <td>ZFESanCrist—bal</td>\n",
       "      <td>257564.0</td>\n",
       "      <td>725814.00</td>\n",
       "      <td>0.00</td>\n",
       "      <td>20754.0</td>\n",
       "      <td>0.0</td>\n",
       "      <td>1352139.53</td>\n",
       "      <td>1172758.64</td>\n",
       "      <td>90652.87</td>\n",
       "      <td>...</td>\n",
       "      <td>0.0</td>\n",
       "      <td>0.0</td>\n",
       "      <td>0.0</td>\n",
       "      <td>0.0</td>\n",
       "      <td>0.0</td>\n",
       "      <td>0.00</td>\n",
       "      <td>0.00</td>\n",
       "      <td>0.00</td>\n",
       "      <td>0.00</td>\n",
       "      <td>0.00</td>\n",
       "    </tr>\n",
       "    <tr>\n",
       "      <th>105</th>\n",
       "      <td>SPE-SFM</td>\n",
       "      <td>0</td>\n",
       "      <td>0.0</td>\n",
       "      <td>0.00</td>\n",
       "      <td>0.00</td>\n",
       "      <td>0.0</td>\n",
       "      <td>0.0</td>\n",
       "      <td>0.00</td>\n",
       "      <td>0.00</td>\n",
       "      <td>0.00</td>\n",
       "      <td>...</td>\n",
       "      <td>0.0</td>\n",
       "      <td>0.0</td>\n",
       "      <td>0.0</td>\n",
       "      <td>0.0</td>\n",
       "      <td>0.0</td>\n",
       "      <td>0.00</td>\n",
       "      <td>0.00</td>\n",
       "      <td>0.00</td>\n",
       "      <td>0.00</td>\n",
       "      <td>0.00</td>\n",
       "    </tr>\n",
       "    <tr>\n",
       "      <th>106</th>\n",
       "      <td>SPE-TRI</td>\n",
       "      <td>ZFEMa.TrinidadS.</td>\n",
       "      <td>0.0</td>\n",
       "      <td>29530.00</td>\n",
       "      <td>0.00</td>\n",
       "      <td>0.0</td>\n",
       "      <td>0.0</td>\n",
       "      <td>0.00</td>\n",
       "      <td>44923.81</td>\n",
       "      <td>14053.00</td>\n",
       "      <td>...</td>\n",
       "      <td>0.0</td>\n",
       "      <td>0.0</td>\n",
       "      <td>0.0</td>\n",
       "      <td>0.0</td>\n",
       "      <td>0.0</td>\n",
       "      <td>0.00</td>\n",
       "      <td>0.00</td>\n",
       "      <td>0.00</td>\n",
       "      <td>0.00</td>\n",
       "      <td>0.00</td>\n",
       "    </tr>\n",
       "    <tr>\n",
       "      <th>107</th>\n",
       "      <td>SPE-VEG</td>\n",
       "      <td>ZFELaVega</td>\n",
       "      <td>24228.0</td>\n",
       "      <td>7548.02</td>\n",
       "      <td>0.00</td>\n",
       "      <td>1200.0</td>\n",
       "      <td>0.0</td>\n",
       "      <td>222720.00</td>\n",
       "      <td>81000.00</td>\n",
       "      <td>2495.00</td>\n",
       "      <td>...</td>\n",
       "      <td>0.0</td>\n",
       "      <td>0.0</td>\n",
       "      <td>0.0</td>\n",
       "      <td>0.0</td>\n",
       "      <td>0.0</td>\n",
       "      <td>0.00</td>\n",
       "      <td>0.00</td>\n",
       "      <td>0.00</td>\n",
       "      <td>0.00</td>\n",
       "      <td>0.00</td>\n",
       "    </tr>\n",
       "    <tr>\n",
       "      <th>108</th>\n",
       "      <td>0</td>\n",
       "      <td>0</td>\n",
       "      <td>0.0</td>\n",
       "      <td>0.00</td>\n",
       "      <td>0.00</td>\n",
       "      <td>0.0</td>\n",
       "      <td>0.0</td>\n",
       "      <td>0.00</td>\n",
       "      <td>0.00</td>\n",
       "      <td>0.00</td>\n",
       "      <td>...</td>\n",
       "      <td>0.0</td>\n",
       "      <td>0.0</td>\n",
       "      <td>0.0</td>\n",
       "      <td>0.0</td>\n",
       "      <td>0.0</td>\n",
       "      <td>0.00</td>\n",
       "      <td>0.00</td>\n",
       "      <td>0.00</td>\n",
       "      <td>0.00</td>\n",
       "      <td>0.00</td>\n",
       "    </tr>\n",
       "  </tbody>\n",
       "</table>\n",
       "<p>109 rows × 102 columns</p>\n",
       "</div>"
      ],
      "text/plain": [
       "        code         park_2000      ele00       tss00      inf00     wat00  \\\n",
       "0    DOM-6NO                 0        0.0        0.00       0.00       0.0   \n",
       "1    DOM-ALC     LosAlcarrizos  9812247.7  5638113.84  766893.43  464354.0   \n",
       "2    DOM-ALT   VillaAltagracia  4272000.0  7560000.00  793343.19   72000.0   \n",
       "3    DOM-AND                 0        0.0        0.00       0.00       0.0   \n",
       "4    DOM-ARM         LaArmer’a  3561896.0  3980122.50  678543.21   86750.0   \n",
       "..       ...               ...        ...         ...        ...       ...   \n",
       "104  SPE-SCR   ZFESanCrist—bal   257564.0   725814.00       0.00   20754.0   \n",
       "105  SPE-SFM                 0        0.0        0.00       0.00       0.0   \n",
       "106  SPE-TRI  ZFEMa.TrinidadS.        0.0    29530.00       0.00       0.0   \n",
       "107  SPE-VEG         ZFELaVega    24228.0     7548.02       0.00    1200.0   \n",
       "108        0                 0        0.0        0.00       0.00       0.0   \n",
       "\n",
       "     com0       ele01       tss01      inf01  ...  ele18  tss18  inf18  wat18  \\\n",
       "0     0.0        0.00        0.00       0.00  ...    0.0    0.0    0.0    0.0   \n",
       "1     0.0  9991975.00  5522545.90  664740.87  ...    0.0    0.0    0.0    0.0   \n",
       "2     0.0  1175000.00  3806394.08  290000.00  ...    0.0    0.0    0.0    0.0   \n",
       "3     0.0        0.00        0.00       0.00  ...    0.0    0.0    0.0    0.0   \n",
       "4     0.0  2419200.04  2921492.85  281005.92  ...    0.0    0.0    0.0    0.0   \n",
       "..    ...         ...         ...        ...  ...    ...    ...    ...    ...   \n",
       "104   0.0  1352139.53  1172758.64   90652.87  ...    0.0    0.0    0.0    0.0   \n",
       "105   0.0        0.00        0.00       0.00  ...    0.0    0.0    0.0    0.0   \n",
       "106   0.0        0.00    44923.81   14053.00  ...    0.0    0.0    0.0    0.0   \n",
       "107   0.0   222720.00    81000.00    2495.00  ...    0.0    0.0    0.0    0.0   \n",
       "108   0.0        0.00        0.00       0.00  ...    0.0    0.0    0.0    0.0   \n",
       "\n",
       "     com18        ele19        tss19       inf19      wat19       com19  \n",
       "0      0.0   1250000.00   1883168.95    11500.00    8500.00    19500.00  \n",
       "1      0.0  10493017.48  32927736.42  1303479.00  453229.00  1974809.47  \n",
       "2      0.0   7072325.55  14259957.83   667377.47  462740.86  1879744.03  \n",
       "3      0.0   1966322.88   5657654.23   252129.69  154042.80  1734118.74  \n",
       "4      0.0   5093636.47  16707260.03   665209.54  657895.00  1382951.54  \n",
       "..     ...          ...          ...         ...        ...         ...  \n",
       "104    0.0         0.00         0.00        0.00       0.00        0.00  \n",
       "105    0.0         0.00         0.00        0.00       0.00        0.00  \n",
       "106    0.0         0.00         0.00        0.00       0.00        0.00  \n",
       "107    0.0         0.00         0.00        0.00       0.00        0.00  \n",
       "108    0.0         0.00         0.00        0.00       0.00        0.00  \n",
       "\n",
       "[109 rows x 102 columns]"
      ]
     },
     "execution_count": 43,
     "metadata": {},
     "output_type": "execute_result"
    }
   ],
   "source": [
    "exp00_19"
   ]
  }
 ],
 "metadata": {
  "kernelspec": {
   "display_name": "Python 3 (ipykernel)",
   "language": "python",
   "name": "python3"
  },
  "language_info": {
   "codemirror_mode": {
    "name": "ipython",
    "version": 3
   },
   "file_extension": ".py",
   "mimetype": "text/x-python",
   "name": "python",
   "nbconvert_exporter": "python",
   "pygments_lexer": "ipython3",
   "version": "3.12.0"
  }
 },
 "nbformat": 4,
 "nbformat_minor": 5
}
