{
 "cells": [
  {
   "cell_type": "code",
   "execution_count": 1,
   "id": "6d9dbe32-2ab3-44e9-acfc-2e72cae22b00",
   "metadata": {},
   "outputs": [],
   "source": [
    "import pandas as pd"
   ]
  },
  {
   "cell_type": "code",
   "execution_count": 2,
   "id": "cc36f765-123d-4a7f-9086-09d9cd21f062",
   "metadata": {},
   "outputs": [],
   "source": [
    "import numpy as np"
   ]
  },
  {
   "cell_type": "code",
   "execution_count": 3,
   "id": "3a87ee01-c2bc-480c-b4d7-f3be558e5751",
   "metadata": {},
   "outputs": [],
   "source": [
    "loc = pd.read_csv(\"/Users/hendrixperalta/Desktop/Research Data Manipulation/research_data/sez_location/clean_id_loc_year_type.csv\", \n",
    "                  encoding='cp1252')"
   ]
  },
  {
   "cell_type": "code",
   "execution_count": null,
   "id": "d14b078c-e389-4e44-a56d-4103dbf2ea2d",
   "metadata": {},
   "outputs": [],
   "source": []
  },
  {
   "cell_type": "code",
   "execution_count": 4,
   "id": "6d83629f-7b28-4d1d-8157-a094eaa22a1e",
   "metadata": {},
   "outputs": [],
   "source": [
    "inv = pd.read_csv(\"/Users/hendrixperalta/Desktop/Research Data Manipulation/research_data/sez_investment/inv00-19.csv\", \n",
    "                  encoding='cp1252')"
   ]
  },
  {
   "cell_type": "code",
   "execution_count": null,
   "id": "db6b443f-a8ee-4144-98d5-914ece883e26",
   "metadata": {},
   "outputs": [],
   "source": []
  },
  {
   "cell_type": "code",
   "execution_count": 5,
   "id": "c2007ca6-6ae2-4a23-b4d3-367eeee3bcb5",
   "metadata": {},
   "outputs": [],
   "source": [
    "empf = pd.read_csv(\"/Users/hendrixperalta/Desktop/Research Data Manipulation/research_data/sez_employment/emp_agg_f.csv\", \n",
    "                  encoding='cp1252')"
   ]
  },
  {
   "cell_type": "code",
   "execution_count": 6,
   "id": "6f831f5f-ae0d-4b02-84e7-93a59b28e300",
   "metadata": {},
   "outputs": [],
   "source": [
    "empm = pd.read_csv(\"/Users/hendrixperalta/Desktop/Research Data Manipulation/research_data/sez_employment/emp_agg_m.csv\", \n",
    "                  encoding='cp1252')"
   ]
  },
  {
   "cell_type": "code",
   "execution_count": 7,
   "id": "c658cd8d-5fbf-4017-89de-418ae54c571e",
   "metadata": {},
   "outputs": [],
   "source": [
    "emp_total = pd.read_csv(\"/Users/hendrixperalta/Desktop/Research Data Manipulation/research_data/sez_employment/emp_agg_total.csv\", \n",
    "                  encoding='cp1252')"
   ]
  },
  {
   "cell_type": "code",
   "execution_count": null,
   "id": "45b98f30-9006-4b00-9b07-ce5cd1cccbc3",
   "metadata": {},
   "outputs": [],
   "source": []
  },
  {
   "cell_type": "code",
   "execution_count": 8,
   "id": "f09b727b-c074-46d8-8d47-b4faff09100e",
   "metadata": {},
   "outputs": [],
   "source": [
    "ent = pd.read_csv(\"/Users/hendrixperalta/Desktop/Research Data Manipulation/research_data/sez_enterprises/ent99_19.csv\", \n",
    "                  encoding='cp1252')"
   ]
  },
  {
   "cell_type": "code",
   "execution_count": null,
   "id": "0edf6a5e-d2d0-4abb-a6e2-b8fbeddbb19a",
   "metadata": {},
   "outputs": [],
   "source": []
  },
  {
   "cell_type": "code",
   "execution_count": 9,
   "id": "1ac8d81a-8b46-4e68-9d76-29000f7bd349",
   "metadata": {},
   "outputs": [],
   "source": [
    "exp_ele = pd.read_csv(\"/Users/hendrixperalta/Desktop/Research Data Manipulation/research_data/sez_expenses/ele_exp00_19.csv\", \n",
    "                  encoding='cp1252')"
   ]
  },
  {
   "cell_type": "code",
   "execution_count": 10,
   "id": "566e2996-ba1c-4ce7-af7d-0dd117c91c8b",
   "metadata": {},
   "outputs": [],
   "source": [
    "exp_com = pd.read_csv(\"/Users/hendrixperalta/Desktop/Research Data Manipulation/research_data/sez_expenses/com_exp00_19.csv\", \n",
    "                  encoding='cp1252')"
   ]
  },
  {
   "cell_type": "code",
   "execution_count": 11,
   "id": "845e9981-a3b6-4bdb-b61e-b377deb0b5fe",
   "metadata": {},
   "outputs": [],
   "source": [
    "exp_inf = pd.read_csv(\"/Users/hendrixperalta/Desktop/Research Data Manipulation/research_data/sez_expenses/infotep_exp00_19.csv\", \n",
    "                  encoding='cp1252')"
   ]
  },
  {
   "cell_type": "code",
   "execution_count": 12,
   "id": "e30a7c3a-8faf-4d15-b5e7-7b0f5569f468",
   "metadata": {},
   "outputs": [],
   "source": [
    "exp_wat = pd.read_csv(\"/Users/hendrixperalta/Desktop/Research Data Manipulation/research_data/sez_expenses/water_exp00_19.csv\", \n",
    "                  encoding='cp1252')"
   ]
  },
  {
   "cell_type": "code",
   "execution_count": 13,
   "id": "bc6353f4-0865-4afd-a6be-54df077437a3",
   "metadata": {},
   "outputs": [],
   "source": [
    "exp_tss = pd.read_csv(\"/Users/hendrixperalta/Desktop/Research Data Manipulation/research_data/sez_expenses/tss_exp00_19.csv\", \n",
    "                  encoding='cp1252')"
   ]
  },
  {
   "cell_type": "code",
   "execution_count": null,
   "id": "df7b637b-badc-4720-bbb8-a0bfd9cb4063",
   "metadata": {},
   "outputs": [],
   "source": []
  },
  {
   "cell_type": "code",
   "execution_count": 14,
   "id": "bb824cfe-eebf-4045-b10c-acdff912e9c3",
   "metadata": {},
   "outputs": [],
   "source": [
    "nav = pd.read_csv(\"/Users/hendrixperalta/Desktop/Research Data Manipulation/research_data/sez_naves/nav_agg_00_16.csv\", \n",
    "                  encoding='cp1252')"
   ]
  },
  {
   "cell_type": "code",
   "execution_count": null,
   "id": "cde5cfc2-b446-4c49-a84d-904c42ebe7f8",
   "metadata": {},
   "outputs": [],
   "source": []
  },
  {
   "cell_type": "code",
   "execution_count": 15,
   "id": "6440973d-40be-4c50-8d36-52185707b12b",
   "metadata": {},
   "outputs": [],
   "source": [
    "op = pd.read_csv(\"/Users/hendrixperalta/Desktop/Research Data Manipulation/research_data/sez_salary/sal_op_00_16.csv\", \n",
    "                  encoding='cp1252')"
   ]
  },
  {
   "cell_type": "code",
   "execution_count": 16,
   "id": "4993d5a2-1284-4080-8fda-75e255f3d5b7",
   "metadata": {},
   "outputs": [],
   "source": [
    "tec = pd.read_csv(\"/Users/hendrixperalta/Desktop/Research Data Manipulation/research_data/sez_salary/sal_tec_00_16.csv\", \n",
    "                  encoding='cp1252')"
   ]
  },
  {
   "cell_type": "code",
   "execution_count": null,
   "id": "879a052e-52be-446c-91a0-d680768893c7",
   "metadata": {},
   "outputs": [],
   "source": []
  },
  {
   "cell_type": "code",
   "execution_count": 17,
   "id": "0b7fda2e-f212-4263-9fc9-72f2f5b6649e",
   "metadata": {},
   "outputs": [],
   "source": [
    "def f(df):\n",
    "    #df.drop(df.columns.str.contains(\"par\"), inplace = True)\n",
    "    return df.drop(columns=df.columns[df.columns.str.contains(\"par\")])"
   ]
  },
  {
   "cell_type": "code",
   "execution_count": 18,
   "id": "f1093bce-b3fe-4ea3-8d36-4f03cc35122e",
   "metadata": {},
   "outputs": [],
   "source": [
    "#databases = [empf, empm, emp_total, ent, exp_ele, exp_com, exp_inf, exp_wat, exp_tss, nav, op, tec]\n",
    "databases = [empf, empm, emp_total, ent, exp_ele, exp_com, exp_inf, exp_wat, exp_tss, nav, op, tec]"
   ]
  },
  {
   "cell_type": "code",
   "execution_count": 19,
   "id": "6693099f-2564-46ca-9574-bfbd68e319ed",
   "metadata": {},
   "outputs": [],
   "source": [
    "sez = pd.merge(loc, f(inv), on=\"code\", how=\"outer\")"
   ]
  },
  {
   "cell_type": "code",
   "execution_count": 20,
   "id": "6478a3c3-ee10-4ca5-b6f1-9732f59282c5",
   "metadata": {},
   "outputs": [],
   "source": [
    "for database in databases: \n",
    "    sez = pd.merge(sez, f(database), on=\"code\", how=\"outer\")"
   ]
  },
  {
   "cell_type": "code",
   "execution_count": 21,
   "id": "35c64a38-9b46-44df-99fd-6d9b61ddd966",
   "metadata": {},
   "outputs": [],
   "source": [
    "sez = sez[sez[\"code\"] != \"DOM-ZFE\"]"
   ]
  },
  {
   "cell_type": "code",
   "execution_count": 22,
   "id": "7e9fa6c0-9522-44c2-baa7-f8d2c69cc56e",
   "metadata": {},
   "outputs": [],
   "source": [
    "sez.fillna(0, inplace=True)"
   ]
  },
  {
   "cell_type": "code",
   "execution_count": null,
   "id": "e7fc12a1-e7bc-4b2c-822f-34d6766fc23e",
   "metadata": {},
   "outputs": [],
   "source": []
  },
  {
   "cell_type": "code",
   "execution_count": 23,
   "id": "c69f56ba-5800-490e-9fe5-be5da124814f",
   "metadata": {},
   "outputs": [],
   "source": [
    "#filter for the period 2000 2016\n",
    "def rename_columns(df):\n",
    "    new_columns = []\n",
    "    for col in df.columns:\n",
    "        if col[-2:].isdigit() and not col[-4:].isdigit():\n",
    "            new_columns.append(col[:-2] + \"20\" + col[-2:])  \n",
    "        else:\n",
    "            new_columns.append(col)\n",
    "    df.columns = new_columns\n",
    "    return df"
   ]
  },
  {
   "cell_type": "code",
   "execution_count": 24,
   "id": "07c23f49-f4a3-4c21-b3fe-fd6c147e3105",
   "metadata": {},
   "outputs": [],
   "source": [
    "sez = rename_columns(sez)"
   ]
  },
  {
   "cell_type": "code",
   "execution_count": 25,
   "id": "6e789b82-6513-4cf7-8de8-0ebfd1452aee",
   "metadata": {},
   "outputs": [],
   "source": [
    "filter_year = [\"2017\", \"2018\", \"2018\", \"2019\", \"2020\", \"2021\", \"2022\"]\n",
    "\n",
    "for year in filter_year:   \n",
    "    sez_filtered = sez.drop(columns = sez.columns[sez.columns.str.contains(year)])\n",
    "    "
   ]
  },
  {
   "cell_type": "code",
   "execution_count": 26,
   "id": "8ecd812e-2cad-4062-ba5c-f00b6569fc9f",
   "metadata": {},
   "outputs": [
    {
     "data": {
      "text/plain": [
       "Index([], dtype='object')"
      ]
     },
     "execution_count": 26,
     "metadata": {},
     "output_type": "execute_result"
    }
   ],
   "source": [
    "sez_filtered.columns[sez_filtered.columns.str.contains(year)]"
   ]
  },
  {
   "cell_type": "code",
   "execution_count": 27,
   "id": "4fcb96de-db60-4d7c-88ea-bf43b83619ff",
   "metadata": {},
   "outputs": [],
   "source": [
    "sez_filtered.to_csv(\"sez.csv\", index=False)"
   ]
  },
  {
   "cell_type": "code",
   "execution_count": null,
   "id": "65123888-126e-4523-a2bd-da285a0b8441",
   "metadata": {},
   "outputs": [],
   "source": []
  },
  {
   "cell_type": "code",
   "execution_count": null,
   "id": "b9c03e16-6177-417d-9445-357d146d871d",
   "metadata": {},
   "outputs": [],
   "source": []
  },
  {
   "cell_type": "code",
   "execution_count": 28,
   "id": "ca4cca35-161c-4e6c-8a4a-d86722968fea",
   "metadata": {},
   "outputs": [
    {
     "data": {
      "text/plain": [
       "Index(['code', 'name', 'latitude', 'longitude', 'year', 'close', 'type',\n",
       "       'sez_id', 'origin ', 'inv2000',\n",
       "       ...\n",
       "       'sal_tec2007', 'sal_tec2008', 'sal_tec2019', 'sal_tec2010',\n",
       "       'sal_tec2011', 'sal_tec2012', 'sal_tec2013', 'sal_tec2014',\n",
       "       'sal_tec2015', 'sal_tec2016'],\n",
       "      dtype='object', length=363)"
      ]
     },
     "execution_count": 28,
     "metadata": {},
     "output_type": "execute_result"
    }
   ],
   "source": [
    "sez.columns"
   ]
  },
  {
   "cell_type": "code",
   "execution_count": 29,
   "id": "8d988678-9aa7-4565-bbf4-b7e6a42fb27e",
   "metadata": {},
   "outputs": [
    {
     "data": {
      "text/html": [
       "<div>\n",
       "<style scoped>\n",
       "    .dataframe tbody tr th:only-of-type {\n",
       "        vertical-align: middle;\n",
       "    }\n",
       "\n",
       "    .dataframe tbody tr th {\n",
       "        vertical-align: top;\n",
       "    }\n",
       "\n",
       "    .dataframe thead th {\n",
       "        text-align: right;\n",
       "    }\n",
       "</style>\n",
       "<table border=\"1\" class=\"dataframe\">\n",
       "  <thead>\n",
       "    <tr style=\"text-align: right;\">\n",
       "      <th></th>\n",
       "      <th>code</th>\n",
       "      <th>name</th>\n",
       "      <th>latitude</th>\n",
       "      <th>longitude</th>\n",
       "      <th>year</th>\n",
       "      <th>close</th>\n",
       "      <th>type</th>\n",
       "      <th>sez_id</th>\n",
       "      <th>origin</th>\n",
       "      <th>inv2000</th>\n",
       "      <th>...</th>\n",
       "      <th>sal_tec2007</th>\n",
       "      <th>sal_tec2008</th>\n",
       "      <th>sal_tec2019</th>\n",
       "      <th>sal_tec2010</th>\n",
       "      <th>sal_tec2011</th>\n",
       "      <th>sal_tec2012</th>\n",
       "      <th>sal_tec2013</th>\n",
       "      <th>sal_tec2014</th>\n",
       "      <th>sal_tec2015</th>\n",
       "      <th>sal_tec2016</th>\n",
       "    </tr>\n",
       "  </thead>\n",
       "  <tbody>\n",
       "    <tr>\n",
       "      <th>85</th>\n",
       "      <td>DOM-SLI</td>\n",
       "      <td>Parque Tecnologico de Santiago</td>\n",
       "      <td>19.446254</td>\n",
       "      <td>-70.639953</td>\n",
       "      <td>1993.0</td>\n",
       "      <td>0.0</td>\n",
       "      <td>private</td>\n",
       "      <td>86.0</td>\n",
       "      <td>1.0</td>\n",
       "      <td>5324144.00</td>\n",
       "      <td>...</td>\n",
       "      <td>3424.13</td>\n",
       "      <td>3925.00</td>\n",
       "      <td>3085.71</td>\n",
       "      <td>2990.04</td>\n",
       "      <td>3202.71</td>\n",
       "      <td>3516.67</td>\n",
       "      <td>4145.83</td>\n",
       "      <td>6693.75</td>\n",
       "      <td>5641.67</td>\n",
       "      <td>6605.00</td>\n",
       "    </tr>\n",
       "    <tr>\n",
       "      <th>86</th>\n",
       "      <td>DOM-SUN</td>\n",
       "      <td>Parque Industrial Zona Franca Sunsea</td>\n",
       "      <td>0.000000</td>\n",
       "      <td>0.000000</td>\n",
       "      <td>2016.0</td>\n",
       "      <td>2019.0</td>\n",
       "      <td>private</td>\n",
       "      <td>87.0</td>\n",
       "      <td>1.0</td>\n",
       "      <td>0.00</td>\n",
       "      <td>...</td>\n",
       "      <td>0.00</td>\n",
       "      <td>0.00</td>\n",
       "      <td>0.00</td>\n",
       "      <td>0.00</td>\n",
       "      <td>0.00</td>\n",
       "      <td>0.00</td>\n",
       "      <td>0.00</td>\n",
       "      <td>0.00</td>\n",
       "      <td>0.00</td>\n",
       "      <td>5000.00</td>\n",
       "    </tr>\n",
       "    <tr>\n",
       "      <th>87</th>\n",
       "      <td>DOM-SUR</td>\n",
       "      <td>Zona Franca Ind. Del Sur</td>\n",
       "      <td>0.000000</td>\n",
       "      <td>0.000000</td>\n",
       "      <td>2014.0</td>\n",
       "      <td>0.0</td>\n",
       "      <td>private</td>\n",
       "      <td>88.0</td>\n",
       "      <td>1.0</td>\n",
       "      <td>0.00</td>\n",
       "      <td>...</td>\n",
       "      <td>0.00</td>\n",
       "      <td>0.00</td>\n",
       "      <td>0.00</td>\n",
       "      <td>0.00</td>\n",
       "      <td>0.00</td>\n",
       "      <td>0.00</td>\n",
       "      <td>0.00</td>\n",
       "      <td>5624.00</td>\n",
       "      <td>0.00</td>\n",
       "      <td>0.00</td>\n",
       "    </tr>\n",
       "    <tr>\n",
       "      <th>88</th>\n",
       "      <td>DOM-TAL</td>\n",
       "      <td>Intercontinental</td>\n",
       "      <td>18.560544</td>\n",
       "      <td>-70.070350</td>\n",
       "      <td>2015.0</td>\n",
       "      <td>0.0</td>\n",
       "      <td>private</td>\n",
       "      <td>89.0</td>\n",
       "      <td>1.0</td>\n",
       "      <td>0.00</td>\n",
       "      <td>...</td>\n",
       "      <td>0.00</td>\n",
       "      <td>0.00</td>\n",
       "      <td>0.00</td>\n",
       "      <td>0.00</td>\n",
       "      <td>0.00</td>\n",
       "      <td>0.00</td>\n",
       "      <td>0.00</td>\n",
       "      <td>0.00</td>\n",
       "      <td>5736.96</td>\n",
       "      <td>5800.00</td>\n",
       "    </tr>\n",
       "    <tr>\n",
       "      <th>89</th>\n",
       "      <td>DOM-TAM</td>\n",
       "      <td>Tamboril</td>\n",
       "      <td>19.481426</td>\n",
       "      <td>-70.633332</td>\n",
       "      <td>1997.0</td>\n",
       "      <td>0.0</td>\n",
       "      <td>private</td>\n",
       "      <td>90.0</td>\n",
       "      <td>1.0</td>\n",
       "      <td>220900.00</td>\n",
       "      <td>...</td>\n",
       "      <td>2833.33</td>\n",
       "      <td>3575.00</td>\n",
       "      <td>2962.75</td>\n",
       "      <td>3116.93</td>\n",
       "      <td>3286.85</td>\n",
       "      <td>4650.03</td>\n",
       "      <td>4100.00</td>\n",
       "      <td>4103.83</td>\n",
       "      <td>4749.78</td>\n",
       "      <td>4563.17</td>\n",
       "    </tr>\n",
       "    <tr>\n",
       "      <th>90</th>\n",
       "      <td>DOM-VEG</td>\n",
       "      <td>La Vega</td>\n",
       "      <td>19.246732</td>\n",
       "      <td>-70.556490</td>\n",
       "      <td>1987.0</td>\n",
       "      <td>0.0</td>\n",
       "      <td>public</td>\n",
       "      <td>91.0</td>\n",
       "      <td>1.0</td>\n",
       "      <td>45018217.52</td>\n",
       "      <td>...</td>\n",
       "      <td>3836.31</td>\n",
       "      <td>2984.12</td>\n",
       "      <td>3021.27</td>\n",
       "      <td>3190.84</td>\n",
       "      <td>3356.29</td>\n",
       "      <td>3686.81</td>\n",
       "      <td>3737.21</td>\n",
       "      <td>4189.40</td>\n",
       "      <td>4754.71</td>\n",
       "      <td>4671.84</td>\n",
       "    </tr>\n",
       "    <tr>\n",
       "      <th>91</th>\n",
       "      <td>DOM-VER</td>\n",
       "      <td>Luperon Verde</td>\n",
       "      <td>19.793250</td>\n",
       "      <td>-70.680905</td>\n",
       "      <td>2019.0</td>\n",
       "      <td>0.0</td>\n",
       "      <td>private</td>\n",
       "      <td>92.0</td>\n",
       "      <td>1.0</td>\n",
       "      <td>0.00</td>\n",
       "      <td>...</td>\n",
       "      <td>0.00</td>\n",
       "      <td>0.00</td>\n",
       "      <td>0.00</td>\n",
       "      <td>0.00</td>\n",
       "      <td>0.00</td>\n",
       "      <td>0.00</td>\n",
       "      <td>0.00</td>\n",
       "      <td>0.00</td>\n",
       "      <td>0.00</td>\n",
       "      <td>0.00</td>\n",
       "    </tr>\n",
       "    <tr>\n",
       "      <th>92</th>\n",
       "      <td>DOM-VIS</td>\n",
       "      <td>Bella Vista</td>\n",
       "      <td>18.613215</td>\n",
       "      <td>-69.708447</td>\n",
       "      <td>2004.0</td>\n",
       "      <td>0.0</td>\n",
       "      <td>private</td>\n",
       "      <td>93.0</td>\n",
       "      <td>1.0</td>\n",
       "      <td>0.00</td>\n",
       "      <td>...</td>\n",
       "      <td>0.00</td>\n",
       "      <td>4569.00</td>\n",
       "      <td>4615.00</td>\n",
       "      <td>5375.00</td>\n",
       "      <td>4698.00</td>\n",
       "      <td>6863.00</td>\n",
       "      <td>6433.17</td>\n",
       "      <td>7015.64</td>\n",
       "      <td>4450.00</td>\n",
       "      <td>4500.00</td>\n",
       "    </tr>\n",
       "    <tr>\n",
       "      <th>93</th>\n",
       "      <td>DOM-YAQ</td>\n",
       "      <td>Parque Industrial y de Servicios Yaque</td>\n",
       "      <td>19.469724</td>\n",
       "      <td>-70.714373</td>\n",
       "      <td>2010.0</td>\n",
       "      <td>0.0</td>\n",
       "      <td>private</td>\n",
       "      <td>94.0</td>\n",
       "      <td>1.0</td>\n",
       "      <td>0.00</td>\n",
       "      <td>...</td>\n",
       "      <td>0.00</td>\n",
       "      <td>0.00</td>\n",
       "      <td>0.00</td>\n",
       "      <td>3439.60</td>\n",
       "      <td>4800.00</td>\n",
       "      <td>3417.45</td>\n",
       "      <td>3807.43</td>\n",
       "      <td>2897.10</td>\n",
       "      <td>3996.96</td>\n",
       "      <td>5841.01</td>\n",
       "    </tr>\n",
       "    <tr>\n",
       "      <th>95</th>\n",
       "      <td>DOM-ZOF</td>\n",
       "      <td>Zofinma (Mao)</td>\n",
       "      <td>19.553957</td>\n",
       "      <td>-71.091628</td>\n",
       "      <td>1993.0</td>\n",
       "      <td>2006.0</td>\n",
       "      <td>private</td>\n",
       "      <td>95.0</td>\n",
       "      <td>1.0</td>\n",
       "      <td>413004.00</td>\n",
       "      <td>...</td>\n",
       "      <td>0.00</td>\n",
       "      <td>0.00</td>\n",
       "      <td>0.00</td>\n",
       "      <td>0.00</td>\n",
       "      <td>0.00</td>\n",
       "      <td>0.00</td>\n",
       "      <td>0.00</td>\n",
       "      <td>0.00</td>\n",
       "      <td>0.00</td>\n",
       "      <td>0.00</td>\n",
       "    </tr>\n",
       "  </tbody>\n",
       "</table>\n",
       "<p>10 rows × 363 columns</p>\n",
       "</div>"
      ],
      "text/plain": [
       "       code                                    name   latitude  longitude  \\\n",
       "85  DOM-SLI         Parque Tecnologico de Santiago   19.446254 -70.639953   \n",
       "86  DOM-SUN    Parque Industrial Zona Franca Sunsea   0.000000   0.000000   \n",
       "87  DOM-SUR                Zona Franca Ind. Del Sur   0.000000   0.000000   \n",
       "88  DOM-TAL                       Intercontinental   18.560544 -70.070350   \n",
       "89  DOM-TAM                               Tamboril   19.481426 -70.633332   \n",
       "90  DOM-VEG                                La Vega   19.246732 -70.556490   \n",
       "91  DOM-VER                          Luperon Verde   19.793250 -70.680905   \n",
       "92  DOM-VIS                            Bella Vista   18.613215 -69.708447   \n",
       "93  DOM-YAQ  Parque Industrial y de Servicios Yaque  19.469724 -70.714373   \n",
       "95  DOM-ZOF                           Zofinma (Mao)  19.553957 -71.091628   \n",
       "\n",
       "      year   close     type  sez_id  origin       inv2000  ...  sal_tec2007  \\\n",
       "85  1993.0     0.0  private    86.0      1.0   5324144.00  ...      3424.13   \n",
       "86  2016.0  2019.0  private    87.0      1.0         0.00  ...         0.00   \n",
       "87  2014.0     0.0  private    88.0      1.0         0.00  ...         0.00   \n",
       "88  2015.0     0.0  private    89.0      1.0         0.00  ...         0.00   \n",
       "89  1997.0     0.0  private    90.0      1.0    220900.00  ...      2833.33   \n",
       "90  1987.0     0.0   public    91.0      1.0  45018217.52  ...      3836.31   \n",
       "91  2019.0     0.0  private    92.0      1.0         0.00  ...         0.00   \n",
       "92  2004.0     0.0  private    93.0      1.0         0.00  ...         0.00   \n",
       "93  2010.0     0.0  private    94.0      1.0         0.00  ...         0.00   \n",
       "95  1993.0  2006.0  private    95.0      1.0    413004.00  ...         0.00   \n",
       "\n",
       "    sal_tec2008  sal_tec2019  sal_tec2010  sal_tec2011  sal_tec2012  \\\n",
       "85      3925.00      3085.71      2990.04      3202.71      3516.67   \n",
       "86         0.00         0.00         0.00         0.00         0.00   \n",
       "87         0.00         0.00         0.00         0.00         0.00   \n",
       "88         0.00         0.00         0.00         0.00         0.00   \n",
       "89      3575.00      2962.75      3116.93      3286.85      4650.03   \n",
       "90      2984.12      3021.27      3190.84      3356.29      3686.81   \n",
       "91         0.00         0.00         0.00         0.00         0.00   \n",
       "92      4569.00      4615.00      5375.00      4698.00      6863.00   \n",
       "93         0.00         0.00      3439.60      4800.00      3417.45   \n",
       "95         0.00         0.00         0.00         0.00         0.00   \n",
       "\n",
       "    sal_tec2013  sal_tec2014 sal_tec2015  sal_tec2016  \n",
       "85      4145.83      6693.75     5641.67      6605.00  \n",
       "86         0.00         0.00        0.00      5000.00  \n",
       "87         0.00      5624.00        0.00         0.00  \n",
       "88         0.00         0.00     5736.96      5800.00  \n",
       "89      4100.00      4103.83     4749.78      4563.17  \n",
       "90      3737.21      4189.40     4754.71      4671.84  \n",
       "91         0.00         0.00        0.00         0.00  \n",
       "92      6433.17      7015.64     4450.00      4500.00  \n",
       "93      3807.43      2897.10     3996.96      5841.01  \n",
       "95         0.00         0.00        0.00         0.00  \n",
       "\n",
       "[10 rows x 363 columns]"
      ]
     },
     "execution_count": 29,
     "metadata": {},
     "output_type": "execute_result"
    }
   ],
   "source": [
    "sez.tail(10)"
   ]
  },
  {
   "cell_type": "code",
   "execution_count": 30,
   "id": "ac934be4-b6be-4a67-a719-168d23322559",
   "metadata": {},
   "outputs": [],
   "source": [
    "inv = pd.read_csv(\"/Users/hendrixperalta/Desktop/Research Data Manipulation/research_data/sez_investment/inv00-19.csv\", \n",
    "                  encoding='cp1252')"
   ]
  }
 ],
 "metadata": {
  "kernelspec": {
   "display_name": "Python 3 (ipykernel)",
   "language": "python",
   "name": "python3"
  },
  "language_info": {
   "codemirror_mode": {
    "name": "ipython",
    "version": 3
   },
   "file_extension": ".py",
   "mimetype": "text/x-python",
   "name": "python",
   "nbconvert_exporter": "python",
   "pygments_lexer": "ipython3",
   "version": "3.12.0"
  }
 },
 "nbformat": 4,
 "nbformat_minor": 5
}
