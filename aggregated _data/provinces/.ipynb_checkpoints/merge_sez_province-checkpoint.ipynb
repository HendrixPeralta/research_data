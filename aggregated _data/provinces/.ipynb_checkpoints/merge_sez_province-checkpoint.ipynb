{
 "cells": [
  {
   "cell_type": "code",
   "execution_count": 1,
   "id": "3f841429-424d-4db5-a053-cd6f4e850fe7",
   "metadata": {},
   "outputs": [],
   "source": [
    "import pandas as pd"
   ]
  },
  {
   "cell_type": "code",
   "execution_count": 53,
   "id": "cad32817-47b4-4498-9e16-244cf7ccda9f",
   "metadata": {},
   "outputs": [],
   "source": [
    "# Read geospatial data\n",
    "\n",
    "sez = pd.read_csv(\"joined_sez_map.csv\")"
   ]
  },
  {
   "cell_type": "code",
   "execution_count": 52,
   "id": "71f510d2-4da5-408c-958f-a8856996416b",
   "metadata": {},
   "outputs": [],
   "source": [
    "# Read and manipulation of the population data\n",
    "\n",
    "pop = pd.read_csv(\"/Users/hendrixperalta/Desktop/Research Data Manipulation/research_data/adm1/population/p_landscan_pop.csv\")\n",
    "pop.rename(columns = {\"asdf_id\" : \"id\"}, inplace=True)\n",
    "column_filter = pop[pop.columns[pop.columns.str.contains(\"land\")]]\n",
    "\n",
    "for col in column_filter:\n",
    "    new_name = \"pop\" + col.split(\".\", 1)[1]\n",
    "    pop.rename(columns = {col : new_name}, inplace = True)\n",
    "\n",
    "pop_sum = pop[pop.columns[pop.columns.str.contains(\"sum|id\")]]\n",
    "pop_sum.columns = pop_sum.columns.str.replace(\".sum$\", \"\", regex=True)\n",
    "\n",
    "#pop_sum.dtypes"
   ]
  },
  {
   "cell_type": "code",
   "execution_count": 55,
   "id": "9206eda9-fa2f-4cb0-a951-812a36fef24f",
   "metadata": {},
   "outputs": [],
   "source": [
    "# Read and manipulation of hte precipitation data\n",
    "\n",
    "#prep = pd.read_csv(\"/Users/hendrixperalta/Desktop/Research Data Manipulation/research_data/adm2/precipitation/precipitation_00_22.csv\")\n",
    "#prep_filter = prep[prep.columns[prep.columns.str.contains(\"pre_yearly\")]]\n",
    "\n",
    "#for col in prep_filter: \n",
    "#    new_name = \"prep\" + col.split(\".\", 1)[1]\n",
    "#    prep.rename(columns = {col : new_name}, inplace = True)\n",
    "\n",
    "#prep.columns = prep.columns.str.replace(\".mean$\", \"\", regex=True)\n",
    "#prep.rename(columns = {\"asdf_id\" : \"id\"}, inplace=True)\n",
    "#prep = prep[prep.columns[prep.columns.str.contains(\"prep|id\")]]"
   ]
  },
  {
   "cell_type": "code",
   "execution_count": 58,
   "id": "598e9ce7-3603-4884-914e-ae322c4101f4",
   "metadata": {},
   "outputs": [],
   "source": [
    "# Read and manipulation of the temperature data\n",
    "\n",
    "temp = pd.read_csv(\"/Users/hendrixperalta/Desktop/Research Data Manipulation/research_data/adm1/temperature/p_landsurface_temp.csv\")\n",
    "temp.rename(columns = {\"asdf_id\" : \"id\"}, inplace=True)\n",
    "temp_filter = temp[temp.columns[temp.columns.str.contains(\"mod11c3_061\")]]\n",
    "temp_filter = temp_filter[temp_filter.columns[temp_filter.columns.str.contains(\".mean.1\")]]\n",
    "\n",
    "for col in temp_filter: \n",
    "    new_name = \"temp\" + col.split(\".\", 1)[1]\n",
    "    temp.rename(columns = {col : new_name}, inplace=True)\n",
    "\n",
    "temp.columns = temp.columns.str.replace(\".mean.1\", \"\", regex=True)\n",
    "temp = temp[temp.columns[temp.columns.str.contains(\"temp|id\")]]\n",
    "# temp.columns"
   ]
  },
  {
   "cell_type": "code",
   "execution_count": 60,
   "id": "f954f11a-3c51-4258-bf9d-58d5143449b2",
   "metadata": {},
   "outputs": [],
   "source": [
    "# Read and manipulation of the Agriculture land cover data\n",
    "\n",
    "agri = pd.read_csv(\"/Users/hendrixperalta/Desktop/Research Data Manipulation/research_data/adm1/landcover/agriculture_land_wide_adm1.csv\")\n",
    "agri.rename(columns = {\"provinceCode\" : \"id\"}, inplace=True)\n",
    "agri = agri[agri.columns[agri.columns.str.contains(\"agr|id\")]]\n",
    "#agri.columns"
   ]
  },
  {
   "cell_type": "code",
   "execution_count": 64,
   "id": "4105a4fb-898a-40a0-aa61-64af7f8f410f",
   "metadata": {},
   "outputs": [],
   "source": [
    "# Read and manupulation of the Urban land cover data\n",
    "\n",
    "urba = pd.read_csv(\"/Users/hendrixperalta/Desktop/Research Data Manipulation/research_data/adm1/landcover/urban_land_wide_adm1.csv\")\n",
    "urba.rename(columns = {\"provinceCode\" : \"id\"}, inplace=True)\n",
    "urba = urba[urba.columns[urba.columns.str.contains(\"urb|id\")]]\n",
    "#urba.columns"
   ]
  },
  {
   "cell_type": "code",
   "execution_count": 67,
   "id": "ac4c34fb-5ab7-4714-9c66-2519ffd32707",
   "metadata": {},
   "outputs": [],
   "source": [
    "# Read and manipulation of the NPP NTL data \n",
    "\n",
    "ntl = pd.read_csv(\"/Users/hendrixperalta/Desktop/Research Data Manipulation/research_data/adm1/ntl/wide_ntl_adm1_2000_2021.csv\")\n",
    "ntl = ntl[ntl.columns[ntl.columns.str.contains(\"ntl|id\")]]\n",
    "#ntl.columns"
   ]
  },
  {
   "cell_type": "code",
   "execution_count": 70,
   "id": "5861d452-d103-4a51-8b15-552fcdc1f318",
   "metadata": {},
   "outputs": [],
   "source": [
    "# Read and manipulation of the Electricity consumption revised GDP \n",
    "\n",
    "egdp = pd.read_csv(\"/Users/hendrixperalta/Desktop/Research Data Manipulation/research_data/adm1/ntl/egdp_sum_wide_00-16.csv\")\n",
    "egdp = egdp[egdp.columns[egdp.columns.str.contains(\"egdp|id\")]]\n",
    "#egdp.columns"
   ]
  },
  {
   "cell_type": "code",
   "execution_count": 75,
   "id": "59ba9591-df31-47ae-b26f-129075625148",
   "metadata": {},
   "outputs": [],
   "source": [
    "# Unifies the different datasets \n",
    "\n",
    "datasets = [temp, agri, urba, ntl, egdp]\n",
    "municipality_data = pd.merge(sez, pop_sum[pop_sum.columns[pop_sum.columns.str.contains(\"pop|id\")]], on=\"id\", how=\"outer\")\n",
    "\n",
    "for dataset in datasets: \n",
    "    municipality_data = pd.merge(municipality_data, dataset, on=\"id\", how= \"outer\")\n",
    "\n",
    "\n",
    "\n",
    "# Filters out the years from 2017 to 2022\n",
    "\n",
    "filter_year = [\"2017\", \"2018\", \"2018\", \"2019\", \"2020\", \"2021\", \"2022\", \"2023\",\"1999\"]\n",
    "\n",
    "pattern = \"|\".join(filter_year)\n",
    "municipality_data = municipality_data.drop(columns = municipality_data.columns[municipality_data.columns.str.contains(pattern)])"
   ]
  },
  {
   "cell_type": "code",
   "execution_count": 77,
   "id": "979341ac-7878-4564-a6a6-ce071a22bd95",
   "metadata": {},
   "outputs": [],
   "source": [
    "var_names = [\"inv\", \"ob_f_\",\"tec_f_\",\"adm_f_\",\"ob_m_\",\"tec_m_\",\"adm_m_\",'ent', 'ele', \"com\", \n",
    "\"inf\", \"wat\", \"tss\", \"buiilt\", \"ocu\", \"sal_op\", \"sal_tec\", \"pop\", \"prep\", \"temp\", \"agr_\", \"urb_\", \"ntl_\"]\n",
    "\n",
    "pattern2 = \"|\".join(var_names)\n",
    "long_df = pd.wide_to_long(municipality_data, stubnames=var_names, i='id', j='year', sep='')\n",
    "long_df = long_df[long_df.columns[long_df.columns.str.contains(\"shape|id|year\")|long_df.columns.str.contains(pattern2)]]\n",
    "long_df =  long_df.drop(columns = \"sez_id\")\n"
   ]
  },
  {
   "cell_type": "code",
   "execution_count": 76,
   "id": "95d5415b-57ba-4093-a816-8f934147c950",
   "metadata": {},
   "outputs": [],
   "source": [
    "# Exports the data in a long format \n",
    "\n",
    "long_df.to_csv(\"long_province_sez.csv\")"
   ]
  },
  {
   "cell_type": "code",
   "execution_count": null,
   "id": "73d6e1e0-c3a2-4b26-9916-2c96a610f2bf",
   "metadata": {},
   "outputs": [],
   "source": []
  },
  {
   "cell_type": "code",
   "execution_count": null,
   "id": "e1ff2f29-18d4-434a-98b1-e583ea5f6b9e",
   "metadata": {},
   "outputs": [],
   "source": []
  }
 ],
 "metadata": {
  "kernelspec": {
   "display_name": "Python 3 (ipykernel)",
   "language": "python",
   "name": "python3"
  },
  "language_info": {
   "codemirror_mode": {
    "name": "ipython",
    "version": 3
   },
   "file_extension": ".py",
   "mimetype": "text/x-python",
   "name": "python",
   "nbconvert_exporter": "python",
   "pygments_lexer": "ipython3",
   "version": "3.12.0"
  }
 },
 "nbformat": 4,
 "nbformat_minor": 5
}
