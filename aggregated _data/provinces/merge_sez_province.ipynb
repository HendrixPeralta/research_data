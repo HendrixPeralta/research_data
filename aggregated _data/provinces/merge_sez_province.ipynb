{
 "cells": [
  {
   "cell_type": "code",
   "execution_count": 1,
   "id": "3f841429-424d-4db5-a053-cd6f4e850fe7",
   "metadata": {},
   "outputs": [],
   "source": [
    "import pandas as pd"
   ]
  },
  {
   "cell_type": "code",
   "execution_count": 2,
   "id": "cad32817-47b4-4498-9e16-244cf7ccda9f",
   "metadata": {},
   "outputs": [],
   "source": [
    "sez = pd.read_csv(\"joined_sez_map.csv\")"
   ]
  },
  {
   "cell_type": "code",
   "execution_count": null,
   "id": "4c5eebbe-ae43-434e-9808-e8ed34426afa",
   "metadata": {},
   "outputs": [],
   "source": []
  },
  {
   "cell_type": "code",
   "execution_count": 3,
   "id": "71f510d2-4da5-408c-958f-a8856996416b",
   "metadata": {},
   "outputs": [],
   "source": [
    "pop = pd.read_csv(\"/Users/hendrixperalta/Desktop/Research Data Manipulation/research_data/adm1/population/p_landscan_pop.csv\")"
   ]
  },
  {
   "cell_type": "code",
   "execution_count": 4,
   "id": "07594ec8-8183-4b51-9cf2-c7641d47c79a",
   "metadata": {},
   "outputs": [],
   "source": [
    "pop.rename(columns = {\"asdf_id\" : \"id\"}, inplace=True)"
   ]
  },
  {
   "cell_type": "code",
   "execution_count": 5,
   "id": "dc52e9cd-c755-48df-9417-0a796d48ee6b",
   "metadata": {},
   "outputs": [],
   "source": [
    "column_filter = pop[pop.columns[pop.columns.str.contains(\"land\")]]"
   ]
  },
  {
   "cell_type": "code",
   "execution_count": 6,
   "id": "122e9210-94a9-4a1d-90f6-63cd8350309b",
   "metadata": {},
   "outputs": [],
   "source": [
    "for col in column_filter:\n",
    "    new_name = \"pop\" + col.split(\".\", 1)[1]\n",
    "    pop.rename(columns = {col : new_name}, inplace = True)"
   ]
  },
  {
   "cell_type": "code",
   "execution_count": 7,
   "id": "05550afc-c42e-4a31-842c-38233f9fc8d8",
   "metadata": {},
   "outputs": [],
   "source": [
    "pop_sum = pop[pop.columns[pop.columns.str.contains(\"sum|id\")]]"
   ]
  },
  {
   "cell_type": "code",
   "execution_count": 8,
   "id": "bda78007-b56d-458e-a949-592f5fb202b3",
   "metadata": {},
   "outputs": [],
   "source": [
    "pop_sum.columns = pop_sum.columns.str.replace(\".sum$\", \"\", regex=True)"
   ]
  },
  {
   "cell_type": "code",
   "execution_count": 9,
   "id": "9b2ebc4f-6924-4d0a-9afc-d52fb97d3aad",
   "metadata": {},
   "outputs": [
    {
     "data": {
      "text/plain": [
       "id           int64\n",
       "pop2000    float64\n",
       "pop2001    float64\n",
       "pop2002    float64\n",
       "pop2003    float64\n",
       "pop2004    float64\n",
       "pop2005    float64\n",
       "pop2006    float64\n",
       "pop2007    float64\n",
       "pop2008    float64\n",
       "pop2009    float64\n",
       "pop2010    float64\n",
       "pop2011    float64\n",
       "pop2012    float64\n",
       "pop2013    float64\n",
       "pop2014    float64\n",
       "pop2015    float64\n",
       "pop2016    float64\n",
       "pop2017    float64\n",
       "pop2018    float64\n",
       "pop2019    float64\n",
       "pop2020    float64\n",
       "pop2021    float64\n",
       "dtype: object"
      ]
     },
     "execution_count": 9,
     "metadata": {},
     "output_type": "execute_result"
    }
   ],
   "source": [
    "pop_sum.dtypes"
   ]
  },
  {
   "cell_type": "code",
   "execution_count": null,
   "id": "bc1443c1-4ec8-4cfe-aca2-f78bcc5b47c0",
   "metadata": {},
   "outputs": [],
   "source": []
  },
  {
   "cell_type": "code",
   "execution_count": 10,
   "id": "9206eda9-fa2f-4cb0-a951-812a36fef24f",
   "metadata": {},
   "outputs": [],
   "source": [
    "#prep = pd.read_csv(\"/Users/hendrixperalta/Desktop/Research Data Manipulation/research_data/adm2/precipitation/precipitation_00_22.csv\")"
   ]
  },
  {
   "cell_type": "code",
   "execution_count": 11,
   "id": "32ae923c-a3a9-4113-8b45-1e81b208c614",
   "metadata": {},
   "outputs": [],
   "source": [
    "#prep_filter = prep[prep.columns[prep.columns.str.contains(\"pre_yearly\")]]"
   ]
  },
  {
   "cell_type": "code",
   "execution_count": 12,
   "id": "ce192ac1-7339-4355-adaf-629a562e1bf8",
   "metadata": {},
   "outputs": [],
   "source": [
    "#for col in prep_filter: \n",
    "#    new_name = \"prep\" + col.split(\".\", 1)[1]\n",
    "#    prep.rename(columns = {col : new_name}, inplace = True)"
   ]
  },
  {
   "cell_type": "code",
   "execution_count": 13,
   "id": "1e8b7cc2-9764-4be4-abb3-c1a24b6307a2",
   "metadata": {},
   "outputs": [],
   "source": [
    "#prep.columns = prep.columns.str.replace(\".mean$\", \"\", regex=True)"
   ]
  },
  {
   "cell_type": "code",
   "execution_count": 14,
   "id": "1cec8788-ebec-48ea-badf-89261f9ffd94",
   "metadata": {},
   "outputs": [],
   "source": [
    "#prep.rename(columns = {\"asdf_id\" : \"id\"}, inplace=True)"
   ]
  },
  {
   "cell_type": "code",
   "execution_count": 15,
   "id": "add25a96-a4ec-4fff-819c-ab28a49ff43d",
   "metadata": {},
   "outputs": [],
   "source": [
    "#prep = prep[prep.columns[prep.columns.str.contains(\"prep|id\")]]"
   ]
  },
  {
   "cell_type": "code",
   "execution_count": null,
   "id": "e79828cc-15fc-41c7-9692-bd9279c2cc7d",
   "metadata": {},
   "outputs": [],
   "source": []
  },
  {
   "cell_type": "code",
   "execution_count": null,
   "id": "a733aa8d-217c-4da6-9a25-1081d3875d43",
   "metadata": {},
   "outputs": [],
   "source": []
  },
  {
   "cell_type": "code",
   "execution_count": 16,
   "id": "598e9ce7-3603-4884-914e-ae322c4101f4",
   "metadata": {},
   "outputs": [],
   "source": [
    "temp = pd.read_csv(\"/Users/hendrixperalta/Desktop/Research Data Manipulation/research_data/adm1/temperature/p_landsurface_temp.csv\")"
   ]
  },
  {
   "cell_type": "code",
   "execution_count": 17,
   "id": "a6b5bf66-8756-466a-a126-6213d6572ff3",
   "metadata": {},
   "outputs": [],
   "source": [
    "temp.rename(columns = {\"asdf_id\" : \"id\"}, inplace=True)"
   ]
  },
  {
   "cell_type": "code",
   "execution_count": 18,
   "id": "088f699a-d6bb-40ca-8952-705f24c48cbc",
   "metadata": {},
   "outputs": [],
   "source": [
    "temp_filter = temp[temp.columns[temp.columns.str.contains(\"mod11c3_061\")]]"
   ]
  },
  {
   "cell_type": "code",
   "execution_count": 19,
   "id": "ed042f5e-588d-4f45-ad54-bfe759c762a5",
   "metadata": {},
   "outputs": [],
   "source": [
    "temp_filter = temp_filter[temp_filter.columns[temp_filter.columns.str.contains(\".mean.1\")]]"
   ]
  },
  {
   "cell_type": "code",
   "execution_count": 20,
   "id": "3211da4d-dfdb-4bf8-aa02-983c607d5283",
   "metadata": {},
   "outputs": [],
   "source": [
    "for col in temp_filter: \n",
    "    new_name = \"temp\" + col.split(\".\", 1)[1]\n",
    "    temp.rename(columns = {col : new_name}, inplace=True)"
   ]
  },
  {
   "cell_type": "code",
   "execution_count": 21,
   "id": "b166ea7f-97b4-4f0b-8884-a3791f4840a9",
   "metadata": {},
   "outputs": [],
   "source": [
    "temp.columns = temp.columns.str.replace(\".mean.1\", \"\", regex=True)"
   ]
  },
  {
   "cell_type": "code",
   "execution_count": 22,
   "id": "cf9c6080-e847-44ce-a97c-d6adb4548fa7",
   "metadata": {},
   "outputs": [],
   "source": [
    "temp = temp[temp.columns[temp.columns.str.contains(\"temp|id\")]]"
   ]
  },
  {
   "cell_type": "code",
   "execution_count": 23,
   "id": "2c8abce5-9421-4000-8a88-d918abc2c7fc",
   "metadata": {},
   "outputs": [
    {
     "data": {
      "text/plain": [
       "Index(['id', 'temp2000', 'temp2001', 'temp2002', 'temp2003', 'temp2004',\n",
       "       'temp2005', 'temp2006', 'temp2007', 'temp2008', 'temp2009', 'temp2010',\n",
       "       'temp2011', 'temp2012', 'temp2013', 'temp2014', 'temp2015', 'temp2016',\n",
       "       'temp2017', 'temp2018', 'temp2019', 'temp2020', 'temp2021', 'temp2022',\n",
       "       'temp2023'],\n",
       "      dtype='object')"
      ]
     },
     "execution_count": 23,
     "metadata": {},
     "output_type": "execute_result"
    }
   ],
   "source": [
    "temp.columns"
   ]
  },
  {
   "cell_type": "code",
   "execution_count": null,
   "id": "2533f4ad-bb54-48d5-b253-7599f3b02247",
   "metadata": {},
   "outputs": [],
   "source": []
  },
  {
   "cell_type": "code",
   "execution_count": 24,
   "id": "f954f11a-3c51-4258-bf9d-58d5143449b2",
   "metadata": {},
   "outputs": [],
   "source": [
    "agri = pd.read_csv(\"/Users/hendrixperalta/Desktop/Research Data Manipulation/research_data/adm1/landcover/agriculture_land_wide_adm1.csv\")"
   ]
  },
  {
   "cell_type": "code",
   "execution_count": 25,
   "id": "7ac9cf78-17d9-461d-9b0b-48c67e0f065f",
   "metadata": {},
   "outputs": [],
   "source": [
    "agri.rename(columns = {\"provinceCode\" : \"id\"}, inplace=True)"
   ]
  },
  {
   "cell_type": "code",
   "execution_count": 26,
   "id": "f0b6f1b3-43ef-4c55-ac53-2d250b0aaf9d",
   "metadata": {},
   "outputs": [],
   "source": [
    "agri = agri[agri.columns[agri.columns.str.contains(\"agr|id\")]]"
   ]
  },
  {
   "cell_type": "code",
   "execution_count": 27,
   "id": "04ee6cca-eec5-4a66-9c67-625d04870bdf",
   "metadata": {},
   "outputs": [
    {
     "data": {
      "text/plain": [
       "Index(['id', 'agr2001', 'agr2002', 'agr2003', 'agr2004', 'agr2005', 'agr2006',\n",
       "       'agr2007', 'agr2008', 'agr2009', 'agr2010', 'agr2011', 'agr2012',\n",
       "       'agr2013', 'agr2014', 'agr2015', 'agr2016', 'agr2017', 'agr2018',\n",
       "       'agr2019', 'agr2020', 'agr2021', 'agr2022'],\n",
       "      dtype='object')"
      ]
     },
     "execution_count": 27,
     "metadata": {},
     "output_type": "execute_result"
    }
   ],
   "source": [
    "agri.columns"
   ]
  },
  {
   "cell_type": "code",
   "execution_count": 28,
   "id": "4105a4fb-898a-40a0-aa61-64af7f8f410f",
   "metadata": {},
   "outputs": [],
   "source": [
    "urba = pd.read_csv(\"/Users/hendrixperalta/Desktop/Research Data Manipulation/research_data/adm1/landcover/urban_land_wide_adm1.csv\")"
   ]
  },
  {
   "cell_type": "code",
   "execution_count": 29,
   "id": "31232208-beaf-42d4-b23c-dd73bb6e0b00",
   "metadata": {},
   "outputs": [],
   "source": [
    "urba.rename(columns = {\"provinceCode\" : \"id\"}, inplace=True)"
   ]
  },
  {
   "cell_type": "code",
   "execution_count": 30,
   "id": "f8c5952d-e48b-4b2f-9c8a-e3dedaf60c72",
   "metadata": {},
   "outputs": [],
   "source": [
    "urba = urba[urba.columns[urba.columns.str.contains(\"urb|id\")]]"
   ]
  },
  {
   "cell_type": "code",
   "execution_count": 31,
   "id": "2f25105f-5781-4c53-bd22-1ad91166d065",
   "metadata": {},
   "outputs": [
    {
     "data": {
      "text/plain": [
       "Index(['id', 'urb2001', 'urb2002', 'urb2003', 'urb2004', 'urb2005', 'urb2006',\n",
       "       'urb2007', 'urb2008', 'urb2009', 'urb2010', 'urb2011', 'urb2012',\n",
       "       'urb2013', 'urb2014', 'urb2015', 'urb2016', 'urb2017', 'urb2018',\n",
       "       'urb2019', 'urb2020', 'urb2021', 'urb2022'],\n",
       "      dtype='object')"
      ]
     },
     "execution_count": 31,
     "metadata": {},
     "output_type": "execute_result"
    }
   ],
   "source": [
    "urba.columns"
   ]
  },
  {
   "cell_type": "code",
   "execution_count": null,
   "id": "700ba25c-c1ac-41ed-aa78-f851ec3488ea",
   "metadata": {},
   "outputs": [],
   "source": []
  },
  {
   "cell_type": "code",
   "execution_count": 32,
   "id": "ac4c34fb-5ab7-4714-9c66-2519ffd32707",
   "metadata": {},
   "outputs": [],
   "source": [
    "ntl = pd.read_csv(\"/Users/hendrixperalta/Desktop/Research Data Manipulation/research_data/adm1/ntl/wide_ntl_adm1_2000_2021.csv\")"
   ]
  },
  {
   "cell_type": "code",
   "execution_count": 33,
   "id": "f3c31c5f-3e49-4e53-968f-5755209fdf3e",
   "metadata": {},
   "outputs": [],
   "source": [
    "ntl = ntl[ntl.columns[ntl.columns.str.contains(\"ntl|id\")]]"
   ]
  },
  {
   "cell_type": "code",
   "execution_count": 34,
   "id": "9450a438-15b0-41c2-b4b3-da710f2c1f83",
   "metadata": {},
   "outputs": [
    {
     "data": {
      "text/plain": [
       "Index(['id', 'ntl2000', 'ntl2001', 'ntl2002', 'ntl2003', 'ntl2004', 'ntl2005',\n",
       "       'ntl2006', 'ntl2007', 'ntl2008', 'ntl2009', 'ntl2010', 'ntl2011',\n",
       "       'ntl2012', 'ntl2013', 'ntl2014', 'ntl2015', 'ntl2016', 'ntl2017',\n",
       "       'ntl2018', 'ntl2019', 'ntl2020', 'ntl2021', 'ntl2022'],\n",
       "      dtype='object')"
      ]
     },
     "execution_count": 34,
     "metadata": {},
     "output_type": "execute_result"
    }
   ],
   "source": [
    "ntl.columns"
   ]
  },
  {
   "cell_type": "code",
   "execution_count": null,
   "id": "12af869a-952d-4a10-b642-c8d469a0cd08",
   "metadata": {},
   "outputs": [],
   "source": []
  },
  {
   "cell_type": "code",
   "execution_count": 35,
   "id": "5861d452-d103-4a51-8b15-552fcdc1f318",
   "metadata": {},
   "outputs": [],
   "source": [
    "egdp = pd.read_csv(\"/Users/hendrixperalta/Desktop/Research Data Manipulation/research_data/adm1/ntl/egdp_sum_wide_00-16.csv\")"
   ]
  },
  {
   "cell_type": "code",
   "execution_count": 36,
   "id": "ebefb1a8-1f12-48b7-8709-230bd4537543",
   "metadata": {},
   "outputs": [],
   "source": [
    "egdp = egdp[egdp.columns[egdp.columns.str.contains(\"egdp|id\")]]"
   ]
  },
  {
   "cell_type": "code",
   "execution_count": 37,
   "id": "1a704b1a-17ac-4f34-8661-87ea6f23cf29",
   "metadata": {},
   "outputs": [
    {
     "data": {
      "text/plain": [
       "Index(['id', 'egdp2000', 'egdp2001', 'egdp2002', 'egdp2003', 'egdp2004',\n",
       "       'egdp2005', 'egdp2006', 'egdp2007', 'egdp2008', 'egdp2009', 'egdp2010',\n",
       "       'egdp2011', 'egdp2012', 'egdp2013', 'egdp2014', 'egdp2015', 'egdp2016'],\n",
       "      dtype='object')"
      ]
     },
     "execution_count": 37,
     "metadata": {},
     "output_type": "execute_result"
    }
   ],
   "source": [
    "egdp.columns"
   ]
  },
  {
   "cell_type": "code",
   "execution_count": null,
   "id": "e14ba5a3-9564-4732-88bf-2b7d745b4d13",
   "metadata": {},
   "outputs": [],
   "source": []
  },
  {
   "cell_type": "code",
   "execution_count": 38,
   "id": "59ba9591-df31-47ae-b26f-129075625148",
   "metadata": {},
   "outputs": [],
   "source": [
    "datasets = [temp, agri, urba, ntl, egdp]"
   ]
  },
  {
   "cell_type": "code",
   "execution_count": 39,
   "id": "a4ca7878-a24b-44ce-aa71-9560e9187716",
   "metadata": {},
   "outputs": [],
   "source": [
    "municipality_data = pd.merge(sez, pop_sum[pop_sum.columns[pop_sum.columns.str.contains(\"pop|id\")]], on=\"id\", how=\"outer\")"
   ]
  },
  {
   "cell_type": "code",
   "execution_count": 40,
   "id": "767d4b02-64ee-4784-9ba5-1ad2791890b9",
   "metadata": {},
   "outputs": [],
   "source": [
    "for dataset in datasets: \n",
    "    municipality_data = pd.merge(municipality_data, dataset, on=\"id\", how= \"outer\")"
   ]
  },
  {
   "cell_type": "code",
   "execution_count": null,
   "id": "9a183a2b-4391-40b0-b1d7-f6b64157df5e",
   "metadata": {},
   "outputs": [],
   "source": []
  },
  {
   "cell_type": "code",
   "execution_count": null,
   "id": "a060f1f2-392d-491d-a8c4-5b6320de975b",
   "metadata": {},
   "outputs": [],
   "source": []
  },
  {
   "cell_type": "code",
   "execution_count": 41,
   "id": "0d236f89-14ff-42af-b947-15c941a25937",
   "metadata": {},
   "outputs": [],
   "source": [
    "filter_year = [\"2017\", \"2018\", \"2018\", \"2019\", \"2020\", \"2021\", \"2022\", \"2023\",\"1999\"]\n",
    "\n",
    "pattern = \"|\".join(filter_year)\n",
    "municipality_data = municipality_data.drop(columns = municipality_data.columns[municipality_data.columns.str.contains(pattern)])"
   ]
  },
  {
   "cell_type": "code",
   "execution_count": 42,
   "id": "71dd0fe4-4ee1-41b8-9996-6b8eca863f9b",
   "metadata": {},
   "outputs": [],
   "source": [
    "#municipality_data.to_csv(\"municipality_data.csv\", index=False)"
   ]
  },
  {
   "cell_type": "code",
   "execution_count": null,
   "id": "049a8736-5db3-4f4e-826a-333426382dbd",
   "metadata": {},
   "outputs": [],
   "source": []
  },
  {
   "cell_type": "code",
   "execution_count": null,
   "id": "5779e5cd-a9f9-4ab9-ab46-27ce3e890927",
   "metadata": {},
   "outputs": [],
   "source": []
  },
  {
   "cell_type": "code",
   "execution_count": 43,
   "id": "979341ac-7878-4564-a6a6-ce071a22bd95",
   "metadata": {},
   "outputs": [],
   "source": [
    "var_names = [\"inv\", \"ob_f_\",\"tec_f_\",\"adm_f_\",\"ob_m_\",\"tec_m_\",\"adm_m_\",'ent', 'ele', \"com\", \n",
    "\"inf\", \"wat\", \"tss\", \"buiilt\", \"ocu\", \"sal_op\", \"sal_tec\", \"pop\", \"prep\", \"temp\", \"agr_\", \"urb_\", \"ntl_\"]"
   ]
  },
  {
   "cell_type": "code",
   "execution_count": 44,
   "id": "801f995d-8df9-4389-b066-5e5aa94a86df",
   "metadata": {},
   "outputs": [],
   "source": [
    "pattern2 = \"|\".join(var_names)"
   ]
  },
  {
   "cell_type": "code",
   "execution_count": 45,
   "id": "ec8f251d-6362-4d97-84e4-a24f8aed6b97",
   "metadata": {},
   "outputs": [],
   "source": [
    "long_df = pd.wide_to_long(municipality_data, stubnames=var_names, i='id', j='year', sep='')\n"
   ]
  },
  {
   "cell_type": "code",
   "execution_count": 46,
   "id": "2c7d751a-b994-4c59-aa1c-a3c1f0545e50",
   "metadata": {},
   "outputs": [],
   "source": [
    "long_df = long_df[long_df.columns[long_df.columns.str.contains(\"shape|id|year\")|long_df.columns.str.contains(pattern2)]]"
   ]
  },
  {
   "cell_type": "code",
   "execution_count": 47,
   "id": "928b494d-b825-40e9-9191-999cad591103",
   "metadata": {},
   "outputs": [],
   "source": [
    "#long_df =  long_df.drop(columns = \"id.1\")\n",
    "long_df =  long_df.drop(columns = \"sez_id\")"
   ]
  },
  {
   "cell_type": "code",
   "execution_count": null,
   "id": "3eb992e6-2b87-4d41-80dc-1337b43aeb9e",
   "metadata": {},
   "outputs": [],
   "source": []
  },
  {
   "cell_type": "code",
   "execution_count": 48,
   "id": "cc0fbdfb-16aa-4130-a43b-4065c4279eba",
   "metadata": {},
   "outputs": [
    {
     "data": {
      "text/html": [
       "<div>\n",
       "<style scoped>\n",
       "    .dataframe tbody tr th:only-of-type {\n",
       "        vertical-align: middle;\n",
       "    }\n",
       "\n",
       "    .dataframe tbody tr th {\n",
       "        vertical-align: top;\n",
       "    }\n",
       "\n",
       "    .dataframe thead th {\n",
       "        text-align: right;\n",
       "    }\n",
       "</style>\n",
       "<table border=\"1\" class=\"dataframe\">\n",
       "  <thead>\n",
       "    <tr style=\"text-align: right;\">\n",
       "      <th></th>\n",
       "      <th></th>\n",
       "      <th>shapeName</th>\n",
       "      <th>year</th>\n",
       "      <th>inv</th>\n",
       "      <th>ob_f_</th>\n",
       "      <th>tec_f_</th>\n",
       "      <th>adm_f_</th>\n",
       "      <th>ob_m_</th>\n",
       "      <th>tec_m_</th>\n",
       "      <th>adm_m_</th>\n",
       "      <th>ent</th>\n",
       "      <th>...</th>\n",
       "      <th>buiilt</th>\n",
       "      <th>ocu</th>\n",
       "      <th>sal_op</th>\n",
       "      <th>sal_tec</th>\n",
       "      <th>pop</th>\n",
       "      <th>prep</th>\n",
       "      <th>temp</th>\n",
       "      <th>agr_</th>\n",
       "      <th>urb_</th>\n",
       "      <th>ntl_</th>\n",
       "    </tr>\n",
       "    <tr>\n",
       "      <th>id</th>\n",
       "      <th>year</th>\n",
       "      <th></th>\n",
       "      <th></th>\n",
       "      <th></th>\n",
       "      <th></th>\n",
       "      <th></th>\n",
       "      <th></th>\n",
       "      <th></th>\n",
       "      <th></th>\n",
       "      <th></th>\n",
       "      <th></th>\n",
       "      <th></th>\n",
       "      <th></th>\n",
       "      <th></th>\n",
       "      <th></th>\n",
       "      <th></th>\n",
       "      <th></th>\n",
       "      <th></th>\n",
       "      <th></th>\n",
       "      <th></th>\n",
       "      <th></th>\n",
       "      <th></th>\n",
       "    </tr>\n",
       "  </thead>\n",
       "  <tbody>\n",
       "    <tr>\n",
       "      <th>0.0</th>\n",
       "      <th>2000</th>\n",
       "      <td>SantiagoSantiagoSantiagoSantiagoSantiagoSantia...</td>\n",
       "      <td>54172.0</td>\n",
       "      <td>3.157257e+08</td>\n",
       "      <td>25544.0</td>\n",
       "      <td>1941.0</td>\n",
       "      <td>982.0</td>\n",
       "      <td>26264.0</td>\n",
       "      <td>3330.0</td>\n",
       "      <td>1258.0</td>\n",
       "      <td>127.0</td>\n",
       "      <td>...</td>\n",
       "      <td>6143797.00</td>\n",
       "      <td>5595246.00</td>\n",
       "      <td>267.621481</td>\n",
       "      <td>547.277778</td>\n",
       "      <td>8.099659e+05</td>\n",
       "      <td>NaN</td>\n",
       "      <td>300.565424</td>\n",
       "      <td>NaN</td>\n",
       "      <td>NaN</td>\n",
       "      <td>NaN</td>\n",
       "    </tr>\n",
       "    <tr>\n",
       "      <th>1.0</th>\n",
       "      <th>2000</th>\n",
       "      <td>DuarteDuarte</td>\n",
       "      <td>4003.0</td>\n",
       "      <td>5.331860e+06</td>\n",
       "      <td>514.0</td>\n",
       "      <td>24.0</td>\n",
       "      <td>11.0</td>\n",
       "      <td>398.0</td>\n",
       "      <td>27.0</td>\n",
       "      <td>10.0</td>\n",
       "      <td>5.0</td>\n",
       "      <td>...</td>\n",
       "      <td>152007.00</td>\n",
       "      <td>107925.00</td>\n",
       "      <td>273.590000</td>\n",
       "      <td>787.500000</td>\n",
       "      <td>3.411766e+05</td>\n",
       "      <td>NaN</td>\n",
       "      <td>301.359654</td>\n",
       "      <td>NaN</td>\n",
       "      <td>NaN</td>\n",
       "      <td>NaN</td>\n",
       "    </tr>\n",
       "    <tr>\n",
       "      <th>2.0</th>\n",
       "      <th>2000</th>\n",
       "      <td>ElÃ­as PiÃ±a</td>\n",
       "      <td>0.0</td>\n",
       "      <td>0.000000e+00</td>\n",
       "      <td>0.0</td>\n",
       "      <td>0.0</td>\n",
       "      <td>0.0</td>\n",
       "      <td>0.0</td>\n",
       "      <td>0.0</td>\n",
       "      <td>0.0</td>\n",
       "      <td>0.0</td>\n",
       "      <td>...</td>\n",
       "      <td>0.00</td>\n",
       "      <td>0.00</td>\n",
       "      <td>0.000000</td>\n",
       "      <td>0.000000</td>\n",
       "      <td>7.681411e+04</td>\n",
       "      <td>NaN</td>\n",
       "      <td>302.439574</td>\n",
       "      <td>NaN</td>\n",
       "      <td>NaN</td>\n",
       "      <td>NaN</td>\n",
       "    </tr>\n",
       "    <tr>\n",
       "      <th>3.0</th>\n",
       "      <th>2000</th>\n",
       "      <td>Hato Mayor</td>\n",
       "      <td>1990.0</td>\n",
       "      <td>2.376975e+06</td>\n",
       "      <td>309.0</td>\n",
       "      <td>8.0</td>\n",
       "      <td>6.0</td>\n",
       "      <td>166.0</td>\n",
       "      <td>17.0</td>\n",
       "      <td>12.0</td>\n",
       "      <td>3.0</td>\n",
       "      <td>...</td>\n",
       "      <td>82000.00</td>\n",
       "      <td>66097.00</td>\n",
       "      <td>587.330000</td>\n",
       "      <td>1700.000000</td>\n",
       "      <td>8.037471e+04</td>\n",
       "      <td>NaN</td>\n",
       "      <td>301.368647</td>\n",
       "      <td>NaN</td>\n",
       "      <td>NaN</td>\n",
       "      <td>NaN</td>\n",
       "    </tr>\n",
       "    <tr>\n",
       "      <th>4.0</th>\n",
       "      <th>2000</th>\n",
       "      <td>La Vega</td>\n",
       "      <td>1987.0</td>\n",
       "      <td>4.501822e+07</td>\n",
       "      <td>5597.0</td>\n",
       "      <td>277.0</td>\n",
       "      <td>156.0</td>\n",
       "      <td>6720.0</td>\n",
       "      <td>526.0</td>\n",
       "      <td>204.0</td>\n",
       "      <td>30.0</td>\n",
       "      <td>...</td>\n",
       "      <td>1283873.00</td>\n",
       "      <td>1283873.00</td>\n",
       "      <td>716.770000</td>\n",
       "      <td>1608.100000</td>\n",
       "      <td>3.776130e+05</td>\n",
       "      <td>NaN</td>\n",
       "      <td>298.775821</td>\n",
       "      <td>NaN</td>\n",
       "      <td>NaN</td>\n",
       "      <td>NaN</td>\n",
       "    </tr>\n",
       "    <tr>\n",
       "      <th>...</th>\n",
       "      <th>...</th>\n",
       "      <td>...</td>\n",
       "      <td>...</td>\n",
       "      <td>...</td>\n",
       "      <td>...</td>\n",
       "      <td>...</td>\n",
       "      <td>...</td>\n",
       "      <td>...</td>\n",
       "      <td>...</td>\n",
       "      <td>...</td>\n",
       "      <td>...</td>\n",
       "      <td>...</td>\n",
       "      <td>...</td>\n",
       "      <td>...</td>\n",
       "      <td>...</td>\n",
       "      <td>...</td>\n",
       "      <td>...</td>\n",
       "      <td>...</td>\n",
       "      <td>...</td>\n",
       "      <td>...</td>\n",
       "      <td>...</td>\n",
       "      <td>...</td>\n",
       "    </tr>\n",
       "    <tr>\n",
       "      <th>27.0</th>\n",
       "      <th>2016</th>\n",
       "      <td>MarÃ­a Trinidad SÃ¡nchez</td>\n",
       "      <td>0.0</td>\n",
       "      <td>0.000000e+00</td>\n",
       "      <td>0.0</td>\n",
       "      <td>0.0</td>\n",
       "      <td>0.0</td>\n",
       "      <td>0.0</td>\n",
       "      <td>0.0</td>\n",
       "      <td>0.0</td>\n",
       "      <td>0.0</td>\n",
       "      <td>...</td>\n",
       "      <td>0.00</td>\n",
       "      <td>0.00</td>\n",
       "      <td>0.000000</td>\n",
       "      <td>0.000000</td>\n",
       "      <td>1.532622e+05</td>\n",
       "      <td>NaN</td>\n",
       "      <td>300.668988</td>\n",
       "      <td>NaN</td>\n",
       "      <td>NaN</td>\n",
       "      <td>NaN</td>\n",
       "    </tr>\n",
       "    <tr>\n",
       "      <th>28.0</th>\n",
       "      <th>2016</th>\n",
       "      <td>Santo DomingoSanto DomingoSanto DomingoSanto D...</td>\n",
       "      <td>38054.0</td>\n",
       "      <td>1.056726e+09</td>\n",
       "      <td>12988.0</td>\n",
       "      <td>2452.0</td>\n",
       "      <td>1159.0</td>\n",
       "      <td>8325.0</td>\n",
       "      <td>3916.0</td>\n",
       "      <td>1122.0</td>\n",
       "      <td>108.0</td>\n",
       "      <td>...</td>\n",
       "      <td>6656768.68</td>\n",
       "      <td>6001185.62</td>\n",
       "      <td>2444.102105</td>\n",
       "      <td>4511.845789</td>\n",
       "      <td>2.627903e+06</td>\n",
       "      <td>NaN</td>\n",
       "      <td>302.331366</td>\n",
       "      <td>NaN</td>\n",
       "      <td>NaN</td>\n",
       "      <td>NaN</td>\n",
       "    </tr>\n",
       "    <tr>\n",
       "      <th>29.0</th>\n",
       "      <th>2016</th>\n",
       "      <td>Monte Plata</td>\n",
       "      <td>0.0</td>\n",
       "      <td>0.000000e+00</td>\n",
       "      <td>0.0</td>\n",
       "      <td>0.0</td>\n",
       "      <td>0.0</td>\n",
       "      <td>0.0</td>\n",
       "      <td>0.0</td>\n",
       "      <td>0.0</td>\n",
       "      <td>0.0</td>\n",
       "      <td>...</td>\n",
       "      <td>0.00</td>\n",
       "      <td>0.00</td>\n",
       "      <td>0.000000</td>\n",
       "      <td>0.000000</td>\n",
       "      <td>2.086535e+05</td>\n",
       "      <td>NaN</td>\n",
       "      <td>300.587101</td>\n",
       "      <td>NaN</td>\n",
       "      <td>NaN</td>\n",
       "      <td>NaN</td>\n",
       "    </tr>\n",
       "    <tr>\n",
       "      <th>30.0</th>\n",
       "      <th>2016</th>\n",
       "      <td>San CristÃ³balSan CristÃ³balSan CristÃ³balSan ...</td>\n",
       "      <td>11976.0</td>\n",
       "      <td>5.246012e+08</td>\n",
       "      <td>7896.0</td>\n",
       "      <td>724.0</td>\n",
       "      <td>747.0</td>\n",
       "      <td>5514.0</td>\n",
       "      <td>1672.0</td>\n",
       "      <td>945.0</td>\n",
       "      <td>62.0</td>\n",
       "      <td>...</td>\n",
       "      <td>3490101.64</td>\n",
       "      <td>3124850.88</td>\n",
       "      <td>2816.296667</td>\n",
       "      <td>5025.721667</td>\n",
       "      <td>6.386656e+05</td>\n",
       "      <td>NaN</td>\n",
       "      <td>299.686331</td>\n",
       "      <td>NaN</td>\n",
       "      <td>NaN</td>\n",
       "      <td>NaN</td>\n",
       "    </tr>\n",
       "    <tr>\n",
       "      <th>31.0</th>\n",
       "      <th>2016</th>\n",
       "      <td>San Pedro de MacorÃ­sSan Pedro de MacorÃ­s</td>\n",
       "      <td>3961.0</td>\n",
       "      <td>3.186001e+08</td>\n",
       "      <td>6523.0</td>\n",
       "      <td>340.0</td>\n",
       "      <td>365.0</td>\n",
       "      <td>3268.0</td>\n",
       "      <td>1021.0</td>\n",
       "      <td>493.0</td>\n",
       "      <td>47.0</td>\n",
       "      <td>...</td>\n",
       "      <td>3693251.90</td>\n",
       "      <td>3301468.11</td>\n",
       "      <td>2671.985000</td>\n",
       "      <td>5455.970000</td>\n",
       "      <td>3.165831e+05</td>\n",
       "      <td>NaN</td>\n",
       "      <td>302.843903</td>\n",
       "      <td>NaN</td>\n",
       "      <td>NaN</td>\n",
       "      <td>NaN</td>\n",
       "    </tr>\n",
       "  </tbody>\n",
       "</table>\n",
       "<p>544 rows × 25 columns</p>\n",
       "</div>"
      ],
      "text/plain": [
       "                                                   shapeName     year  \\\n",
       "id   year                                                               \n",
       "0.0  2000  SantiagoSantiagoSantiagoSantiagoSantiagoSantia...  54172.0   \n",
       "1.0  2000                                       DuarteDuarte   4003.0   \n",
       "2.0  2000                                       ElÃ­as PiÃ±a      0.0   \n",
       "3.0  2000                                         Hato Mayor   1990.0   \n",
       "4.0  2000                                            La Vega   1987.0   \n",
       "...                                                      ...      ...   \n",
       "27.0 2016                           MarÃ­a Trinidad SÃ¡nchez      0.0   \n",
       "28.0 2016  Santo DomingoSanto DomingoSanto DomingoSanto D...  38054.0   \n",
       "29.0 2016                                        Monte Plata      0.0   \n",
       "30.0 2016  San CristÃ³balSan CristÃ³balSan CristÃ³balSan ...  11976.0   \n",
       "31.0 2016         San Pedro de MacorÃ­sSan Pedro de MacorÃ­s   3961.0   \n",
       "\n",
       "                    inv    ob_f_  tec_f_  adm_f_    ob_m_  tec_m_  adm_m_  \\\n",
       "id   year                                                                   \n",
       "0.0  2000  3.157257e+08  25544.0  1941.0   982.0  26264.0  3330.0  1258.0   \n",
       "1.0  2000  5.331860e+06    514.0    24.0    11.0    398.0    27.0    10.0   \n",
       "2.0  2000  0.000000e+00      0.0     0.0     0.0      0.0     0.0     0.0   \n",
       "3.0  2000  2.376975e+06    309.0     8.0     6.0    166.0    17.0    12.0   \n",
       "4.0  2000  4.501822e+07   5597.0   277.0   156.0   6720.0   526.0   204.0   \n",
       "...                 ...      ...     ...     ...      ...     ...     ...   \n",
       "27.0 2016  0.000000e+00      0.0     0.0     0.0      0.0     0.0     0.0   \n",
       "28.0 2016  1.056726e+09  12988.0  2452.0  1159.0   8325.0  3916.0  1122.0   \n",
       "29.0 2016  0.000000e+00      0.0     0.0     0.0      0.0     0.0     0.0   \n",
       "30.0 2016  5.246012e+08   7896.0   724.0   747.0   5514.0  1672.0   945.0   \n",
       "31.0 2016  3.186001e+08   6523.0   340.0   365.0   3268.0  1021.0   493.0   \n",
       "\n",
       "             ent  ...      buiilt         ocu       sal_op      sal_tec  \\\n",
       "id   year         ...                                                     \n",
       "0.0  2000  127.0  ...  6143797.00  5595246.00   267.621481   547.277778   \n",
       "1.0  2000    5.0  ...   152007.00   107925.00   273.590000   787.500000   \n",
       "2.0  2000    0.0  ...        0.00        0.00     0.000000     0.000000   \n",
       "3.0  2000    3.0  ...    82000.00    66097.00   587.330000  1700.000000   \n",
       "4.0  2000   30.0  ...  1283873.00  1283873.00   716.770000  1608.100000   \n",
       "...          ...  ...         ...         ...          ...          ...   \n",
       "27.0 2016    0.0  ...        0.00        0.00     0.000000     0.000000   \n",
       "28.0 2016  108.0  ...  6656768.68  6001185.62  2444.102105  4511.845789   \n",
       "29.0 2016    0.0  ...        0.00        0.00     0.000000     0.000000   \n",
       "30.0 2016   62.0  ...  3490101.64  3124850.88  2816.296667  5025.721667   \n",
       "31.0 2016   47.0  ...  3693251.90  3301468.11  2671.985000  5455.970000   \n",
       "\n",
       "                    pop  prep        temp  agr_  urb_  ntl_  \n",
       "id   year                                                    \n",
       "0.0  2000  8.099659e+05   NaN  300.565424   NaN   NaN   NaN  \n",
       "1.0  2000  3.411766e+05   NaN  301.359654   NaN   NaN   NaN  \n",
       "2.0  2000  7.681411e+04   NaN  302.439574   NaN   NaN   NaN  \n",
       "3.0  2000  8.037471e+04   NaN  301.368647   NaN   NaN   NaN  \n",
       "4.0  2000  3.776130e+05   NaN  298.775821   NaN   NaN   NaN  \n",
       "...                 ...   ...         ...   ...   ...   ...  \n",
       "27.0 2016  1.532622e+05   NaN  300.668988   NaN   NaN   NaN  \n",
       "28.0 2016  2.627903e+06   NaN  302.331366   NaN   NaN   NaN  \n",
       "29.0 2016  2.086535e+05   NaN  300.587101   NaN   NaN   NaN  \n",
       "30.0 2016  6.386656e+05   NaN  299.686331   NaN   NaN   NaN  \n",
       "31.0 2016  3.165831e+05   NaN  302.843903   NaN   NaN   NaN  \n",
       "\n",
       "[544 rows x 25 columns]"
      ]
     },
     "execution_count": 48,
     "metadata": {},
     "output_type": "execute_result"
    }
   ],
   "source": [
    "long_df"
   ]
  },
  {
   "cell_type": "code",
   "execution_count": 49,
   "id": "08d0e6f3-0739-470a-9ddd-5d75a4df2a99",
   "metadata": {},
   "outputs": [
    {
     "data": {
      "text/plain": [
       "shapeName     object\n",
       "year         float64\n",
       "inv          float64\n",
       "ob_f_        float64\n",
       "tec_f_       float64\n",
       "adm_f_       float64\n",
       "ob_m_        float64\n",
       "tec_m_       float64\n",
       "adm_m_       float64\n",
       "ent          float64\n",
       "ele          float64\n",
       "com          float64\n",
       "inf          float64\n",
       "wat          float64\n",
       "tss          float64\n",
       "buiilt       float64\n",
       "ocu          float64\n",
       "sal_op       float64\n",
       "sal_tec      float64\n",
       "pop          float64\n",
       "prep         float64\n",
       "temp         float64\n",
       "agr_         float64\n",
       "urb_         float64\n",
       "ntl_         float64\n",
       "dtype: object"
      ]
     },
     "execution_count": 49,
     "metadata": {},
     "output_type": "execute_result"
    }
   ],
   "source": [
    "long_df.dtypes"
   ]
  },
  {
   "cell_type": "code",
   "execution_count": 50,
   "id": "95d5415b-57ba-4093-a816-8f934147c950",
   "metadata": {},
   "outputs": [],
   "source": [
    "long_df.to_csv(\"long_province_sez.csv\")"
   ]
  },
  {
   "cell_type": "code",
   "execution_count": null,
   "id": "e1ff2f29-18d4-434a-98b1-e583ea5f6b9e",
   "metadata": {},
   "outputs": [],
   "source": []
  }
 ],
 "metadata": {
  "kernelspec": {
   "display_name": "Python 3 (ipykernel)",
   "language": "python",
   "name": "python3"
  },
  "language_info": {
   "codemirror_mode": {
    "name": "ipython",
    "version": 3
   },
   "file_extension": ".py",
   "mimetype": "text/x-python",
   "name": "python",
   "nbconvert_exporter": "python",
   "pygments_lexer": "ipython3",
   "version": "3.12.0"
  }
 },
 "nbformat": 4,
 "nbformat_minor": 5
}
