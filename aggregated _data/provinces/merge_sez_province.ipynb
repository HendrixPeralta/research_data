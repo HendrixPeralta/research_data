{
 "cells": [
  {
   "cell_type": "code",
   "execution_count": 1,
   "id": "3f841429-424d-4db5-a053-cd6f4e850fe7",
   "metadata": {},
   "outputs": [],
   "source": [
    "import pandas as pd"
   ]
  },
  {
   "cell_type": "code",
   "execution_count": 53,
   "id": "cad32817-47b4-4498-9e16-244cf7ccda9f",
   "metadata": {},
   "outputs": [],
   "source": [
    "# Read geospatial data\n",
    "\n",
    "sez = pd.read_csv(\"joined_sez_map.csv\")"
   ]
  },
  {
   "cell_type": "code",
   "execution_count": 52,
   "id": "71f510d2-4da5-408c-958f-a8856996416b",
   "metadata": {},
   "outputs": [],
   "source": [
    "# Read and manipulation of the population data\n",
    "\n",
    "pop = pd.read_csv(\"/Users/hendrixperalta/Desktop/Research Data Manipulation/research_data/adm1/population/p_landscan_pop.csv\")\n",
    "pop.rename(columns = {\"asdf_id\" : \"id\"}, inplace=True)\n",
    "column_filter = pop[pop.columns[pop.columns.str.contains(\"land\")]]\n",
    "\n",
    "for col in column_filter:\n",
    "    new_name = \"pop\" + col.split(\".\", 1)[1]\n",
    "    pop.rename(columns = {col : new_name}, inplace = True)\n",
    "\n",
    "pop_sum = pop[pop.columns[pop.columns.str.contains(\"sum|id\")]]\n",
    "pop_sum.columns = pop_sum.columns.str.replace(\".sum$\", \"\", regex=True)\n",
    "\n",
    "#pop_sum.dtypes"
   ]
  },
  {
   "cell_type": "code",
   "execution_count": 55,
   "id": "9206eda9-fa2f-4cb0-a951-812a36fef24f",
   "metadata": {},
   "outputs": [],
   "source": [
    "# Read and manipulation of hte precipitation data\n",
    "\n",
    "#prep = pd.read_csv(\"/Users/hendrixperalta/Desktop/Research Data Manipulation/research_data/adm2/precipitation/precipitation_00_22.csv\")\n",
    "#prep_filter = prep[prep.columns[prep.columns.str.contains(\"pre_yearly\")]]\n",
    "\n",
    "#for col in prep_filter: \n",
    "#    new_name = \"prep\" + col.split(\".\", 1)[1]\n",
    "#    prep.rename(columns = {col : new_name}, inplace = True)\n",
    "\n",
    "#prep.columns = prep.columns.str.replace(\".mean$\", \"\", regex=True)\n",
    "#prep.rename(columns = {\"asdf_id\" : \"id\"}, inplace=True)\n",
    "#prep = prep[prep.columns[prep.columns.str.contains(\"prep|id\")]]"
   ]
  },
  {
   "cell_type": "code",
   "execution_count": 58,
   "id": "598e9ce7-3603-4884-914e-ae322c4101f4",
   "metadata": {},
   "outputs": [],
   "source": [
    "# Read and manipulation of the temperature data\n",
    "\n",
    "temp = pd.read_csv(\"/Users/hendrixperalta/Desktop/Research Data Manipulation/research_data/adm1/temperature/p_landsurface_temp.csv\")\n",
    "temp.rename(columns = {\"asdf_id\" : \"id\"}, inplace=True)\n",
    "temp_filter = temp[temp.columns[temp.columns.str.contains(\"mod11c3_061\")]]\n",
    "temp_filter = temp_filter[temp_filter.columns[temp_filter.columns.str.contains(\".mean.1\")]]\n",
    "\n",
    "for col in temp_filter: \n",
    "    new_name = \"temp\" + col.split(\".\", 1)[1]\n",
    "    temp.rename(columns = {col : new_name}, inplace=True)\n",
    "\n",
    "temp.columns = temp.columns.str.replace(\".mean.1\", \"\", regex=True)\n",
    "temp = temp[temp.columns[temp.columns.str.contains(\"temp|id\")]]\n",
    "# temp.columns"
   ]
  },
  {
   "cell_type": "code",
   "execution_count": 89,
   "id": "f954f11a-3c51-4258-bf9d-58d5143449b2",
   "metadata": {},
   "outputs": [
    {
     "data": {
      "text/plain": [
       "Index(['id', 'agr2001', 'agr2002', 'agr2003', 'agr2004', 'agr2005', 'agr2006',\n",
       "       'agr2007', 'agr2008', 'agr2009', 'agr2010', 'agr2011', 'agr2012',\n",
       "       'agr2013', 'agr2014', 'agr2015', 'agr2016', 'agr2017', 'agr2018',\n",
       "       'agr2019', 'agr2020', 'agr2021', 'agr2022'],\n",
       "      dtype='object')"
      ]
     },
     "execution_count": 89,
     "metadata": {},
     "output_type": "execute_result"
    }
   ],
   "source": [
    "# Read and manipulation of the Agriculture land cover data\n",
    "\n",
    "agri = pd.read_csv(\"/Users/hendrixperalta/Desktop/Research Data Manipulation/research_data/adm1/landcover/agriculture_land_wide_adm1.csv\")\n",
    "agri.rename(columns = {\"provinceCode\" : \"id\"}, inplace=True)\n",
    "agri = agri[agri.columns[agri.columns.str.contains(\"agr|id\")]]\n",
    "agri.columns"
   ]
  },
  {
   "cell_type": "code",
   "execution_count": 90,
   "id": "4105a4fb-898a-40a0-aa61-64af7f8f410f",
   "metadata": {},
   "outputs": [
    {
     "data": {
      "text/plain": [
       "Index(['id', 'urb2001', 'urb2002', 'urb2003', 'urb2004', 'urb2005', 'urb2006',\n",
       "       'urb2007', 'urb2008', 'urb2009', 'urb2010', 'urb2011', 'urb2012',\n",
       "       'urb2013', 'urb2014', 'urb2015', 'urb2016', 'urb2017', 'urb2018',\n",
       "       'urb2019', 'urb2020', 'urb2021', 'urb2022'],\n",
       "      dtype='object')"
      ]
     },
     "execution_count": 90,
     "metadata": {},
     "output_type": "execute_result"
    }
   ],
   "source": [
    "# Read and manupulation of the Urban land cover data\n",
    "\n",
    "urba = pd.read_csv(\"/Users/hendrixperalta/Desktop/Research Data Manipulation/research_data/adm1/landcover/urban_land_wide_adm1.csv\")\n",
    "urba.rename(columns = {\"provinceCode\" : \"id\"}, inplace=True)\n",
    "urba = urba[urba.columns[urba.columns.str.contains(\"urb|id\")]]\n",
    "urba.columns"
   ]
  },
  {
   "cell_type": "code",
   "execution_count": 91,
   "id": "ac4c34fb-5ab7-4714-9c66-2519ffd32707",
   "metadata": {},
   "outputs": [
    {
     "data": {
      "text/plain": [
       "Index(['id', 'ntl2000', 'ntl2001', 'ntl2002', 'ntl2003', 'ntl2004', 'ntl2005',\n",
       "       'ntl2006', 'ntl2007', 'ntl2008', 'ntl2009', 'ntl2010', 'ntl2011',\n",
       "       'ntl2012', 'ntl2013', 'ntl2014', 'ntl2015', 'ntl2016', 'ntl2017',\n",
       "       'ntl2018', 'ntl2019', 'ntl2020', 'ntl2021', 'ntl2022'],\n",
       "      dtype='object')"
      ]
     },
     "execution_count": 91,
     "metadata": {},
     "output_type": "execute_result"
    }
   ],
   "source": [
    "# Read and manipulation of the NPP NTL data \n",
    "\n",
    "ntl = pd.read_csv(\"/Users/hendrixperalta/Desktop/Research Data Manipulation/research_data/adm1/ntl/wide_ntl_adm1_2000_2021.csv\")\n",
    "ntl = ntl[ntl.columns[ntl.columns.str.contains(\"ntl|id\")]]\n",
    "ntl.columns"
   ]
  },
  {
   "cell_type": "code",
   "execution_count": 70,
   "id": "5861d452-d103-4a51-8b15-552fcdc1f318",
   "metadata": {},
   "outputs": [],
   "source": [
    "# Read and manipulation of the Electricity consumption revised GDP \n",
    "\n",
    "egdp = pd.read_csv(\"/Users/hendrixperalta/Desktop/Research Data Manipulation/research_data/adm1/ntl/egdp_sum_wide_00-16.csv\")\n",
    "egdp = egdp[egdp.columns[egdp.columns.str.contains(\"egdp|id\")]]\n",
    "#egdp.columns"
   ]
  },
  {
   "cell_type": "code",
   "execution_count": 85,
   "id": "57a430d0-499c-4b83-a9d0-74e3e4b93660",
   "metadata": {},
   "outputs": [],
   "source": [
    "# Education dataset \n",
    "\n",
    "edu = pd.read_csv(\"\")"
   ]
  },
  {
   "cell_type": "code",
   "execution_count": 101,
   "id": "dee61b0a-8e23-42a3-9db3-1b87292c7227",
   "metadata": {},
   "outputs": [],
   "source": [
    "# Read and manipulation of the health data\n",
    "\n",
    "health = pd.read_csv(\"/Users/hendrixperalta/Desktop/Research Data Manipulation/research_data/adm1/health/health.csv\")\n",
    "#health.columns"
   ]
  },
  {
   "cell_type": "code",
   "execution_count": 109,
   "id": "cc87820c-ecd1-474f-a245-99a1890bc004",
   "metadata": {},
   "outputs": [],
   "source": [
    "# Read and manipulation of the Social security data\n",
    "\n",
    "soci = pd.read_csv(\"/Users/hendrixperalta/Desktop/Research Data Manipulation/research_data/adm1/public_safety/social_security.csv\")\n",
    "#soci.columns"
   ]
  },
  {
   "cell_type": "code",
   "execution_count": 104,
   "id": "59ba9591-df31-47ae-b26f-129075625148",
   "metadata": {},
   "outputs": [],
   "source": [
    "# Unifies the different datasets \n",
    "\n",
    "datasets = [temp, agri, urba, ntl, egdp, drop_m, health, soci]\n",
    "municipality_data = pd.merge(sez, pop_sum[pop_sum.columns[pop_sum.columns.str.contains(\"pop|id\")]], on=\"id\", how=\"outer\")\n",
    "\n",
    "for dataset in datasets: \n",
    "    municipality_data = pd.merge(municipality_data, dataset, on=\"id\", how= \"outer\")\n",
    "\n",
    "\n",
    "\n",
    "# Filters out the years from 2017 to 2022\n",
    "\n",
    "filter_year = [\"2017\", \"2018\", \"2018\", \"2019\", \"2020\", \"2021\", \"2022\", \"2023\",\"1999\"]\n",
    "\n",
    "pattern = \"|\".join(filter_year)\n",
    "municipality_data = municipality_data.drop(columns = municipality_data.columns[municipality_data.columns.str.contains(pattern)])"
   ]
  },
  {
   "cell_type": "code",
   "execution_count": 110,
   "id": "979341ac-7878-4564-a6a6-ce071a22bd95",
   "metadata": {},
   "outputs": [],
   "source": [
    "# converts the dataset into a long format dataset \n",
    "\n",
    "var_names = [\"inv\", \"ob_f_\",\"tec_f_\",\"adm_f_\",\"ob_m_\",\"tec_m_\",\"adm_m_\",'ent', 'ele', \"com\", \n",
    "                \"inf\", \"wat\", \"tss\", \"buiilt\", \"ocu\", \"sal_op\", \"sal_tec\", \"pop\", \"temp\", \"agr\", \n",
    "                \"urb\", \"ntl\", \"egdp\", \"drop_m\", \"medical_checks_\", \"emergencies_\", \"deaths_\",\n",
    "                \"births_\", \"suicides_\", \"homicides_\", \"car_theft_\"]\n",
    "\n",
    "pattern2 = \"|\".join(var_names)\n",
    "long_df = pd.wide_to_long(municipality_data, stubnames=var_names, i='id', j='year', sep='')\n",
    "long_df = long_df[long_df.columns[long_df.columns.str.contains(\"shape|id|year\")|long_df.columns.str.contains(pattern2)]]\n",
    "long_df =  long_df.drop(columns = \"sez_id\")\n",
    "long_df.fillna(0, inplace=True)"
   ]
  },
  {
   "cell_type": "code",
   "execution_count": 111,
   "id": "95d5415b-57ba-4093-a816-8f934147c950",
   "metadata": {},
   "outputs": [],
   "source": [
    "# Exports the data in a long format \n",
    "\n",
    "long_df.to_csv(\"long_province_sez.csv\")"
   ]
  },
  {
   "cell_type": "code",
   "execution_count": null,
   "id": "73d6e1e0-c3a2-4b26-9916-2c96a610f2bf",
   "metadata": {},
   "outputs": [],
   "source": []
  },
  {
   "cell_type": "code",
   "execution_count": null,
   "id": "e1ff2f29-18d4-434a-98b1-e583ea5f6b9e",
   "metadata": {},
   "outputs": [],
   "source": []
  }
 ],
 "metadata": {
  "kernelspec": {
   "display_name": "Python 3 (ipykernel)",
   "language": "python",
   "name": "python3"
  },
  "language_info": {
   "codemirror_mode": {
    "name": "ipython",
    "version": 3
   },
   "file_extension": ".py",
   "mimetype": "text/x-python",
   "name": "python",
   "nbconvert_exporter": "python",
   "pygments_lexer": "ipython3",
   "version": "3.12.0"
  }
 },
 "nbformat": 4,
 "nbformat_minor": 5
}
