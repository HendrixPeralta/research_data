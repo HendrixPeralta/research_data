{
 "cells": [
  {
   "cell_type": "code",
   "execution_count": 94,
   "id": "3f841429-424d-4db5-a053-cd6f4e850fe7",
   "metadata": {},
   "outputs": [],
   "source": [
    "import pandas as pd"
   ]
  },
  {
   "cell_type": "code",
   "execution_count": 95,
   "id": "cad32817-47b4-4498-9e16-244cf7ccda9f",
   "metadata": {},
   "outputs": [],
   "source": [
    "sez = pd.read_csv(\"joined_sez_map.csv\")"
   ]
  },
  {
   "cell_type": "code",
   "execution_count": null,
   "id": "4c5eebbe-ae43-434e-9808-e8ed34426afa",
   "metadata": {},
   "outputs": [],
   "source": []
  },
  {
   "cell_type": "code",
   "execution_count": 96,
   "id": "71f510d2-4da5-408c-958f-a8856996416b",
   "metadata": {},
   "outputs": [],
   "source": [
    "pop = pd.read_csv(\"/Users/hendrixperalta/Desktop/Research Data Manipulation/research_data/adm1/population/p_landscan_pop.csv\")"
   ]
  },
  {
   "cell_type": "code",
   "execution_count": 97,
   "id": "07594ec8-8183-4b51-9cf2-c7641d47c79a",
   "metadata": {},
   "outputs": [],
   "source": [
    "pop.rename(columns = {\"asdf_id\" : \"id\"}, inplace=True)"
   ]
  },
  {
   "cell_type": "code",
   "execution_count": 98,
   "id": "dc52e9cd-c755-48df-9417-0a796d48ee6b",
   "metadata": {},
   "outputs": [],
   "source": [
    "column_filter = pop[pop.columns[pop.columns.str.contains(\"land\")]]"
   ]
  },
  {
   "cell_type": "code",
   "execution_count": 99,
   "id": "122e9210-94a9-4a1d-90f6-63cd8350309b",
   "metadata": {},
   "outputs": [],
   "source": [
    "for col in column_filter:\n",
    "    new_name = \"pop\" + col.split(\".\", 1)[1]\n",
    "    pop.rename(columns = {col : new_name}, inplace = True)"
   ]
  },
  {
   "cell_type": "code",
   "execution_count": 100,
   "id": "05550afc-c42e-4a31-842c-38233f9fc8d8",
   "metadata": {},
   "outputs": [],
   "source": [
    "pop_sum = pop[pop.columns[pop.columns.str.contains(\"sum|id\")]]"
   ]
  },
  {
   "cell_type": "code",
   "execution_count": 101,
   "id": "bda78007-b56d-458e-a949-592f5fb202b3",
   "metadata": {},
   "outputs": [],
   "source": [
    "pop_sum.columns = pop_sum.columns.str.replace(\".sum$\", \"\", regex=True)"
   ]
  },
  {
   "cell_type": "code",
   "execution_count": 102,
   "id": "9b2ebc4f-6924-4d0a-9afc-d52fb97d3aad",
   "metadata": {},
   "outputs": [
    {
     "data": {
      "text/plain": [
       "id           int64\n",
       "pop2000    float64\n",
       "pop2001    float64\n",
       "pop2002    float64\n",
       "pop2003    float64\n",
       "pop2004    float64\n",
       "pop2005    float64\n",
       "pop2006    float64\n",
       "pop2007    float64\n",
       "pop2008    float64\n",
       "pop2009    float64\n",
       "pop2010    float64\n",
       "pop2011    float64\n",
       "pop2012    float64\n",
       "pop2013    float64\n",
       "pop2014    float64\n",
       "pop2015    float64\n",
       "pop2016    float64\n",
       "pop2017    float64\n",
       "pop2018    float64\n",
       "pop2019    float64\n",
       "pop2020    float64\n",
       "pop2021    float64\n",
       "dtype: object"
      ]
     },
     "execution_count": 102,
     "metadata": {},
     "output_type": "execute_result"
    }
   ],
   "source": [
    "pop_sum.dtypes"
   ]
  },
  {
   "cell_type": "code",
   "execution_count": null,
   "id": "bc1443c1-4ec8-4cfe-aca2-f78bcc5b47c0",
   "metadata": {},
   "outputs": [],
   "source": []
  },
  {
   "cell_type": "code",
   "execution_count": 103,
   "id": "9206eda9-fa2f-4cb0-a951-812a36fef24f",
   "metadata": {},
   "outputs": [],
   "source": [
    "#prep = pd.read_csv(\"/Users/hendrixperalta/Desktop/Research Data Manipulation/research_data/adm2/precipitation/precipitation_00_22.csv\")"
   ]
  },
  {
   "cell_type": "code",
   "execution_count": 104,
   "id": "32ae923c-a3a9-4113-8b45-1e81b208c614",
   "metadata": {},
   "outputs": [],
   "source": [
    "#prep_filter = prep[prep.columns[prep.columns.str.contains(\"pre_yearly\")]]"
   ]
  },
  {
   "cell_type": "code",
   "execution_count": 105,
   "id": "ce192ac1-7339-4355-adaf-629a562e1bf8",
   "metadata": {},
   "outputs": [],
   "source": [
    "#for col in prep_filter: \n",
    "#    new_name = \"prep\" + col.split(\".\", 1)[1]\n",
    "#    prep.rename(columns = {col : new_name}, inplace = True)"
   ]
  },
  {
   "cell_type": "code",
   "execution_count": 106,
   "id": "1e8b7cc2-9764-4be4-abb3-c1a24b6307a2",
   "metadata": {},
   "outputs": [],
   "source": [
    "#prep.columns = prep.columns.str.replace(\".mean$\", \"\", regex=True)"
   ]
  },
  {
   "cell_type": "code",
   "execution_count": 107,
   "id": "1cec8788-ebec-48ea-badf-89261f9ffd94",
   "metadata": {},
   "outputs": [],
   "source": [
    "#prep.rename(columns = {\"asdf_id\" : \"id\"}, inplace=True)"
   ]
  },
  {
   "cell_type": "code",
   "execution_count": 108,
   "id": "add25a96-a4ec-4fff-819c-ab28a49ff43d",
   "metadata": {},
   "outputs": [],
   "source": [
    "#prep = prep[prep.columns[prep.columns.str.contains(\"prep|id\")]]"
   ]
  },
  {
   "cell_type": "code",
   "execution_count": null,
   "id": "e79828cc-15fc-41c7-9692-bd9279c2cc7d",
   "metadata": {},
   "outputs": [],
   "source": []
  },
  {
   "cell_type": "code",
   "execution_count": null,
   "id": "a733aa8d-217c-4da6-9a25-1081d3875d43",
   "metadata": {},
   "outputs": [],
   "source": []
  },
  {
   "cell_type": "code",
   "execution_count": 109,
   "id": "598e9ce7-3603-4884-914e-ae322c4101f4",
   "metadata": {},
   "outputs": [],
   "source": [
    "temp = pd.read_csv(\"/Users/hendrixperalta/Desktop/Research Data Manipulation/research_data/adm1/temperature/p_landsurface_temp.csv\")"
   ]
  },
  {
   "cell_type": "code",
   "execution_count": 110,
   "id": "a6b5bf66-8756-466a-a126-6213d6572ff3",
   "metadata": {},
   "outputs": [],
   "source": [
    "temp.rename(columns = {\"asdf_id\" : \"id\"}, inplace=True)"
   ]
  },
  {
   "cell_type": "code",
   "execution_count": 111,
   "id": "088f699a-d6bb-40ca-8952-705f24c48cbc",
   "metadata": {},
   "outputs": [],
   "source": [
    "temp_filter = temp[temp.columns[temp.columns.str.contains(\"mod11c3_061\")]]"
   ]
  },
  {
   "cell_type": "code",
   "execution_count": 112,
   "id": "ed042f5e-588d-4f45-ad54-bfe759c762a5",
   "metadata": {},
   "outputs": [],
   "source": [
    "temp_filter = temp_filter[temp_filter.columns[temp_filter.columns.str.contains(\".mean.1\")]]"
   ]
  },
  {
   "cell_type": "code",
   "execution_count": 113,
   "id": "3211da4d-dfdb-4bf8-aa02-983c607d5283",
   "metadata": {},
   "outputs": [],
   "source": [
    "for col in temp_filter: \n",
    "    new_name = \"temp\" + col.split(\".\", 1)[1]\n",
    "    temp.rename(columns = {col : new_name}, inplace=True)"
   ]
  },
  {
   "cell_type": "code",
   "execution_count": 114,
   "id": "b166ea7f-97b4-4f0b-8884-a3791f4840a9",
   "metadata": {},
   "outputs": [],
   "source": [
    "temp.columns = temp.columns.str.replace(\".mean.1\", \"\", regex=True)"
   ]
  },
  {
   "cell_type": "code",
   "execution_count": 115,
   "id": "cf9c6080-e847-44ce-a97c-d6adb4548fa7",
   "metadata": {},
   "outputs": [],
   "source": [
    "temp = temp[temp.columns[temp.columns.str.contains(\"temp|id\")]]"
   ]
  },
  {
   "cell_type": "code",
   "execution_count": 116,
   "id": "2c8abce5-9421-4000-8a88-d918abc2c7fc",
   "metadata": {},
   "outputs": [
    {
     "data": {
      "text/plain": [
       "Index(['id', 'id', 'temp2000', 'temp2001', 'temp2002', 'temp2003', 'temp2004',\n",
       "       'temp2005', 'temp2006', 'temp2007', 'temp2008', 'temp2009', 'temp2010',\n",
       "       'temp2011', 'temp2012', 'temp2013', 'temp2014', 'temp2015', 'temp2016',\n",
       "       'temp2017', 'temp2018', 'temp2019', 'temp2020', 'temp2021', 'temp2022',\n",
       "       'temp2023', 'gqid', 'id', 'id'],\n",
       "      dtype='object')"
      ]
     },
     "execution_count": 116,
     "metadata": {},
     "output_type": "execute_result"
    }
   ],
   "source": [
    "temp.columns"
   ]
  },
  {
   "cell_type": "code",
   "execution_count": null,
   "id": "2533f4ad-bb54-48d5-b253-7599f3b02247",
   "metadata": {},
   "outputs": [],
   "source": []
  },
  {
   "cell_type": "code",
   "execution_count": 122,
   "id": "f954f11a-3c51-4258-bf9d-58d5143449b2",
   "metadata": {},
   "outputs": [],
   "source": [
    "agri = pd.read_csv(\"/Users/hendrixperalta/Desktop/Research Data Manipulation/research_data/adm1/landcover/agriculture_land_wide_adm1.csv\")"
   ]
  },
  {
   "cell_type": "code",
   "execution_count": 123,
   "id": "7ac9cf78-17d9-461d-9b0b-48c67e0f065f",
   "metadata": {},
   "outputs": [],
   "source": [
    "agri.rename(columns = {\"cityCode\" : \"id\"}, inplace=True)"
   ]
  },
  {
   "cell_type": "code",
   "execution_count": 124,
   "id": "f0b6f1b3-43ef-4c55-ac53-2d250b0aaf9d",
   "metadata": {},
   "outputs": [],
   "source": [
    "agri = agri[agri.columns[agri.columns.str.contains(\"agr|id\")]]"
   ]
  },
  {
   "cell_type": "code",
   "execution_count": 125,
   "id": "04ee6cca-eec5-4a66-9c67-625d04870bdf",
   "metadata": {},
   "outputs": [
    {
     "data": {
      "text/plain": [
       "Index(['agr2001', 'agr2002', 'agr2003', 'agr2004', 'agr2005', 'agr2006',\n",
       "       'agr2007', 'agr2008', 'agr2009', 'agr2010', 'agr2011', 'agr2012',\n",
       "       'agr2013', 'agr2014', 'agr2015', 'agr2016', 'agr2017', 'agr2018',\n",
       "       'agr2019', 'agr2020', 'agr2021', 'agr2022'],\n",
       "      dtype='object')"
      ]
     },
     "execution_count": 125,
     "metadata": {},
     "output_type": "execute_result"
    }
   ],
   "source": [
    "agri.columns"
   ]
  },
  {
   "cell_type": "code",
   "execution_count": 126,
   "id": "4105a4fb-898a-40a0-aa61-64af7f8f410f",
   "metadata": {},
   "outputs": [],
   "source": [
    "urba = pd.read_csv(\"/Users/hendrixperalta/Desktop/Research Data Manipulation/research_data/adm1/landcover/urban_land_wide_adm1.csv\")"
   ]
  },
  {
   "cell_type": "code",
   "execution_count": 127,
   "id": "31232208-beaf-42d4-b23c-dd73bb6e0b00",
   "metadata": {},
   "outputs": [],
   "source": [
    "urba.rename(columns = {\"cityCode\" : \"id\"}, inplace=True)"
   ]
  },
  {
   "cell_type": "code",
   "execution_count": 128,
   "id": "f8c5952d-e48b-4b2f-9c8a-e3dedaf60c72",
   "metadata": {},
   "outputs": [],
   "source": [
    "urba = urba[urba.columns[urba.columns.str.contains(\"urb|id\")]]"
   ]
  },
  {
   "cell_type": "code",
   "execution_count": null,
   "id": "700ba25c-c1ac-41ed-aa78-f851ec3488ea",
   "metadata": {},
   "outputs": [],
   "source": []
  },
  {
   "cell_type": "code",
   "execution_count": 154,
   "id": "ac4c34fb-5ab7-4714-9c66-2519ffd32707",
   "metadata": {},
   "outputs": [],
   "source": [
    "ntl = pd.read_csv(\"/Users/hendrixperalta/Desktop/Research Data Manipulation/research_data/adm1/ntl/wide_ntl_adm1_2000_2021.csv\")"
   ]
  },
  {
   "cell_type": "code",
   "execution_count": 155,
   "id": "f3c31c5f-3e49-4e53-968f-5755209fdf3e",
   "metadata": {},
   "outputs": [],
   "source": [
    "ntl = ntl[ntl.columns[ntl.columns.str.contains(\"ntl|id\")]]"
   ]
  },
  {
   "cell_type": "code",
   "execution_count": 156,
   "id": "9450a438-15b0-41c2-b4b3-da710f2c1f83",
   "metadata": {},
   "outputs": [
    {
     "data": {
      "text/plain": [
       "Index(['id'], dtype='object')"
      ]
     },
     "execution_count": 156,
     "metadata": {},
     "output_type": "execute_result"
    }
   ],
   "source": [
    "ntl.columns"
   ]
  },
  {
   "cell_type": "code",
   "execution_count": null,
   "id": "12af869a-952d-4a10-b642-c8d469a0cd08",
   "metadata": {},
   "outputs": [],
   "source": []
  },
  {
   "cell_type": "code",
   "execution_count": 144,
   "id": "5861d452-d103-4a51-8b15-552fcdc1f318",
   "metadata": {},
   "outputs": [],
   "source": [
    "egdp = pd.read_csv(\"/Users/hendrixperalta/Desktop/Research Data Manipulation/research_data/adm1/ntl/egdp_sum_wide_00-16.csv\")"
   ]
  },
  {
   "cell_type": "code",
   "execution_count": 145,
   "id": "ebefb1a8-1f12-48b7-8709-230bd4537543",
   "metadata": {},
   "outputs": [],
   "source": [
    "egdp = egdp[egdp.columns[egdp.columns.str.contains(\"egdp|id\")]]"
   ]
  },
  {
   "cell_type": "code",
   "execution_count": 146,
   "id": "1a704b1a-17ac-4f34-8661-87ea6f23cf29",
   "metadata": {},
   "outputs": [
    {
     "data": {
      "text/plain": [
       "Index(['id', 'egdp2000', 'egdp2001', 'egdp2002', 'egdp2003', 'egdp2004',\n",
       "       'egdp2005', 'egdp2006', 'egdp2007', 'egdp2008', 'egdp2009', 'egdp2010',\n",
       "       'egdp2011', 'egdp2012', 'egdp2013', 'egdp2014', 'egdp2015', 'egdp2016'],\n",
       "      dtype='object')"
      ]
     },
     "execution_count": 146,
     "metadata": {},
     "output_type": "execute_result"
    }
   ],
   "source": [
    "egdp.columns"
   ]
  },
  {
   "cell_type": "code",
   "execution_count": null,
   "id": "e14ba5a3-9564-4732-88bf-2b7d745b4d13",
   "metadata": {},
   "outputs": [],
   "source": []
  },
  {
   "cell_type": "code",
   "execution_count": 147,
   "id": "59ba9591-df31-47ae-b26f-129075625148",
   "metadata": {},
   "outputs": [],
   "source": [
    "datasets = [temp, agri, urba, ntl, egdp]"
   ]
  },
  {
   "cell_type": "code",
   "execution_count": 148,
   "id": "a4ca7878-a24b-44ce-aa71-9560e9187716",
   "metadata": {},
   "outputs": [],
   "source": [
    "municipality_data = pd.merge(sez, pop_sum[pop_sum.columns[pop_sum.columns.str.contains(\"pop|id\")]], on=\"id\", how=\"outer\")"
   ]
  },
  {
   "cell_type": "code",
   "execution_count": 149,
   "id": "767d4b02-64ee-4784-9ba5-1ad2791890b9",
   "metadata": {},
   "outputs": [
    {
     "ename": "ValueError",
     "evalue": "The column label 'id' is not unique.",
     "output_type": "error",
     "traceback": [
      "\u001b[0;31m---------------------------------------------------------------------------\u001b[0m",
      "\u001b[0;31mValueError\u001b[0m                                Traceback (most recent call last)",
      "\u001b[0;32m/var/folders/rd/btbmvcm97vb2t3wbhxqqm1tw0000gn/T/ipykernel_71804/1922646300.py\u001b[0m in \u001b[0;36m?\u001b[0;34m()\u001b[0m\n\u001b[1;32m      1\u001b[0m \u001b[0;32mfor\u001b[0m \u001b[0mdataset\u001b[0m \u001b[0;32min\u001b[0m \u001b[0mdatasets\u001b[0m\u001b[0;34m:\u001b[0m\u001b[0;34m\u001b[0m\u001b[0;34m\u001b[0m\u001b[0m\n\u001b[0;32m----> 2\u001b[0;31m     \u001b[0mmunicipality_data\u001b[0m \u001b[0;34m=\u001b[0m \u001b[0mpd\u001b[0m\u001b[0;34m.\u001b[0m\u001b[0mmerge\u001b[0m\u001b[0;34m(\u001b[0m\u001b[0mmunicipality_data\u001b[0m\u001b[0;34m,\u001b[0m \u001b[0mdataset\u001b[0m\u001b[0;34m,\u001b[0m \u001b[0mon\u001b[0m\u001b[0;34m=\u001b[0m\u001b[0;34m\"id\"\u001b[0m\u001b[0;34m,\u001b[0m \u001b[0mhow\u001b[0m\u001b[0;34m=\u001b[0m \u001b[0;34m\"outer\"\u001b[0m\u001b[0;34m)\u001b[0m\u001b[0;34m\u001b[0m\u001b[0;34m\u001b[0m\u001b[0m\n\u001b[0m",
      "\u001b[0;32m/Library/Frameworks/Python.framework/Versions/3.12/lib/python3.12/site-packages/pandas/core/reshape/merge.py\u001b[0m in \u001b[0;36m?\u001b[0;34m(left, right, how, on, left_on, right_on, left_index, right_index, sort, suffixes, copy, indicator, validate)\u001b[0m\n\u001b[1;32m    166\u001b[0m             \u001b[0mvalidate\u001b[0m\u001b[0;34m=\u001b[0m\u001b[0mvalidate\u001b[0m\u001b[0;34m,\u001b[0m\u001b[0;34m\u001b[0m\u001b[0;34m\u001b[0m\u001b[0m\n\u001b[1;32m    167\u001b[0m             \u001b[0mcopy\u001b[0m\u001b[0;34m=\u001b[0m\u001b[0mcopy\u001b[0m\u001b[0;34m,\u001b[0m\u001b[0;34m\u001b[0m\u001b[0;34m\u001b[0m\u001b[0m\n\u001b[1;32m    168\u001b[0m         \u001b[0;34m)\u001b[0m\u001b[0;34m\u001b[0m\u001b[0;34m\u001b[0m\u001b[0m\n\u001b[1;32m    169\u001b[0m     \u001b[0;32melse\u001b[0m\u001b[0;34m:\u001b[0m\u001b[0;34m\u001b[0m\u001b[0;34m\u001b[0m\u001b[0m\n\u001b[0;32m--> 170\u001b[0;31m         op = _MergeOperation(\n\u001b[0m\u001b[1;32m    171\u001b[0m             \u001b[0mleft_df\u001b[0m\u001b[0;34m,\u001b[0m\u001b[0;34m\u001b[0m\u001b[0;34m\u001b[0m\u001b[0m\n\u001b[1;32m    172\u001b[0m             \u001b[0mright_df\u001b[0m\u001b[0;34m,\u001b[0m\u001b[0;34m\u001b[0m\u001b[0;34m\u001b[0m\u001b[0m\n\u001b[1;32m    173\u001b[0m             \u001b[0mhow\u001b[0m\u001b[0;34m=\u001b[0m\u001b[0mhow\u001b[0m\u001b[0;34m,\u001b[0m\u001b[0;34m\u001b[0m\u001b[0;34m\u001b[0m\u001b[0m\n",
      "\u001b[0;32m/Library/Frameworks/Python.framework/Versions/3.12/lib/python3.12/site-packages/pandas/core/reshape/merge.py\u001b[0m in \u001b[0;36m?\u001b[0;34m(self, left, right, how, on, left_on, right_on, left_index, right_index, sort, suffixes, indicator, validate)\u001b[0m\n\u001b[1;32m    790\u001b[0m             \u001b[0mself\u001b[0m\u001b[0;34m.\u001b[0m\u001b[0mright_join_keys\u001b[0m\u001b[0;34m,\u001b[0m\u001b[0;34m\u001b[0m\u001b[0;34m\u001b[0m\u001b[0m\n\u001b[1;32m    791\u001b[0m             \u001b[0mself\u001b[0m\u001b[0;34m.\u001b[0m\u001b[0mjoin_names\u001b[0m\u001b[0;34m,\u001b[0m\u001b[0;34m\u001b[0m\u001b[0;34m\u001b[0m\u001b[0m\n\u001b[1;32m    792\u001b[0m             \u001b[0mleft_drop\u001b[0m\u001b[0;34m,\u001b[0m\u001b[0;34m\u001b[0m\u001b[0;34m\u001b[0m\u001b[0m\n\u001b[1;32m    793\u001b[0m             \u001b[0mright_drop\u001b[0m\u001b[0;34m,\u001b[0m\u001b[0;34m\u001b[0m\u001b[0;34m\u001b[0m\u001b[0m\n\u001b[0;32m--> 794\u001b[0;31m         \u001b[0;34m)\u001b[0m \u001b[0;34m=\u001b[0m \u001b[0mself\u001b[0m\u001b[0;34m.\u001b[0m\u001b[0m_get_merge_keys\u001b[0m\u001b[0;34m(\u001b[0m\u001b[0;34m)\u001b[0m\u001b[0;34m\u001b[0m\u001b[0;34m\u001b[0m\u001b[0m\n\u001b[0m\u001b[1;32m    795\u001b[0m \u001b[0;34m\u001b[0m\u001b[0m\n\u001b[1;32m    796\u001b[0m         \u001b[0;32mif\u001b[0m \u001b[0mleft_drop\u001b[0m\u001b[0;34m:\u001b[0m\u001b[0;34m\u001b[0m\u001b[0;34m\u001b[0m\u001b[0m\n\u001b[1;32m    797\u001b[0m             \u001b[0mself\u001b[0m\u001b[0;34m.\u001b[0m\u001b[0mleft\u001b[0m \u001b[0;34m=\u001b[0m \u001b[0mself\u001b[0m\u001b[0;34m.\u001b[0m\u001b[0mleft\u001b[0m\u001b[0;34m.\u001b[0m\u001b[0m_drop_labels_or_levels\u001b[0m\u001b[0;34m(\u001b[0m\u001b[0mleft_drop\u001b[0m\u001b[0;34m)\u001b[0m\u001b[0;34m\u001b[0m\u001b[0;34m\u001b[0m\u001b[0m\n",
      "\u001b[0;32m/Library/Frameworks/Python.framework/Versions/3.12/lib/python3.12/site-packages/pandas/core/reshape/merge.py\u001b[0m in \u001b[0;36m?\u001b[0;34m(self)\u001b[0m\n\u001b[1;32m   1293\u001b[0m                         \u001b[0;31m# Then we're either Hashable or a wrong-length arraylike,\u001b[0m\u001b[0;34m\u001b[0m\u001b[0;34m\u001b[0m\u001b[0m\n\u001b[1;32m   1294\u001b[0m                         \u001b[0;31m#  the latter of which will raise\u001b[0m\u001b[0;34m\u001b[0m\u001b[0;34m\u001b[0m\u001b[0m\n\u001b[1;32m   1295\u001b[0m                         \u001b[0mrk\u001b[0m \u001b[0;34m=\u001b[0m \u001b[0mcast\u001b[0m\u001b[0;34m(\u001b[0m\u001b[0mHashable\u001b[0m\u001b[0;34m,\u001b[0m \u001b[0mrk\u001b[0m\u001b[0;34m)\u001b[0m\u001b[0;34m\u001b[0m\u001b[0;34m\u001b[0m\u001b[0m\n\u001b[1;32m   1296\u001b[0m                         \u001b[0;32mif\u001b[0m \u001b[0mrk\u001b[0m \u001b[0;32mis\u001b[0m \u001b[0;32mnot\u001b[0m \u001b[0;32mNone\u001b[0m\u001b[0;34m:\u001b[0m\u001b[0;34m\u001b[0m\u001b[0;34m\u001b[0m\u001b[0m\n\u001b[0;32m-> 1297\u001b[0;31m                             \u001b[0mright_keys\u001b[0m\u001b[0;34m.\u001b[0m\u001b[0mappend\u001b[0m\u001b[0;34m(\u001b[0m\u001b[0mright\u001b[0m\u001b[0;34m.\u001b[0m\u001b[0m_get_label_or_level_values\u001b[0m\u001b[0;34m(\u001b[0m\u001b[0mrk\u001b[0m\u001b[0;34m)\u001b[0m\u001b[0;34m)\u001b[0m\u001b[0;34m\u001b[0m\u001b[0;34m\u001b[0m\u001b[0m\n\u001b[0m\u001b[1;32m   1298\u001b[0m                         \u001b[0;32melse\u001b[0m\u001b[0;34m:\u001b[0m\u001b[0;34m\u001b[0m\u001b[0;34m\u001b[0m\u001b[0m\n\u001b[1;32m   1299\u001b[0m                             \u001b[0;31m# work-around for merge_asof(right_index=True)\u001b[0m\u001b[0;34m\u001b[0m\u001b[0;34m\u001b[0m\u001b[0m\n\u001b[1;32m   1300\u001b[0m                             \u001b[0mright_keys\u001b[0m\u001b[0;34m.\u001b[0m\u001b[0mappend\u001b[0m\u001b[0;34m(\u001b[0m\u001b[0mright\u001b[0m\u001b[0;34m.\u001b[0m\u001b[0mindex\u001b[0m\u001b[0;34m.\u001b[0m\u001b[0m_values\u001b[0m\u001b[0;34m)\u001b[0m\u001b[0;34m\u001b[0m\u001b[0;34m\u001b[0m\u001b[0m\n",
      "\u001b[0;32m/Library/Frameworks/Python.framework/Versions/3.12/lib/python3.12/site-packages/pandas/core/generic.py\u001b[0m in \u001b[0;36m?\u001b[0;34m(self, key, axis)\u001b[0m\n\u001b[1;32m   1921\u001b[0m             \u001b[0;32melse\u001b[0m\u001b[0;34m:\u001b[0m\u001b[0;34m\u001b[0m\u001b[0;34m\u001b[0m\u001b[0m\n\u001b[1;32m   1922\u001b[0m                 \u001b[0mmulti_message\u001b[0m \u001b[0;34m=\u001b[0m \u001b[0;34m\"\"\u001b[0m\u001b[0;34m\u001b[0m\u001b[0;34m\u001b[0m\u001b[0m\n\u001b[1;32m   1923\u001b[0m \u001b[0;34m\u001b[0m\u001b[0m\n\u001b[1;32m   1924\u001b[0m             \u001b[0mlabel_axis_name\u001b[0m \u001b[0;34m=\u001b[0m \u001b[0;34m\"column\"\u001b[0m \u001b[0;32mif\u001b[0m \u001b[0maxis\u001b[0m \u001b[0;34m==\u001b[0m \u001b[0;36m0\u001b[0m \u001b[0;32melse\u001b[0m \u001b[0;34m\"index\"\u001b[0m\u001b[0;34m\u001b[0m\u001b[0;34m\u001b[0m\u001b[0m\n\u001b[0;32m-> 1925\u001b[0;31m             raise ValueError(\n\u001b[0m\u001b[1;32m   1926\u001b[0m                 \u001b[0;34mf\"\u001b[0m\u001b[0;34mThe \u001b[0m\u001b[0;34m{\u001b[0m\u001b[0mlabel_axis_name\u001b[0m\u001b[0;34m}\u001b[0m\u001b[0;34m label '\u001b[0m\u001b[0;34m{\u001b[0m\u001b[0mkey\u001b[0m\u001b[0;34m}\u001b[0m\u001b[0;34m' is not unique.\u001b[0m\u001b[0;34m{\u001b[0m\u001b[0mmulti_message\u001b[0m\u001b[0;34m}\u001b[0m\u001b[0;34m\"\u001b[0m\u001b[0;34m\u001b[0m\u001b[0;34m\u001b[0m\u001b[0m\n\u001b[1;32m   1927\u001b[0m             \u001b[0;34m)\u001b[0m\u001b[0;34m\u001b[0m\u001b[0;34m\u001b[0m\u001b[0m\n\u001b[1;32m   1928\u001b[0m \u001b[0;34m\u001b[0m\u001b[0m\n",
      "\u001b[0;31mValueError\u001b[0m: The column label 'id' is not unique."
     ]
    }
   ],
   "source": [
    "for dataset in datasets: \n",
    "    municipality_data = pd.merge(municipality_data, dataset, on=\"id\", how= \"outer\")"
   ]
  },
  {
   "cell_type": "code",
   "execution_count": null,
   "id": "9a183a2b-4391-40b0-b1d7-f6b64157df5e",
   "metadata": {},
   "outputs": [],
   "source": []
  },
  {
   "cell_type": "code",
   "execution_count": null,
   "id": "a060f1f2-392d-491d-a8c4-5b6320de975b",
   "metadata": {},
   "outputs": [],
   "source": []
  },
  {
   "cell_type": "code",
   "execution_count": 34,
   "id": "0d236f89-14ff-42af-b947-15c941a25937",
   "metadata": {},
   "outputs": [],
   "source": [
    "filter_year = [\"2017\", \"2018\", \"2018\", \"2019\", \"2020\", \"2021\", \"2022\", \"2023\",\"1999\"]\n",
    "\n",
    "pattern = \"|\".join(filter_year)\n",
    "municipality_data = municipality_data.drop(columns = municipality_data.columns[municipality_data.columns.str.contains(pattern)])"
   ]
  },
  {
   "cell_type": "code",
   "execution_count": 35,
   "id": "71dd0fe4-4ee1-41b8-9996-6b8eca863f9b",
   "metadata": {},
   "outputs": [],
   "source": [
    "#municipality_data.to_csv(\"municipality_data.csv\", index=False)"
   ]
  },
  {
   "cell_type": "code",
   "execution_count": null,
   "id": "049a8736-5db3-4f4e-826a-333426382dbd",
   "metadata": {},
   "outputs": [],
   "source": []
  },
  {
   "cell_type": "code",
   "execution_count": null,
   "id": "5779e5cd-a9f9-4ab9-ab46-27ce3e890927",
   "metadata": {},
   "outputs": [],
   "source": []
  },
  {
   "cell_type": "code",
   "execution_count": 36,
   "id": "979341ac-7878-4564-a6a6-ce071a22bd95",
   "metadata": {},
   "outputs": [],
   "source": [
    "var_names = [\"inv\", \"ob_f_\",\"tec_f_\",\"adm_f_\",\"ob_m_\",\"tec_m_\",\"adm_m_\",'ent', 'ele', \"com\", \n",
    "\"inf\", \"wat\", \"tss\", \"buiilt\", \"ocu\", \"sal_op\", \"sal_tec\", \"pop\", \"prep\", \"temp\", \"agr_\", \"urb_\", \"ntl_\"]"
   ]
  },
  {
   "cell_type": "code",
   "execution_count": 37,
   "id": "801f995d-8df9-4389-b066-5e5aa94a86df",
   "metadata": {},
   "outputs": [],
   "source": [
    "pattern2 = \"|\".join(var_names)"
   ]
  },
  {
   "cell_type": "code",
   "execution_count": 38,
   "id": "ec8f251d-6362-4d97-84e4-a24f8aed6b97",
   "metadata": {},
   "outputs": [],
   "source": [
    "long_df = pd.wide_to_long(municipality_data, stubnames=var_names, i='id', j='year', sep='')\n"
   ]
  },
  {
   "cell_type": "code",
   "execution_count": 39,
   "id": "2c7d751a-b994-4c59-aa1c-a3c1f0545e50",
   "metadata": {},
   "outputs": [],
   "source": [
    "long_df = long_df[long_df.columns[long_df.columns.str.contains(\"shape|id|year\")|long_df.columns.str.contains(pattern2)]]"
   ]
  },
  {
   "cell_type": "code",
   "execution_count": 40,
   "id": "928b494d-b825-40e9-9191-999cad591103",
   "metadata": {},
   "outputs": [],
   "source": [
    "long_df =  long_df.drop(columns = \"id.1\")\n",
    "long_df =  long_df.drop(columns = \"sez_id\")"
   ]
  },
  {
   "cell_type": "code",
   "execution_count": 41,
   "id": "08d0e6f3-0739-470a-9ddd-5d75a4df2a99",
   "metadata": {},
   "outputs": [
    {
     "data": {
      "text/plain": [
       "shapeName     object\n",
       "year         float64\n",
       "inv          float64\n",
       "ob_f_        float64\n",
       "tec_f_       float64\n",
       "adm_f_       float64\n",
       "ob_m_        float64\n",
       "tec_m_       float64\n",
       "adm_m_       float64\n",
       "ent          float64\n",
       "ele          float64\n",
       "com          float64\n",
       "inf          float64\n",
       "wat          float64\n",
       "tss          float64\n",
       "buiilt       float64\n",
       "ocu          float64\n",
       "sal_op       float64\n",
       "sal_tec      float64\n",
       "pop          float64\n",
       "prep         float64\n",
       "temp         float64\n",
       "agr_         float64\n",
       "urb_         float64\n",
       "ntl_         float64\n",
       "dtype: object"
      ]
     },
     "execution_count": 41,
     "metadata": {},
     "output_type": "execute_result"
    }
   ],
   "source": [
    "long_df.dtypes"
   ]
  },
  {
   "cell_type": "code",
   "execution_count": 42,
   "id": "95d5415b-57ba-4093-a816-8f934147c950",
   "metadata": {},
   "outputs": [],
   "source": [
    "long_df.to_csv(\"long_df.csv\")"
   ]
  },
  {
   "cell_type": "code",
   "execution_count": null,
   "id": "e1ff2f29-18d4-434a-98b1-e583ea5f6b9e",
   "metadata": {},
   "outputs": [],
   "source": []
  }
 ],
 "metadata": {
  "kernelspec": {
   "display_name": "Python 3 (ipykernel)",
   "language": "python",
   "name": "python3"
  },
  "language_info": {
   "codemirror_mode": {
    "name": "ipython",
    "version": 3
   },
   "file_extension": ".py",
   "mimetype": "text/x-python",
   "name": "python",
   "nbconvert_exporter": "python",
   "pygments_lexer": "ipython3",
   "version": "3.12.0"
  }
 },
 "nbformat": 4,
 "nbformat_minor": 5
}
