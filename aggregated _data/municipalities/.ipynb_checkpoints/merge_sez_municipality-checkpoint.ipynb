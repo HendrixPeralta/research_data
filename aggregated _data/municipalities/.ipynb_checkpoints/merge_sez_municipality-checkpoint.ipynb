{
 "cells": [
  {
   "cell_type": "code",
   "execution_count": 20,
   "id": "3f841429-424d-4db5-a053-cd6f4e850fe7",
   "metadata": {},
   "outputs": [],
   "source": [
    "import pandas as pd\n",
    "import plotly.express as px"
   ]
  },
  {
   "cell_type": "code",
   "execution_count": 3,
   "id": "cad32817-47b4-4498-9e16-244cf7ccda9f",
   "metadata": {},
   "outputs": [],
   "source": [
    "sez = pd.read_csv(\"joined_sez_map.csv\")"
   ]
  },
  {
   "cell_type": "code",
   "execution_count": 6,
   "id": "71f510d2-4da5-408c-958f-a8856996416b",
   "metadata": {},
   "outputs": [],
   "source": [
    "# read and clean the population dataset\n",
    "\n",
    "pop = pd.read_csv(\"/Users/hendrixperalta/Desktop/Research Data Manipulation/research_data/adm2/population/worlpop_count_sum.csv\")\n",
    "pop.rename(columns = {\"gqid\" : \"id\"}, inplace=True)\n",
    "column_filter = pop[pop.columns[pop.columns.str.contains(\"worldpop\")]]\n",
    "\n",
    "for col in column_filter:\n",
    "    new_name = \"pop\" + col.split(\".\", 1)[1]\n",
    "    pop.rename(columns = {col : new_name}, inplace = True)\n",
    "\n",
    "pop_sum = pop[pop.columns[pop.columns.str.contains(\"sum|id\")]]\n",
    "pop_sum.columns = pop_sum.columns.str.replace(\".sum$\", \"\", regex=True)\n",
    "#pop_sum.dtypes"
   ]
  },
  {
   "cell_type": "code",
   "execution_count": 5,
   "id": "9206eda9-fa2f-4cb0-a951-812a36fef24f",
   "metadata": {},
   "outputs": [],
   "source": [
    "# read and clean the precipitation dataset\n",
    "\n",
    "prep = pd.read_csv(\"/Users/hendrixperalta/Desktop/Research Data Manipulation/research_data/adm2/precipitation/precipitation_00_22.csv\")\n",
    "prep_filter = prep[prep.columns[prep.columns.str.contains(\"pre_yearly\")]]\n",
    "\n",
    "for col in prep_filter: \n",
    "    new_name = \"prep\" + col.split(\".\", 1)[1]\n",
    "    prep.rename(columns = {col : new_name}, inplace = True)\n",
    "\n",
    "prep.columns = prep.columns.str.replace(\".mean$\", \"\", regex=True)\n",
    "prep.rename(columns = {\"asdf_id\" : \"id\"}, inplace=True)\n",
    "prep = prep[prep.columns[prep.columns.str.contains(\"prep|id\")]]"
   ]
  },
  {
   "cell_type": "code",
   "execution_count": 8,
   "id": "598e9ce7-3603-4884-914e-ae322c4101f4",
   "metadata": {},
   "outputs": [],
   "source": [
    "# read and clean the temperature dataset\n",
    "\n",
    "temp = pd.read_csv(\"/Users/hendrixperalta/Desktop/Research Data Manipulation/research_data/adm2/temperature/temperature_day_modis61_mean.csv\")\n",
    "temp.rename(columns = {\"gqid\" : \"id\"}, inplace=True)\n",
    "temp_filter = temp[temp.columns[temp.columns.str.contains(\"mod11c3_061\")]]\n",
    "\n",
    "for col in temp_filter: \n",
    "    new_name = \"temp\" + col.split(\".\", 1)[1]\n",
    "    temp.rename(columns = {col : new_name}, inplace=True)\n",
    "\n",
    "temp.columns = temp.columns.str.replace(\".mean$\", \"\", regex=True)\n",
    "temp = temp[temp.columns[temp.columns.str.contains(\"temp|id\")]]"
   ]
  },
  {
   "cell_type": "code",
   "execution_count": 10,
   "id": "f954f11a-3c51-4258-bf9d-58d5143449b2",
   "metadata": {},
   "outputs": [],
   "source": [
    "# read and clean the agriculture land cover dataset\n",
    "\n",
    "agri = pd.read_csv(\"/Users/hendrixperalta/Desktop/Research Data Manipulation/research_data/adm2/landcover/agriculture_land_wide.csv\")\n",
    "agri.rename(columns = {\"cityCode\" : \"id\"}, inplace=True)\n",
    "agri = agri[agri.columns[agri.columns.str.contains(\"agr|id\")]]\n",
    "#agri.columns"
   ]
  },
  {
   "cell_type": "code",
   "execution_count": 11,
   "id": "4105a4fb-898a-40a0-aa61-64af7f8f410f",
   "metadata": {},
   "outputs": [],
   "source": [
    "# read and clean the urban land cover dataset\n",
    "\n",
    "urba = pd.read_csv(\"/Users/hendrixperalta/Desktop/Research Data Manipulation/research_data/adm2/landcover/urban_land_wide.csv\")\n",
    "urba.rename(columns = {\"cityCode\" : \"id\"}, inplace=True)\n",
    "urba = urba[urba.columns[urba.columns.str.contains(\"urb|id\")]]"
   ]
  },
  {
   "cell_type": "code",
   "execution_count": 12,
   "id": "ac4c34fb-5ab7-4714-9c66-2519ffd32707",
   "metadata": {},
   "outputs": [],
   "source": [
    "# read and clean the night time lights dataset\n",
    "\n",
    "ntl = pd.read_csv(\"/Users/hendrixperalta/Desktop/Research Data Manipulation/research_data/adm2/ntl/ntl_sum_wide_00-22.csv\")\n",
    "ntl = ntl[ntl.columns[ntl.columns.str.contains(\"ntl|id\")]]"
   ]
  },
  {
   "cell_type": "code",
   "execution_count": 13,
   "id": "81e4e59d-9ffd-4766-9871-2bc09cbb347c",
   "metadata": {},
   "outputs": [],
   "source": [
    "# read and clean the Electricity consuption based gdp dataset\n",
    "\n",
    "egdp = pd.read_csv(\"/Users/hendrixperalta/Desktop/Research Data Manipulation/research_data/adm2/ntl/egdp_sum_wide_00-16.csv\")\n",
    "egdp = egdp[egdp.columns[egdp.columns.str.contains(\"egdp|id\")]]"
   ]
  },
  {
   "cell_type": "code",
   "execution_count": 15,
   "id": "59ba9591-df31-47ae-b26f-129075625148",
   "metadata": {},
   "outputs": [],
   "source": [
    "# Combines all datasets\n",
    "\n",
    "datasets = [prep, temp, agri, urba, ntl, egdp]\n",
    "municipality_data = pd.merge(sez, pop_sum[pop_sum.columns[pop_sum.columns.str.contains(\"pop|id\")]], on=\"id\", how=\"outer\")\n",
    "\n",
    "for dataset in datasets: \n",
    "    municipality_data = pd.merge(municipality_data, dataset, on=\"id\", how= \"outer\")"
   ]
  },
  {
   "cell_type": "code",
   "execution_count": 16,
   "id": "0d236f89-14ff-42af-b947-15c941a25937",
   "metadata": {},
   "outputs": [],
   "source": [
    "# Filters the years from 2017 to 2023\n",
    "\n",
    "filter_year = [\"2017\", \"2018\", \"2018\", \"2019\", \"2020\", \"2021\", \"2022\", \"2023\",\"1999\"]\n",
    "\n",
    "pattern = \"|\".join(filter_year)\n",
    "municipality_data = municipality_data.drop(columns = municipality_data.columns[municipality_data.columns.str.contains(pattern)])"
   ]
  },
  {
   "cell_type": "code",
   "execution_count": 17,
   "id": "71dd0fe4-4ee1-41b8-9996-6b8eca863f9b",
   "metadata": {},
   "outputs": [],
   "source": [
    "#municipality_data.to_csv(\"municipality_data.csv\", index=False)"
   ]
  },
  {
   "cell_type": "code",
   "execution_count": 19,
   "id": "979341ac-7878-4564-a6a6-ce071a22bd95",
   "metadata": {},
   "outputs": [],
   "source": [
    "# Converts the df from wide to long format\n",
    "\n",
    "var_names = [\"inv\", \"ob_f_\",\"tec_f_\",\"adm_f_\",\"ob_m_\",\"tec_m_\",\"adm_m_\",'ent', 'ele', \"com\", \n",
    "\"inf\", \"wat\", \"tss\", \"buiilt\", \"ocu\", \"sal_op\", \"sal_tec\", \"pop\", \"prep\", \"temp\", \"agr_\", \"urb_\", \"ntl_\", \"egdp\", \"len\"]\n",
    "\n",
    "pattern2 = \"|\".join(var_names)\n",
    "\n",
    "long_df = pd.wide_to_long(municipality_data, stubnames=var_names, i='id', j='year', sep='')\n",
    "long_df = long_df[long_df.columns[long_df.columns.str.contains(\"shape|id|year\")|long_df.columns.str.contains(pattern2)]]\n",
    "long_df =  long_df.drop(columns = \"id.1\")\n",
    "long_df =  long_df.drop(columns = \"sez_id\")\n",
    "long_df.dtypes\n",
    "long_df.to_csv(\"long_df.csv\")"
   ]
  },
  {
   "cell_type": "code",
   "execution_count": null,
   "id": "8c6ee864-6fa3-4316-9be8-ba8fc0182838",
   "metadata": {},
   "outputs": [],
   "source": []
  }
 ],
 "metadata": {
  "kernelspec": {
   "display_name": "Python 3 (ipykernel)",
   "language": "python",
   "name": "python3"
  },
  "language_info": {
   "codemirror_mode": {
    "name": "ipython",
    "version": 3
   },
   "file_extension": ".py",
   "mimetype": "text/x-python",
   "name": "python",
   "nbconvert_exporter": "python",
   "pygments_lexer": "ipython3",
   "version": "3.12.0"
  }
 },
 "nbformat": 4,
 "nbformat_minor": 5
}
