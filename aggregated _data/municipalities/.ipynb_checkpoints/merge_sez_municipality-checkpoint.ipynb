{
 "cells": [
  {
   "cell_type": "code",
   "execution_count": 1,
   "id": "3f841429-424d-4db5-a053-cd6f4e850fe7",
   "metadata": {},
   "outputs": [],
   "source": [
    "import pandas as pd"
   ]
  },
  {
   "cell_type": "code",
   "execution_count": 2,
   "id": "cad32817-47b4-4498-9e16-244cf7ccda9f",
   "metadata": {},
   "outputs": [],
   "source": [
    "sez = pd.read_csv(\"joined_sez_map.csv\")"
   ]
  },
  {
   "cell_type": "code",
   "execution_count": null,
   "id": "4c5eebbe-ae43-434e-9808-e8ed34426afa",
   "metadata": {},
   "outputs": [],
   "source": []
  },
  {
   "cell_type": "code",
   "execution_count": 3,
   "id": "71f510d2-4da5-408c-958f-a8856996416b",
   "metadata": {},
   "outputs": [],
   "source": [
    "pop = pd.read_csv(\"/Users/hendrixperalta/Desktop/Research Data Manipulation/research_data/adm2/population/worlpop_count_sum.csv\")"
   ]
  },
  {
   "cell_type": "code",
   "execution_count": 4,
   "id": "07594ec8-8183-4b51-9cf2-c7641d47c79a",
   "metadata": {},
   "outputs": [],
   "source": [
    "pop.rename(columns = {\"gqid\" : \"id\"}, inplace=True)"
   ]
  },
  {
   "cell_type": "code",
   "execution_count": 5,
   "id": "dc52e9cd-c755-48df-9417-0a796d48ee6b",
   "metadata": {},
   "outputs": [],
   "source": [
    "column_filter = pop[pop.columns[pop.columns.str.contains(\"worldpop\")]]"
   ]
  },
  {
   "cell_type": "code",
   "execution_count": 6,
   "id": "122e9210-94a9-4a1d-90f6-63cd8350309b",
   "metadata": {},
   "outputs": [],
   "source": [
    "for col in column_filter:\n",
    "    new_name = \"pop\" + col.split(\".\", 1)[1]\n",
    "    pop.rename(columns = {col : new_name}, inplace = True)"
   ]
  },
  {
   "cell_type": "code",
   "execution_count": 7,
   "id": "05550afc-c42e-4a31-842c-38233f9fc8d8",
   "metadata": {},
   "outputs": [],
   "source": [
    "pop_sum = pop[pop.columns[pop.columns.str.contains(\"sum|shape|id\")]]"
   ]
  },
  {
   "cell_type": "code",
   "execution_count": 8,
   "id": "bda78007-b56d-458e-a949-592f5fb202b3",
   "metadata": {},
   "outputs": [],
   "source": [
    "pop_sum.columns = pop_sum.columns.str.replace(\".sum$\", \"\", regex=True)"
   ]
  },
  {
   "cell_type": "code",
   "execution_count": null,
   "id": "9b2ebc4f-6924-4d0a-9afc-d52fb97d3aad",
   "metadata": {},
   "outputs": [],
   "source": []
  },
  {
   "cell_type": "code",
   "execution_count": null,
   "id": "bc1443c1-4ec8-4cfe-aca2-f78bcc5b47c0",
   "metadata": {},
   "outputs": [],
   "source": []
  },
  {
   "cell_type": "code",
   "execution_count": 10,
   "id": "9206eda9-fa2f-4cb0-a951-812a36fef24f",
   "metadata": {},
   "outputs": [],
   "source": [
    "prep = pd.read_csv(\"/Users/hendrixperalta/Desktop/Research Data Manipulation/research_data/adm2/precipitation/precipitation_00_22.csv\")"
   ]
  },
  {
   "cell_type": "code",
   "execution_count": 11,
   "id": "32ae923c-a3a9-4113-8b45-1e81b208c614",
   "metadata": {},
   "outputs": [],
   "source": [
    "prep_filter = prep[prep.columns[prep.columns.str.contains(\"pre_yearly\")]]"
   ]
  },
  {
   "cell_type": "code",
   "execution_count": 12,
   "id": "ce192ac1-7339-4355-adaf-629a562e1bf8",
   "metadata": {},
   "outputs": [],
   "source": [
    "for col in prep_filter: \n",
    "    new_name = \"prep\" + col.split(\".\", 1)[1]\n",
    "    prep.rename(columns = {col : new_name}, inplace = True)"
   ]
  },
  {
   "cell_type": "code",
   "execution_count": 13,
   "id": "1e8b7cc2-9764-4be4-abb3-c1a24b6307a2",
   "metadata": {},
   "outputs": [],
   "source": [
    "prep.columns = prep.columns.str.replace(\".mean$\", \"\", regex=True)"
   ]
  },
  {
   "cell_type": "code",
   "execution_count": 26,
   "id": "1cec8788-ebec-48ea-badf-89261f9ffd94",
   "metadata": {},
   "outputs": [],
   "source": [
    "prep.rename(columns = {\"asdf_id\" : \"id\"}, inplace=True)"
   ]
  },
  {
   "cell_type": "code",
   "execution_count": null,
   "id": "add25a96-a4ec-4fff-819c-ab28a49ff43d",
   "metadata": {},
   "outputs": [],
   "source": []
  },
  {
   "cell_type": "code",
   "execution_count": null,
   "id": "e79828cc-15fc-41c7-9692-bd9279c2cc7d",
   "metadata": {},
   "outputs": [],
   "source": []
  },
  {
   "cell_type": "code",
   "execution_count": 14,
   "id": "598e9ce7-3603-4884-914e-ae322c4101f4",
   "metadata": {},
   "outputs": [],
   "source": [
    "temp = pd.read_csv(\"/Users/hendrixperalta/Desktop/Research Data Manipulation/research_data/adm2/temperature/temperature_day_modis61_mean.csv\")"
   ]
  },
  {
   "cell_type": "code",
   "execution_count": 29,
   "id": "a6b5bf66-8756-466a-a126-6213d6572ff3",
   "metadata": {},
   "outputs": [],
   "source": [
    "temp.rename(columns = {\"gqid\" : \"id\"}, inplace=True)"
   ]
  },
  {
   "cell_type": "code",
   "execution_count": 31,
   "id": "088f699a-d6bb-40ca-8952-705f24c48cbc",
   "metadata": {},
   "outputs": [],
   "source": [
    "temp_filter = temp[temp.columns[temp.columns.str.contains(\"mod11c3_061\")]]"
   ]
  },
  {
   "cell_type": "code",
   "execution_count": 32,
   "id": "3211da4d-dfdb-4bf8-aa02-983c607d5283",
   "metadata": {},
   "outputs": [],
   "source": [
    "for col in temp_filter: \n",
    "    new_name = \"temp\" + col.split(\".\", 1)[1]\n",
    "    temp.rename(columns = {col : new_name}, inplace=True)"
   ]
  },
  {
   "cell_type": "code",
   "execution_count": 33,
   "id": "b166ea7f-97b4-4f0b-8884-a3791f4840a9",
   "metadata": {},
   "outputs": [],
   "source": [
    "temp.columns = temp.columns.str.replace(\".mean$\", \"\", regex=True)"
   ]
  },
  {
   "cell_type": "code",
   "execution_count": null,
   "id": "cf9c6080-e847-44ce-a97c-d6adb4548fa7",
   "metadata": {},
   "outputs": [],
   "source": []
  },
  {
   "cell_type": "code",
   "execution_count": null,
   "id": "2c8abce5-9421-4000-8a88-d918abc2c7fc",
   "metadata": {},
   "outputs": [],
   "source": []
  },
  {
   "cell_type": "code",
   "execution_count": 18,
   "id": "f954f11a-3c51-4258-bf9d-58d5143449b2",
   "metadata": {},
   "outputs": [],
   "source": [
    "agri = pd.read_csv(\"/Users/hendrixperalta/Desktop/Research Data Manipulation/research_data/adm2/landcover/agriculture_land_wide.csv\")"
   ]
  },
  {
   "cell_type": "code",
   "execution_count": 37,
   "id": "7ac9cf78-17d9-461d-9b0b-48c67e0f065f",
   "metadata": {},
   "outputs": [],
   "source": [
    "agri.rename(columns = {\"cityCode\" : \"id\"}, inplace=True)"
   ]
  },
  {
   "cell_type": "code",
   "execution_count": null,
   "id": "f0b6f1b3-43ef-4c55-ac53-2d250b0aaf9d",
   "metadata": {},
   "outputs": [],
   "source": []
  },
  {
   "cell_type": "code",
   "execution_count": null,
   "id": "04ee6cca-eec5-4a66-9c67-625d04870bdf",
   "metadata": {},
   "outputs": [],
   "source": []
  },
  {
   "cell_type": "code",
   "execution_count": 19,
   "id": "4105a4fb-898a-40a0-aa61-64af7f8f410f",
   "metadata": {},
   "outputs": [],
   "source": [
    "urba = pd.read_csv(\"/Users/hendrixperalta/Desktop/Research Data Manipulation/research_data/adm2/landcover/urban_land_wide.csv\")"
   ]
  },
  {
   "cell_type": "code",
   "execution_count": 39,
   "id": "31232208-beaf-42d4-b23c-dd73bb6e0b00",
   "metadata": {},
   "outputs": [],
   "source": [
    "urba.rename(columns = {\"cityCode\" : \"id\"}, inplace=True)"
   ]
  },
  {
   "cell_type": "code",
   "execution_count": null,
   "id": "f8c5952d-e48b-4b2f-9c8a-e3dedaf60c72",
   "metadata": {},
   "outputs": [],
   "source": []
  },
  {
   "cell_type": "code",
   "execution_count": null,
   "id": "700ba25c-c1ac-41ed-aa78-f851ec3488ea",
   "metadata": {},
   "outputs": [],
   "source": []
  },
  {
   "cell_type": "code",
   "execution_count": 20,
   "id": "ac4c34fb-5ab7-4714-9c66-2519ffd32707",
   "metadata": {},
   "outputs": [],
   "source": [
    "ntl = pd.read_csv(\"/Users/hendrixperalta/Desktop/Research Data Manipulation/research_data/adm2/ntl/ntl_sum_wide_00-22.csv\")"
   ]
  },
  {
   "cell_type": "code",
   "execution_count": null,
   "id": "f3c31c5f-3e49-4e53-968f-5755209fdf3e",
   "metadata": {},
   "outputs": [],
   "source": []
  },
  {
   "cell_type": "code",
   "execution_count": null,
   "id": "9450a438-15b0-41c2-b4b3-da710f2c1f83",
   "metadata": {},
   "outputs": [],
   "source": []
  },
  {
   "cell_type": "code",
   "execution_count": 47,
   "id": "59ba9591-df31-47ae-b26f-129075625148",
   "metadata": {},
   "outputs": [],
   "source": [
    "datasets = [prep, temp, agri, urba, ntl]"
   ]
  },
  {
   "cell_type": "code",
   "execution_count": 45,
   "id": "a4ca7878-a24b-44ce-aa71-9560e9187716",
   "metadata": {},
   "outputs": [],
   "source": [
    "municipality_data = pd.merge(sez, pop_sum[pop_sum.columns[pop_sum.columns.str.contains(\"pop|id\")]], on=\"id\", how=\"outer\")"
   ]
  },
  {
   "cell_type": "code",
   "execution_count": 48,
   "id": "767d4b02-64ee-4784-9ba5-1ad2791890b9",
   "metadata": {},
   "outputs": [],
   "source": [
    "for dataset in datasets: \n",
    "    municipality_data = pd.merge(municipality_data, dataset, on=\"id\", how= \"outer\")"
   ]
  },
  {
   "cell_type": "code",
   "execution_count": null,
   "id": "9a183a2b-4391-40b0-b1d7-f6b64157df5e",
   "metadata": {},
   "outputs": [],
   "source": []
  },
  {
   "cell_type": "code",
   "execution_count": null,
   "id": "a060f1f2-392d-491d-a8c4-5b6320de975b",
   "metadata": {},
   "outputs": [],
   "source": []
  },
  {
   "cell_type": "code",
   "execution_count": 50,
   "id": "0d236f89-14ff-42af-b947-15c941a25937",
   "metadata": {},
   "outputs": [],
   "source": []
  },
  {
   "cell_type": "code",
   "execution_count": 51,
   "id": "71dd0fe4-4ee1-41b8-9996-6b8eca863f9b",
   "metadata": {},
   "outputs": [
    {
     "data": {
      "text/html": [
       "<div>\n",
       "<style scoped>\n",
       "    .dataframe tbody tr th:only-of-type {\n",
       "        vertical-align: middle;\n",
       "    }\n",
       "\n",
       "    .dataframe tbody tr th {\n",
       "        vertical-align: top;\n",
       "    }\n",
       "\n",
       "    .dataframe thead th {\n",
       "        text-align: right;\n",
       "    }\n",
       "</style>\n",
       "<table border=\"1\" class=\"dataframe\">\n",
       "  <thead>\n",
       "    <tr style=\"text-align: right;\">\n",
       "      <th></th>\n",
       "      <th>id</th>\n",
       "      <th>index_left</th>\n",
       "      <th>code</th>\n",
       "      <th>name</th>\n",
       "      <th>latitude</th>\n",
       "      <th>longitude</th>\n",
       "      <th>year</th>\n",
       "      <th>close</th>\n",
       "      <th>type</th>\n",
       "      <th>sez_id</th>\n",
       "      <th>...</th>\n",
       "      <th>ntl_2007</th>\n",
       "      <th>ntl_2008</th>\n",
       "      <th>ntl_2009</th>\n",
       "      <th>ntl_2010</th>\n",
       "      <th>ntl_2011</th>\n",
       "      <th>ntl_2012</th>\n",
       "      <th>ntl_2013</th>\n",
       "      <th>ntl_2014</th>\n",
       "      <th>ntl_2015</th>\n",
       "      <th>ntl_2016</th>\n",
       "    </tr>\n",
       "  </thead>\n",
       "  <tbody>\n",
       "    <tr>\n",
       "      <th>0</th>\n",
       "      <td>0</td>\n",
       "      <td>0.0</td>\n",
       "      <td>0</td>\n",
       "      <td>0</td>\n",
       "      <td>0.000000</td>\n",
       "      <td>0.000000</td>\n",
       "      <td>0.0</td>\n",
       "      <td>0.0</td>\n",
       "      <td>0</td>\n",
       "      <td>0.0</td>\n",
       "      <td>...</td>\n",
       "      <td>0.081665</td>\n",
       "      <td>0.054235</td>\n",
       "      <td>0.068892</td>\n",
       "      <td>0.047213</td>\n",
       "      <td>0.125228</td>\n",
       "      <td>0.044765</td>\n",
       "      <td>0.163717</td>\n",
       "      <td>0.199235</td>\n",
       "      <td>0.275266</td>\n",
       "      <td>0.261424</td>\n",
       "    </tr>\n",
       "    <tr>\n",
       "      <th>1</th>\n",
       "      <td>1</td>\n",
       "      <td>0.0</td>\n",
       "      <td>0</td>\n",
       "      <td>0</td>\n",
       "      <td>0.000000</td>\n",
       "      <td>0.000000</td>\n",
       "      <td>0.0</td>\n",
       "      <td>0.0</td>\n",
       "      <td>0</td>\n",
       "      <td>0.0</td>\n",
       "      <td>...</td>\n",
       "      <td>0.013462</td>\n",
       "      <td>0.008532</td>\n",
       "      <td>0.017813</td>\n",
       "      <td>0.010322</td>\n",
       "      <td>0.021407</td>\n",
       "      <td>0.010507</td>\n",
       "      <td>0.052045</td>\n",
       "      <td>0.058413</td>\n",
       "      <td>0.064734</td>\n",
       "      <td>0.054829</td>\n",
       "    </tr>\n",
       "    <tr>\n",
       "      <th>2</th>\n",
       "      <td>2</td>\n",
       "      <td>57.0</td>\n",
       "      <td>DOM-MOC</td>\n",
       "      <td>Moca</td>\n",
       "      <td>19.390233</td>\n",
       "      <td>-70.537286</td>\n",
       "      <td>1989.0</td>\n",
       "      <td>0.0</td>\n",
       "      <td>public</td>\n",
       "      <td>58.0</td>\n",
       "      <td>...</td>\n",
       "      <td>0.221490</td>\n",
       "      <td>0.268126</td>\n",
       "      <td>0.359653</td>\n",
       "      <td>0.248176</td>\n",
       "      <td>0.597419</td>\n",
       "      <td>0.689785</td>\n",
       "      <td>1.514305</td>\n",
       "      <td>1.899313</td>\n",
       "      <td>2.090571</td>\n",
       "      <td>2.052055</td>\n",
       "    </tr>\n",
       "    <tr>\n",
       "      <th>3</th>\n",
       "      <td>3</td>\n",
       "      <td>0.0</td>\n",
       "      <td>0</td>\n",
       "      <td>0</td>\n",
       "      <td>0.000000</td>\n",
       "      <td>0.000000</td>\n",
       "      <td>0.0</td>\n",
       "      <td>0.0</td>\n",
       "      <td>0</td>\n",
       "      <td>0.0</td>\n",
       "      <td>...</td>\n",
       "      <td>0.004520</td>\n",
       "      <td>0.007137</td>\n",
       "      <td>0.004743</td>\n",
       "      <td>0.011097</td>\n",
       "      <td>0.089729</td>\n",
       "      <td>0.018345</td>\n",
       "      <td>0.027539</td>\n",
       "      <td>0.028921</td>\n",
       "      <td>0.019717</td>\n",
       "      <td>0.047437</td>\n",
       "    </tr>\n",
       "    <tr>\n",
       "      <th>4</th>\n",
       "      <td>4</td>\n",
       "      <td>0.0</td>\n",
       "      <td>0</td>\n",
       "      <td>0</td>\n",
       "      <td>0.000000</td>\n",
       "      <td>0.000000</td>\n",
       "      <td>0.0</td>\n",
       "      <td>0.0</td>\n",
       "      <td>0</td>\n",
       "      <td>0.0</td>\n",
       "      <td>...</td>\n",
       "      <td>0.000702</td>\n",
       "      <td>0.000000</td>\n",
       "      <td>0.000000</td>\n",
       "      <td>0.017778</td>\n",
       "      <td>0.133369</td>\n",
       "      <td>0.155101</td>\n",
       "      <td>0.169288</td>\n",
       "      <td>0.174950</td>\n",
       "      <td>0.173296</td>\n",
       "      <td>0.168871</td>\n",
       "    </tr>\n",
       "    <tr>\n",
       "      <th>...</th>\n",
       "      <td>...</td>\n",
       "      <td>...</td>\n",
       "      <td>...</td>\n",
       "      <td>...</td>\n",
       "      <td>...</td>\n",
       "      <td>...</td>\n",
       "      <td>...</td>\n",
       "      <td>...</td>\n",
       "      <td>...</td>\n",
       "      <td>...</td>\n",
       "      <td>...</td>\n",
       "      <td>...</td>\n",
       "      <td>...</td>\n",
       "      <td>...</td>\n",
       "      <td>...</td>\n",
       "      <td>...</td>\n",
       "      <td>...</td>\n",
       "      <td>...</td>\n",
       "      <td>...</td>\n",
       "      <td>...</td>\n",
       "      <td>...</td>\n",
       "    </tr>\n",
       "    <tr>\n",
       "      <th>157</th>\n",
       "      <td>157</td>\n",
       "      <td>0.0</td>\n",
       "      <td>0</td>\n",
       "      <td>0</td>\n",
       "      <td>0.000000</td>\n",
       "      <td>0.000000</td>\n",
       "      <td>0.0</td>\n",
       "      <td>0.0</td>\n",
       "      <td>0</td>\n",
       "      <td>0.0</td>\n",
       "      <td>...</td>\n",
       "      <td>0.000000</td>\n",
       "      <td>0.000000</td>\n",
       "      <td>0.000000</td>\n",
       "      <td>0.000000</td>\n",
       "      <td>0.000000</td>\n",
       "      <td>0.000000</td>\n",
       "      <td>0.000000</td>\n",
       "      <td>0.000000</td>\n",
       "      <td>0.000000</td>\n",
       "      <td>0.000000</td>\n",
       "    </tr>\n",
       "    <tr>\n",
       "      <th>158</th>\n",
       "      <td>158</td>\n",
       "      <td>0.0</td>\n",
       "      <td>0</td>\n",
       "      <td>0</td>\n",
       "      <td>0.000000</td>\n",
       "      <td>0.000000</td>\n",
       "      <td>0.0</td>\n",
       "      <td>0.0</td>\n",
       "      <td>0</td>\n",
       "      <td>0.0</td>\n",
       "      <td>...</td>\n",
       "      <td>0.000000</td>\n",
       "      <td>0.000000</td>\n",
       "      <td>0.000000</td>\n",
       "      <td>0.000000</td>\n",
       "      <td>0.000000</td>\n",
       "      <td>0.000000</td>\n",
       "      <td>0.000000</td>\n",
       "      <td>0.000000</td>\n",
       "      <td>0.000000</td>\n",
       "      <td>0.000000</td>\n",
       "    </tr>\n",
       "    <tr>\n",
       "      <th>159</th>\n",
       "      <td>159</td>\n",
       "      <td>0.0</td>\n",
       "      <td>0</td>\n",
       "      <td>0</td>\n",
       "      <td>0.000000</td>\n",
       "      <td>0.000000</td>\n",
       "      <td>0.0</td>\n",
       "      <td>0.0</td>\n",
       "      <td>0</td>\n",
       "      <td>0.0</td>\n",
       "      <td>...</td>\n",
       "      <td>0.475824</td>\n",
       "      <td>0.480153</td>\n",
       "      <td>0.270949</td>\n",
       "      <td>0.517872</td>\n",
       "      <td>0.146408</td>\n",
       "      <td>3.008230</td>\n",
       "      <td>2.917675</td>\n",
       "      <td>2.435320</td>\n",
       "      <td>2.809598</td>\n",
       "      <td>3.067744</td>\n",
       "    </tr>\n",
       "    <tr>\n",
       "      <th>160</th>\n",
       "      <td>160</td>\n",
       "      <td>0.0</td>\n",
       "      <td>0</td>\n",
       "      <td>0</td>\n",
       "      <td>0.000000</td>\n",
       "      <td>0.000000</td>\n",
       "      <td>0.0</td>\n",
       "      <td>0.0</td>\n",
       "      <td>0</td>\n",
       "      <td>0.0</td>\n",
       "      <td>...</td>\n",
       "      <td>0.139658</td>\n",
       "      <td>0.194825</td>\n",
       "      <td>0.161317</td>\n",
       "      <td>0.040305</td>\n",
       "      <td>0.246985</td>\n",
       "      <td>0.800407</td>\n",
       "      <td>1.129739</td>\n",
       "      <td>1.227912</td>\n",
       "      <td>1.349442</td>\n",
       "      <td>1.265729</td>\n",
       "    </tr>\n",
       "    <tr>\n",
       "      <th>161</th>\n",
       "      <td>161</td>\n",
       "      <td>6.0</td>\n",
       "      <td>DOM-BAN</td>\n",
       "      <td>Bani</td>\n",
       "      <td>18.253155</td>\n",
       "      <td>-70.405117</td>\n",
       "      <td>1986.0</td>\n",
       "      <td>0.0</td>\n",
       "      <td>private</td>\n",
       "      <td>7.0</td>\n",
       "      <td>...</td>\n",
       "      <td>0.000000</td>\n",
       "      <td>0.000000</td>\n",
       "      <td>0.000000</td>\n",
       "      <td>0.000000</td>\n",
       "      <td>0.043324</td>\n",
       "      <td>0.117635</td>\n",
       "      <td>0.394081</td>\n",
       "      <td>0.438120</td>\n",
       "      <td>0.443447</td>\n",
       "      <td>0.399016</td>\n",
       "    </tr>\n",
       "  </tbody>\n",
       "</table>\n",
       "<p>162 rows × 448 columns</p>\n",
       "</div>"
      ],
      "text/plain": [
       "      id  index_left     code    name   latitude  longitude    year  close  \\\n",
       "0      0         0.0        0       0   0.000000   0.000000     0.0    0.0   \n",
       "1      1         0.0        0       0   0.000000   0.000000     0.0    0.0   \n",
       "2      2        57.0  DOM-MOC  Moca    19.390233 -70.537286  1989.0    0.0   \n",
       "3      3         0.0        0       0   0.000000   0.000000     0.0    0.0   \n",
       "4      4         0.0        0       0   0.000000   0.000000     0.0    0.0   \n",
       "..   ...         ...      ...     ...        ...        ...     ...    ...   \n",
       "157  157         0.0        0       0   0.000000   0.000000     0.0    0.0   \n",
       "158  158         0.0        0       0   0.000000   0.000000     0.0    0.0   \n",
       "159  159         0.0        0       0   0.000000   0.000000     0.0    0.0   \n",
       "160  160         0.0        0       0   0.000000   0.000000     0.0    0.0   \n",
       "161  161         6.0  DOM-BAN    Bani  18.253155 -70.405117  1986.0    0.0   \n",
       "\n",
       "        type  sez_id  ...  ntl_2007  ntl_2008  ntl_2009  ntl_2010  ntl_2011  \\\n",
       "0          0     0.0  ...  0.081665  0.054235  0.068892  0.047213  0.125228   \n",
       "1          0     0.0  ...  0.013462  0.008532  0.017813  0.010322  0.021407   \n",
       "2     public    58.0  ...  0.221490  0.268126  0.359653  0.248176  0.597419   \n",
       "3          0     0.0  ...  0.004520  0.007137  0.004743  0.011097  0.089729   \n",
       "4          0     0.0  ...  0.000702  0.000000  0.000000  0.017778  0.133369   \n",
       "..       ...     ...  ...       ...       ...       ...       ...       ...   \n",
       "157        0     0.0  ...  0.000000  0.000000  0.000000  0.000000  0.000000   \n",
       "158        0     0.0  ...  0.000000  0.000000  0.000000  0.000000  0.000000   \n",
       "159        0     0.0  ...  0.475824  0.480153  0.270949  0.517872  0.146408   \n",
       "160        0     0.0  ...  0.139658  0.194825  0.161317  0.040305  0.246985   \n",
       "161  private     7.0  ...  0.000000  0.000000  0.000000  0.000000  0.043324   \n",
       "\n",
       "     ntl_2012  ntl_2013  ntl_2014  ntl_2015  ntl_2016  \n",
       "0    0.044765  0.163717  0.199235  0.275266  0.261424  \n",
       "1    0.010507  0.052045  0.058413  0.064734  0.054829  \n",
       "2    0.689785  1.514305  1.899313  2.090571  2.052055  \n",
       "3    0.018345  0.027539  0.028921  0.019717  0.047437  \n",
       "4    0.155101  0.169288  0.174950  0.173296  0.168871  \n",
       "..        ...       ...       ...       ...       ...  \n",
       "157  0.000000  0.000000  0.000000  0.000000  0.000000  \n",
       "158  0.000000  0.000000  0.000000  0.000000  0.000000  \n",
       "159  3.008230  2.917675  2.435320  2.809598  3.067744  \n",
       "160  0.800407  1.129739  1.227912  1.349442  1.265729  \n",
       "161  0.117635  0.394081  0.438120  0.443447  0.399016  \n",
       "\n",
       "[162 rows x 448 columns]"
      ]
     },
     "execution_count": 51,
     "metadata": {},
     "output_type": "execute_result"
    }
   ],
   "source": []
  },
  {
   "cell_type": "code",
   "execution_count": null,
   "id": "049a8736-5db3-4f4e-826a-333426382dbd",
   "metadata": {},
   "outputs": [],
   "source": []
  }
 ],
 "metadata": {
  "kernelspec": {
   "display_name": "Python 3 (ipykernel)",
   "language": "python",
   "name": "python3"
  },
  "language_info": {
   "codemirror_mode": {
    "name": "ipython",
    "version": 3
   },
   "file_extension": ".py",
   "mimetype": "text/x-python",
   "name": "python",
   "nbconvert_exporter": "python",
   "pygments_lexer": "ipython3",
   "version": "3.12.0"
  }
 },
 "nbformat": 4,
 "nbformat_minor": 5
}
