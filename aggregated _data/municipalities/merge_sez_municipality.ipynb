{
 "cells": [
  {
   "cell_type": "code",
   "execution_count": 1,
   "id": "3f841429-424d-4db5-a053-cd6f4e850fe7",
   "metadata": {},
   "outputs": [],
   "source": [
    "import pandas as pd"
   ]
  },
  {
   "cell_type": "code",
   "execution_count": 3,
   "id": "cad32817-47b4-4498-9e16-244cf7ccda9f",
   "metadata": {},
   "outputs": [],
   "source": [
    "sez = pd.read_csv(\"joined_sez_map.csv\")"
   ]
  },
  {
   "cell_type": "code",
   "execution_count": null,
   "id": "4c5eebbe-ae43-434e-9808-e8ed34426afa",
   "metadata": {},
   "outputs": [],
   "source": []
  },
  {
   "cell_type": "code",
   "execution_count": 6,
   "id": "71f510d2-4da5-408c-958f-a8856996416b",
   "metadata": {},
   "outputs": [],
   "source": [
    "pop = pd.read_csv(\"/Users/hendrixperalta/Desktop/Research Data Manipulation/research_data/adm2/population/worlpop_count_sum.csv\")"
   ]
  },
  {
   "cell_type": "code",
   "execution_count": null,
   "id": "07594ec8-8183-4b51-9cf2-c7641d47c79a",
   "metadata": {},
   "outputs": [],
   "source": []
  },
  {
   "cell_type": "code",
   "execution_count": 9,
   "id": "dc52e9cd-c755-48df-9417-0a796d48ee6b",
   "metadata": {},
   "outputs": [],
   "source": [
    "column_filter = pop[pop.columns[pop.columns.str.contains(\"worldpop\")]]"
   ]
  },
  {
   "cell_type": "code",
   "execution_count": 11,
   "id": "122e9210-94a9-4a1d-90f6-63cd8350309b",
   "metadata": {},
   "outputs": [],
   "source": [
    "for col in column_filter:\n",
    "    new_name = \"pop\" + col.split(\".\", 1)[1]\n",
    "    pop.rename(columns = {col : new_name}, inplace = True)"
   ]
  },
  {
   "cell_type": "code",
   "execution_count": 13,
   "id": "05550afc-c42e-4a31-842c-38233f9fc8d8",
   "metadata": {},
   "outputs": [],
   "source": [
    "pop_sum = pop[pop.columns[pop.columns.str.contains(\"sum|shape|id\")]]"
   ]
  },
  {
   "cell_type": "code",
   "execution_count": 31,
   "id": "bda78007-b56d-458e-a949-592f5fb202b3",
   "metadata": {},
   "outputs": [],
   "source": [
    "pop_sum.columns = pop_sum.columns.str.replace(\".sum$\", \"\", regex=True)"
   ]
  },
  {
   "cell_type": "code",
   "execution_count": null,
   "id": "9b2ebc4f-6924-4d0a-9afc-d52fb97d3aad",
   "metadata": {},
   "outputs": [],
   "source": []
  },
  {
   "cell_type": "code",
   "execution_count": null,
   "id": "bc1443c1-4ec8-4cfe-aca2-f78bcc5b47c0",
   "metadata": {},
   "outputs": [],
   "source": []
  },
  {
   "cell_type": "code",
   "execution_count": 15,
   "id": "9206eda9-fa2f-4cb0-a951-812a36fef24f",
   "metadata": {},
   "outputs": [],
   "source": [
    "prep = pd.read_csv(\"/Users/hendrixperalta/Desktop/Research Data Manipulation/research_data/adm2/precipitation/precipitation_00_22.csv\")"
   ]
  },
  {
   "cell_type": "code",
   "execution_count": null,
   "id": "5a5feb91-32ef-4036-949c-c83cc95754c1",
   "metadata": {},
   "outputs": [],
   "source": []
  },
  {
   "cell_type": "code",
   "execution_count": 24,
   "id": "32ae923c-a3a9-4113-8b45-1e81b208c614",
   "metadata": {},
   "outputs": [],
   "source": [
    "prep_filter = prep[prep.columns[prep.columns.str.contains(\"pre_yearly\")]]"
   ]
  },
  {
   "cell_type": "code",
   "execution_count": 25,
   "id": "ce192ac1-7339-4355-adaf-629a562e1bf8",
   "metadata": {},
   "outputs": [],
   "source": [
    "for col in prep_filter: \n",
    "    new_name = \"prep\" + col.split(\".\", 1)[1]\n",
    "    prep.rename(columns = {col : new_name}, inplace = True)"
   ]
  },
  {
   "cell_type": "code",
   "execution_count": 33,
   "id": "1e8b7cc2-9764-4be4-abb3-c1a24b6307a2",
   "metadata": {},
   "outputs": [],
   "source": [
    "prep.columns = prep.columns.str.replace(\".mean$\", \"\", regex=True)"
   ]
  },
  {
   "cell_type": "code",
   "execution_count": null,
   "id": "1cec8788-ebec-48ea-badf-89261f9ffd94",
   "metadata": {},
   "outputs": [],
   "source": []
  },
  {
   "cell_type": "code",
   "execution_count": 35,
   "id": "598e9ce7-3603-4884-914e-ae322c4101f4",
   "metadata": {},
   "outputs": [],
   "source": [
    "temp = pd.read_csv(\"/Users/hendrixperalta/Desktop/Research Data Manipulation/research_data/adm2/temperature/temperature_day_modis61_mean.csv\")"
   ]
  },
  {
   "cell_type": "code",
   "execution_count": null,
   "id": "a6b5bf66-8756-466a-a126-6213d6572ff3",
   "metadata": {},
   "outputs": [],
   "source": []
  },
  {
   "cell_type": "code",
   "execution_count": 38,
   "id": "088f699a-d6bb-40ca-8952-705f24c48cbc",
   "metadata": {},
   "outputs": [],
   "source": [
    "temp_filter = temp[temp.columns[temp.columns.str.contains(\"mod11c3_061\")]]"
   ]
  },
  {
   "cell_type": "code",
   "execution_count": 41,
   "id": "3211da4d-dfdb-4bf8-aa02-983c607d5283",
   "metadata": {},
   "outputs": [],
   "source": [
    "for col in temp_filter: \n",
    "    new_name = \"temp\" + col.split(\".\", 1)[1]\n",
    "    temp.rename(columns = {col : new_name}, inplace=True)"
   ]
  },
  {
   "cell_type": "code",
   "execution_count": 44,
   "id": "b166ea7f-97b4-4f0b-8884-a3791f4840a9",
   "metadata": {},
   "outputs": [],
   "source": [
    "temp.columns = temp.columns.str.replace(\".mean$\", \"\", regex=True)"
   ]
  },
  {
   "cell_type": "code",
   "execution_count": null,
   "id": "cf9c6080-e847-44ce-a97c-d6adb4548fa7",
   "metadata": {},
   "outputs": [],
   "source": []
  },
  {
   "cell_type": "code",
   "execution_count": null,
   "id": "f954f11a-3c51-4258-bf9d-58d5143449b2",
   "metadata": {},
   "outputs": [],
   "source": []
  }
 ],
 "metadata": {
  "kernelspec": {
   "display_name": "Python 3 (ipykernel)",
   "language": "python",
   "name": "python3"
  },
  "language_info": {
   "codemirror_mode": {
    "name": "ipython",
    "version": 3
   },
   "file_extension": ".py",
   "mimetype": "text/x-python",
   "name": "python",
   "nbconvert_exporter": "python",
   "pygments_lexer": "ipython3",
   "version": "3.12.0"
  }
 },
 "nbformat": 4,
 "nbformat_minor": 5
}
