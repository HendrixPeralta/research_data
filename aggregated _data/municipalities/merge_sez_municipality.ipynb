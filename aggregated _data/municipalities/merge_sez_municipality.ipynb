{
 "cells": [
  {
   "cell_type": "code",
   "execution_count": 1,
   "id": "3f841429-424d-4db5-a053-cd6f4e850fe7",
   "metadata": {},
   "outputs": [],
   "source": [
    "import pandas as pd"
   ]
  },
  {
   "cell_type": "code",
   "execution_count": 2,
   "id": "cad32817-47b4-4498-9e16-244cf7ccda9f",
   "metadata": {},
   "outputs": [],
   "source": [
    "sez = pd.read_csv(\"joined_sez_map.csv\")"
   ]
  },
  {
   "cell_type": "code",
   "execution_count": null,
   "id": "4c5eebbe-ae43-434e-9808-e8ed34426afa",
   "metadata": {},
   "outputs": [],
   "source": []
  },
  {
   "cell_type": "code",
   "execution_count": 3,
   "id": "71f510d2-4da5-408c-958f-a8856996416b",
   "metadata": {},
   "outputs": [],
   "source": [
    "pop = pd.read_csv(\"/Users/hendrixperalta/Desktop/Research Data Manipulation/research_data/adm2/population/worlpop_count_sum.csv\")"
   ]
  },
  {
   "cell_type": "code",
   "execution_count": 4,
   "id": "07594ec8-8183-4b51-9cf2-c7641d47c79a",
   "metadata": {},
   "outputs": [],
   "source": [
    "pop.rename(columns = {\"gqid\" : \"id\"}, inplace=True)"
   ]
  },
  {
   "cell_type": "code",
   "execution_count": 5,
   "id": "dc52e9cd-c755-48df-9417-0a796d48ee6b",
   "metadata": {},
   "outputs": [],
   "source": [
    "column_filter = pop[pop.columns[pop.columns.str.contains(\"worldpop\")]]"
   ]
  },
  {
   "cell_type": "code",
   "execution_count": 6,
   "id": "122e9210-94a9-4a1d-90f6-63cd8350309b",
   "metadata": {},
   "outputs": [],
   "source": [
    "for col in column_filter:\n",
    "    new_name = \"pop\" + col.split(\".\", 1)[1]\n",
    "    pop.rename(columns = {col : new_name}, inplace = True)"
   ]
  },
  {
   "cell_type": "code",
   "execution_count": 7,
   "id": "05550afc-c42e-4a31-842c-38233f9fc8d8",
   "metadata": {},
   "outputs": [],
   "source": [
    "pop_sum = pop[pop.columns[pop.columns.str.contains(\"sum|id\")]]"
   ]
  },
  {
   "cell_type": "code",
   "execution_count": 8,
   "id": "bda78007-b56d-458e-a949-592f5fb202b3",
   "metadata": {},
   "outputs": [],
   "source": [
    "pop_sum.columns = pop_sum.columns.str.replace(\".sum$\", \"\", regex=True)"
   ]
  },
  {
   "cell_type": "code",
   "execution_count": 9,
   "id": "9b2ebc4f-6924-4d0a-9afc-d52fb97d3aad",
   "metadata": {},
   "outputs": [
    {
     "data": {
      "text/html": [
       "<div>\n",
       "<style scoped>\n",
       "    .dataframe tbody tr th:only-of-type {\n",
       "        vertical-align: middle;\n",
       "    }\n",
       "\n",
       "    .dataframe tbody tr th {\n",
       "        vertical-align: top;\n",
       "    }\n",
       "\n",
       "    .dataframe thead th {\n",
       "        text-align: right;\n",
       "    }\n",
       "</style>\n",
       "<table border=\"1\" class=\"dataframe\">\n",
       "  <thead>\n",
       "    <tr style=\"text-align: right;\">\n",
       "      <th></th>\n",
       "      <th>id</th>\n",
       "      <th>pop2000</th>\n",
       "      <th>pop2001</th>\n",
       "      <th>pop2002</th>\n",
       "      <th>pop2003</th>\n",
       "      <th>pop2004</th>\n",
       "      <th>pop2005</th>\n",
       "      <th>pop2006</th>\n",
       "      <th>pop2007</th>\n",
       "      <th>pop2008</th>\n",
       "      <th>...</th>\n",
       "      <th>pop2011</th>\n",
       "      <th>pop2012</th>\n",
       "      <th>pop2013</th>\n",
       "      <th>pop2014</th>\n",
       "      <th>pop2015</th>\n",
       "      <th>pop2016</th>\n",
       "      <th>pop2017</th>\n",
       "      <th>pop2018</th>\n",
       "      <th>pop2019</th>\n",
       "      <th>pop2020</th>\n",
       "    </tr>\n",
       "  </thead>\n",
       "  <tbody>\n",
       "    <tr>\n",
       "      <th>0</th>\n",
       "      <td>0</td>\n",
       "      <td>45970.070310</td>\n",
       "      <td>47035.882810</td>\n",
       "      <td>48345.648440</td>\n",
       "      <td>49470.703130</td>\n",
       "      <td>50638.523440</td>\n",
       "      <td>52060.175780</td>\n",
       "      <td>53419.183590</td>\n",
       "      <td>55033.140630</td>\n",
       "      <td>56472.507810</td>\n",
       "      <td>...</td>\n",
       "      <td>61356.378910</td>\n",
       "      <td>62881.078130</td>\n",
       "      <td>64882.167970</td>\n",
       "      <td>66922.765630</td>\n",
       "      <td>68747.250000</td>\n",
       "      <td>71156.859380</td>\n",
       "      <td>73428.031250</td>\n",
       "      <td>75796.445310</td>\n",
       "      <td>78273.484380</td>\n",
       "      <td>80849.898440</td>\n",
       "    </tr>\n",
       "    <tr>\n",
       "      <th>1</th>\n",
       "      <td>1</td>\n",
       "      <td>14736.208010</td>\n",
       "      <td>14754.046880</td>\n",
       "      <td>14827.058590</td>\n",
       "      <td>14836.921880</td>\n",
       "      <td>14940.546880</td>\n",
       "      <td>14959.025390</td>\n",
       "      <td>15013.518550</td>\n",
       "      <td>15104.973630</td>\n",
       "      <td>15166.107420</td>\n",
       "      <td>...</td>\n",
       "      <td>15583.217770</td>\n",
       "      <td>15605.839840</td>\n",
       "      <td>15690.029300</td>\n",
       "      <td>15843.356450</td>\n",
       "      <td>15981.168950</td>\n",
       "      <td>16100.646480</td>\n",
       "      <td>16229.238280</td>\n",
       "      <td>16351.714840</td>\n",
       "      <td>16478.464840</td>\n",
       "      <td>16611.490230</td>\n",
       "    </tr>\n",
       "    <tr>\n",
       "      <th>2</th>\n",
       "      <td>2</td>\n",
       "      <td>74844.140630</td>\n",
       "      <td>77744.734380</td>\n",
       "      <td>81927.132810</td>\n",
       "      <td>84006.570310</td>\n",
       "      <td>86649.195310</td>\n",
       "      <td>89146.882810</td>\n",
       "      <td>91864.375000</td>\n",
       "      <td>94853.234380</td>\n",
       "      <td>98647.468750</td>\n",
       "      <td>...</td>\n",
       "      <td>111147.804700</td>\n",
       "      <td>113425.445300</td>\n",
       "      <td>118354.617200</td>\n",
       "      <td>121928.179700</td>\n",
       "      <td>126503.710900</td>\n",
       "      <td>131977.125000</td>\n",
       "      <td>136775.421900</td>\n",
       "      <td>142350.250000</td>\n",
       "      <td>148277.484400</td>\n",
       "      <td>153291.390600</td>\n",
       "    </tr>\n",
       "    <tr>\n",
       "      <th>3</th>\n",
       "      <td>3</td>\n",
       "      <td>32907.832030</td>\n",
       "      <td>32802.625000</td>\n",
       "      <td>32701.800780</td>\n",
       "      <td>32459.386720</td>\n",
       "      <td>32240.417970</td>\n",
       "      <td>32123.998050</td>\n",
       "      <td>32005.177730</td>\n",
       "      <td>31828.589840</td>\n",
       "      <td>31838.548830</td>\n",
       "      <td>...</td>\n",
       "      <td>31426.476560</td>\n",
       "      <td>31294.906250</td>\n",
       "      <td>31123.841800</td>\n",
       "      <td>31036.798830</td>\n",
       "      <td>30900.898440</td>\n",
       "      <td>30770.750000</td>\n",
       "      <td>30622.753910</td>\n",
       "      <td>30542.845700</td>\n",
       "      <td>30420.687500</td>\n",
       "      <td>30310.660160</td>\n",
       "    </tr>\n",
       "    <tr>\n",
       "      <th>4</th>\n",
       "      <td>4</td>\n",
       "      <td>19353.316410</td>\n",
       "      <td>19696.431640</td>\n",
       "      <td>20171.140630</td>\n",
       "      <td>20543.074220</td>\n",
       "      <td>20984.316410</td>\n",
       "      <td>21655.970700</td>\n",
       "      <td>22166.158200</td>\n",
       "      <td>22585.064450</td>\n",
       "      <td>23429.542970</td>\n",
       "      <td>...</td>\n",
       "      <td>25939.066410</td>\n",
       "      <td>26729.710940</td>\n",
       "      <td>27863.269530</td>\n",
       "      <td>28916.035160</td>\n",
       "      <td>30105.857420</td>\n",
       "      <td>31415.054690</td>\n",
       "      <td>32826.164060</td>\n",
       "      <td>34232.000000</td>\n",
       "      <td>35890.281250</td>\n",
       "      <td>37616.562500</td>\n",
       "    </tr>\n",
       "    <tr>\n",
       "      <th>...</th>\n",
       "      <td>...</td>\n",
       "      <td>...</td>\n",
       "      <td>...</td>\n",
       "      <td>...</td>\n",
       "      <td>...</td>\n",
       "      <td>...</td>\n",
       "      <td>...</td>\n",
       "      <td>...</td>\n",
       "      <td>...</td>\n",
       "      <td>...</td>\n",
       "      <td>...</td>\n",
       "      <td>...</td>\n",
       "      <td>...</td>\n",
       "      <td>...</td>\n",
       "      <td>...</td>\n",
       "      <td>...</td>\n",
       "      <td>...</td>\n",
       "      <td>...</td>\n",
       "      <td>...</td>\n",
       "      <td>...</td>\n",
       "      <td>...</td>\n",
       "    </tr>\n",
       "    <tr>\n",
       "      <th>157</th>\n",
       "      <td>157</td>\n",
       "      <td>831.317627</td>\n",
       "      <td>1242.263184</td>\n",
       "      <td>999.414368</td>\n",
       "      <td>1210.677612</td>\n",
       "      <td>1148.503296</td>\n",
       "      <td>1105.402344</td>\n",
       "      <td>1189.803467</td>\n",
       "      <td>1103.021240</td>\n",
       "      <td>1398.290649</td>\n",
       "      <td>...</td>\n",
       "      <td>1196.959473</td>\n",
       "      <td>1569.069580</td>\n",
       "      <td>1582.425903</td>\n",
       "      <td>1924.996826</td>\n",
       "      <td>2104.555664</td>\n",
       "      <td>1997.416504</td>\n",
       "      <td>1931.732422</td>\n",
       "      <td>2042.943604</td>\n",
       "      <td>2006.158691</td>\n",
       "      <td>2159.082031</td>\n",
       "    </tr>\n",
       "    <tr>\n",
       "      <th>158</th>\n",
       "      <td>158</td>\n",
       "      <td>209.728638</td>\n",
       "      <td>277.456635</td>\n",
       "      <td>257.666229</td>\n",
       "      <td>250.226975</td>\n",
       "      <td>242.554718</td>\n",
       "      <td>227.625488</td>\n",
       "      <td>220.150528</td>\n",
       "      <td>244.760818</td>\n",
       "      <td>249.737640</td>\n",
       "      <td>...</td>\n",
       "      <td>349.489075</td>\n",
       "      <td>311.703003</td>\n",
       "      <td>304.112060</td>\n",
       "      <td>355.788330</td>\n",
       "      <td>389.052185</td>\n",
       "      <td>339.188721</td>\n",
       "      <td>315.339539</td>\n",
       "      <td>358.027313</td>\n",
       "      <td>347.841797</td>\n",
       "      <td>377.290497</td>\n",
       "    </tr>\n",
       "    <tr>\n",
       "      <th>159</th>\n",
       "      <td>159</td>\n",
       "      <td>45563.625000</td>\n",
       "      <td>45702.195310</td>\n",
       "      <td>48744.183590</td>\n",
       "      <td>48841.074220</td>\n",
       "      <td>49615.316410</td>\n",
       "      <td>52321.671880</td>\n",
       "      <td>53622.371090</td>\n",
       "      <td>53751.128910</td>\n",
       "      <td>54719.871090</td>\n",
       "      <td>...</td>\n",
       "      <td>55413.886720</td>\n",
       "      <td>54730.304690</td>\n",
       "      <td>56544.863280</td>\n",
       "      <td>55975.429690</td>\n",
       "      <td>58652.058590</td>\n",
       "      <td>60370.230470</td>\n",
       "      <td>61507.601560</td>\n",
       "      <td>63251.238280</td>\n",
       "      <td>64889.960940</td>\n",
       "      <td>67187.789060</td>\n",
       "    </tr>\n",
       "    <tr>\n",
       "      <th>160</th>\n",
       "      <td>160</td>\n",
       "      <td>62141.441410</td>\n",
       "      <td>62876.718750</td>\n",
       "      <td>62545.578130</td>\n",
       "      <td>64238.656250</td>\n",
       "      <td>65637.851560</td>\n",
       "      <td>67623.843750</td>\n",
       "      <td>69085.468750</td>\n",
       "      <td>70825.281250</td>\n",
       "      <td>71755.742190</td>\n",
       "      <td>...</td>\n",
       "      <td>74754.515630</td>\n",
       "      <td>77995.312500</td>\n",
       "      <td>78869.742190</td>\n",
       "      <td>81556.546880</td>\n",
       "      <td>83240.257810</td>\n",
       "      <td>84292.187500</td>\n",
       "      <td>86342.562500</td>\n",
       "      <td>87863.320310</td>\n",
       "      <td>89389.031250</td>\n",
       "      <td>92006.054690</td>\n",
       "    </tr>\n",
       "    <tr>\n",
       "      <th>161</th>\n",
       "      <td>161</td>\n",
       "      <td>34227.917970</td>\n",
       "      <td>36069.531250</td>\n",
       "      <td>36438.628910</td>\n",
       "      <td>37953.761720</td>\n",
       "      <td>39210.035160</td>\n",
       "      <td>38232.910160</td>\n",
       "      <td>36872.156250</td>\n",
       "      <td>38965.273440</td>\n",
       "      <td>41954.937500</td>\n",
       "      <td>...</td>\n",
       "      <td>45980.375000</td>\n",
       "      <td>45739.152340</td>\n",
       "      <td>46780.414060</td>\n",
       "      <td>49476.898440</td>\n",
       "      <td>50912.062500</td>\n",
       "      <td>51284.535160</td>\n",
       "      <td>52062.464840</td>\n",
       "      <td>54064.800780</td>\n",
       "      <td>55536.328130</td>\n",
       "      <td>57532.125000</td>\n",
       "    </tr>\n",
       "  </tbody>\n",
       "</table>\n",
       "<p>162 rows × 22 columns</p>\n",
       "</div>"
      ],
      "text/plain": [
       "      id       pop2000       pop2001       pop2002       pop2003  \\\n",
       "0      0  45970.070310  47035.882810  48345.648440  49470.703130   \n",
       "1      1  14736.208010  14754.046880  14827.058590  14836.921880   \n",
       "2      2  74844.140630  77744.734380  81927.132810  84006.570310   \n",
       "3      3  32907.832030  32802.625000  32701.800780  32459.386720   \n",
       "4      4  19353.316410  19696.431640  20171.140630  20543.074220   \n",
       "..   ...           ...           ...           ...           ...   \n",
       "157  157    831.317627   1242.263184    999.414368   1210.677612   \n",
       "158  158    209.728638    277.456635    257.666229    250.226975   \n",
       "159  159  45563.625000  45702.195310  48744.183590  48841.074220   \n",
       "160  160  62141.441410  62876.718750  62545.578130  64238.656250   \n",
       "161  161  34227.917970  36069.531250  36438.628910  37953.761720   \n",
       "\n",
       "          pop2004       pop2005       pop2006       pop2007       pop2008  \\\n",
       "0    50638.523440  52060.175780  53419.183590  55033.140630  56472.507810   \n",
       "1    14940.546880  14959.025390  15013.518550  15104.973630  15166.107420   \n",
       "2    86649.195310  89146.882810  91864.375000  94853.234380  98647.468750   \n",
       "3    32240.417970  32123.998050  32005.177730  31828.589840  31838.548830   \n",
       "4    20984.316410  21655.970700  22166.158200  22585.064450  23429.542970   \n",
       "..            ...           ...           ...           ...           ...   \n",
       "157   1148.503296   1105.402344   1189.803467   1103.021240   1398.290649   \n",
       "158    242.554718    227.625488    220.150528    244.760818    249.737640   \n",
       "159  49615.316410  52321.671880  53622.371090  53751.128910  54719.871090   \n",
       "160  65637.851560  67623.843750  69085.468750  70825.281250  71755.742190   \n",
       "161  39210.035160  38232.910160  36872.156250  38965.273440  41954.937500   \n",
       "\n",
       "     ...        pop2011        pop2012        pop2013        pop2014  \\\n",
       "0    ...   61356.378910   62881.078130   64882.167970   66922.765630   \n",
       "1    ...   15583.217770   15605.839840   15690.029300   15843.356450   \n",
       "2    ...  111147.804700  113425.445300  118354.617200  121928.179700   \n",
       "3    ...   31426.476560   31294.906250   31123.841800   31036.798830   \n",
       "4    ...   25939.066410   26729.710940   27863.269530   28916.035160   \n",
       "..   ...            ...            ...            ...            ...   \n",
       "157  ...    1196.959473    1569.069580    1582.425903    1924.996826   \n",
       "158  ...     349.489075     311.703003     304.112060     355.788330   \n",
       "159  ...   55413.886720   54730.304690   56544.863280   55975.429690   \n",
       "160  ...   74754.515630   77995.312500   78869.742190   81556.546880   \n",
       "161  ...   45980.375000   45739.152340   46780.414060   49476.898440   \n",
       "\n",
       "           pop2015        pop2016        pop2017        pop2018  \\\n",
       "0     68747.250000   71156.859380   73428.031250   75796.445310   \n",
       "1     15981.168950   16100.646480   16229.238280   16351.714840   \n",
       "2    126503.710900  131977.125000  136775.421900  142350.250000   \n",
       "3     30900.898440   30770.750000   30622.753910   30542.845700   \n",
       "4     30105.857420   31415.054690   32826.164060   34232.000000   \n",
       "..             ...            ...            ...            ...   \n",
       "157    2104.555664    1997.416504    1931.732422    2042.943604   \n",
       "158     389.052185     339.188721     315.339539     358.027313   \n",
       "159   58652.058590   60370.230470   61507.601560   63251.238280   \n",
       "160   83240.257810   84292.187500   86342.562500   87863.320310   \n",
       "161   50912.062500   51284.535160   52062.464840   54064.800780   \n",
       "\n",
       "           pop2019        pop2020  \n",
       "0     78273.484380   80849.898440  \n",
       "1     16478.464840   16611.490230  \n",
       "2    148277.484400  153291.390600  \n",
       "3     30420.687500   30310.660160  \n",
       "4     35890.281250   37616.562500  \n",
       "..             ...            ...  \n",
       "157    2006.158691    2159.082031  \n",
       "158     347.841797     377.290497  \n",
       "159   64889.960940   67187.789060  \n",
       "160   89389.031250   92006.054690  \n",
       "161   55536.328130   57532.125000  \n",
       "\n",
       "[162 rows x 22 columns]"
      ]
     },
     "execution_count": 9,
     "metadata": {},
     "output_type": "execute_result"
    }
   ],
   "source": [
    "pop_sum"
   ]
  },
  {
   "cell_type": "code",
   "execution_count": null,
   "id": "bc1443c1-4ec8-4cfe-aca2-f78bcc5b47c0",
   "metadata": {},
   "outputs": [],
   "source": []
  },
  {
   "cell_type": "code",
   "execution_count": 10,
   "id": "9206eda9-fa2f-4cb0-a951-812a36fef24f",
   "metadata": {},
   "outputs": [],
   "source": [
    "prep = pd.read_csv(\"/Users/hendrixperalta/Desktop/Research Data Manipulation/research_data/adm2/precipitation/precipitation_00_22.csv\")"
   ]
  },
  {
   "cell_type": "code",
   "execution_count": 11,
   "id": "32ae923c-a3a9-4113-8b45-1e81b208c614",
   "metadata": {},
   "outputs": [],
   "source": [
    "prep_filter = prep[prep.columns[prep.columns.str.contains(\"pre_yearly\")]]"
   ]
  },
  {
   "cell_type": "code",
   "execution_count": 12,
   "id": "ce192ac1-7339-4355-adaf-629a562e1bf8",
   "metadata": {},
   "outputs": [],
   "source": [
    "for col in prep_filter: \n",
    "    new_name = \"prep\" + col.split(\".\", 1)[1]\n",
    "    prep.rename(columns = {col : new_name}, inplace = True)"
   ]
  },
  {
   "cell_type": "code",
   "execution_count": 13,
   "id": "1e8b7cc2-9764-4be4-abb3-c1a24b6307a2",
   "metadata": {},
   "outputs": [],
   "source": [
    "prep.columns = prep.columns.str.replace(\".mean$\", \"\", regex=True)"
   ]
  },
  {
   "cell_type": "code",
   "execution_count": 14,
   "id": "1cec8788-ebec-48ea-badf-89261f9ffd94",
   "metadata": {},
   "outputs": [],
   "source": [
    "prep.rename(columns = {\"asdf_id\" : \"id\"}, inplace=True)"
   ]
  },
  {
   "cell_type": "code",
   "execution_count": 15,
   "id": "add25a96-a4ec-4fff-819c-ab28a49ff43d",
   "metadata": {},
   "outputs": [],
   "source": [
    "prep = prep[prep.columns[prep.columns.str.contains(\"prep|id\")]]"
   ]
  },
  {
   "cell_type": "code",
   "execution_count": null,
   "id": "e79828cc-15fc-41c7-9692-bd9279c2cc7d",
   "metadata": {},
   "outputs": [],
   "source": []
  },
  {
   "cell_type": "code",
   "execution_count": null,
   "id": "a733aa8d-217c-4da6-9a25-1081d3875d43",
   "metadata": {},
   "outputs": [],
   "source": []
  },
  {
   "cell_type": "code",
   "execution_count": 16,
   "id": "598e9ce7-3603-4884-914e-ae322c4101f4",
   "metadata": {},
   "outputs": [],
   "source": [
    "temp = pd.read_csv(\"/Users/hendrixperalta/Desktop/Research Data Manipulation/research_data/adm2/temperature/temperature_day_modis61_mean.csv\")"
   ]
  },
  {
   "cell_type": "code",
   "execution_count": 17,
   "id": "a6b5bf66-8756-466a-a126-6213d6572ff3",
   "metadata": {},
   "outputs": [],
   "source": [
    "temp.rename(columns = {\"gqid\" : \"id\"}, inplace=True)"
   ]
  },
  {
   "cell_type": "code",
   "execution_count": 18,
   "id": "088f699a-d6bb-40ca-8952-705f24c48cbc",
   "metadata": {},
   "outputs": [],
   "source": [
    "temp_filter = temp[temp.columns[temp.columns.str.contains(\"mod11c3_061\")]]"
   ]
  },
  {
   "cell_type": "code",
   "execution_count": 19,
   "id": "3211da4d-dfdb-4bf8-aa02-983c607d5283",
   "metadata": {},
   "outputs": [],
   "source": [
    "for col in temp_filter: \n",
    "    new_name = \"temp\" + col.split(\".\", 1)[1]\n",
    "    temp.rename(columns = {col : new_name}, inplace=True)"
   ]
  },
  {
   "cell_type": "code",
   "execution_count": 20,
   "id": "b166ea7f-97b4-4f0b-8884-a3791f4840a9",
   "metadata": {},
   "outputs": [],
   "source": [
    "temp.columns = temp.columns.str.replace(\".mean$\", \"\", regex=True)"
   ]
  },
  {
   "cell_type": "code",
   "execution_count": 21,
   "id": "cf9c6080-e847-44ce-a97c-d6adb4548fa7",
   "metadata": {},
   "outputs": [],
   "source": [
    "temp = temp[temp.columns[temp.columns.str.contains(\"temp|id\")]]"
   ]
  },
  {
   "cell_type": "code",
   "execution_count": null,
   "id": "2c8abce5-9421-4000-8a88-d918abc2c7fc",
   "metadata": {},
   "outputs": [],
   "source": []
  },
  {
   "cell_type": "code",
   "execution_count": 22,
   "id": "f954f11a-3c51-4258-bf9d-58d5143449b2",
   "metadata": {},
   "outputs": [],
   "source": [
    "agri = pd.read_csv(\"/Users/hendrixperalta/Desktop/Research Data Manipulation/research_data/adm2/landcover/agriculture_land_wide.csv\")"
   ]
  },
  {
   "cell_type": "code",
   "execution_count": 23,
   "id": "7ac9cf78-17d9-461d-9b0b-48c67e0f065f",
   "metadata": {},
   "outputs": [],
   "source": [
    "agri.rename(columns = {\"cityCode\" : \"id\"}, inplace=True)"
   ]
  },
  {
   "cell_type": "code",
   "execution_count": 24,
   "id": "f0b6f1b3-43ef-4c55-ac53-2d250b0aaf9d",
   "metadata": {},
   "outputs": [],
   "source": [
    "agri = agri[agri.columns[agri.columns.str.contains(\"agr|id\")]]"
   ]
  },
  {
   "cell_type": "code",
   "execution_count": 25,
   "id": "04ee6cca-eec5-4a66-9c67-625d04870bdf",
   "metadata": {},
   "outputs": [
    {
     "data": {
      "text/plain": [
       "Index(['id', 'agr_2001', 'agr_2002', 'agr_2003', 'agr_2004', 'agr_2005',\n",
       "       'agr_2006', 'agr_2007', 'agr_2008', 'agr_2009', 'agr_2010', 'agr_2011',\n",
       "       'agr_2012', 'agr_2013', 'agr_2014', 'agr_2015', 'agr_2016', 'agr_2017',\n",
       "       'agr_2018', 'agr_2019', 'agr_2020', 'agr_2021', 'agr_2022'],\n",
       "      dtype='object')"
      ]
     },
     "execution_count": 25,
     "metadata": {},
     "output_type": "execute_result"
    }
   ],
   "source": [
    "agri.columns"
   ]
  },
  {
   "cell_type": "code",
   "execution_count": 26,
   "id": "4105a4fb-898a-40a0-aa61-64af7f8f410f",
   "metadata": {},
   "outputs": [],
   "source": [
    "urba = pd.read_csv(\"/Users/hendrixperalta/Desktop/Research Data Manipulation/research_data/adm2/landcover/urban_land_wide.csv\")"
   ]
  },
  {
   "cell_type": "code",
   "execution_count": 27,
   "id": "31232208-beaf-42d4-b23c-dd73bb6e0b00",
   "metadata": {},
   "outputs": [],
   "source": [
    "urba.rename(columns = {\"cityCode\" : \"id\"}, inplace=True)"
   ]
  },
  {
   "cell_type": "code",
   "execution_count": 28,
   "id": "f8c5952d-e48b-4b2f-9c8a-e3dedaf60c72",
   "metadata": {},
   "outputs": [],
   "source": [
    "urba = urba[urba.columns[urba.columns.str.contains(\"urb|id\")]]"
   ]
  },
  {
   "cell_type": "code",
   "execution_count": null,
   "id": "700ba25c-c1ac-41ed-aa78-f851ec3488ea",
   "metadata": {},
   "outputs": [],
   "source": []
  },
  {
   "cell_type": "code",
   "execution_count": 29,
   "id": "ac4c34fb-5ab7-4714-9c66-2519ffd32707",
   "metadata": {},
   "outputs": [],
   "source": [
    "ntl = pd.read_csv(\"/Users/hendrixperalta/Desktop/Research Data Manipulation/research_data/adm2/ntl/ntl_sum_wide_00-22.csv\")"
   ]
  },
  {
   "cell_type": "code",
   "execution_count": 30,
   "id": "f3c31c5f-3e49-4e53-968f-5755209fdf3e",
   "metadata": {},
   "outputs": [],
   "source": [
    "ntl = ntl[ntl.columns[ntl.columns.str.contains(\"ntl|id\")]]"
   ]
  },
  {
   "cell_type": "code",
   "execution_count": null,
   "id": "9450a438-15b0-41c2-b4b3-da710f2c1f83",
   "metadata": {},
   "outputs": [],
   "source": []
  },
  {
   "cell_type": "code",
   "execution_count": 31,
   "id": "59ba9591-df31-47ae-b26f-129075625148",
   "metadata": {},
   "outputs": [],
   "source": [
    "datasets = [prep, temp, agri, urba, ntl]"
   ]
  },
  {
   "cell_type": "code",
   "execution_count": 32,
   "id": "a4ca7878-a24b-44ce-aa71-9560e9187716",
   "metadata": {},
   "outputs": [],
   "source": [
    "municipality_data = pd.merge(sez, pop_sum[pop_sum.columns[pop_sum.columns.str.contains(\"pop|id\")]], on=\"id\", how=\"outer\")"
   ]
  },
  {
   "cell_type": "code",
   "execution_count": 33,
   "id": "767d4b02-64ee-4784-9ba5-1ad2791890b9",
   "metadata": {},
   "outputs": [],
   "source": [
    "for dataset in datasets: \n",
    "    municipality_data = pd.merge(municipality_data, dataset, on=\"id\", how= \"outer\")"
   ]
  },
  {
   "cell_type": "code",
   "execution_count": null,
   "id": "9a183a2b-4391-40b0-b1d7-f6b64157df5e",
   "metadata": {},
   "outputs": [],
   "source": []
  },
  {
   "cell_type": "code",
   "execution_count": null,
   "id": "a060f1f2-392d-491d-a8c4-5b6320de975b",
   "metadata": {},
   "outputs": [],
   "source": []
  },
  {
   "cell_type": "code",
   "execution_count": 34,
   "id": "0d236f89-14ff-42af-b947-15c941a25937",
   "metadata": {},
   "outputs": [],
   "source": [
    "filter_year = [\"2017\", \"2018\", \"2018\", \"2019\", \"2020\", \"2021\", \"2022\", \"1999\"]\n",
    "\n",
    "pattern = \"|\".join(filter_year)\n",
    "municipality_data = municipality_data.drop(columns = municipality_data.columns[municipality_data.columns.str.contains(pattern)])"
   ]
  },
  {
   "cell_type": "code",
   "execution_count": 35,
   "id": "71dd0fe4-4ee1-41b8-9996-6b8eca863f9b",
   "metadata": {},
   "outputs": [],
   "source": [
    "#municipality_data.to_csv(\"municipality_data.csv\", index=False)"
   ]
  },
  {
   "cell_type": "code",
   "execution_count": null,
   "id": "049a8736-5db3-4f4e-826a-333426382dbd",
   "metadata": {},
   "outputs": [],
   "source": []
  },
  {
   "cell_type": "code",
   "execution_count": null,
   "id": "5779e5cd-a9f9-4ab9-ab46-27ce3e890927",
   "metadata": {},
   "outputs": [],
   "source": []
  },
  {
   "cell_type": "code",
   "execution_count": 36,
   "id": "979341ac-7878-4564-a6a6-ce071a22bd95",
   "metadata": {},
   "outputs": [],
   "source": [
    "var_names = [\"inv\", \"ob_f_\",\"tec_f_\",\"adm_f_\",\"ob_m_\",\"tec_m_\",\"adm_m_\",'ent', 'ele', \"com\", \n",
    "\"inf\", \"wat\", \"tss\", \"buiilt\", \"ocu\", \"sal_op\", \"sal_tec\", \"pop\", \"prep\", \"temp\", \"agr_\", \"urb_\", \"ntl_\"]"
   ]
  },
  {
   "cell_type": "code",
   "execution_count": 37,
   "id": "ec8f251d-6362-4d97-84e4-a24f8aed6b97",
   "metadata": {},
   "outputs": [],
   "source": [
    "long_df = pd.wide_to_long(municipality_data, stubnames=var_names, i='id', j='year', sep='')\n"
   ]
  },
  {
   "cell_type": "code",
   "execution_count": 38,
   "id": "95d5415b-57ba-4093-a816-8f934147c950",
   "metadata": {},
   "outputs": [],
   "source": [
    "long_df.to_csv(\"long_df.csv\")"
   ]
  },
  {
   "cell_type": "code",
   "execution_count": null,
   "id": "e1ff2f29-18d4-434a-98b1-e583ea5f6b9e",
   "metadata": {},
   "outputs": [],
   "source": []
  }
 ],
 "metadata": {
  "kernelspec": {
   "display_name": "Python 3 (ipykernel)",
   "language": "python",
   "name": "python3"
  },
  "language_info": {
   "codemirror_mode": {
    "name": "ipython",
    "version": 3
   },
   "file_extension": ".py",
   "mimetype": "text/x-python",
   "name": "python",
   "nbconvert_exporter": "python",
   "pygments_lexer": "ipython3",
   "version": "3.12.0"
  }
 },
 "nbformat": 4,
 "nbformat_minor": 5
}
