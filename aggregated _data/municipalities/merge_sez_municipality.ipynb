{
 "cells": [
  {
   "cell_type": "code",
   "execution_count": 1,
   "id": "3f841429-424d-4db5-a053-cd6f4e850fe7",
   "metadata": {},
   "outputs": [],
   "source": [
    "import pandas as pd"
   ]
  },
  {
   "cell_type": "code",
   "execution_count": 2,
   "id": "cad32817-47b4-4498-9e16-244cf7ccda9f",
   "metadata": {},
   "outputs": [],
   "source": [
    "sez = pd.read_csv(\"joined_sez_map.csv\")"
   ]
  },
  {
   "cell_type": "code",
   "execution_count": null,
   "id": "4c5eebbe-ae43-434e-9808-e8ed34426afa",
   "metadata": {},
   "outputs": [],
   "source": []
  },
  {
   "cell_type": "code",
   "execution_count": 3,
   "id": "71f510d2-4da5-408c-958f-a8856996416b",
   "metadata": {},
   "outputs": [],
   "source": [
    "pop = pd.read_csv(\"/Users/hendrixperalta/Desktop/Research Data Manipulation/research_data/adm2/population/worlpop_count_sum.csv\")"
   ]
  },
  {
   "cell_type": "code",
   "execution_count": 4,
   "id": "07594ec8-8183-4b51-9cf2-c7641d47c79a",
   "metadata": {},
   "outputs": [],
   "source": [
    "pop.rename(columns = {\"gqid\" : \"id\"}, inplace=True)"
   ]
  },
  {
   "cell_type": "code",
   "execution_count": 5,
   "id": "dc52e9cd-c755-48df-9417-0a796d48ee6b",
   "metadata": {},
   "outputs": [],
   "source": [
    "column_filter = pop[pop.columns[pop.columns.str.contains(\"worldpop\")]]"
   ]
  },
  {
   "cell_type": "code",
   "execution_count": 6,
   "id": "122e9210-94a9-4a1d-90f6-63cd8350309b",
   "metadata": {},
   "outputs": [],
   "source": [
    "for col in column_filter:\n",
    "    new_name = \"pop\" + col.split(\".\", 1)[1]\n",
    "    pop.rename(columns = {col : new_name}, inplace = True)"
   ]
  },
  {
   "cell_type": "code",
   "execution_count": 7,
   "id": "05550afc-c42e-4a31-842c-38233f9fc8d8",
   "metadata": {},
   "outputs": [],
   "source": [
    "pop_sum = pop[pop.columns[pop.columns.str.contains(\"sum|shape|id\")]]"
   ]
  },
  {
   "cell_type": "code",
   "execution_count": 8,
   "id": "bda78007-b56d-458e-a949-592f5fb202b3",
   "metadata": {},
   "outputs": [],
   "source": [
    "pop_sum.columns = pop_sum.columns.str.replace(\".sum$\", \"\", regex=True)"
   ]
  },
  {
   "cell_type": "code",
   "execution_count": null,
   "id": "9b2ebc4f-6924-4d0a-9afc-d52fb97d3aad",
   "metadata": {},
   "outputs": [],
   "source": []
  },
  {
   "cell_type": "code",
   "execution_count": null,
   "id": "bc1443c1-4ec8-4cfe-aca2-f78bcc5b47c0",
   "metadata": {},
   "outputs": [],
   "source": []
  },
  {
   "cell_type": "code",
   "execution_count": 10,
   "id": "9206eda9-fa2f-4cb0-a951-812a36fef24f",
   "metadata": {},
   "outputs": [],
   "source": [
    "prep = pd.read_csv(\"/Users/hendrixperalta/Desktop/Research Data Manipulation/research_data/adm2/precipitation/precipitation_00_22.csv\")"
   ]
  },
  {
   "cell_type": "code",
   "execution_count": 11,
   "id": "32ae923c-a3a9-4113-8b45-1e81b208c614",
   "metadata": {},
   "outputs": [],
   "source": [
    "prep_filter = prep[prep.columns[prep.columns.str.contains(\"pre_yearly\")]]"
   ]
  },
  {
   "cell_type": "code",
   "execution_count": 12,
   "id": "ce192ac1-7339-4355-adaf-629a562e1bf8",
   "metadata": {},
   "outputs": [],
   "source": [
    "for col in prep_filter: \n",
    "    new_name = \"prep\" + col.split(\".\", 1)[1]\n",
    "    prep.rename(columns = {col : new_name}, inplace = True)"
   ]
  },
  {
   "cell_type": "code",
   "execution_count": 13,
   "id": "1e8b7cc2-9764-4be4-abb3-c1a24b6307a2",
   "metadata": {},
   "outputs": [],
   "source": [
    "prep.columns = prep.columns.str.replace(\".mean$\", \"\", regex=True)"
   ]
  },
  {
   "cell_type": "code",
   "execution_count": 26,
   "id": "1cec8788-ebec-48ea-badf-89261f9ffd94",
   "metadata": {},
   "outputs": [],
   "source": [
    "prep.rename(columns = {\"asdf_id\" : \"id\"}, inplace=True)"
   ]
  },
  {
   "cell_type": "code",
   "execution_count": null,
   "id": "add25a96-a4ec-4fff-819c-ab28a49ff43d",
   "metadata": {},
   "outputs": [],
   "source": []
  },
  {
   "cell_type": "code",
   "execution_count": null,
   "id": "e79828cc-15fc-41c7-9692-bd9279c2cc7d",
   "metadata": {},
   "outputs": [],
   "source": []
  },
  {
   "cell_type": "code",
   "execution_count": 14,
   "id": "598e9ce7-3603-4884-914e-ae322c4101f4",
   "metadata": {},
   "outputs": [],
   "source": [
    "temp = pd.read_csv(\"/Users/hendrixperalta/Desktop/Research Data Manipulation/research_data/adm2/temperature/temperature_day_modis61_mean.csv\")"
   ]
  },
  {
   "cell_type": "code",
   "execution_count": 29,
   "id": "a6b5bf66-8756-466a-a126-6213d6572ff3",
   "metadata": {},
   "outputs": [],
   "source": [
    "temp.rename(columns = {\"gqid\" : \"id\"}, inplace=True)"
   ]
  },
  {
   "cell_type": "code",
   "execution_count": 31,
   "id": "088f699a-d6bb-40ca-8952-705f24c48cbc",
   "metadata": {},
   "outputs": [],
   "source": [
    "temp_filter = temp[temp.columns[temp.columns.str.contains(\"mod11c3_061\")]]"
   ]
  },
  {
   "cell_type": "code",
   "execution_count": 32,
   "id": "3211da4d-dfdb-4bf8-aa02-983c607d5283",
   "metadata": {},
   "outputs": [],
   "source": [
    "for col in temp_filter: \n",
    "    new_name = \"temp\" + col.split(\".\", 1)[1]\n",
    "    temp.rename(columns = {col : new_name}, inplace=True)"
   ]
  },
  {
   "cell_type": "code",
   "execution_count": 33,
   "id": "b166ea7f-97b4-4f0b-8884-a3791f4840a9",
   "metadata": {},
   "outputs": [],
   "source": [
    "temp.columns = temp.columns.str.replace(\".mean$\", \"\", regex=True)"
   ]
  },
  {
   "cell_type": "code",
   "execution_count": null,
   "id": "cf9c6080-e847-44ce-a97c-d6adb4548fa7",
   "metadata": {},
   "outputs": [],
   "source": []
  },
  {
   "cell_type": "code",
   "execution_count": null,
   "id": "2c8abce5-9421-4000-8a88-d918abc2c7fc",
   "metadata": {},
   "outputs": [],
   "source": []
  },
  {
   "cell_type": "code",
   "execution_count": 18,
   "id": "f954f11a-3c51-4258-bf9d-58d5143449b2",
   "metadata": {},
   "outputs": [],
   "source": [
    "agri = pd.read_csv(\"/Users/hendrixperalta/Desktop/Research Data Manipulation/research_data/adm2/landcover/agriculture_land_wide.csv\")"
   ]
  },
  {
   "cell_type": "code",
   "execution_count": 37,
   "id": "7ac9cf78-17d9-461d-9b0b-48c67e0f065f",
   "metadata": {},
   "outputs": [],
   "source": [
    "agri.rename(columns = {\"cityCode\" : \"id\"}, inplace=True)"
   ]
  },
  {
   "cell_type": "code",
   "execution_count": null,
   "id": "f0b6f1b3-43ef-4c55-ac53-2d250b0aaf9d",
   "metadata": {},
   "outputs": [],
   "source": []
  },
  {
   "cell_type": "code",
   "execution_count": null,
   "id": "04ee6cca-eec5-4a66-9c67-625d04870bdf",
   "metadata": {},
   "outputs": [],
   "source": []
  },
  {
   "cell_type": "code",
   "execution_count": 19,
   "id": "4105a4fb-898a-40a0-aa61-64af7f8f410f",
   "metadata": {},
   "outputs": [],
   "source": [
    "urba = pd.read_csv(\"/Users/hendrixperalta/Desktop/Research Data Manipulation/research_data/adm2/landcover/urban_land_wide.csv\")"
   ]
  },
  {
   "cell_type": "code",
   "execution_count": 39,
   "id": "31232208-beaf-42d4-b23c-dd73bb6e0b00",
   "metadata": {},
   "outputs": [],
   "source": [
    "urba.rename(columns = {\"cityCode\" : \"id\"}, inplace=True)"
   ]
  },
  {
   "cell_type": "code",
   "execution_count": null,
   "id": "f8c5952d-e48b-4b2f-9c8a-e3dedaf60c72",
   "metadata": {},
   "outputs": [],
   "source": []
  },
  {
   "cell_type": "code",
   "execution_count": null,
   "id": "700ba25c-c1ac-41ed-aa78-f851ec3488ea",
   "metadata": {},
   "outputs": [],
   "source": []
  },
  {
   "cell_type": "code",
   "execution_count": 20,
   "id": "ac4c34fb-5ab7-4714-9c66-2519ffd32707",
   "metadata": {},
   "outputs": [],
   "source": [
    "ntl = pd.read_csv(\"/Users/hendrixperalta/Desktop/Research Data Manipulation/research_data/adm2/ntl/ntl_sum_wide_00-22.csv\")"
   ]
  },
  {
   "cell_type": "code",
   "execution_count": null,
   "id": "f3c31c5f-3e49-4e53-968f-5755209fdf3e",
   "metadata": {},
   "outputs": [],
   "source": []
  },
  {
   "cell_type": "code",
   "execution_count": null,
   "id": "6a7d93c1-467e-4ca3-9fea-1ab2c5a36cab",
   "metadata": {},
   "outputs": [],
   "source": []
  },
  {
   "cell_type": "code",
   "execution_count": null,
   "id": "b54598aa-c125-4283-8042-86f3034a90c7",
   "metadata": {},
   "outputs": [],
   "source": []
  },
  {
   "cell_type": "code",
   "execution_count": 21,
   "id": "59ba9591-df31-47ae-b26f-129075625148",
   "metadata": {},
   "outputs": [],
   "source": [
    "datasets = [sez, pop_sum, prep, temp, agri, urba, ntl]"
   ]
  },
  {
   "cell_type": "code",
   "execution_count": null,
   "id": "a4ca7878-a24b-44ce-aa71-9560e9187716",
   "metadata": {},
   "outputs": [],
   "source": []
  },
  {
   "cell_type": "code",
   "execution_count": null,
   "id": "767d4b02-64ee-4784-9ba5-1ad2791890b9",
   "metadata": {},
   "outputs": [],
   "source": []
  },
  {
   "cell_type": "code",
   "execution_count": null,
   "id": "9a183a2b-4391-40b0-b1d7-f6b64157df5e",
   "metadata": {},
   "outputs": [],
   "source": []
  },
  {
   "cell_type": "code",
   "execution_count": null,
   "id": "a060f1f2-392d-491d-a8c4-5b6320de975b",
   "metadata": {},
   "outputs": [],
   "source": []
  },
  {
   "cell_type": "code",
   "execution_count": null,
   "id": "470e26ff-de33-4acc-9ebb-b840e6705408",
   "metadata": {},
   "outputs": [],
   "source": []
  },
  {
   "cell_type": "code",
   "execution_count": 22,
   "id": "0d236f89-14ff-42af-b947-15c941a25937",
   "metadata": {},
   "outputs": [],
   "source": [
    "filter_year = [\"2017\", \"2018\", \"2018\", \"2019\", \"2020\", \"2021\", \"2022\", \"1999\"]\n",
    "\n",
    "pattern = \"|\".join(filter_year)\n",
    "sez_filtered = sez.drop(columns = sez.columns[sez.columns.str.contains(pattern)])"
   ]
  }
 ],
 "metadata": {
  "kernelspec": {
   "display_name": "Python 3 (ipykernel)",
   "language": "python",
   "name": "python3"
  },
  "language_info": {
   "codemirror_mode": {
    "name": "ipython",
    "version": 3
   },
   "file_extension": ".py",
   "mimetype": "text/x-python",
   "name": "python",
   "nbconvert_exporter": "python",
   "pygments_lexer": "ipython3",
   "version": "3.12.0"
  }
 },
 "nbformat": 4,
 "nbformat_minor": 5
}
