{
 "cells": [
  {
   "cell_type": "code",
   "execution_count": 1,
   "id": "6f681634-8402-4aae-9f05-e183a1845310",
   "metadata": {},
   "outputs": [],
   "source": [
    "import pandas as pd "
   ]
  },
  {
   "cell_type": "code",
   "execution_count": 2,
   "id": "5bf6f0ad-eadd-485d-a6ad-963f653bf936",
   "metadata": {},
   "outputs": [],
   "source": [
    "ent2000 = pd.read_csv(\"ent2000.csv\", encoding='cp1252')"
   ]
  },
  {
   "cell_type": "code",
   "execution_count": 3,
   "id": "89bc8a7d-a8bb-42da-b2a6-ee937ea7b26f",
   "metadata": {},
   "outputs": [],
   "source": [
    "ent2001 = pd.read_csv(\"ent2001.csv\", encoding='cp1252')"
   ]
  },
  {
   "cell_type": "code",
   "execution_count": 4,
   "id": "e95eaadf-785c-4c22-9633-efa367d48282",
   "metadata": {},
   "outputs": [],
   "source": [
    "ent2002 = pd.read_csv(\"ent2002.csv\", encoding='cp1252')"
   ]
  },
  {
   "cell_type": "code",
   "execution_count": 5,
   "id": "8d95c492-aa87-4893-8905-3d952e143754",
   "metadata": {},
   "outputs": [],
   "source": [
    "ent2003 = pd.read_csv(\"ent2003.csv\", encoding='cp1252')"
   ]
  },
  {
   "cell_type": "code",
   "execution_count": 6,
   "id": "4cac8773-bfbb-4c08-b9f7-d884e2770b07",
   "metadata": {},
   "outputs": [],
   "source": [
    "ent2004 = pd.read_csv(\"ent2004.csv\", encoding='cp1252')"
   ]
  },
  {
   "cell_type": "code",
   "execution_count": 7,
   "id": "f32898d0-4525-40e5-98c2-d176388c372f",
   "metadata": {},
   "outputs": [],
   "source": [
    "ent2005 = pd.read_csv(\"ent2005.csv\", encoding='cp1252')"
   ]
  },
  {
   "cell_type": "code",
   "execution_count": 8,
   "id": "59e87c8e-016f-404d-b6ea-a9bdd4ab4a17",
   "metadata": {},
   "outputs": [],
   "source": [
    "ent2006 = pd.read_csv(\"ent2006.csv\", encoding='cp1252')"
   ]
  },
  {
   "cell_type": "code",
   "execution_count": 9,
   "id": "eace4624-703c-424e-a3c4-c9aa76c2bf9c",
   "metadata": {},
   "outputs": [],
   "source": [
    "ent2007 = pd.read_csv(\"ent2007.csv\", encoding='cp1252')"
   ]
  },
  {
   "cell_type": "code",
   "execution_count": 10,
   "id": "5b91cf29-f057-42d9-8970-a23d20355197",
   "metadata": {},
   "outputs": [],
   "source": [
    "ent2008 = pd.read_csv(\"ent2008.csv\", encoding='cp1252')"
   ]
  },
  {
   "cell_type": "code",
   "execution_count": 11,
   "id": "c206c7ac-5864-4f52-8f0a-a1b6caa32f74",
   "metadata": {},
   "outputs": [],
   "source": [
    "ent2009 = pd.read_csv(\"ent2009.csv\", encoding='cp1252')"
   ]
  },
  {
   "cell_type": "code",
   "execution_count": 12,
   "id": "421039f1-ded7-44ed-802b-e5f9c1f5cabe",
   "metadata": {},
   "outputs": [],
   "source": [
    "ent2010 = pd.read_csv(\"ent2010.csv\", encoding='cp1252')"
   ]
  },
  {
   "cell_type": "code",
   "execution_count": 13,
   "id": "e084c57c-f349-4000-bc35-7ee11d3d1843",
   "metadata": {},
   "outputs": [],
   "source": [
    "ent2011 = pd.read_csv(\"ent2011.csv\", encoding='cp1252')"
   ]
  },
  {
   "cell_type": "code",
   "execution_count": 14,
   "id": "1889057a-e9ba-42d5-a207-792b05e4d828",
   "metadata": {},
   "outputs": [],
   "source": [
    "ent2012= pd.read_csv(\"ent2012.csv\", encoding='cp1252')"
   ]
  },
  {
   "cell_type": "code",
   "execution_count": 15,
   "id": "5a75940a-5820-43db-941a-3dab10df5189",
   "metadata": {},
   "outputs": [
    {
     "ename": "FileNotFoundError",
     "evalue": "[Errno 2] No such file or directory: 'ent2014.csv'",
     "output_type": "error",
     "traceback": [
      "\u001b[0;31m---------------------------------------------------------------------------\u001b[0m",
      "\u001b[0;31mFileNotFoundError\u001b[0m                         Traceback (most recent call last)",
      "Cell \u001b[0;32mIn[15], line 1\u001b[0m\n\u001b[0;32m----> 1\u001b[0m ent2014 \u001b[38;5;241m=\u001b[39m \u001b[43mpd\u001b[49m\u001b[38;5;241;43m.\u001b[39;49m\u001b[43mread_csv\u001b[49m\u001b[43m(\u001b[49m\u001b[38;5;124;43m\"\u001b[39;49m\u001b[38;5;124;43ment2014.csv\u001b[39;49m\u001b[38;5;124;43m\"\u001b[39;49m\u001b[43m,\u001b[49m\u001b[43m \u001b[49m\u001b[43mencoding\u001b[49m\u001b[38;5;241;43m=\u001b[39;49m\u001b[38;5;124;43m'\u001b[39;49m\u001b[38;5;124;43mcp1252\u001b[39;49m\u001b[38;5;124;43m'\u001b[39;49m\u001b[43m)\u001b[49m\n",
      "File \u001b[0;32m/Library/Frameworks/Python.framework/Versions/3.12/lib/python3.12/site-packages/pandas/io/parsers/readers.py:1026\u001b[0m, in \u001b[0;36mread_csv\u001b[0;34m(filepath_or_buffer, sep, delimiter, header, names, index_col, usecols, dtype, engine, converters, true_values, false_values, skipinitialspace, skiprows, skipfooter, nrows, na_values, keep_default_na, na_filter, verbose, skip_blank_lines, parse_dates, infer_datetime_format, keep_date_col, date_parser, date_format, dayfirst, cache_dates, iterator, chunksize, compression, thousands, decimal, lineterminator, quotechar, quoting, doublequote, escapechar, comment, encoding, encoding_errors, dialect, on_bad_lines, delim_whitespace, low_memory, memory_map, float_precision, storage_options, dtype_backend)\u001b[0m\n\u001b[1;32m   1013\u001b[0m kwds_defaults \u001b[38;5;241m=\u001b[39m _refine_defaults_read(\n\u001b[1;32m   1014\u001b[0m     dialect,\n\u001b[1;32m   1015\u001b[0m     delimiter,\n\u001b[0;32m   (...)\u001b[0m\n\u001b[1;32m   1022\u001b[0m     dtype_backend\u001b[38;5;241m=\u001b[39mdtype_backend,\n\u001b[1;32m   1023\u001b[0m )\n\u001b[1;32m   1024\u001b[0m kwds\u001b[38;5;241m.\u001b[39mupdate(kwds_defaults)\n\u001b[0;32m-> 1026\u001b[0m \u001b[38;5;28;01mreturn\u001b[39;00m \u001b[43m_read\u001b[49m\u001b[43m(\u001b[49m\u001b[43mfilepath_or_buffer\u001b[49m\u001b[43m,\u001b[49m\u001b[43m \u001b[49m\u001b[43mkwds\u001b[49m\u001b[43m)\u001b[49m\n",
      "File \u001b[0;32m/Library/Frameworks/Python.framework/Versions/3.12/lib/python3.12/site-packages/pandas/io/parsers/readers.py:620\u001b[0m, in \u001b[0;36m_read\u001b[0;34m(filepath_or_buffer, kwds)\u001b[0m\n\u001b[1;32m    617\u001b[0m _validate_names(kwds\u001b[38;5;241m.\u001b[39mget(\u001b[38;5;124m\"\u001b[39m\u001b[38;5;124mnames\u001b[39m\u001b[38;5;124m\"\u001b[39m, \u001b[38;5;28;01mNone\u001b[39;00m))\n\u001b[1;32m    619\u001b[0m \u001b[38;5;66;03m# Create the parser.\u001b[39;00m\n\u001b[0;32m--> 620\u001b[0m parser \u001b[38;5;241m=\u001b[39m \u001b[43mTextFileReader\u001b[49m\u001b[43m(\u001b[49m\u001b[43mfilepath_or_buffer\u001b[49m\u001b[43m,\u001b[49m\u001b[43m \u001b[49m\u001b[38;5;241;43m*\u001b[39;49m\u001b[38;5;241;43m*\u001b[39;49m\u001b[43mkwds\u001b[49m\u001b[43m)\u001b[49m\n\u001b[1;32m    622\u001b[0m \u001b[38;5;28;01mif\u001b[39;00m chunksize \u001b[38;5;129;01mor\u001b[39;00m iterator:\n\u001b[1;32m    623\u001b[0m     \u001b[38;5;28;01mreturn\u001b[39;00m parser\n",
      "File \u001b[0;32m/Library/Frameworks/Python.framework/Versions/3.12/lib/python3.12/site-packages/pandas/io/parsers/readers.py:1620\u001b[0m, in \u001b[0;36mTextFileReader.__init__\u001b[0;34m(self, f, engine, **kwds)\u001b[0m\n\u001b[1;32m   1617\u001b[0m     \u001b[38;5;28mself\u001b[39m\u001b[38;5;241m.\u001b[39moptions[\u001b[38;5;124m\"\u001b[39m\u001b[38;5;124mhas_index_names\u001b[39m\u001b[38;5;124m\"\u001b[39m] \u001b[38;5;241m=\u001b[39m kwds[\u001b[38;5;124m\"\u001b[39m\u001b[38;5;124mhas_index_names\u001b[39m\u001b[38;5;124m\"\u001b[39m]\n\u001b[1;32m   1619\u001b[0m \u001b[38;5;28mself\u001b[39m\u001b[38;5;241m.\u001b[39mhandles: IOHandles \u001b[38;5;241m|\u001b[39m \u001b[38;5;28;01mNone\u001b[39;00m \u001b[38;5;241m=\u001b[39m \u001b[38;5;28;01mNone\u001b[39;00m\n\u001b[0;32m-> 1620\u001b[0m \u001b[38;5;28mself\u001b[39m\u001b[38;5;241m.\u001b[39m_engine \u001b[38;5;241m=\u001b[39m \u001b[38;5;28;43mself\u001b[39;49m\u001b[38;5;241;43m.\u001b[39;49m\u001b[43m_make_engine\u001b[49m\u001b[43m(\u001b[49m\u001b[43mf\u001b[49m\u001b[43m,\u001b[49m\u001b[43m \u001b[49m\u001b[38;5;28;43mself\u001b[39;49m\u001b[38;5;241;43m.\u001b[39;49m\u001b[43mengine\u001b[49m\u001b[43m)\u001b[49m\n",
      "File \u001b[0;32m/Library/Frameworks/Python.framework/Versions/3.12/lib/python3.12/site-packages/pandas/io/parsers/readers.py:1880\u001b[0m, in \u001b[0;36mTextFileReader._make_engine\u001b[0;34m(self, f, engine)\u001b[0m\n\u001b[1;32m   1878\u001b[0m     \u001b[38;5;28;01mif\u001b[39;00m \u001b[38;5;124m\"\u001b[39m\u001b[38;5;124mb\u001b[39m\u001b[38;5;124m\"\u001b[39m \u001b[38;5;129;01mnot\u001b[39;00m \u001b[38;5;129;01min\u001b[39;00m mode:\n\u001b[1;32m   1879\u001b[0m         mode \u001b[38;5;241m+\u001b[39m\u001b[38;5;241m=\u001b[39m \u001b[38;5;124m\"\u001b[39m\u001b[38;5;124mb\u001b[39m\u001b[38;5;124m\"\u001b[39m\n\u001b[0;32m-> 1880\u001b[0m \u001b[38;5;28mself\u001b[39m\u001b[38;5;241m.\u001b[39mhandles \u001b[38;5;241m=\u001b[39m \u001b[43mget_handle\u001b[49m\u001b[43m(\u001b[49m\n\u001b[1;32m   1881\u001b[0m \u001b[43m    \u001b[49m\u001b[43mf\u001b[49m\u001b[43m,\u001b[49m\n\u001b[1;32m   1882\u001b[0m \u001b[43m    \u001b[49m\u001b[43mmode\u001b[49m\u001b[43m,\u001b[49m\n\u001b[1;32m   1883\u001b[0m \u001b[43m    \u001b[49m\u001b[43mencoding\u001b[49m\u001b[38;5;241;43m=\u001b[39;49m\u001b[38;5;28;43mself\u001b[39;49m\u001b[38;5;241;43m.\u001b[39;49m\u001b[43moptions\u001b[49m\u001b[38;5;241;43m.\u001b[39;49m\u001b[43mget\u001b[49m\u001b[43m(\u001b[49m\u001b[38;5;124;43m\"\u001b[39;49m\u001b[38;5;124;43mencoding\u001b[39;49m\u001b[38;5;124;43m\"\u001b[39;49m\u001b[43m,\u001b[49m\u001b[43m \u001b[49m\u001b[38;5;28;43;01mNone\u001b[39;49;00m\u001b[43m)\u001b[49m\u001b[43m,\u001b[49m\n\u001b[1;32m   1884\u001b[0m \u001b[43m    \u001b[49m\u001b[43mcompression\u001b[49m\u001b[38;5;241;43m=\u001b[39;49m\u001b[38;5;28;43mself\u001b[39;49m\u001b[38;5;241;43m.\u001b[39;49m\u001b[43moptions\u001b[49m\u001b[38;5;241;43m.\u001b[39;49m\u001b[43mget\u001b[49m\u001b[43m(\u001b[49m\u001b[38;5;124;43m\"\u001b[39;49m\u001b[38;5;124;43mcompression\u001b[39;49m\u001b[38;5;124;43m\"\u001b[39;49m\u001b[43m,\u001b[49m\u001b[43m \u001b[49m\u001b[38;5;28;43;01mNone\u001b[39;49;00m\u001b[43m)\u001b[49m\u001b[43m,\u001b[49m\n\u001b[1;32m   1885\u001b[0m \u001b[43m    \u001b[49m\u001b[43mmemory_map\u001b[49m\u001b[38;5;241;43m=\u001b[39;49m\u001b[38;5;28;43mself\u001b[39;49m\u001b[38;5;241;43m.\u001b[39;49m\u001b[43moptions\u001b[49m\u001b[38;5;241;43m.\u001b[39;49m\u001b[43mget\u001b[49m\u001b[43m(\u001b[49m\u001b[38;5;124;43m\"\u001b[39;49m\u001b[38;5;124;43mmemory_map\u001b[39;49m\u001b[38;5;124;43m\"\u001b[39;49m\u001b[43m,\u001b[49m\u001b[43m \u001b[49m\u001b[38;5;28;43;01mFalse\u001b[39;49;00m\u001b[43m)\u001b[49m\u001b[43m,\u001b[49m\n\u001b[1;32m   1886\u001b[0m \u001b[43m    \u001b[49m\u001b[43mis_text\u001b[49m\u001b[38;5;241;43m=\u001b[39;49m\u001b[43mis_text\u001b[49m\u001b[43m,\u001b[49m\n\u001b[1;32m   1887\u001b[0m \u001b[43m    \u001b[49m\u001b[43merrors\u001b[49m\u001b[38;5;241;43m=\u001b[39;49m\u001b[38;5;28;43mself\u001b[39;49m\u001b[38;5;241;43m.\u001b[39;49m\u001b[43moptions\u001b[49m\u001b[38;5;241;43m.\u001b[39;49m\u001b[43mget\u001b[49m\u001b[43m(\u001b[49m\u001b[38;5;124;43m\"\u001b[39;49m\u001b[38;5;124;43mencoding_errors\u001b[39;49m\u001b[38;5;124;43m\"\u001b[39;49m\u001b[43m,\u001b[49m\u001b[43m \u001b[49m\u001b[38;5;124;43m\"\u001b[39;49m\u001b[38;5;124;43mstrict\u001b[39;49m\u001b[38;5;124;43m\"\u001b[39;49m\u001b[43m)\u001b[49m\u001b[43m,\u001b[49m\n\u001b[1;32m   1888\u001b[0m \u001b[43m    \u001b[49m\u001b[43mstorage_options\u001b[49m\u001b[38;5;241;43m=\u001b[39;49m\u001b[38;5;28;43mself\u001b[39;49m\u001b[38;5;241;43m.\u001b[39;49m\u001b[43moptions\u001b[49m\u001b[38;5;241;43m.\u001b[39;49m\u001b[43mget\u001b[49m\u001b[43m(\u001b[49m\u001b[38;5;124;43m\"\u001b[39;49m\u001b[38;5;124;43mstorage_options\u001b[39;49m\u001b[38;5;124;43m\"\u001b[39;49m\u001b[43m,\u001b[49m\u001b[43m \u001b[49m\u001b[38;5;28;43;01mNone\u001b[39;49;00m\u001b[43m)\u001b[49m\u001b[43m,\u001b[49m\n\u001b[1;32m   1889\u001b[0m \u001b[43m\u001b[49m\u001b[43m)\u001b[49m\n\u001b[1;32m   1890\u001b[0m \u001b[38;5;28;01massert\u001b[39;00m \u001b[38;5;28mself\u001b[39m\u001b[38;5;241m.\u001b[39mhandles \u001b[38;5;129;01mis\u001b[39;00m \u001b[38;5;129;01mnot\u001b[39;00m \u001b[38;5;28;01mNone\u001b[39;00m\n\u001b[1;32m   1891\u001b[0m f \u001b[38;5;241m=\u001b[39m \u001b[38;5;28mself\u001b[39m\u001b[38;5;241m.\u001b[39mhandles\u001b[38;5;241m.\u001b[39mhandle\n",
      "File \u001b[0;32m/Library/Frameworks/Python.framework/Versions/3.12/lib/python3.12/site-packages/pandas/io/common.py:873\u001b[0m, in \u001b[0;36mget_handle\u001b[0;34m(path_or_buf, mode, encoding, compression, memory_map, is_text, errors, storage_options)\u001b[0m\n\u001b[1;32m    868\u001b[0m \u001b[38;5;28;01melif\u001b[39;00m \u001b[38;5;28misinstance\u001b[39m(handle, \u001b[38;5;28mstr\u001b[39m):\n\u001b[1;32m    869\u001b[0m     \u001b[38;5;66;03m# Check whether the filename is to be opened in binary mode.\u001b[39;00m\n\u001b[1;32m    870\u001b[0m     \u001b[38;5;66;03m# Binary mode does not support 'encoding' and 'newline'.\u001b[39;00m\n\u001b[1;32m    871\u001b[0m     \u001b[38;5;28;01mif\u001b[39;00m ioargs\u001b[38;5;241m.\u001b[39mencoding \u001b[38;5;129;01mand\u001b[39;00m \u001b[38;5;124m\"\u001b[39m\u001b[38;5;124mb\u001b[39m\u001b[38;5;124m\"\u001b[39m \u001b[38;5;129;01mnot\u001b[39;00m \u001b[38;5;129;01min\u001b[39;00m ioargs\u001b[38;5;241m.\u001b[39mmode:\n\u001b[1;32m    872\u001b[0m         \u001b[38;5;66;03m# Encoding\u001b[39;00m\n\u001b[0;32m--> 873\u001b[0m         handle \u001b[38;5;241m=\u001b[39m \u001b[38;5;28;43mopen\u001b[39;49m\u001b[43m(\u001b[49m\n\u001b[1;32m    874\u001b[0m \u001b[43m            \u001b[49m\u001b[43mhandle\u001b[49m\u001b[43m,\u001b[49m\n\u001b[1;32m    875\u001b[0m \u001b[43m            \u001b[49m\u001b[43mioargs\u001b[49m\u001b[38;5;241;43m.\u001b[39;49m\u001b[43mmode\u001b[49m\u001b[43m,\u001b[49m\n\u001b[1;32m    876\u001b[0m \u001b[43m            \u001b[49m\u001b[43mencoding\u001b[49m\u001b[38;5;241;43m=\u001b[39;49m\u001b[43mioargs\u001b[49m\u001b[38;5;241;43m.\u001b[39;49m\u001b[43mencoding\u001b[49m\u001b[43m,\u001b[49m\n\u001b[1;32m    877\u001b[0m \u001b[43m            \u001b[49m\u001b[43merrors\u001b[49m\u001b[38;5;241;43m=\u001b[39;49m\u001b[43merrors\u001b[49m\u001b[43m,\u001b[49m\n\u001b[1;32m    878\u001b[0m \u001b[43m            \u001b[49m\u001b[43mnewline\u001b[49m\u001b[38;5;241;43m=\u001b[39;49m\u001b[38;5;124;43m\"\u001b[39;49m\u001b[38;5;124;43m\"\u001b[39;49m\u001b[43m,\u001b[49m\n\u001b[1;32m    879\u001b[0m \u001b[43m        \u001b[49m\u001b[43m)\u001b[49m\n\u001b[1;32m    880\u001b[0m     \u001b[38;5;28;01melse\u001b[39;00m:\n\u001b[1;32m    881\u001b[0m         \u001b[38;5;66;03m# Binary mode\u001b[39;00m\n\u001b[1;32m    882\u001b[0m         handle \u001b[38;5;241m=\u001b[39m \u001b[38;5;28mopen\u001b[39m(handle, ioargs\u001b[38;5;241m.\u001b[39mmode)\n",
      "\u001b[0;31mFileNotFoundError\u001b[0m: [Errno 2] No such file or directory: 'ent2014.csv'"
     ]
    }
   ],
   "source": [
    "ent2014 = pd.read_csv(\"ent2014.csv\", encoding='cp1252')"
   ]
  },
  {
   "cell_type": "code",
   "execution_count": null,
   "id": "97519940-7524-40c3-b364-ea5d2e523003",
   "metadata": {},
   "outputs": [],
   "source": [
    "ent2015 = pd.read_csv(\"ent2015.csv\", encoding='cp1252')"
   ]
  },
  {
   "cell_type": "code",
   "execution_count": null,
   "id": "534a5d99-437b-4b50-b032-c85d2483e236",
   "metadata": {},
   "outputs": [],
   "source": [
    "ent2016 = pd.read_csv(\"ent2016.csv\", encoding='cp1252')"
   ]
  },
  {
   "cell_type": "code",
   "execution_count": null,
   "id": "73777e1e-62fb-4465-8368-a7aa6f9e5bde",
   "metadata": {},
   "outputs": [],
   "source": [
    "ent2017 = pd.read_csv(\"ent2017.csv\", encoding='cp1252')"
   ]
  },
  {
   "cell_type": "code",
   "execution_count": null,
   "id": "3d0db1a0-535e-42f3-bd1d-c0a7aea7e33a",
   "metadata": {},
   "outputs": [],
   "source": [
    "ent2018 = pd.read_csv(\"ent2018.csv\", encoding='cp1252')"
   ]
  },
  {
   "cell_type": "code",
   "execution_count": null,
   "id": "574e304d-ee62-4f02-bbe9-3f1bebbdc373",
   "metadata": {},
   "outputs": [],
   "source": [
    "ent2019 = pd.read_csv(\"ent2019.csv\", encoding='cp1252')"
   ]
  },
  {
   "cell_type": "code",
   "execution_count": null,
   "id": "953dccfb-bef7-49de-8e78-74558cafda30",
   "metadata": {},
   "outputs": [],
   "source": [
    "ent2019.columns"
   ]
  },
  {
   "cell_type": "code",
   "execution_count": null,
   "id": "f9a7d442-ede6-42cb-b1fa-6ff83bc29532",
   "metadata": {},
   "outputs": [],
   "source": [
    "ent99_19 = pd.merge(ent2000[[\"code\",\"park\", \"ent99\", \"ent00\"]], ent2001[[\"code\", \"ent01\"]], on='code',how='outer')"
   ]
  },
  {
   "cell_type": "code",
   "execution_count": null,
   "id": "edf523be-8347-4250-a09f-c812d3e9fc59",
   "metadata": {},
   "outputs": [],
   "source": [
    "ent99_19 = pd.merge(ent99_19, ent2002[[\"code\", \"ent02\"]], on='code',how='outer')"
   ]
  },
  {
   "cell_type": "code",
   "execution_count": null,
   "id": "3dab8552-e8e6-4417-a7c6-0a43660a0970",
   "metadata": {},
   "outputs": [],
   "source": [
    "ent99_19 = pd.merge(ent99_19, ent2003[[\"code\", \"ent03\"]], on='code',how='outer')"
   ]
  },
  {
   "cell_type": "code",
   "execution_count": null,
   "id": "2c4c0322-1b08-4878-8eda-19c9cdd44fa0",
   "metadata": {},
   "outputs": [],
   "source": [
    "ent99_19 = pd.merge(ent99_19, ent2004[[\"code\", \"ent04\"]], on='code',how='outer')"
   ]
  },
  {
   "cell_type": "code",
   "execution_count": null,
   "id": "0cec4269-fe2e-4c02-86c8-132d15e55bbc",
   "metadata": {},
   "outputs": [],
   "source": [
    "ent99_19 = pd.merge(ent99_19, ent2005[[\"code\", \"ent05\"]], on='code',how='outer')"
   ]
  },
  {
   "cell_type": "code",
   "execution_count": null,
   "id": "35781446-f559-4123-8669-9fc8504997f6",
   "metadata": {},
   "outputs": [],
   "source": [
    "ent99_19 = pd.merge(ent99_19, ent2006[[\"code\", \"ent06\"]], on='code',how='outer')"
   ]
  },
  {
   "cell_type": "code",
   "execution_count": null,
   "id": "6b2678ae-94e7-45b7-acf2-b101759ebbd4",
   "metadata": {},
   "outputs": [],
   "source": [
    "ent99_19 = pd.merge(ent99_19, ent2007[[\"code\", \"ent07\"]], on='code',how='outer')"
   ]
  },
  {
   "cell_type": "code",
   "execution_count": null,
   "id": "fb5fbc59-d3ad-46f8-9b52-bbe27a02c22e",
   "metadata": {},
   "outputs": [],
   "source": [
    "ent99_19 = pd.merge(ent99_19, ent2008[[\"code\", \"ent08\"]], on='code',how='outer')"
   ]
  },
  {
   "cell_type": "code",
   "execution_count": null,
   "id": "465c7357-6c2c-45c5-bda5-cc9f538c16ab",
   "metadata": {},
   "outputs": [],
   "source": [
    "ent99_19 = pd.merge(ent99_19, ent2009[[\"code\", \"ent09\"]], on='code',how='outer')"
   ]
  },
  {
   "cell_type": "code",
   "execution_count": null,
   "id": "03985dad-d374-41df-bcde-0d6ca8e5bb60",
   "metadata": {},
   "outputs": [],
   "source": [
    "ent99_19 = pd.merge(ent99_19, ent2010[[\"code\", \"ent10\"]], on='code',how='outer')"
   ]
  },
  {
   "cell_type": "code",
   "execution_count": null,
   "id": "251e1016-b65c-40f2-a58c-a8bc1b648747",
   "metadata": {},
   "outputs": [],
   "source": [
    "ent99_19 = pd.merge(ent99_19, ent2011[[\"code\", \"ent11\"]], on='code',how='outer')"
   ]
  },
  {
   "cell_type": "code",
   "execution_count": null,
   "id": "8a41b239-85d0-49a3-bd4e-d33dc7cdc583",
   "metadata": {},
   "outputs": [],
   "source": [
    "ent99_19 = pd.merge(ent99_19, ent2012[[\"code\", \"ent12\"]], on='code',how='outer')"
   ]
  },
  {
   "cell_type": "code",
   "execution_count": null,
   "id": "c6530c88-28aa-4824-9245-f86f60c5e7eb",
   "metadata": {},
   "outputs": [],
   "source": [
    "ent99_19 = pd.merge(ent99_19, ent2014[[\"code\", \"ent13\", \"ent13\"]], on='code',how='outer')"
   ]
  },
  {
   "cell_type": "code",
   "execution_count": null,
   "id": "6e6ff0fe-4ba6-4739-83fd-7f1741738651",
   "metadata": {},
   "outputs": [],
   "source": [
    "ent99_19 = pd.merge(ent99_19, ent2015[[\"code\", \"ent15\"]], on='code',how='outer')"
   ]
  },
  {
   "cell_type": "code",
   "execution_count": null,
   "id": "4e3569a3-480a-467e-be98-faa52312ef9a",
   "metadata": {},
   "outputs": [],
   "source": [
    "ent99_19 = pd.merge(ent99_19, ent2016[[\"code\", \"ent16\"]], on='code',how='outer')"
   ]
  },
  {
   "cell_type": "code",
   "execution_count": null,
   "id": "6d543ec5-0718-456c-a08c-5d96760ad077",
   "metadata": {},
   "outputs": [],
   "source": [
    "ent99_19 = pd.merge(ent99_19, ent2017[[\"code\", \"ent17\"]], on='code',how='outer')"
   ]
  },
  {
   "cell_type": "code",
   "execution_count": null,
   "id": "7bb6373d-925e-4783-86f0-a5146742bef3",
   "metadata": {},
   "outputs": [],
   "source": [
    "ent99_19 = pd.merge(ent99_19, ent2018[[\"code\", \"ent18\"]], on='code',how='outer')"
   ]
  },
  {
   "cell_type": "code",
   "execution_count": null,
   "id": "37184f95-89fc-45cc-b9ec-9720253ea8e7",
   "metadata": {},
   "outputs": [],
   "source": [
    "ent99_19 = pd.merge(ent99_19, ent2019[[\"code\", \"enter_2019\"]], on='code',how='outer')"
   ]
  },
  {
   "cell_type": "code",
   "execution_count": null,
   "id": "40cefc05-93c7-485f-9d99-c9ad17e251dc",
   "metadata": {},
   "outputs": [],
   "source": [
    "ent99_19.fillna(0, inplace=True)"
   ]
  },
  {
   "cell_type": "code",
   "execution_count": null,
   "id": "c3557b16-cda8-47b1-9441-620e8aa929db",
   "metadata": {},
   "outputs": [],
   "source": [
    "ent99_19[ent99_19[\"code\"] != \"DOM-MAD\"]"
   ]
  },
  {
   "cell_type": "code",
   "execution_count": null,
   "id": "acf58d57-364d-48af-b8b1-2f387daf9edb",
   "metadata": {},
   "outputs": [],
   "source": [
    "ent99_19.to_csv(\"ent99_19.csv\", index = False)"
   ]
  },
  {
   "cell_type": "code",
   "execution_count": null,
   "id": "b4a966c7-037c-4d7a-b83c-6dfadbede9b3",
   "metadata": {},
   "outputs": [],
   "source": []
  }
 ],
 "metadata": {
  "kernelspec": {
   "display_name": "Python 3 (ipykernel)",
   "language": "python",
   "name": "python3"
  },
  "language_info": {
   "codemirror_mode": {
    "name": "ipython",
    "version": 3
   },
   "file_extension": ".py",
   "mimetype": "text/x-python",
   "name": "python",
   "nbconvert_exporter": "python",
   "pygments_lexer": "ipython3",
   "version": "3.12.0"
  }
 },
 "nbformat": 4,
 "nbformat_minor": 5
}
