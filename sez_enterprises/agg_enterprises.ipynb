{
 "cells": [
  {
   "cell_type": "code",
   "execution_count": 1,
   "id": "6f681634-8402-4aae-9f05-e183a1845310",
   "metadata": {},
   "outputs": [],
   "source": [
    "import pandas as pd "
   ]
  },
  {
   "cell_type": "code",
   "execution_count": 2,
   "id": "5bf6f0ad-eadd-485d-a6ad-963f653bf936",
   "metadata": {},
   "outputs": [],
   "source": [
    "ent2000 = pd.read_csv(\"ent2000.csv\", encoding='cp1252')"
   ]
  },
  {
   "cell_type": "code",
   "execution_count": 3,
   "id": "89bc8a7d-a8bb-42da-b2a6-ee937ea7b26f",
   "metadata": {},
   "outputs": [],
   "source": [
    "ent2001 = pd.read_csv(\"ent2001.csv\", encoding='cp1252')"
   ]
  },
  {
   "cell_type": "code",
   "execution_count": 4,
   "id": "e95eaadf-785c-4c22-9633-efa367d48282",
   "metadata": {},
   "outputs": [],
   "source": [
    "ent2002 = pd.read_csv(\"ent2002.csv\", encoding='cp1252')"
   ]
  },
  {
   "cell_type": "code",
   "execution_count": 5,
   "id": "8d95c492-aa87-4893-8905-3d952e143754",
   "metadata": {},
   "outputs": [],
   "source": [
    "ent2003 = pd.read_csv(\"ent2003.csv\", encoding='cp1252')"
   ]
  },
  {
   "cell_type": "code",
   "execution_count": 6,
   "id": "4cac8773-bfbb-4c08-b9f7-d884e2770b07",
   "metadata": {},
   "outputs": [],
   "source": [
    "ent2004 = pd.read_csv(\"ent2004.csv\", encoding='cp1252')"
   ]
  },
  {
   "cell_type": "code",
   "execution_count": 7,
   "id": "f32898d0-4525-40e5-98c2-d176388c372f",
   "metadata": {},
   "outputs": [],
   "source": [
    "ent2005 = pd.read_csv(\"ent2005.csv\", encoding='cp1252')"
   ]
  },
  {
   "cell_type": "code",
   "execution_count": 8,
   "id": "59e87c8e-016f-404d-b6ea-a9bdd4ab4a17",
   "metadata": {},
   "outputs": [],
   "source": [
    "ent2006 = pd.read_csv(\"ent2006.csv\", encoding='cp1252')"
   ]
  },
  {
   "cell_type": "code",
   "execution_count": 9,
   "id": "eace4624-703c-424e-a3c4-c9aa76c2bf9c",
   "metadata": {},
   "outputs": [],
   "source": [
    "ent2007 = pd.read_csv(\"ent2007.csv\", encoding='cp1252')"
   ]
  },
  {
   "cell_type": "code",
   "execution_count": 10,
   "id": "5b91cf29-f057-42d9-8970-a23d20355197",
   "metadata": {},
   "outputs": [],
   "source": [
    "ent2008 = pd.read_csv(\"ent2008.csv\", encoding='cp1252')"
   ]
  },
  {
   "cell_type": "code",
   "execution_count": 11,
   "id": "c206c7ac-5864-4f52-8f0a-a1b6caa32f74",
   "metadata": {},
   "outputs": [],
   "source": [
    "ent2009 = pd.read_csv(\"ent2009.csv\", encoding='cp1252')"
   ]
  },
  {
   "cell_type": "code",
   "execution_count": 12,
   "id": "421039f1-ded7-44ed-802b-e5f9c1f5cabe",
   "metadata": {},
   "outputs": [],
   "source": [
    "ent2010 = pd.read_csv(\"ent2010.csv\", encoding='cp1252')"
   ]
  },
  {
   "cell_type": "code",
   "execution_count": 13,
   "id": "e084c57c-f349-4000-bc35-7ee11d3d1843",
   "metadata": {},
   "outputs": [],
   "source": [
    "ent2011 = pd.read_csv(\"ent2011.csv\", encoding='cp1252')"
   ]
  },
  {
   "cell_type": "code",
   "execution_count": 14,
   "id": "1889057a-e9ba-42d5-a207-792b05e4d828",
   "metadata": {},
   "outputs": [],
   "source": [
    "ent2012= pd.read_csv(\"ent2012.csv\", encoding='cp1252')"
   ]
  },
  {
   "cell_type": "code",
   "execution_count": 16,
   "id": "5a75940a-5820-43db-941a-3dab10df5189",
   "metadata": {},
   "outputs": [],
   "source": [
    "ent2014 = pd.read_csv(\"ent2013_2014.csv\", encoding='cp1252')"
   ]
  },
  {
   "cell_type": "code",
   "execution_count": 17,
   "id": "97519940-7524-40c3-b364-ea5d2e523003",
   "metadata": {},
   "outputs": [],
   "source": [
    "ent2015 = pd.read_csv(\"ent2015.csv\", encoding='cp1252')"
   ]
  },
  {
   "cell_type": "code",
   "execution_count": 18,
   "id": "534a5d99-437b-4b50-b032-c85d2483e236",
   "metadata": {},
   "outputs": [],
   "source": [
    "ent2016 = pd.read_csv(\"ent2016.csv\", encoding='cp1252')"
   ]
  },
  {
   "cell_type": "code",
   "execution_count": 19,
   "id": "73777e1e-62fb-4465-8368-a7aa6f9e5bde",
   "metadata": {},
   "outputs": [],
   "source": [
    "ent2017 = pd.read_csv(\"ent2017.csv\", encoding='cp1252')"
   ]
  },
  {
   "cell_type": "code",
   "execution_count": 20,
   "id": "3d0db1a0-535e-42f3-bd1d-c0a7aea7e33a",
   "metadata": {},
   "outputs": [],
   "source": [
    "ent2018 = pd.read_csv(\"ent2018.csv\", encoding='cp1252')"
   ]
  },
  {
   "cell_type": "code",
   "execution_count": 21,
   "id": "574e304d-ee62-4f02-bbe9-3f1bebbdc373",
   "metadata": {},
   "outputs": [],
   "source": [
    "ent2019 = pd.read_csv(\"ent2019.csv\", encoding='cp1252')"
   ]
  },
  {
   "cell_type": "code",
   "execution_count": 22,
   "id": "953dccfb-bef7-49de-8e78-74558cafda30",
   "metadata": {},
   "outputs": [
    {
     "data": {
      "text/plain": [
       "Index(['code', 'park', 'enter_2019'], dtype='object')"
      ]
     },
     "execution_count": 22,
     "metadata": {},
     "output_type": "execute_result"
    }
   ],
   "source": [
    "ent2019.columns"
   ]
  },
  {
   "cell_type": "code",
   "execution_count": 23,
   "id": "f9a7d442-ede6-42cb-b1fa-6ff83bc29532",
   "metadata": {},
   "outputs": [],
   "source": [
    "ent99_19 = pd.merge(ent2000[[\"code\",\"park\", \"ent99\", \"ent00\"]], ent2001[[\"code\", \"ent01\"]], on='code',how='outer')"
   ]
  },
  {
   "cell_type": "code",
   "execution_count": 24,
   "id": "edf523be-8347-4250-a09f-c812d3e9fc59",
   "metadata": {},
   "outputs": [],
   "source": [
    "ent99_19 = pd.merge(ent99_19, ent2002[[\"code\", \"ent02\"]], on='code',how='outer')"
   ]
  },
  {
   "cell_type": "code",
   "execution_count": 25,
   "id": "3dab8552-e8e6-4417-a7c6-0a43660a0970",
   "metadata": {},
   "outputs": [],
   "source": [
    "ent99_19 = pd.merge(ent99_19, ent2003[[\"code\", \"ent03\"]], on='code',how='outer')"
   ]
  },
  {
   "cell_type": "code",
   "execution_count": 26,
   "id": "2c4c0322-1b08-4878-8eda-19c9cdd44fa0",
   "metadata": {},
   "outputs": [],
   "source": [
    "ent99_19 = pd.merge(ent99_19, ent2004[[\"code\", \"ent04\"]], on='code',how='outer')"
   ]
  },
  {
   "cell_type": "code",
   "execution_count": 27,
   "id": "0cec4269-fe2e-4c02-86c8-132d15e55bbc",
   "metadata": {},
   "outputs": [],
   "source": [
    "ent99_19 = pd.merge(ent99_19, ent2005[[\"code\", \"ent05\"]], on='code',how='outer')"
   ]
  },
  {
   "cell_type": "code",
   "execution_count": 28,
   "id": "35781446-f559-4123-8669-9fc8504997f6",
   "metadata": {},
   "outputs": [],
   "source": [
    "ent99_19 = pd.merge(ent99_19, ent2006[[\"code\", \"ent06\"]], on='code',how='outer')"
   ]
  },
  {
   "cell_type": "code",
   "execution_count": 29,
   "id": "6b2678ae-94e7-45b7-acf2-b101759ebbd4",
   "metadata": {},
   "outputs": [],
   "source": [
    "ent99_19 = pd.merge(ent99_19, ent2007[[\"code\", \"ent07\"]], on='code',how='outer')"
   ]
  },
  {
   "cell_type": "code",
   "execution_count": 30,
   "id": "fb5fbc59-d3ad-46f8-9b52-bbe27a02c22e",
   "metadata": {},
   "outputs": [],
   "source": [
    "ent99_19 = pd.merge(ent99_19, ent2008[[\"code\", \"ent08\"]], on='code',how='outer')"
   ]
  },
  {
   "cell_type": "code",
   "execution_count": 31,
   "id": "465c7357-6c2c-45c5-bda5-cc9f538c16ab",
   "metadata": {},
   "outputs": [],
   "source": [
    "ent99_19 = pd.merge(ent99_19, ent2009[[\"code\", \"ent09\"]], on='code',how='outer')"
   ]
  },
  {
   "cell_type": "code",
   "execution_count": 32,
   "id": "03985dad-d374-41df-bcde-0d6ca8e5bb60",
   "metadata": {},
   "outputs": [],
   "source": [
    "ent99_19 = pd.merge(ent99_19, ent2010[[\"code\", \"ent10\"]], on='code',how='outer')"
   ]
  },
  {
   "cell_type": "code",
   "execution_count": 33,
   "id": "251e1016-b65c-40f2-a58c-a8bc1b648747",
   "metadata": {},
   "outputs": [],
   "source": [
    "ent99_19 = pd.merge(ent99_19, ent2011[[\"code\", \"ent11\"]], on='code',how='outer')"
   ]
  },
  {
   "cell_type": "code",
   "execution_count": 34,
   "id": "8a41b239-85d0-49a3-bd4e-d33dc7cdc583",
   "metadata": {},
   "outputs": [],
   "source": [
    "ent99_19 = pd.merge(ent99_19, ent2012[[\"code\", \"ent12\"]], on='code',how='outer')"
   ]
  },
  {
   "cell_type": "code",
   "execution_count": 35,
   "id": "c6530c88-28aa-4824-9245-f86f60c5e7eb",
   "metadata": {},
   "outputs": [],
   "source": [
    "ent99_19 = pd.merge(ent99_19, ent2014[[\"code\", \"ent13\", \"ent14\"]], on='code',how='outer')"
   ]
  },
  {
   "cell_type": "code",
   "execution_count": 36,
   "id": "6e6ff0fe-4ba6-4739-83fd-7f1741738651",
   "metadata": {},
   "outputs": [],
   "source": [
    "ent99_19 = pd.merge(ent99_19, ent2015[[\"code\", \"ent15\"]], on='code',how='outer')"
   ]
  },
  {
   "cell_type": "code",
   "execution_count": 37,
   "id": "4e3569a3-480a-467e-be98-faa52312ef9a",
   "metadata": {},
   "outputs": [],
   "source": [
    "ent99_19 = pd.merge(ent99_19, ent2016[[\"code\", \"ent16\"]], on='code',how='outer')"
   ]
  },
  {
   "cell_type": "code",
   "execution_count": 38,
   "id": "6d543ec5-0718-456c-a08c-5d96760ad077",
   "metadata": {},
   "outputs": [],
   "source": [
    "ent99_19 = pd.merge(ent99_19, ent2017[[\"code\", \"ent17\"]], on='code',how='outer')"
   ]
  },
  {
   "cell_type": "code",
   "execution_count": 39,
   "id": "7bb6373d-925e-4783-86f0-a5146742bef3",
   "metadata": {},
   "outputs": [],
   "source": [
    "ent99_19 = pd.merge(ent99_19, ent2018[[\"code\", \"ent18\"]], on='code',how='outer')"
   ]
  },
  {
   "cell_type": "code",
   "execution_count": 40,
   "id": "37184f95-89fc-45cc-b9ec-9720253ea8e7",
   "metadata": {},
   "outputs": [],
   "source": [
    "ent99_19 = pd.merge(ent99_19, ent2019[[\"code\", \"enter_2019\"]], on='code',how='outer')"
   ]
  },
  {
   "cell_type": "code",
   "execution_count": 41,
   "id": "40cefc05-93c7-485f-9d99-c9ad17e251dc",
   "metadata": {},
   "outputs": [],
   "source": [
    "ent99_19.fillna(0, inplace=True)"
   ]
  },
  {
   "cell_type": "code",
   "execution_count": 42,
   "id": "c3557b16-cda8-47b1-9441-620e8aa929db",
   "metadata": {},
   "outputs": [
    {
     "data": {
      "text/html": [
       "<div>\n",
       "<style scoped>\n",
       "    .dataframe tbody tr th:only-of-type {\n",
       "        vertical-align: middle;\n",
       "    }\n",
       "\n",
       "    .dataframe tbody tr th {\n",
       "        vertical-align: top;\n",
       "    }\n",
       "\n",
       "    .dataframe thead th {\n",
       "        text-align: right;\n",
       "    }\n",
       "</style>\n",
       "<table border=\"1\" class=\"dataframe\">\n",
       "  <thead>\n",
       "    <tr style=\"text-align: right;\">\n",
       "      <th></th>\n",
       "      <th>code</th>\n",
       "      <th>park</th>\n",
       "      <th>ent99</th>\n",
       "      <th>ent00</th>\n",
       "      <th>ent01</th>\n",
       "      <th>ent02</th>\n",
       "      <th>ent03</th>\n",
       "      <th>ent04</th>\n",
       "      <th>ent05</th>\n",
       "      <th>ent06</th>\n",
       "      <th>...</th>\n",
       "      <th>ent10</th>\n",
       "      <th>ent11</th>\n",
       "      <th>ent12</th>\n",
       "      <th>ent13</th>\n",
       "      <th>ent14</th>\n",
       "      <th>ent15</th>\n",
       "      <th>ent16</th>\n",
       "      <th>ent17</th>\n",
       "      <th>ent18</th>\n",
       "      <th>enter_2019</th>\n",
       "    </tr>\n",
       "  </thead>\n",
       "  <tbody>\n",
       "    <tr>\n",
       "      <th>0</th>\n",
       "      <td>DOM-6NO</td>\n",
       "      <td>0</td>\n",
       "      <td>0.0</td>\n",
       "      <td>0.0</td>\n",
       "      <td>0.0</td>\n",
       "      <td>0.0</td>\n",
       "      <td>0.0</td>\n",
       "      <td>0.0</td>\n",
       "      <td>0.0</td>\n",
       "      <td>0.0</td>\n",
       "      <td>...</td>\n",
       "      <td>0.0</td>\n",
       "      <td>0.0</td>\n",
       "      <td>0.0</td>\n",
       "      <td>0.0</td>\n",
       "      <td>0.0</td>\n",
       "      <td>0.0</td>\n",
       "      <td>1.0</td>\n",
       "      <td>1.0</td>\n",
       "      <td>1.0</td>\n",
       "      <td>1.0</td>\n",
       "    </tr>\n",
       "    <tr>\n",
       "      <th>1</th>\n",
       "      <td>DOM-ALC</td>\n",
       "      <td>Los Alcarrizos</td>\n",
       "      <td>16.0</td>\n",
       "      <td>19.0</td>\n",
       "      <td>17.0</td>\n",
       "      <td>14.0</td>\n",
       "      <td>18.0</td>\n",
       "      <td>17.0</td>\n",
       "      <td>14.0</td>\n",
       "      <td>14.0</td>\n",
       "      <td>...</td>\n",
       "      <td>14.0</td>\n",
       "      <td>13.0</td>\n",
       "      <td>13.0</td>\n",
       "      <td>13.0</td>\n",
       "      <td>12.0</td>\n",
       "      <td>10.0</td>\n",
       "      <td>11.0</td>\n",
       "      <td>10.0</td>\n",
       "      <td>9.0</td>\n",
       "      <td>5.0</td>\n",
       "    </tr>\n",
       "    <tr>\n",
       "      <th>2</th>\n",
       "      <td>DOM-ALT</td>\n",
       "      <td>Villa Altagracia</td>\n",
       "      <td>2.0</td>\n",
       "      <td>2.0</td>\n",
       "      <td>2.0</td>\n",
       "      <td>3.0</td>\n",
       "      <td>3.0</td>\n",
       "      <td>3.0</td>\n",
       "      <td>4.0</td>\n",
       "      <td>7.0</td>\n",
       "      <td>...</td>\n",
       "      <td>7.0</td>\n",
       "      <td>4.0</td>\n",
       "      <td>4.0</td>\n",
       "      <td>4.0</td>\n",
       "      <td>4.0</td>\n",
       "      <td>4.0</td>\n",
       "      <td>4.0</td>\n",
       "      <td>4.0</td>\n",
       "      <td>4.0</td>\n",
       "      <td>4.0</td>\n",
       "    </tr>\n",
       "    <tr>\n",
       "      <th>3</th>\n",
       "      <td>DOM-AND</td>\n",
       "      <td>0</td>\n",
       "      <td>0.0</td>\n",
       "      <td>0.0</td>\n",
       "      <td>0.0</td>\n",
       "      <td>0.0</td>\n",
       "      <td>0.0</td>\n",
       "      <td>0.0</td>\n",
       "      <td>0.0</td>\n",
       "      <td>0.0</td>\n",
       "      <td>...</td>\n",
       "      <td>1.0</td>\n",
       "      <td>1.0</td>\n",
       "      <td>1.0</td>\n",
       "      <td>1.0</td>\n",
       "      <td>1.0</td>\n",
       "      <td>1.0</td>\n",
       "      <td>1.0</td>\n",
       "      <td>1.0</td>\n",
       "      <td>1.0</td>\n",
       "      <td>1.0</td>\n",
       "    </tr>\n",
       "    <tr>\n",
       "      <th>4</th>\n",
       "      <td>DOM-ARM</td>\n",
       "      <td>La Armer’a</td>\n",
       "      <td>11.0</td>\n",
       "      <td>10.0</td>\n",
       "      <td>9.0</td>\n",
       "      <td>11.0</td>\n",
       "      <td>10.0</td>\n",
       "      <td>10.0</td>\n",
       "      <td>10.0</td>\n",
       "      <td>9.0</td>\n",
       "      <td>...</td>\n",
       "      <td>5.0</td>\n",
       "      <td>5.0</td>\n",
       "      <td>6.0</td>\n",
       "      <td>6.0</td>\n",
       "      <td>6.0</td>\n",
       "      <td>8.0</td>\n",
       "      <td>9.0</td>\n",
       "      <td>8.0</td>\n",
       "      <td>7.0</td>\n",
       "      <td>6.0</td>\n",
       "    </tr>\n",
       "    <tr>\n",
       "      <th>...</th>\n",
       "      <td>...</td>\n",
       "      <td>...</td>\n",
       "      <td>...</td>\n",
       "      <td>...</td>\n",
       "      <td>...</td>\n",
       "      <td>...</td>\n",
       "      <td>...</td>\n",
       "      <td>...</td>\n",
       "      <td>...</td>\n",
       "      <td>...</td>\n",
       "      <td>...</td>\n",
       "      <td>...</td>\n",
       "      <td>...</td>\n",
       "      <td>...</td>\n",
       "      <td>...</td>\n",
       "      <td>...</td>\n",
       "      <td>...</td>\n",
       "      <td>...</td>\n",
       "      <td>...</td>\n",
       "      <td>...</td>\n",
       "      <td>...</td>\n",
       "    </tr>\n",
       "    <tr>\n",
       "      <th>92</th>\n",
       "      <td>DOM-VER</td>\n",
       "      <td>0</td>\n",
       "      <td>0.0</td>\n",
       "      <td>0.0</td>\n",
       "      <td>0.0</td>\n",
       "      <td>0.0</td>\n",
       "      <td>0.0</td>\n",
       "      <td>0.0</td>\n",
       "      <td>0.0</td>\n",
       "      <td>0.0</td>\n",
       "      <td>...</td>\n",
       "      <td>0.0</td>\n",
       "      <td>0.0</td>\n",
       "      <td>0.0</td>\n",
       "      <td>0.0</td>\n",
       "      <td>0.0</td>\n",
       "      <td>0.0</td>\n",
       "      <td>0.0</td>\n",
       "      <td>0.0</td>\n",
       "      <td>0.0</td>\n",
       "      <td>1.0</td>\n",
       "    </tr>\n",
       "    <tr>\n",
       "      <th>93</th>\n",
       "      <td>DOM-VIS</td>\n",
       "      <td>0</td>\n",
       "      <td>0.0</td>\n",
       "      <td>0.0</td>\n",
       "      <td>0.0</td>\n",
       "      <td>0.0</td>\n",
       "      <td>0.0</td>\n",
       "      <td>1.0</td>\n",
       "      <td>2.0</td>\n",
       "      <td>2.0</td>\n",
       "      <td>...</td>\n",
       "      <td>1.0</td>\n",
       "      <td>1.0</td>\n",
       "      <td>1.0</td>\n",
       "      <td>1.0</td>\n",
       "      <td>1.0</td>\n",
       "      <td>1.0</td>\n",
       "      <td>1.0</td>\n",
       "      <td>1.0</td>\n",
       "      <td>1.0</td>\n",
       "      <td>1.0</td>\n",
       "    </tr>\n",
       "    <tr>\n",
       "      <th>94</th>\n",
       "      <td>DOM-YAQ</td>\n",
       "      <td>0</td>\n",
       "      <td>0.0</td>\n",
       "      <td>0.0</td>\n",
       "      <td>0.0</td>\n",
       "      <td>0.0</td>\n",
       "      <td>0.0</td>\n",
       "      <td>0.0</td>\n",
       "      <td>0.0</td>\n",
       "      <td>0.0</td>\n",
       "      <td>...</td>\n",
       "      <td>1.0</td>\n",
       "      <td>1.0</td>\n",
       "      <td>1.0</td>\n",
       "      <td>2.0</td>\n",
       "      <td>2.0</td>\n",
       "      <td>2.0</td>\n",
       "      <td>2.0</td>\n",
       "      <td>1.0</td>\n",
       "      <td>1.0</td>\n",
       "      <td>1.0</td>\n",
       "    </tr>\n",
       "    <tr>\n",
       "      <th>95</th>\n",
       "      <td>DOM-ZFE</td>\n",
       "      <td>Z.F. Especiales</td>\n",
       "      <td>28.0</td>\n",
       "      <td>27.0</td>\n",
       "      <td>31.0</td>\n",
       "      <td>33.0</td>\n",
       "      <td>35.0</td>\n",
       "      <td>41.0</td>\n",
       "      <td>56.0</td>\n",
       "      <td>75.0</td>\n",
       "      <td>...</td>\n",
       "      <td>122.0</td>\n",
       "      <td>127.0</td>\n",
       "      <td>140.0</td>\n",
       "      <td>145.0</td>\n",
       "      <td>141.0</td>\n",
       "      <td>136.0</td>\n",
       "      <td>144.0</td>\n",
       "      <td>151.0</td>\n",
       "      <td>0.0</td>\n",
       "      <td>0.0</td>\n",
       "    </tr>\n",
       "    <tr>\n",
       "      <th>96</th>\n",
       "      <td>DOM-ZOF</td>\n",
       "      <td>Zofinma (Mao)</td>\n",
       "      <td>0.0</td>\n",
       "      <td>1.0</td>\n",
       "      <td>1.0</td>\n",
       "      <td>1.0</td>\n",
       "      <td>1.0</td>\n",
       "      <td>1.0</td>\n",
       "      <td>1.0</td>\n",
       "      <td>1.0</td>\n",
       "      <td>...</td>\n",
       "      <td>0.0</td>\n",
       "      <td>0.0</td>\n",
       "      <td>0.0</td>\n",
       "      <td>0.0</td>\n",
       "      <td>0.0</td>\n",
       "      <td>0.0</td>\n",
       "      <td>0.0</td>\n",
       "      <td>0.0</td>\n",
       "      <td>0.0</td>\n",
       "      <td>0.0</td>\n",
       "    </tr>\n",
       "  </tbody>\n",
       "</table>\n",
       "<p>96 rows × 23 columns</p>\n",
       "</div>"
      ],
      "text/plain": [
       "       code              park  ent99  ent00  ent01  ent02  ent03  ent04  \\\n",
       "0   DOM-6NO                 0    0.0    0.0    0.0    0.0    0.0    0.0   \n",
       "1   DOM-ALC    Los Alcarrizos   16.0   19.0   17.0   14.0   18.0   17.0   \n",
       "2   DOM-ALT  Villa Altagracia    2.0    2.0    2.0    3.0    3.0    3.0   \n",
       "3   DOM-AND                 0    0.0    0.0    0.0    0.0    0.0    0.0   \n",
       "4   DOM-ARM        La Armer’a   11.0   10.0    9.0   11.0   10.0   10.0   \n",
       "..      ...               ...    ...    ...    ...    ...    ...    ...   \n",
       "92  DOM-VER                 0    0.0    0.0    0.0    0.0    0.0    0.0   \n",
       "93  DOM-VIS                 0    0.0    0.0    0.0    0.0    0.0    1.0   \n",
       "94  DOM-YAQ                 0    0.0    0.0    0.0    0.0    0.0    0.0   \n",
       "95  DOM-ZFE   Z.F. Especiales   28.0   27.0   31.0   33.0   35.0   41.0   \n",
       "96  DOM-ZOF     Zofinma (Mao)    0.0    1.0    1.0    1.0    1.0    1.0   \n",
       "\n",
       "    ent05  ent06  ...  ent10  ent11  ent12  ent13  ent14  ent15  ent16  ent17  \\\n",
       "0     0.0    0.0  ...    0.0    0.0    0.0    0.0    0.0    0.0    1.0    1.0   \n",
       "1    14.0   14.0  ...   14.0   13.0   13.0   13.0   12.0   10.0   11.0   10.0   \n",
       "2     4.0    7.0  ...    7.0    4.0    4.0    4.0    4.0    4.0    4.0    4.0   \n",
       "3     0.0    0.0  ...    1.0    1.0    1.0    1.0    1.0    1.0    1.0    1.0   \n",
       "4    10.0    9.0  ...    5.0    5.0    6.0    6.0    6.0    8.0    9.0    8.0   \n",
       "..    ...    ...  ...    ...    ...    ...    ...    ...    ...    ...    ...   \n",
       "92    0.0    0.0  ...    0.0    0.0    0.0    0.0    0.0    0.0    0.0    0.0   \n",
       "93    2.0    2.0  ...    1.0    1.0    1.0    1.0    1.0    1.0    1.0    1.0   \n",
       "94    0.0    0.0  ...    1.0    1.0    1.0    2.0    2.0    2.0    2.0    1.0   \n",
       "95   56.0   75.0  ...  122.0  127.0  140.0  145.0  141.0  136.0  144.0  151.0   \n",
       "96    1.0    1.0  ...    0.0    0.0    0.0    0.0    0.0    0.0    0.0    0.0   \n",
       "\n",
       "    ent18  enter_2019  \n",
       "0     1.0         1.0  \n",
       "1     9.0         5.0  \n",
       "2     4.0         4.0  \n",
       "3     1.0         1.0  \n",
       "4     7.0         6.0  \n",
       "..    ...         ...  \n",
       "92    0.0         1.0  \n",
       "93    1.0         1.0  \n",
       "94    1.0         1.0  \n",
       "95    0.0         0.0  \n",
       "96    0.0         0.0  \n",
       "\n",
       "[96 rows x 23 columns]"
      ]
     },
     "execution_count": 42,
     "metadata": {},
     "output_type": "execute_result"
    }
   ],
   "source": [
    "ent99_19[ent99_19[\"code\"] != \"DOM-MAD\"]"
   ]
  },
  {
   "cell_type": "code",
   "execution_count": 43,
   "id": "acf58d57-364d-48af-b8b1-2f387daf9edb",
   "metadata": {},
   "outputs": [],
   "source": [
    "ent99_19.to_csv(\"ent99_19.csv\", index = False)"
   ]
  },
  {
   "cell_type": "code",
   "execution_count": null,
   "id": "b4a966c7-037c-4d7a-b83c-6dfadbede9b3",
   "metadata": {},
   "outputs": [],
   "source": []
  }
 ],
 "metadata": {
  "kernelspec": {
   "display_name": "Python 3 (ipykernel)",
   "language": "python",
   "name": "python3"
  },
  "language_info": {
   "codemirror_mode": {
    "name": "ipython",
    "version": 3
   },
   "file_extension": ".py",
   "mimetype": "text/x-python",
   "name": "python",
   "nbconvert_exporter": "python",
   "pygments_lexer": "ipython3",
   "version": "3.12.0"
  }
 },
 "nbformat": 4,
 "nbformat_minor": 5
}
