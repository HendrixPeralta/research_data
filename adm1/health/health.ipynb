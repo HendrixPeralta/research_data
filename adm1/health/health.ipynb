{
 "cells": [
  {
   "cell_type": "code",
   "execution_count": 1,
   "id": "0b4502e3-ab40-485f-ab21-bf0569ba2857",
   "metadata": {},
   "outputs": [],
   "source": [
    "import pandas as pd "
   ]
  },
  {
   "cell_type": "code",
   "execution_count": 2,
   "id": "b38fd25d-0a15-4c20-812d-bada91b3da12",
   "metadata": {},
   "outputs": [],
   "source": [
    "checks = pd.read_csv(\"medical_checks 2009-2021.csv\")"
   ]
  },
  {
   "cell_type": "code",
   "execution_count": null,
   "id": "84518189-b429-4a3d-bb94-78174962cddd",
   "metadata": {},
   "outputs": [],
   "source": []
  },
  {
   "cell_type": "code",
   "execution_count": 3,
   "id": "9867cdb7-154c-4810-8b61-b3975937f841",
   "metadata": {},
   "outputs": [],
   "source": [
    "emer = pd.read_csv(\"emergencies 2009-2021.csv\")"
   ]
  },
  {
   "cell_type": "code",
   "execution_count": null,
   "id": "7d49738a-e590-4c98-9e7c-2bfaea2b55a2",
   "metadata": {},
   "outputs": [],
   "source": []
  },
  {
   "cell_type": "code",
   "execution_count": 4,
   "id": "776d74ab-eeb2-4230-87bc-c40c97d686a7",
   "metadata": {},
   "outputs": [],
   "source": [
    "c_deaths = pd.read_csv(\"child deaths 2005-2021.csv\")"
   ]
  },
  {
   "cell_type": "code",
   "execution_count": 5,
   "id": "5e49178b-9184-4167-8c64-4d7a9b1ae41a",
   "metadata": {},
   "outputs": [],
   "source": [
    "c_deaths = c_deaths.drop([32,33])"
   ]
  },
  {
   "cell_type": "code",
   "execution_count": null,
   "id": "309b3198-1b39-4595-8327-89cb3566de00",
   "metadata": {},
   "outputs": [],
   "source": []
  },
  {
   "cell_type": "code",
   "execution_count": null,
   "id": "a8137613-8a5e-4928-8177-e7680bf366dc",
   "metadata": {},
   "outputs": [],
   "source": []
  },
  {
   "cell_type": "code",
   "execution_count": 6,
   "id": "21a9016d-5656-4200-9be0-6f3eae82f2cc",
   "metadata": {},
   "outputs": [],
   "source": [
    "births = pd.read_csv(\"births 2001-2021.csv\")"
   ]
  },
  {
   "cell_type": "code",
   "execution_count": 7,
   "id": "63fb2fd4-49ac-47e9-afb6-742aeab8bf99",
   "metadata": {},
   "outputs": [],
   "source": [
    "births = births.drop([32,33])"
   ]
  },
  {
   "cell_type": "code",
   "execution_count": null,
   "id": "1986756f-9b32-47f1-ab8e-1ab5a82105c5",
   "metadata": {},
   "outputs": [],
   "source": []
  },
  {
   "cell_type": "markdown",
   "id": "1387c6cd-58c4-43f6-a265-8a52f9f67dc4",
   "metadata": {},
   "source": [
    "**Join of the datasets**"
   ]
  },
  {
   "cell_type": "code",
   "execution_count": 8,
   "id": "9c6f2621-9ab4-4057-8c5a-953873a7c1b2",
   "metadata": {},
   "outputs": [],
   "source": [
    "health = pd.merge(checks, emer, on=\"id\", how=\"outer\")\n",
    "datasets = [ c_deaths, births]\n",
    "\n",
    "for dataset in datasets: \n",
    "    health = pd.merge(health, dataset, on=\"id\", how=\"outer\")"
   ]
  },
  {
   "cell_type": "code",
   "execution_count": 9,
   "id": "b162b488-88e7-4922-b216-1bfe57e98272",
   "metadata": {},
   "outputs": [
    {
     "data": {
      "text/plain": [
       "Index(['id', 'shapeName_x', 'medical_checks_2009', 'medical_checks_2010',\n",
       "       'medical_checks_2011', 'medical_checks_2012', 'medical_checks_2013',\n",
       "       'medical_checks_2014', 'medical_checks_2015', 'medical_checks_2016',\n",
       "       'medical_checks_2017', 'medical_checks_2018', 'medical_checks_2019',\n",
       "       'medical_checks_2020', 'medical_checks_2021', 'ShapeName',\n",
       "       'emergencies_2009', 'emergencies_2010', 'emergencies_2011',\n",
       "       'emergencies_2012', 'emergencies_2013', 'emergencies_2014',\n",
       "       'emergencies_2015', 'emergencies_2016', 'emergencies_2017',\n",
       "       'emergencies_2018', 'emergencies_2019', 'emergencies_2020',\n",
       "       'emergencies_2021', 'shapeName_y', 'deaths_2005', 'deaths_2006',\n",
       "       'deaths_2007', 'deaths_2008', 'deaths_2009', 'deaths_2010',\n",
       "       'deaths_2011', 'deaths_2012', 'deaths_2013', 'deaths_2014',\n",
       "       'deaths_2015', 'deaths_2016', 'deaths_2017', 'deaths_2018',\n",
       "       'deaths_2019', 'deaths_2020', 'deaths_2021', 'shapeName', 'births_2001',\n",
       "       'births_2002', 'births_2003', 'births_2004', 'births_2005',\n",
       "       'births_2006', 'births_2007', 'births_2008', 'births_2009',\n",
       "       'births_2010', 'births_2011', 'births_2012', 'births_2013',\n",
       "       'births_2014', 'births_2015', 'births_2016', 'births_2017',\n",
       "       'births_2018', 'births_2019', 'births_2020', 'births_2021'],\n",
       "      dtype='object')"
      ]
     },
     "execution_count": 9,
     "metadata": {},
     "output_type": "execute_result"
    }
   ],
   "source": [
    "health.columns"
   ]
  },
  {
   "cell_type": "code",
   "execution_count": null,
   "id": "6bc748d9-8291-4f6c-a3b0-d0904f5d6bc1",
   "metadata": {},
   "outputs": [],
   "source": []
  }
 ],
 "metadata": {
  "kernelspec": {
   "display_name": "Python 3 (ipykernel)",
   "language": "python",
   "name": "python3"
  },
  "language_info": {
   "codemirror_mode": {
    "name": "ipython",
    "version": 3
   },
   "file_extension": ".py",
   "mimetype": "text/x-python",
   "name": "python",
   "nbconvert_exporter": "python",
   "pygments_lexer": "ipython3",
   "version": "3.12.0"
  }
 },
 "nbformat": 4,
 "nbformat_minor": 5
}
