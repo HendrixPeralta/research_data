{
 "cells": [
  {
   "cell_type": "code",
   "execution_count": 16,
   "id": "7c0517d1-1e69-48b5-9945-0faabc015d27",
   "metadata": {},
   "outputs": [],
   "source": [
    "import pandas as pd "
   ]
  },
  {
   "cell_type": "code",
   "execution_count": 53,
   "id": "f1006938-68de-4a99-962b-e85d533f0e6e",
   "metadata": {},
   "outputs": [],
   "source": [
    "# Media level school dropouts \n",
    "\n",
    "drop_m = pd.read_csv(\"media_edu_drop_2010-2020.csv\")\n",
    "drop_m = drop_m.add_prefix(\"drop_m\")\n",
    "drop_m = drop_m.rename(columns = {\"drop_mid\" : \"id\", \"drop_mprovinces\" : \"province\"})\n",
    "drop_m = drop_m[drop_m.columns[drop_m.columns.str.contains(\"id|drop\")]]\n",
    "#drop_m.to_csv(\"drop_media.csv\", index = False)"
   ]
  },
  {
   "cell_type": "code",
   "execution_count": 36,
   "id": "738cd639-1901-4c3c-91c5-e373a763deeb",
   "metadata": {},
   "outputs": [],
   "source": [
    "# School count data \n",
    "\n",
    "scho = pd.read_csv(\"/Users/hendrixperalta/Desktop/Research Data Manipulation/research_data/adm1/education/escuelas2008-2020.csv\", encoding='cp1252')\n",
    "scho = scho.add_prefix(\"scho_count\")\n",
    "scho = scho.rename(columns = {\"scho_countid\" : \"id\", \"scho_countprovince\" :  \"province\"})\n",
    "scho = scho[scho.columns[scho.columns.str.contains(\"id|scho\")]]"
   ]
  },
  {
   "cell_type": "code",
   "execution_count": 44,
   "id": "35ae24f0-1f25-42f1-bee7-5086a8f28fe2",
   "metadata": {},
   "outputs": [],
   "source": [
    "# Classrooms count\n",
    "clroom = pd.read_csv(\"/Users/hendrixperalta/Desktop/Research Data Manipulation/research_data/adm1/education/secciones2008-2020.csv\", encoding='cp1252')\n",
    "clroom = clroom.add_prefix(\"class\")\n",
    "clroom = clroom.rename(columns = {\"classid\" : \"id\", \"classprovincia\" : \"provincia\"})\n",
    "clroom = clroom[clroom.columns[clroom.columns.str.contains(\"id|clas\")]]\n",
    "#clroom"
   ]
  },
  {
   "cell_type": "code",
   "execution_count": 49,
   "id": "ec5ba872-ee2e-4205-9a2c-43aeca0ab29b",
   "metadata": {},
   "outputs": [],
   "source": [
    "# Students head count \n",
    "\n",
    "stud = pd.read_csv(\"/Users/hendrixperalta/Desktop/Research Data Manipulation/research_data/adm1/education/studentCount2008-2020.csv\", encoding='cp1252')\n",
    "stud = stud.add_prefix(\"stu\")\n",
    "stud = stud.rename(columns = {\"stuid\":\"id\", \"stuprovincia\":\"provinces\"})\n",
    "stud = stud[stud.columns[stud.columns.str.contains(\"id|stu\")]]\n",
    "#stud"
   ]
  },
  {
   "cell_type": "code",
   "execution_count": 56,
   "id": "31bc6ed7-2f17-4cf4-854c-3dd3a68a15fc",
   "metadata": {},
   "outputs": [],
   "source": [
    "# Join the Datasets\n",
    "\n",
    "datasets = [clroom, stud]\n",
    "\n",
    "education = pd.merge(drop_m, scho, on=\"id\", how=\"outer\")\n",
    "\n",
    "for dataset in datasets:\n",
    "    education = pd.merge(education, dataset, on=\"id\", how=\"outer\")"
   ]
  },
  {
   "cell_type": "code",
   "execution_count": 57,
   "id": "0ecde6b5-bce7-4861-94a8-27e5acda9b8b",
   "metadata": {},
   "outputs": [],
   "source": [
    "education.to_csv(\"education.csv\")"
   ]
  }
 ],
 "metadata": {
  "kernelspec": {
   "display_name": "Python 3 (ipykernel)",
   "language": "python",
   "name": "python3"
  },
  "language_info": {
   "codemirror_mode": {
    "name": "ipython",
    "version": 3
   },
   "file_extension": ".py",
   "mimetype": "text/x-python",
   "name": "python",
   "nbconvert_exporter": "python",
   "pygments_lexer": "ipython3",
   "version": "3.12.0"
  }
 },
 "nbformat": 4,
 "nbformat_minor": 5
}
