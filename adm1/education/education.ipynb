{
 "cells": [
  {
   "cell_type": "code",
   "execution_count": 1,
   "id": "7c0517d1-1e69-48b5-9945-0faabc015d27",
   "metadata": {},
   "outputs": [],
   "source": [
    "import pandas as pd "
   ]
  },
  {
   "cell_type": "code",
   "execution_count": 4,
   "id": "f1006938-68de-4a99-962b-e85d533f0e6e",
   "metadata": {},
   "outputs": [],
   "source": [
    "drop_m = pd.read_csv(\"media _edu_drop_2010-2020.csv\")"
   ]
  },
  {
   "cell_type": "code",
   "execution_count": 10,
   "id": "a588c006-638c-46ee-97e9-8c4a889335a3",
   "metadata": {},
   "outputs": [],
   "source": [
    "drop_m = drop_m.add_prefix(\"drop_m\")"
   ]
  },
  {
   "cell_type": "code",
   "execution_count": 12,
   "id": "738cd639-1901-4c3c-91c5-e373a763deeb",
   "metadata": {},
   "outputs": [],
   "source": [
    "drop_m = drop_m.rename(columns = {\"drop_mid\" : \"id\"})"
   ]
  },
  {
   "cell_type": "code",
   "execution_count": 14,
   "id": "35ae24f0-1f25-42f1-bee7-5086a8f28fe2",
   "metadata": {},
   "outputs": [],
   "source": [
    "drop_m.to_csv(\"drop_media.csv\", index = False)"
   ]
  },
  {
   "cell_type": "code",
   "execution_count": null,
   "id": "ec5ba872-ee2e-4205-9a2c-43aeca0ab29b",
   "metadata": {},
   "outputs": [],
   "source": []
  }
 ],
 "metadata": {
  "kernelspec": {
   "display_name": "Python 3 (ipykernel)",
   "language": "python",
   "name": "python3"
  },
  "language_info": {
   "codemirror_mode": {
    "name": "ipython",
    "version": 3
   },
   "file_extension": ".py",
   "mimetype": "text/x-python",
   "name": "python",
   "nbconvert_exporter": "python",
   "pygments_lexer": "ipython3",
   "version": "3.12.0"
  }
 },
 "nbformat": 4,
 "nbformat_minor": 5
}
