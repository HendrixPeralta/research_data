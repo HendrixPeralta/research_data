{
 "cells": [
  {
   "cell_type": "code",
   "execution_count": 3,
   "id": "d5e475d0-9785-42ec-9c4f-e4a51e0dc23a",
   "metadata": {},
   "outputs": [],
   "source": [
    "import pandas as pd"
   ]
  },
  {
   "cell_type": "code",
   "execution_count": 8,
   "id": "caea7f97-f6b7-46b8-8f33-5b38c73744d9",
   "metadata": {},
   "outputs": [],
   "source": [
    "landcover = pd.read_csv(\"landcover_amd2_2001_2021.csv\")"
   ]
  },
  {
   "cell_type": "code",
   "execution_count": 10,
   "id": "5f5e93a6-2a01-4e64-a1b0-367d026df1bc",
   "metadata": {},
   "outputs": [
    {
     "data": {
      "text/plain": [
       "Index(['year', 'total_sol', 'urban_sol', 'agriculture_sol', 'city',\n",
       "       'cityCode'],\n",
       "      dtype='object')"
      ]
     },
     "execution_count": 10,
     "metadata": {},
     "output_type": "execute_result"
    }
   ],
   "source": [
    "landcover.columns"
   ]
  },
  {
   "cell_type": "code",
   "execution_count": 22,
   "id": "d97b77fb-f54b-49b7-adf1-43c5567d91d1",
   "metadata": {},
   "outputs": [],
   "source": [
    "urban_land = landcover[['urban_sol', 'year','city', 'cityCode']]"
   ]
  },
  {
   "cell_type": "code",
   "execution_count": 23,
   "id": "1e9a60b6-1ade-4764-9a44-769d925fd206",
   "metadata": {},
   "outputs": [],
   "source": [
    "agriculture_land = landcover[['agriculture_sol', 'year','city', 'cityCode']]"
   ]
  },
  {
   "cell_type": "code",
   "execution_count": null,
   "id": "b9e386ff-3c2b-46c4-845f-eca31cb6df56",
   "metadata": {},
   "outputs": [],
   "source": []
  },
  {
   "cell_type": "code",
   "execution_count": null,
   "id": "20a622c2-8923-4711-9476-a7bebd158f6e",
   "metadata": {},
   "outputs": [],
   "source": []
  },
  {
   "cell_type": "code",
   "execution_count": 29,
   "id": "ba559c40-d5f4-474a-9276-1d295d26eb70",
   "metadata": {},
   "outputs": [],
   "source": [
    "urban_land_wide = urban_land.pivot(index = [\"cityCode\", \"city\"], columns = \"year\", values = \"urban_sol\").add_prefix(\"urb_\")"
   ]
  },
  {
   "cell_type": "code",
   "execution_count": 31,
   "id": "959dfa26-8871-4b49-a7a3-a98277c33889",
   "metadata": {},
   "outputs": [],
   "source": [
    "agriculture_land_wide = agriculture_land.pivot(index = [\"cityCode\", \"city\"], columns = \"year\", values = \"agriculture_sol\").add_prefix(\"agr_\")"
   ]
  },
  {
   "cell_type": "code",
   "execution_count": 33,
   "id": "5bd4fff8-07fe-4f20-b394-163fda5fd8f1",
   "metadata": {},
   "outputs": [],
   "source": [
    "agriculture_land_wide.to_csv(\"agriculture_land_wide.csv\")"
   ]
  },
  {
   "cell_type": "code",
   "execution_count": 34,
   "id": "4720d3a3-e2b7-4202-9798-179fc25174c2",
   "metadata": {},
   "outputs": [],
   "source": [
    "urban_land_wide.to_csv(\"urban_land_wide.csv\")"
   ]
  },
  {
   "cell_type": "code",
   "execution_count": null,
   "id": "b56051c4-85bc-42c0-af61-a8107e3071a3",
   "metadata": {},
   "outputs": [],
   "source": []
  }
 ],
 "metadata": {
  "kernelspec": {
   "display_name": "Python 3 (ipykernel)",
   "language": "python",
   "name": "python3"
  },
  "language_info": {
   "codemirror_mode": {
    "name": "ipython",
    "version": 3
   },
   "file_extension": ".py",
   "mimetype": "text/x-python",
   "name": "python",
   "nbconvert_exporter": "python",
   "pygments_lexer": "ipython3",
   "version": "3.12.0"
  }
 },
 "nbformat": 4,
 "nbformat_minor": 5
}
