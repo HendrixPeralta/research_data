{
 "cells": [
  {
   "cell_type": "code",
   "execution_count": 1,
   "id": "1531b204-b106-4e61-8eda-8d78bcceba82",
   "metadata": {},
   "outputs": [],
   "source": [
    "import pandas as pd "
   ]
  },
  {
   "cell_type": "code",
   "execution_count": 22,
   "id": "25506eba-6857-4072-98fc-fff43bc92950",
   "metadata": {},
   "outputs": [],
   "source": [
    "# Suicide data\n",
    "suic = pd.read_csv(\"suicides 2007-2021.csv\")\n",
    "suic = suic.drop(32)\n",
    "suic = suic[suic.columns[suic.columns.str.contains(\"id|sui\")]]\n",
    "\n",
    "# Homicide data \n",
    "homi = pd.read_csv(\"homicides 2008-2022.csv\")\n",
    "homi = homi[homi.columns[homi.columns.str.contains(\"id|homi\")]]\n",
    "\n",
    "# Car theft data\n",
    "thef = pd.read_csv(\"car theft 2013-2021.csv\")\n",
    "thef = thef.drop(32)\n",
    "thef = thef[thef.columns[thef.columns.str.contains(\"id|the\")]]"
   ]
  },
  {
   "cell_type": "code",
   "execution_count": 23,
   "id": "03a2f053-41ea-4709-9c07-75b7d4efbad4",
   "metadata": {},
   "outputs": [],
   "source": [
    "# Merge datasets into the soci dataframe\n",
    "soci = pd.merge(suic, homi, on=\"id\", how=\"outer\")\n",
    "soci = pd.merge(soci, thef, on=\"id\", how=\"outer\") "
   ]
  },
  {
   "cell_type": "code",
   "execution_count": 25,
   "id": "d393ab86-4fbd-4638-a3ca-3be1371aa190",
   "metadata": {},
   "outputs": [],
   "source": [
    "soci.to_csv(\"social_security.csv\", index=False)"
   ]
  },
  {
   "cell_type": "code",
   "execution_count": null,
   "id": "b680f3d2-0863-4704-866c-853626c62998",
   "metadata": {},
   "outputs": [],
   "source": []
  }
 ],
 "metadata": {
  "kernelspec": {
   "display_name": "Python 3 (ipykernel)",
   "language": "python",
   "name": "python3"
  },
  "language_info": {
   "codemirror_mode": {
    "name": "ipython",
    "version": 3
   },
   "file_extension": ".py",
   "mimetype": "text/x-python",
   "name": "python",
   "nbconvert_exporter": "python",
   "pygments_lexer": "ipython3",
   "version": "3.12.0"
  }
 },
 "nbformat": 4,
 "nbformat_minor": 5
}
