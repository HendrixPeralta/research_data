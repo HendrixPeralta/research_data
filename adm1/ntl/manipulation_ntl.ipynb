{
 "cells": [
  {
   "cell_type": "code",
   "execution_count": 1,
   "id": "b6347afb-6b5b-4a3c-beb7-d1bdbd7fce86",
   "metadata": {},
   "outputs": [],
   "source": [
    "import pandas as pd "
   ]
  },
  {
   "cell_type": "code",
   "execution_count": 2,
   "id": "b84b48db-153a-46a7-a10c-6bda948becf3",
   "metadata": {},
   "outputs": [],
   "source": [
    "import seaborn as sns"
   ]
  },
  {
   "cell_type": "code",
   "execution_count": 3,
   "id": "90ba3930-fe6d-4490-8bee-c546465c7125",
   "metadata": {},
   "outputs": [],
   "source": [
    "import matplotlib.pyplot as plt"
   ]
  },
  {
   "cell_type": "code",
   "execution_count": 4,
   "id": "2bafb73f-0d03-478d-9f8a-bcb543afc269",
   "metadata": {},
   "outputs": [],
   "source": [
    "import numpy as np"
   ]
  },
  {
   "cell_type": "code",
   "execution_count": 5,
   "id": "2d04171a-b6a6-4c16-87a4-3bab13c19347",
   "metadata": {},
   "outputs": [],
   "source": [
    "import plotly.express as px"
   ]
  },
  {
   "cell_type": "code",
   "execution_count": 6,
   "id": "aa76d398-f029-4e9d-96a7-fc0a931b0a72",
   "metadata": {},
   "outputs": [
    {
     "data": {
      "text/html": [
       "        <script type=\"text/javascript\">\n",
       "        window.PlotlyConfig = {MathJaxConfig: 'local'};\n",
       "        if (window.MathJax && window.MathJax.Hub && window.MathJax.Hub.Config) {window.MathJax.Hub.Config({SVG: {font: \"STIX-Web\"}});}\n",
       "        if (typeof require !== 'undefined') {\n",
       "        require.undef(\"plotly\");\n",
       "        requirejs.config({\n",
       "            paths: {\n",
       "                'plotly': ['https://cdn.plot.ly/plotly-2.31.1.min']\n",
       "            }\n",
       "        });\n",
       "        require(['plotly'], function(Plotly) {\n",
       "            window._Plotly = Plotly;\n",
       "        });\n",
       "        }\n",
       "        </script>\n",
       "        "
      ]
     },
     "metadata": {},
     "output_type": "display_data"
    }
   ],
   "source": [
    "from plotly.offline import init_notebook_mode\n",
    "init_notebook_mode(connected=True)"
   ]
  },
  {
   "cell_type": "code",
   "execution_count": 7,
   "id": "8761fad3-cbee-4f2e-8df2-88d0eb3fac47",
   "metadata": {},
   "outputs": [],
   "source": [
    "ntl = pd.read_csv(\"sum_ntl_adm1_2000_2021.csv\")"
   ]
  },
  {
   "cell_type": "code",
   "execution_count": 8,
   "id": "6e93fd23-462f-47a4-80e0-e578022e780f",
   "metadata": {},
   "outputs": [],
   "source": [
    "ntl_wide = ntl.pivot(index = \"id\", columns = \"year\", values = \"total_sol\")"
   ]
  },
  {
   "cell_type": "code",
   "execution_count": 9,
   "id": "d7d74447-ee4d-470d-ae39-e30f1789697d",
   "metadata": {},
   "outputs": [],
   "source": [
    "ntl_wide_2 = ntl.pivot(index = \"year\", columns = \"shapeName\", values = \"total_sol\")"
   ]
  },
  {
   "cell_type": "code",
   "execution_count": 10,
   "id": "bb55e9a1-5cd0-487b-8e4c-be3f6ef75033",
   "metadata": {},
   "outputs": [],
   "source": [
    "ntl_wide.to_csv(\"wide_ntl_adm1_2000_2021.csv\")"
   ]
  },
  {
   "cell_type": "code",
   "execution_count": 11,
   "id": "296f624c-d73a-489e-8c9a-da1140ec82f1",
   "metadata": {},
   "outputs": [
    {
     "data": {
      "text/html": [
       "<div>\n",
       "<style scoped>\n",
       "    .dataframe tbody tr th:only-of-type {\n",
       "        vertical-align: middle;\n",
       "    }\n",
       "\n",
       "    .dataframe tbody tr th {\n",
       "        vertical-align: top;\n",
       "    }\n",
       "\n",
       "    .dataframe thead th {\n",
       "        text-align: right;\n",
       "    }\n",
       "</style>\n",
       "<table border=\"1\" class=\"dataframe\">\n",
       "  <thead>\n",
       "    <tr style=\"text-align: right;\">\n",
       "      <th>shapeName</th>\n",
       "      <th>Azua</th>\n",
       "      <th>Baoruco</th>\n",
       "      <th>Barahona</th>\n",
       "      <th>Dajabón</th>\n",
       "      <th>Distrito Nacional</th>\n",
       "      <th>Duarte</th>\n",
       "      <th>El Seibo</th>\n",
       "      <th>Elías Piña</th>\n",
       "      <th>Espaillat</th>\n",
       "      <th>Hato Mayor</th>\n",
       "      <th>...</th>\n",
       "      <th>Samaná</th>\n",
       "      <th>San Cristóbal</th>\n",
       "      <th>San José de Ocoa</th>\n",
       "      <th>San Juan</th>\n",
       "      <th>San Pedro de Macorís</th>\n",
       "      <th>Santiago</th>\n",
       "      <th>Santiago Rodríguez</th>\n",
       "      <th>Santo Domingo</th>\n",
       "      <th>Sánchez Ramírez</th>\n",
       "      <th>Valverde</th>\n",
       "    </tr>\n",
       "  </thead>\n",
       "  <tbody>\n",
       "    <tr>\n",
       "      <th>count</th>\n",
       "      <td>23.000000</td>\n",
       "      <td>23.000000</td>\n",
       "      <td>23.000000</td>\n",
       "      <td>23.000000</td>\n",
       "      <td>23.000000</td>\n",
       "      <td>23.000000</td>\n",
       "      <td>23.000000</td>\n",
       "      <td>23.000000</td>\n",
       "      <td>23.000000</td>\n",
       "      <td>23.000000</td>\n",
       "      <td>...</td>\n",
       "      <td>23.000000</td>\n",
       "      <td>23.000000</td>\n",
       "      <td>23.000000</td>\n",
       "      <td>23.000000</td>\n",
       "      <td>23.000000</td>\n",
       "      <td>23.000000</td>\n",
       "      <td>23.000000</td>\n",
       "      <td>23.000000</td>\n",
       "      <td>23.000000</td>\n",
       "      <td>23.000000</td>\n",
       "    </tr>\n",
       "    <tr>\n",
       "      <th>mean</th>\n",
       "      <td>1433.846609</td>\n",
       "      <td>534.530643</td>\n",
       "      <td>1264.150657</td>\n",
       "      <td>369.509916</td>\n",
       "      <td>12431.028268</td>\n",
       "      <td>2828.773608</td>\n",
       "      <td>415.545843</td>\n",
       "      <td>232.530790</td>\n",
       "      <td>2019.662874</td>\n",
       "      <td>495.521673</td>\n",
       "      <td>...</td>\n",
       "      <td>524.949180</td>\n",
       "      <td>5106.822222</td>\n",
       "      <td>175.428621</td>\n",
       "      <td>1983.321937</td>\n",
       "      <td>3479.212086</td>\n",
       "      <td>13251.861772</td>\n",
       "      <td>410.065206</td>\n",
       "      <td>24772.899117</td>\n",
       "      <td>1226.936079</td>\n",
       "      <td>1489.111151</td>\n",
       "    </tr>\n",
       "    <tr>\n",
       "      <th>std</th>\n",
       "      <td>1476.938035</td>\n",
       "      <td>538.614740</td>\n",
       "      <td>1058.552436</td>\n",
       "      <td>445.522149</td>\n",
       "      <td>4595.322466</td>\n",
       "      <td>2150.728781</td>\n",
       "      <td>347.981008</td>\n",
       "      <td>258.180449</td>\n",
       "      <td>2050.247413</td>\n",
       "      <td>376.633996</td>\n",
       "      <td>...</td>\n",
       "      <td>559.757656</td>\n",
       "      <td>3886.787673</td>\n",
       "      <td>138.926060</td>\n",
       "      <td>1820.521693</td>\n",
       "      <td>2705.196446</td>\n",
       "      <td>8331.726440</td>\n",
       "      <td>490.747567</td>\n",
       "      <td>13954.918166</td>\n",
       "      <td>1272.429615</td>\n",
       "      <td>1623.381860</td>\n",
       "    </tr>\n",
       "    <tr>\n",
       "      <th>min</th>\n",
       "      <td>82.222175</td>\n",
       "      <td>72.351325</td>\n",
       "      <td>218.548520</td>\n",
       "      <td>17.212330</td>\n",
       "      <td>6360.017645</td>\n",
       "      <td>748.809773</td>\n",
       "      <td>52.041337</td>\n",
       "      <td>1.111906</td>\n",
       "      <td>233.872992</td>\n",
       "      <td>93.875578</td>\n",
       "      <td>...</td>\n",
       "      <td>37.542734</td>\n",
       "      <td>1245.006817</td>\n",
       "      <td>16.556572</td>\n",
       "      <td>158.970657</td>\n",
       "      <td>483.389161</td>\n",
       "      <td>4398.141105</td>\n",
       "      <td>29.841864</td>\n",
       "      <td>8416.769205</td>\n",
       "      <td>38.021904</td>\n",
       "      <td>133.901472</td>\n",
       "    </tr>\n",
       "    <tr>\n",
       "      <th>25%</th>\n",
       "      <td>257.814224</td>\n",
       "      <td>106.146175</td>\n",
       "      <td>398.442058</td>\n",
       "      <td>46.005980</td>\n",
       "      <td>8603.914602</td>\n",
       "      <td>1189.899908</td>\n",
       "      <td>127.371638</td>\n",
       "      <td>16.293831</td>\n",
       "      <td>389.871652</td>\n",
       "      <td>168.398692</td>\n",
       "      <td>...</td>\n",
       "      <td>79.443192</td>\n",
       "      <td>1997.397791</td>\n",
       "      <td>64.665667</td>\n",
       "      <td>323.741653</td>\n",
       "      <td>1172.340135</td>\n",
       "      <td>6109.414237</td>\n",
       "      <td>65.775131</td>\n",
       "      <td>13545.699996</td>\n",
       "      <td>129.431593</td>\n",
       "      <td>207.146023</td>\n",
       "    </tr>\n",
       "    <tr>\n",
       "      <th>50%</th>\n",
       "      <td>654.792395</td>\n",
       "      <td>203.250590</td>\n",
       "      <td>692.412473</td>\n",
       "      <td>108.609624</td>\n",
       "      <td>10951.316136</td>\n",
       "      <td>1881.721593</td>\n",
       "      <td>258.208778</td>\n",
       "      <td>46.712795</td>\n",
       "      <td>739.851356</td>\n",
       "      <td>316.465168</td>\n",
       "      <td>...</td>\n",
       "      <td>363.923585</td>\n",
       "      <td>2722.390961</td>\n",
       "      <td>148.322249</td>\n",
       "      <td>1060.773782</td>\n",
       "      <td>1574.722322</td>\n",
       "      <td>9371.019806</td>\n",
       "      <td>157.953530</td>\n",
       "      <td>16337.024053</td>\n",
       "      <td>314.722011</td>\n",
       "      <td>502.294520</td>\n",
       "    </tr>\n",
       "    <tr>\n",
       "      <th>75%</th>\n",
       "      <td>2171.306652</td>\n",
       "      <td>950.314007</td>\n",
       "      <td>2005.050117</td>\n",
       "      <td>558.593926</td>\n",
       "      <td>15281.736751</td>\n",
       "      <td>3970.058767</td>\n",
       "      <td>675.072079</td>\n",
       "      <td>534.457251</td>\n",
       "      <td>3237.305658</td>\n",
       "      <td>789.818386</td>\n",
       "      <td>...</td>\n",
       "      <td>772.899164</td>\n",
       "      <td>7568.725679</td>\n",
       "      <td>252.142342</td>\n",
       "      <td>3867.936867</td>\n",
       "      <td>5816.842167</td>\n",
       "      <td>19081.095386</td>\n",
       "      <td>572.533594</td>\n",
       "      <td>33118.731458</td>\n",
       "      <td>2334.069976</td>\n",
       "      <td>2662.334971</td>\n",
       "    </tr>\n",
       "    <tr>\n",
       "      <th>max</th>\n",
       "      <td>4915.227796</td>\n",
       "      <td>1914.228338</td>\n",
       "      <td>3831.703352</td>\n",
       "      <td>1513.116115</td>\n",
       "      <td>21262.009801</td>\n",
       "      <td>7963.276176</td>\n",
       "      <td>1169.985667</td>\n",
       "      <td>629.807076</td>\n",
       "      <td>7089.675385</td>\n",
       "      <td>1232.351042</td>\n",
       "      <td>...</td>\n",
       "      <td>1972.563034</td>\n",
       "      <td>13263.714985</td>\n",
       "      <td>544.460117</td>\n",
       "      <td>4700.595420</td>\n",
       "      <td>9084.035366</td>\n",
       "      <td>29958.110855</td>\n",
       "      <td>1766.834453</td>\n",
       "      <td>53803.164493</td>\n",
       "      <td>3761.113265</td>\n",
       "      <td>4940.697463</td>\n",
       "    </tr>\n",
       "  </tbody>\n",
       "</table>\n",
       "<p>8 rows × 32 columns</p>\n",
       "</div>"
      ],
      "text/plain": [
       "shapeName         Azua      Baoruco     Barahona      Dajabón  \\\n",
       "count        23.000000    23.000000    23.000000    23.000000   \n",
       "mean       1433.846609   534.530643  1264.150657   369.509916   \n",
       "std        1476.938035   538.614740  1058.552436   445.522149   \n",
       "min          82.222175    72.351325   218.548520    17.212330   \n",
       "25%         257.814224   106.146175   398.442058    46.005980   \n",
       "50%         654.792395   203.250590   692.412473   108.609624   \n",
       "75%        2171.306652   950.314007  2005.050117   558.593926   \n",
       "max        4915.227796  1914.228338  3831.703352  1513.116115   \n",
       "\n",
       "shapeName  Distrito Nacional       Duarte     El Seibo  Elías Piña  \\\n",
       "count              23.000000    23.000000    23.000000   23.000000   \n",
       "mean            12431.028268  2828.773608   415.545843  232.530790   \n",
       "std              4595.322466  2150.728781   347.981008  258.180449   \n",
       "min              6360.017645   748.809773    52.041337    1.111906   \n",
       "25%              8603.914602  1189.899908   127.371638   16.293831   \n",
       "50%             10951.316136  1881.721593   258.208778   46.712795   \n",
       "75%             15281.736751  3970.058767   675.072079  534.457251   \n",
       "max             21262.009801  7963.276176  1169.985667  629.807076   \n",
       "\n",
       "shapeName    Espaillat   Hato Mayor  ...       Samaná  San Cristóbal  \\\n",
       "count        23.000000    23.000000  ...    23.000000      23.000000   \n",
       "mean       2019.662874   495.521673  ...   524.949180    5106.822222   \n",
       "std        2050.247413   376.633996  ...   559.757656    3886.787673   \n",
       "min         233.872992    93.875578  ...    37.542734    1245.006817   \n",
       "25%         389.871652   168.398692  ...    79.443192    1997.397791   \n",
       "50%         739.851356   316.465168  ...   363.923585    2722.390961   \n",
       "75%        3237.305658   789.818386  ...   772.899164    7568.725679   \n",
       "max        7089.675385  1232.351042  ...  1972.563034   13263.714985   \n",
       "\n",
       "shapeName  San José de Ocoa     San Juan  San Pedro de Macorís      Santiago  \\\n",
       "count             23.000000    23.000000             23.000000     23.000000   \n",
       "mean             175.428621  1983.321937           3479.212086  13251.861772   \n",
       "std              138.926060  1820.521693           2705.196446   8331.726440   \n",
       "min               16.556572   158.970657            483.389161   4398.141105   \n",
       "25%               64.665667   323.741653           1172.340135   6109.414237   \n",
       "50%              148.322249  1060.773782           1574.722322   9371.019806   \n",
       "75%              252.142342  3867.936867           5816.842167  19081.095386   \n",
       "max              544.460117  4700.595420           9084.035366  29958.110855   \n",
       "\n",
       "shapeName  Santiago Rodríguez  Santo Domingo  Sánchez Ramírez     Valverde  \n",
       "count               23.000000      23.000000        23.000000    23.000000  \n",
       "mean               410.065206   24772.899117      1226.936079  1489.111151  \n",
       "std                490.747567   13954.918166      1272.429615  1623.381860  \n",
       "min                 29.841864    8416.769205        38.021904   133.901472  \n",
       "25%                 65.775131   13545.699996       129.431593   207.146023  \n",
       "50%                157.953530   16337.024053       314.722011   502.294520  \n",
       "75%                572.533594   33118.731458      2334.069976  2662.334971  \n",
       "max               1766.834453   53803.164493      3761.113265  4940.697463  \n",
       "\n",
       "[8 rows x 32 columns]"
      ]
     },
     "execution_count": 11,
     "metadata": {},
     "output_type": "execute_result"
    }
   ],
   "source": [
    "ntl_wide_2.describe()"
   ]
  },
  {
   "cell_type": "code",
   "execution_count": 12,
   "id": "d113c229-3fe1-46bb-bf37-a326946407e6",
   "metadata": {},
   "outputs": [
    {
     "name": "stdout",
     "output_type": "stream",
     "text": [
      "<class 'pandas.core.frame.DataFrame'>\n",
      "RangeIndex: 736 entries, 0 to 735\n",
      "Data columns (total 4 columns):\n",
      " #   Column     Non-Null Count  Dtype  \n",
      "---  ------     --------------  -----  \n",
      " 0   shapeName  736 non-null    object \n",
      " 1   id         736 non-null    int64  \n",
      " 2   year       736 non-null    int64  \n",
      " 3   total_sol  736 non-null    float64\n",
      "dtypes: float64(1), int64(2), object(1)\n",
      "memory usage: 23.1+ KB\n"
     ]
    }
   ],
   "source": [
    "ntl.info()"
   ]
  },
  {
   "cell_type": "code",
   "execution_count": 20,
   "id": "86507d82-76a7-453f-805f-0c851a6c4240",
   "metadata": {},
   "outputs": [
    {
     "data": {
      "application/vnd.plotly.v1+json": {
       "config": {
        "plotlyServerURL": "https://plot.ly"
       },
       "data": [
        {
         "alignmentgroup": "True",
         "hovertemplate": "shapeName=%{x}<br>total_sol=%{y}<extra></extra>",
         "legendgroup": "",
         "marker": {
          "color": "#636efa"
         },
         "name": "",
         "notched": false,
         "offsetgroup": "",
         "orientation": "v",
         "showlegend": false,
         "type": "box",
         "x": [
          "Santiago",
          "Duarte",
          "Elías Piña",
          "Hato Mayor",
          "La Vega",
          "Sánchez Ramírez",
          "Samaná",
          "Valverde",
          "Barahona",
          "La Romana",
          "Monseñor Nouel",
          "Monte Cristi",
          "Pedernales",
          "Peravia",
          "Puerto Plata",
          "San José de Ocoa",
          "San Juan",
          "Santiago Rodríguez",
          "Distrito Nacional",
          "El Seibo",
          "Espaillat",
          "Hermanas Mirabal",
          "Independencia",
          "Baoruco",
          "Azua",
          "Dajabón",
          "La Altagracia",
          "María Trinidad Sánchez",
          "Santo Domingo",
          "Monte Plata",
          "San Cristóbal",
          "San Pedro de Macorís",
          "Santiago",
          "Duarte",
          "Elías Piña",
          "Hato Mayor",
          "La Vega",
          "Sánchez Ramírez",
          "Samaná",
          "Valverde",
          "Barahona",
          "La Romana",
          "Monseñor Nouel",
          "Monte Cristi",
          "Pedernales",
          "Peravia",
          "Puerto Plata",
          "San José de Ocoa",
          "San Juan",
          "Santiago Rodríguez",
          "Distrito Nacional",
          "El Seibo",
          "Espaillat",
          "Hermanas Mirabal",
          "Independencia",
          "Baoruco",
          "Azua",
          "Dajabón",
          "La Altagracia",
          "María Trinidad Sánchez",
          "Santo Domingo",
          "Monte Plata",
          "San Cristóbal",
          "San Pedro de Macorís",
          "Santiago",
          "Duarte",
          "Elías Piña",
          "Hato Mayor",
          "La Vega",
          "Sánchez Ramírez",
          "Samaná",
          "Valverde",
          "Barahona",
          "La Romana",
          "Monseñor Nouel",
          "Monte Cristi",
          "Pedernales",
          "Peravia",
          "Puerto Plata",
          "San José de Ocoa",
          "San Juan",
          "Santiago Rodríguez",
          "Distrito Nacional",
          "El Seibo",
          "Espaillat",
          "Hermanas Mirabal",
          "Independencia",
          "Baoruco",
          "Azua",
          "Dajabón",
          "La Altagracia",
          "María Trinidad Sánchez",
          "Santo Domingo",
          "Monte Plata",
          "San Cristóbal",
          "San Pedro de Macorís",
          "Santiago",
          "Duarte",
          "Elías Piña",
          "Hato Mayor",
          "La Vega",
          "Sánchez Ramírez",
          "Samaná",
          "Valverde",
          "Barahona",
          "La Romana",
          "Monseñor Nouel",
          "Monte Cristi",
          "Pedernales",
          "Peravia",
          "Puerto Plata",
          "San José de Ocoa",
          "San Juan",
          "Santiago Rodríguez",
          "Distrito Nacional",
          "El Seibo",
          "Espaillat",
          "Hermanas Mirabal",
          "Independencia",
          "Baoruco",
          "Azua",
          "Dajabón",
          "La Altagracia",
          "María Trinidad Sánchez",
          "Santo Domingo",
          "Monte Plata",
          "San Cristóbal",
          "San Pedro de Macorís",
          "Santiago",
          "Duarte",
          "Elías Piña",
          "Hato Mayor",
          "La Vega",
          "Sánchez Ramírez",
          "Samaná",
          "Valverde",
          "Barahona",
          "La Romana",
          "Monseñor Nouel",
          "Monte Cristi",
          "Pedernales",
          "Peravia",
          "Puerto Plata",
          "San José de Ocoa",
          "San Juan",
          "Santiago Rodríguez",
          "Distrito Nacional",
          "El Seibo",
          "Espaillat",
          "Hermanas Mirabal",
          "Independencia",
          "Baoruco",
          "Azua",
          "Dajabón",
          "La Altagracia",
          "María Trinidad Sánchez",
          "Santo Domingo",
          "Monte Plata",
          "San Cristóbal",
          "San Pedro de Macorís",
          "Santiago",
          "Duarte",
          "Elías Piña",
          "Hato Mayor",
          "La Vega",
          "Sánchez Ramírez",
          "Samaná",
          "Valverde",
          "Barahona",
          "La Romana",
          "Monseñor Nouel",
          "Monte Cristi",
          "Pedernales",
          "Peravia",
          "Puerto Plata",
          "San José de Ocoa",
          "San Juan",
          "Santiago Rodríguez",
          "Distrito Nacional",
          "El Seibo",
          "Espaillat",
          "Hermanas Mirabal",
          "Independencia",
          "Baoruco",
          "Azua",
          "Dajabón",
          "La Altagracia",
          "María Trinidad Sánchez",
          "Santo Domingo",
          "Monte Plata",
          "San Cristóbal",
          "San Pedro de Macorís",
          "Santiago",
          "Duarte",
          "Elías Piña",
          "Hato Mayor",
          "La Vega",
          "Sánchez Ramírez",
          "Samaná",
          "Valverde",
          "Barahona",
          "La Romana",
          "Monseñor Nouel",
          "Monte Cristi",
          "Pedernales",
          "Peravia",
          "Puerto Plata",
          "San José de Ocoa",
          "San Juan",
          "Santiago Rodríguez",
          "Distrito Nacional",
          "El Seibo",
          "Espaillat",
          "Hermanas Mirabal",
          "Independencia",
          "Baoruco",
          "Azua",
          "Dajabón",
          "La Altagracia",
          "María Trinidad Sánchez",
          "Santo Domingo",
          "Monte Plata",
          "San Cristóbal",
          "San Pedro de Macorís",
          "Santiago",
          "Duarte",
          "Elías Piña",
          "Hato Mayor",
          "La Vega",
          "Sánchez Ramírez",
          "Samaná",
          "Valverde",
          "Barahona",
          "La Romana",
          "Monseñor Nouel",
          "Monte Cristi",
          "Pedernales",
          "Peravia",
          "Puerto Plata",
          "San José de Ocoa",
          "San Juan",
          "Santiago Rodríguez",
          "Distrito Nacional",
          "El Seibo",
          "Espaillat",
          "Hermanas Mirabal",
          "Independencia",
          "Baoruco",
          "Azua",
          "Dajabón",
          "La Altagracia",
          "María Trinidad Sánchez",
          "Santo Domingo",
          "Monte Plata",
          "San Cristóbal",
          "San Pedro de Macorís",
          "Santiago",
          "Duarte",
          "Elías Piña",
          "Hato Mayor",
          "La Vega",
          "Sánchez Ramírez",
          "Samaná",
          "Valverde",
          "Barahona",
          "La Romana",
          "Monseñor Nouel",
          "Monte Cristi",
          "Pedernales",
          "Peravia",
          "Puerto Plata",
          "San José de Ocoa",
          "San Juan",
          "Santiago Rodríguez",
          "Distrito Nacional",
          "El Seibo",
          "Espaillat",
          "Hermanas Mirabal",
          "Independencia",
          "Baoruco",
          "Azua",
          "Dajabón",
          "La Altagracia",
          "María Trinidad Sánchez",
          "Santo Domingo",
          "Monte Plata",
          "San Cristóbal",
          "San Pedro de Macorís",
          "Santiago",
          "Duarte",
          "Elías Piña",
          "Hato Mayor",
          "La Vega",
          "Sánchez Ramírez",
          "Samaná",
          "Valverde",
          "Barahona",
          "La Romana",
          "Monseñor Nouel",
          "Monte Cristi",
          "Pedernales",
          "Peravia",
          "Puerto Plata",
          "San José de Ocoa",
          "San Juan",
          "Santiago Rodríguez",
          "Distrito Nacional",
          "El Seibo",
          "Espaillat",
          "Hermanas Mirabal",
          "Independencia",
          "Baoruco",
          "Azua",
          "Dajabón",
          "La Altagracia",
          "María Trinidad Sánchez",
          "Santo Domingo",
          "Monte Plata",
          "San Cristóbal",
          "San Pedro de Macorís",
          "Santiago",
          "Duarte",
          "Elías Piña",
          "Hato Mayor",
          "La Vega",
          "Sánchez Ramírez",
          "Samaná",
          "Valverde",
          "Barahona",
          "La Romana",
          "Monseñor Nouel",
          "Monte Cristi",
          "Pedernales",
          "Peravia",
          "Puerto Plata",
          "San José de Ocoa",
          "San Juan",
          "Santiago Rodríguez",
          "Distrito Nacional",
          "El Seibo",
          "Espaillat",
          "Hermanas Mirabal",
          "Independencia",
          "Baoruco",
          "Azua",
          "Dajabón",
          "La Altagracia",
          "María Trinidad Sánchez",
          "Santo Domingo",
          "Monte Plata",
          "San Cristóbal",
          "San Pedro de Macorís",
          "Santiago",
          "Duarte",
          "Elías Piña",
          "Hato Mayor",
          "La Vega",
          "Sánchez Ramírez",
          "Samaná",
          "Valverde",
          "Barahona",
          "La Romana",
          "Monseñor Nouel",
          "Monte Cristi",
          "Pedernales",
          "Peravia",
          "Puerto Plata",
          "San José de Ocoa",
          "San Juan",
          "Santiago Rodríguez",
          "Distrito Nacional",
          "El Seibo",
          "Espaillat",
          "Hermanas Mirabal",
          "Independencia",
          "Baoruco",
          "Azua",
          "Dajabón",
          "La Altagracia",
          "María Trinidad Sánchez",
          "Santo Domingo",
          "Monte Plata",
          "San Cristóbal",
          "San Pedro de Macorís",
          "Santiago",
          "Duarte",
          "Elías Piña",
          "Hato Mayor",
          "La Vega",
          "Sánchez Ramírez",
          "Samaná",
          "Valverde",
          "Barahona",
          "La Romana",
          "Monseñor Nouel",
          "Monte Cristi",
          "Pedernales",
          "Peravia",
          "Puerto Plata",
          "San José de Ocoa",
          "San Juan",
          "Santiago Rodríguez",
          "Distrito Nacional",
          "El Seibo",
          "Espaillat",
          "Hermanas Mirabal",
          "Independencia",
          "Baoruco",
          "Azua",
          "Dajabón",
          "La Altagracia",
          "María Trinidad Sánchez",
          "Santo Domingo",
          "Monte Plata",
          "San Cristóbal",
          "San Pedro de Macorís",
          "Santiago",
          "Duarte",
          "Elías Piña",
          "Hato Mayor",
          "La Vega",
          "Sánchez Ramírez",
          "Samaná",
          "Valverde",
          "Barahona",
          "La Romana",
          "Monseñor Nouel",
          "Monte Cristi",
          "Pedernales",
          "Peravia",
          "Puerto Plata",
          "San José de Ocoa",
          "San Juan",
          "Santiago Rodríguez",
          "Distrito Nacional",
          "El Seibo",
          "Espaillat",
          "Hermanas Mirabal",
          "Independencia",
          "Baoruco",
          "Azua",
          "Dajabón",
          "La Altagracia",
          "María Trinidad Sánchez",
          "Santo Domingo",
          "Monte Plata",
          "San Cristóbal",
          "San Pedro de Macorís",
          "Santiago",
          "Duarte",
          "Elías Piña",
          "Hato Mayor",
          "La Vega",
          "Sánchez Ramírez",
          "Samaná",
          "Valverde",
          "Barahona",
          "La Romana",
          "Monseñor Nouel",
          "Monte Cristi",
          "Pedernales",
          "Peravia",
          "Puerto Plata",
          "San José de Ocoa",
          "San Juan",
          "Santiago Rodríguez",
          "Distrito Nacional",
          "El Seibo",
          "Espaillat",
          "Hermanas Mirabal",
          "Independencia",
          "Baoruco",
          "Azua",
          "Dajabón",
          "La Altagracia",
          "María Trinidad Sánchez",
          "Santo Domingo",
          "Monte Plata",
          "San Cristóbal",
          "San Pedro de Macorís",
          "Santiago",
          "Duarte",
          "Elías Piña",
          "Hato Mayor",
          "La Vega",
          "Sánchez Ramírez",
          "Samaná",
          "Valverde",
          "Barahona",
          "La Romana",
          "Monseñor Nouel",
          "Monte Cristi",
          "Pedernales",
          "Peravia",
          "Puerto Plata",
          "San José de Ocoa",
          "San Juan",
          "Santiago Rodríguez",
          "Distrito Nacional",
          "El Seibo",
          "Espaillat",
          "Hermanas Mirabal",
          "Independencia",
          "Baoruco",
          "Azua",
          "Dajabón",
          "La Altagracia",
          "María Trinidad Sánchez",
          "Santo Domingo",
          "Monte Plata",
          "San Cristóbal",
          "San Pedro de Macorís",
          "Santiago",
          "Duarte",
          "Elías Piña",
          "Hato Mayor",
          "La Vega",
          "Sánchez Ramírez",
          "Samaná",
          "Valverde",
          "Barahona",
          "La Romana",
          "Monseñor Nouel",
          "Monte Cristi",
          "Pedernales",
          "Peravia",
          "Puerto Plata",
          "San José de Ocoa",
          "San Juan",
          "Santiago Rodríguez",
          "Distrito Nacional",
          "El Seibo",
          "Espaillat",
          "Hermanas Mirabal",
          "Independencia",
          "Baoruco",
          "Azua",
          "Dajabón",
          "La Altagracia",
          "María Trinidad Sánchez",
          "Santo Domingo",
          "Monte Plata",
          "San Cristóbal",
          "San Pedro de Macorís",
          "Santiago",
          "Duarte",
          "Elías Piña",
          "Hato Mayor",
          "La Vega",
          "Sánchez Ramírez",
          "Samaná",
          "Valverde",
          "Barahona",
          "La Romana",
          "Monseñor Nouel",
          "Monte Cristi",
          "Pedernales",
          "Peravia",
          "Puerto Plata",
          "San José de Ocoa",
          "San Juan",
          "Santiago Rodríguez",
          "Distrito Nacional",
          "El Seibo",
          "Espaillat",
          "Hermanas Mirabal",
          "Independencia",
          "Baoruco",
          "Azua",
          "Dajabón",
          "La Altagracia",
          "María Trinidad Sánchez",
          "Santo Domingo",
          "Monte Plata",
          "San Cristóbal",
          "San Pedro de Macorís",
          "Santiago",
          "Duarte",
          "Elías Piña",
          "Hato Mayor",
          "La Vega",
          "Sánchez Ramírez",
          "Samaná",
          "Valverde",
          "Barahona",
          "La Romana",
          "Monseñor Nouel",
          "Monte Cristi",
          "Pedernales",
          "Peravia",
          "Puerto Plata",
          "San José de Ocoa",
          "San Juan",
          "Santiago Rodríguez",
          "Distrito Nacional",
          "El Seibo",
          "Espaillat",
          "Hermanas Mirabal",
          "Independencia",
          "Baoruco",
          "Azua",
          "Dajabón",
          "La Altagracia",
          "María Trinidad Sánchez",
          "Santo Domingo",
          "Monte Plata",
          "San Cristóbal",
          "San Pedro de Macorís",
          "Santiago",
          "Duarte",
          "Elías Piña",
          "Hato Mayor",
          "La Vega",
          "Sánchez Ramírez",
          "Samaná",
          "Valverde",
          "Barahona",
          "La Romana",
          "Monseñor Nouel",
          "Monte Cristi",
          "Pedernales",
          "Peravia",
          "Puerto Plata",
          "San José de Ocoa",
          "San Juan",
          "Santiago Rodríguez",
          "Distrito Nacional",
          "El Seibo",
          "Espaillat",
          "Hermanas Mirabal",
          "Independencia",
          "Baoruco",
          "Azua",
          "Dajabón",
          "La Altagracia",
          "María Trinidad Sánchez",
          "Santo Domingo",
          "Monte Plata",
          "San Cristóbal",
          "San Pedro de Macorís",
          "Santiago",
          "Duarte",
          "Elías Piña",
          "Hato Mayor",
          "La Vega",
          "Sánchez Ramírez",
          "Samaná",
          "Valverde",
          "Barahona",
          "La Romana",
          "Monseñor Nouel",
          "Monte Cristi",
          "Pedernales",
          "Peravia",
          "Puerto Plata",
          "San José de Ocoa",
          "San Juan",
          "Santiago Rodríguez",
          "Distrito Nacional",
          "El Seibo",
          "Espaillat",
          "Hermanas Mirabal",
          "Independencia",
          "Baoruco",
          "Azua",
          "Dajabón",
          "La Altagracia",
          "María Trinidad Sánchez",
          "Santo Domingo",
          "Monte Plata",
          "San Cristóbal",
          "San Pedro de Macorís",
          "Santiago",
          "Duarte",
          "Elías Piña",
          "Hato Mayor",
          "La Vega",
          "Sánchez Ramírez",
          "Samaná",
          "Valverde",
          "Barahona",
          "La Romana",
          "Monseñor Nouel",
          "Monte Cristi",
          "Pedernales",
          "Peravia",
          "Puerto Plata",
          "San José de Ocoa",
          "San Juan",
          "Santiago Rodríguez",
          "Distrito Nacional",
          "El Seibo",
          "Espaillat",
          "Hermanas Mirabal",
          "Independencia",
          "Baoruco",
          "Azua",
          "Dajabón",
          "La Altagracia",
          "María Trinidad Sánchez",
          "Santo Domingo",
          "Monte Plata",
          "San Cristóbal",
          "San Pedro de Macorís",
          "Santiago",
          "Duarte",
          "Elías Piña",
          "Hato Mayor",
          "La Vega",
          "Sánchez Ramírez",
          "Samaná",
          "Valverde",
          "Barahona",
          "La Romana",
          "Monseñor Nouel",
          "Monte Cristi",
          "Pedernales",
          "Peravia",
          "Puerto Plata",
          "San José de Ocoa",
          "San Juan",
          "Santiago Rodríguez",
          "Distrito Nacional",
          "El Seibo",
          "Espaillat",
          "Hermanas Mirabal",
          "Independencia",
          "Baoruco",
          "Azua",
          "Dajabón",
          "La Altagracia",
          "María Trinidad Sánchez",
          "Santo Domingo",
          "Monte Plata",
          "San Cristóbal",
          "San Pedro de Macorís"
         ],
         "x0": " ",
         "xaxis": "x",
         "y": [
          4914.787616048607,
          748.8097733703314,
          6.1979265213012695,
          93.87557759144728,
          943.3640794085522,
          182.8836908340454,
          41.148046814694126,
          169.37127227596207,
          437.846138808774,
          1083.3814473348505,
          537.4915245771408,
          114.090678691864,
          20.45323600769043,
          611.129144987873,
          1184.3922418954326,
          16.55657207965851,
          325.04106545448303,
          32.55313491821289,
          9472.827480313355,
          52.04133713245392,
          345.5830852424397,
          45.803698897361755,
          33.18100559711456,
          85.16417703581791,
          248.6026222495472,
          38.25915500556721,
          1300.2748782985352,
          142.62997160051384,
          14124.393411501716,
          144.92231810092926,
          2722.3909613076376,
          1518.3222364921198,
          7871.731601611305,
          1210.7342359856063,
          24.653234481811523,
          144.32342516347472,
          1234.194424178086,
          185.10973346233368,
          49.67033499549417,
          149.10436206985923,
          692.4124734541949,
          1303.3657368977863,
          458.1981782913208,
          129.99838757514954,
          45.551149318264976,
          537.1828030576893,
          1538.6327482050542,
          40.42842721939087,
          306.11213409900665,
          29.84186375141144,
          9669.01991182589,
          176.38815867900848,
          338.6187406698863,
          54.49060094356537,
          74.78657510841595,
          120.39513024348838,
          382.899060921108,
          43.05105042410832,
          1401.673499725379,
          199.1946641188042,
          13329.445364947882,
          131.24588561058044,
          2410.3329263257046,
          1574.7223222657744,
          9371.019805821716,
          1552.0070817003063,
          1.1119062900543213,
          316.4651681455911,
          1915.8509066866893,
          143.23218297958374,
          75.02400244404288,
          219.04389849877825,
          878.4145104426963,
          1716.9494939813424,
          662.67427277565,
          171.9187432527542,
          51.945917884976254,
          761.423369643735,
          1861.512259552058,
          116.06245183944702,
          464.73097574710846,
          67.4668037891388,
          9467.757783083352,
          268.1852719783783,
          739.8513557985716,
          118.59017276763916,
          130.34711968898773,
          229.85097307691387,
          759.6718208373761,
          69.27332855907142,
          2072.2095998385375,
          378.8667016062082,
          12535.517585942796,
          331.31387507915497,
          2312.2277832082673,
          1486.2428879059994,
          7292.187471735711,
          844.600133895874,
          16.016334772109985,
          157.69871241251627,
          1207.7994694532133,
          142.99576556682587,
          37.542734040933496,
          363.73349498206494,
          459.21502752350824,
          1380.9234750972075,
          581.5395979881287,
          171.75045156478882,
          30.10571196079254,
          675.9865482269549,
          1357.907274939967,
          44.713855266571045,
          443.60933899879456,
          101.00835704803468,
          8535.577695579623,
          139.40732836723328,
          610.2920901452794,
          63.71822500228882,
          127.63572978973389,
          203.2505897344327,
          548.0518555136288,
          64.01832367392147,
          1411.0586132217857,
          168.68478022416434,
          13761.954626855666,
          188.5353437662125,
          2225.333640570266,
          1369.9785409389756,
          4398.141104688364,
          960.1622921228408,
          16.571326971054077,
          261.77311891013505,
          853.8853578184164,
          145.30223274230957,
          77.71866117879456,
          233.3848751783371,
          319.2228738223805,
          1229.7805442828758,
          485.5357559919358,
          163.7012153863907,
          55.31745868897905,
          340.21919006646846,
          976.0860224892112,
          84.99196553230286,
          338.13986003398895,
          76.97827756404877,
          6926.780874595923,
          258.2087780237198,
          539.3409227768581,
          95.19509758294797,
          106.6690798997879,
          72.35132481537613,
          366.8239999785143,
          87.42315585987241,
          1777.8101106592253,
          120.16749536710626,
          8416.769204917608,
          152.57161724567413,
          1711.3828455144285,
          1097.998905384307,
          4505.0690827248145,
          1229.3052723407743,
          13.507462859153748,
          179.09867101323374,
          713.5562357388291,
          62.673962235450745,
          83.43442704630834,
          155.3453381795509,
          359.0379775986952,
          908.7572839694864,
          409.1654763221741,
          99.70754301548004,
          21.68891273059097,
          338.7520315647125,
          887.2481474469688,
          54.76779389381409,
          239.6706166267395,
          64.11525440216064,
          8045.571352085881,
          85.83134329319,
          303.5529987643747,
          36.61117398738861,
          107.34100139141084,
          104.33237567882912,
          181.69985672305612,
          46.156007892477746,
          1672.664698330094,
          106.52966892158284,
          11536.937685124549,
          81.05576205253601,
          1719.5250076985826,
          1287.0210295452794,
          7352.749153250806,
          1881.721592783928,
          1.1119062900543213,
          200.00388526168524,
          834.3753020422131,
          95.37496769428252,
          94.21922897077076,
          220.3574231330086,
          449.30753805216614,
          1122.6712249676384,
          509.9448593854904,
          132.14627766609192,
          30.361214376430887,
          375.73803593317666,
          1561.8922376964606,
          44.19028067588806,
          322.4422413110733,
          60.06812274456024,
          9132.333119094605,
          131.20223701000214,
          439.3933288536819,
          50.27576434612274,
          60.092902064323425,
          93.4811295598161,
          267.0258253144283,
          57.865646276287,
          2285.607633606125,
          114.63834097759396,
          16337.024053466554,
          94.54603338241576,
          2185.815217938143,
          1201.8143646516055,
          6395.987751702233,
          1324.228068113327,
          3.233190655708313,
          139.8601265187357,
          532.5163649713292,
          38.02190363407135,
          93.11795393812888,
          173.4852284749349,
          247.21610315126532,
          1029.9601691563926,
          377.1223015785218,
          93.39344120025636,
          34.566536679922365,
          295.69564825553516,
          1237.7612122512332,
          74.56354022026062,
          271.8864817619324,
          67.43500661849976,
          8672.25150874923,
          109.00834131240843,
          303.24484449367895,
          108.08794796466827,
          48.38316512107849,
          88.1163237693263,
          209.69187092781067,
          17.21232982242809,
          2241.927531779981,
          62.97242977759418,
          14979.677935236108,
          46.72648727893829,
          2032.8771802682504,
          1083.4468700511784,
          5822.8407231447745,
          1139.9333029985428,
          28.97708022594452,
          105.0412623209112,
          566.0491168695337,
          41.092374324798584,
          57.42965713949764,
          133.9014717653686,
          218.5485197997561,
          980.83498330537,
          262.8837686777115,
          98.57213246822356,
          46.35389654542886,
          296.89932608744675,
          990.3580670375452,
          78.0089899301529,
          158.97065687179563,
          51.08001410961151,
          8264.694910418752,
          91.27684116363524,
          369.1733893506667,
          79.5447689294815,
          59.0455858707428,
          107.95997489340164,
          82.2221747636795,
          31.089982687258253,
          2456.4307873810035,
          79.59875160525829,
          14239.876829468038,
          41.85864078998566,
          1535.9728283657746,
          1142.8659048875172,
          5818.013819586062,
          1169.0655803203583,
          21.480039477348328,
          215.6499864984961,
          827.2482439092562,
          109.16663098335266,
          86.12056509045993,
          281.60598266124725,
          267.56545552552916,
          990.144079710923,
          422.851425558913,
          110.0050482749939,
          150.2836239006005,
          395.7793573384192,
          820.3571433978923,
          86.9249496459961,
          300.2800497242049,
          112.198033452034,
          7833.235951612977,
          123.54103887081146,
          410.5699151314941,
          40.07207834720611,
          79.33118629455566,
          126.06382287390092,
          154.3238537685544,
          45.85595190805547,
          2582.028424517781,
          112.54306110167036,
          12128.432095849284,
          54.79113733768463,
          1245.0068170664356,
          919.4085458101011,
          4437.6595916093565,
          752.9195436954499,
          17.37169897556305,
          156.73045992851257,
          499.4814583525938,
          115.8674201965332,
          81.16772272353079,
          195.2481484969457,
          232.6268408906226,
          916.342778613988,
          139.7413717508316,
          64.70622134208679,
          27.123178061784483,
          214.9388899200103,
          645.9618162197226,
          32.07790195941925,
          565.4074736782148,
          41.04398763179779,
          6360.017644935497,
          65.77078115940094,
          233.8729916451024,
          25.286099553108215,
          98.30613577365877,
          73.09906215667725,
          121.58565070909611,
          29.666809728098855,
          1980.6463671062504,
          112.3501399082296,
          10752.96275085234,
          100.94408392906188,
          1504.914564444972,
          483.3891605264999,
          8694.508502282815,
          1601.9228835096546,
          46.71279537677765,
          322.40668974857704,
          1632.8678948949364,
          314.7220109948924,
          363.9235845893037,
          502.2945204103694,
          549.6113573513778,
          1203.035842926362,
          1133.477810247739,
          342.1595414876938,
          80.75891646918129,
          557.2696908048555,
          1816.679300274101,
          193.36457097530365,
          1136.0557645465817,
          172.4493132385553,
          10951.316136111927,
          168.25998771190643,
          686.1733466975829,
          120.9434300104777,
          100.93441438674928,
          162.1518572026608,
          413.40952247965566,
          124.27682998601128,
          2703.6754385298373,
          487.72359466739726,
          15874.612287210011,
          499.42279493808746,
          1961.9184024717292,
          1126.571849178333,
          11474.304111494735,
          2539.164220039985,
          59.00306834192837,
          205.18421907378175,
          1899.327834585601,
          908.495044523127,
          416.4850544770559,
          519.8752194170858,
          616.1022657039119,
          2353.487760057169,
          1576.173068363526,
          434.8202975988388,
          60.074894080910035,
          1234.451719318184,
          2372.66829988676,
          148.32224881649017,
          1060.773781843279,
          157.95352955191743,
          12011.57570892876,
          169.8888303041458,
          1091.7867456314611,
          187.40231916390212,
          165.52824115753174,
          174.06211539717282,
          654.7923945857028,
          108.60962408804426,
          4368.686548758488,
          566.2104417132397,
          23853.785734277142,
          282.7171834838157,
          3847.406071986872,
          2521.527863357114,
          14825.209892216852,
          2527.9895338927995,
          321.5946858882904,
          667.0866908232371,
          4126.160036806499,
          2230.2371468324286,
          683.2751966967302,
          1412.9338365531437,
          1903.2823818150691,
          4680.040440380806,
          2080.916005516052,
          1095.2860452460309,
          334.2523550875047,
          2007.5408285164365,
          3770.6201185427462,
          196.67988847704495,
          3213.698151511772,
          387.7657186302485,
          14425.514743429072,
          571.0380448102951,
          2165.954047254487,
          806.6063525396235,
          279.406741919237,
          543.6140472888947,
          1763.1588228557623,
          280.6506237404019,
          5988.149469654232,
          593.7839074990329,
          29915.58393961355,
          618.9797825252308,
          6308.221544396176,
          4854.080919007227,
          16884.054370314934,
          2893.2651023570234,
          375.9686093143388,
          733.733763217926,
          4578.5133873415925,
          1905.960321108968,
          683.3215503126968,
          1734.5203914076676,
          2178.9525871753694,
          4660.02613142425,
          1705.793239199414,
          1079.3498678422443,
          353.34660193078656,
          2346.5815697684006,
          4047.638120178616,
          248.2646853619931,
          3551.2304636497124,
          405.3026511884203,
          14704.60510267978,
          613.9126348495483,
          2582.6754489491964,
          932.1745186922597,
          580.8189321873235,
          809.271666840946,
          2098.8453886579064,
          385.5682813270419,
          6470.527729874968,
          655.687051025559,
          30914.80198531712,
          549.2199683189392,
          6644.10060452106,
          5198.749764104918,
          18188.096526829864,
          3578.580694116331,
          376.3150273781197,
          764.3530515703501,
          5882.708870426346,
          2126.917222187566,
          700.514797356082,
          2176.363518725657,
          1992.8778681942056,
          4892.558732860229,
          1830.508592018894,
          1176.0110445859386,
          322.9238239293005,
          2979.2919400855612,
          4599.199346591911,
          226.2356730334899,
          3465.971456694603,
          455.4147066798865,
          14605.052999954598,
          701.1971076783012,
          2962.1881437180086,
          1109.9860576021906,
          617.6209058298784,
          867.3461514187795,
          2009.304393268099,
          473.0425358692805,
          7123.798377393741,
          739.1145289397707,
          32003.220185803904,
          567.0452316732967,
          6757.03128375072,
          5902.097952411221,
          17359.996984398596,
          3495.004085100399,
          509.5499554891212,
          734.0116008660373,
          5827.504024786108,
          2005.248913463891,
          689.0715269472084,
          2281.039256751771,
          2012.591063411096,
          4871.3738760088,
          2360.0865109518463,
          1326.849238029181,
          297.47836034110946,
          2632.0486692218224,
          5088.558972296995,
          204.91060466111875,
          3884.754342973466,
          491.4859837466595,
          14715.468590224024,
          659.2214897057589,
          2862.800954194163,
          1083.3859824203978,
          590.4692260185877,
          934.7698961720748,
          2092.548019324565,
          520.9914379054426,
          7465.805056646758,
          831.6318168102526,
          32361.63382166367,
          626.7526250156702,
          7196.355611900721,
          5731.586381828552,
          19974.094244527812,
          4361.536840646874,
          567.0410651113473,
          815.283720492849,
          7944.898978943918,
          2437.902805889354,
          845.2835306967005,
          3043.630685248095,
          1938.581937873597,
          5034.957056688795,
          3086.457578885789,
          2272.943221859371,
          366.1048743243311,
          3179.8983200737075,
          5470.429370492113,
          258.0317150172065,
          4134.829854138225,
          653.5812049524457,
          15848.004911629358,
          640.2142996862823,
          3512.423172842287,
          1447.189268188383,
          696.027005314827,
          1016.304430590424,
          2243.7679156677395,
          596.1964137839336,
          8445.783400254157,
          1186.0166846289355,
          33875.82909496486,
          915.0476305395948,
          7941.095745637369,
          5527.297481408775,
          22530.6194249644,
          4677.9349893065055,
          600.4720378412919,
          918.7235666485392,
          8906.527449070707,
          2672.599363984781,
          918.2087824765372,
          3443.5918943606175,
          1997.5091712965689,
          5580.214256602175,
          3101.2317262817837,
          2276.119962609048,
          400.641213128146,
          3284.0557504911044,
          6189.461117607005,
          256.0199987888336,
          4104.339487557785,
          752.3174922653272,
          17359.788078131394,
          690.9226683116426,
          3787.488747935669,
          1573.444235289331,
          669.7300004959106,
          980.937021782819,
          2498.8570492398503,
          697.9192521216823,
          10715.477230300155,
          1260.5085892649258,
          37465.18408874859,
          1076.0853320313436,
          8498.877442440798,
          6037.263586175674,
          24544.153879073085,
          5447.073004632838,
          571.4859576416951,
          923.8988609164368,
          10600.778297575784,
          2822.4133602492952,
          1093.1330383043664,
          3724.0311351102937,
          2034.498567040294,
          5449.16855857045,
          3507.8366840577596,
          2470.4488669788134,
          366.1435115599165,
          3212.74497694081,
          6861.444675313724,
          306.1050010919571,
          3851.1193913127863,
          888.833472013941,
          19916.582338725824,
          749.7075094858805,
          4433.332569549129,
          1872.0637600851992,
          605.1137256743862,
          965.8581170820722,
          2708.177041449266,
          1004.1471163548676,
          12279.985725817962,
          1485.021060634127,
          43652.97692978335,
          1194.6959999696885,
          9758.001985720097,
          6131.781593964615,
          24515.551805464893,
          6202.918019633671,
          559.3645469745001,
          974.1656491415176,
          11172.471720752528,
          2622.6421724469055,
          1349.940471651507,
          3801.546061666339,
          2206.431938313036,
          5432.017567744909,
          3717.1007596146824,
          2515.906602655672,
          398.291886601261,
          5861.835150459701,
          6435.951002627728,
          345.12290011246995,
          4118.483927556113,
          1193.236408758631,
          18694.089750936928,
          844.795644905988,
          4663.007878776159,
          1929.826570885789,
          709.422376201667,
          1075.432586759212,
          3647.2191091990935,
          1023.2980391871696,
          11367.79350201803,
          1633.5391173138337,
          44685.500339739454,
          1386.20276538157,
          11134.101622850756,
          6665.09667453158,
          27663.932439737695,
          6959.640562035056,
          580.6612330511505,
          1135.2792385657629,
          12308.073064086951,
          3149.557335417878,
          1581.517238574402,
          4374.450995036201,
          3251.9091567951095,
          5954.250913029089,
          4511.3710683350455,
          3517.0879276803894,
          481.7247411938274,
          6936.535349128762,
          8285.819298968128,
          434.054157275312,
          4658.261610459346,
          1402.5359574285208,
          19039.57376176984,
          1077.5490389080608,
          5981.245993943774,
          2324.6810885864147,
          971.9297070475186,
          1546.1636816707312,
          4610.565955968465,
          1241.040053248873,
          13368.349688964732,
          2183.131430675469,
          49227.395245537555,
          1891.0309864263909,
          12540.30603560046,
          8076.577784940774,
          29958.110855025872,
          7963.276175735513,
          629.807076068953,
          1232.3510417251027,
          12981.290448404292,
          3761.113265085688,
          1972.5630344993936,
          4940.6974625755765,
          3831.703352367177,
          6648.247995633237,
          5676.427469184352,
          3956.3975315430584,
          544.5511159354566,
          7397.230766461411,
          8853.581607571768,
          544.4601171647802,
          4700.595419865964,
          1766.8344530956415,
          21262.009801344782,
          1169.9856674203684,
          7089.675385455523,
          2701.3294645066353,
          936.2838270444496,
          1914.2283383107656,
          4915.227795896811,
          1513.1161154672209,
          15271.41275349084,
          3011.300878212499,
          53803.164493002616,
          2149.284269460042,
          13263.71498482508,
          9084.035366102762
         ],
         "y0": " ",
         "yaxis": "y"
        }
       ],
       "layout": {
        "autosize": true,
        "boxmode": "group",
        "legend": {
         "tracegroupgap": 0
        },
        "margin": {
         "t": 60
        },
        "template": {
         "data": {
          "bar": [
           {
            "error_x": {
             "color": "#2a3f5f"
            },
            "error_y": {
             "color": "#2a3f5f"
            },
            "marker": {
             "line": {
              "color": "#E5ECF6",
              "width": 0.5
             },
             "pattern": {
              "fillmode": "overlay",
              "size": 10,
              "solidity": 0.2
             }
            },
            "type": "bar"
           }
          ],
          "barpolar": [
           {
            "marker": {
             "line": {
              "color": "#E5ECF6",
              "width": 0.5
             },
             "pattern": {
              "fillmode": "overlay",
              "size": 10,
              "solidity": 0.2
             }
            },
            "type": "barpolar"
           }
          ],
          "carpet": [
           {
            "aaxis": {
             "endlinecolor": "#2a3f5f",
             "gridcolor": "white",
             "linecolor": "white",
             "minorgridcolor": "white",
             "startlinecolor": "#2a3f5f"
            },
            "baxis": {
             "endlinecolor": "#2a3f5f",
             "gridcolor": "white",
             "linecolor": "white",
             "minorgridcolor": "white",
             "startlinecolor": "#2a3f5f"
            },
            "type": "carpet"
           }
          ],
          "choropleth": [
           {
            "colorbar": {
             "outlinewidth": 0,
             "ticks": ""
            },
            "type": "choropleth"
           }
          ],
          "contour": [
           {
            "colorbar": {
             "outlinewidth": 0,
             "ticks": ""
            },
            "colorscale": [
             [
              0,
              "#0d0887"
             ],
             [
              0.1111111111111111,
              "#46039f"
             ],
             [
              0.2222222222222222,
              "#7201a8"
             ],
             [
              0.3333333333333333,
              "#9c179e"
             ],
             [
              0.4444444444444444,
              "#bd3786"
             ],
             [
              0.5555555555555556,
              "#d8576b"
             ],
             [
              0.6666666666666666,
              "#ed7953"
             ],
             [
              0.7777777777777778,
              "#fb9f3a"
             ],
             [
              0.8888888888888888,
              "#fdca26"
             ],
             [
              1,
              "#f0f921"
             ]
            ],
            "type": "contour"
           }
          ],
          "contourcarpet": [
           {
            "colorbar": {
             "outlinewidth": 0,
             "ticks": ""
            },
            "type": "contourcarpet"
           }
          ],
          "heatmap": [
           {
            "colorbar": {
             "outlinewidth": 0,
             "ticks": ""
            },
            "colorscale": [
             [
              0,
              "#0d0887"
             ],
             [
              0.1111111111111111,
              "#46039f"
             ],
             [
              0.2222222222222222,
              "#7201a8"
             ],
             [
              0.3333333333333333,
              "#9c179e"
             ],
             [
              0.4444444444444444,
              "#bd3786"
             ],
             [
              0.5555555555555556,
              "#d8576b"
             ],
             [
              0.6666666666666666,
              "#ed7953"
             ],
             [
              0.7777777777777778,
              "#fb9f3a"
             ],
             [
              0.8888888888888888,
              "#fdca26"
             ],
             [
              1,
              "#f0f921"
             ]
            ],
            "type": "heatmap"
           }
          ],
          "heatmapgl": [
           {
            "colorbar": {
             "outlinewidth": 0,
             "ticks": ""
            },
            "colorscale": [
             [
              0,
              "#0d0887"
             ],
             [
              0.1111111111111111,
              "#46039f"
             ],
             [
              0.2222222222222222,
              "#7201a8"
             ],
             [
              0.3333333333333333,
              "#9c179e"
             ],
             [
              0.4444444444444444,
              "#bd3786"
             ],
             [
              0.5555555555555556,
              "#d8576b"
             ],
             [
              0.6666666666666666,
              "#ed7953"
             ],
             [
              0.7777777777777778,
              "#fb9f3a"
             ],
             [
              0.8888888888888888,
              "#fdca26"
             ],
             [
              1,
              "#f0f921"
             ]
            ],
            "type": "heatmapgl"
           }
          ],
          "histogram": [
           {
            "marker": {
             "pattern": {
              "fillmode": "overlay",
              "size": 10,
              "solidity": 0.2
             }
            },
            "type": "histogram"
           }
          ],
          "histogram2d": [
           {
            "colorbar": {
             "outlinewidth": 0,
             "ticks": ""
            },
            "colorscale": [
             [
              0,
              "#0d0887"
             ],
             [
              0.1111111111111111,
              "#46039f"
             ],
             [
              0.2222222222222222,
              "#7201a8"
             ],
             [
              0.3333333333333333,
              "#9c179e"
             ],
             [
              0.4444444444444444,
              "#bd3786"
             ],
             [
              0.5555555555555556,
              "#d8576b"
             ],
             [
              0.6666666666666666,
              "#ed7953"
             ],
             [
              0.7777777777777778,
              "#fb9f3a"
             ],
             [
              0.8888888888888888,
              "#fdca26"
             ],
             [
              1,
              "#f0f921"
             ]
            ],
            "type": "histogram2d"
           }
          ],
          "histogram2dcontour": [
           {
            "colorbar": {
             "outlinewidth": 0,
             "ticks": ""
            },
            "colorscale": [
             [
              0,
              "#0d0887"
             ],
             [
              0.1111111111111111,
              "#46039f"
             ],
             [
              0.2222222222222222,
              "#7201a8"
             ],
             [
              0.3333333333333333,
              "#9c179e"
             ],
             [
              0.4444444444444444,
              "#bd3786"
             ],
             [
              0.5555555555555556,
              "#d8576b"
             ],
             [
              0.6666666666666666,
              "#ed7953"
             ],
             [
              0.7777777777777778,
              "#fb9f3a"
             ],
             [
              0.8888888888888888,
              "#fdca26"
             ],
             [
              1,
              "#f0f921"
             ]
            ],
            "type": "histogram2dcontour"
           }
          ],
          "mesh3d": [
           {
            "colorbar": {
             "outlinewidth": 0,
             "ticks": ""
            },
            "type": "mesh3d"
           }
          ],
          "parcoords": [
           {
            "line": {
             "colorbar": {
              "outlinewidth": 0,
              "ticks": ""
             }
            },
            "type": "parcoords"
           }
          ],
          "pie": [
           {
            "automargin": true,
            "type": "pie"
           }
          ],
          "scatter": [
           {
            "fillpattern": {
             "fillmode": "overlay",
             "size": 10,
             "solidity": 0.2
            },
            "type": "scatter"
           }
          ],
          "scatter3d": [
           {
            "line": {
             "colorbar": {
              "outlinewidth": 0,
              "ticks": ""
             }
            },
            "marker": {
             "colorbar": {
              "outlinewidth": 0,
              "ticks": ""
             }
            },
            "type": "scatter3d"
           }
          ],
          "scattercarpet": [
           {
            "marker": {
             "colorbar": {
              "outlinewidth": 0,
              "ticks": ""
             }
            },
            "type": "scattercarpet"
           }
          ],
          "scattergeo": [
           {
            "marker": {
             "colorbar": {
              "outlinewidth": 0,
              "ticks": ""
             }
            },
            "type": "scattergeo"
           }
          ],
          "scattergl": [
           {
            "marker": {
             "colorbar": {
              "outlinewidth": 0,
              "ticks": ""
             }
            },
            "type": "scattergl"
           }
          ],
          "scattermapbox": [
           {
            "marker": {
             "colorbar": {
              "outlinewidth": 0,
              "ticks": ""
             }
            },
            "type": "scattermapbox"
           }
          ],
          "scatterpolar": [
           {
            "marker": {
             "colorbar": {
              "outlinewidth": 0,
              "ticks": ""
             }
            },
            "type": "scatterpolar"
           }
          ],
          "scatterpolargl": [
           {
            "marker": {
             "colorbar": {
              "outlinewidth": 0,
              "ticks": ""
             }
            },
            "type": "scatterpolargl"
           }
          ],
          "scatterternary": [
           {
            "marker": {
             "colorbar": {
              "outlinewidth": 0,
              "ticks": ""
             }
            },
            "type": "scatterternary"
           }
          ],
          "surface": [
           {
            "colorbar": {
             "outlinewidth": 0,
             "ticks": ""
            },
            "colorscale": [
             [
              0,
              "#0d0887"
             ],
             [
              0.1111111111111111,
              "#46039f"
             ],
             [
              0.2222222222222222,
              "#7201a8"
             ],
             [
              0.3333333333333333,
              "#9c179e"
             ],
             [
              0.4444444444444444,
              "#bd3786"
             ],
             [
              0.5555555555555556,
              "#d8576b"
             ],
             [
              0.6666666666666666,
              "#ed7953"
             ],
             [
              0.7777777777777778,
              "#fb9f3a"
             ],
             [
              0.8888888888888888,
              "#fdca26"
             ],
             [
              1,
              "#f0f921"
             ]
            ],
            "type": "surface"
           }
          ],
          "table": [
           {
            "cells": {
             "fill": {
              "color": "#EBF0F8"
             },
             "line": {
              "color": "white"
             }
            },
            "header": {
             "fill": {
              "color": "#C8D4E3"
             },
             "line": {
              "color": "white"
             }
            },
            "type": "table"
           }
          ]
         },
         "layout": {
          "annotationdefaults": {
           "arrowcolor": "#2a3f5f",
           "arrowhead": 0,
           "arrowwidth": 1
          },
          "autotypenumbers": "strict",
          "coloraxis": {
           "colorbar": {
            "outlinewidth": 0,
            "ticks": ""
           }
          },
          "colorscale": {
           "diverging": [
            [
             0,
             "#8e0152"
            ],
            [
             0.1,
             "#c51b7d"
            ],
            [
             0.2,
             "#de77ae"
            ],
            [
             0.3,
             "#f1b6da"
            ],
            [
             0.4,
             "#fde0ef"
            ],
            [
             0.5,
             "#f7f7f7"
            ],
            [
             0.6,
             "#e6f5d0"
            ],
            [
             0.7,
             "#b8e186"
            ],
            [
             0.8,
             "#7fbc41"
            ],
            [
             0.9,
             "#4d9221"
            ],
            [
             1,
             "#276419"
            ]
           ],
           "sequential": [
            [
             0,
             "#0d0887"
            ],
            [
             0.1111111111111111,
             "#46039f"
            ],
            [
             0.2222222222222222,
             "#7201a8"
            ],
            [
             0.3333333333333333,
             "#9c179e"
            ],
            [
             0.4444444444444444,
             "#bd3786"
            ],
            [
             0.5555555555555556,
             "#d8576b"
            ],
            [
             0.6666666666666666,
             "#ed7953"
            ],
            [
             0.7777777777777778,
             "#fb9f3a"
            ],
            [
             0.8888888888888888,
             "#fdca26"
            ],
            [
             1,
             "#f0f921"
            ]
           ],
           "sequentialminus": [
            [
             0,
             "#0d0887"
            ],
            [
             0.1111111111111111,
             "#46039f"
            ],
            [
             0.2222222222222222,
             "#7201a8"
            ],
            [
             0.3333333333333333,
             "#9c179e"
            ],
            [
             0.4444444444444444,
             "#bd3786"
            ],
            [
             0.5555555555555556,
             "#d8576b"
            ],
            [
             0.6666666666666666,
             "#ed7953"
            ],
            [
             0.7777777777777778,
             "#fb9f3a"
            ],
            [
             0.8888888888888888,
             "#fdca26"
            ],
            [
             1,
             "#f0f921"
            ]
           ]
          },
          "colorway": [
           "#636efa",
           "#EF553B",
           "#00cc96",
           "#ab63fa",
           "#FFA15A",
           "#19d3f3",
           "#FF6692",
           "#B6E880",
           "#FF97FF",
           "#FECB52"
          ],
          "font": {
           "color": "#2a3f5f"
          },
          "geo": {
           "bgcolor": "white",
           "lakecolor": "white",
           "landcolor": "#E5ECF6",
           "showlakes": true,
           "showland": true,
           "subunitcolor": "white"
          },
          "hoverlabel": {
           "align": "left"
          },
          "hovermode": "closest",
          "mapbox": {
           "style": "light"
          },
          "paper_bgcolor": "white",
          "plot_bgcolor": "#E5ECF6",
          "polar": {
           "angularaxis": {
            "gridcolor": "white",
            "linecolor": "white",
            "ticks": ""
           },
           "bgcolor": "#E5ECF6",
           "radialaxis": {
            "gridcolor": "white",
            "linecolor": "white",
            "ticks": ""
           }
          },
          "scene": {
           "xaxis": {
            "backgroundcolor": "#E5ECF6",
            "gridcolor": "white",
            "gridwidth": 2,
            "linecolor": "white",
            "showbackground": true,
            "ticks": "",
            "zerolinecolor": "white"
           },
           "yaxis": {
            "backgroundcolor": "#E5ECF6",
            "gridcolor": "white",
            "gridwidth": 2,
            "linecolor": "white",
            "showbackground": true,
            "ticks": "",
            "zerolinecolor": "white"
           },
           "zaxis": {
            "backgroundcolor": "#E5ECF6",
            "gridcolor": "white",
            "gridwidth": 2,
            "linecolor": "white",
            "showbackground": true,
            "ticks": "",
            "zerolinecolor": "white"
           }
          },
          "shapedefaults": {
           "line": {
            "color": "#2a3f5f"
           }
          },
          "ternary": {
           "aaxis": {
            "gridcolor": "white",
            "linecolor": "white",
            "ticks": ""
           },
           "baxis": {
            "gridcolor": "white",
            "linecolor": "white",
            "ticks": ""
           },
           "bgcolor": "#E5ECF6",
           "caxis": {
            "gridcolor": "white",
            "linecolor": "white",
            "ticks": ""
           }
          },
          "title": {
           "x": 0.05
          },
          "xaxis": {
           "automargin": true,
           "gridcolor": "white",
           "linecolor": "white",
           "ticks": "",
           "title": {
            "standoff": 15
           },
           "zerolinecolor": "white",
           "zerolinewidth": 2
          },
          "yaxis": {
           "automargin": true,
           "gridcolor": "white",
           "linecolor": "white",
           "ticks": "",
           "title": {
            "standoff": 15
           },
           "zerolinecolor": "white",
           "zerolinewidth": 2
          }
         }
        },
        "xaxis": {
         "anchor": "y",
         "autorange": true,
         "domain": [
          0,
          1
         ],
         "range": [
          -0.5,
          31.5
         ],
         "title": {
          "text": "shapeName"
         },
         "type": "category"
        },
        "yaxis": {
         "anchor": "x",
         "autorange": true,
         "domain": [
          0,
          1
         ],
         "range": [
          -2987.8910151939767,
          56792.16741448665
         ],
         "title": {
          "text": "total_sol"
         },
         "type": "linear"
        }
       }
      },
      "image/png": "[encoded data removed]",
      "text/html": [
       "<div>                            <div id=\"7df4089e-1a02-4faa-8734-dd2e8cdcee70\" class=\"plotly-graph-div\" style=\"height:525px; width:100%;\"></div>            <script type=\"text/javascript\">                require([\"plotly\"], function(Plotly) {                    window.PLOTLYENV=window.PLOTLYENV || {};                                    if (document.getElementById(\"7df4089e-1a02-4faa-8734-dd2e8cdcee70\")) {                    Plotly.newPlot(                        \"7df4089e-1a02-4faa-8734-dd2e8cdcee70\",                        [{\"alignmentgroup\":\"True\",\"hovertemplate\":\"shapeName=%{x}\\u003cbr\\u003etotal_sol=%{y}\\u003cextra\\u003e\\u003c\\u002fextra\\u003e\",\"legendgroup\":\"\",\"marker\":{\"color\":\"#636efa\"},\"name\":\"\",\"notched\":false,\"offsetgroup\":\"\",\"orientation\":\"v\",\"showlegend\":false,\"x\":[\"Santiago\",\"Duarte\",\"El\\u00edas Pi\\u00f1a\",\"Hato Mayor\",\"La Vega\",\"S\\u00e1nchez Ram\\u00edrez\",\"Saman\\u00e1\",\"Valverde\",\"Barahona\",\"La Romana\",\"Monse\\u00f1or Nouel\",\"Monte Cristi\",\"Pedernales\",\"Peravia\",\"Puerto Plata\",\"San Jos\\u00e9 de Ocoa\",\"San Juan\",\"Santiago Rodr\\u00edguez\",\"Distrito Nacional\",\"El Seibo\",\"Espaillat\",\"Hermanas Mirabal\",\"Independencia\",\"Baoruco\",\"Azua\",\"Dajab\\u00f3n\",\"La Altagracia\",\"Mar\\u00eda Trinidad S\\u00e1nchez\",\"Santo Domingo\",\"Monte Plata\",\"San Crist\\u00f3bal\",\"San Pedro de Macor\\u00eds\",\"Santiago\",\"Duarte\",\"El\\u00edas Pi\\u00f1a\",\"Hato Mayor\",\"La Vega\",\"S\\u00e1nchez Ram\\u00edrez\",\"Saman\\u00e1\",\"Valverde\",\"Barahona\",\"La Romana\",\"Monse\\u00f1or Nouel\",\"Monte Cristi\",\"Pedernales\",\"Peravia\",\"Puerto Plata\",\"San Jos\\u00e9 de Ocoa\",\"San Juan\",\"Santiago Rodr\\u00edguez\",\"Distrito Nacional\",\"El Seibo\",\"Espaillat\",\"Hermanas Mirabal\",\"Independencia\",\"Baoruco\",\"Azua\",\"Dajab\\u00f3n\",\"La Altagracia\",\"Mar\\u00eda Trinidad S\\u00e1nchez\",\"Santo Domingo\",\"Monte Plata\",\"San Crist\\u00f3bal\",\"San Pedro de Macor\\u00eds\",\"Santiago\",\"Duarte\",\"El\\u00edas Pi\\u00f1a\",\"Hato Mayor\",\"La Vega\",\"S\\u00e1nchez Ram\\u00edrez\",\"Saman\\u00e1\",\"Valverde\",\"Barahona\",\"La Romana\",\"Monse\\u00f1or Nouel\",\"Monte Cristi\",\"Pedernales\",\"Peravia\",\"Puerto Plata\",\"San Jos\\u00e9 de Ocoa\",\"San Juan\",\"Santiago Rodr\\u00edguez\",\"Distrito Nacional\",\"El Seibo\",\"Espaillat\",\"Hermanas Mirabal\",\"Independencia\",\"Baoruco\",\"Azua\",\"Dajab\\u00f3n\",\"La Altagracia\",\"Mar\\u00eda Trinidad S\\u00e1nchez\",\"Santo Domingo\",\"Monte Plata\",\"San Crist\\u00f3bal\",\"San Pedro de Macor\\u00eds\",\"Santiago\",\"Duarte\",\"El\\u00edas Pi\\u00f1a\",\"Hato Mayor\",\"La Vega\",\"S\\u00e1nchez Ram\\u00edrez\",\"Saman\\u00e1\",\"Valverde\",\"Barahona\",\"La Romana\",\"Monse\\u00f1or Nouel\",\"Monte Cristi\",\"Pedernales\",\"Peravia\",\"Puerto Plata\",\"San Jos\\u00e9 de Ocoa\",\"San Juan\",\"Santiago Rodr\\u00edguez\",\"Distrito Nacional\",\"El Seibo\",\"Espaillat\",\"Hermanas Mirabal\",\"Independencia\",\"Baoruco\",\"Azua\",\"Dajab\\u00f3n\",\"La Altagracia\",\"Mar\\u00eda Trinidad S\\u00e1nchez\",\"Santo Domingo\",\"Monte Plata\",\"San Crist\\u00f3bal\",\"San Pedro de Macor\\u00eds\",\"Santiago\",\"Duarte\",\"El\\u00edas Pi\\u00f1a\",\"Hato Mayor\",\"La Vega\",\"S\\u00e1nchez Ram\\u00edrez\",\"Saman\\u00e1\",\"Valverde\",\"Barahona\",\"La Romana\",\"Monse\\u00f1or Nouel\",\"Monte Cristi\",\"Pedernales\",\"Peravia\",\"Puerto Plata\",\"San Jos\\u00e9 de Ocoa\",\"San Juan\",\"Santiago Rodr\\u00edguez\",\"Distrito Nacional\",\"El Seibo\",\"Espaillat\",\"Hermanas Mirabal\",\"Independencia\",\"Baoruco\",\"Azua\",\"Dajab\\u00f3n\",\"La Altagracia\",\"Mar\\u00eda Trinidad S\\u00e1nchez\",\"Santo Domingo\",\"Monte Plata\",\"San Crist\\u00f3bal\",\"San Pedro de Macor\\u00eds\",\"Santiago\",\"Duarte\",\"El\\u00edas Pi\\u00f1a\",\"Hato Mayor\",\"La Vega\",\"S\\u00e1nchez Ram\\u00edrez\",\"Saman\\u00e1\",\"Valverde\",\"Barahona\",\"La Romana\",\"Monse\\u00f1or Nouel\",\"Monte Cristi\",\"Pedernales\",\"Peravia\",\"Puerto Plata\",\"San Jos\\u00e9 de Ocoa\",\"San Juan\",\"Santiago Rodr\\u00edguez\",\"Distrito Nacional\",\"El Seibo\",\"Espaillat\",\"Hermanas Mirabal\",\"Independencia\",\"Baoruco\",\"Azua\",\"Dajab\\u00f3n\",\"La Altagracia\",\"Mar\\u00eda Trinidad S\\u00e1nchez\",\"Santo Domingo\",\"Monte Plata\",\"San Crist\\u00f3bal\",\"San Pedro de Macor\\u00eds\",\"Santiago\",\"Duarte\",\"El\\u00edas Pi\\u00f1a\",\"Hato Mayor\",\"La Vega\",\"S\\u00e1nchez Ram\\u00edrez\",\"Saman\\u00e1\",\"Valverde\",\"Barahona\",\"La Romana\",\"Monse\\u00f1or Nouel\",\"Monte Cristi\",\"Pedernales\",\"Peravia\",\"Puerto Plata\",\"San Jos\\u00e9 de Ocoa\",\"San Juan\",\"Santiago Rodr\\u00edguez\",\"Distrito Nacional\",\"El Seibo\",\"Espaillat\",\"Hermanas Mirabal\",\"Independencia\",\"Baoruco\",\"Azua\",\"Dajab\\u00f3n\",\"La Altagracia\",\"Mar\\u00eda Trinidad S\\u00e1nchez\",\"Santo Domingo\",\"Monte Plata\",\"San Crist\\u00f3bal\",\"San Pedro de Macor\\u00eds\",\"Santiago\",\"Duarte\",\"El\\u00edas Pi\\u00f1a\",\"Hato Mayor\",\"La Vega\",\"S\\u00e1nchez Ram\\u00edrez\",\"Saman\\u00e1\",\"Valverde\",\"Barahona\",\"La Romana\",\"Monse\\u00f1or Nouel\",\"Monte Cristi\",\"Pedernales\",\"Peravia\",\"Puerto Plata\",\"San Jos\\u00e9 de Ocoa\",\"San Juan\",\"Santiago Rodr\\u00edguez\",\"Distrito Nacional\",\"El Seibo\",\"Espaillat\",\"Hermanas Mirabal\",\"Independencia\",\"Baoruco\",\"Azua\",\"Dajab\\u00f3n\",\"La Altagracia\",\"Mar\\u00eda Trinidad S\\u00e1nchez\",\"Santo Domingo\",\"Monte Plata\",\"San Crist\\u00f3bal\",\"San Pedro de Macor\\u00eds\",\"Santiago\",\"Duarte\",\"El\\u00edas Pi\\u00f1a\",\"Hato Mayor\",\"La Vega\",\"S\\u00e1nchez Ram\\u00edrez\",\"Saman\\u00e1\",\"Valverde\",\"Barahona\",\"La Romana\",\"Monse\\u00f1or Nouel\",\"Monte Cristi\",\"Pedernales\",\"Peravia\",\"Puerto Plata\",\"San Jos\\u00e9 de Ocoa\",\"San Juan\",\"Santiago Rodr\\u00edguez\",\"Distrito Nacional\",\"El Seibo\",\"Espaillat\",\"Hermanas Mirabal\",\"Independencia\",\"Baoruco\",\"Azua\",\"Dajab\\u00f3n\",\"La Altagracia\",\"Mar\\u00eda Trinidad S\\u00e1nchez\",\"Santo Domingo\",\"Monte Plata\",\"San Crist\\u00f3bal\",\"San Pedro de Macor\\u00eds\",\"Santiago\",\"Duarte\",\"El\\u00edas Pi\\u00f1a\",\"Hato Mayor\",\"La Vega\",\"S\\u00e1nchez Ram\\u00edrez\",\"Saman\\u00e1\",\"Valverde\",\"Barahona\",\"La Romana\",\"Monse\\u00f1or Nouel\",\"Monte Cristi\",\"Pedernales\",\"Peravia\",\"Puerto Plata\",\"San Jos\\u00e9 de Ocoa\",\"San Juan\",\"Santiago Rodr\\u00edguez\",\"Distrito Nacional\",\"El Seibo\",\"Espaillat\",\"Hermanas Mirabal\",\"Independencia\",\"Baoruco\",\"Azua\",\"Dajab\\u00f3n\",\"La Altagracia\",\"Mar\\u00eda Trinidad S\\u00e1nchez\",\"Santo Domingo\",\"Monte Plata\",\"San Crist\\u00f3bal\",\"San Pedro de Macor\\u00eds\",\"Santiago\",\"Duarte\",\"El\\u00edas Pi\\u00f1a\",\"Hato Mayor\",\"La Vega\",\"S\\u00e1nchez Ram\\u00edrez\",\"Saman\\u00e1\",\"Valverde\",\"Barahona\",\"La Romana\",\"Monse\\u00f1or Nouel\",\"Monte Cristi\",\"Pedernales\",\"Peravia\",\"Puerto Plata\",\"San Jos\\u00e9 de Ocoa\",\"San Juan\",\"Santiago Rodr\\u00edguez\",\"Distrito Nacional\",\"El Seibo\",\"Espaillat\",\"Hermanas Mirabal\",\"Independencia\",\"Baoruco\",\"Azua\",\"Dajab\\u00f3n\",\"La Altagracia\",\"Mar\\u00eda Trinidad S\\u00e1nchez\",\"Santo Domingo\",\"Monte Plata\",\"San Crist\\u00f3bal\",\"San Pedro de Macor\\u00eds\",\"Santiago\",\"Duarte\",\"El\\u00edas Pi\\u00f1a\",\"Hato Mayor\",\"La Vega\",\"S\\u00e1nchez Ram\\u00edrez\",\"Saman\\u00e1\",\"Valverde\",\"Barahona\",\"La Romana\",\"Monse\\u00f1or Nouel\",\"Monte Cristi\",\"Pedernales\",\"Peravia\",\"Puerto Plata\",\"San Jos\\u00e9 de Ocoa\",\"San Juan\",\"Santiago Rodr\\u00edguez\",\"Distrito Nacional\",\"El Seibo\",\"Espaillat\",\"Hermanas Mirabal\",\"Independencia\",\"Baoruco\",\"Azua\",\"Dajab\\u00f3n\",\"La Altagracia\",\"Mar\\u00eda Trinidad S\\u00e1nchez\",\"Santo Domingo\",\"Monte Plata\",\"San Crist\\u00f3bal\",\"San Pedro de Macor\\u00eds\",\"Santiago\",\"Duarte\",\"El\\u00edas Pi\\u00f1a\",\"Hato Mayor\",\"La Vega\",\"S\\u00e1nchez Ram\\u00edrez\",\"Saman\\u00e1\",\"Valverde\",\"Barahona\",\"La Romana\",\"Monse\\u00f1or Nouel\",\"Monte Cristi\",\"Pedernales\",\"Peravia\",\"Puerto Plata\",\"San Jos\\u00e9 de Ocoa\",\"San Juan\",\"Santiago Rodr\\u00edguez\",\"Distrito Nacional\",\"El Seibo\",\"Espaillat\",\"Hermanas Mirabal\",\"Independencia\",\"Baoruco\",\"Azua\",\"Dajab\\u00f3n\",\"La Altagracia\",\"Mar\\u00eda Trinidad S\\u00e1nchez\",\"Santo Domingo\",\"Monte Plata\",\"San Crist\\u00f3bal\",\"San Pedro de Macor\\u00eds\",\"Santiago\",\"Duarte\",\"El\\u00edas Pi\\u00f1a\",\"Hato Mayor\",\"La Vega\",\"S\\u00e1nchez Ram\\u00edrez\",\"Saman\\u00e1\",\"Valverde\",\"Barahona\",\"La Romana\",\"Monse\\u00f1or Nouel\",\"Monte Cristi\",\"Pedernales\",\"Peravia\",\"Puerto Plata\",\"San Jos\\u00e9 de Ocoa\",\"San Juan\",\"Santiago Rodr\\u00edguez\",\"Distrito Nacional\",\"El Seibo\",\"Espaillat\",\"Hermanas Mirabal\",\"Independencia\",\"Baoruco\",\"Azua\",\"Dajab\\u00f3n\",\"La Altagracia\",\"Mar\\u00eda Trinidad S\\u00e1nchez\",\"Santo Domingo\",\"Monte Plata\",\"San Crist\\u00f3bal\",\"San Pedro de Macor\\u00eds\",\"Santiago\",\"Duarte\",\"El\\u00edas Pi\\u00f1a\",\"Hato Mayor\",\"La Vega\",\"S\\u00e1nchez Ram\\u00edrez\",\"Saman\\u00e1\",\"Valverde\",\"Barahona\",\"La Romana\",\"Monse\\u00f1or Nouel\",\"Monte Cristi\",\"Pedernales\",\"Peravia\",\"Puerto Plata\",\"San Jos\\u00e9 de Ocoa\",\"San Juan\",\"Santiago Rodr\\u00edguez\",\"Distrito Nacional\",\"El Seibo\",\"Espaillat\",\"Hermanas Mirabal\",\"Independencia\",\"Baoruco\",\"Azua\",\"Dajab\\u00f3n\",\"La Altagracia\",\"Mar\\u00eda Trinidad S\\u00e1nchez\",\"Santo Domingo\",\"Monte Plata\",\"San Crist\\u00f3bal\",\"San Pedro de Macor\\u00eds\",\"Santiago\",\"Duarte\",\"El\\u00edas Pi\\u00f1a\",\"Hato Mayor\",\"La Vega\",\"S\\u00e1nchez Ram\\u00edrez\",\"Saman\\u00e1\",\"Valverde\",\"Barahona\",\"La Romana\",\"Monse\\u00f1or Nouel\",\"Monte Cristi\",\"Pedernales\",\"Peravia\",\"Puerto Plata\",\"San Jos\\u00e9 de Ocoa\",\"San Juan\",\"Santiago Rodr\\u00edguez\",\"Distrito Nacional\",\"El Seibo\",\"Espaillat\",\"Hermanas Mirabal\",\"Independencia\",\"Baoruco\",\"Azua\",\"Dajab\\u00f3n\",\"La Altagracia\",\"Mar\\u00eda Trinidad S\\u00e1nchez\",\"Santo Domingo\",\"Monte Plata\",\"San Crist\\u00f3bal\",\"San Pedro de Macor\\u00eds\",\"Santiago\",\"Duarte\",\"El\\u00edas Pi\\u00f1a\",\"Hato Mayor\",\"La Vega\",\"S\\u00e1nchez Ram\\u00edrez\",\"Saman\\u00e1\",\"Valverde\",\"Barahona\",\"La Romana\",\"Monse\\u00f1or Nouel\",\"Monte Cristi\",\"Pedernales\",\"Peravia\",\"Puerto Plata\",\"San Jos\\u00e9 de Ocoa\",\"San Juan\",\"Santiago Rodr\\u00edguez\",\"Distrito Nacional\",\"El Seibo\",\"Espaillat\",\"Hermanas Mirabal\",\"Independencia\",\"Baoruco\",\"Azua\",\"Dajab\\u00f3n\",\"La Altagracia\",\"Mar\\u00eda Trinidad S\\u00e1nchez\",\"Santo Domingo\",\"Monte Plata\",\"San Crist\\u00f3bal\",\"San Pedro de Macor\\u00eds\",\"Santiago\",\"Duarte\",\"El\\u00edas Pi\\u00f1a\",\"Hato Mayor\",\"La Vega\",\"S\\u00e1nchez Ram\\u00edrez\",\"Saman\\u00e1\",\"Valverde\",\"Barahona\",\"La Romana\",\"Monse\\u00f1or Nouel\",\"Monte Cristi\",\"Pedernales\",\"Peravia\",\"Puerto Plata\",\"San Jos\\u00e9 de Ocoa\",\"San Juan\",\"Santiago Rodr\\u00edguez\",\"Distrito Nacional\",\"El Seibo\",\"Espaillat\",\"Hermanas Mirabal\",\"Independencia\",\"Baoruco\",\"Azua\",\"Dajab\\u00f3n\",\"La Altagracia\",\"Mar\\u00eda Trinidad S\\u00e1nchez\",\"Santo Domingo\",\"Monte Plata\",\"San Crist\\u00f3bal\",\"San Pedro de Macor\\u00eds\",\"Santiago\",\"Duarte\",\"El\\u00edas Pi\\u00f1a\",\"Hato Mayor\",\"La Vega\",\"S\\u00e1nchez Ram\\u00edrez\",\"Saman\\u00e1\",\"Valverde\",\"Barahona\",\"La Romana\",\"Monse\\u00f1or Nouel\",\"Monte Cristi\",\"Pedernales\",\"Peravia\",\"Puerto Plata\",\"San Jos\\u00e9 de Ocoa\",\"San Juan\",\"Santiago Rodr\\u00edguez\",\"Distrito Nacional\",\"El Seibo\",\"Espaillat\",\"Hermanas Mirabal\",\"Independencia\",\"Baoruco\",\"Azua\",\"Dajab\\u00f3n\",\"La Altagracia\",\"Mar\\u00eda Trinidad S\\u00e1nchez\",\"Santo Domingo\",\"Monte Plata\",\"San Crist\\u00f3bal\",\"San Pedro de Macor\\u00eds\",\"Santiago\",\"Duarte\",\"El\\u00edas Pi\\u00f1a\",\"Hato Mayor\",\"La Vega\",\"S\\u00e1nchez Ram\\u00edrez\",\"Saman\\u00e1\",\"Valverde\",\"Barahona\",\"La Romana\",\"Monse\\u00f1or Nouel\",\"Monte Cristi\",\"Pedernales\",\"Peravia\",\"Puerto Plata\",\"San Jos\\u00e9 de Ocoa\",\"San Juan\",\"Santiago Rodr\\u00edguez\",\"Distrito Nacional\",\"El Seibo\",\"Espaillat\",\"Hermanas Mirabal\",\"Independencia\",\"Baoruco\",\"Azua\",\"Dajab\\u00f3n\",\"La Altagracia\",\"Mar\\u00eda Trinidad S\\u00e1nchez\",\"Santo Domingo\",\"Monte Plata\",\"San Crist\\u00f3bal\",\"San Pedro de Macor\\u00eds\",\"Santiago\",\"Duarte\",\"El\\u00edas Pi\\u00f1a\",\"Hato Mayor\",\"La Vega\",\"S\\u00e1nchez Ram\\u00edrez\",\"Saman\\u00e1\",\"Valverde\",\"Barahona\",\"La Romana\",\"Monse\\u00f1or Nouel\",\"Monte Cristi\",\"Pedernales\",\"Peravia\",\"Puerto Plata\",\"San Jos\\u00e9 de Ocoa\",\"San Juan\",\"Santiago Rodr\\u00edguez\",\"Distrito Nacional\",\"El Seibo\",\"Espaillat\",\"Hermanas Mirabal\",\"Independencia\",\"Baoruco\",\"Azua\",\"Dajab\\u00f3n\",\"La Altagracia\",\"Mar\\u00eda Trinidad S\\u00e1nchez\",\"Santo Domingo\",\"Monte Plata\",\"San Crist\\u00f3bal\",\"San Pedro de Macor\\u00eds\",\"Santiago\",\"Duarte\",\"El\\u00edas Pi\\u00f1a\",\"Hato Mayor\",\"La Vega\",\"S\\u00e1nchez Ram\\u00edrez\",\"Saman\\u00e1\",\"Valverde\",\"Barahona\",\"La Romana\",\"Monse\\u00f1or Nouel\",\"Monte Cristi\",\"Pedernales\",\"Peravia\",\"Puerto Plata\",\"San Jos\\u00e9 de Ocoa\",\"San Juan\",\"Santiago Rodr\\u00edguez\",\"Distrito Nacional\",\"El Seibo\",\"Espaillat\",\"Hermanas Mirabal\",\"Independencia\",\"Baoruco\",\"Azua\",\"Dajab\\u00f3n\",\"La Altagracia\",\"Mar\\u00eda Trinidad S\\u00e1nchez\",\"Santo Domingo\",\"Monte Plata\",\"San Crist\\u00f3bal\",\"San Pedro de Macor\\u00eds\",\"Santiago\",\"Duarte\",\"El\\u00edas Pi\\u00f1a\",\"Hato Mayor\",\"La Vega\",\"S\\u00e1nchez Ram\\u00edrez\",\"Saman\\u00e1\",\"Valverde\",\"Barahona\",\"La Romana\",\"Monse\\u00f1or Nouel\",\"Monte Cristi\",\"Pedernales\",\"Peravia\",\"Puerto Plata\",\"San Jos\\u00e9 de Ocoa\",\"San Juan\",\"Santiago Rodr\\u00edguez\",\"Distrito Nacional\",\"El Seibo\",\"Espaillat\",\"Hermanas Mirabal\",\"Independencia\",\"Baoruco\",\"Azua\",\"Dajab\\u00f3n\",\"La Altagracia\",\"Mar\\u00eda Trinidad S\\u00e1nchez\",\"Santo Domingo\",\"Monte Plata\",\"San Crist\\u00f3bal\",\"San Pedro de Macor\\u00eds\"],\"x0\":\" \",\"xaxis\":\"x\",\"y\":[4914.787616048607,748.8097733703314,6.1979265213012695,93.87557759144728,943.3640794085522,182.8836908340454,41.148046814694126,169.37127227596207,437.846138808774,1083.3814473348505,537.4915245771408,114.090678691864,20.45323600769043,611.129144987873,1184.3922418954326,16.55657207965851,325.04106545448303,32.55313491821289,9472.827480313355,52.04133713245392,345.5830852424397,45.803698897361755,33.18100559711456,85.16417703581791,248.6026222495472,38.25915500556721,1300.2748782985352,142.62997160051384,14124.393411501716,144.92231810092926,2722.3909613076376,1518.3222364921198,7871.731601611305,1210.7342359856063,24.653234481811523,144.32342516347472,1234.194424178086,185.10973346233368,49.67033499549417,149.10436206985923,692.4124734541949,1303.3657368977863,458.1981782913208,129.99838757514954,45.551149318264976,537.1828030576893,1538.6327482050542,40.42842721939087,306.11213409900665,29.84186375141144,9669.01991182589,176.38815867900848,338.6187406698863,54.49060094356537,74.78657510841595,120.39513024348838,382.899060921108,43.05105042410832,1401.673499725379,199.1946641188042,13329.445364947882,131.24588561058044,2410.3329263257046,1574.7223222657744,9371.019805821716,1552.0070817003063,1.1119062900543213,316.4651681455911,1915.8509066866893,143.23218297958374,75.02400244404288,219.04389849877825,878.4145104426963,1716.9494939813424,662.67427277565,171.9187432527542,51.945917884976254,761.423369643735,1861.512259552058,116.06245183944702,464.73097574710846,67.4668037891388,9467.757783083352,268.1852719783783,739.8513557985716,118.59017276763916,130.34711968898773,229.85097307691387,759.6718208373761,69.27332855907142,2072.2095998385375,378.8667016062082,12535.517585942796,331.31387507915497,2312.2277832082673,1486.2428879059994,7292.187471735711,844.600133895874,16.016334772109985,157.69871241251627,1207.7994694532133,142.99576556682587,37.542734040933496,363.73349498206494,459.21502752350824,1380.9234750972075,581.5395979881287,171.75045156478882,30.10571196079254,675.9865482269549,1357.907274939967,44.713855266571045,443.60933899879456,101.00835704803468,8535.577695579623,139.40732836723328,610.2920901452794,63.71822500228882,127.63572978973389,203.2505897344327,548.0518555136288,64.01832367392147,1411.0586132217857,168.68478022416434,13761.954626855666,188.5353437662125,2225.333640570266,1369.9785409389756,4398.141104688364,960.1622921228408,16.571326971054077,261.77311891013505,853.8853578184164,145.30223274230957,77.71866117879456,233.3848751783371,319.2228738223805,1229.7805442828758,485.5357559919358,163.7012153863907,55.31745868897905,340.21919006646846,976.0860224892112,84.99196553230286,338.13986003398895,76.97827756404877,6926.780874595923,258.2087780237198,539.3409227768581,95.19509758294797,106.6690798997879,72.35132481537613,366.8239999785143,87.42315585987241,1777.8101106592253,120.16749536710626,8416.769204917608,152.57161724567413,1711.3828455144285,1097.998905384307,4505.0690827248145,1229.3052723407743,13.507462859153748,179.09867101323374,713.5562357388291,62.673962235450745,83.43442704630834,155.3453381795509,359.0379775986952,908.7572839694864,409.1654763221741,99.70754301548004,21.68891273059097,338.7520315647125,887.2481474469688,54.76779389381409,239.6706166267395,64.11525440216064,8045.571352085881,85.83134329319,303.5529987643747,36.61117398738861,107.34100139141084,104.33237567882912,181.69985672305612,46.156007892477746,1672.664698330094,106.52966892158284,11536.937685124549,81.05576205253601,1719.5250076985826,1287.0210295452794,7352.749153250806,1881.721592783928,1.1119062900543213,200.00388526168524,834.3753020422131,95.37496769428252,94.21922897077076,220.3574231330086,449.30753805216614,1122.6712249676384,509.9448593854904,132.14627766609192,30.361214376430887,375.73803593317666,1561.8922376964606,44.19028067588806,322.4422413110733,60.06812274456024,9132.333119094605,131.20223701000214,439.3933288536819,50.27576434612274,60.092902064323425,93.4811295598161,267.0258253144283,57.865646276287,2285.607633606125,114.63834097759396,16337.024053466554,94.54603338241576,2185.815217938143,1201.8143646516055,6395.987751702233,1324.228068113327,3.233190655708313,139.8601265187357,532.5163649713292,38.02190363407135,93.11795393812888,173.4852284749349,247.21610315126532,1029.9601691563926,377.1223015785218,93.39344120025636,34.566536679922365,295.69564825553516,1237.7612122512332,74.56354022026062,271.8864817619324,67.43500661849976,8672.25150874923,109.00834131240843,303.24484449367895,108.08794796466827,48.38316512107849,88.1163237693263,209.69187092781067,17.21232982242809,2241.927531779981,62.97242977759418,14979.677935236108,46.72648727893829,2032.8771802682504,1083.4468700511784,5822.8407231447745,1139.9333029985428,28.97708022594452,105.0412623209112,566.0491168695337,41.092374324798584,57.42965713949764,133.9014717653686,218.5485197997561,980.83498330537,262.8837686777115,98.57213246822356,46.35389654542886,296.89932608744675,990.3580670375452,78.0089899301529,158.97065687179563,51.08001410961151,8264.694910418752,91.27684116363524,369.1733893506667,79.5447689294815,59.0455858707428,107.95997489340164,82.2221747636795,31.089982687258253,2456.4307873810035,79.59875160525829,14239.876829468038,41.85864078998566,1535.9728283657746,1142.8659048875172,5818.013819586062,1169.0655803203583,21.480039477348328,215.6499864984961,827.2482439092562,109.16663098335266,86.12056509045993,281.60598266124725,267.56545552552916,990.144079710923,422.851425558913,110.0050482749939,150.2836239006005,395.7793573384192,820.3571433978923,86.9249496459961,300.2800497242049,112.198033452034,7833.235951612977,123.54103887081146,410.5699151314941,40.07207834720611,79.33118629455566,126.06382287390092,154.3238537685544,45.85595190805547,2582.028424517781,112.54306110167036,12128.432095849284,54.79113733768463,1245.0068170664356,919.4085458101011,4437.6595916093565,752.9195436954499,17.37169897556305,156.73045992851257,499.4814583525938,115.8674201965332,81.16772272353079,195.2481484969457,232.6268408906226,916.342778613988,139.7413717508316,64.70622134208679,27.123178061784483,214.9388899200103,645.9618162197226,32.07790195941925,565.4074736782148,41.04398763179779,6360.017644935497,65.77078115940094,233.8729916451024,25.286099553108215,98.30613577365877,73.09906215667725,121.58565070909611,29.666809728098855,1980.6463671062504,112.3501399082296,10752.96275085234,100.94408392906188,1504.914564444972,483.3891605264999,8694.508502282815,1601.9228835096546,46.71279537677765,322.40668974857704,1632.8678948949364,314.7220109948924,363.9235845893037,502.2945204103694,549.6113573513778,1203.035842926362,1133.477810247739,342.1595414876938,80.75891646918129,557.2696908048555,1816.679300274101,193.36457097530365,1136.0557645465817,172.4493132385553,10951.316136111927,168.25998771190643,686.1733466975829,120.9434300104777,100.93441438674928,162.1518572026608,413.40952247965566,124.27682998601128,2703.6754385298373,487.72359466739726,15874.612287210011,499.42279493808746,1961.9184024717292,1126.571849178333,11474.304111494735,2539.164220039985,59.00306834192837,205.18421907378175,1899.327834585601,908.495044523127,416.4850544770559,519.8752194170858,616.1022657039119,2353.487760057169,1576.173068363526,434.8202975988388,60.074894080910035,1234.451719318184,2372.66829988676,148.32224881649017,1060.773781843279,157.95352955191743,12011.57570892876,169.8888303041458,1091.7867456314611,187.40231916390212,165.52824115753174,174.06211539717282,654.7923945857028,108.60962408804426,4368.686548758488,566.2104417132397,23853.785734277142,282.7171834838157,3847.406071986872,2521.527863357114,14825.209892216852,2527.9895338927995,321.5946858882904,667.0866908232371,4126.160036806499,2230.2371468324286,683.2751966967302,1412.9338365531437,1903.2823818150691,4680.040440380806,2080.916005516052,1095.2860452460309,334.2523550875047,2007.5408285164365,3770.6201185427462,196.67988847704495,3213.698151511772,387.7657186302485,14425.514743429072,571.0380448102951,2165.954047254487,806.6063525396235,279.406741919237,543.6140472888947,1763.1588228557623,280.6506237404019,5988.149469654232,593.7839074990329,29915.58393961355,618.9797825252308,6308.221544396176,4854.080919007227,16884.054370314934,2893.2651023570234,375.9686093143388,733.733763217926,4578.5133873415925,1905.960321108968,683.3215503126968,1734.5203914076676,2178.9525871753694,4660.02613142425,1705.793239199414,1079.3498678422443,353.34660193078656,2346.5815697684006,4047.638120178616,248.2646853619931,3551.2304636497124,405.3026511884203,14704.60510267978,613.9126348495483,2582.6754489491964,932.1745186922597,580.8189321873235,809.271666840946,2098.8453886579064,385.5682813270419,6470.527729874968,655.687051025559,30914.80198531712,549.2199683189392,6644.10060452106,5198.749764104918,18188.096526829864,3578.580694116331,376.3150273781197,764.3530515703501,5882.708870426346,2126.917222187566,700.514797356082,2176.363518725657,1992.8778681942056,4892.558732860229,1830.508592018894,1176.0110445859386,322.9238239293005,2979.2919400855612,4599.199346591911,226.2356730334899,3465.971456694603,455.4147066798865,14605.052999954598,701.1971076783012,2962.1881437180086,1109.9860576021906,617.6209058298784,867.3461514187795,2009.304393268099,473.0425358692805,7123.798377393741,739.1145289397707,32003.220185803904,567.0452316732967,6757.03128375072,5902.097952411221,17359.996984398596,3495.004085100399,509.5499554891212,734.0116008660373,5827.504024786108,2005.248913463891,689.0715269472084,2281.039256751771,2012.591063411096,4871.3738760088,2360.0865109518463,1326.849238029181,297.47836034110946,2632.0486692218224,5088.558972296995,204.91060466111875,3884.754342973466,491.4859837466595,14715.468590224024,659.2214897057589,2862.800954194163,1083.3859824203978,590.4692260185877,934.7698961720748,2092.548019324565,520.9914379054426,7465.805056646758,831.6318168102526,32361.63382166367,626.7526250156702,7196.355611900721,5731.586381828552,19974.094244527812,4361.536840646874,567.0410651113473,815.283720492849,7944.898978943918,2437.902805889354,845.2835306967005,3043.630685248095,1938.581937873597,5034.957056688795,3086.457578885789,2272.943221859371,366.1048743243311,3179.8983200737075,5470.429370492113,258.0317150172065,4134.829854138225,653.5812049524457,15848.004911629358,640.2142996862823,3512.423172842287,1447.189268188383,696.027005314827,1016.304430590424,2243.7679156677395,596.1964137839336,8445.783400254157,1186.0166846289355,33875.82909496486,915.0476305395948,7941.095745637369,5527.297481408775,22530.6194249644,4677.9349893065055,600.4720378412919,918.7235666485392,8906.527449070707,2672.599363984781,918.2087824765372,3443.5918943606175,1997.5091712965689,5580.214256602175,3101.2317262817837,2276.119962609048,400.641213128146,3284.0557504911044,6189.461117607005,256.0199987888336,4104.339487557785,752.3174922653272,17359.788078131394,690.9226683116426,3787.488747935669,1573.444235289331,669.7300004959106,980.937021782819,2498.8570492398503,697.9192521216823,10715.477230300155,1260.5085892649258,37465.18408874859,1076.0853320313436,8498.877442440798,6037.263586175674,24544.153879073085,5447.073004632838,571.4859576416951,923.8988609164368,10600.778297575784,2822.4133602492952,1093.1330383043664,3724.0311351102937,2034.498567040294,5449.16855857045,3507.8366840577596,2470.4488669788134,366.1435115599165,3212.74497694081,6861.444675313724,306.1050010919571,3851.1193913127863,888.833472013941,19916.582338725824,749.7075094858805,4433.332569549129,1872.0637600851992,605.1137256743862,965.8581170820722,2708.177041449266,1004.1471163548676,12279.985725817962,1485.021060634127,43652.97692978335,1194.6959999696885,9758.001985720097,6131.781593964615,24515.551805464893,6202.918019633671,559.3645469745001,974.1656491415176,11172.471720752528,2622.6421724469055,1349.940471651507,3801.546061666339,2206.431938313036,5432.017567744909,3717.1007596146824,2515.906602655672,398.291886601261,5861.835150459701,6435.951002627728,345.12290011246995,4118.483927556113,1193.236408758631,18694.089750936928,844.795644905988,4663.007878776159,1929.826570885789,709.422376201667,1075.432586759212,3647.2191091990935,1023.2980391871696,11367.79350201803,1633.5391173138337,44685.500339739454,1386.20276538157,11134.101622850756,6665.09667453158,27663.932439737695,6959.640562035056,580.6612330511505,1135.2792385657629,12308.073064086951,3149.557335417878,1581.517238574402,4374.450995036201,3251.9091567951095,5954.250913029089,4511.3710683350455,3517.0879276803894,481.7247411938274,6936.535349128762,8285.819298968128,434.054157275312,4658.261610459346,1402.5359574285208,19039.57376176984,1077.5490389080608,5981.245993943774,2324.6810885864147,971.9297070475186,1546.1636816707312,4610.565955968465,1241.040053248873,13368.349688964732,2183.131430675469,49227.395245537555,1891.0309864263909,12540.30603560046,8076.577784940774,29958.110855025872,7963.276175735513,629.807076068953,1232.3510417251027,12981.290448404292,3761.113265085688,1972.5630344993936,4940.6974625755765,3831.703352367177,6648.247995633237,5676.427469184352,3956.3975315430584,544.5511159354566,7397.230766461411,8853.581607571768,544.4601171647802,4700.595419865964,1766.8344530956415,21262.009801344782,1169.9856674203684,7089.675385455523,2701.3294645066353,936.2838270444496,1914.2283383107656,4915.227795896811,1513.1161154672209,15271.41275349084,3011.300878212499,53803.164493002616,2149.284269460042,13263.71498482508,9084.035366102762],\"y0\":\" \",\"yaxis\":\"y\",\"type\":\"box\"}],                        {\"template\":{\"data\":{\"histogram2dcontour\":[{\"type\":\"histogram2dcontour\",\"colorbar\":{\"outlinewidth\":0,\"ticks\":\"\"},\"colorscale\":[[0.0,\"#0d0887\"],[0.1111111111111111,\"#46039f\"],[0.2222222222222222,\"#7201a8\"],[0.3333333333333333,\"#9c179e\"],[0.4444444444444444,\"#bd3786\"],[0.5555555555555556,\"#d8576b\"],[0.6666666666666666,\"#ed7953\"],[0.7777777777777778,\"#fb9f3a\"],[0.8888888888888888,\"#fdca26\"],[1.0,\"#f0f921\"]]}],\"choropleth\":[{\"type\":\"choropleth\",\"colorbar\":{\"outlinewidth\":0,\"ticks\":\"\"}}],\"histogram2d\":[{\"type\":\"histogram2d\",\"colorbar\":{\"outlinewidth\":0,\"ticks\":\"\"},\"colorscale\":[[0.0,\"#0d0887\"],[0.1111111111111111,\"#46039f\"],[0.2222222222222222,\"#7201a8\"],[0.3333333333333333,\"#9c179e\"],[0.4444444444444444,\"#bd3786\"],[0.5555555555555556,\"#d8576b\"],[0.6666666666666666,\"#ed7953\"],[0.7777777777777778,\"#fb9f3a\"],[0.8888888888888888,\"#fdca26\"],[1.0,\"#f0f921\"]]}],\"heatmap\":[{\"type\":\"heatmap\",\"colorbar\":{\"outlinewidth\":0,\"ticks\":\"\"},\"colorscale\":[[0.0,\"#0d0887\"],[0.1111111111111111,\"#46039f\"],[0.2222222222222222,\"#7201a8\"],[0.3333333333333333,\"#9c179e\"],[0.4444444444444444,\"#bd3786\"],[0.5555555555555556,\"#d8576b\"],[0.6666666666666666,\"#ed7953\"],[0.7777777777777778,\"#fb9f3a\"],[0.8888888888888888,\"#fdca26\"],[1.0,\"#f0f921\"]]}],\"heatmapgl\":[{\"type\":\"heatmapgl\",\"colorbar\":{\"outlinewidth\":0,\"ticks\":\"\"},\"colorscale\":[[0.0,\"#0d0887\"],[0.1111111111111111,\"#46039f\"],[0.2222222222222222,\"#7201a8\"],[0.3333333333333333,\"#9c179e\"],[0.4444444444444444,\"#bd3786\"],[0.5555555555555556,\"#d8576b\"],[0.6666666666666666,\"#ed7953\"],[0.7777777777777778,\"#fb9f3a\"],[0.8888888888888888,\"#fdca26\"],[1.0,\"#f0f921\"]]}],\"contourcarpet\":[{\"type\":\"contourcarpet\",\"colorbar\":{\"outlinewidth\":0,\"ticks\":\"\"}}],\"contour\":[{\"type\":\"contour\",\"colorbar\":{\"outlinewidth\":0,\"ticks\":\"\"},\"colorscale\":[[0.0,\"#0d0887\"],[0.1111111111111111,\"#46039f\"],[0.2222222222222222,\"#7201a8\"],[0.3333333333333333,\"#9c179e\"],[0.4444444444444444,\"#bd3786\"],[0.5555555555555556,\"#d8576b\"],[0.6666666666666666,\"#ed7953\"],[0.7777777777777778,\"#fb9f3a\"],[0.8888888888888888,\"#fdca26\"],[1.0,\"#f0f921\"]]}],\"surface\":[{\"type\":\"surface\",\"colorbar\":{\"outlinewidth\":0,\"ticks\":\"\"},\"colorscale\":[[0.0,\"#0d0887\"],[0.1111111111111111,\"#46039f\"],[0.2222222222222222,\"#7201a8\"],[0.3333333333333333,\"#9c179e\"],[0.4444444444444444,\"#bd3786\"],[0.5555555555555556,\"#d8576b\"],[0.6666666666666666,\"#ed7953\"],[0.7777777777777778,\"#fb9f3a\"],[0.8888888888888888,\"#fdca26\"],[1.0,\"#f0f921\"]]}],\"mesh3d\":[{\"type\":\"mesh3d\",\"colorbar\":{\"outlinewidth\":0,\"ticks\":\"\"}}],\"scatter\":[{\"fillpattern\":{\"fillmode\":\"overlay\",\"size\":10,\"solidity\":0.2},\"type\":\"scatter\"}],\"parcoords\":[{\"type\":\"parcoords\",\"line\":{\"colorbar\":{\"outlinewidth\":0,\"ticks\":\"\"}}}],\"scatterpolargl\":[{\"type\":\"scatterpolargl\",\"marker\":{\"colorbar\":{\"outlinewidth\":0,\"ticks\":\"\"}}}],\"bar\":[{\"error_x\":{\"color\":\"#2a3f5f\"},\"error_y\":{\"color\":\"#2a3f5f\"},\"marker\":{\"line\":{\"color\":\"#E5ECF6\",\"width\":0.5},\"pattern\":{\"fillmode\":\"overlay\",\"size\":10,\"solidity\":0.2}},\"type\":\"bar\"}],\"scattergeo\":[{\"type\":\"scattergeo\",\"marker\":{\"colorbar\":{\"outlinewidth\":0,\"ticks\":\"\"}}}],\"scatterpolar\":[{\"type\":\"scatterpolar\",\"marker\":{\"colorbar\":{\"outlinewidth\":0,\"ticks\":\"\"}}}],\"histogram\":[{\"marker\":{\"pattern\":{\"fillmode\":\"overlay\",\"size\":10,\"solidity\":0.2}},\"type\":\"histogram\"}],\"scattergl\":[{\"type\":\"scattergl\",\"marker\":{\"colorbar\":{\"outlinewidth\":0,\"ticks\":\"\"}}}],\"scatter3d\":[{\"type\":\"scatter3d\",\"line\":{\"colorbar\":{\"outlinewidth\":0,\"ticks\":\"\"}},\"marker\":{\"colorbar\":{\"outlinewidth\":0,\"ticks\":\"\"}}}],\"scattermapbox\":[{\"type\":\"scattermapbox\",\"marker\":{\"colorbar\":{\"outlinewidth\":0,\"ticks\":\"\"}}}],\"scatterternary\":[{\"type\":\"scatterternary\",\"marker\":{\"colorbar\":{\"outlinewidth\":0,\"ticks\":\"\"}}}],\"scattercarpet\":[{\"type\":\"scattercarpet\",\"marker\":{\"colorbar\":{\"outlinewidth\":0,\"ticks\":\"\"}}}],\"carpet\":[{\"aaxis\":{\"endlinecolor\":\"#2a3f5f\",\"gridcolor\":\"white\",\"linecolor\":\"white\",\"minorgridcolor\":\"white\",\"startlinecolor\":\"#2a3f5f\"},\"baxis\":{\"endlinecolor\":\"#2a3f5f\",\"gridcolor\":\"white\",\"linecolor\":\"white\",\"minorgridcolor\":\"white\",\"startlinecolor\":\"#2a3f5f\"},\"type\":\"carpet\"}],\"table\":[{\"cells\":{\"fill\":{\"color\":\"#EBF0F8\"},\"line\":{\"color\":\"white\"}},\"header\":{\"fill\":{\"color\":\"#C8D4E3\"},\"line\":{\"color\":\"white\"}},\"type\":\"table\"}],\"barpolar\":[{\"marker\":{\"line\":{\"color\":\"#E5ECF6\",\"width\":0.5},\"pattern\":{\"fillmode\":\"overlay\",\"size\":10,\"solidity\":0.2}},\"type\":\"barpolar\"}],\"pie\":[{\"automargin\":true,\"type\":\"pie\"}]},\"layout\":{\"autotypenumbers\":\"strict\",\"colorway\":[\"#636efa\",\"#EF553B\",\"#00cc96\",\"#ab63fa\",\"#FFA15A\",\"#19d3f3\",\"#FF6692\",\"#B6E880\",\"#FF97FF\",\"#FECB52\"],\"font\":{\"color\":\"#2a3f5f\"},\"hovermode\":\"closest\",\"hoverlabel\":{\"align\":\"left\"},\"paper_bgcolor\":\"white\",\"plot_bgcolor\":\"#E5ECF6\",\"polar\":{\"bgcolor\":\"#E5ECF6\",\"angularaxis\":{\"gridcolor\":\"white\",\"linecolor\":\"white\",\"ticks\":\"\"},\"radialaxis\":{\"gridcolor\":\"white\",\"linecolor\":\"white\",\"ticks\":\"\"}},\"ternary\":{\"bgcolor\":\"#E5ECF6\",\"aaxis\":{\"gridcolor\":\"white\",\"linecolor\":\"white\",\"ticks\":\"\"},\"baxis\":{\"gridcolor\":\"white\",\"linecolor\":\"white\",\"ticks\":\"\"},\"caxis\":{\"gridcolor\":\"white\",\"linecolor\":\"white\",\"ticks\":\"\"}},\"coloraxis\":{\"colorbar\":{\"outlinewidth\":0,\"ticks\":\"\"}},\"colorscale\":{\"sequential\":[[0.0,\"#0d0887\"],[0.1111111111111111,\"#46039f\"],[0.2222222222222222,\"#7201a8\"],[0.3333333333333333,\"#9c179e\"],[0.4444444444444444,\"#bd3786\"],[0.5555555555555556,\"#d8576b\"],[0.6666666666666666,\"#ed7953\"],[0.7777777777777778,\"#fb9f3a\"],[0.8888888888888888,\"#fdca26\"],[1.0,\"#f0f921\"]],\"sequentialminus\":[[0.0,\"#0d0887\"],[0.1111111111111111,\"#46039f\"],[0.2222222222222222,\"#7201a8\"],[0.3333333333333333,\"#9c179e\"],[0.4444444444444444,\"#bd3786\"],[0.5555555555555556,\"#d8576b\"],[0.6666666666666666,\"#ed7953\"],[0.7777777777777778,\"#fb9f3a\"],[0.8888888888888888,\"#fdca26\"],[1.0,\"#f0f921\"]],\"diverging\":[[0,\"#8e0152\"],[0.1,\"#c51b7d\"],[0.2,\"#de77ae\"],[0.3,\"#f1b6da\"],[0.4,\"#fde0ef\"],[0.5,\"#f7f7f7\"],[0.6,\"#e6f5d0\"],[0.7,\"#b8e186\"],[0.8,\"#7fbc41\"],[0.9,\"#4d9221\"],[1,\"#276419\"]]},\"xaxis\":{\"gridcolor\":\"white\",\"linecolor\":\"white\",\"ticks\":\"\",\"title\":{\"standoff\":15},\"zerolinecolor\":\"white\",\"automargin\":true,\"zerolinewidth\":2},\"yaxis\":{\"gridcolor\":\"white\",\"linecolor\":\"white\",\"ticks\":\"\",\"title\":{\"standoff\":15},\"zerolinecolor\":\"white\",\"automargin\":true,\"zerolinewidth\":2},\"scene\":{\"xaxis\":{\"backgroundcolor\":\"#E5ECF6\",\"gridcolor\":\"white\",\"linecolor\":\"white\",\"showbackground\":true,\"ticks\":\"\",\"zerolinecolor\":\"white\",\"gridwidth\":2},\"yaxis\":{\"backgroundcolor\":\"#E5ECF6\",\"gridcolor\":\"white\",\"linecolor\":\"white\",\"showbackground\":true,\"ticks\":\"\",\"zerolinecolor\":\"white\",\"gridwidth\":2},\"zaxis\":{\"backgroundcolor\":\"#E5ECF6\",\"gridcolor\":\"white\",\"linecolor\":\"white\",\"showbackground\":true,\"ticks\":\"\",\"zerolinecolor\":\"white\",\"gridwidth\":2}},\"shapedefaults\":{\"line\":{\"color\":\"#2a3f5f\"}},\"annotationdefaults\":{\"arrowcolor\":\"#2a3f5f\",\"arrowhead\":0,\"arrowwidth\":1},\"geo\":{\"bgcolor\":\"white\",\"landcolor\":\"#E5ECF6\",\"subunitcolor\":\"white\",\"showland\":true,\"showlakes\":true,\"lakecolor\":\"white\"},\"title\":{\"x\":0.05},\"mapbox\":{\"style\":\"light\"}}},\"xaxis\":{\"anchor\":\"y\",\"domain\":[0.0,1.0],\"title\":{\"text\":\"shapeName\"}},\"yaxis\":{\"anchor\":\"x\",\"domain\":[0.0,1.0],\"title\":{\"text\":\"total_sol\"}},\"legend\":{\"tracegroupgap\":0},\"margin\":{\"t\":60},\"boxmode\":\"group\"},                        {\"responsive\": true}                    ).then(function(){\n",
       "                            \n",
       "var gd = document.getElementById('7df4089e-1a02-4faa-8734-dd2e8cdcee70');\n",
       "var x = new MutationObserver(function (mutations, observer) {{\n",
       "        var display = window.getComputedStyle(gd).display;\n",
       "        if (!display || display === 'none') {{\n",
       "            console.log([gd, 'removed!']);\n",
       "            Plotly.purge(gd);\n",
       "            observer.disconnect();\n",
       "        }}\n",
       "}});\n",
       "\n",
       "// Listen for the removal of the full notebook cells\n",
       "var notebookContainer = gd.closest('#notebook-container');\n",
       "if (notebookContainer) {{\n",
       "    x.observe(notebookContainer, {childList: true});\n",
       "}}\n",
       "\n",
       "// Listen for the clearing of the current output cell\n",
       "var outputEl = gd.closest('.output');\n",
       "if (outputEl) {{\n",
       "    x.observe(outputEl, {childList: true});\n",
       "}}\n",
       "\n",
       "                        })                };                });            </script>        </div>"
      ]
     },
     "metadata": {},
     "output_type": "display_data"
    }
   ],
   "source": [
    "fig = px.box(ntl, x = \"shapeName\", y = \"total_sol\")\n",
    "fig.show()"
   ]
  },
  {
   "cell_type": "code",
   "execution_count": 14,
   "id": "df770437-82fd-4e84-bbee-aa7221ba2113",
   "metadata": {},
   "outputs": [],
   "source": [
    "df = px.data.tips()"
   ]
  },
  {
   "cell_type": "code",
   "execution_count": 15,
   "id": "d19e859f-b2e0-4896-8443-e1f5c2501aa5",
   "metadata": {},
   "outputs": [
    {
     "data": {
      "text/html": [
       "<div>\n",
       "<style scoped>\n",
       "    .dataframe tbody tr th:only-of-type {\n",
       "        vertical-align: middle;\n",
       "    }\n",
       "\n",
       "    .dataframe tbody tr th {\n",
       "        vertical-align: top;\n",
       "    }\n",
       "\n",
       "    .dataframe thead th {\n",
       "        text-align: right;\n",
       "    }\n",
       "</style>\n",
       "<table border=\"1\" class=\"dataframe\">\n",
       "  <thead>\n",
       "    <tr style=\"text-align: right;\">\n",
       "      <th></th>\n",
       "      <th>total_bill</th>\n",
       "      <th>tip</th>\n",
       "      <th>sex</th>\n",
       "      <th>smoker</th>\n",
       "      <th>day</th>\n",
       "      <th>time</th>\n",
       "      <th>size</th>\n",
       "    </tr>\n",
       "  </thead>\n",
       "  <tbody>\n",
       "    <tr>\n",
       "      <th>0</th>\n",
       "      <td>16.99</td>\n",
       "      <td>1.01</td>\n",
       "      <td>Female</td>\n",
       "      <td>No</td>\n",
       "      <td>Sun</td>\n",
       "      <td>Dinner</td>\n",
       "      <td>2</td>\n",
       "    </tr>\n",
       "    <tr>\n",
       "      <th>1</th>\n",
       "      <td>10.34</td>\n",
       "      <td>1.66</td>\n",
       "      <td>Male</td>\n",
       "      <td>No</td>\n",
       "      <td>Sun</td>\n",
       "      <td>Dinner</td>\n",
       "      <td>3</td>\n",
       "    </tr>\n",
       "    <tr>\n",
       "      <th>2</th>\n",
       "      <td>21.01</td>\n",
       "      <td>3.50</td>\n",
       "      <td>Male</td>\n",
       "      <td>No</td>\n",
       "      <td>Sun</td>\n",
       "      <td>Dinner</td>\n",
       "      <td>3</td>\n",
       "    </tr>\n",
       "    <tr>\n",
       "      <th>3</th>\n",
       "      <td>23.68</td>\n",
       "      <td>3.31</td>\n",
       "      <td>Male</td>\n",
       "      <td>No</td>\n",
       "      <td>Sun</td>\n",
       "      <td>Dinner</td>\n",
       "      <td>2</td>\n",
       "    </tr>\n",
       "    <tr>\n",
       "      <th>4</th>\n",
       "      <td>24.59</td>\n",
       "      <td>3.61</td>\n",
       "      <td>Female</td>\n",
       "      <td>No</td>\n",
       "      <td>Sun</td>\n",
       "      <td>Dinner</td>\n",
       "      <td>4</td>\n",
       "    </tr>\n",
       "  </tbody>\n",
       "</table>\n",
       "</div>"
      ],
      "text/plain": [
       "   total_bill   tip     sex smoker  day    time  size\n",
       "0       16.99  1.01  Female     No  Sun  Dinner     2\n",
       "1       10.34  1.66    Male     No  Sun  Dinner     3\n",
       "2       21.01  3.50    Male     No  Sun  Dinner     3\n",
       "3       23.68  3.31    Male     No  Sun  Dinner     2\n",
       "4       24.59  3.61  Female     No  Sun  Dinner     4"
      ]
     },
     "execution_count": 15,
     "metadata": {},
     "output_type": "execute_result"
    }
   ],
   "source": [
    "df.head()"
   ]
  },
  {
   "cell_type": "code",
   "execution_count": 16,
   "id": "41dced06-6472-469d-b9f2-626d45a3b248",
   "metadata": {},
   "outputs": [
    {
     "data": {
      "application/vnd.plotly.v1+json": {
       "config": {
        "plotlyServerURL": "https://plot.ly"
       },
       "data": [
        {
         "alignmentgroup": "True",
         "hovertemplate": "time=%{x}<br>total_bill=%{y}<extra></extra>",
         "legendgroup": "",
         "marker": {
          "color": "#636efa"
         },
         "name": "",
         "notched": false,
         "offsetgroup": "",
         "orientation": "v",
         "showlegend": false,
         "type": "box",
         "x": [
          "Dinner",
          "Dinner",
          "Dinner",
          "Dinner",
          "Dinner",
          "Dinner",
          "Dinner",
          "Dinner",
          "Dinner",
          "Dinner",
          "Dinner",
          "Dinner",
          "Dinner",
          "Dinner",
          "Dinner",
          "Dinner",
          "Dinner",
          "Dinner",
          "Dinner",
          "Dinner",
          "Dinner",
          "Dinner",
          "Dinner",
          "Dinner",
          "Dinner",
          "Dinner",
          "Dinner",
          "Dinner",
          "Dinner",
          "Dinner",
          "Dinner",
          "Dinner",
          "Dinner",
          "Dinner",
          "Dinner",
          "Dinner",
          "Dinner",
          "Dinner",
          "Dinner",
          "Dinner",
          "Dinner",
          "Dinner",
          "Dinner",
          "Dinner",
          "Dinner",
          "Dinner",
          "Dinner",
          "Dinner",
          "Dinner",
          "Dinner",
          "Dinner",
          "Dinner",
          "Dinner",
          "Dinner",
          "Dinner",
          "Dinner",
          "Dinner",
          "Dinner",
          "Dinner",
          "Dinner",
          "Dinner",
          "Dinner",
          "Dinner",
          "Dinner",
          "Dinner",
          "Dinner",
          "Dinner",
          "Dinner",
          "Dinner",
          "Dinner",
          "Dinner",
          "Dinner",
          "Dinner",
          "Dinner",
          "Dinner",
          "Dinner",
          "Dinner",
          "Lunch",
          "Lunch",
          "Lunch",
          "Lunch",
          "Lunch",
          "Lunch",
          "Lunch",
          "Lunch",
          "Lunch",
          "Lunch",
          "Lunch",
          "Lunch",
          "Lunch",
          "Dinner",
          "Dinner",
          "Dinner",
          "Dinner",
          "Dinner",
          "Dinner",
          "Dinner",
          "Dinner",
          "Dinner",
          "Dinner",
          "Dinner",
          "Dinner",
          "Dinner",
          "Dinner",
          "Dinner",
          "Dinner",
          "Dinner",
          "Dinner",
          "Dinner",
          "Dinner",
          "Dinner",
          "Dinner",
          "Dinner",
          "Dinner",
          "Dinner",
          "Dinner",
          "Dinner",
          "Lunch",
          "Lunch",
          "Lunch",
          "Lunch",
          "Lunch",
          "Lunch",
          "Lunch",
          "Lunch",
          "Lunch",
          "Lunch",
          "Lunch",
          "Lunch",
          "Lunch",
          "Lunch",
          "Lunch",
          "Lunch",
          "Lunch",
          "Lunch",
          "Lunch",
          "Lunch",
          "Lunch",
          "Lunch",
          "Lunch",
          "Lunch",
          "Lunch",
          "Lunch",
          "Lunch",
          "Lunch",
          "Lunch",
          "Lunch",
          "Lunch",
          "Lunch",
          "Lunch",
          "Dinner",
          "Dinner",
          "Dinner",
          "Dinner",
          "Dinner",
          "Dinner",
          "Dinner",
          "Dinner",
          "Dinner",
          "Dinner",
          "Dinner",
          "Dinner",
          "Dinner",
          "Dinner",
          "Dinner",
          "Dinner",
          "Dinner",
          "Dinner",
          "Dinner",
          "Dinner",
          "Dinner",
          "Dinner",
          "Dinner",
          "Dinner",
          "Dinner",
          "Dinner",
          "Dinner",
          "Dinner",
          "Dinner",
          "Dinner",
          "Dinner",
          "Dinner",
          "Dinner",
          "Dinner",
          "Dinner",
          "Dinner",
          "Dinner",
          "Dinner",
          "Dinner",
          "Dinner",
          "Dinner",
          "Lunch",
          "Lunch",
          "Lunch",
          "Lunch",
          "Lunch",
          "Lunch",
          "Lunch",
          "Lunch",
          "Lunch",
          "Lunch",
          "Lunch",
          "Lunch",
          "Lunch",
          "Lunch",
          "Lunch",
          "Dinner",
          "Dinner",
          "Dinner",
          "Dinner",
          "Dinner",
          "Dinner",
          "Dinner",
          "Dinner",
          "Dinner",
          "Dinner",
          "Dinner",
          "Dinner",
          "Dinner",
          "Dinner",
          "Lunch",
          "Lunch",
          "Lunch",
          "Lunch",
          "Lunch",
          "Lunch",
          "Lunch",
          "Dinner",
          "Dinner",
          "Dinner",
          "Dinner",
          "Dinner",
          "Dinner",
          "Dinner",
          "Dinner",
          "Dinner",
          "Dinner",
          "Dinner",
          "Dinner",
          "Dinner",
          "Dinner",
          "Dinner",
          "Dinner",
          "Dinner"
         ],
         "x0": " ",
         "xaxis": "x",
         "y": [
          16.99,
          10.34,
          21.01,
          23.68,
          24.59,
          25.29,
          8.77,
          26.88,
          15.04,
          14.78,
          10.27,
          35.26,
          15.42,
          18.43,
          14.83,
          21.58,
          10.33,
          16.29,
          16.97,
          20.65,
          17.92,
          20.29,
          15.77,
          39.42,
          19.82,
          17.81,
          13.37,
          12.69,
          21.7,
          19.65,
          9.55,
          18.35,
          15.06,
          20.69,
          17.78,
          24.06,
          16.31,
          16.93,
          18.69,
          31.27,
          16.04,
          17.46,
          13.94,
          9.68,
          30.4,
          18.29,
          22.23,
          32.4,
          28.55,
          18.04,
          12.54,
          10.29,
          34.81,
          9.94,
          25.56,
          19.49,
          38.01,
          26.41,
          11.24,
          48.27,
          20.29,
          13.81,
          11.02,
          18.29,
          17.59,
          20.08,
          16.45,
          3.07,
          20.23,
          15.01,
          12.02,
          17.07,
          26.86,
          25.28,
          14.73,
          10.51,
          17.92,
          27.2,
          22.76,
          17.29,
          19.44,
          16.66,
          10.07,
          32.68,
          15.98,
          34.83,
          13.03,
          18.28,
          24.71,
          21.16,
          28.97,
          22.49,
          5.75,
          16.32,
          22.75,
          40.17,
          27.28,
          12.03,
          21.01,
          12.46,
          11.35,
          15.38,
          44.3,
          22.42,
          20.92,
          15.36,
          20.49,
          25.21,
          18.24,
          14.31,
          14,
          7.25,
          38.07,
          23.95,
          25.71,
          17.31,
          29.93,
          10.65,
          12.43,
          24.08,
          11.69,
          13.42,
          14.26,
          15.95,
          12.48,
          29.8,
          8.52,
          14.52,
          11.38,
          22.82,
          19.08,
          20.27,
          11.17,
          12.26,
          18.26,
          8.51,
          10.33,
          14.15,
          16,
          13.16,
          17.47,
          34.3,
          41.19,
          27.05,
          16.43,
          8.35,
          18.64,
          11.87,
          9.78,
          7.51,
          14.07,
          13.13,
          17.26,
          24.55,
          19.77,
          29.85,
          48.17,
          25,
          13.39,
          16.49,
          21.5,
          12.66,
          16.21,
          13.81,
          17.51,
          24.52,
          20.76,
          31.71,
          10.59,
          10.63,
          50.81,
          15.81,
          7.25,
          31.85,
          16.82,
          32.9,
          17.89,
          14.48,
          9.6,
          34.63,
          34.65,
          23.33,
          45.35,
          23.17,
          40.55,
          20.69,
          20.9,
          30.46,
          18.15,
          23.1,
          15.69,
          19.81,
          28.44,
          15.48,
          16.58,
          7.56,
          10.34,
          43.11,
          13,
          13.51,
          18.71,
          12.74,
          13,
          16.4,
          20.53,
          16.47,
          26.59,
          38.73,
          24.27,
          12.76,
          30.06,
          25.89,
          48.33,
          13.27,
          28.17,
          12.9,
          28.15,
          11.59,
          7.74,
          30.14,
          12.16,
          13.42,
          8.58,
          15.98,
          13.42,
          16.27,
          10.09,
          20.45,
          13.28,
          22.12,
          24.01,
          15.69,
          11.61,
          10.77,
          15.53,
          10.07,
          12.6,
          32.83,
          35.83,
          29.03,
          27.18,
          22.67,
          17.82,
          18.78
         ],
         "y0": " ",
         "yaxis": "y"
        }
       ],
       "layout": {
        "autosize": true,
        "boxmode": "group",
        "legend": {
         "tracegroupgap": 0
        },
        "margin": {
         "t": 60
        },
        "template": {
         "data": {
          "bar": [
           {
            "error_x": {
             "color": "#2a3f5f"
            },
            "error_y": {
             "color": "#2a3f5f"
            },
            "marker": {
             "line": {
              "color": "#E5ECF6",
              "width": 0.5
             },
             "pattern": {
              "fillmode": "overlay",
              "size": 10,
              "solidity": 0.2
             }
            },
            "type": "bar"
           }
          ],
          "barpolar": [
           {
            "marker": {
             "line": {
              "color": "#E5ECF6",
              "width": 0.5
             },
             "pattern": {
              "fillmode": "overlay",
              "size": 10,
              "solidity": 0.2
             }
            },
            "type": "barpolar"
           }
          ],
          "carpet": [
           {
            "aaxis": {
             "endlinecolor": "#2a3f5f",
             "gridcolor": "white",
             "linecolor": "white",
             "minorgridcolor": "white",
             "startlinecolor": "#2a3f5f"
            },
            "baxis": {
             "endlinecolor": "#2a3f5f",
             "gridcolor": "white",
             "linecolor": "white",
             "minorgridcolor": "white",
             "startlinecolor": "#2a3f5f"
            },
            "type": "carpet"
           }
          ],
          "choropleth": [
           {
            "colorbar": {
             "outlinewidth": 0,
             "ticks": ""
            },
            "type": "choropleth"
           }
          ],
          "contour": [
           {
            "colorbar": {
             "outlinewidth": 0,
             "ticks": ""
            },
            "colorscale": [
             [
              0,
              "#0d0887"
             ],
             [
              0.1111111111111111,
              "#46039f"
             ],
             [
              0.2222222222222222,
              "#7201a8"
             ],
             [
              0.3333333333333333,
              "#9c179e"
             ],
             [
              0.4444444444444444,
              "#bd3786"
             ],
             [
              0.5555555555555556,
              "#d8576b"
             ],
             [
              0.6666666666666666,
              "#ed7953"
             ],
             [
              0.7777777777777778,
              "#fb9f3a"
             ],
             [
              0.8888888888888888,
              "#fdca26"
             ],
             [
              1,
              "#f0f921"
             ]
            ],
            "type": "contour"
           }
          ],
          "contourcarpet": [
           {
            "colorbar": {
             "outlinewidth": 0,
             "ticks": ""
            },
            "type": "contourcarpet"
           }
          ],
          "heatmap": [
           {
            "colorbar": {
             "outlinewidth": 0,
             "ticks": ""
            },
            "colorscale": [
             [
              0,
              "#0d0887"
             ],
             [
              0.1111111111111111,
              "#46039f"
             ],
             [
              0.2222222222222222,
              "#7201a8"
             ],
             [
              0.3333333333333333,
              "#9c179e"
             ],
             [
              0.4444444444444444,
              "#bd3786"
             ],
             [
              0.5555555555555556,
              "#d8576b"
             ],
             [
              0.6666666666666666,
              "#ed7953"
             ],
             [
              0.7777777777777778,
              "#fb9f3a"
             ],
             [
              0.8888888888888888,
              "#fdca26"
             ],
             [
              1,
              "#f0f921"
             ]
            ],
            "type": "heatmap"
           }
          ],
          "heatmapgl": [
           {
            "colorbar": {
             "outlinewidth": 0,
             "ticks": ""
            },
            "colorscale": [
             [
              0,
              "#0d0887"
             ],
             [
              0.1111111111111111,
              "#46039f"
             ],
             [
              0.2222222222222222,
              "#7201a8"
             ],
             [
              0.3333333333333333,
              "#9c179e"
             ],
             [
              0.4444444444444444,
              "#bd3786"
             ],
             [
              0.5555555555555556,
              "#d8576b"
             ],
             [
              0.6666666666666666,
              "#ed7953"
             ],
             [
              0.7777777777777778,
              "#fb9f3a"
             ],
             [
              0.8888888888888888,
              "#fdca26"
             ],
             [
              1,
              "#f0f921"
             ]
            ],
            "type": "heatmapgl"
           }
          ],
          "histogram": [
           {
            "marker": {
             "pattern": {
              "fillmode": "overlay",
              "size": 10,
              "solidity": 0.2
             }
            },
            "type": "histogram"
           }
          ],
          "histogram2d": [
           {
            "colorbar": {
             "outlinewidth": 0,
             "ticks": ""
            },
            "colorscale": [
             [
              0,
              "#0d0887"
             ],
             [
              0.1111111111111111,
              "#46039f"
             ],
             [
              0.2222222222222222,
              "#7201a8"
             ],
             [
              0.3333333333333333,
              "#9c179e"
             ],
             [
              0.4444444444444444,
              "#bd3786"
             ],
             [
              0.5555555555555556,
              "#d8576b"
             ],
             [
              0.6666666666666666,
              "#ed7953"
             ],
             [
              0.7777777777777778,
              "#fb9f3a"
             ],
             [
              0.8888888888888888,
              "#fdca26"
             ],
             [
              1,
              "#f0f921"
             ]
            ],
            "type": "histogram2d"
           }
          ],
          "histogram2dcontour": [
           {
            "colorbar": {
             "outlinewidth": 0,
             "ticks": ""
            },
            "colorscale": [
             [
              0,
              "#0d0887"
             ],
             [
              0.1111111111111111,
              "#46039f"
             ],
             [
              0.2222222222222222,
              "#7201a8"
             ],
             [
              0.3333333333333333,
              "#9c179e"
             ],
             [
              0.4444444444444444,
              "#bd3786"
             ],
             [
              0.5555555555555556,
              "#d8576b"
             ],
             [
              0.6666666666666666,
              "#ed7953"
             ],
             [
              0.7777777777777778,
              "#fb9f3a"
             ],
             [
              0.8888888888888888,
              "#fdca26"
             ],
             [
              1,
              "#f0f921"
             ]
            ],
            "type": "histogram2dcontour"
           }
          ],
          "mesh3d": [
           {
            "colorbar": {
             "outlinewidth": 0,
             "ticks": ""
            },
            "type": "mesh3d"
           }
          ],
          "parcoords": [
           {
            "line": {
             "colorbar": {
              "outlinewidth": 0,
              "ticks": ""
             }
            },
            "type": "parcoords"
           }
          ],
          "pie": [
           {
            "automargin": true,
            "type": "pie"
           }
          ],
          "scatter": [
           {
            "fillpattern": {
             "fillmode": "overlay",
             "size": 10,
             "solidity": 0.2
            },
            "type": "scatter"
           }
          ],
          "scatter3d": [
           {
            "line": {
             "colorbar": {
              "outlinewidth": 0,
              "ticks": ""
             }
            },
            "marker": {
             "colorbar": {
              "outlinewidth": 0,
              "ticks": ""
             }
            },
            "type": "scatter3d"
           }
          ],
          "scattercarpet": [
           {
            "marker": {
             "colorbar": {
              "outlinewidth": 0,
              "ticks": ""
             }
            },
            "type": "scattercarpet"
           }
          ],
          "scattergeo": [
           {
            "marker": {
             "colorbar": {
              "outlinewidth": 0,
              "ticks": ""
             }
            },
            "type": "scattergeo"
           }
          ],
          "scattergl": [
           {
            "marker": {
             "colorbar": {
              "outlinewidth": 0,
              "ticks": ""
             }
            },
            "type": "scattergl"
           }
          ],
          "scattermapbox": [
           {
            "marker": {
             "colorbar": {
              "outlinewidth": 0,
              "ticks": ""
             }
            },
            "type": "scattermapbox"
           }
          ],
          "scatterpolar": [
           {
            "marker": {
             "colorbar": {
              "outlinewidth": 0,
              "ticks": ""
             }
            },
            "type": "scatterpolar"
           }
          ],
          "scatterpolargl": [
           {
            "marker": {
             "colorbar": {
              "outlinewidth": 0,
              "ticks": ""
             }
            },
            "type": "scatterpolargl"
           }
          ],
          "scatterternary": [
           {
            "marker": {
             "colorbar": {
              "outlinewidth": 0,
              "ticks": ""
             }
            },
            "type": "scatterternary"
           }
          ],
          "surface": [
           {
            "colorbar": {
             "outlinewidth": 0,
             "ticks": ""
            },
            "colorscale": [
             [
              0,
              "#0d0887"
             ],
             [
              0.1111111111111111,
              "#46039f"
             ],
             [
              0.2222222222222222,
              "#7201a8"
             ],
             [
              0.3333333333333333,
              "#9c179e"
             ],
             [
              0.4444444444444444,
              "#bd3786"
             ],
             [
              0.5555555555555556,
              "#d8576b"
             ],
             [
              0.6666666666666666,
              "#ed7953"
             ],
             [
              0.7777777777777778,
              "#fb9f3a"
             ],
             [
              0.8888888888888888,
              "#fdca26"
             ],
             [
              1,
              "#f0f921"
             ]
            ],
            "type": "surface"
           }
          ],
          "table": [
           {
            "cells": {
             "fill": {
              "color": "#EBF0F8"
             },
             "line": {
              "color": "white"
             }
            },
            "header": {
             "fill": {
              "color": "#C8D4E3"
             },
             "line": {
              "color": "white"
             }
            },
            "type": "table"
           }
          ]
         },
         "layout": {
          "annotationdefaults": {
           "arrowcolor": "#2a3f5f",
           "arrowhead": 0,
           "arrowwidth": 1
          },
          "autotypenumbers": "strict",
          "coloraxis": {
           "colorbar": {
            "outlinewidth": 0,
            "ticks": ""
           }
          },
          "colorscale": {
           "diverging": [
            [
             0,
             "#8e0152"
            ],
            [
             0.1,
             "#c51b7d"
            ],
            [
             0.2,
             "#de77ae"
            ],
            [
             0.3,
             "#f1b6da"
            ],
            [
             0.4,
             "#fde0ef"
            ],
            [
             0.5,
             "#f7f7f7"
            ],
            [
             0.6,
             "#e6f5d0"
            ],
            [
             0.7,
             "#b8e186"
            ],
            [
             0.8,
             "#7fbc41"
            ],
            [
             0.9,
             "#4d9221"
            ],
            [
             1,
             "#276419"
            ]
           ],
           "sequential": [
            [
             0,
             "#0d0887"
            ],
            [
             0.1111111111111111,
             "#46039f"
            ],
            [
             0.2222222222222222,
             "#7201a8"
            ],
            [
             0.3333333333333333,
             "#9c179e"
            ],
            [
             0.4444444444444444,
             "#bd3786"
            ],
            [
             0.5555555555555556,
             "#d8576b"
            ],
            [
             0.6666666666666666,
             "#ed7953"
            ],
            [
             0.7777777777777778,
             "#fb9f3a"
            ],
            [
             0.8888888888888888,
             "#fdca26"
            ],
            [
             1,
             "#f0f921"
            ]
           ],
           "sequentialminus": [
            [
             0,
             "#0d0887"
            ],
            [
             0.1111111111111111,
             "#46039f"
            ],
            [
             0.2222222222222222,
             "#7201a8"
            ],
            [
             0.3333333333333333,
             "#9c179e"
            ],
            [
             0.4444444444444444,
             "#bd3786"
            ],
            [
             0.5555555555555556,
             "#d8576b"
            ],
            [
             0.6666666666666666,
             "#ed7953"
            ],
            [
             0.7777777777777778,
             "#fb9f3a"
            ],
            [
             0.8888888888888888,
             "#fdca26"
            ],
            [
             1,
             "#f0f921"
            ]
           ]
          },
          "colorway": [
           "#636efa",
           "#EF553B",
           "#00cc96",
           "#ab63fa",
           "#FFA15A",
           "#19d3f3",
           "#FF6692",
           "#B6E880",
           "#FF97FF",
           "#FECB52"
          ],
          "font": {
           "color": "#2a3f5f"
          },
          "geo": {
           "bgcolor": "white",
           "lakecolor": "white",
           "landcolor": "#E5ECF6",
           "showlakes": true,
           "showland": true,
           "subunitcolor": "white"
          },
          "hoverlabel": {
           "align": "left"
          },
          "hovermode": "closest",
          "mapbox": {
           "style": "light"
          },
          "paper_bgcolor": "white",
          "plot_bgcolor": "#E5ECF6",
          "polar": {
           "angularaxis": {
            "gridcolor": "white",
            "linecolor": "white",
            "ticks": ""
           },
           "bgcolor": "#E5ECF6",
           "radialaxis": {
            "gridcolor": "white",
            "linecolor": "white",
            "ticks": ""
           }
          },
          "scene": {
           "xaxis": {
            "backgroundcolor": "#E5ECF6",
            "gridcolor": "white",
            "gridwidth": 2,
            "linecolor": "white",
            "showbackground": true,
            "ticks": "",
            "zerolinecolor": "white"
           },
           "yaxis": {
            "backgroundcolor": "#E5ECF6",
            "gridcolor": "white",
            "gridwidth": 2,
            "linecolor": "white",
            "showbackground": true,
            "ticks": "",
            "zerolinecolor": "white"
           },
           "zaxis": {
            "backgroundcolor": "#E5ECF6",
            "gridcolor": "white",
            "gridwidth": 2,
            "linecolor": "white",
            "showbackground": true,
            "ticks": "",
            "zerolinecolor": "white"
           }
          },
          "shapedefaults": {
           "line": {
            "color": "#2a3f5f"
           }
          },
          "ternary": {
           "aaxis": {
            "gridcolor": "white",
            "linecolor": "white",
            "ticks": ""
           },
           "baxis": {
            "gridcolor": "white",
            "linecolor": "white",
            "ticks": ""
           },
           "bgcolor": "#E5ECF6",
           "caxis": {
            "gridcolor": "white",
            "linecolor": "white",
            "ticks": ""
           }
          },
          "title": {
           "x": 0.05
          },
          "xaxis": {
           "automargin": true,
           "gridcolor": "white",
           "linecolor": "white",
           "ticks": "",
           "title": {
            "standoff": 15
           },
           "zerolinecolor": "white",
           "zerolinewidth": 2
          },
          "yaxis": {
           "automargin": true,
           "gridcolor": "white",
           "linecolor": "white",
           "ticks": "",
           "title": {
            "standoff": 15
           },
           "zerolinecolor": "white",
           "zerolinewidth": 2
          }
         }
        },
        "xaxis": {
         "anchor": "y",
         "autorange": true,
         "domain": [
          0,
          1
         ],
         "range": [
          -0.5,
          1.5
         ],
         "title": {
          "text": "time"
         },
         "type": "category"
        },
        "yaxis": {
         "anchor": "x",
         "autorange": true,
         "domain": [
          0,
          1
         ],
         "range": [
          0.4177777777777778,
          53.46222222222222
         ],
         "title": {
          "text": "total_bill"
         },
         "type": "linear"
        }
       }
      },
      "image/png": "[encoded data removed]",
      "text/html": [
       "<div>                            <div id=\"c6f27461-5183-4d74-aaa0-5aafdba4284f\" class=\"plotly-graph-div\" style=\"height:525px; width:100%;\"></div>            <script type=\"text/javascript\">                require([\"plotly\"], function(Plotly) {                    window.PLOTLYENV=window.PLOTLYENV || {};                                    if (document.getElementById(\"c6f27461-5183-4d74-aaa0-5aafdba4284f\")) {                    Plotly.newPlot(                        \"c6f27461-5183-4d74-aaa0-5aafdba4284f\",                        [{\"alignmentgroup\":\"True\",\"hovertemplate\":\"time=%{x}\\u003cbr\\u003etotal_bill=%{y}\\u003cextra\\u003e\\u003c\\u002fextra\\u003e\",\"legendgroup\":\"\",\"marker\":{\"color\":\"#636efa\"},\"name\":\"\",\"notched\":false,\"offsetgroup\":\"\",\"orientation\":\"v\",\"showlegend\":false,\"x\":[\"Dinner\",\"Dinner\",\"Dinner\",\"Dinner\",\"Dinner\",\"Dinner\",\"Dinner\",\"Dinner\",\"Dinner\",\"Dinner\",\"Dinner\",\"Dinner\",\"Dinner\",\"Dinner\",\"Dinner\",\"Dinner\",\"Dinner\",\"Dinner\",\"Dinner\",\"Dinner\",\"Dinner\",\"Dinner\",\"Dinner\",\"Dinner\",\"Dinner\",\"Dinner\",\"Dinner\",\"Dinner\",\"Dinner\",\"Dinner\",\"Dinner\",\"Dinner\",\"Dinner\",\"Dinner\",\"Dinner\",\"Dinner\",\"Dinner\",\"Dinner\",\"Dinner\",\"Dinner\",\"Dinner\",\"Dinner\",\"Dinner\",\"Dinner\",\"Dinner\",\"Dinner\",\"Dinner\",\"Dinner\",\"Dinner\",\"Dinner\",\"Dinner\",\"Dinner\",\"Dinner\",\"Dinner\",\"Dinner\",\"Dinner\",\"Dinner\",\"Dinner\",\"Dinner\",\"Dinner\",\"Dinner\",\"Dinner\",\"Dinner\",\"Dinner\",\"Dinner\",\"Dinner\",\"Dinner\",\"Dinner\",\"Dinner\",\"Dinner\",\"Dinner\",\"Dinner\",\"Dinner\",\"Dinner\",\"Dinner\",\"Dinner\",\"Dinner\",\"Lunch\",\"Lunch\",\"Lunch\",\"Lunch\",\"Lunch\",\"Lunch\",\"Lunch\",\"Lunch\",\"Lunch\",\"Lunch\",\"Lunch\",\"Lunch\",\"Lunch\",\"Dinner\",\"Dinner\",\"Dinner\",\"Dinner\",\"Dinner\",\"Dinner\",\"Dinner\",\"Dinner\",\"Dinner\",\"Dinner\",\"Dinner\",\"Dinner\",\"Dinner\",\"Dinner\",\"Dinner\",\"Dinner\",\"Dinner\",\"Dinner\",\"Dinner\",\"Dinner\",\"Dinner\",\"Dinner\",\"Dinner\",\"Dinner\",\"Dinner\",\"Dinner\",\"Dinner\",\"Lunch\",\"Lunch\",\"Lunch\",\"Lunch\",\"Lunch\",\"Lunch\",\"Lunch\",\"Lunch\",\"Lunch\",\"Lunch\",\"Lunch\",\"Lunch\",\"Lunch\",\"Lunch\",\"Lunch\",\"Lunch\",\"Lunch\",\"Lunch\",\"Lunch\",\"Lunch\",\"Lunch\",\"Lunch\",\"Lunch\",\"Lunch\",\"Lunch\",\"Lunch\",\"Lunch\",\"Lunch\",\"Lunch\",\"Lunch\",\"Lunch\",\"Lunch\",\"Lunch\",\"Dinner\",\"Dinner\",\"Dinner\",\"Dinner\",\"Dinner\",\"Dinner\",\"Dinner\",\"Dinner\",\"Dinner\",\"Dinner\",\"Dinner\",\"Dinner\",\"Dinner\",\"Dinner\",\"Dinner\",\"Dinner\",\"Dinner\",\"Dinner\",\"Dinner\",\"Dinner\",\"Dinner\",\"Dinner\",\"Dinner\",\"Dinner\",\"Dinner\",\"Dinner\",\"Dinner\",\"Dinner\",\"Dinner\",\"Dinner\",\"Dinner\",\"Dinner\",\"Dinner\",\"Dinner\",\"Dinner\",\"Dinner\",\"Dinner\",\"Dinner\",\"Dinner\",\"Dinner\",\"Dinner\",\"Lunch\",\"Lunch\",\"Lunch\",\"Lunch\",\"Lunch\",\"Lunch\",\"Lunch\",\"Lunch\",\"Lunch\",\"Lunch\",\"Lunch\",\"Lunch\",\"Lunch\",\"Lunch\",\"Lunch\",\"Dinner\",\"Dinner\",\"Dinner\",\"Dinner\",\"Dinner\",\"Dinner\",\"Dinner\",\"Dinner\",\"Dinner\",\"Dinner\",\"Dinner\",\"Dinner\",\"Dinner\",\"Dinner\",\"Lunch\",\"Lunch\",\"Lunch\",\"Lunch\",\"Lunch\",\"Lunch\",\"Lunch\",\"Dinner\",\"Dinner\",\"Dinner\",\"Dinner\",\"Dinner\",\"Dinner\",\"Dinner\",\"Dinner\",\"Dinner\",\"Dinner\",\"Dinner\",\"Dinner\",\"Dinner\",\"Dinner\",\"Dinner\",\"Dinner\",\"Dinner\"],\"x0\":\" \",\"xaxis\":\"x\",\"y\":[16.99,10.34,21.01,23.68,24.59,25.29,8.77,26.88,15.04,14.78,10.27,35.26,15.42,18.43,14.83,21.58,10.33,16.29,16.97,20.65,17.92,20.29,15.77,39.42,19.82,17.81,13.37,12.69,21.7,19.65,9.55,18.35,15.06,20.69,17.78,24.06,16.31,16.93,18.69,31.27,16.04,17.46,13.94,9.68,30.4,18.29,22.23,32.4,28.55,18.04,12.54,10.29,34.81,9.94,25.56,19.49,38.01,26.41,11.24,48.27,20.29,13.81,11.02,18.29,17.59,20.08,16.45,3.07,20.23,15.01,12.02,17.07,26.86,25.28,14.73,10.51,17.92,27.2,22.76,17.29,19.44,16.66,10.07,32.68,15.98,34.83,13.03,18.28,24.71,21.16,28.97,22.49,5.75,16.32,22.75,40.17,27.28,12.03,21.01,12.46,11.35,15.38,44.3,22.42,20.92,15.36,20.49,25.21,18.24,14.31,14.0,7.25,38.07,23.95,25.71,17.31,29.93,10.65,12.43,24.08,11.69,13.42,14.26,15.95,12.48,29.8,8.52,14.52,11.38,22.82,19.08,20.27,11.17,12.26,18.26,8.51,10.33,14.15,16.0,13.16,17.47,34.3,41.19,27.05,16.43,8.35,18.64,11.87,9.78,7.51,14.07,13.13,17.26,24.55,19.77,29.85,48.17,25.0,13.39,16.49,21.5,12.66,16.21,13.81,17.51,24.52,20.76,31.71,10.59,10.63,50.81,15.81,7.25,31.85,16.82,32.9,17.89,14.48,9.6,34.63,34.65,23.33,45.35,23.17,40.55,20.69,20.9,30.46,18.15,23.1,15.69,19.81,28.44,15.48,16.58,7.56,10.34,43.11,13.0,13.51,18.71,12.74,13.0,16.4,20.53,16.47,26.59,38.73,24.27,12.76,30.06,25.89,48.33,13.27,28.17,12.9,28.15,11.59,7.74,30.14,12.16,13.42,8.58,15.98,13.42,16.27,10.09,20.45,13.28,22.12,24.01,15.69,11.61,10.77,15.53,10.07,12.6,32.83,35.83,29.03,27.18,22.67,17.82,18.78],\"y0\":\" \",\"yaxis\":\"y\",\"type\":\"box\"}],                        {\"template\":{\"data\":{\"histogram2dcontour\":[{\"type\":\"histogram2dcontour\",\"colorbar\":{\"outlinewidth\":0,\"ticks\":\"\"},\"colorscale\":[[0.0,\"#0d0887\"],[0.1111111111111111,\"#46039f\"],[0.2222222222222222,\"#7201a8\"],[0.3333333333333333,\"#9c179e\"],[0.4444444444444444,\"#bd3786\"],[0.5555555555555556,\"#d8576b\"],[0.6666666666666666,\"#ed7953\"],[0.7777777777777778,\"#fb9f3a\"],[0.8888888888888888,\"#fdca26\"],[1.0,\"#f0f921\"]]}],\"choropleth\":[{\"type\":\"choropleth\",\"colorbar\":{\"outlinewidth\":0,\"ticks\":\"\"}}],\"histogram2d\":[{\"type\":\"histogram2d\",\"colorbar\":{\"outlinewidth\":0,\"ticks\":\"\"},\"colorscale\":[[0.0,\"#0d0887\"],[0.1111111111111111,\"#46039f\"],[0.2222222222222222,\"#7201a8\"],[0.3333333333333333,\"#9c179e\"],[0.4444444444444444,\"#bd3786\"],[0.5555555555555556,\"#d8576b\"],[0.6666666666666666,\"#ed7953\"],[0.7777777777777778,\"#fb9f3a\"],[0.8888888888888888,\"#fdca26\"],[1.0,\"#f0f921\"]]}],\"heatmap\":[{\"type\":\"heatmap\",\"colorbar\":{\"outlinewidth\":0,\"ticks\":\"\"},\"colorscale\":[[0.0,\"#0d0887\"],[0.1111111111111111,\"#46039f\"],[0.2222222222222222,\"#7201a8\"],[0.3333333333333333,\"#9c179e\"],[0.4444444444444444,\"#bd3786\"],[0.5555555555555556,\"#d8576b\"],[0.6666666666666666,\"#ed7953\"],[0.7777777777777778,\"#fb9f3a\"],[0.8888888888888888,\"#fdca26\"],[1.0,\"#f0f921\"]]}],\"heatmapgl\":[{\"type\":\"heatmapgl\",\"colorbar\":{\"outlinewidth\":0,\"ticks\":\"\"},\"colorscale\":[[0.0,\"#0d0887\"],[0.1111111111111111,\"#46039f\"],[0.2222222222222222,\"#7201a8\"],[0.3333333333333333,\"#9c179e\"],[0.4444444444444444,\"#bd3786\"],[0.5555555555555556,\"#d8576b\"],[0.6666666666666666,\"#ed7953\"],[0.7777777777777778,\"#fb9f3a\"],[0.8888888888888888,\"#fdca26\"],[1.0,\"#f0f921\"]]}],\"contourcarpet\":[{\"type\":\"contourcarpet\",\"colorbar\":{\"outlinewidth\":0,\"ticks\":\"\"}}],\"contour\":[{\"type\":\"contour\",\"colorbar\":{\"outlinewidth\":0,\"ticks\":\"\"},\"colorscale\":[[0.0,\"#0d0887\"],[0.1111111111111111,\"#46039f\"],[0.2222222222222222,\"#7201a8\"],[0.3333333333333333,\"#9c179e\"],[0.4444444444444444,\"#bd3786\"],[0.5555555555555556,\"#d8576b\"],[0.6666666666666666,\"#ed7953\"],[0.7777777777777778,\"#fb9f3a\"],[0.8888888888888888,\"#fdca26\"],[1.0,\"#f0f921\"]]}],\"surface\":[{\"type\":\"surface\",\"colorbar\":{\"outlinewidth\":0,\"ticks\":\"\"},\"colorscale\":[[0.0,\"#0d0887\"],[0.1111111111111111,\"#46039f\"],[0.2222222222222222,\"#7201a8\"],[0.3333333333333333,\"#9c179e\"],[0.4444444444444444,\"#bd3786\"],[0.5555555555555556,\"#d8576b\"],[0.6666666666666666,\"#ed7953\"],[0.7777777777777778,\"#fb9f3a\"],[0.8888888888888888,\"#fdca26\"],[1.0,\"#f0f921\"]]}],\"mesh3d\":[{\"type\":\"mesh3d\",\"colorbar\":{\"outlinewidth\":0,\"ticks\":\"\"}}],\"scatter\":[{\"fillpattern\":{\"fillmode\":\"overlay\",\"size\":10,\"solidity\":0.2},\"type\":\"scatter\"}],\"parcoords\":[{\"type\":\"parcoords\",\"line\":{\"colorbar\":{\"outlinewidth\":0,\"ticks\":\"\"}}}],\"scatterpolargl\":[{\"type\":\"scatterpolargl\",\"marker\":{\"colorbar\":{\"outlinewidth\":0,\"ticks\":\"\"}}}],\"bar\":[{\"error_x\":{\"color\":\"#2a3f5f\"},\"error_y\":{\"color\":\"#2a3f5f\"},\"marker\":{\"line\":{\"color\":\"#E5ECF6\",\"width\":0.5},\"pattern\":{\"fillmode\":\"overlay\",\"size\":10,\"solidity\":0.2}},\"type\":\"bar\"}],\"scattergeo\":[{\"type\":\"scattergeo\",\"marker\":{\"colorbar\":{\"outlinewidth\":0,\"ticks\":\"\"}}}],\"scatterpolar\":[{\"type\":\"scatterpolar\",\"marker\":{\"colorbar\":{\"outlinewidth\":0,\"ticks\":\"\"}}}],\"histogram\":[{\"marker\":{\"pattern\":{\"fillmode\":\"overlay\",\"size\":10,\"solidity\":0.2}},\"type\":\"histogram\"}],\"scattergl\":[{\"type\":\"scattergl\",\"marker\":{\"colorbar\":{\"outlinewidth\":0,\"ticks\":\"\"}}}],\"scatter3d\":[{\"type\":\"scatter3d\",\"line\":{\"colorbar\":{\"outlinewidth\":0,\"ticks\":\"\"}},\"marker\":{\"colorbar\":{\"outlinewidth\":0,\"ticks\":\"\"}}}],\"scattermapbox\":[{\"type\":\"scattermapbox\",\"marker\":{\"colorbar\":{\"outlinewidth\":0,\"ticks\":\"\"}}}],\"scatterternary\":[{\"type\":\"scatterternary\",\"marker\":{\"colorbar\":{\"outlinewidth\":0,\"ticks\":\"\"}}}],\"scattercarpet\":[{\"type\":\"scattercarpet\",\"marker\":{\"colorbar\":{\"outlinewidth\":0,\"ticks\":\"\"}}}],\"carpet\":[{\"aaxis\":{\"endlinecolor\":\"#2a3f5f\",\"gridcolor\":\"white\",\"linecolor\":\"white\",\"minorgridcolor\":\"white\",\"startlinecolor\":\"#2a3f5f\"},\"baxis\":{\"endlinecolor\":\"#2a3f5f\",\"gridcolor\":\"white\",\"linecolor\":\"white\",\"minorgridcolor\":\"white\",\"startlinecolor\":\"#2a3f5f\"},\"type\":\"carpet\"}],\"table\":[{\"cells\":{\"fill\":{\"color\":\"#EBF0F8\"},\"line\":{\"color\":\"white\"}},\"header\":{\"fill\":{\"color\":\"#C8D4E3\"},\"line\":{\"color\":\"white\"}},\"type\":\"table\"}],\"barpolar\":[{\"marker\":{\"line\":{\"color\":\"#E5ECF6\",\"width\":0.5},\"pattern\":{\"fillmode\":\"overlay\",\"size\":10,\"solidity\":0.2}},\"type\":\"barpolar\"}],\"pie\":[{\"automargin\":true,\"type\":\"pie\"}]},\"layout\":{\"autotypenumbers\":\"strict\",\"colorway\":[\"#636efa\",\"#EF553B\",\"#00cc96\",\"#ab63fa\",\"#FFA15A\",\"#19d3f3\",\"#FF6692\",\"#B6E880\",\"#FF97FF\",\"#FECB52\"],\"font\":{\"color\":\"#2a3f5f\"},\"hovermode\":\"closest\",\"hoverlabel\":{\"align\":\"left\"},\"paper_bgcolor\":\"white\",\"plot_bgcolor\":\"#E5ECF6\",\"polar\":{\"bgcolor\":\"#E5ECF6\",\"angularaxis\":{\"gridcolor\":\"white\",\"linecolor\":\"white\",\"ticks\":\"\"},\"radialaxis\":{\"gridcolor\":\"white\",\"linecolor\":\"white\",\"ticks\":\"\"}},\"ternary\":{\"bgcolor\":\"#E5ECF6\",\"aaxis\":{\"gridcolor\":\"white\",\"linecolor\":\"white\",\"ticks\":\"\"},\"baxis\":{\"gridcolor\":\"white\",\"linecolor\":\"white\",\"ticks\":\"\"},\"caxis\":{\"gridcolor\":\"white\",\"linecolor\":\"white\",\"ticks\":\"\"}},\"coloraxis\":{\"colorbar\":{\"outlinewidth\":0,\"ticks\":\"\"}},\"colorscale\":{\"sequential\":[[0.0,\"#0d0887\"],[0.1111111111111111,\"#46039f\"],[0.2222222222222222,\"#7201a8\"],[0.3333333333333333,\"#9c179e\"],[0.4444444444444444,\"#bd3786\"],[0.5555555555555556,\"#d8576b\"],[0.6666666666666666,\"#ed7953\"],[0.7777777777777778,\"#fb9f3a\"],[0.8888888888888888,\"#fdca26\"],[1.0,\"#f0f921\"]],\"sequentialminus\":[[0.0,\"#0d0887\"],[0.1111111111111111,\"#46039f\"],[0.2222222222222222,\"#7201a8\"],[0.3333333333333333,\"#9c179e\"],[0.4444444444444444,\"#bd3786\"],[0.5555555555555556,\"#d8576b\"],[0.6666666666666666,\"#ed7953\"],[0.7777777777777778,\"#fb9f3a\"],[0.8888888888888888,\"#fdca26\"],[1.0,\"#f0f921\"]],\"diverging\":[[0,\"#8e0152\"],[0.1,\"#c51b7d\"],[0.2,\"#de77ae\"],[0.3,\"#f1b6da\"],[0.4,\"#fde0ef\"],[0.5,\"#f7f7f7\"],[0.6,\"#e6f5d0\"],[0.7,\"#b8e186\"],[0.8,\"#7fbc41\"],[0.9,\"#4d9221\"],[1,\"#276419\"]]},\"xaxis\":{\"gridcolor\":\"white\",\"linecolor\":\"white\",\"ticks\":\"\",\"title\":{\"standoff\":15},\"zerolinecolor\":\"white\",\"automargin\":true,\"zerolinewidth\":2},\"yaxis\":{\"gridcolor\":\"white\",\"linecolor\":\"white\",\"ticks\":\"\",\"title\":{\"standoff\":15},\"zerolinecolor\":\"white\",\"automargin\":true,\"zerolinewidth\":2},\"scene\":{\"xaxis\":{\"backgroundcolor\":\"#E5ECF6\",\"gridcolor\":\"white\",\"linecolor\":\"white\",\"showbackground\":true,\"ticks\":\"\",\"zerolinecolor\":\"white\",\"gridwidth\":2},\"yaxis\":{\"backgroundcolor\":\"#E5ECF6\",\"gridcolor\":\"white\",\"linecolor\":\"white\",\"showbackground\":true,\"ticks\":\"\",\"zerolinecolor\":\"white\",\"gridwidth\":2},\"zaxis\":{\"backgroundcolor\":\"#E5ECF6\",\"gridcolor\":\"white\",\"linecolor\":\"white\",\"showbackground\":true,\"ticks\":\"\",\"zerolinecolor\":\"white\",\"gridwidth\":2}},\"shapedefaults\":{\"line\":{\"color\":\"#2a3f5f\"}},\"annotationdefaults\":{\"arrowcolor\":\"#2a3f5f\",\"arrowhead\":0,\"arrowwidth\":1},\"geo\":{\"bgcolor\":\"white\",\"landcolor\":\"#E5ECF6\",\"subunitcolor\":\"white\",\"showland\":true,\"showlakes\":true,\"lakecolor\":\"white\"},\"title\":{\"x\":0.05},\"mapbox\":{\"style\":\"light\"}}},\"xaxis\":{\"anchor\":\"y\",\"domain\":[0.0,1.0],\"title\":{\"text\":\"time\"}},\"yaxis\":{\"anchor\":\"x\",\"domain\":[0.0,1.0],\"title\":{\"text\":\"total_bill\"}},\"legend\":{\"tracegroupgap\":0},\"margin\":{\"t\":60},\"boxmode\":\"group\"},                        {\"responsive\": true}                    ).then(function(){\n",
       "                            \n",
       "var gd = document.getElementById('c6f27461-5183-4d74-aaa0-5aafdba4284f');\n",
       "var x = new MutationObserver(function (mutations, observer) {{\n",
       "        var display = window.getComputedStyle(gd).display;\n",
       "        if (!display || display === 'none') {{\n",
       "            console.log([gd, 'removed!']);\n",
       "            Plotly.purge(gd);\n",
       "            observer.disconnect();\n",
       "        }}\n",
       "}});\n",
       "\n",
       "// Listen for the removal of the full notebook cells\n",
       "var notebookContainer = gd.closest('#notebook-container');\n",
       "if (notebookContainer) {{\n",
       "    x.observe(notebookContainer, {childList: true});\n",
       "}}\n",
       "\n",
       "// Listen for the clearing of the current output cell\n",
       "var outputEl = gd.closest('.output');\n",
       "if (outputEl) {{\n",
       "    x.observe(outputEl, {childList: true});\n",
       "}}\n",
       "\n",
       "                        })                };                });            </script>        </div>"
      ]
     },
     "metadata": {},
     "output_type": "display_data"
    }
   ],
   "source": [
    "fig = px.box(df, x = \"time\", y = \"total_bill\")\n",
    "fig.show()"
   ]
  },
  {
   "cell_type": "code",
   "execution_count": null,
   "id": "ea3b186b-822f-4ef4-b3db-ec8e02da7795",
   "metadata": {},
   "outputs": [],
   "source": []
  },
  {
   "cell_type": "code",
   "execution_count": 17,
   "id": "2e5a258d-47e8-4797-bc6e-48e79dba3bc2",
   "metadata": {},
   "outputs": [],
   "source": [
    "ntl_wide_name = pd.merge(ntl_wide, ntl[[\"id\",\"shapeName\"]], on='id', how='left')"
   ]
  },
  {
   "cell_type": "code",
   "execution_count": null,
   "id": "4868d903-9383-4437-b24b-01f8ecb0e9cc",
   "metadata": {},
   "outputs": [],
   "source": []
  }
 ],
 "metadata": {
  "kernelspec": {
   "display_name": "Python 3 (ipykernel)",
   "language": "python",
   "name": "python3"
  },
  "language_info": {
   "codemirror_mode": {
    "name": "ipython",
    "version": 3
   },
   "file_extension": ".py",
   "mimetype": "text/x-python",
   "name": "python",
   "nbconvert_exporter": "python",
   "pygments_lexer": "ipython3",
   "version": "3.12.0"
  }
 },
 "nbformat": 4,
 "nbformat_minor": 5
}
