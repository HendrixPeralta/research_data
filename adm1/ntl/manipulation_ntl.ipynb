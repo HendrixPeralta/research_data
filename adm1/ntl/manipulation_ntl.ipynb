{
 "cells": [
  {
   "cell_type": "code",
   "execution_count": 1,
   "id": "b6347afb-6b5b-4a3c-beb7-d1bdbd7fce86",
   "metadata": {},
   "outputs": [],
   "source": [
    "import pandas as pd "
   ]
  },
  {
   "cell_type": "code",
   "execution_count": 2,
   "id": "b84b48db-153a-46a7-a10c-6bda948becf3",
   "metadata": {},
   "outputs": [],
   "source": [
    "import seaborn as sns"
   ]
  },
  {
   "cell_type": "code",
   "execution_count": 3,
   "id": "90ba3930-fe6d-4490-8bee-c546465c7125",
   "metadata": {},
   "outputs": [],
   "source": [
    "import matplotlib.pyplot as plt"
   ]
  },
  {
   "cell_type": "code",
   "execution_count": 4,
   "id": "2bafb73f-0d03-478d-9f8a-bcb543afc269",
   "metadata": {},
   "outputs": [],
   "source": [
    "import numpy as np"
   ]
  },
  {
   "cell_type": "code",
   "execution_count": 5,
   "id": "2d04171a-b6a6-4c16-87a4-3bab13c19347",
   "metadata": {},
   "outputs": [],
   "source": [
    "import plotly.express as px"
   ]
  },
  {
   "cell_type": "code",
   "execution_count": 6,
   "id": "aa76d398-f029-4e9d-96a7-fc0a931b0a72",
   "metadata": {},
   "outputs": [
    {
     "data": {
      "text/html": [
       "        <script type=\"text/javascript\">\n",
       "        window.PlotlyConfig = {MathJaxConfig: 'local'};\n",
       "        if (window.MathJax && window.MathJax.Hub && window.MathJax.Hub.Config) {window.MathJax.Hub.Config({SVG: {font: \"STIX-Web\"}});}\n",
       "        if (typeof require !== 'undefined') {\n",
       "        require.undef(\"plotly\");\n",
       "        requirejs.config({\n",
       "            paths: {\n",
       "                'plotly': ['https://cdn.plot.ly/plotly-2.31.1.min']\n",
       "            }\n",
       "        });\n",
       "        require(['plotly'], function(Plotly) {\n",
       "            window._Plotly = Plotly;\n",
       "        });\n",
       "        }\n",
       "        </script>\n",
       "        "
      ]
     },
     "metadata": {},
     "output_type": "display_data"
    }
   ],
   "source": [
    "from plotly.offline import init_notebook_mode\n",
    "init_notebook_mode(connected=True)"
   ]
  },
  {
   "cell_type": "code",
   "execution_count": 7,
   "id": "8761fad3-cbee-4f2e-8df2-88d0eb3fac47",
   "metadata": {},
   "outputs": [],
   "source": [
    "ntl = pd.read_csv(\"sum_ntl_adm1_2000_2021.csv\")"
   ]
  },
  {
   "cell_type": "code",
   "execution_count": 8,
   "id": "6944fba4-d699-49f8-bc00-c64459ef6dbb",
   "metadata": {},
   "outputs": [],
   "source": [
    "ntl_mean = pd.read_csv(\"mean_ntl_adm1_2000_2021.csv\")"
   ]
  },
  {
   "cell_type": "code",
   "execution_count": null,
   "id": "66118878-a702-4a67-b814-efa00f76c3de",
   "metadata": {},
   "outputs": [],
   "source": []
  },
  {
   "cell_type": "code",
   "execution_count": 15,
   "id": "6e93fd23-462f-47a4-80e0-e578022e780f",
   "metadata": {},
   "outputs": [],
   "source": [
    "ntl_wide = ntl_mean.pivot(index = [\"id\", \"shapeName\"], columns = \"year\", values = \"total_sol\")"
   ]
  },
  {
   "cell_type": "code",
   "execution_count": 21,
   "id": "ebbbf898-83ab-4775-8185-106e7f6c0241",
   "metadata": {},
   "outputs": [],
   "source": [
    "ntl_wide = ntl_wide.add_prefix(\"ntl\")"
   ]
  },
  {
   "cell_type": "code",
   "execution_count": 22,
   "id": "bb55e9a1-5cd0-487b-8e4c-be3f6ef75033",
   "metadata": {},
   "outputs": [],
   "source": [
    "ntl_wide.to_csv(\"wide_ntl_adm1_2000_2021.csv\")"
   ]
  },
  {
   "cell_type": "code",
   "execution_count": null,
   "id": "8235b99b-6e93-4d81-8f5e-4451c17a9a4e",
   "metadata": {},
   "outputs": [],
   "source": []
  },
  {
   "cell_type": "code",
   "execution_count": 23,
   "id": "296f624c-d73a-489e-8c9a-da1140ec82f1",
   "metadata": {},
   "outputs": [
    {
     "data": {
      "text/html": [
       "<div>\n",
       "<style scoped>\n",
       "    .dataframe tbody tr th:only-of-type {\n",
       "        vertical-align: middle;\n",
       "    }\n",
       "\n",
       "    .dataframe tbody tr th {\n",
       "        vertical-align: top;\n",
       "    }\n",
       "\n",
       "    .dataframe thead th {\n",
       "        text-align: right;\n",
       "    }\n",
       "</style>\n",
       "<table border=\"1\" class=\"dataframe\">\n",
       "  <thead>\n",
       "    <tr style=\"text-align: right;\">\n",
       "      <th></th>\n",
       "      <th>year</th>\n",
       "      <th>ntl2000</th>\n",
       "      <th>ntl2001</th>\n",
       "      <th>ntl2002</th>\n",
       "      <th>ntl2003</th>\n",
       "      <th>ntl2004</th>\n",
       "      <th>ntl2005</th>\n",
       "      <th>ntl2006</th>\n",
       "      <th>ntl2007</th>\n",
       "      <th>ntl2008</th>\n",
       "      <th>ntl2009</th>\n",
       "      <th>...</th>\n",
       "      <th>ntl2013</th>\n",
       "      <th>ntl2014</th>\n",
       "      <th>ntl2015</th>\n",
       "      <th>ntl2016</th>\n",
       "      <th>ntl2017</th>\n",
       "      <th>ntl2018</th>\n",
       "      <th>ntl2019</th>\n",
       "      <th>ntl2020</th>\n",
       "      <th>ntl2021</th>\n",
       "      <th>ntl2022</th>\n",
       "    </tr>\n",
       "    <tr>\n",
       "      <th>id</th>\n",
       "      <th>shapeName</th>\n",
       "      <th></th>\n",
       "      <th></th>\n",
       "      <th></th>\n",
       "      <th></th>\n",
       "      <th></th>\n",
       "      <th></th>\n",
       "      <th></th>\n",
       "      <th></th>\n",
       "      <th></th>\n",
       "      <th></th>\n",
       "      <th></th>\n",
       "      <th></th>\n",
       "      <th></th>\n",
       "      <th></th>\n",
       "      <th></th>\n",
       "      <th></th>\n",
       "      <th></th>\n",
       "      <th></th>\n",
       "      <th></th>\n",
       "      <th></th>\n",
       "      <th></th>\n",
       "    </tr>\n",
       "  </thead>\n",
       "  <tbody>\n",
       "    <tr>\n",
       "      <th>0</th>\n",
       "      <th>Santiago</th>\n",
       "      <td>0.411050</td>\n",
       "      <td>0.658356</td>\n",
       "      <td>0.783749</td>\n",
       "      <td>0.609885</td>\n",
       "      <td>0.367840</td>\n",
       "      <td>0.376783</td>\n",
       "      <td>0.614950</td>\n",
       "      <td>0.534931</td>\n",
       "      <td>0.486996</td>\n",
       "      <td>0.486592</td>\n",
       "      <td>...</td>\n",
       "      <td>1.239927</td>\n",
       "      <td>1.412117</td>\n",
       "      <td>1.521182</td>\n",
       "      <td>1.451923</td>\n",
       "      <td>1.670556</td>\n",
       "      <td>1.884374</td>\n",
       "      <td>2.060163</td>\n",
       "      <td>2.057762</td>\n",
       "      <td>2.322028</td>\n",
       "      <td>2.514273</td>\n",
       "    </tr>\n",
       "    <tr>\n",
       "      <th>1</th>\n",
       "      <th>Duarte</th>\n",
       "      <td>0.106541</td>\n",
       "      <td>0.172264</td>\n",
       "      <td>0.220821</td>\n",
       "      <td>0.120171</td>\n",
       "      <td>0.136613</td>\n",
       "      <td>0.174907</td>\n",
       "      <td>0.267733</td>\n",
       "      <td>0.188412</td>\n",
       "      <td>0.162191</td>\n",
       "      <td>0.166336</td>\n",
       "      <td>...</td>\n",
       "      <td>0.359657</td>\n",
       "      <td>0.411623</td>\n",
       "      <td>0.509123</td>\n",
       "      <td>0.497232</td>\n",
       "      <td>0.620513</td>\n",
       "      <td>0.665527</td>\n",
       "      <td>0.774952</td>\n",
       "      <td>0.882486</td>\n",
       "      <td>0.990144</td>\n",
       "      <td>1.133022</td>\n",
       "    </tr>\n",
       "    <tr>\n",
       "      <th>2</th>\n",
       "      <th>Elías Piña</th>\n",
       "      <td>0.001046</td>\n",
       "      <td>0.004159</td>\n",
       "      <td>0.000188</td>\n",
       "      <td>0.002702</td>\n",
       "      <td>0.002796</td>\n",
       "      <td>0.002279</td>\n",
       "      <td>0.000188</td>\n",
       "      <td>0.000545</td>\n",
       "      <td>0.004889</td>\n",
       "      <td>0.003624</td>\n",
       "      <td>...</td>\n",
       "      <td>0.054254</td>\n",
       "      <td>0.063427</td>\n",
       "      <td>0.063486</td>\n",
       "      <td>0.085963</td>\n",
       "      <td>0.095662</td>\n",
       "      <td>0.101302</td>\n",
       "      <td>0.096412</td>\n",
       "      <td>0.094367</td>\n",
       "      <td>0.097960</td>\n",
       "      <td>0.106256</td>\n",
       "    </tr>\n",
       "    <tr>\n",
       "      <th>3</th>\n",
       "      <th>Hato Mayor</th>\n",
       "      <td>0.016770</td>\n",
       "      <td>0.025782</td>\n",
       "      <td>0.056533</td>\n",
       "      <td>0.028171</td>\n",
       "      <td>0.046763</td>\n",
       "      <td>0.031994</td>\n",
       "      <td>0.035729</td>\n",
       "      <td>0.024985</td>\n",
       "      <td>0.018765</td>\n",
       "      <td>0.038524</td>\n",
       "      <td>...</td>\n",
       "      <td>0.119165</td>\n",
       "      <td>0.131073</td>\n",
       "      <td>0.136543</td>\n",
       "      <td>0.131123</td>\n",
       "      <td>0.145641</td>\n",
       "      <td>0.164119</td>\n",
       "      <td>0.166371</td>\n",
       "      <td>0.175422</td>\n",
       "      <td>0.204435</td>\n",
       "      <td>0.221481</td>\n",
       "    </tr>\n",
       "    <tr>\n",
       "      <th>4</th>\n",
       "      <th>La Vega</th>\n",
       "      <td>0.096720</td>\n",
       "      <td>0.126538</td>\n",
       "      <td>0.196426</td>\n",
       "      <td>0.123832</td>\n",
       "      <td>0.087546</td>\n",
       "      <td>0.073159</td>\n",
       "      <td>0.085546</td>\n",
       "      <td>0.054597</td>\n",
       "      <td>0.058035</td>\n",
       "      <td>0.084815</td>\n",
       "      <td>...</td>\n",
       "      <td>0.423032</td>\n",
       "      <td>0.469407</td>\n",
       "      <td>0.603118</td>\n",
       "      <td>0.597459</td>\n",
       "      <td>0.814542</td>\n",
       "      <td>0.913132</td>\n",
       "      <td>1.087570</td>\n",
       "      <td>1.146222</td>\n",
       "      <td>1.262728</td>\n",
       "      <td>1.332042</td>\n",
       "    </tr>\n",
       "  </tbody>\n",
       "</table>\n",
       "<p>5 rows × 23 columns</p>\n",
       "</div>"
      ],
      "text/plain": [
       "year            ntl2000   ntl2001   ntl2002   ntl2003   ntl2004   ntl2005  \\\n",
       "id shapeName                                                                \n",
       "0  Santiago    0.411050  0.658356  0.783749  0.609885  0.367840  0.376783   \n",
       "1  Duarte      0.106541  0.172264  0.220821  0.120171  0.136613  0.174907   \n",
       "2  Elías Piña  0.001046  0.004159  0.000188  0.002702  0.002796  0.002279   \n",
       "3  Hato Mayor  0.016770  0.025782  0.056533  0.028171  0.046763  0.031994   \n",
       "4  La Vega     0.096720  0.126538  0.196426  0.123832  0.087546  0.073159   \n",
       "\n",
       "year            ntl2006   ntl2007   ntl2008   ntl2009  ...   ntl2013  \\\n",
       "id shapeName                                           ...             \n",
       "0  Santiago    0.614950  0.534931  0.486996  0.486592  ...  1.239927   \n",
       "1  Duarte      0.267733  0.188412  0.162191  0.166336  ...  0.359657   \n",
       "2  Elías Piña  0.000188  0.000545  0.004889  0.003624  ...  0.054254   \n",
       "3  Hato Mayor  0.035729  0.024985  0.018765  0.038524  ...  0.119165   \n",
       "4  La Vega     0.085546  0.054597  0.058035  0.084815  ...  0.423032   \n",
       "\n",
       "year            ntl2014   ntl2015   ntl2016   ntl2017   ntl2018   ntl2019  \\\n",
       "id shapeName                                                                \n",
       "0  Santiago    1.412117  1.521182  1.451923  1.670556  1.884374  2.060163   \n",
       "1  Duarte      0.411623  0.509123  0.497232  0.620513  0.665527  0.774952   \n",
       "2  Elías Piña  0.063427  0.063486  0.085963  0.095662  0.101302  0.096412   \n",
       "3  Hato Mayor  0.131073  0.136543  0.131123  0.145641  0.164119  0.166371   \n",
       "4  La Vega     0.469407  0.603118  0.597459  0.814542  0.913132  1.087570   \n",
       "\n",
       "year            ntl2020   ntl2021   ntl2022  \n",
       "id shapeName                                 \n",
       "0  Santiago    2.057762  2.322028  2.514273  \n",
       "1  Duarte      0.882486  0.990144  1.133022  \n",
       "2  Elías Piña  0.094367  0.097960  0.106256  \n",
       "3  Hato Mayor  0.175422  0.204435  0.221481  \n",
       "4  La Vega     1.146222  1.262728  1.332042  \n",
       "\n",
       "[5 rows x 23 columns]"
      ]
     },
     "execution_count": 23,
     "metadata": {},
     "output_type": "execute_result"
    }
   ],
   "source": [
    "ntl_wide.head()"
   ]
  },
  {
   "cell_type": "code",
   "execution_count": 14,
   "id": "d113c229-3fe1-46bb-bf37-a326946407e6",
   "metadata": {},
   "outputs": [
    {
     "name": "stdout",
     "output_type": "stream",
     "text": [
      "<class 'pandas.core.frame.DataFrame'>\n",
      "RangeIndex: 736 entries, 0 to 735\n",
      "Data columns (total 4 columns):\n",
      " #   Column     Non-Null Count  Dtype  \n",
      "---  ------     --------------  -----  \n",
      " 0   shapeName  736 non-null    object \n",
      " 1   id         736 non-null    int64  \n",
      " 2   year       736 non-null    int64  \n",
      " 3   total_sol  736 non-null    float64\n",
      "dtypes: float64(1), int64(2), object(1)\n",
      "memory usage: 23.1+ KB\n"
     ]
    }
   ],
   "source": [
    "ntl.info()"
   ]
  },
  {
   "cell_type": "code",
   "execution_count": null,
   "id": "86507d82-76a7-453f-805f-0c851a6c4240",
   "metadata": {},
   "outputs": [],
   "source": [
    "fig = px.box(ntl, x = \"shapeName\", y = \"total_sol\")\n",
    "fig.show()"
   ]
  },
  {
   "cell_type": "code",
   "execution_count": null,
   "id": "881ad3f9-1233-4ff4-93c0-4234c4390a7e",
   "metadata": {},
   "outputs": [],
   "source": []
  },
  {
   "cell_type": "code",
   "execution_count": null,
   "id": "c589f98e-06a6-4142-83cd-f1041c2e4f91",
   "metadata": {},
   "outputs": [],
   "source": [
    "ntl_mean.head()"
   ]
  },
  {
   "cell_type": "code",
   "execution_count": null,
   "id": "3753b40d-f12f-4f82-a14a-f35a94096bbd",
   "metadata": {},
   "outputs": [],
   "source": [
    "fig = px.box(ntl_mean, x = \"shapeName\", y = \"total_sol\")\n",
    "fig.show()"
   ]
  },
  {
   "cell_type": "code",
   "execution_count": null,
   "id": "b2a99c6c-fb5c-4b1c-8e73-4898e28c46cd",
   "metadata": {},
   "outputs": [],
   "source": []
  },
  {
   "cell_type": "code",
   "execution_count": null,
   "id": "df770437-82fd-4e84-bbee-aa7221ba2113",
   "metadata": {},
   "outputs": [],
   "source": [
    "df = px.data.tips()"
   ]
  },
  {
   "cell_type": "code",
   "execution_count": null,
   "id": "d19e859f-b2e0-4896-8443-e1f5c2501aa5",
   "metadata": {},
   "outputs": [],
   "source": [
    "df.head()"
   ]
  },
  {
   "cell_type": "code",
   "execution_count": null,
   "id": "41dced06-6472-469d-b9f2-626d45a3b248",
   "metadata": {},
   "outputs": [],
   "source": [
    "fig = px.box(df, x = \"time\", y = \"total_bill\")\n",
    "fig.show()"
   ]
  },
  {
   "cell_type": "code",
   "execution_count": null,
   "id": "ea3b186b-822f-4ef4-b3db-ec8e02da7795",
   "metadata": {},
   "outputs": [],
   "source": []
  },
  {
   "cell_type": "code",
   "execution_count": null,
   "id": "2e5a258d-47e8-4797-bc6e-48e79dba3bc2",
   "metadata": {},
   "outputs": [],
   "source": [
    "ntl_wide_name = pd.merge(ntl_wide, ntl[[\"id\",\"shapeName\"]], on='id', how='left')"
   ]
  },
  {
   "cell_type": "code",
   "execution_count": null,
   "id": "4868d903-9383-4437-b24b-01f8ecb0e9cc",
   "metadata": {},
   "outputs": [],
   "source": []
  }
 ],
 "metadata": {
  "kernelspec": {
   "display_name": "Python 3 (ipykernel)",
   "language": "python",
   "name": "python3"
  },
  "language_info": {
   "codemirror_mode": {
    "name": "ipython",
    "version": 3
   },
   "file_extension": ".py",
   "mimetype": "text/x-python",
   "name": "python",
   "nbconvert_exporter": "python",
   "pygments_lexer": "ipython3",
   "version": "3.12.0"
  }
 },
 "nbformat": 4,
 "nbformat_minor": 5
}
