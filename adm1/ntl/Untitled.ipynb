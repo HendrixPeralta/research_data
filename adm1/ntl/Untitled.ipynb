{
 "cells": [
  {
   "cell_type": "code",
   "execution_count": 1,
   "id": "b6347afb-6b5b-4a3c-beb7-d1bdbd7fce86",
   "metadata": {},
   "outputs": [],
   "source": [
    "import pandas as pd "
   ]
  },
  {
   "cell_type": "code",
   "execution_count": 3,
   "id": "8761fad3-cbee-4f2e-8df2-88d0eb3fac47",
   "metadata": {},
   "outputs": [],
   "source": [
    "ntl = pd.read_csv(\"ntl_adm1_2000_2021.csv\")"
   ]
  },
  {
   "cell_type": "code",
   "execution_count": 10,
   "id": "6e93fd23-462f-47a4-80e0-e578022e780f",
   "metadata": {},
   "outputs": [],
   "source": [
    "ntl_wide = ntl.pivot(index = \"id\", columns = \"year\", values = \"total_sol\")"
   ]
  },
  {
   "cell_type": "code",
   "execution_count": 11,
   "id": "bb55e9a1-5cd0-487b-8e4c-be3f6ef75033",
   "metadata": {},
   "outputs": [],
   "source": [
    "ntl_wide.to_csv(\"wide_ntl_adm1_2000_2021.csv\")"
   ]
  },
  {
   "cell_type": "code",
   "execution_count": null,
   "id": "034c8694-2912-4e92-89bf-2a0b8ccc00e8",
   "metadata": {},
   "outputs": [],
   "source": []
  }
 ],
 "metadata": {
  "kernelspec": {
   "display_name": "Python 3 (ipykernel)",
   "language": "python",
   "name": "python3"
  },
  "language_info": {
   "codemirror_mode": {
    "name": "ipython",
    "version": 3
   },
   "file_extension": ".py",
   "mimetype": "text/x-python",
   "name": "python",
   "nbconvert_exporter": "python",
   "pygments_lexer": "ipython3",
   "version": "3.12.0"
  }
 },
 "nbformat": 4,
 "nbformat_minor": 5
}
