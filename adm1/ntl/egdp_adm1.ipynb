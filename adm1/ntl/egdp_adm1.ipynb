{
 "cells": [
  {
   "cell_type": "code",
   "execution_count": 1,
   "id": "9f16683e-ede4-4b53-ad4a-ca4194eb5ad9",
   "metadata": {},
   "outputs": [],
   "source": [
    "import pandas as pd "
   ]
  },
  {
   "cell_type": "code",
   "execution_count": 2,
   "id": "9e2be32e-73ae-467f-84d6-cc437ad20155",
   "metadata": {},
   "outputs": [],
   "source": [
    "import seaborn as sns"
   ]
  },
  {
   "cell_type": "code",
   "execution_count": 3,
   "id": "ab4a7f35-c474-477d-8f50-0f824e6acf5f",
   "metadata": {},
   "outputs": [],
   "source": [
    "import matplotlib.pyplot as plt"
   ]
  },
  {
   "cell_type": "code",
   "execution_count": 4,
   "id": "b91bd06e-2df5-42e1-af6f-9b5a94401f5a",
   "metadata": {},
   "outputs": [],
   "source": [
    "import numpy as np"
   ]
  },
  {
   "cell_type": "code",
   "execution_count": 5,
   "id": "739ab71f-cd24-4241-b417-1217569a35fe",
   "metadata": {},
   "outputs": [],
   "source": [
    "import plotly.express as px"
   ]
  },
  {
   "cell_type": "code",
   "execution_count": 6,
   "id": "b730abb5-f11a-41fb-aa73-a72711033218",
   "metadata": {},
   "outputs": [
    {
     "data": {
      "text/html": [
       "        <script type=\"text/javascript\">\n",
       "        window.PlotlyConfig = {MathJaxConfig: 'local'};\n",
       "        if (window.MathJax && window.MathJax.Hub && window.MathJax.Hub.Config) {window.MathJax.Hub.Config({SVG: {font: \"STIX-Web\"}});}\n",
       "        if (typeof require !== 'undefined') {\n",
       "        require.undef(\"plotly\");\n",
       "        requirejs.config({\n",
       "            paths: {\n",
       "                'plotly': ['https://cdn.plot.ly/plotly-2.31.1.min']\n",
       "            }\n",
       "        });\n",
       "        require(['plotly'], function(Plotly) {\n",
       "            window._Plotly = Plotly;\n",
       "        });\n",
       "        }\n",
       "        </script>\n",
       "        "
      ]
     },
     "metadata": {},
     "output_type": "display_data"
    }
   ],
   "source": [
    "from plotly.offline import init_notebook_mode\n",
    "init_notebook_mode(connected=True)"
   ]
  },
  {
   "cell_type": "code",
   "execution_count": 7,
   "id": "a47320bb-b1d9-46d1-837f-c9026f74d505",
   "metadata": {
    "scrolled": true
   },
   "outputs": [],
   "source": [
    "egdp_sum = pd.read_csv(\"egdp_adm1_sum.csv\")\n"
   ]
  },
  {
   "cell_type": "code",
   "execution_count": 8,
   "id": "1bf7de2e-fc08-4537-87b1-be459eebb542",
   "metadata": {},
   "outputs": [],
   "source": [
    "egdp_mean = pd.read_csv(\"egdp_adm1_mean.csv\")"
   ]
  },
  {
   "cell_type": "code",
   "execution_count": null,
   "id": "0785bc0f-a2c0-4359-b34d-083ae6bfe4e5",
   "metadata": {},
   "outputs": [],
   "source": []
  },
  {
   "cell_type": "code",
   "execution_count": 9,
   "id": "a2ec3d68-ca33-479b-8aca-10c50e1ae731",
   "metadata": {},
   "outputs": [
    {
     "data": {
      "application/vnd.plotly.v1+json": {
       "config": {
        "plotlyServerURL": "https://plot.ly"
       },
       "data": [
        {
         "alignmentgroup": "True",
         "hovertemplate": "shapeName=%{x}<br>total_sol=%{y}<extra></extra>",
         "legendgroup": "",
         "marker": {
          "color": "#636efa"
         },
         "name": "",
         "notched": false,
         "offsetgroup": "",
         "orientation": "v",
         "showlegend": false,
         "type": "box",
         "x": [
          "Santiago",
          "Duarte",
          "Elías Piña",
          "Hato Mayor",
          "La Vega",
          "Sánchez Ramírez",
          "Samaná",
          "Valverde",
          "Barahona",
          "La Romana",
          "Monseñor Nouel",
          "Monte Cristi",
          "Pedernales",
          "Peravia",
          "Puerto Plata",
          "San José de Ocoa",
          "San Juan",
          "Santiago Rodríguez",
          "Distrito Nacional",
          "El Seibo",
          "Espaillat",
          "Hermanas Mirabal",
          "Independencia",
          "Baoruco",
          "Azua",
          "Dajabón",
          "La Altagracia",
          "María Trinidad Sánchez",
          "Santo Domingo",
          "Monte Plata",
          "San Cristóbal",
          "San Pedro de Macorís",
          "Santiago",
          "Duarte",
          "Elías Piña",
          "Hato Mayor",
          "La Vega",
          "Sánchez Ramírez",
          "Samaná",
          "Valverde",
          "Barahona",
          "La Romana",
          "Monseñor Nouel",
          "Monte Cristi",
          "Pedernales",
          "Peravia",
          "Puerto Plata",
          "San José de Ocoa",
          "San Juan",
          "Santiago Rodríguez",
          "Distrito Nacional",
          "El Seibo",
          "Espaillat",
          "Hermanas Mirabal",
          "Independencia",
          "Baoruco",
          "Azua",
          "Dajabón",
          "La Altagracia",
          "María Trinidad Sánchez",
          "Santo Domingo",
          "Monte Plata",
          "San Cristóbal",
          "San Pedro de Macorís",
          "Santiago",
          "Duarte",
          "Elías Piña",
          "Hato Mayor",
          "La Vega",
          "Sánchez Ramírez",
          "Samaná",
          "Valverde",
          "Barahona",
          "La Romana",
          "Monseñor Nouel",
          "Monte Cristi",
          "Pedernales",
          "Peravia",
          "Puerto Plata",
          "San José de Ocoa",
          "San Juan",
          "Santiago Rodríguez",
          "Distrito Nacional",
          "El Seibo",
          "Espaillat",
          "Hermanas Mirabal",
          "Independencia",
          "Baoruco",
          "Azua",
          "Dajabón",
          "La Altagracia",
          "María Trinidad Sánchez",
          "Santo Domingo",
          "Monte Plata",
          "San Cristóbal",
          "San Pedro de Macorís",
          "Santiago",
          "Duarte",
          "Elías Piña",
          "Hato Mayor",
          "La Vega",
          "Sánchez Ramírez",
          "Samaná",
          "Valverde",
          "Barahona",
          "La Romana",
          "Monseñor Nouel",
          "Monte Cristi",
          "Pedernales",
          "Peravia",
          "Puerto Plata",
          "San José de Ocoa",
          "San Juan",
          "Santiago Rodríguez",
          "Distrito Nacional",
          "El Seibo",
          "Espaillat",
          "Hermanas Mirabal",
          "Independencia",
          "Baoruco",
          "Azua",
          "Dajabón",
          "La Altagracia",
          "María Trinidad Sánchez",
          "Santo Domingo",
          "Monte Plata",
          "San Cristóbal",
          "San Pedro de Macorís",
          "Santiago",
          "Duarte",
          "Elías Piña",
          "Hato Mayor",
          "La Vega",
          "Sánchez Ramírez",
          "Samaná",
          "Valverde",
          "Barahona",
          "La Romana",
          "Monseñor Nouel",
          "Monte Cristi",
          "Pedernales",
          "Peravia",
          "Puerto Plata",
          "San José de Ocoa",
          "San Juan",
          "Santiago Rodríguez",
          "Distrito Nacional",
          "El Seibo",
          "Espaillat",
          "Hermanas Mirabal",
          "Independencia",
          "Baoruco",
          "Azua",
          "Dajabón",
          "La Altagracia",
          "María Trinidad Sánchez",
          "Santo Domingo",
          "Monte Plata",
          "San Cristóbal",
          "San Pedro de Macorís",
          "Santiago",
          "Duarte",
          "Elías Piña",
          "Hato Mayor",
          "La Vega",
          "Sánchez Ramírez",
          "Samaná",
          "Valverde",
          "Barahona",
          "La Romana",
          "Monseñor Nouel",
          "Monte Cristi",
          "Pedernales",
          "Peravia",
          "Puerto Plata",
          "San José de Ocoa",
          "San Juan",
          "Santiago Rodríguez",
          "Distrito Nacional",
          "El Seibo",
          "Espaillat",
          "Hermanas Mirabal",
          "Independencia",
          "Baoruco",
          "Azua",
          "Dajabón",
          "La Altagracia",
          "María Trinidad Sánchez",
          "Santo Domingo",
          "Monte Plata",
          "San Cristóbal",
          "San Pedro de Macorís",
          "Santiago",
          "Duarte",
          "Elías Piña",
          "Hato Mayor",
          "La Vega",
          "Sánchez Ramírez",
          "Samaná",
          "Valverde",
          "Barahona",
          "La Romana",
          "Monseñor Nouel",
          "Monte Cristi",
          "Pedernales",
          "Peravia",
          "Puerto Plata",
          "San José de Ocoa",
          "San Juan",
          "Santiago Rodríguez",
          "Distrito Nacional",
          "El Seibo",
          "Espaillat",
          "Hermanas Mirabal",
          "Independencia",
          "Baoruco",
          "Azua",
          "Dajabón",
          "La Altagracia",
          "María Trinidad Sánchez",
          "Santo Domingo",
          "Monte Plata",
          "San Cristóbal",
          "San Pedro de Macorís",
          "Santiago",
          "Duarte",
          "Elías Piña",
          "Hato Mayor",
          "La Vega",
          "Sánchez Ramírez",
          "Samaná",
          "Valverde",
          "Barahona",
          "La Romana",
          "Monseñor Nouel",
          "Monte Cristi",
          "Pedernales",
          "Peravia",
          "Puerto Plata",
          "San José de Ocoa",
          "San Juan",
          "Santiago Rodríguez",
          "Distrito Nacional",
          "El Seibo",
          "Espaillat",
          "Hermanas Mirabal",
          "Independencia",
          "Baoruco",
          "Azua",
          "Dajabón",
          "La Altagracia",
          "María Trinidad Sánchez",
          "Santo Domingo",
          "Monte Plata",
          "San Cristóbal",
          "San Pedro de Macorís",
          "Santiago",
          "Duarte",
          "Elías Piña",
          "Hato Mayor",
          "La Vega",
          "Sánchez Ramírez",
          "Samaná",
          "Valverde",
          "Barahona",
          "La Romana",
          "Monseñor Nouel",
          "Monte Cristi",
          "Pedernales",
          "Peravia",
          "Puerto Plata",
          "San José de Ocoa",
          "San Juan",
          "Santiago Rodríguez",
          "Distrito Nacional",
          "El Seibo",
          "Espaillat",
          "Hermanas Mirabal",
          "Independencia",
          "Baoruco",
          "Azua",
          "Dajabón",
          "La Altagracia",
          "María Trinidad Sánchez",
          "Santo Domingo",
          "Monte Plata",
          "San Cristóbal",
          "San Pedro de Macorís",
          "Santiago",
          "Duarte",
          "Elías Piña",
          "Hato Mayor",
          "La Vega",
          "Sánchez Ramírez",
          "Samaná",
          "Valverde",
          "Barahona",
          "La Romana",
          "Monseñor Nouel",
          "Monte Cristi",
          "Pedernales",
          "Peravia",
          "Puerto Plata",
          "San José de Ocoa",
          "San Juan",
          "Santiago Rodríguez",
          "Distrito Nacional",
          "El Seibo",
          "Espaillat",
          "Hermanas Mirabal",
          "Independencia",
          "Baoruco",
          "Azua",
          "Dajabón",
          "La Altagracia",
          "María Trinidad Sánchez",
          "Santo Domingo",
          "Monte Plata",
          "San Cristóbal",
          "San Pedro de Macorís",
          "Santiago",
          "Duarte",
          "Elías Piña",
          "Hato Mayor",
          "La Vega",
          "Sánchez Ramírez",
          "Samaná",
          "Valverde",
          "Barahona",
          "La Romana",
          "Monseñor Nouel",
          "Monte Cristi",
          "Pedernales",
          "Peravia",
          "Puerto Plata",
          "San José de Ocoa",
          "San Juan",
          "Santiago Rodríguez",
          "Distrito Nacional",
          "El Seibo",
          "Espaillat",
          "Hermanas Mirabal",
          "Independencia",
          "Baoruco",
          "Azua",
          "Dajabón",
          "La Altagracia",
          "María Trinidad Sánchez",
          "Santo Domingo",
          "Monte Plata",
          "San Cristóbal",
          "San Pedro de Macorís",
          "Santiago",
          "Duarte",
          "Elías Piña",
          "Hato Mayor",
          "La Vega",
          "Sánchez Ramírez",
          "Samaná",
          "Valverde",
          "Barahona",
          "La Romana",
          "Monseñor Nouel",
          "Monte Cristi",
          "Pedernales",
          "Peravia",
          "Puerto Plata",
          "San José de Ocoa",
          "San Juan",
          "Santiago Rodríguez",
          "Distrito Nacional",
          "El Seibo",
          "Espaillat",
          "Hermanas Mirabal",
          "Independencia",
          "Baoruco",
          "Azua",
          "Dajabón",
          "La Altagracia",
          "María Trinidad Sánchez",
          "Santo Domingo",
          "Monte Plata",
          "San Cristóbal",
          "San Pedro de Macorís",
          "Santiago",
          "Duarte",
          "Elías Piña",
          "Hato Mayor",
          "La Vega",
          "Sánchez Ramírez",
          "Samaná",
          "Valverde",
          "Barahona",
          "La Romana",
          "Monseñor Nouel",
          "Monte Cristi",
          "Pedernales",
          "Peravia",
          "Puerto Plata",
          "San José de Ocoa",
          "San Juan",
          "Santiago Rodríguez",
          "Distrito Nacional",
          "El Seibo",
          "Espaillat",
          "Hermanas Mirabal",
          "Independencia",
          "Baoruco",
          "Azua",
          "Dajabón",
          "La Altagracia",
          "María Trinidad Sánchez",
          "Santo Domingo",
          "Monte Plata",
          "San Cristóbal",
          "San Pedro de Macorís",
          "Santiago",
          "Duarte",
          "Elías Piña",
          "Hato Mayor",
          "La Vega",
          "Sánchez Ramírez",
          "Samaná",
          "Valverde",
          "Barahona",
          "La Romana",
          "Monseñor Nouel",
          "Monte Cristi",
          "Pedernales",
          "Peravia",
          "Puerto Plata",
          "San José de Ocoa",
          "San Juan",
          "Santiago Rodríguez",
          "Distrito Nacional",
          "El Seibo",
          "Espaillat",
          "Hermanas Mirabal",
          "Independencia",
          "Baoruco",
          "Azua",
          "Dajabón",
          "La Altagracia",
          "María Trinidad Sánchez",
          "Santo Domingo",
          "Monte Plata",
          "San Cristóbal",
          "San Pedro de Macorís",
          "Santiago",
          "Duarte",
          "Elías Piña",
          "Hato Mayor",
          "La Vega",
          "Sánchez Ramírez",
          "Samaná",
          "Valverde",
          "Barahona",
          "La Romana",
          "Monseñor Nouel",
          "Monte Cristi",
          "Pedernales",
          "Peravia",
          "Puerto Plata",
          "San José de Ocoa",
          "San Juan",
          "Santiago Rodríguez",
          "Distrito Nacional",
          "El Seibo",
          "Espaillat",
          "Hermanas Mirabal",
          "Independencia",
          "Baoruco",
          "Azua",
          "Dajabón",
          "La Altagracia",
          "María Trinidad Sánchez",
          "Santo Domingo",
          "Monte Plata",
          "San Cristóbal",
          "San Pedro de Macorís",
          "Santiago",
          "Duarte",
          "Elías Piña",
          "Hato Mayor",
          "La Vega",
          "Sánchez Ramírez",
          "Samaná",
          "Valverde",
          "Barahona",
          "La Romana",
          "Monseñor Nouel",
          "Monte Cristi",
          "Pedernales",
          "Peravia",
          "Puerto Plata",
          "San José de Ocoa",
          "San Juan",
          "Santiago Rodríguez",
          "Distrito Nacional",
          "El Seibo",
          "Espaillat",
          "Hermanas Mirabal",
          "Independencia",
          "Baoruco",
          "Azua",
          "Dajabón",
          "La Altagracia",
          "María Trinidad Sánchez",
          "Santo Domingo",
          "Monte Plata",
          "San Cristóbal",
          "San Pedro de Macorís",
          "Santiago",
          "Duarte",
          "Elías Piña",
          "Hato Mayor",
          "La Vega",
          "Sánchez Ramírez",
          "Samaná",
          "Valverde",
          "Barahona",
          "La Romana",
          "Monseñor Nouel",
          "Monte Cristi",
          "Pedernales",
          "Peravia",
          "Puerto Plata",
          "San José de Ocoa",
          "San Juan",
          "Santiago Rodríguez",
          "Distrito Nacional",
          "El Seibo",
          "Espaillat",
          "Hermanas Mirabal",
          "Independencia",
          "Baoruco",
          "Azua",
          "Dajabón",
          "La Altagracia",
          "María Trinidad Sánchez",
          "Santo Domingo",
          "Monte Plata",
          "San Cristóbal",
          "San Pedro de Macorís",
          "Santiago",
          "Duarte",
          "Elías Piña",
          "Hato Mayor",
          "La Vega",
          "Sánchez Ramírez",
          "Samaná",
          "Valverde",
          "Barahona",
          "La Romana",
          "Monseñor Nouel",
          "Monte Cristi",
          "Pedernales",
          "Peravia",
          "Puerto Plata",
          "San José de Ocoa",
          "San Juan",
          "Santiago Rodríguez",
          "Distrito Nacional",
          "El Seibo",
          "Espaillat",
          "Hermanas Mirabal",
          "Independencia",
          "Baoruco",
          "Azua",
          "Dajabón",
          "La Altagracia",
          "María Trinidad Sánchez",
          "Santo Domingo",
          "Monte Plata",
          "San Cristóbal",
          "San Pedro de Macorís",
          "Santiago",
          "Duarte",
          "Elías Piña",
          "Hato Mayor",
          "La Vega",
          "Sánchez Ramírez",
          "Samaná",
          "Valverde",
          "Barahona",
          "La Romana",
          "Monseñor Nouel",
          "Monte Cristi",
          "Pedernales",
          "Peravia",
          "Puerto Plata",
          "San José de Ocoa",
          "San Juan",
          "Santiago Rodríguez",
          "Distrito Nacional",
          "El Seibo",
          "Espaillat",
          "Hermanas Mirabal",
          "Independencia",
          "Baoruco",
          "Azua",
          "Dajabón",
          "La Altagracia",
          "María Trinidad Sánchez",
          "Santo Domingo",
          "Monte Plata",
          "San Cristóbal",
          "San Pedro de Macorís",
          "Santiago",
          "Duarte",
          "Elías Piña",
          "Hato Mayor",
          "La Vega",
          "Sánchez Ramírez",
          "Samaná",
          "Valverde",
          "Barahona",
          "La Romana",
          "Monseñor Nouel",
          "Monte Cristi",
          "Pedernales",
          "Peravia",
          "Puerto Plata",
          "San José de Ocoa",
          "San Juan",
          "Santiago Rodríguez",
          "Distrito Nacional",
          "El Seibo",
          "Espaillat",
          "Hermanas Mirabal",
          "Independencia",
          "Baoruco",
          "Azua",
          "Dajabón",
          "La Altagracia",
          "María Trinidad Sánchez",
          "Santo Domingo",
          "Monte Plata",
          "San Cristóbal",
          "San Pedro de Macorís",
          "Santiago",
          "Duarte",
          "Elías Piña",
          "Hato Mayor",
          "La Vega",
          "Sánchez Ramírez",
          "Samaná",
          "Valverde",
          "Barahona",
          "La Romana",
          "Monseñor Nouel",
          "Monte Cristi",
          "Pedernales",
          "Peravia",
          "Puerto Plata",
          "San José de Ocoa",
          "San Juan",
          "Santiago Rodríguez",
          "Distrito Nacional",
          "El Seibo",
          "Espaillat",
          "Hermanas Mirabal",
          "Independencia",
          "Baoruco",
          "Azua",
          "Dajabón",
          "La Altagracia",
          "María Trinidad Sánchez",
          "Santo Domingo",
          "Monte Plata",
          "San Cristóbal",
          "San Pedro de Macorís",
          "Santiago",
          "Duarte",
          "Elías Piña",
          "Hato Mayor",
          "La Vega",
          "Sánchez Ramírez",
          "Samaná",
          "Valverde",
          "Barahona",
          "La Romana",
          "Monseñor Nouel",
          "Monte Cristi",
          "Pedernales",
          "Peravia",
          "Puerto Plata",
          "San José de Ocoa",
          "San Juan",
          "Santiago Rodríguez",
          "Distrito Nacional",
          "El Seibo",
          "Espaillat",
          "Hermanas Mirabal",
          "Independencia",
          "Baoruco",
          "Azua",
          "Dajabón",
          "La Altagracia",
          "María Trinidad Sánchez",
          "Santo Domingo",
          "Monte Plata",
          "San Cristóbal",
          "San Pedro de Macorís",
          "Santiago",
          "Duarte",
          "Elías Piña",
          "Hato Mayor",
          "La Vega",
          "Sánchez Ramírez",
          "Samaná",
          "Valverde",
          "Barahona",
          "La Romana",
          "Monseñor Nouel",
          "Monte Cristi",
          "Pedernales",
          "Peravia",
          "Puerto Plata",
          "San José de Ocoa",
          "San Juan",
          "Santiago Rodríguez",
          "Distrito Nacional",
          "El Seibo",
          "Espaillat",
          "Hermanas Mirabal",
          "Independencia",
          "Baoruco",
          "Azua",
          "Dajabón",
          "La Altagracia",
          "María Trinidad Sánchez",
          "Santo Domingo",
          "Monte Plata",
          "San Cristóbal",
          "San Pedro de Macorís",
          "Santiago",
          "Duarte",
          "Elías Piña",
          "Hato Mayor",
          "La Vega",
          "Sánchez Ramírez",
          "Samaná",
          "Valverde",
          "Barahona",
          "La Romana",
          "Monseñor Nouel",
          "Monte Cristi",
          "Pedernales",
          "Peravia",
          "Puerto Plata",
          "San José de Ocoa",
          "San Juan",
          "Santiago Rodríguez",
          "Distrito Nacional",
          "El Seibo",
          "Espaillat",
          "Hermanas Mirabal",
          "Independencia",
          "Baoruco",
          "Azua",
          "Dajabón",
          "La Altagracia",
          "María Trinidad Sánchez",
          "Santo Domingo",
          "Monte Plata",
          "San Cristóbal",
          "San Pedro de Macorís",
          "Santiago",
          "Duarte",
          "Elías Piña",
          "Hato Mayor",
          "La Vega",
          "Sánchez Ramírez",
          "Samaná",
          "Valverde",
          "Barahona",
          "La Romana",
          "Monseñor Nouel",
          "Monte Cristi",
          "Pedernales",
          "Peravia",
          "Puerto Plata",
          "San José de Ocoa",
          "San Juan",
          "Santiago Rodríguez",
          "Distrito Nacional",
          "El Seibo",
          "Espaillat",
          "Hermanas Mirabal",
          "Independencia",
          "Baoruco",
          "Azua",
          "Dajabón",
          "La Altagracia",
          "María Trinidad Sánchez",
          "Santo Domingo",
          "Monte Plata",
          "San Cristóbal",
          "San Pedro de Macorís",
          "Santiago",
          "Duarte",
          "Elías Piña",
          "Hato Mayor",
          "La Vega",
          "Sánchez Ramírez",
          "Samaná",
          "Valverde",
          "Barahona",
          "La Romana",
          "Monseñor Nouel",
          "Monte Cristi",
          "Pedernales",
          "Peravia",
          "Puerto Plata",
          "San José de Ocoa",
          "San Juan",
          "Santiago Rodríguez",
          "Distrito Nacional",
          "El Seibo",
          "Espaillat",
          "Hermanas Mirabal",
          "Independencia",
          "Baoruco",
          "Azua",
          "Dajabón",
          "La Altagracia",
          "María Trinidad Sánchez",
          "Santo Domingo",
          "Monte Plata",
          "San Cristóbal",
          "San Pedro de Macorís",
          "Santiago",
          "Duarte",
          "Elías Piña",
          "Hato Mayor",
          "La Vega",
          "Sánchez Ramírez",
          "Samaná",
          "Valverde",
          "Barahona",
          "La Romana",
          "Monseñor Nouel",
          "Monte Cristi",
          "Pedernales",
          "Peravia",
          "Puerto Plata",
          "San José de Ocoa",
          "San Juan",
          "Santiago Rodríguez",
          "Distrito Nacional",
          "El Seibo",
          "Espaillat",
          "Hermanas Mirabal",
          "Independencia",
          "Baoruco",
          "Azua",
          "Dajabón",
          "La Altagracia",
          "María Trinidad Sánchez",
          "Santo Domingo",
          "Monte Plata",
          "San Cristóbal",
          "San Pedro de Macorís",
          "Santiago",
          "Duarte",
          "Elías Piña",
          "Hato Mayor",
          "La Vega",
          "Sánchez Ramírez",
          "Samaná",
          "Valverde",
          "Barahona",
          "La Romana",
          "Monseñor Nouel",
          "Monte Cristi",
          "Pedernales",
          "Peravia",
          "Puerto Plata",
          "San José de Ocoa",
          "San Juan",
          "Santiago Rodríguez",
          "Distrito Nacional",
          "El Seibo",
          "Espaillat",
          "Hermanas Mirabal",
          "Independencia",
          "Baoruco",
          "Azua",
          "Dajabón",
          "La Altagracia",
          "María Trinidad Sánchez",
          "Santo Domingo",
          "Monte Plata",
          "San Cristóbal",
          "San Pedro de Macorís"
         ],
         "x0": " ",
         "xaxis": "x",
         "y": [
          5290.034919519864,
          998.3424950779654,
          221.70588666340885,
          436.8685584975224,
          1792.7366193143175,
          549.0988532291909,
          185.43613026048624,
          515.1875076429517,
          621.0751836001289,
          1422.6230997052846,
          915.2849137535284,
          387.1027581423522,
          268.2795211985999,
          777.324872843337,
          987.8429669973024,
          200.31002265583064,
          1000.2384403625248,
          222.18291015487685,
          2336.2537040486054,
          373.8545679604599,
          772.9763336649422,
          242.4874812863036,
          311.5865375656415,
          352.2145235384504,
          732.9397434217964,
          227.8913323466976,
          2065.9010159957643,
          344.47639897252395,
          8739.075335872207,
          572.5279141395993,
          2307.969190372877,
          1587.6545629149557,
          5975.832885006829,
          1138.7290401729008,
          231.30596240951724,
          476.93399765327854,
          2017.5008502036624,
          589.1082798833498,
          199.52896284601272,
          595.1293588003399,
          660.7913966477795,
          1546.0290272182688,
          933.218008323628,
          412.2782869316345,
          282.0510960645535,
          840.9983078871871,
          1122.4720768071272,
          211.55671438872815,
          1091.93863452413,
          232.97686519538067,
          2454.395677940518,
          397.8932898288263,
          880.3741522321516,
          273.0759355805667,
          326.76525588558604,
          378.28165308131895,
          799.6819246953908,
          238.10250139896775,
          2240.5178557206314,
          374.9143906654389,
          9293.956118772749,
          605.7536616338236,
          2408.2637964638134,
          1761.2790287032717,
          6228.493029886559,
          1196.649246115457,
          234.005683911139,
          490.1747422253094,
          2114.9016112021372,
          608.1459567957936,
          203.5324479596287,
          655.6219749551045,
          698.8704406415424,
          1599.821392018713,
          1010.1005484173402,
          421.5199110077585,
          284.68899474745865,
          873.9354559990121,
          1233.9500518905477,
          219.36579752625784,
          1122.7086088102235,
          240.0188924387682,
          2493.11312526628,
          406.2679927671658,
          907.8184454621932,
          278.8123231170807,
          331.5113061601625,
          391.44356177373254,
          823.7781842527141,
          239.42697698561577,
          2460.9342614915445,
          396.2488707596764,
          9521.663677692764,
          616.8902022258034,
          2489.8122224915837,
          1823.282278087852,
          6516.495977129586,
          1280.7590869000717,
          243.50689079998165,
          514.1673826257975,
          2340.7096861358655,
          655.1969141032329,
          212.1534485918926,
          682.5179726651487,
          746.4659540219634,
          1691.36226414296,
          1068.0337370873092,
          437.927127934817,
          295.78635954585144,
          922.8681303642544,
          1305.150204650649,
          227.8432008017804,
          1171.8425088709473,
          250.3964406450882,
          2583.94286663579,
          422.5773146474769,
          952.00965309143,
          295.14218192845584,
          345.1537825874253,
          407.51877643542,
          862.6115249793904,
          250.44304253330452,
          2647.1417562392116,
          417.3532525840928,
          9948.488314346352,
          641.208386841095,
          2613.842461826886,
          1913.7454962892857,
          7006.780899375559,
          1373.7058566267008,
          254.73997604551863,
          589.3714115686278,
          2514.6487181882067,
          699.2421483824943,
          223.57253684024596,
          747.6688659974466,
          827.7349217237214,
          1784.4462897411747,
          1125.3455401167569,
          462.0528189802872,
          309.51312883601474,
          981.63219362921,
          1380.5506485130854,
          240.20344903486617,
          1238.1170278810112,
          264.2684084291844,
          2709.705540922576,
          442.9054360826517,
          1014.4274043312256,
          312.1356248610746,
          362.0937225219666,
          439.146391289053,
          919.855222456216,
          261.35751700451,
          2843.3781857191934,
          446.8339706353112,
          10743.528904079569,
          671.5998886243386,
          2780.7317549591835,
          2030.8408454539135,
          7474.808109210347,
          1460.179664400512,
          267.69576356355464,
          643.7359079303112,
          2777.8661756436913,
          741.8330894247282,
          240.59774545466203,
          810.8924475827347,
          890.2797413163327,
          1887.458049725084,
          1224.4153058794786,
          491.6769359378545,
          325.48185374719253,
          1074.9474661553315,
          1537.6806241396007,
          255.709155328075,
          1336.5007769168883,
          280.08079653943287,
          2853.654250949037,
          472.7490543669052,
          1098.132050954711,
          331.288952603761,
          382.0669711082588,
          466.2512995117437,
          970.8715371611952,
          275.01222698609615,
          3130.5644881323565,
          471.8297602673956,
          11370.095130780275,
          708.3524969768292,
          3004.636605817533,
          2207.1649191550173,
          7882.82060910604,
          1536.9438199673789,
          279.5598509277197,
          677.7559558098807,
          2932.702816690505,
          777.3892690753673,
          260.88953010264567,
          856.0503959574827,
          931.762725930062,
          1976.3574128212888,
          1284.1653851998194,
          521.5469029063688,
          341.0256933743171,
          1125.7762254316144,
          1612.7873000102295,
          270.8001525846767,
          1399.0429891630706,
          293.4531520125329,
          2988.2516203562423,
          496.1414738103455,
          1152.9664712711867,
          346.88118517112497,
          399.564613848574,
          496.84706331754415,
          1016.1431571086246,
          286.99493797608454,
          3362.177706570251,
          496.2681690037249,
          11928.745791509918,
          742.6097302055244,
          3153.7394322090886,
          2316.8376122453633,
          8309.699503140568,
          1623.5574530172578,
          291.65344427601974,
          729.7447355151763,
          3106.1003978991903,
          824.2297245212776,
          282.0262369801601,
          911.334648415768,
          986.0663245987076,
          2139.8771918051375,
          1360.8955461762118,
          571.2491839813251,
          356.0872607104041,
          1202.5261232087428,
          1690.3041280879404,
          288.17348694538373,
          1498.3618273079985,
          311.8294446620871,
          3145.528164523255,
          521.4487644445076,
          1215.6312100516227,
          367.2115233795899,
          422.23343977618464,
          549.1544536417605,
          1064.2397651217148,
          318.02664205969563,
          3650.7132389511544,
          531.2844738547125,
          13040.987746248704,
          816.8817804361097,
          3415.15218722518,
          2463.107375018911,
          8637.695299293888,
          1710.8823197196514,
          302.21195294456743,
          776.4019052494974,
          3238.6776439350892,
          858.4400938058304,
          300.3771587762764,
          949.334509635118,
          1039.9469721663238,
          2333.089158196718,
          1426.5898082826077,
          594.6077618465997,
          368.9152083625981,
          1254.4860594838567,
          1762.194704545421,
          299.6589227187867,
          1566.3057791941303,
          328.3294886786564,
          3266.9194884356334,
          565.6418480742211,
          1262.7408950777617,
          382.5896877120522,
          439.9820673492026,
          576.7975627210794,
          1108.3714733869713,
          336.38196040047137,
          3897.124231391619,
          578.5776383841155,
          13675.501040378154,
          864.112444178059,
          3584.2978726736037,
          2610.5842419663486,
          8760.549064200708,
          1741.5409018312018,
          306.9185758689747,
          796.7527713012462,
          3305.732057321335,
          869.121042419473,
          306.67101512142244,
          961.030032254025,
          1054.6746488532017,
          2396.553424983983,
          1446.736991221414,
          601.8141805305493,
          374.3301868176635,
          1269.7621452911812,
          1783.861554193643,
          304.7086125621608,
          1590.5926481215963,
          332.642904268176,
          3306.6932932835,
          640.6086626405809,
          1285.741513176759,
          390.82616343533306,
          446.5233904840898,
          585.7448367485231,
          1135.1582661752311,
          339.23318740620306,
          3982.596604789823,
          594.7177253492324,
          13979.421087139075,
          879.1009612446029,
          3631.7420504314937,
          2671.940272422573,
          9248.9288310945,
          1835.972208118556,
          317.94358298051003,
          873.5559048319558,
          3503.1039991557886,
          905.2322655008116,
          334.04852560279414,
          1005.0378579111664,
          1131.221103287795,
          2514.738494736717,
          1515.956463791751,
          637.7714480245522,
          389.3877391479179,
          1329.219874404663,
          1996.2086369806352,
          324.49642044860957,
          1658.4138136937927,
          352.79428919799193,
          3433.619369491875,
          690.4130659529975,
          1394.182644900446,
          417.2567176686782,
          467.7385275490144,
          618.2625311331423,
          1193.485066609902,
          350.10125016172753,
          4217.982124729659,
          652.4707370070263,
          14587.297627983718,
          956.2282661543468,
          3779.537122684731,
          2870.0632644098177,
          9271.171953552812,
          1875.5731353846263,
          318.052050700959,
          902.2817470265952,
          3539.869717542185,
          938.2142910864128,
          344.7185603039521,
          1040.7165596653729,
          1149.6959063618797,
          2533.093496063351,
          1537.5175018992502,
          657.2817628084445,
          394.69209544512574,
          1342.977040190293,
          2041.64001835006,
          334.3355432110674,
          1676.6912501270867,
          363.2322133434169,
          3427.8494935428394,
          698.0874124334144,
          1404.588987607232,
          424.8197022595827,
          489.17926943015834,
          641.0949531254815,
          1246.5606609324898,
          359.11006302377746,
          4295.894707348241,
          666.2707520394929,
          14619.04561577299,
          985.8576520745952,
          3815.497631203604,
          2945.332923921182,
          9351.962297855292,
          1892.764079782074,
          320.2299646503201,
          915.1709757590992,
          3571.9666239587987,
          946.8406989470124,
          348.0436667241886,
          1050.5005641327182,
          1159.6989660980653,
          2566.8223757766623,
          1553.617438249145,
          663.5126929996936,
          397.5232730320856,
          1354.6764893217703,
          2059.4035458476233,
          337.2949861432992,
          1691.593924307706,
          366.4666013383398,
          3459.7002559138277,
          705.9372202224006,
          1416.8153693325385,
          429.599673394479,
          493.0271547904785,
          646.7863248514777,
          1257.574786935045,
          360.45538850058495,
          4402.877791246012,
          672.0677163761617,
          14819.318580706566,
          995.3680155730422,
          3849.002616534017,
          2972.9322421753523,
          9926.50174925444,
          2009.2452394248808,
          338.988028867338,
          971.8238109301116,
          3794.962888823273,
          1005.0019304756,
          369.9609402739534,
          1115.0292714046498,
          1230.935363481676,
          2726.0968229692944,
          1649.0509191071865,
          704.1868716806173,
          420.8431170223975,
          1437.8897000244729,
          2185.905761475686,
          358.0138793892136,
          1795.6695016780902,
          389.4533335033583,
          3672.617669199028,
          749.4365195471867,
          1503.8455551548334,
          455.9885313980136,
          522.3897054378891,
          686.8676956960967,
          1334.8233630740474,
          379.43867154448617,
          4756.752453790576,
          713.3505709912262,
          15741.55229100603,
          1056.676417817584,
          4100.448217122606,
          3158.346352595033,
          10629.30543118593,
          2161.1977055685197,
          361.9353339749808,
          1041.868192984076,
          4078.4794628297577,
          1076.1223322691435,
          398.2641416041876,
          1195.6689167304653,
          1318.044276306267,
          2923.8488107543367,
          1767.548126007354,
          753.9247352614999,
          449.37060598807,
          1539.6440210856351,
          2342.4313927251337,
          383.34924488844825,
          1923.4804988724932,
          417.5186345009827,
          3932.5172867419665,
          802.6805800578759,
          1610.267338654984,
          488.34597395120875,
          558.304433353859,
          735.5135921723702,
          1429.2840602441738,
          403.3110857585483,
          5285.287102867225,
          763.8488910479874,
          16894.14029304678,
          1131.4536461870462,
          4396.078109685901,
          3386.4058907698777,
          11228.841621238756,
          2287.7431769746186,
          381.6317429675776,
          1117.1682566407262,
          4310.858581493125,
          1136.982523979247,
          422.7152872747651,
          1263.6746256330134,
          1392.209250854101,
          3120.591996565578,
          1867.276168093378,
          796.2516793206335,
          474.312361390129,
          1629.7647888810902,
          2474.7431572295873,
          405.90264361740327,
          2033.653476913478,
          445.56110379193353,
          4153.525671311921,
          854.3601233859855,
          1700.7647649297526,
          516.3732240466512,
          589.0671945706887,
          777.8732557961167,
          1509.635031325794,
          423.8982651615845,
          5697.5448324031695,
          806.8506839673308,
          17887.04547925405,
          1195.0416249295076,
          4646.830892094529,
          3589.488899629315,
          11477.317545925574,
          2359.497286009205,
          394.820185986687,
          1143.899878230457,
          4406.752724422016,
          1162.2287292905007,
          436.31740839013867,
          1301.5327752355547,
          1423.5654343469473,
          3204.47442877725,
          1907.7650704133157,
          814.0027498031949,
          484.5174299563848,
          1666.573173994936,
          2527.4309981734723,
          418.7741279050415,
          2079.091518603587,
          457.0701115270457,
          4241.929227911257,
          872.8572069873995,
          1739.7827134197246,
          527.3636982346285,
          602.0828883382618,
          812.5731092997623,
          1543.0011091127112,
          432.6956029540182,
          5951.550822950052,
          824.0387341940518,
          18289.183619535197,
          1220.5540249206858,
          4749.068818302132,
          3672.993169958802,
          11579.788051170312,
          2387.7492535814936,
          397.6924449326945,
          1153.0840783864255,
          4434.614496397094,
          1196.937843444301,
          439.5807195434967,
          1328.569750292483,
          1433.2774727504045,
          3243.7594273987347,
          1922.4245849266936,
          819.1458666386848,
          490.6593252949855,
          1677.104653114811,
          2543.289332568879,
          422.4036400004346,
          2110.712474366029,
          468.5318340849644,
          4275.957806366566,
          878.4346317525592,
          1750.698958946677,
          530.6726323310066,
          607.3480480727023,
          818.6914569595866,
          1553.0547573620786,
          441.81965385061807,
          6053.95425165804,
          829.2091533364033,
          18449.425002411535,
          1228.59820492367,
          4786.334496243066,
          3699.0576317485047,
          12239.48171894929,
          2548.6093893732514,
          418.0102377293742,
          1224.0518401106192,
          4685.096972616748,
          1459.5902203983835,
          469.02151474385863,
          1412.2146523130298,
          1517.1960172223114,
          3474.4148598425536,
          2028.788155133176,
          864.328157792547,
          515.5091338478467,
          1770.968573416682,
          2688.448477667979,
          446.91514263749104,
          2315.9928134371835,
          495.4041582831565,
          4512.442580787807,
          929.004939572484,
          1850.326414440953,
          560.0640582082322,
          642.9762878436082,
          865.8017073408063,
          1641.896782370174,
          459.6956814992662,
          6470.726670867672,
          875.8306115619691,
          19656.339110051653,
          1298.4797488781164,
          5102.798914145577,
          3913.656079956247,
          12561.333732316718,
          2614.352490240336,
          428.76354297563154,
          1257.3154694823074,
          4821.8044056196995,
          1598.5721090838028,
          488.5272603667833,
          1460.8505853629574,
          1550.9477181397226,
          3605.36615419943,
          2091.686759463946,
          901.3303254067898,
          529.5274503940461,
          1810.1408724887117,
          2745.2608496820217,
          467.2580831381621,
          2496.85288724315,
          518.6946828035162,
          4606.208734699324,
          950.7672051388848,
          1897.2974665647043,
          575.1776282973151,
          657.0514080118314,
          884.7820834354446,
          1687.6277048894,
          497.7875418788078,
          6694.730696120799,
          894.1817198507922,
          20332.141673565024,
          1336.276683923135,
          5212.421758707833,
          4006.646164349831,
          12857.489104673365,
          2670.9578039352814,
          437.7130219392333,
          1297.96219174488,
          4931.263092671072,
          1725.1493472433558,
          502.5706415559146,
          1509.1944046538852,
          1585.0311321028305,
          3772.928599435442,
          2141.7327348195463,
          934.4659558557412,
          539.6966479745566,
          1857.5327470197983,
          2795.068220371944,
          479.8062938378139,
          2559.7431832944094,
          531.9149931326218,
          4689.228852081298,
          987.4968188965432,
          1942.9152377502592,
          593.4448668342013,
          672.0030605352391,
          902.2102114478744,
          1722.9516873034186,
          514.3367834611269,
          6907.267812691366,
          912.4497807031752,
          20938.64921406847,
          1368.7450866597535,
          5334.075643057391,
          4151.468739995185,
          13316.444119062098,
          2757.5170929184137,
          476.1576693298771,
          1339.976736179988,
          5093.158311816465,
          1808.1044548453067,
          518.9419488909199,
          1560.666446448833,
          1659.7575456995587,
          3914.299496559302,
          2210.976969850181,
          981.6393351707392,
          570.596007798583,
          1918.3341436862356,
          2885.4345883686747,
          495.3207357781775,
          2655.4195619286256,
          549.7919268282021,
          4840.839882525275,
          1019.5313785640632,
          2005.8668542634032,
          630.1779784391913,
          693.7627931423048,
          932.662644256564,
          1779.1924356928644,
          533.0145821727955,
          7130.78456260036,
          941.949534590221,
          21626.0563891357,
          1414.0297424843495,
          5507.133167692201,
          4310.943731613253,
          13955.302195963846,
          2888.792640008646,
          499.85723143973775,
          1415.6461636274462,
          5318.677623782203,
          1896.386016082443,
          544.520921425375,
          1647.6363789222405,
          1736.6699157510322,
          4101.607737436132,
          2308.2068021382775,
          1033.5605653980783,
          596.2869288903827,
          2013.017024577424,
          3004.786916172445,
          519.2559080691898,
          2784.404663382675,
          575.9809417815773,
          4965.025892414766,
          1067.7929227474856,
          2099.7792889537764,
          664.2110493652962,
          745.5978070331553,
          985.358941124701,
          1875.2088755739671,
          563.9065816128957,
          7474.94722927949,
          987.5959938546022,
          22969.520325906153,
          1485.4599941834508,
          5743.202768851055,
          4514.5921705688925,
          14606.258881248326,
          3032.741399664854,
          524.0321484690788,
          1481.9221904914757,
          5573.774969514387,
          1988.8108231106512,
          569.8018219246585,
          1731.7702480548144,
          1819.6515817267057,
          4292.724380777045,
          2415.403630991426,
          1086.4011710587672,
          624.0957448734957,
          2124.232391696876,
          3148.077079074814,
          544.6580972438935,
          2921.064089344883,
          603.218204313049,
          5194.563808560839,
          1123.89415280854,
          2201.3325044185503,
          708.3932261116366,
          785.794880027163,
          1041.596831780672,
          1966.6430482568117,
          590.5935426556597,
          7831.412227727502,
          1035.5120396340596,
          24029.63909296417,
          1554.968983114292,
          6015.075975507235,
          4730.989289973647,
          15251.931133517572,
          3170.8418849808313,
          546.5585414583194,
          1547.4238401581256,
          5828.721436109789,
          2079.8320068689536,
          596.793645715947,
          1812.4774718987592,
          1900.008917311009,
          4482.294665199754,
          2522.0698665197015,
          1147.58458109498,
          650.7640142487545,
          2221.592738412759,
          3297.1433825761674,
          568.9221933122941,
          3062.287146853933,
          630.0768560665493,
          5424.6412349177335,
          1173.526264156664,
          2300.0092612621834,
          740.5325339617683,
          824.3105043812126,
          1112.3313532713578,
          2056.7998744066435,
          615.9192130939637,
          8184.266706356466,
          1081.9252230514496,
          25093.917397850277,
          1625.6010852714962,
          6286.883958232109,
          4947.105842825478,
          15729.627454741672,
          3276.6772298013443,
          562.9448208379981,
          1595.610249491532,
          6032.916402605583,
          2148.128517581552,
          615.4854428764651,
          1875.6835720602796,
          1958.8095779943696,
          4621.3688543035705,
          2600.12180031538,
          1192.940952982622,
          670.2990815290049,
          2291.5335644840607,
          3404.8318229864053,
          586.5289573960443,
          3159.0191249883655,
          650.2064474907576,
          5594.765628410788,
          1210.0153523800425,
          2373.1487446350225,
          766.5867821026079,
          851.6510618929769,
          1152.4280337972968,
          2123.6919294017193,
          633.2864832654882,
          8442.174812761825,
          1123.1576995558598,
          25876.08821727809,
          1676.863742670943,
          6486.791185748578,
          5101.3977140090055,
          16462.08545151166,
          3432.225411356313,
          590.3459761189478,
          1669.4952887281488,
          6322.788538115749,
          2250.6786159399385,
          644.839416440328,
          1966.4577230670288,
          2049.512643868082,
          4835.414898357204,
          2721.3834700210423,
          1255.9562853807324,
          700.378535059854,
          2401.8684837457595,
          3566.0638617866757,
          613.7497740051326,
          3305.87682617038,
          680.5449059339131,
          5857.194192938711,
          1266.0988515772078,
          2487.461196810007,
          803.793154486488,
          890.2051398269102,
          1218.1622424267082,
          2225.3244928982917,
          661.6617962756582,
          8848.537947336365,
          1177.060910864905,
          27076.16039125008,
          1754.7634156090362,
          6789.805795398151,
          5339.563718947594,
          17026.226431483254,
          3557.142952987376,
          609.4663026775802,
          1728.446342178536,
          6564.980817048809,
          2329.696897362027,
          669.8357820072595,
          2044.363675867109,
          2119.793632044627,
          5031.5642585593105,
          2815.920229140684,
          1307.8751373440027,
          723.1696927886383,
          2485.4669849336733,
          3701.088044743854,
          634.3777337897056,
          3418.4128400906634,
          705.2548201594866,
          6062.564870019051,
          1343.8543760226048,
          2582.5384712049777,
          835.9726054760756,
          920.331725037566,
          1264.4874982251845,
          2306.9476035321463,
          690.6657297431257,
          9162.543851296108,
          1222.4845203497837,
          27989.413824141742,
          1815.54245096784,
          7033.789879228963,
          5522.896941867763
         ],
         "y0": " ",
         "yaxis": "y"
        }
       ],
       "layout": {
        "autosize": true,
        "boxmode": "group",
        "legend": {
         "tracegroupgap": 0
        },
        "margin": {
         "t": 60
        },
        "template": {
         "data": {
          "bar": [
           {
            "error_x": {
             "color": "#2a3f5f"
            },
            "error_y": {
             "color": "#2a3f5f"
            },
            "marker": {
             "line": {
              "color": "#E5ECF6",
              "width": 0.5
             },
             "pattern": {
              "fillmode": "overlay",
              "size": 10,
              "solidity": 0.2
             }
            },
            "type": "bar"
           }
          ],
          "barpolar": [
           {
            "marker": {
             "line": {
              "color": "#E5ECF6",
              "width": 0.5
             },
             "pattern": {
              "fillmode": "overlay",
              "size": 10,
              "solidity": 0.2
             }
            },
            "type": "barpolar"
           }
          ],
          "carpet": [
           {
            "aaxis": {
             "endlinecolor": "#2a3f5f",
             "gridcolor": "white",
             "linecolor": "white",
             "minorgridcolor": "white",
             "startlinecolor": "#2a3f5f"
            },
            "baxis": {
             "endlinecolor": "#2a3f5f",
             "gridcolor": "white",
             "linecolor": "white",
             "minorgridcolor": "white",
             "startlinecolor": "#2a3f5f"
            },
            "type": "carpet"
           }
          ],
          "choropleth": [
           {
            "colorbar": {
             "outlinewidth": 0,
             "ticks": ""
            },
            "type": "choropleth"
           }
          ],
          "contour": [
           {
            "colorbar": {
             "outlinewidth": 0,
             "ticks": ""
            },
            "colorscale": [
             [
              0,
              "#0d0887"
             ],
             [
              0.1111111111111111,
              "#46039f"
             ],
             [
              0.2222222222222222,
              "#7201a8"
             ],
             [
              0.3333333333333333,
              "#9c179e"
             ],
             [
              0.4444444444444444,
              "#bd3786"
             ],
             [
              0.5555555555555556,
              "#d8576b"
             ],
             [
              0.6666666666666666,
              "#ed7953"
             ],
             [
              0.7777777777777778,
              "#fb9f3a"
             ],
             [
              0.8888888888888888,
              "#fdca26"
             ],
             [
              1,
              "#f0f921"
             ]
            ],
            "type": "contour"
           }
          ],
          "contourcarpet": [
           {
            "colorbar": {
             "outlinewidth": 0,
             "ticks": ""
            },
            "type": "contourcarpet"
           }
          ],
          "heatmap": [
           {
            "colorbar": {
             "outlinewidth": 0,
             "ticks": ""
            },
            "colorscale": [
             [
              0,
              "#0d0887"
             ],
             [
              0.1111111111111111,
              "#46039f"
             ],
             [
              0.2222222222222222,
              "#7201a8"
             ],
             [
              0.3333333333333333,
              "#9c179e"
             ],
             [
              0.4444444444444444,
              "#bd3786"
             ],
             [
              0.5555555555555556,
              "#d8576b"
             ],
             [
              0.6666666666666666,
              "#ed7953"
             ],
             [
              0.7777777777777778,
              "#fb9f3a"
             ],
             [
              0.8888888888888888,
              "#fdca26"
             ],
             [
              1,
              "#f0f921"
             ]
            ],
            "type": "heatmap"
           }
          ],
          "heatmapgl": [
           {
            "colorbar": {
             "outlinewidth": 0,
             "ticks": ""
            },
            "colorscale": [
             [
              0,
              "#0d0887"
             ],
             [
              0.1111111111111111,
              "#46039f"
             ],
             [
              0.2222222222222222,
              "#7201a8"
             ],
             [
              0.3333333333333333,
              "#9c179e"
             ],
             [
              0.4444444444444444,
              "#bd3786"
             ],
             [
              0.5555555555555556,
              "#d8576b"
             ],
             [
              0.6666666666666666,
              "#ed7953"
             ],
             [
              0.7777777777777778,
              "#fb9f3a"
             ],
             [
              0.8888888888888888,
              "#fdca26"
             ],
             [
              1,
              "#f0f921"
             ]
            ],
            "type": "heatmapgl"
           }
          ],
          "histogram": [
           {
            "marker": {
             "pattern": {
              "fillmode": "overlay",
              "size": 10,
              "solidity": 0.2
             }
            },
            "type": "histogram"
           }
          ],
          "histogram2d": [
           {
            "colorbar": {
             "outlinewidth": 0,
             "ticks": ""
            },
            "colorscale": [
             [
              0,
              "#0d0887"
             ],
             [
              0.1111111111111111,
              "#46039f"
             ],
             [
              0.2222222222222222,
              "#7201a8"
             ],
             [
              0.3333333333333333,
              "#9c179e"
             ],
             [
              0.4444444444444444,
              "#bd3786"
             ],
             [
              0.5555555555555556,
              "#d8576b"
             ],
             [
              0.6666666666666666,
              "#ed7953"
             ],
             [
              0.7777777777777778,
              "#fb9f3a"
             ],
             [
              0.8888888888888888,
              "#fdca26"
             ],
             [
              1,
              "#f0f921"
             ]
            ],
            "type": "histogram2d"
           }
          ],
          "histogram2dcontour": [
           {
            "colorbar": {
             "outlinewidth": 0,
             "ticks": ""
            },
            "colorscale": [
             [
              0,
              "#0d0887"
             ],
             [
              0.1111111111111111,
              "#46039f"
             ],
             [
              0.2222222222222222,
              "#7201a8"
             ],
             [
              0.3333333333333333,
              "#9c179e"
             ],
             [
              0.4444444444444444,
              "#bd3786"
             ],
             [
              0.5555555555555556,
              "#d8576b"
             ],
             [
              0.6666666666666666,
              "#ed7953"
             ],
             [
              0.7777777777777778,
              "#fb9f3a"
             ],
             [
              0.8888888888888888,
              "#fdca26"
             ],
             [
              1,
              "#f0f921"
             ]
            ],
            "type": "histogram2dcontour"
           }
          ],
          "mesh3d": [
           {
            "colorbar": {
             "outlinewidth": 0,
             "ticks": ""
            },
            "type": "mesh3d"
           }
          ],
          "parcoords": [
           {
            "line": {
             "colorbar": {
              "outlinewidth": 0,
              "ticks": ""
             }
            },
            "type": "parcoords"
           }
          ],
          "pie": [
           {
            "automargin": true,
            "type": "pie"
           }
          ],
          "scatter": [
           {
            "fillpattern": {
             "fillmode": "overlay",
             "size": 10,
             "solidity": 0.2
            },
            "type": "scatter"
           }
          ],
          "scatter3d": [
           {
            "line": {
             "colorbar": {
              "outlinewidth": 0,
              "ticks": ""
             }
            },
            "marker": {
             "colorbar": {
              "outlinewidth": 0,
              "ticks": ""
             }
            },
            "type": "scatter3d"
           }
          ],
          "scattercarpet": [
           {
            "marker": {
             "colorbar": {
              "outlinewidth": 0,
              "ticks": ""
             }
            },
            "type": "scattercarpet"
           }
          ],
          "scattergeo": [
           {
            "marker": {
             "colorbar": {
              "outlinewidth": 0,
              "ticks": ""
             }
            },
            "type": "scattergeo"
           }
          ],
          "scattergl": [
           {
            "marker": {
             "colorbar": {
              "outlinewidth": 0,
              "ticks": ""
             }
            },
            "type": "scattergl"
           }
          ],
          "scattermapbox": [
           {
            "marker": {
             "colorbar": {
              "outlinewidth": 0,
              "ticks": ""
             }
            },
            "type": "scattermapbox"
           }
          ],
          "scatterpolar": [
           {
            "marker": {
             "colorbar": {
              "outlinewidth": 0,
              "ticks": ""
             }
            },
            "type": "scatterpolar"
           }
          ],
          "scatterpolargl": [
           {
            "marker": {
             "colorbar": {
              "outlinewidth": 0,
              "ticks": ""
             }
            },
            "type": "scatterpolargl"
           }
          ],
          "scatterternary": [
           {
            "marker": {
             "colorbar": {
              "outlinewidth": 0,
              "ticks": ""
             }
            },
            "type": "scatterternary"
           }
          ],
          "surface": [
           {
            "colorbar": {
             "outlinewidth": 0,
             "ticks": ""
            },
            "colorscale": [
             [
              0,
              "#0d0887"
             ],
             [
              0.1111111111111111,
              "#46039f"
             ],
             [
              0.2222222222222222,
              "#7201a8"
             ],
             [
              0.3333333333333333,
              "#9c179e"
             ],
             [
              0.4444444444444444,
              "#bd3786"
             ],
             [
              0.5555555555555556,
              "#d8576b"
             ],
             [
              0.6666666666666666,
              "#ed7953"
             ],
             [
              0.7777777777777778,
              "#fb9f3a"
             ],
             [
              0.8888888888888888,
              "#fdca26"
             ],
             [
              1,
              "#f0f921"
             ]
            ],
            "type": "surface"
           }
          ],
          "table": [
           {
            "cells": {
             "fill": {
              "color": "#EBF0F8"
             },
             "line": {
              "color": "white"
             }
            },
            "header": {
             "fill": {
              "color": "#C8D4E3"
             },
             "line": {
              "color": "white"
             }
            },
            "type": "table"
           }
          ]
         },
         "layout": {
          "annotationdefaults": {
           "arrowcolor": "#2a3f5f",
           "arrowhead": 0,
           "arrowwidth": 1
          },
          "autotypenumbers": "strict",
          "coloraxis": {
           "colorbar": {
            "outlinewidth": 0,
            "ticks": ""
           }
          },
          "colorscale": {
           "diverging": [
            [
             0,
             "#8e0152"
            ],
            [
             0.1,
             "#c51b7d"
            ],
            [
             0.2,
             "#de77ae"
            ],
            [
             0.3,
             "#f1b6da"
            ],
            [
             0.4,
             "#fde0ef"
            ],
            [
             0.5,
             "#f7f7f7"
            ],
            [
             0.6,
             "#e6f5d0"
            ],
            [
             0.7,
             "#b8e186"
            ],
            [
             0.8,
             "#7fbc41"
            ],
            [
             0.9,
             "#4d9221"
            ],
            [
             1,
             "#276419"
            ]
           ],
           "sequential": [
            [
             0,
             "#0d0887"
            ],
            [
             0.1111111111111111,
             "#46039f"
            ],
            [
             0.2222222222222222,
             "#7201a8"
            ],
            [
             0.3333333333333333,
             "#9c179e"
            ],
            [
             0.4444444444444444,
             "#bd3786"
            ],
            [
             0.5555555555555556,
             "#d8576b"
            ],
            [
             0.6666666666666666,
             "#ed7953"
            ],
            [
             0.7777777777777778,
             "#fb9f3a"
            ],
            [
             0.8888888888888888,
             "#fdca26"
            ],
            [
             1,
             "#f0f921"
            ]
           ],
           "sequentialminus": [
            [
             0,
             "#0d0887"
            ],
            [
             0.1111111111111111,
             "#46039f"
            ],
            [
             0.2222222222222222,
             "#7201a8"
            ],
            [
             0.3333333333333333,
             "#9c179e"
            ],
            [
             0.4444444444444444,
             "#bd3786"
            ],
            [
             0.5555555555555556,
             "#d8576b"
            ],
            [
             0.6666666666666666,
             "#ed7953"
            ],
            [
             0.7777777777777778,
             "#fb9f3a"
            ],
            [
             0.8888888888888888,
             "#fdca26"
            ],
            [
             1,
             "#f0f921"
            ]
           ]
          },
          "colorway": [
           "#636efa",
           "#EF553B",
           "#00cc96",
           "#ab63fa",
           "#FFA15A",
           "#19d3f3",
           "#FF6692",
           "#B6E880",
           "#FF97FF",
           "#FECB52"
          ],
          "font": {
           "color": "#2a3f5f"
          },
          "geo": {
           "bgcolor": "white",
           "lakecolor": "white",
           "landcolor": "#E5ECF6",
           "showlakes": true,
           "showland": true,
           "subunitcolor": "white"
          },
          "hoverlabel": {
           "align": "left"
          },
          "hovermode": "closest",
          "mapbox": {
           "style": "light"
          },
          "paper_bgcolor": "white",
          "plot_bgcolor": "#E5ECF6",
          "polar": {
           "angularaxis": {
            "gridcolor": "white",
            "linecolor": "white",
            "ticks": ""
           },
           "bgcolor": "#E5ECF6",
           "radialaxis": {
            "gridcolor": "white",
            "linecolor": "white",
            "ticks": ""
           }
          },
          "scene": {
           "xaxis": {
            "backgroundcolor": "#E5ECF6",
            "gridcolor": "white",
            "gridwidth": 2,
            "linecolor": "white",
            "showbackground": true,
            "ticks": "",
            "zerolinecolor": "white"
           },
           "yaxis": {
            "backgroundcolor": "#E5ECF6",
            "gridcolor": "white",
            "gridwidth": 2,
            "linecolor": "white",
            "showbackground": true,
            "ticks": "",
            "zerolinecolor": "white"
           },
           "zaxis": {
            "backgroundcolor": "#E5ECF6",
            "gridcolor": "white",
            "gridwidth": 2,
            "linecolor": "white",
            "showbackground": true,
            "ticks": "",
            "zerolinecolor": "white"
           }
          },
          "shapedefaults": {
           "line": {
            "color": "#2a3f5f"
           }
          },
          "ternary": {
           "aaxis": {
            "gridcolor": "white",
            "linecolor": "white",
            "ticks": ""
           },
           "baxis": {
            "gridcolor": "white",
            "linecolor": "white",
            "ticks": ""
           },
           "bgcolor": "#E5ECF6",
           "caxis": {
            "gridcolor": "white",
            "linecolor": "white",
            "ticks": ""
           }
          },
          "title": {
           "x": 0.05
          },
          "xaxis": {
           "automargin": true,
           "gridcolor": "white",
           "linecolor": "white",
           "ticks": "",
           "title": {
            "standoff": 15
           },
           "zerolinecolor": "white",
           "zerolinewidth": 2
          },
          "yaxis": {
           "automargin": true,
           "gridcolor": "white",
           "linecolor": "white",
           "ticks": "",
           "title": {
            "standoff": 15
           },
           "zerolinecolor": "white",
           "zerolinewidth": 2
          }
         }
        },
        "xaxis": {
         "anchor": "y",
         "autorange": true,
         "categoryorder": "total descending",
         "domain": [
          0,
          1
         ],
         "range": [
          -0.5,
          31.5
         ],
         "title": {
          "text": "shapeName"
         },
         "type": "category"
        },
        "yaxis": {
         "anchor": "x",
         "autorange": true,
         "domain": [
          0,
          1
         ],
         "range": [
          -1359.2292971773616,
          29534.07925157959
         ],
         "title": {
          "text": "total_sol"
         },
         "type": "linear"
        }
       }
      },
      "image/png": "[encoded data removed]",
      "text/html": [
       "<div>                            <div id=\"5e1200c4-7a54-473f-a736-5e31f203e39d\" class=\"plotly-graph-div\" style=\"height:525px; width:100%;\"></div>            <script type=\"text/javascript\">                require([\"plotly\"], function(Plotly) {                    window.PLOTLYENV=window.PLOTLYENV || {};                                    if (document.getElementById(\"5e1200c4-7a54-473f-a736-5e31f203e39d\")) {                    Plotly.newPlot(                        \"5e1200c4-7a54-473f-a736-5e31f203e39d\",                        [{\"alignmentgroup\":\"True\",\"hovertemplate\":\"shapeName=%{x}\\u003cbr\\u003etotal_sol=%{y}\\u003cextra\\u003e\\u003c\\u002fextra\\u003e\",\"legendgroup\":\"\",\"marker\":{\"color\":\"#636efa\"},\"name\":\"\",\"notched\":false,\"offsetgroup\":\"\",\"orientation\":\"v\",\"showlegend\":false,\"x\":[\"Santiago\",\"Duarte\",\"El\\u00edas Pi\\u00f1a\",\"Hato Mayor\",\"La Vega\",\"S\\u00e1nchez Ram\\u00edrez\",\"Saman\\u00e1\",\"Valverde\",\"Barahona\",\"La Romana\",\"Monse\\u00f1or Nouel\",\"Monte Cristi\",\"Pedernales\",\"Peravia\",\"Puerto Plata\",\"San Jos\\u00e9 de Ocoa\",\"San Juan\",\"Santiago Rodr\\u00edguez\",\"Distrito Nacional\",\"El Seibo\",\"Espaillat\",\"Hermanas Mirabal\",\"Independencia\",\"Baoruco\",\"Azua\",\"Dajab\\u00f3n\",\"La Altagracia\",\"Mar\\u00eda Trinidad S\\u00e1nchez\",\"Santo Domingo\",\"Monte Plata\",\"San Crist\\u00f3bal\",\"San Pedro de Macor\\u00eds\",\"Santiago\",\"Duarte\",\"El\\u00edas Pi\\u00f1a\",\"Hato Mayor\",\"La Vega\",\"S\\u00e1nchez Ram\\u00edrez\",\"Saman\\u00e1\",\"Valverde\",\"Barahona\",\"La Romana\",\"Monse\\u00f1or Nouel\",\"Monte Cristi\",\"Pedernales\",\"Peravia\",\"Puerto Plata\",\"San Jos\\u00e9 de Ocoa\",\"San Juan\",\"Santiago Rodr\\u00edguez\",\"Distrito Nacional\",\"El Seibo\",\"Espaillat\",\"Hermanas Mirabal\",\"Independencia\",\"Baoruco\",\"Azua\",\"Dajab\\u00f3n\",\"La Altagracia\",\"Mar\\u00eda Trinidad S\\u00e1nchez\",\"Santo Domingo\",\"Monte Plata\",\"San Crist\\u00f3bal\",\"San Pedro de Macor\\u00eds\",\"Santiago\",\"Duarte\",\"El\\u00edas Pi\\u00f1a\",\"Hato Mayor\",\"La Vega\",\"S\\u00e1nchez Ram\\u00edrez\",\"Saman\\u00e1\",\"Valverde\",\"Barahona\",\"La Romana\",\"Monse\\u00f1or Nouel\",\"Monte Cristi\",\"Pedernales\",\"Peravia\",\"Puerto Plata\",\"San Jos\\u00e9 de Ocoa\",\"San Juan\",\"Santiago Rodr\\u00edguez\",\"Distrito Nacional\",\"El Seibo\",\"Espaillat\",\"Hermanas Mirabal\",\"Independencia\",\"Baoruco\",\"Azua\",\"Dajab\\u00f3n\",\"La Altagracia\",\"Mar\\u00eda Trinidad S\\u00e1nchez\",\"Santo Domingo\",\"Monte Plata\",\"San Crist\\u00f3bal\",\"San Pedro de Macor\\u00eds\",\"Santiago\",\"Duarte\",\"El\\u00edas Pi\\u00f1a\",\"Hato Mayor\",\"La Vega\",\"S\\u00e1nchez Ram\\u00edrez\",\"Saman\\u00e1\",\"Valverde\",\"Barahona\",\"La Romana\",\"Monse\\u00f1or Nouel\",\"Monte Cristi\",\"Pedernales\",\"Peravia\",\"Puerto Plata\",\"San Jos\\u00e9 de Ocoa\",\"San Juan\",\"Santiago Rodr\\u00edguez\",\"Distrito Nacional\",\"El Seibo\",\"Espaillat\",\"Hermanas Mirabal\",\"Independencia\",\"Baoruco\",\"Azua\",\"Dajab\\u00f3n\",\"La Altagracia\",\"Mar\\u00eda Trinidad S\\u00e1nchez\",\"Santo Domingo\",\"Monte Plata\",\"San Crist\\u00f3bal\",\"San Pedro de Macor\\u00eds\",\"Santiago\",\"Duarte\",\"El\\u00edas Pi\\u00f1a\",\"Hato Mayor\",\"La Vega\",\"S\\u00e1nchez Ram\\u00edrez\",\"Saman\\u00e1\",\"Valverde\",\"Barahona\",\"La Romana\",\"Monse\\u00f1or Nouel\",\"Monte Cristi\",\"Pedernales\",\"Peravia\",\"Puerto Plata\",\"San Jos\\u00e9 de Ocoa\",\"San Juan\",\"Santiago Rodr\\u00edguez\",\"Distrito Nacional\",\"El Seibo\",\"Espaillat\",\"Hermanas Mirabal\",\"Independencia\",\"Baoruco\",\"Azua\",\"Dajab\\u00f3n\",\"La Altagracia\",\"Mar\\u00eda Trinidad S\\u00e1nchez\",\"Santo Domingo\",\"Monte Plata\",\"San Crist\\u00f3bal\",\"San Pedro de Macor\\u00eds\",\"Santiago\",\"Duarte\",\"El\\u00edas Pi\\u00f1a\",\"Hato Mayor\",\"La Vega\",\"S\\u00e1nchez Ram\\u00edrez\",\"Saman\\u00e1\",\"Valverde\",\"Barahona\",\"La Romana\",\"Monse\\u00f1or Nouel\",\"Monte Cristi\",\"Pedernales\",\"Peravia\",\"Puerto Plata\",\"San Jos\\u00e9 de Ocoa\",\"San Juan\",\"Santiago Rodr\\u00edguez\",\"Distrito Nacional\",\"El Seibo\",\"Espaillat\",\"Hermanas Mirabal\",\"Independencia\",\"Baoruco\",\"Azua\",\"Dajab\\u00f3n\",\"La Altagracia\",\"Mar\\u00eda Trinidad S\\u00e1nchez\",\"Santo Domingo\",\"Monte Plata\",\"San Crist\\u00f3bal\",\"San Pedro de Macor\\u00eds\",\"Santiago\",\"Duarte\",\"El\\u00edas Pi\\u00f1a\",\"Hato Mayor\",\"La Vega\",\"S\\u00e1nchez Ram\\u00edrez\",\"Saman\\u00e1\",\"Valverde\",\"Barahona\",\"La Romana\",\"Monse\\u00f1or Nouel\",\"Monte Cristi\",\"Pedernales\",\"Peravia\",\"Puerto Plata\",\"San Jos\\u00e9 de Ocoa\",\"San Juan\",\"Santiago Rodr\\u00edguez\",\"Distrito Nacional\",\"El Seibo\",\"Espaillat\",\"Hermanas Mirabal\",\"Independencia\",\"Baoruco\",\"Azua\",\"Dajab\\u00f3n\",\"La Altagracia\",\"Mar\\u00eda Trinidad S\\u00e1nchez\",\"Santo Domingo\",\"Monte Plata\",\"San Crist\\u00f3bal\",\"San Pedro de Macor\\u00eds\",\"Santiago\",\"Duarte\",\"El\\u00edas Pi\\u00f1a\",\"Hato Mayor\",\"La Vega\",\"S\\u00e1nchez Ram\\u00edrez\",\"Saman\\u00e1\",\"Valverde\",\"Barahona\",\"La Romana\",\"Monse\\u00f1or Nouel\",\"Monte Cristi\",\"Pedernales\",\"Peravia\",\"Puerto Plata\",\"San Jos\\u00e9 de Ocoa\",\"San Juan\",\"Santiago Rodr\\u00edguez\",\"Distrito Nacional\",\"El Seibo\",\"Espaillat\",\"Hermanas Mirabal\",\"Independencia\",\"Baoruco\",\"Azua\",\"Dajab\\u00f3n\",\"La Altagracia\",\"Mar\\u00eda Trinidad S\\u00e1nchez\",\"Santo Domingo\",\"Monte Plata\",\"San Crist\\u00f3bal\",\"San Pedro de Macor\\u00eds\",\"Santiago\",\"Duarte\",\"El\\u00edas Pi\\u00f1a\",\"Hato Mayor\",\"La Vega\",\"S\\u00e1nchez Ram\\u00edrez\",\"Saman\\u00e1\",\"Valverde\",\"Barahona\",\"La Romana\",\"Monse\\u00f1or Nouel\",\"Monte Cristi\",\"Pedernales\",\"Peravia\",\"Puerto Plata\",\"San Jos\\u00e9 de Ocoa\",\"San Juan\",\"Santiago Rodr\\u00edguez\",\"Distrito Nacional\",\"El Seibo\",\"Espaillat\",\"Hermanas Mirabal\",\"Independencia\",\"Baoruco\",\"Azua\",\"Dajab\\u00f3n\",\"La Altagracia\",\"Mar\\u00eda Trinidad S\\u00e1nchez\",\"Santo Domingo\",\"Monte Plata\",\"San Crist\\u00f3bal\",\"San Pedro de Macor\\u00eds\",\"Santiago\",\"Duarte\",\"El\\u00edas Pi\\u00f1a\",\"Hato Mayor\",\"La Vega\",\"S\\u00e1nchez Ram\\u00edrez\",\"Saman\\u00e1\",\"Valverde\",\"Barahona\",\"La Romana\",\"Monse\\u00f1or Nouel\",\"Monte Cristi\",\"Pedernales\",\"Peravia\",\"Puerto Plata\",\"San Jos\\u00e9 de Ocoa\",\"San Juan\",\"Santiago Rodr\\u00edguez\",\"Distrito Nacional\",\"El Seibo\",\"Espaillat\",\"Hermanas Mirabal\",\"Independencia\",\"Baoruco\",\"Azua\",\"Dajab\\u00f3n\",\"La Altagracia\",\"Mar\\u00eda Trinidad S\\u00e1nchez\",\"Santo Domingo\",\"Monte Plata\",\"San Crist\\u00f3bal\",\"San Pedro de Macor\\u00eds\",\"Santiago\",\"Duarte\",\"El\\u00edas Pi\\u00f1a\",\"Hato Mayor\",\"La Vega\",\"S\\u00e1nchez Ram\\u00edrez\",\"Saman\\u00e1\",\"Valverde\",\"Barahona\",\"La Romana\",\"Monse\\u00f1or Nouel\",\"Monte Cristi\",\"Pedernales\",\"Peravia\",\"Puerto Plata\",\"San Jos\\u00e9 de Ocoa\",\"San Juan\",\"Santiago Rodr\\u00edguez\",\"Distrito Nacional\",\"El Seibo\",\"Espaillat\",\"Hermanas Mirabal\",\"Independencia\",\"Baoruco\",\"Azua\",\"Dajab\\u00f3n\",\"La Altagracia\",\"Mar\\u00eda Trinidad S\\u00e1nchez\",\"Santo Domingo\",\"Monte Plata\",\"San Crist\\u00f3bal\",\"San Pedro de Macor\\u00eds\",\"Santiago\",\"Duarte\",\"El\\u00edas Pi\\u00f1a\",\"Hato Mayor\",\"La Vega\",\"S\\u00e1nchez Ram\\u00edrez\",\"Saman\\u00e1\",\"Valverde\",\"Barahona\",\"La Romana\",\"Monse\\u00f1or Nouel\",\"Monte Cristi\",\"Pedernales\",\"Peravia\",\"Puerto Plata\",\"San Jos\\u00e9 de Ocoa\",\"San Juan\",\"Santiago Rodr\\u00edguez\",\"Distrito Nacional\",\"El Seibo\",\"Espaillat\",\"Hermanas Mirabal\",\"Independencia\",\"Baoruco\",\"Azua\",\"Dajab\\u00f3n\",\"La Altagracia\",\"Mar\\u00eda Trinidad S\\u00e1nchez\",\"Santo Domingo\",\"Monte Plata\",\"San Crist\\u00f3bal\",\"San Pedro de Macor\\u00eds\",\"Santiago\",\"Duarte\",\"El\\u00edas Pi\\u00f1a\",\"Hato Mayor\",\"La Vega\",\"S\\u00e1nchez Ram\\u00edrez\",\"Saman\\u00e1\",\"Valverde\",\"Barahona\",\"La Romana\",\"Monse\\u00f1or Nouel\",\"Monte Cristi\",\"Pedernales\",\"Peravia\",\"Puerto Plata\",\"San Jos\\u00e9 de Ocoa\",\"San Juan\",\"Santiago Rodr\\u00edguez\",\"Distrito Nacional\",\"El Seibo\",\"Espaillat\",\"Hermanas Mirabal\",\"Independencia\",\"Baoruco\",\"Azua\",\"Dajab\\u00f3n\",\"La Altagracia\",\"Mar\\u00eda Trinidad S\\u00e1nchez\",\"Santo Domingo\",\"Monte Plata\",\"San Crist\\u00f3bal\",\"San Pedro de Macor\\u00eds\",\"Santiago\",\"Duarte\",\"El\\u00edas Pi\\u00f1a\",\"Hato Mayor\",\"La Vega\",\"S\\u00e1nchez Ram\\u00edrez\",\"Saman\\u00e1\",\"Valverde\",\"Barahona\",\"La Romana\",\"Monse\\u00f1or Nouel\",\"Monte Cristi\",\"Pedernales\",\"Peravia\",\"Puerto Plata\",\"San Jos\\u00e9 de Ocoa\",\"San Juan\",\"Santiago Rodr\\u00edguez\",\"Distrito Nacional\",\"El Seibo\",\"Espaillat\",\"Hermanas Mirabal\",\"Independencia\",\"Baoruco\",\"Azua\",\"Dajab\\u00f3n\",\"La Altagracia\",\"Mar\\u00eda Trinidad S\\u00e1nchez\",\"Santo Domingo\",\"Monte Plata\",\"San Crist\\u00f3bal\",\"San Pedro de Macor\\u00eds\",\"Santiago\",\"Duarte\",\"El\\u00edas Pi\\u00f1a\",\"Hato Mayor\",\"La Vega\",\"S\\u00e1nchez Ram\\u00edrez\",\"Saman\\u00e1\",\"Valverde\",\"Barahona\",\"La Romana\",\"Monse\\u00f1or Nouel\",\"Monte Cristi\",\"Pedernales\",\"Peravia\",\"Puerto Plata\",\"San Jos\\u00e9 de Ocoa\",\"San Juan\",\"Santiago Rodr\\u00edguez\",\"Distrito Nacional\",\"El Seibo\",\"Espaillat\",\"Hermanas Mirabal\",\"Independencia\",\"Baoruco\",\"Azua\",\"Dajab\\u00f3n\",\"La Altagracia\",\"Mar\\u00eda Trinidad S\\u00e1nchez\",\"Santo Domingo\",\"Monte Plata\",\"San Crist\\u00f3bal\",\"San Pedro de Macor\\u00eds\",\"Santiago\",\"Duarte\",\"El\\u00edas Pi\\u00f1a\",\"Hato Mayor\",\"La Vega\",\"S\\u00e1nchez Ram\\u00edrez\",\"Saman\\u00e1\",\"Valverde\",\"Barahona\",\"La Romana\",\"Monse\\u00f1or Nouel\",\"Monte Cristi\",\"Pedernales\",\"Peravia\",\"Puerto Plata\",\"San Jos\\u00e9 de Ocoa\",\"San Juan\",\"Santiago Rodr\\u00edguez\",\"Distrito Nacional\",\"El Seibo\",\"Espaillat\",\"Hermanas Mirabal\",\"Independencia\",\"Baoruco\",\"Azua\",\"Dajab\\u00f3n\",\"La Altagracia\",\"Mar\\u00eda Trinidad S\\u00e1nchez\",\"Santo Domingo\",\"Monte Plata\",\"San Crist\\u00f3bal\",\"San Pedro de Macor\\u00eds\",\"Santiago\",\"Duarte\",\"El\\u00edas Pi\\u00f1a\",\"Hato Mayor\",\"La Vega\",\"S\\u00e1nchez Ram\\u00edrez\",\"Saman\\u00e1\",\"Valverde\",\"Barahona\",\"La Romana\",\"Monse\\u00f1or Nouel\",\"Monte Cristi\",\"Pedernales\",\"Peravia\",\"Puerto Plata\",\"San Jos\\u00e9 de Ocoa\",\"San Juan\",\"Santiago Rodr\\u00edguez\",\"Distrito Nacional\",\"El Seibo\",\"Espaillat\",\"Hermanas Mirabal\",\"Independencia\",\"Baoruco\",\"Azua\",\"Dajab\\u00f3n\",\"La Altagracia\",\"Mar\\u00eda Trinidad S\\u00e1nchez\",\"Santo Domingo\",\"Monte Plata\",\"San Crist\\u00f3bal\",\"San Pedro de Macor\\u00eds\",\"Santiago\",\"Duarte\",\"El\\u00edas Pi\\u00f1a\",\"Hato Mayor\",\"La Vega\",\"S\\u00e1nchez Ram\\u00edrez\",\"Saman\\u00e1\",\"Valverde\",\"Barahona\",\"La Romana\",\"Monse\\u00f1or Nouel\",\"Monte Cristi\",\"Pedernales\",\"Peravia\",\"Puerto Plata\",\"San Jos\\u00e9 de Ocoa\",\"San Juan\",\"Santiago Rodr\\u00edguez\",\"Distrito Nacional\",\"El Seibo\",\"Espaillat\",\"Hermanas Mirabal\",\"Independencia\",\"Baoruco\",\"Azua\",\"Dajab\\u00f3n\",\"La Altagracia\",\"Mar\\u00eda Trinidad S\\u00e1nchez\",\"Santo Domingo\",\"Monte Plata\",\"San Crist\\u00f3bal\",\"San Pedro de Macor\\u00eds\",\"Santiago\",\"Duarte\",\"El\\u00edas Pi\\u00f1a\",\"Hato Mayor\",\"La Vega\",\"S\\u00e1nchez Ram\\u00edrez\",\"Saman\\u00e1\",\"Valverde\",\"Barahona\",\"La Romana\",\"Monse\\u00f1or Nouel\",\"Monte Cristi\",\"Pedernales\",\"Peravia\",\"Puerto Plata\",\"San Jos\\u00e9 de Ocoa\",\"San Juan\",\"Santiago Rodr\\u00edguez\",\"Distrito Nacional\",\"El Seibo\",\"Espaillat\",\"Hermanas Mirabal\",\"Independencia\",\"Baoruco\",\"Azua\",\"Dajab\\u00f3n\",\"La Altagracia\",\"Mar\\u00eda Trinidad S\\u00e1nchez\",\"Santo Domingo\",\"Monte Plata\",\"San Crist\\u00f3bal\",\"San Pedro de Macor\\u00eds\",\"Santiago\",\"Duarte\",\"El\\u00edas Pi\\u00f1a\",\"Hato Mayor\",\"La Vega\",\"S\\u00e1nchez Ram\\u00edrez\",\"Saman\\u00e1\",\"Valverde\",\"Barahona\",\"La Romana\",\"Monse\\u00f1or Nouel\",\"Monte Cristi\",\"Pedernales\",\"Peravia\",\"Puerto Plata\",\"San Jos\\u00e9 de Ocoa\",\"San Juan\",\"Santiago Rodr\\u00edguez\",\"Distrito Nacional\",\"El Seibo\",\"Espaillat\",\"Hermanas Mirabal\",\"Independencia\",\"Baoruco\",\"Azua\",\"Dajab\\u00f3n\",\"La Altagracia\",\"Mar\\u00eda Trinidad S\\u00e1nchez\",\"Santo Domingo\",\"Monte Plata\",\"San Crist\\u00f3bal\",\"San Pedro de Macor\\u00eds\",\"Santiago\",\"Duarte\",\"El\\u00edas Pi\\u00f1a\",\"Hato Mayor\",\"La Vega\",\"S\\u00e1nchez Ram\\u00edrez\",\"Saman\\u00e1\",\"Valverde\",\"Barahona\",\"La Romana\",\"Monse\\u00f1or Nouel\",\"Monte Cristi\",\"Pedernales\",\"Peravia\",\"Puerto Plata\",\"San Jos\\u00e9 de Ocoa\",\"San Juan\",\"Santiago Rodr\\u00edguez\",\"Distrito Nacional\",\"El Seibo\",\"Espaillat\",\"Hermanas Mirabal\",\"Independencia\",\"Baoruco\",\"Azua\",\"Dajab\\u00f3n\",\"La Altagracia\",\"Mar\\u00eda Trinidad S\\u00e1nchez\",\"Santo Domingo\",\"Monte Plata\",\"San Crist\\u00f3bal\",\"San Pedro de Macor\\u00eds\",\"Santiago\",\"Duarte\",\"El\\u00edas Pi\\u00f1a\",\"Hato Mayor\",\"La Vega\",\"S\\u00e1nchez Ram\\u00edrez\",\"Saman\\u00e1\",\"Valverde\",\"Barahona\",\"La Romana\",\"Monse\\u00f1or Nouel\",\"Monte Cristi\",\"Pedernales\",\"Peravia\",\"Puerto Plata\",\"San Jos\\u00e9 de Ocoa\",\"San Juan\",\"Santiago Rodr\\u00edguez\",\"Distrito Nacional\",\"El Seibo\",\"Espaillat\",\"Hermanas Mirabal\",\"Independencia\",\"Baoruco\",\"Azua\",\"Dajab\\u00f3n\",\"La Altagracia\",\"Mar\\u00eda Trinidad S\\u00e1nchez\",\"Santo Domingo\",\"Monte Plata\",\"San Crist\\u00f3bal\",\"San Pedro de Macor\\u00eds\",\"Santiago\",\"Duarte\",\"El\\u00edas Pi\\u00f1a\",\"Hato Mayor\",\"La Vega\",\"S\\u00e1nchez Ram\\u00edrez\",\"Saman\\u00e1\",\"Valverde\",\"Barahona\",\"La Romana\",\"Monse\\u00f1or Nouel\",\"Monte Cristi\",\"Pedernales\",\"Peravia\",\"Puerto Plata\",\"San Jos\\u00e9 de Ocoa\",\"San Juan\",\"Santiago Rodr\\u00edguez\",\"Distrito Nacional\",\"El Seibo\",\"Espaillat\",\"Hermanas Mirabal\",\"Independencia\",\"Baoruco\",\"Azua\",\"Dajab\\u00f3n\",\"La Altagracia\",\"Mar\\u00eda Trinidad S\\u00e1nchez\",\"Santo Domingo\",\"Monte Plata\",\"San Crist\\u00f3bal\",\"San Pedro de Macor\\u00eds\",\"Santiago\",\"Duarte\",\"El\\u00edas Pi\\u00f1a\",\"Hato Mayor\",\"La Vega\",\"S\\u00e1nchez Ram\\u00edrez\",\"Saman\\u00e1\",\"Valverde\",\"Barahona\",\"La Romana\",\"Monse\\u00f1or Nouel\",\"Monte Cristi\",\"Pedernales\",\"Peravia\",\"Puerto Plata\",\"San Jos\\u00e9 de Ocoa\",\"San Juan\",\"Santiago Rodr\\u00edguez\",\"Distrito Nacional\",\"El Seibo\",\"Espaillat\",\"Hermanas Mirabal\",\"Independencia\",\"Baoruco\",\"Azua\",\"Dajab\\u00f3n\",\"La Altagracia\",\"Mar\\u00eda Trinidad S\\u00e1nchez\",\"Santo Domingo\",\"Monte Plata\",\"San Crist\\u00f3bal\",\"San Pedro de Macor\\u00eds\",\"Santiago\",\"Duarte\",\"El\\u00edas Pi\\u00f1a\",\"Hato Mayor\",\"La Vega\",\"S\\u00e1nchez Ram\\u00edrez\",\"Saman\\u00e1\",\"Valverde\",\"Barahona\",\"La Romana\",\"Monse\\u00f1or Nouel\",\"Monte Cristi\",\"Pedernales\",\"Peravia\",\"Puerto Plata\",\"San Jos\\u00e9 de Ocoa\",\"San Juan\",\"Santiago Rodr\\u00edguez\",\"Distrito Nacional\",\"El Seibo\",\"Espaillat\",\"Hermanas Mirabal\",\"Independencia\",\"Baoruco\",\"Azua\",\"Dajab\\u00f3n\",\"La Altagracia\",\"Mar\\u00eda Trinidad S\\u00e1nchez\",\"Santo Domingo\",\"Monte Plata\",\"San Crist\\u00f3bal\",\"San Pedro de Macor\\u00eds\",\"Santiago\",\"Duarte\",\"El\\u00edas Pi\\u00f1a\",\"Hato Mayor\",\"La Vega\",\"S\\u00e1nchez Ram\\u00edrez\",\"Saman\\u00e1\",\"Valverde\",\"Barahona\",\"La Romana\",\"Monse\\u00f1or Nouel\",\"Monte Cristi\",\"Pedernales\",\"Peravia\",\"Puerto Plata\",\"San Jos\\u00e9 de Ocoa\",\"San Juan\",\"Santiago Rodr\\u00edguez\",\"Distrito Nacional\",\"El Seibo\",\"Espaillat\",\"Hermanas Mirabal\",\"Independencia\",\"Baoruco\",\"Azua\",\"Dajab\\u00f3n\",\"La Altagracia\",\"Mar\\u00eda Trinidad S\\u00e1nchez\",\"Santo Domingo\",\"Monte Plata\",\"San Crist\\u00f3bal\",\"San Pedro de Macor\\u00eds\",\"Santiago\",\"Duarte\",\"El\\u00edas Pi\\u00f1a\",\"Hato Mayor\",\"La Vega\",\"S\\u00e1nchez Ram\\u00edrez\",\"Saman\\u00e1\",\"Valverde\",\"Barahona\",\"La Romana\",\"Monse\\u00f1or Nouel\",\"Monte Cristi\",\"Pedernales\",\"Peravia\",\"Puerto Plata\",\"San Jos\\u00e9 de Ocoa\",\"San Juan\",\"Santiago Rodr\\u00edguez\",\"Distrito Nacional\",\"El Seibo\",\"Espaillat\",\"Hermanas Mirabal\",\"Independencia\",\"Baoruco\",\"Azua\",\"Dajab\\u00f3n\",\"La Altagracia\",\"Mar\\u00eda Trinidad S\\u00e1nchez\",\"Santo Domingo\",\"Monte Plata\",\"San Crist\\u00f3bal\",\"San Pedro de Macor\\u00eds\",\"Santiago\",\"Duarte\",\"El\\u00edas Pi\\u00f1a\",\"Hato Mayor\",\"La Vega\",\"S\\u00e1nchez Ram\\u00edrez\",\"Saman\\u00e1\",\"Valverde\",\"Barahona\",\"La Romana\",\"Monse\\u00f1or Nouel\",\"Monte Cristi\",\"Pedernales\",\"Peravia\",\"Puerto Plata\",\"San Jos\\u00e9 de Ocoa\",\"San Juan\",\"Santiago Rodr\\u00edguez\",\"Distrito Nacional\",\"El Seibo\",\"Espaillat\",\"Hermanas Mirabal\",\"Independencia\",\"Baoruco\",\"Azua\",\"Dajab\\u00f3n\",\"La Altagracia\",\"Mar\\u00eda Trinidad S\\u00e1nchez\",\"Santo Domingo\",\"Monte Plata\",\"San Crist\\u00f3bal\",\"San Pedro de Macor\\u00eds\"],\"x0\":\" \",\"xaxis\":\"x\",\"y\":[5290.034919519864,998.3424950779654,221.70588666340885,436.8685584975224,1792.7366193143175,549.0988532291909,185.43613026048624,515.1875076429517,621.0751836001289,1422.6230997052846,915.2849137535284,387.1027581423522,268.2795211985999,777.324872843337,987.8429669973024,200.31002265583064,1000.2384403625248,222.18291015487685,2336.2537040486054,373.8545679604599,772.9763336649422,242.4874812863036,311.5865375656415,352.2145235384504,732.9397434217964,227.8913323466976,2065.9010159957643,344.47639897252395,8739.075335872207,572.5279141395993,2307.969190372877,1587.6545629149557,5975.832885006829,1138.7290401729008,231.30596240951724,476.93399765327854,2017.5008502036624,589.1082798833498,199.52896284601272,595.1293588003399,660.7913966477795,1546.0290272182688,933.218008323628,412.2782869316345,282.0510960645535,840.9983078871871,1122.4720768071272,211.55671438872815,1091.93863452413,232.97686519538067,2454.395677940518,397.8932898288263,880.3741522321516,273.0759355805667,326.76525588558604,378.28165308131895,799.6819246953908,238.10250139896775,2240.5178557206314,374.9143906654389,9293.956118772749,605.7536616338236,2408.2637964638134,1761.2790287032717,6228.493029886559,1196.649246115457,234.005683911139,490.1747422253094,2114.9016112021372,608.1459567957936,203.5324479596287,655.6219749551045,698.8704406415424,1599.821392018713,1010.1005484173402,421.5199110077585,284.68899474745865,873.9354559990121,1233.9500518905477,219.36579752625784,1122.7086088102235,240.0188924387682,2493.11312526628,406.2679927671658,907.8184454621932,278.8123231170807,331.5113061601625,391.44356177373254,823.7781842527141,239.42697698561577,2460.9342614915445,396.2488707596764,9521.663677692764,616.8902022258034,2489.8122224915837,1823.282278087852,6516.495977129586,1280.7590869000717,243.50689079998165,514.1673826257975,2340.7096861358655,655.1969141032329,212.1534485918926,682.5179726651487,746.4659540219634,1691.36226414296,1068.0337370873092,437.927127934817,295.78635954585144,922.8681303642544,1305.150204650649,227.8432008017804,1171.8425088709473,250.3964406450882,2583.94286663579,422.5773146474769,952.00965309143,295.14218192845584,345.1537825874253,407.51877643542,862.6115249793904,250.44304253330452,2647.1417562392116,417.3532525840928,9948.488314346352,641.208386841095,2613.842461826886,1913.7454962892857,7006.780899375559,1373.7058566267008,254.73997604551863,589.3714115686278,2514.6487181882067,699.2421483824943,223.57253684024596,747.6688659974466,827.7349217237214,1784.4462897411747,1125.3455401167569,462.0528189802872,309.51312883601474,981.63219362921,1380.5506485130854,240.20344903486617,1238.1170278810112,264.2684084291844,2709.705540922576,442.9054360826517,1014.4274043312256,312.1356248610746,362.0937225219666,439.146391289053,919.855222456216,261.35751700451,2843.3781857191934,446.8339706353112,10743.528904079569,671.5998886243386,2780.7317549591835,2030.8408454539135,7474.808109210347,1460.179664400512,267.69576356355464,643.7359079303112,2777.8661756436913,741.8330894247282,240.59774545466203,810.8924475827347,890.2797413163327,1887.458049725084,1224.4153058794786,491.6769359378545,325.48185374719253,1074.9474661553315,1537.6806241396007,255.709155328075,1336.5007769168883,280.08079653943287,2853.654250949037,472.7490543669052,1098.132050954711,331.288952603761,382.0669711082588,466.2512995117437,970.8715371611952,275.01222698609615,3130.5644881323565,471.8297602673956,11370.095130780275,708.3524969768292,3004.636605817533,2207.1649191550173,7882.82060910604,1536.9438199673789,279.5598509277197,677.7559558098807,2932.702816690505,777.3892690753673,260.88953010264567,856.0503959574827,931.762725930062,1976.3574128212888,1284.1653851998194,521.5469029063688,341.0256933743171,1125.7762254316144,1612.7873000102295,270.8001525846767,1399.0429891630706,293.4531520125329,2988.2516203562423,496.1414738103455,1152.9664712711867,346.88118517112497,399.564613848574,496.84706331754415,1016.1431571086246,286.99493797608454,3362.177706570251,496.2681690037249,11928.745791509918,742.6097302055244,3153.7394322090886,2316.8376122453633,8309.699503140568,1623.5574530172578,291.65344427601974,729.7447355151763,3106.1003978991903,824.2297245212776,282.0262369801601,911.334648415768,986.0663245987076,2139.8771918051375,1360.8955461762118,571.2491839813251,356.0872607104041,1202.5261232087428,1690.3041280879404,288.17348694538373,1498.3618273079985,311.8294446620871,3145.528164523255,521.4487644445076,1215.6312100516227,367.2115233795899,422.23343977618464,549.1544536417605,1064.2397651217148,318.02664205969563,3650.7132389511544,531.2844738547125,13040.987746248704,816.8817804361097,3415.15218722518,2463.107375018911,8637.695299293888,1710.8823197196514,302.21195294456743,776.4019052494974,3238.6776439350892,858.4400938058304,300.3771587762764,949.334509635118,1039.9469721663238,2333.089158196718,1426.5898082826077,594.6077618465997,368.9152083625981,1254.4860594838567,1762.194704545421,299.6589227187867,1566.3057791941303,328.3294886786564,3266.9194884356334,565.6418480742211,1262.7408950777617,382.5896877120522,439.9820673492026,576.7975627210794,1108.3714733869713,336.38196040047137,3897.124231391619,578.5776383841155,13675.501040378154,864.112444178059,3584.2978726736037,2610.5842419663486,8760.549064200708,1741.5409018312018,306.9185758689747,796.7527713012462,3305.732057321335,869.121042419473,306.67101512142244,961.030032254025,1054.6746488532017,2396.553424983983,1446.736991221414,601.8141805305493,374.3301868176635,1269.7621452911812,1783.861554193643,304.7086125621608,1590.5926481215963,332.642904268176,3306.6932932835,640.6086626405809,1285.741513176759,390.82616343533306,446.5233904840898,585.7448367485231,1135.1582661752311,339.23318740620306,3982.596604789823,594.7177253492324,13979.421087139075,879.1009612446029,3631.7420504314937,2671.940272422573,9248.9288310945,1835.972208118556,317.94358298051003,873.5559048319558,3503.1039991557886,905.2322655008116,334.04852560279414,1005.0378579111664,1131.221103287795,2514.738494736717,1515.956463791751,637.7714480245522,389.3877391479179,1329.219874404663,1996.2086369806352,324.49642044860957,1658.4138136937927,352.79428919799193,3433.619369491875,690.4130659529975,1394.182644900446,417.2567176686782,467.7385275490144,618.2625311331423,1193.485066609902,350.10125016172753,4217.982124729659,652.4707370070263,14587.297627983718,956.2282661543468,3779.537122684731,2870.0632644098177,9271.171953552812,1875.5731353846263,318.052050700959,902.2817470265952,3539.869717542185,938.2142910864128,344.7185603039521,1040.7165596653729,1149.6959063618797,2533.093496063351,1537.5175018992502,657.2817628084445,394.69209544512574,1342.977040190293,2041.64001835006,334.3355432110674,1676.6912501270867,363.2322133434169,3427.8494935428394,698.0874124334144,1404.588987607232,424.8197022595827,489.17926943015834,641.0949531254815,1246.5606609324898,359.11006302377746,4295.894707348241,666.2707520394929,14619.04561577299,985.8576520745952,3815.497631203604,2945.332923921182,9351.962297855292,1892.764079782074,320.2299646503201,915.1709757590992,3571.9666239587987,946.8406989470124,348.0436667241886,1050.5005641327182,1159.6989660980653,2566.8223757766623,1553.617438249145,663.5126929996936,397.5232730320856,1354.6764893217703,2059.4035458476233,337.2949861432992,1691.593924307706,366.4666013383398,3459.7002559138277,705.9372202224006,1416.8153693325385,429.599673394479,493.0271547904785,646.7863248514777,1257.574786935045,360.45538850058495,4402.877791246012,672.0677163761617,14819.318580706566,995.3680155730422,3849.002616534017,2972.9322421753523,9926.50174925444,2009.2452394248808,338.988028867338,971.8238109301116,3794.962888823273,1005.0019304756,369.9609402739534,1115.0292714046498,1230.935363481676,2726.0968229692944,1649.0509191071865,704.1868716806173,420.8431170223975,1437.8897000244729,2185.905761475686,358.0138793892136,1795.6695016780902,389.4533335033583,3672.617669199028,749.4365195471867,1503.8455551548334,455.9885313980136,522.3897054378891,686.8676956960967,1334.8233630740474,379.43867154448617,4756.752453790576,713.3505709912262,15741.55229100603,1056.676417817584,4100.448217122606,3158.346352595033,10629.30543118593,2161.1977055685197,361.9353339749808,1041.868192984076,4078.4794628297577,1076.1223322691435,398.2641416041876,1195.6689167304653,1318.044276306267,2923.8488107543367,1767.548126007354,753.9247352614999,449.37060598807,1539.6440210856351,2342.4313927251337,383.34924488844825,1923.4804988724932,417.5186345009827,3932.5172867419665,802.6805800578759,1610.267338654984,488.34597395120875,558.304433353859,735.5135921723702,1429.2840602441738,403.3110857585483,5285.287102867225,763.8488910479874,16894.14029304678,1131.4536461870462,4396.078109685901,3386.4058907698777,11228.841621238756,2287.7431769746186,381.6317429675776,1117.1682566407262,4310.858581493125,1136.982523979247,422.7152872747651,1263.6746256330134,1392.209250854101,3120.591996565578,1867.276168093378,796.2516793206335,474.312361390129,1629.7647888810902,2474.7431572295873,405.90264361740327,2033.653476913478,445.56110379193353,4153.525671311921,854.3601233859855,1700.7647649297526,516.3732240466512,589.0671945706887,777.8732557961167,1509.635031325794,423.8982651615845,5697.5448324031695,806.8506839673308,17887.04547925405,1195.0416249295076,4646.830892094529,3589.488899629315,11477.317545925574,2359.497286009205,394.820185986687,1143.899878230457,4406.752724422016,1162.2287292905007,436.31740839013867,1301.5327752355547,1423.5654343469473,3204.47442877725,1907.7650704133157,814.0027498031949,484.5174299563848,1666.573173994936,2527.4309981734723,418.7741279050415,2079.091518603587,457.0701115270457,4241.929227911257,872.8572069873995,1739.7827134197246,527.3636982346285,602.0828883382618,812.5731092997623,1543.0011091127112,432.6956029540182,5951.550822950052,824.0387341940518,18289.183619535197,1220.5540249206858,4749.068818302132,3672.993169958802,11579.788051170312,2387.7492535814936,397.6924449326945,1153.0840783864255,4434.614496397094,1196.937843444301,439.5807195434967,1328.569750292483,1433.2774727504045,3243.7594273987347,1922.4245849266936,819.1458666386848,490.6593252949855,1677.104653114811,2543.289332568879,422.4036400004346,2110.712474366029,468.5318340849644,4275.957806366566,878.4346317525592,1750.698958946677,530.6726323310066,607.3480480727023,818.6914569595866,1553.0547573620786,441.81965385061807,6053.95425165804,829.2091533364033,18449.425002411535,1228.59820492367,4786.334496243066,3699.0576317485047,12239.48171894929,2548.6093893732514,418.0102377293742,1224.0518401106192,4685.096972616748,1459.5902203983835,469.02151474385863,1412.2146523130298,1517.1960172223114,3474.4148598425536,2028.788155133176,864.328157792547,515.5091338478467,1770.968573416682,2688.448477667979,446.91514263749104,2315.9928134371835,495.4041582831565,4512.442580787807,929.004939572484,1850.326414440953,560.0640582082322,642.9762878436082,865.8017073408063,1641.896782370174,459.6956814992662,6470.726670867672,875.8306115619691,19656.339110051653,1298.4797488781164,5102.798914145577,3913.656079956247,12561.333732316718,2614.352490240336,428.76354297563154,1257.3154694823074,4821.8044056196995,1598.5721090838028,488.5272603667833,1460.8505853629574,1550.9477181397226,3605.36615419943,2091.686759463946,901.3303254067898,529.5274503940461,1810.1408724887117,2745.2608496820217,467.2580831381621,2496.85288724315,518.6946828035162,4606.208734699324,950.7672051388848,1897.2974665647043,575.1776282973151,657.0514080118314,884.7820834354446,1687.6277048894,497.7875418788078,6694.730696120799,894.1817198507922,20332.141673565024,1336.276683923135,5212.421758707833,4006.646164349831,12857.489104673365,2670.9578039352814,437.7130219392333,1297.96219174488,4931.263092671072,1725.1493472433558,502.5706415559146,1509.1944046538852,1585.0311321028305,3772.928599435442,2141.7327348195463,934.4659558557412,539.6966479745566,1857.5327470197983,2795.068220371944,479.8062938378139,2559.7431832944094,531.9149931326218,4689.228852081298,987.4968188965432,1942.9152377502592,593.4448668342013,672.0030605352391,902.2102114478744,1722.9516873034186,514.3367834611269,6907.267812691366,912.4497807031752,20938.64921406847,1368.7450866597535,5334.075643057391,4151.468739995185,13316.444119062098,2757.5170929184137,476.1576693298771,1339.976736179988,5093.158311816465,1808.1044548453067,518.9419488909199,1560.666446448833,1659.7575456995587,3914.299496559302,2210.976969850181,981.6393351707392,570.596007798583,1918.3341436862356,2885.4345883686747,495.3207357781775,2655.4195619286256,549.7919268282021,4840.839882525275,1019.5313785640632,2005.8668542634032,630.1779784391913,693.7627931423048,932.662644256564,1779.1924356928644,533.0145821727955,7130.78456260036,941.949534590221,21626.0563891357,1414.0297424843495,5507.133167692201,4310.943731613253,13955.302195963846,2888.792640008646,499.85723143973775,1415.6461636274462,5318.677623782203,1896.386016082443,544.520921425375,1647.6363789222405,1736.6699157510322,4101.607737436132,2308.2068021382775,1033.5605653980783,596.2869288903827,2013.017024577424,3004.786916172445,519.2559080691898,2784.404663382675,575.9809417815773,4965.025892414766,1067.7929227474856,2099.7792889537764,664.2110493652962,745.5978070331553,985.358941124701,1875.2088755739671,563.9065816128957,7474.94722927949,987.5959938546022,22969.520325906153,1485.4599941834508,5743.202768851055,4514.5921705688925,14606.258881248326,3032.741399664854,524.0321484690788,1481.9221904914757,5573.774969514387,1988.8108231106512,569.8018219246585,1731.7702480548144,1819.6515817267057,4292.724380777045,2415.403630991426,1086.4011710587672,624.0957448734957,2124.232391696876,3148.077079074814,544.6580972438935,2921.064089344883,603.218204313049,5194.563808560839,1123.89415280854,2201.3325044185503,708.3932261116366,785.794880027163,1041.596831780672,1966.6430482568117,590.5935426556597,7831.412227727502,1035.5120396340596,24029.63909296417,1554.968983114292,6015.075975507235,4730.989289973647,15251.931133517572,3170.8418849808313,546.5585414583194,1547.4238401581256,5828.721436109789,2079.8320068689536,596.793645715947,1812.4774718987592,1900.008917311009,4482.294665199754,2522.0698665197015,1147.58458109498,650.7640142487545,2221.592738412759,3297.1433825761674,568.9221933122941,3062.287146853933,630.0768560665493,5424.6412349177335,1173.526264156664,2300.0092612621834,740.5325339617683,824.3105043812126,1112.3313532713578,2056.7998744066435,615.9192130939637,8184.266706356466,1081.9252230514496,25093.917397850277,1625.6010852714962,6286.883958232109,4947.105842825478,15729.627454741672,3276.6772298013443,562.9448208379981,1595.610249491532,6032.916402605583,2148.128517581552,615.4854428764651,1875.6835720602796,1958.8095779943696,4621.3688543035705,2600.12180031538,1192.940952982622,670.2990815290049,2291.5335644840607,3404.8318229864053,586.5289573960443,3159.0191249883655,650.2064474907576,5594.765628410788,1210.0153523800425,2373.1487446350225,766.5867821026079,851.6510618929769,1152.4280337972968,2123.6919294017193,633.2864832654882,8442.174812761825,1123.1576995558598,25876.08821727809,1676.863742670943,6486.791185748578,5101.3977140090055,16462.08545151166,3432.225411356313,590.3459761189478,1669.4952887281488,6322.788538115749,2250.6786159399385,644.839416440328,1966.4577230670288,2049.512643868082,4835.414898357204,2721.3834700210423,1255.9562853807324,700.378535059854,2401.8684837457595,3566.0638617866757,613.7497740051326,3305.87682617038,680.5449059339131,5857.194192938711,1266.0988515772078,2487.461196810007,803.793154486488,890.2051398269102,1218.1622424267082,2225.3244928982917,661.6617962756582,8848.537947336365,1177.060910864905,27076.16039125008,1754.7634156090362,6789.805795398151,5339.563718947594,17026.226431483254,3557.142952987376,609.4663026775802,1728.446342178536,6564.980817048809,2329.696897362027,669.8357820072595,2044.363675867109,2119.793632044627,5031.5642585593105,2815.920229140684,1307.8751373440027,723.1696927886383,2485.4669849336733,3701.088044743854,634.3777337897056,3418.4128400906634,705.2548201594866,6062.564870019051,1343.8543760226048,2582.5384712049777,835.9726054760756,920.331725037566,1264.4874982251845,2306.9476035321463,690.6657297431257,9162.543851296108,1222.4845203497837,27989.413824141742,1815.54245096784,7033.789879228963,5522.896941867763],\"y0\":\" \",\"yaxis\":\"y\",\"type\":\"box\"}],                        {\"template\":{\"data\":{\"histogram2dcontour\":[{\"type\":\"histogram2dcontour\",\"colorbar\":{\"outlinewidth\":0,\"ticks\":\"\"},\"colorscale\":[[0.0,\"#0d0887\"],[0.1111111111111111,\"#46039f\"],[0.2222222222222222,\"#7201a8\"],[0.3333333333333333,\"#9c179e\"],[0.4444444444444444,\"#bd3786\"],[0.5555555555555556,\"#d8576b\"],[0.6666666666666666,\"#ed7953\"],[0.7777777777777778,\"#fb9f3a\"],[0.8888888888888888,\"#fdca26\"],[1.0,\"#f0f921\"]]}],\"choropleth\":[{\"type\":\"choropleth\",\"colorbar\":{\"outlinewidth\":0,\"ticks\":\"\"}}],\"histogram2d\":[{\"type\":\"histogram2d\",\"colorbar\":{\"outlinewidth\":0,\"ticks\":\"\"},\"colorscale\":[[0.0,\"#0d0887\"],[0.1111111111111111,\"#46039f\"],[0.2222222222222222,\"#7201a8\"],[0.3333333333333333,\"#9c179e\"],[0.4444444444444444,\"#bd3786\"],[0.5555555555555556,\"#d8576b\"],[0.6666666666666666,\"#ed7953\"],[0.7777777777777778,\"#fb9f3a\"],[0.8888888888888888,\"#fdca26\"],[1.0,\"#f0f921\"]]}],\"heatmap\":[{\"type\":\"heatmap\",\"colorbar\":{\"outlinewidth\":0,\"ticks\":\"\"},\"colorscale\":[[0.0,\"#0d0887\"],[0.1111111111111111,\"#46039f\"],[0.2222222222222222,\"#7201a8\"],[0.3333333333333333,\"#9c179e\"],[0.4444444444444444,\"#bd3786\"],[0.5555555555555556,\"#d8576b\"],[0.6666666666666666,\"#ed7953\"],[0.7777777777777778,\"#fb9f3a\"],[0.8888888888888888,\"#fdca26\"],[1.0,\"#f0f921\"]]}],\"heatmapgl\":[{\"type\":\"heatmapgl\",\"colorbar\":{\"outlinewidth\":0,\"ticks\":\"\"},\"colorscale\":[[0.0,\"#0d0887\"],[0.1111111111111111,\"#46039f\"],[0.2222222222222222,\"#7201a8\"],[0.3333333333333333,\"#9c179e\"],[0.4444444444444444,\"#bd3786\"],[0.5555555555555556,\"#d8576b\"],[0.6666666666666666,\"#ed7953\"],[0.7777777777777778,\"#fb9f3a\"],[0.8888888888888888,\"#fdca26\"],[1.0,\"#f0f921\"]]}],\"contourcarpet\":[{\"type\":\"contourcarpet\",\"colorbar\":{\"outlinewidth\":0,\"ticks\":\"\"}}],\"contour\":[{\"type\":\"contour\",\"colorbar\":{\"outlinewidth\":0,\"ticks\":\"\"},\"colorscale\":[[0.0,\"#0d0887\"],[0.1111111111111111,\"#46039f\"],[0.2222222222222222,\"#7201a8\"],[0.3333333333333333,\"#9c179e\"],[0.4444444444444444,\"#bd3786\"],[0.5555555555555556,\"#d8576b\"],[0.6666666666666666,\"#ed7953\"],[0.7777777777777778,\"#fb9f3a\"],[0.8888888888888888,\"#fdca26\"],[1.0,\"#f0f921\"]]}],\"surface\":[{\"type\":\"surface\",\"colorbar\":{\"outlinewidth\":0,\"ticks\":\"\"},\"colorscale\":[[0.0,\"#0d0887\"],[0.1111111111111111,\"#46039f\"],[0.2222222222222222,\"#7201a8\"],[0.3333333333333333,\"#9c179e\"],[0.4444444444444444,\"#bd3786\"],[0.5555555555555556,\"#d8576b\"],[0.6666666666666666,\"#ed7953\"],[0.7777777777777778,\"#fb9f3a\"],[0.8888888888888888,\"#fdca26\"],[1.0,\"#f0f921\"]]}],\"mesh3d\":[{\"type\":\"mesh3d\",\"colorbar\":{\"outlinewidth\":0,\"ticks\":\"\"}}],\"scatter\":[{\"fillpattern\":{\"fillmode\":\"overlay\",\"size\":10,\"solidity\":0.2},\"type\":\"scatter\"}],\"parcoords\":[{\"type\":\"parcoords\",\"line\":{\"colorbar\":{\"outlinewidth\":0,\"ticks\":\"\"}}}],\"scatterpolargl\":[{\"type\":\"scatterpolargl\",\"marker\":{\"colorbar\":{\"outlinewidth\":0,\"ticks\":\"\"}}}],\"bar\":[{\"error_x\":{\"color\":\"#2a3f5f\"},\"error_y\":{\"color\":\"#2a3f5f\"},\"marker\":{\"line\":{\"color\":\"#E5ECF6\",\"width\":0.5},\"pattern\":{\"fillmode\":\"overlay\",\"size\":10,\"solidity\":0.2}},\"type\":\"bar\"}],\"scattergeo\":[{\"type\":\"scattergeo\",\"marker\":{\"colorbar\":{\"outlinewidth\":0,\"ticks\":\"\"}}}],\"scatterpolar\":[{\"type\":\"scatterpolar\",\"marker\":{\"colorbar\":{\"outlinewidth\":0,\"ticks\":\"\"}}}],\"histogram\":[{\"marker\":{\"pattern\":{\"fillmode\":\"overlay\",\"size\":10,\"solidity\":0.2}},\"type\":\"histogram\"}],\"scattergl\":[{\"type\":\"scattergl\",\"marker\":{\"colorbar\":{\"outlinewidth\":0,\"ticks\":\"\"}}}],\"scatter3d\":[{\"type\":\"scatter3d\",\"line\":{\"colorbar\":{\"outlinewidth\":0,\"ticks\":\"\"}},\"marker\":{\"colorbar\":{\"outlinewidth\":0,\"ticks\":\"\"}}}],\"scattermapbox\":[{\"type\":\"scattermapbox\",\"marker\":{\"colorbar\":{\"outlinewidth\":0,\"ticks\":\"\"}}}],\"scatterternary\":[{\"type\":\"scatterternary\",\"marker\":{\"colorbar\":{\"outlinewidth\":0,\"ticks\":\"\"}}}],\"scattercarpet\":[{\"type\":\"scattercarpet\",\"marker\":{\"colorbar\":{\"outlinewidth\":0,\"ticks\":\"\"}}}],\"carpet\":[{\"aaxis\":{\"endlinecolor\":\"#2a3f5f\",\"gridcolor\":\"white\",\"linecolor\":\"white\",\"minorgridcolor\":\"white\",\"startlinecolor\":\"#2a3f5f\"},\"baxis\":{\"endlinecolor\":\"#2a3f5f\",\"gridcolor\":\"white\",\"linecolor\":\"white\",\"minorgridcolor\":\"white\",\"startlinecolor\":\"#2a3f5f\"},\"type\":\"carpet\"}],\"table\":[{\"cells\":{\"fill\":{\"color\":\"#EBF0F8\"},\"line\":{\"color\":\"white\"}},\"header\":{\"fill\":{\"color\":\"#C8D4E3\"},\"line\":{\"color\":\"white\"}},\"type\":\"table\"}],\"barpolar\":[{\"marker\":{\"line\":{\"color\":\"#E5ECF6\",\"width\":0.5},\"pattern\":{\"fillmode\":\"overlay\",\"size\":10,\"solidity\":0.2}},\"type\":\"barpolar\"}],\"pie\":[{\"automargin\":true,\"type\":\"pie\"}]},\"layout\":{\"autotypenumbers\":\"strict\",\"colorway\":[\"#636efa\",\"#EF553B\",\"#00cc96\",\"#ab63fa\",\"#FFA15A\",\"#19d3f3\",\"#FF6692\",\"#B6E880\",\"#FF97FF\",\"#FECB52\"],\"font\":{\"color\":\"#2a3f5f\"},\"hovermode\":\"closest\",\"hoverlabel\":{\"align\":\"left\"},\"paper_bgcolor\":\"white\",\"plot_bgcolor\":\"#E5ECF6\",\"polar\":{\"bgcolor\":\"#E5ECF6\",\"angularaxis\":{\"gridcolor\":\"white\",\"linecolor\":\"white\",\"ticks\":\"\"},\"radialaxis\":{\"gridcolor\":\"white\",\"linecolor\":\"white\",\"ticks\":\"\"}},\"ternary\":{\"bgcolor\":\"#E5ECF6\",\"aaxis\":{\"gridcolor\":\"white\",\"linecolor\":\"white\",\"ticks\":\"\"},\"baxis\":{\"gridcolor\":\"white\",\"linecolor\":\"white\",\"ticks\":\"\"},\"caxis\":{\"gridcolor\":\"white\",\"linecolor\":\"white\",\"ticks\":\"\"}},\"coloraxis\":{\"colorbar\":{\"outlinewidth\":0,\"ticks\":\"\"}},\"colorscale\":{\"sequential\":[[0.0,\"#0d0887\"],[0.1111111111111111,\"#46039f\"],[0.2222222222222222,\"#7201a8\"],[0.3333333333333333,\"#9c179e\"],[0.4444444444444444,\"#bd3786\"],[0.5555555555555556,\"#d8576b\"],[0.6666666666666666,\"#ed7953\"],[0.7777777777777778,\"#fb9f3a\"],[0.8888888888888888,\"#fdca26\"],[1.0,\"#f0f921\"]],\"sequentialminus\":[[0.0,\"#0d0887\"],[0.1111111111111111,\"#46039f\"],[0.2222222222222222,\"#7201a8\"],[0.3333333333333333,\"#9c179e\"],[0.4444444444444444,\"#bd3786\"],[0.5555555555555556,\"#d8576b\"],[0.6666666666666666,\"#ed7953\"],[0.7777777777777778,\"#fb9f3a\"],[0.8888888888888888,\"#fdca26\"],[1.0,\"#f0f921\"]],\"diverging\":[[0,\"#8e0152\"],[0.1,\"#c51b7d\"],[0.2,\"#de77ae\"],[0.3,\"#f1b6da\"],[0.4,\"#fde0ef\"],[0.5,\"#f7f7f7\"],[0.6,\"#e6f5d0\"],[0.7,\"#b8e186\"],[0.8,\"#7fbc41\"],[0.9,\"#4d9221\"],[1,\"#276419\"]]},\"xaxis\":{\"gridcolor\":\"white\",\"linecolor\":\"white\",\"ticks\":\"\",\"title\":{\"standoff\":15},\"zerolinecolor\":\"white\",\"automargin\":true,\"zerolinewidth\":2},\"yaxis\":{\"gridcolor\":\"white\",\"linecolor\":\"white\",\"ticks\":\"\",\"title\":{\"standoff\":15},\"zerolinecolor\":\"white\",\"automargin\":true,\"zerolinewidth\":2},\"scene\":{\"xaxis\":{\"backgroundcolor\":\"#E5ECF6\",\"gridcolor\":\"white\",\"linecolor\":\"white\",\"showbackground\":true,\"ticks\":\"\",\"zerolinecolor\":\"white\",\"gridwidth\":2},\"yaxis\":{\"backgroundcolor\":\"#E5ECF6\",\"gridcolor\":\"white\",\"linecolor\":\"white\",\"showbackground\":true,\"ticks\":\"\",\"zerolinecolor\":\"white\",\"gridwidth\":2},\"zaxis\":{\"backgroundcolor\":\"#E5ECF6\",\"gridcolor\":\"white\",\"linecolor\":\"white\",\"showbackground\":true,\"ticks\":\"\",\"zerolinecolor\":\"white\",\"gridwidth\":2}},\"shapedefaults\":{\"line\":{\"color\":\"#2a3f5f\"}},\"annotationdefaults\":{\"arrowcolor\":\"#2a3f5f\",\"arrowhead\":0,\"arrowwidth\":1},\"geo\":{\"bgcolor\":\"white\",\"landcolor\":\"#E5ECF6\",\"subunitcolor\":\"white\",\"showland\":true,\"showlakes\":true,\"lakecolor\":\"white\"},\"title\":{\"x\":0.05},\"mapbox\":{\"style\":\"light\"}}},\"xaxis\":{\"anchor\":\"y\",\"domain\":[0.0,1.0],\"title\":{\"text\":\"shapeName\"},\"categoryorder\":\"total descending\"},\"yaxis\":{\"anchor\":\"x\",\"domain\":[0.0,1.0],\"title\":{\"text\":\"total_sol\"}},\"legend\":{\"tracegroupgap\":0},\"margin\":{\"t\":60},\"boxmode\":\"group\"},                        {\"responsive\": true}                    ).then(function(){\n",
       "                            \n",
       "var gd = document.getElementById('5e1200c4-7a54-473f-a736-5e31f203e39d');\n",
       "var x = new MutationObserver(function (mutations, observer) {{\n",
       "        var display = window.getComputedStyle(gd).display;\n",
       "        if (!display || display === 'none') {{\n",
       "            console.log([gd, 'removed!']);\n",
       "            Plotly.purge(gd);\n",
       "            observer.disconnect();\n",
       "        }}\n",
       "}});\n",
       "\n",
       "// Listen for the removal of the full notebook cells\n",
       "var notebookContainer = gd.closest('#notebook-container');\n",
       "if (notebookContainer) {{\n",
       "    x.observe(notebookContainer, {childList: true});\n",
       "}}\n",
       "\n",
       "// Listen for the clearing of the current output cell\n",
       "var outputEl = gd.closest('.output');\n",
       "if (outputEl) {{\n",
       "    x.observe(outputEl, {childList: true});\n",
       "}}\n",
       "\n",
       "                        })                };                });            </script>        </div>"
      ]
     },
     "metadata": {},
     "output_type": "display_data"
    }
   ],
   "source": [
    "fig = px.box(egdp_sum, x = \"shapeName\", y = \"total_sol\")\n",
    "fig.update_xaxes(categoryorder='total descending')\n",
    "fig.show()"
   ]
  },
  {
   "cell_type": "code",
   "execution_count": 10,
   "id": "46cdc0dd-b9b8-4809-acac-f46256d086be",
   "metadata": {},
   "outputs": [],
   "source": [
    "egdp_wide = egdp_sum.pivot(index = [\"id\", \"shapeName\"], columns = \"year\", values = \"total_sol\")"
   ]
  },
  {
   "cell_type": "code",
   "execution_count": 11,
   "id": "13b1ba47-4924-4f56-93ee-193ab46f06dd",
   "metadata": {},
   "outputs": [],
   "source": [
    "egdp_wide = egdp_wide.loc[:, (egdp_wide.columns > 1999) & (egdp_wide.columns < 2017)]"
   ]
  },
  {
   "cell_type": "code",
   "execution_count": 12,
   "id": "2210bf3d-c032-4cdc-af72-9e44b85c3b96",
   "metadata": {},
   "outputs": [],
   "source": [
    "egdp_wide = egdp_wide.add_prefix(\"egdp\")"
   ]
  },
  {
   "cell_type": "code",
   "execution_count": 13,
   "id": "a0e60a4c-60e7-4e8f-9f64-7550f4c9faf2",
   "metadata": {},
   "outputs": [
    {
     "data": {
      "text/plain": [
       "Index(['egdp2000', 'egdp2001', 'egdp2002', 'egdp2003', 'egdp2004', 'egdp2005',\n",
       "       'egdp2006', 'egdp2007', 'egdp2008', 'egdp2009', 'egdp2010', 'egdp2011',\n",
       "       'egdp2012', 'egdp2013', 'egdp2014', 'egdp2015', 'egdp2016'],\n",
       "      dtype='object', name='year')"
      ]
     },
     "execution_count": 13,
     "metadata": {},
     "output_type": "execute_result"
    }
   ],
   "source": [
    "egdp_wide.columns"
   ]
  },
  {
   "cell_type": "code",
   "execution_count": 14,
   "id": "fab1e1bc-d10f-4fe6-89c5-9332928595ec",
   "metadata": {},
   "outputs": [],
   "source": [
    "egdp_wide.to_csv(\"egdp_sum_wide_00-16.csv\")"
   ]
  },
  {
   "cell_type": "code",
   "execution_count": 15,
   "id": "8817d598-fc93-408c-8b7c-999c9ff8a6da",
   "metadata": {},
   "outputs": [],
   "source": [
    "#ntl_wide_reset = ntl_wide.reset_index()  # Reset the index\n",
    "#ntl_00and16 = ntl_wide_reset[[2000, 2016, \"id\"]]  # Select columns including \"id\""
   ]
  },
  {
   "cell_type": "code",
   "execution_count": null,
   "id": "c9a8c4e9-7ac0-43dc-b56b-781cb415075a",
   "metadata": {},
   "outputs": [],
   "source": []
  },
  {
   "cell_type": "code",
   "execution_count": 16,
   "id": "60922b7b-6cef-4f05-94a0-fd2778f81674",
   "metadata": {},
   "outputs": [],
   "source": [
    "#ntl_00and16.to_csv('2000and2016.csv', index=False)"
   ]
  },
  {
   "cell_type": "code",
   "execution_count": null,
   "id": "270cf84c-4ecf-4b9e-ae60-98431cedbbdd",
   "metadata": {},
   "outputs": [],
   "source": []
  },
  {
   "cell_type": "code",
   "execution_count": null,
   "id": "8d3c12aa-9c6c-4c70-b9af-726638d06418",
   "metadata": {},
   "outputs": [],
   "source": []
  }
 ],
 "metadata": {
  "kernelspec": {
   "display_name": "Python 3 (ipykernel)",
   "language": "python",
   "name": "python3"
  },
  "language_info": {
   "codemirror_mode": {
    "name": "ipython",
    "version": 3
   },
   "file_extension": ".py",
   "mimetype": "text/x-python",
   "name": "python",
   "nbconvert_exporter": "python",
   "pygments_lexer": "ipython3",
   "version": "3.12.0"
  }
 },
 "nbformat": 4,
 "nbformat_minor": 5
}
