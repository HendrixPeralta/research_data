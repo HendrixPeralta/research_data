{
 "cells": [
  {
   "cell_type": "code",
   "execution_count": 1,
   "id": "6d9dbe32-2ab3-44e9-acfc-2e72cae22b00",
   "metadata": {},
   "outputs": [],
   "source": [
    "import pandas as pd"
   ]
  },
  {
   "cell_type": "code",
   "execution_count": 2,
   "id": "cc36f765-123d-4a7f-9086-09d9cd21f062",
   "metadata": {},
   "outputs": [],
   "source": [
    "import numpy as np"
   ]
  },
  {
   "cell_type": "code",
   "execution_count": 7,
   "id": "3a87ee01-c2bc-480c-b4d7-f3be558e5751",
   "metadata": {},
   "outputs": [],
   "source": [
    "loc = pd.read_csv(\"sez_data/sez_location/all_years_sez/clean_id_loc_year_type.csv\", \n",
    "                  encoding='cp1252')"
   ]
  },
  {
   "cell_type": "code",
   "execution_count": 8,
   "id": "6d83629f-7b28-4d1d-8157-a094eaa22a1e",
   "metadata": {},
   "outputs": [],
   "source": [
    "inv = pd.read_csv(\"sez_data/sez_investment/inv00-19.csv\", \n",
    "                  encoding='cp1252')"
   ]
  },
  {
   "cell_type": "code",
   "execution_count": 9,
   "id": "c2007ca6-6ae2-4a23-b4d3-367eeee3bcb5",
   "metadata": {},
   "outputs": [],
   "source": [
    "empf = pd.read_csv(\"sez_data/sez_employment/emp_agg_f.csv\", \n",
    "                  encoding='cp1252')"
   ]
  },
  {
   "cell_type": "code",
   "execution_count": 10,
   "id": "6f831f5f-ae0d-4b02-84e7-93a59b28e300",
   "metadata": {},
   "outputs": [],
   "source": [
    "empm = pd.read_csv(\"sez_data/sez_employment/emp_agg_m.csv\", \n",
    "                  encoding='cp1252')"
   ]
  },
  {
   "cell_type": "code",
   "execution_count": 7,
   "id": "c658cd8d-5fbf-4017-89de-418ae54c571e",
   "metadata": {},
   "outputs": [],
   "source": [
    "#emp_total = pd.read_csv(\"/Users/hendrixperalta/Desktop/Research Data Manipulation/research_data/sez_employment/emp_agg_total.csv\", \n",
    "#                  encoding='cp1252')"
   ]
  },
  {
   "cell_type": "code",
   "execution_count": 11,
   "id": "f09b727b-c074-46d8-8d47-b4faff09100e",
   "metadata": {},
   "outputs": [],
   "source": [
    "ent = pd.read_csv(\"sez_data/sez_enterprises/ent99_19.csv\", \n",
    "                  encoding='cp1252')"
   ]
  },
  {
   "cell_type": "code",
   "execution_count": 12,
   "id": "1ac8d81a-8b46-4e68-9d76-29000f7bd349",
   "metadata": {},
   "outputs": [],
   "source": [
    "exp_ele = pd.read_csv(\"sez_data/sez_expenses/ele_exp00_19.csv\", \n",
    "                  encoding='cp1252')"
   ]
  },
  {
   "cell_type": "code",
   "execution_count": 13,
   "id": "566e2996-ba1c-4ce7-af7d-0dd117c91c8b",
   "metadata": {},
   "outputs": [],
   "source": [
    "exp_com = pd.read_csv(\"sez_data/sez_expenses/com_exp00_19.csv\", \n",
    "                  encoding='cp1252')"
   ]
  },
  {
   "cell_type": "code",
   "execution_count": 14,
   "id": "845e9981-a3b6-4bdb-b61e-b377deb0b5fe",
   "metadata": {},
   "outputs": [],
   "source": [
    "exp_inf = pd.read_csv(\"sez_data/sez_expenses/infotep_exp00_19.csv\", \n",
    "                  encoding='cp1252')"
   ]
  },
  {
   "cell_type": "code",
   "execution_count": 15,
   "id": "e30a7c3a-8faf-4d15-b5e7-7b0f5569f468",
   "metadata": {},
   "outputs": [],
   "source": [
    "exp_wat = pd.read_csv(\"sez_data/sez_expenses/water_exp00_19.csv\", \n",
    "                  encoding='cp1252')"
   ]
  },
  {
   "cell_type": "code",
   "execution_count": 16,
   "id": "bc6353f4-0865-4afd-a6be-54df077437a3",
   "metadata": {},
   "outputs": [],
   "source": [
    "exp_tss = pd.read_csv(\"sez_data/sez_expenses/tss_exp00_19.csv\", \n",
    "                  encoding='cp1252')"
   ]
  },
  {
   "cell_type": "code",
   "execution_count": 17,
   "id": "bb824cfe-eebf-4045-b10c-acdff912e9c3",
   "metadata": {},
   "outputs": [],
   "source": [
    "nav = pd.read_csv(\"sez_data/sez_naves/nav_agg_00_16.csv\", \n",
    "                  encoding='cp1252')"
   ]
  },
  {
   "cell_type": "code",
   "execution_count": 18,
   "id": "6440973d-40be-4c50-8d36-52185707b12b",
   "metadata": {},
   "outputs": [],
   "source": [
    "op = pd.read_csv(\"sez_data/sez_salary/sal_op_00_16.csv\", \n",
    "                  encoding='cp1252')"
   ]
  },
  {
   "cell_type": "code",
   "execution_count": 19,
   "id": "4993d5a2-1284-4080-8fda-75e255f3d5b7",
   "metadata": {},
   "outputs": [],
   "source": [
    "tec = pd.read_csv(\"sez_data/sez_salary/sal_tec_00_16.csv\", \n",
    "                  encoding='cp1252')"
   ]
  },
  {
   "cell_type": "code",
   "execution_count": 17,
   "id": "0b7fda2e-f212-4263-9fc9-72f2f5b6649e",
   "metadata": {},
   "outputs": [],
   "source": [
    "def f(df):\n",
    "    #df.drop(df.columns.str.contains(\"par\"), inplace = True)\n",
    "    return df.drop(columns=df.columns[df.columns.str.contains(\"par\")])"
   ]
  },
  {
   "cell_type": "code",
   "execution_count": 18,
   "id": "f1093bce-b3fe-4ea3-8d36-4f03cc35122e",
   "metadata": {},
   "outputs": [],
   "source": [
    "#databases = [empf, empm, emp_total, ent, exp_ele, exp_com, exp_inf, exp_wat, exp_tss, nav, op, tec]\n",
    "databases = [empf, empm, ent, exp_ele, exp_com, exp_inf, exp_wat, exp_tss, nav, op, tec]"
   ]
  },
  {
   "cell_type": "code",
   "execution_count": 19,
   "id": "6693099f-2564-46ca-9574-bfbd68e319ed",
   "metadata": {},
   "outputs": [],
   "source": [
    "sez = pd.merge(loc, f(inv), on=\"code\", how=\"outer\")"
   ]
  },
  {
   "cell_type": "code",
   "execution_count": 20,
   "id": "6478a3c3-ee10-4ca5-b6f1-9732f59282c5",
   "metadata": {},
   "outputs": [],
   "source": [
    "for database in databases: \n",
    "    sez = pd.merge(sez, f(database), on=\"code\", how=\"outer\")"
   ]
  },
  {
   "cell_type": "code",
   "execution_count": 21,
   "id": "35c64a38-9b46-44df-99fd-6d9b61ddd966",
   "metadata": {},
   "outputs": [],
   "source": [
    "sez = sez[sez[\"code\"] != \"DOM-ZFE\"]"
   ]
  },
  {
   "cell_type": "code",
   "execution_count": 22,
   "id": "7e9fa6c0-9522-44c2-baa7-f8d2c69cc56e",
   "metadata": {},
   "outputs": [],
   "source": [
    "sez.fillna(0, inplace=True)"
   ]
  },
  {
   "cell_type": "code",
   "execution_count": 23,
   "id": "c69f56ba-5800-490e-9fe5-be5da124814f",
   "metadata": {},
   "outputs": [],
   "source": [
    "#Puts full year on the columns names \n",
    "def rename_columns(df):\n",
    "    new_columns = []\n",
    "    for col in df.columns:\n",
    "        if col[-2:].isdigit() and not col[-4:].isdigit():\n",
    "            new_columns.append(col[:-2] + \"20\" + col[-2:])  \n",
    "        else:\n",
    "            new_columns.append(col)\n",
    "    df.columns = new_columns\n",
    "    return df"
   ]
  },
  {
   "cell_type": "code",
   "execution_count": 24,
   "id": "07c23f49-f4a3-4c21-b3fe-fd6c147e3105",
   "metadata": {},
   "outputs": [],
   "source": [
    "sez = rename_columns(sez)"
   ]
  },
  {
   "cell_type": "code",
   "execution_count": 25,
   "id": "e7fc12a1-e7bc-4b2c-822f-34d6766fc23e",
   "metadata": {},
   "outputs": [],
   "source": [
    "sez.rename(columns = {\"ent2099\": \"ent1999\"}, inplace = True)"
   ]
  },
  {
   "cell_type": "code",
   "execution_count": 26,
   "id": "6e789b82-6513-4cf7-8de8-0ebfd1452aee",
   "metadata": {},
   "outputs": [],
   "source": [
    "filter_year = [\"2017\", \"2018\", \"2018\", \"2019\", \"2020\", \"2021\", \"2022\", \"1999\"]\n",
    "\n",
    "pattern = \"|\".join(filter_year)\n",
    "sez_filtered = sez.drop(columns = sez.columns[sez.columns.str.contains(pattern)])\n",
    "    "
   ]
  },
  {
   "cell_type": "code",
   "execution_count": 28,
   "id": "4fcb96de-db60-4d7c-88ea-bf43b83619ff",
   "metadata": {},
   "outputs": [],
   "source": [
    "sez_filtered.to_csv(\"sez_aggregated.csv\", index=False)"
   ]
  }
 ],
 "metadata": {
  "kernelspec": {
   "display_name": "spatial-analysis",
   "language": "python",
   "name": "python3"
  },
  "language_info": {
   "codemirror_mode": {
    "name": "ipython",
    "version": 3
   },
   "file_extension": ".py",
   "mimetype": "text/x-python",
   "name": "python",
   "nbconvert_exporter": "python",
   "pygments_lexer": "ipython3",
   "version": "3.13.3"
  }
 },
 "nbformat": 4,
 "nbformat_minor": 5
}
